{
 "cells": [
  {
   "cell_type": "markdown",
   "metadata": {},
   "source": [
    "# Исследование объявлений о продаже квартир\n",
    "\n",
    "В качестве данных для исследования выступают данные сервиса Яндекс.Недвижимость — архив объявлений о продаже квартир в Санкт-Петербурге и соседних населённых пунктов за несколько лет. Необходимо определить рыночную стоимость объектов недвижимости и  установить параметры. Это позволит построить автоматизированную систему: она отследит аномалии и мошенническую деятельность. \n",
    "\n",
    "По каждой квартире на продажу доступны два вида данных. Первые вписаны пользователем, вторые — получены автоматически на основе картографических данных. Например, расстояние до центра, аэропорта, ближайшего парка и водоёма. \n",
    "\n",
    "**Цель исследования**\n",
    "\n",
    "1. Определить рыночную стоимость объектов недвижимости\n",
    "2. Создать автоматизированную систему, которая отследит аномалии и мошенническую деятельность\n",
    "3. Выявить факторы, влияющие на ценообразование стоимости квартир\n",
    "\n",
    "\n",
    "Для достижения целей исследования необходимо выполнить следующие этапы:\n",
    "1. Обзор данных\n",
    "2. Предобработка данных\n",
    "3. Расчеты и добавление их результатов в таблицу\n",
    "4. Исследовательский анализ данных\n",
    "6. Общий вывод"
   ]
  },
  {
   "cell_type": "markdown",
   "metadata": {},
   "source": [
    "### 1. Обзор данных"
   ]
  },
  {
   "cell_type": "code",
   "execution_count": 1,
   "metadata": {},
   "outputs": [
    {
     "name": "stdout",
     "output_type": "stream",
     "text": [
      "<class 'pandas.core.frame.DataFrame'>\n",
      "RangeIndex: 23699 entries, 0 to 23698\n",
      "Data columns (total 22 columns):\n",
      " #   Column                Non-Null Count  Dtype  \n",
      "---  ------                --------------  -----  \n",
      " 0   total_images          23699 non-null  int64  \n",
      " 1   last_price            23699 non-null  float64\n",
      " 2   total_area            23699 non-null  float64\n",
      " 3   first_day_exposition  23699 non-null  object \n",
      " 4   rooms                 23699 non-null  int64  \n",
      " 5   ceiling_height        14504 non-null  float64\n",
      " 6   floors_total          23613 non-null  float64\n",
      " 7   living_area           21796 non-null  float64\n",
      " 8   floor                 23699 non-null  int64  \n",
      " 9   is_apartment          2775 non-null   object \n",
      " 10  studio                23699 non-null  bool   \n",
      " 11  open_plan             23699 non-null  bool   \n",
      " 12  kitchen_area          21421 non-null  float64\n",
      " 13  balcony               12180 non-null  float64\n",
      " 14  locality_name         23650 non-null  object \n",
      " 15  airports_nearest      18157 non-null  float64\n",
      " 16  cityCenters_nearest   18180 non-null  float64\n",
      " 17  parks_around3000      18181 non-null  float64\n",
      " 18  parks_nearest         8079 non-null   float64\n",
      " 19  ponds_around3000      18181 non-null  float64\n",
      " 20  ponds_nearest         9110 non-null   float64\n",
      " 21  days_exposition       20518 non-null  float64\n",
      "dtypes: bool(2), float64(14), int64(3), object(3)\n",
      "memory usage: 3.7+ MB\n",
      "None\n"
     ]
    }
   ],
   "source": [
    "import pandas as pd   # импортируем библиотеки\n",
    "import matplotlib.pyplot as plt \n",
    "\n",
    "data = pd.read_csv('/datasets/real_estate_data.csv', sep='\\t')  # импортируем базу недвижимости, в качестве разделителя - табуляция\n",
    "\n",
    "print(data.info())  # запрашиваем общую информацию о базе"
   ]
  },
  {
   "cell_type": "code",
   "execution_count": 2,
   "metadata": {},
   "outputs": [
    {
     "name": "stdout",
     "output_type": "stream",
     "text": [
      "   total_images  last_price  total_area first_day_exposition  rooms  \\\n",
      "0            20  13000000.0       108.0  2019-03-07T00:00:00      3   \n",
      "1             7   3350000.0        40.4  2018-12-04T00:00:00      1   \n",
      "2            10   5196000.0        56.0  2015-08-20T00:00:00      2   \n",
      "3             0  64900000.0       159.0  2015-07-24T00:00:00      3   \n",
      "4             2  10000000.0       100.0  2018-06-19T00:00:00      2   \n",
      "\n",
      "   ceiling_height  floors_total  living_area  floor is_apartment  ...  \\\n",
      "0            2.70          16.0         51.0      8          NaN  ...   \n",
      "1             NaN          11.0         18.6      1          NaN  ...   \n",
      "2             NaN           5.0         34.3      4          NaN  ...   \n",
      "3             NaN          14.0          NaN      9          NaN  ...   \n",
      "4            3.03          14.0         32.0     13          NaN  ...   \n",
      "\n",
      "   kitchen_area  balcony    locality_name  airports_nearest  \\\n",
      "0          25.0      NaN  Санкт-Петербург           18863.0   \n",
      "1          11.0      2.0   посёлок Шушары           12817.0   \n",
      "2           8.3      0.0  Санкт-Петербург           21741.0   \n",
      "3           NaN      0.0  Санкт-Петербург           28098.0   \n",
      "4          41.0      NaN  Санкт-Петербург           31856.0   \n",
      "\n",
      "  cityCenters_nearest  parks_around3000  parks_nearest  ponds_around3000  \\\n",
      "0             16028.0               1.0          482.0               2.0   \n",
      "1             18603.0               0.0            NaN               0.0   \n",
      "2             13933.0               1.0           90.0               2.0   \n",
      "3              6800.0               2.0           84.0               3.0   \n",
      "4              8098.0               2.0          112.0               1.0   \n",
      "\n",
      "   ponds_nearest  days_exposition  \n",
      "0          755.0              NaN  \n",
      "1            NaN             81.0  \n",
      "2          574.0            558.0  \n",
      "3          234.0            424.0  \n",
      "4           48.0            121.0  \n",
      "\n",
      "[5 rows x 22 columns]\n"
     ]
    }
   ],
   "source": [
    "print(data.head())  # смотрим первые 5 строчек"
   ]
  },
  {
   "cell_type": "code",
   "execution_count": 3,
   "metadata": {
    "scrolled": true
   },
   "outputs": [
    {
     "data": {
      "image/png": "[encoded data removed]",
      "text/plain": [
       "<Figure size 1080x1440 with 20 Axes>"
      ]
     },
     "metadata": {
      "needs_background": "light"
     },
     "output_type": "display_data"
    }
   ],
   "source": [
    "data.hist(figsize=(15, 20))  # строим гистограммы для столбцов с числовыми значениями\n",
    "plt.show()"
   ]
  },
  {
   "cell_type": "markdown",
   "metadata": {},
   "source": [
    "Обзор данных показал наличие пропущенных значений в базе, несоответствие типов данных "
   ]
  },
  {
   "cell_type": "markdown",
   "metadata": {},
   "source": [
    "### 2. Предобработка данных"
   ]
  },
  {
   "cell_type": "markdown",
   "metadata": {},
   "source": [
    "#### 2.1. Обработка пропущенных значений"
   ]
  },
  {
   "cell_type": "code",
   "execution_count": 4,
   "metadata": {},
   "outputs": [
    {
     "data": {
      "text/plain": [
       "total_images                0\n",
       "last_price                  0\n",
       "total_area                  0\n",
       "first_day_exposition        0\n",
       "rooms                       0\n",
       "ceiling_height           9195\n",
       "floors_total               86\n",
       "living_area              1903\n",
       "floor                       0\n",
       "is_apartment            20924\n",
       "studio                      0\n",
       "open_plan                   0\n",
       "kitchen_area             2278\n",
       "balcony                 11519\n",
       "locality_name              49\n",
       "airports_nearest         5542\n",
       "cityCenters_nearest      5519\n",
       "parks_around3000         5518\n",
       "parks_nearest           15620\n",
       "ponds_around3000         5518\n",
       "ponds_nearest           14589\n",
       "days_exposition          3181\n",
       "dtype: int64"
      ]
     },
     "execution_count": 4,
     "metadata": {},
     "output_type": "execute_result"
    }
   ],
   "source": [
    "data.isna().sum()  # смотрим сколько всего пропусков в базе"
   ]
  },
  {
   "cell_type": "markdown",
   "metadata": {},
   "source": [
    "Анализ базы показал что в 14 столбцах из 22 наблюдаются пропуски. \n",
    "Часть из них относится к техническим характеристикам квартиры/дома (ceiling_height, kitchen_area,living_area, is_apartment, balcony, floors_total), часть - к характеристикам района/географической удаленности квартиры/дома (airports_nearest, cityCenters_nearest, parks_around, parks_nearest, ponds_around, ponds_nearest, locality_name).\n",
    "Встречаются также и 3181 пропуск в колонке days_exposition - сколько дней было размещено объявление. \n",
    "Отсутствие данных в этом столбце означает что на момент выгрузки архива оно еще выставлялось - эти данные не меняем.\n",
    "\n",
    "Заполняем пропущенные значения там, где это возможно, особое внимание уделяем первой группе характеристик, т.к. они являются ключевыми в базе недвижимости.\n",
    "\n",
    "Заполняем поля 'balcony', 'is_apartment' - пропущенные значения тут принимаем за \"0\" в балконах (нет информации - нет балкона), в апартаментах - за значение \"False' - не является апартаментом.\n",
    "Переходим к этажности объектов."
   ]
  },
  {
   "cell_type": "code",
   "execution_count": 5,
   "metadata": {},
   "outputs": [
    {
     "data": {
      "text/html": [
       "<div>\n",
       "<style scoped>\n",
       "    .dataframe tbody tr th:only-of-type {\n",
       "        vertical-align: middle;\n",
       "    }\n",
       "\n",
       "    .dataframe tbody tr th {\n",
       "        vertical-align: top;\n",
       "    }\n",
       "\n",
       "    .dataframe thead th {\n",
       "        text-align: right;\n",
       "    }\n",
       "</style>\n",
       "<table border=\"1\" class=\"dataframe\">\n",
       "  <thead>\n",
       "    <tr style=\"text-align: right;\">\n",
       "      <th></th>\n",
       "      <th>total_images</th>\n",
       "      <th>last_price</th>\n",
       "      <th>total_area</th>\n",
       "      <th>first_day_exposition</th>\n",
       "      <th>rooms</th>\n",
       "      <th>ceiling_height</th>\n",
       "      <th>floors_total</th>\n",
       "      <th>living_area</th>\n",
       "      <th>floor</th>\n",
       "      <th>is_apartment</th>\n",
       "      <th>...</th>\n",
       "      <th>kitchen_area</th>\n",
       "      <th>balcony</th>\n",
       "      <th>locality_name</th>\n",
       "      <th>airports_nearest</th>\n",
       "      <th>cityCenters_nearest</th>\n",
       "      <th>parks_around3000</th>\n",
       "      <th>parks_nearest</th>\n",
       "      <th>ponds_around3000</th>\n",
       "      <th>ponds_nearest</th>\n",
       "      <th>days_exposition</th>\n",
       "    </tr>\n",
       "  </thead>\n",
       "  <tbody>\n",
       "    <tr>\n",
       "      <th>186</th>\n",
       "      <td>12</td>\n",
       "      <td>11640000.0</td>\n",
       "      <td>65.2</td>\n",
       "      <td>2018-10-02T00:00:00</td>\n",
       "      <td>2</td>\n",
       "      <td>NaN</td>\n",
       "      <td>NaN</td>\n",
       "      <td>30.80</td>\n",
       "      <td>4</td>\n",
       "      <td>False</td>\n",
       "      <td>...</td>\n",
       "      <td>12.00</td>\n",
       "      <td>0.0</td>\n",
       "      <td>Санкт-Петербург</td>\n",
       "      <td>39197.0</td>\n",
       "      <td>12373.0</td>\n",
       "      <td>1.0</td>\n",
       "      <td>123.0</td>\n",
       "      <td>0.0</td>\n",
       "      <td>NaN</td>\n",
       "      <td>49.0</td>\n",
       "    </tr>\n",
       "    <tr>\n",
       "      <th>237</th>\n",
       "      <td>4</td>\n",
       "      <td>2438033.0</td>\n",
       "      <td>28.1</td>\n",
       "      <td>2016-11-23T00:00:00</td>\n",
       "      <td>1</td>\n",
       "      <td>NaN</td>\n",
       "      <td>NaN</td>\n",
       "      <td>20.75</td>\n",
       "      <td>1</td>\n",
       "      <td>False</td>\n",
       "      <td>...</td>\n",
       "      <td>NaN</td>\n",
       "      <td>0.0</td>\n",
       "      <td>Санкт-Петербург</td>\n",
       "      <td>22041.0</td>\n",
       "      <td>17369.0</td>\n",
       "      <td>0.0</td>\n",
       "      <td>NaN</td>\n",
       "      <td>1.0</td>\n",
       "      <td>374.0</td>\n",
       "      <td>251.0</td>\n",
       "    </tr>\n",
       "    <tr>\n",
       "      <th>457</th>\n",
       "      <td>4</td>\n",
       "      <td>9788348.0</td>\n",
       "      <td>70.8</td>\n",
       "      <td>2015-08-01T00:00:00</td>\n",
       "      <td>2</td>\n",
       "      <td>NaN</td>\n",
       "      <td>NaN</td>\n",
       "      <td>38.40</td>\n",
       "      <td>12</td>\n",
       "      <td>False</td>\n",
       "      <td>...</td>\n",
       "      <td>10.63</td>\n",
       "      <td>0.0</td>\n",
       "      <td>Санкт-Петербург</td>\n",
       "      <td>37364.0</td>\n",
       "      <td>8322.0</td>\n",
       "      <td>2.0</td>\n",
       "      <td>309.0</td>\n",
       "      <td>2.0</td>\n",
       "      <td>706.0</td>\n",
       "      <td>727.0</td>\n",
       "    </tr>\n",
       "    <tr>\n",
       "      <th>671</th>\n",
       "      <td>4</td>\n",
       "      <td>6051191.0</td>\n",
       "      <td>93.6</td>\n",
       "      <td>2017-04-06T00:00:00</td>\n",
       "      <td>3</td>\n",
       "      <td>NaN</td>\n",
       "      <td>NaN</td>\n",
       "      <td>47.10</td>\n",
       "      <td>8</td>\n",
       "      <td>False</td>\n",
       "      <td>...</td>\n",
       "      <td>16.80</td>\n",
       "      <td>0.0</td>\n",
       "      <td>Санкт-Петербург</td>\n",
       "      <td>22041.0</td>\n",
       "      <td>17369.0</td>\n",
       "      <td>0.0</td>\n",
       "      <td>NaN</td>\n",
       "      <td>1.0</td>\n",
       "      <td>374.0</td>\n",
       "      <td>123.0</td>\n",
       "    </tr>\n",
       "    <tr>\n",
       "      <th>1757</th>\n",
       "      <td>5</td>\n",
       "      <td>3600000.0</td>\n",
       "      <td>39.0</td>\n",
       "      <td>2017-04-22T00:00:00</td>\n",
       "      <td>1</td>\n",
       "      <td>NaN</td>\n",
       "      <td>NaN</td>\n",
       "      <td>NaN</td>\n",
       "      <td>9</td>\n",
       "      <td>False</td>\n",
       "      <td>...</td>\n",
       "      <td>NaN</td>\n",
       "      <td>0.0</td>\n",
       "      <td>Санкт-Петербург</td>\n",
       "      <td>22735.0</td>\n",
       "      <td>11618.0</td>\n",
       "      <td>1.0</td>\n",
       "      <td>835.0</td>\n",
       "      <td>1.0</td>\n",
       "      <td>652.0</td>\n",
       "      <td>77.0</td>\n",
       "    </tr>\n",
       "  </tbody>\n",
       "</table>\n",
       "<p>5 rows × 22 columns</p>\n",
       "</div>"
      ],
      "text/plain": [
       "      total_images  last_price  total_area first_day_exposition  rooms  \\\n",
       "186             12  11640000.0        65.2  2018-10-02T00:00:00      2   \n",
       "237              4   2438033.0        28.1  2016-11-23T00:00:00      1   \n",
       "457              4   9788348.0        70.8  2015-08-01T00:00:00      2   \n",
       "671              4   6051191.0        93.6  2017-04-06T00:00:00      3   \n",
       "1757             5   3600000.0        39.0  2017-04-22T00:00:00      1   \n",
       "\n",
       "      ceiling_height  floors_total  living_area  floor is_apartment  ...  \\\n",
       "186              NaN           NaN        30.80      4        False  ...   \n",
       "237              NaN           NaN        20.75      1        False  ...   \n",
       "457              NaN           NaN        38.40     12        False  ...   \n",
       "671              NaN           NaN        47.10      8        False  ...   \n",
       "1757             NaN           NaN          NaN      9        False  ...   \n",
       "\n",
       "      kitchen_area  balcony    locality_name  airports_nearest  \\\n",
       "186          12.00      0.0  Санкт-Петербург           39197.0   \n",
       "237            NaN      0.0  Санкт-Петербург           22041.0   \n",
       "457          10.63      0.0  Санкт-Петербург           37364.0   \n",
       "671          16.80      0.0  Санкт-Петербург           22041.0   \n",
       "1757           NaN      0.0  Санкт-Петербург           22735.0   \n",
       "\n",
       "     cityCenters_nearest  parks_around3000  parks_nearest  ponds_around3000  \\\n",
       "186              12373.0               1.0          123.0               0.0   \n",
       "237              17369.0               0.0            NaN               1.0   \n",
       "457               8322.0               2.0          309.0               2.0   \n",
       "671              17369.0               0.0            NaN               1.0   \n",
       "1757             11618.0               1.0          835.0               1.0   \n",
       "\n",
       "      ponds_nearest  days_exposition  \n",
       "186             NaN             49.0  \n",
       "237           374.0            251.0  \n",
       "457           706.0            727.0  \n",
       "671           374.0            123.0  \n",
       "1757          652.0             77.0  \n",
       "\n",
       "[5 rows x 22 columns]"
      ]
     },
     "execution_count": 5,
     "metadata": {},
     "output_type": "execute_result"
    }
   ],
   "source": [
    "data.head()\n",
    "data['balcony'] = data['balcony'].fillna(0)  # меняем пропущенные значения в поле \"балконы\" на 0\n",
    "data['is_apartment'] = data['is_apartment'].fillna('False') # меняем пропущенные значения в поле \"апртаменты\" на False \n",
    "data.query('floors_total.isna()').head()  # смотрим примеры записей с пропущенным общим количеством этажей"
   ]
  },
  {
   "cell_type": "markdown",
   "metadata": {},
   "source": [
    "Принимаем тяжелое решение удалить строки с пустыми данными в floors_total. Эту информацию мы не можем ни рассчитать, ни вывести среднее, только угадать. \n",
    "Числовые данные из этого столбца при этом будут необходимы в дальнейшем для расчета типа этажа. Это 86 записей - менее 0,5% от общей базы."
   ]
  },
  {
   "cell_type": "code",
   "execution_count": 6,
   "metadata": {},
   "outputs": [
    {
     "data": {
      "text/plain": [
       "total_images                0\n",
       "last_price                  0\n",
       "total_area                  0\n",
       "first_day_exposition        0\n",
       "rooms                       0\n",
       "ceiling_height           9118\n",
       "floors_total                0\n",
       "living_area              1870\n",
       "floor                       0\n",
       "is_apartment                0\n",
       "studio                      0\n",
       "open_plan                   0\n",
       "kitchen_area             2231\n",
       "balcony                     0\n",
       "locality_name              48\n",
       "airports_nearest         5532\n",
       "cityCenters_nearest      5509\n",
       "parks_around3000         5508\n",
       "parks_nearest           15568\n",
       "ponds_around3000         5508\n",
       "ponds_nearest           14552\n",
       "days_exposition          3172\n",
       "dtype: int64"
      ]
     },
     "execution_count": 6,
     "metadata": {},
     "output_type": "execute_result"
    }
   ],
   "source": [
    "data = data.dropna(subset=['floors_total'])  # удаляем строки с пустыми значениям в floors_total\n",
    "data.isna().sum()"
   ]
  },
  {
   "cell_type": "markdown",
   "metadata": {},
   "source": [
    "В данных о жилой площади и площади кухни примерно в 8% данных информация отсутствует. Попробуем ее рассчитать - в большинстве случаев она является типовой и прямо коррелирует с общей площадью квартиры. Рассчитаем как соотносятся жилая площадь/площадь кухни и общая жилплощадь. "
   ]
  },
  {
   "cell_type": "code",
   "execution_count": 7,
   "metadata": {},
   "outputs": [
    {
     "name": "stdout",
     "output_type": "stream",
     "text": [
      "Гостиная относительно общей жилой площади, медиана и среднее: 0.5681818181818182 0.5649479605594985\n",
      "Кухня относительно общей жилой площади, медиана и среднее 0.1723476871686878 0.18732402442071253\n"
     ]
    },
    {
     "data": {
      "text/html": [
       "<div>\n",
       "<style scoped>\n",
       "    .dataframe tbody tr th:only-of-type {\n",
       "        vertical-align: middle;\n",
       "    }\n",
       "\n",
       "    .dataframe tbody tr th {\n",
       "        vertical-align: top;\n",
       "    }\n",
       "\n",
       "    .dataframe thead th {\n",
       "        text-align: right;\n",
       "    }\n",
       "</style>\n",
       "<table border=\"1\" class=\"dataframe\">\n",
       "  <thead>\n",
       "    <tr style=\"text-align: right;\">\n",
       "      <th></th>\n",
       "      <th>total_images</th>\n",
       "      <th>last_price</th>\n",
       "      <th>total_area</th>\n",
       "      <th>first_day_exposition</th>\n",
       "      <th>rooms</th>\n",
       "      <th>ceiling_height</th>\n",
       "      <th>floors_total</th>\n",
       "      <th>living_area</th>\n",
       "      <th>floor</th>\n",
       "      <th>is_apartment</th>\n",
       "      <th>...</th>\n",
       "      <th>kitchen_area</th>\n",
       "      <th>balcony</th>\n",
       "      <th>locality_name</th>\n",
       "      <th>airports_nearest</th>\n",
       "      <th>cityCenters_nearest</th>\n",
       "      <th>parks_around3000</th>\n",
       "      <th>parks_nearest</th>\n",
       "      <th>ponds_around3000</th>\n",
       "      <th>ponds_nearest</th>\n",
       "      <th>days_exposition</th>\n",
       "    </tr>\n",
       "  </thead>\n",
       "  <tbody>\n",
       "    <tr>\n",
       "      <th>0</th>\n",
       "      <td>20</td>\n",
       "      <td>13000000.0</td>\n",
       "      <td>108.0</td>\n",
       "      <td>2019-03-07T00:00:00</td>\n",
       "      <td>3</td>\n",
       "      <td>2.70</td>\n",
       "      <td>16.0</td>\n",
       "      <td>51.0</td>\n",
       "      <td>8</td>\n",
       "      <td>False</td>\n",
       "      <td>...</td>\n",
       "      <td>25.0</td>\n",
       "      <td>0.0</td>\n",
       "      <td>Санкт-Петербург</td>\n",
       "      <td>18863.0</td>\n",
       "      <td>16028.0</td>\n",
       "      <td>1.0</td>\n",
       "      <td>482.0</td>\n",
       "      <td>2.0</td>\n",
       "      <td>755.0</td>\n",
       "      <td>NaN</td>\n",
       "    </tr>\n",
       "    <tr>\n",
       "      <th>1</th>\n",
       "      <td>7</td>\n",
       "      <td>3350000.0</td>\n",
       "      <td>40.4</td>\n",
       "      <td>2018-12-04T00:00:00</td>\n",
       "      <td>1</td>\n",
       "      <td>NaN</td>\n",
       "      <td>11.0</td>\n",
       "      <td>18.6</td>\n",
       "      <td>1</td>\n",
       "      <td>False</td>\n",
       "      <td>...</td>\n",
       "      <td>11.0</td>\n",
       "      <td>2.0</td>\n",
       "      <td>посёлок Шушары</td>\n",
       "      <td>12817.0</td>\n",
       "      <td>18603.0</td>\n",
       "      <td>0.0</td>\n",
       "      <td>NaN</td>\n",
       "      <td>0.0</td>\n",
       "      <td>NaN</td>\n",
       "      <td>81.0</td>\n",
       "    </tr>\n",
       "    <tr>\n",
       "      <th>2</th>\n",
       "      <td>10</td>\n",
       "      <td>5196000.0</td>\n",
       "      <td>56.0</td>\n",
       "      <td>2015-08-20T00:00:00</td>\n",
       "      <td>2</td>\n",
       "      <td>NaN</td>\n",
       "      <td>5.0</td>\n",
       "      <td>34.3</td>\n",
       "      <td>4</td>\n",
       "      <td>False</td>\n",
       "      <td>...</td>\n",
       "      <td>8.3</td>\n",
       "      <td>0.0</td>\n",
       "      <td>Санкт-Петербург</td>\n",
       "      <td>21741.0</td>\n",
       "      <td>13933.0</td>\n",
       "      <td>1.0</td>\n",
       "      <td>90.0</td>\n",
       "      <td>2.0</td>\n",
       "      <td>574.0</td>\n",
       "      <td>558.0</td>\n",
       "    </tr>\n",
       "    <tr>\n",
       "      <th>3</th>\n",
       "      <td>0</td>\n",
       "      <td>64900000.0</td>\n",
       "      <td>159.0</td>\n",
       "      <td>2015-07-24T00:00:00</td>\n",
       "      <td>3</td>\n",
       "      <td>NaN</td>\n",
       "      <td>14.0</td>\n",
       "      <td>NaN</td>\n",
       "      <td>9</td>\n",
       "      <td>False</td>\n",
       "      <td>...</td>\n",
       "      <td>NaN</td>\n",
       "      <td>0.0</td>\n",
       "      <td>Санкт-Петербург</td>\n",
       "      <td>28098.0</td>\n",
       "      <td>6800.0</td>\n",
       "      <td>2.0</td>\n",
       "      <td>84.0</td>\n",
       "      <td>3.0</td>\n",
       "      <td>234.0</td>\n",
       "      <td>424.0</td>\n",
       "    </tr>\n",
       "    <tr>\n",
       "      <th>4</th>\n",
       "      <td>2</td>\n",
       "      <td>10000000.0</td>\n",
       "      <td>100.0</td>\n",
       "      <td>2018-06-19T00:00:00</td>\n",
       "      <td>2</td>\n",
       "      <td>3.03</td>\n",
       "      <td>14.0</td>\n",
       "      <td>32.0</td>\n",
       "      <td>13</td>\n",
       "      <td>False</td>\n",
       "      <td>...</td>\n",
       "      <td>41.0</td>\n",
       "      <td>0.0</td>\n",
       "      <td>Санкт-Петербург</td>\n",
       "      <td>31856.0</td>\n",
       "      <td>8098.0</td>\n",
       "      <td>2.0</td>\n",
       "      <td>112.0</td>\n",
       "      <td>1.0</td>\n",
       "      <td>48.0</td>\n",
       "      <td>121.0</td>\n",
       "    </tr>\n",
       "  </tbody>\n",
       "</table>\n",
       "<p>5 rows × 22 columns</p>\n",
       "</div>"
      ],
      "text/plain": [
       "   total_images  last_price  total_area first_day_exposition  rooms  \\\n",
       "0            20  13000000.0       108.0  2019-03-07T00:00:00      3   \n",
       "1             7   3350000.0        40.4  2018-12-04T00:00:00      1   \n",
       "2            10   5196000.0        56.0  2015-08-20T00:00:00      2   \n",
       "3             0  64900000.0       159.0  2015-07-24T00:00:00      3   \n",
       "4             2  10000000.0       100.0  2018-06-19T00:00:00      2   \n",
       "\n",
       "   ceiling_height  floors_total  living_area  floor is_apartment  ...  \\\n",
       "0            2.70          16.0         51.0      8        False  ...   \n",
       "1             NaN          11.0         18.6      1        False  ...   \n",
       "2             NaN           5.0         34.3      4        False  ...   \n",
       "3             NaN          14.0          NaN      9        False  ...   \n",
       "4            3.03          14.0         32.0     13        False  ...   \n",
       "\n",
       "   kitchen_area  balcony    locality_name  airports_nearest  \\\n",
       "0          25.0      0.0  Санкт-Петербург           18863.0   \n",
       "1          11.0      2.0   посёлок Шушары           12817.0   \n",
       "2           8.3      0.0  Санкт-Петербург           21741.0   \n",
       "3           NaN      0.0  Санкт-Петербург           28098.0   \n",
       "4          41.0      0.0  Санкт-Петербург           31856.0   \n",
       "\n",
       "  cityCenters_nearest  parks_around3000  parks_nearest  ponds_around3000  \\\n",
       "0             16028.0               1.0          482.0               2.0   \n",
       "1             18603.0               0.0            NaN               0.0   \n",
       "2             13933.0               1.0           90.0               2.0   \n",
       "3              6800.0               2.0           84.0               3.0   \n",
       "4              8098.0               2.0          112.0               1.0   \n",
       "\n",
       "   ponds_nearest  days_exposition  \n",
       "0          755.0              NaN  \n",
       "1            NaN             81.0  \n",
       "2          574.0            558.0  \n",
       "3          234.0            424.0  \n",
       "4           48.0            121.0  \n",
       "\n",
       "[5 rows x 22 columns]"
      ]
     },
     "execution_count": 7,
     "metadata": {},
     "output_type": "execute_result"
    }
   ],
   "source": [
    "print (\n",
    "        'Гостиная относительно общей жилой площади, медиана и среднее:',\n",
    "       ((data['living_area']/ data['total_area']).median()),\n",
    "       ((data['living_area']/ data['total_area']).mean())\n",
    ") # рассчитываем пропорцию гостиной относительно общей жилой площади\n",
    "print('Кухня относительно общей жилой площади, медиана и среднее', ((data['kitchen_area']/data['total_area']).median()), ((data['kitchen_area']/data['total_area']).mean())) # рассчитываем пропорцию кухни относительно общей жилой площади\n",
    "data.head() "
   ]
  },
  {
   "cell_type": "markdown",
   "metadata": {},
   "source": [
    "Т.к. медиана и среднее значения практически не отличаются, то принимаем решение заполнять пропущенные значения средней пропорцией."
   ]
  },
  {
   "cell_type": "code",
   "execution_count": 8,
   "metadata": {
    "scrolled": true
   },
   "outputs": [
    {
     "data": {
      "text/html": [
       "<div>\n",
       "<style scoped>\n",
       "    .dataframe tbody tr th:only-of-type {\n",
       "        vertical-align: middle;\n",
       "    }\n",
       "\n",
       "    .dataframe tbody tr th {\n",
       "        vertical-align: top;\n",
       "    }\n",
       "\n",
       "    .dataframe thead th {\n",
       "        text-align: right;\n",
       "    }\n",
       "</style>\n",
       "<table border=\"1\" class=\"dataframe\">\n",
       "  <thead>\n",
       "    <tr style=\"text-align: right;\">\n",
       "      <th></th>\n",
       "      <th>total_images</th>\n",
       "      <th>last_price</th>\n",
       "      <th>total_area</th>\n",
       "      <th>first_day_exposition</th>\n",
       "      <th>rooms</th>\n",
       "      <th>ceiling_height</th>\n",
       "      <th>floors_total</th>\n",
       "      <th>living_area</th>\n",
       "      <th>floor</th>\n",
       "      <th>is_apartment</th>\n",
       "      <th>...</th>\n",
       "      <th>kitchen_area</th>\n",
       "      <th>balcony</th>\n",
       "      <th>locality_name</th>\n",
       "      <th>airports_nearest</th>\n",
       "      <th>cityCenters_nearest</th>\n",
       "      <th>parks_around3000</th>\n",
       "      <th>parks_nearest</th>\n",
       "      <th>ponds_around3000</th>\n",
       "      <th>ponds_nearest</th>\n",
       "      <th>days_exposition</th>\n",
       "    </tr>\n",
       "  </thead>\n",
       "  <tbody>\n",
       "    <tr>\n",
       "      <th>0</th>\n",
       "      <td>20</td>\n",
       "      <td>13000000.0</td>\n",
       "      <td>108.0</td>\n",
       "      <td>2019-03-07T00:00:00</td>\n",
       "      <td>3</td>\n",
       "      <td>2.70</td>\n",
       "      <td>16.0</td>\n",
       "      <td>51.000000</td>\n",
       "      <td>8</td>\n",
       "      <td>False</td>\n",
       "      <td>...</td>\n",
       "      <td>25.00000</td>\n",
       "      <td>0.0</td>\n",
       "      <td>Санкт-Петербург</td>\n",
       "      <td>18863.0</td>\n",
       "      <td>16028.0</td>\n",
       "      <td>1.0</td>\n",
       "      <td>482.0</td>\n",
       "      <td>2.0</td>\n",
       "      <td>755.0</td>\n",
       "      <td>NaN</td>\n",
       "    </tr>\n",
       "    <tr>\n",
       "      <th>1</th>\n",
       "      <td>7</td>\n",
       "      <td>3350000.0</td>\n",
       "      <td>40.4</td>\n",
       "      <td>2018-12-04T00:00:00</td>\n",
       "      <td>1</td>\n",
       "      <td>NaN</td>\n",
       "      <td>11.0</td>\n",
       "      <td>18.600000</td>\n",
       "      <td>1</td>\n",
       "      <td>False</td>\n",
       "      <td>...</td>\n",
       "      <td>11.00000</td>\n",
       "      <td>2.0</td>\n",
       "      <td>посёлок Шушары</td>\n",
       "      <td>12817.0</td>\n",
       "      <td>18603.0</td>\n",
       "      <td>0.0</td>\n",
       "      <td>NaN</td>\n",
       "      <td>0.0</td>\n",
       "      <td>NaN</td>\n",
       "      <td>81.0</td>\n",
       "    </tr>\n",
       "    <tr>\n",
       "      <th>2</th>\n",
       "      <td>10</td>\n",
       "      <td>5196000.0</td>\n",
       "      <td>56.0</td>\n",
       "      <td>2015-08-20T00:00:00</td>\n",
       "      <td>2</td>\n",
       "      <td>NaN</td>\n",
       "      <td>5.0</td>\n",
       "      <td>34.300000</td>\n",
       "      <td>4</td>\n",
       "      <td>False</td>\n",
       "      <td>...</td>\n",
       "      <td>8.30000</td>\n",
       "      <td>0.0</td>\n",
       "      <td>Санкт-Петербург</td>\n",
       "      <td>21741.0</td>\n",
       "      <td>13933.0</td>\n",
       "      <td>1.0</td>\n",
       "      <td>90.0</td>\n",
       "      <td>2.0</td>\n",
       "      <td>574.0</td>\n",
       "      <td>558.0</td>\n",
       "    </tr>\n",
       "    <tr>\n",
       "      <th>3</th>\n",
       "      <td>0</td>\n",
       "      <td>64900000.0</td>\n",
       "      <td>159.0</td>\n",
       "      <td>2015-07-24T00:00:00</td>\n",
       "      <td>3</td>\n",
       "      <td>NaN</td>\n",
       "      <td>14.0</td>\n",
       "      <td>89.826726</td>\n",
       "      <td>9</td>\n",
       "      <td>False</td>\n",
       "      <td>...</td>\n",
       "      <td>29.78452</td>\n",
       "      <td>0.0</td>\n",
       "      <td>Санкт-Петербург</td>\n",
       "      <td>28098.0</td>\n",
       "      <td>6800.0</td>\n",
       "      <td>2.0</td>\n",
       "      <td>84.0</td>\n",
       "      <td>3.0</td>\n",
       "      <td>234.0</td>\n",
       "      <td>424.0</td>\n",
       "    </tr>\n",
       "    <tr>\n",
       "      <th>4</th>\n",
       "      <td>2</td>\n",
       "      <td>10000000.0</td>\n",
       "      <td>100.0</td>\n",
       "      <td>2018-06-19T00:00:00</td>\n",
       "      <td>2</td>\n",
       "      <td>3.03</td>\n",
       "      <td>14.0</td>\n",
       "      <td>32.000000</td>\n",
       "      <td>13</td>\n",
       "      <td>False</td>\n",
       "      <td>...</td>\n",
       "      <td>41.00000</td>\n",
       "      <td>0.0</td>\n",
       "      <td>Санкт-Петербург</td>\n",
       "      <td>31856.0</td>\n",
       "      <td>8098.0</td>\n",
       "      <td>2.0</td>\n",
       "      <td>112.0</td>\n",
       "      <td>1.0</td>\n",
       "      <td>48.0</td>\n",
       "      <td>121.0</td>\n",
       "    </tr>\n",
       "  </tbody>\n",
       "</table>\n",
       "<p>5 rows × 22 columns</p>\n",
       "</div>"
      ],
      "text/plain": [
       "   total_images  last_price  total_area first_day_exposition  rooms  \\\n",
       "0            20  13000000.0       108.0  2019-03-07T00:00:00      3   \n",
       "1             7   3350000.0        40.4  2018-12-04T00:00:00      1   \n",
       "2            10   5196000.0        56.0  2015-08-20T00:00:00      2   \n",
       "3             0  64900000.0       159.0  2015-07-24T00:00:00      3   \n",
       "4             2  10000000.0       100.0  2018-06-19T00:00:00      2   \n",
       "\n",
       "   ceiling_height  floors_total  living_area  floor is_apartment  ...  \\\n",
       "0            2.70          16.0    51.000000      8        False  ...   \n",
       "1             NaN          11.0    18.600000      1        False  ...   \n",
       "2             NaN           5.0    34.300000      4        False  ...   \n",
       "3             NaN          14.0    89.826726      9        False  ...   \n",
       "4            3.03          14.0    32.000000     13        False  ...   \n",
       "\n",
       "   kitchen_area  balcony    locality_name  airports_nearest  \\\n",
       "0      25.00000      0.0  Санкт-Петербург           18863.0   \n",
       "1      11.00000      2.0   посёлок Шушары           12817.0   \n",
       "2       8.30000      0.0  Санкт-Петербург           21741.0   \n",
       "3      29.78452      0.0  Санкт-Петербург           28098.0   \n",
       "4      41.00000      0.0  Санкт-Петербург           31856.0   \n",
       "\n",
       "  cityCenters_nearest  parks_around3000  parks_nearest  ponds_around3000  \\\n",
       "0             16028.0               1.0          482.0               2.0   \n",
       "1             18603.0               0.0            NaN               0.0   \n",
       "2             13933.0               1.0           90.0               2.0   \n",
       "3              6800.0               2.0           84.0               3.0   \n",
       "4              8098.0               2.0          112.0               1.0   \n",
       "\n",
       "   ponds_nearest  days_exposition  \n",
       "0          755.0              NaN  \n",
       "1            NaN             81.0  \n",
       "2          574.0            558.0  \n",
       "3          234.0            424.0  \n",
       "4           48.0            121.0  \n",
       "\n",
       "[5 rows x 22 columns]"
      ]
     },
     "execution_count": 8,
     "metadata": {},
     "output_type": "execute_result"
    }
   ],
   "source": [
    "data['living_area'] = data['living_area'].fillna(data['total_area'] * ((data['living_area']/ data['total_area']).mean()))  # заполняем пропущенные значения площади гостиной пересчетом коэффициента доли гостиной на общую площади\n",
    "data['kitchen_area'] = data['kitchen_area'].fillna(data['total_area'] * ((data['kitchen_area']/data['total_area']).mean())) # аналогично делаем с кухней\n",
    "data.head()  # проверяем что данные благополучно заполнились"
   ]
  },
  {
   "cell_type": "markdown",
   "metadata": {},
   "source": [
    "Смотрим какие пропуски еще мы можем заполнить. Принимаем решение удалить еще 48 записей (менее 0,2% от общей базы) - данные без указанного населенного пункта (locality_name), т.к. это критическая информация для анализа и использования базы."
   ]
  },
  {
   "cell_type": "code",
   "execution_count": 9,
   "metadata": {
    "scrolled": true
   },
   "outputs": [],
   "source": [
    "data = data.dropna(subset=['locality_name'])  # удаляем строки с пустыми значениям в locality_name"
   ]
  },
  {
   "cell_type": "markdown",
   "metadata": {},
   "source": [
    "Заполняем пропущенные значения в столбце 'ceiling_height' медианным значением потолков в базе. Выбираем медиану, т.к. в базе есть выбросы, которые влияют на среднее значение."
   ]
  },
  {
   "cell_type": "code",
   "execution_count": 10,
   "metadata": {},
   "outputs": [
    {
     "data": {
      "text/plain": [
       "total_images                0\n",
       "last_price                  0\n",
       "total_area                  0\n",
       "first_day_exposition        0\n",
       "rooms                       0\n",
       "ceiling_height              0\n",
       "floors_total                0\n",
       "living_area                 0\n",
       "floor                       0\n",
       "is_apartment                0\n",
       "studio                      0\n",
       "open_plan                   0\n",
       "kitchen_area                0\n",
       "balcony                     0\n",
       "locality_name               0\n",
       "airports_nearest         5524\n",
       "cityCenters_nearest      5501\n",
       "parks_around3000         5500\n",
       "parks_nearest           15535\n",
       "ponds_around3000         5500\n",
       "ponds_nearest           14529\n",
       "days_exposition          3171\n",
       "dtype: int64"
      ]
     },
     "execution_count": 10,
     "metadata": {},
     "output_type": "execute_result"
    }
   ],
   "source": [
    "data['ceiling_height'] = data['ceiling_height'].fillna(data['ceiling_height'].median())   # заполняем пропущенные значения высоты потолков медианным значением\n",
    "data.isna().sum()  # смотрим какая ситуация с пропусками теперь в базе"
   ]
  },
  {
   "cell_type": "markdown",
   "metadata": {},
   "source": [
    "С пропусками в базе работа закончена. Они остались в \"географических\" полях - расстояние до объектов, наличие инфраструкты. Для заполнения этих полей необходим точный адрес объекта. Кроме того остались пропуски в поле days_exposition  - это означает объявления еще не закрыты."
   ]
  },
  {
   "cell_type": "markdown",
   "metadata": {},
   "source": [
    "####  2.2 Изменение типа данных"
   ]
  },
  {
   "cell_type": "code",
   "execution_count": 11,
   "metadata": {},
   "outputs": [
    {
     "name": "stdout",
     "output_type": "stream",
     "text": [
      "<class 'pandas.core.frame.DataFrame'>\n",
      "Int64Index: 23565 entries, 0 to 23698\n",
      "Data columns (total 22 columns):\n",
      " #   Column                Non-Null Count  Dtype  \n",
      "---  ------                --------------  -----  \n",
      " 0   total_images          23565 non-null  int64  \n",
      " 1   last_price            23565 non-null  float64\n",
      " 2   total_area            23565 non-null  float64\n",
      " 3   first_day_exposition  23565 non-null  object \n",
      " 4   rooms                 23565 non-null  int64  \n",
      " 5   ceiling_height        23565 non-null  float64\n",
      " 6   floors_total          23565 non-null  float64\n",
      " 7   living_area           23565 non-null  float64\n",
      " 8   floor                 23565 non-null  int64  \n",
      " 9   is_apartment          23565 non-null  object \n",
      " 10  studio                23565 non-null  bool   \n",
      " 11  open_plan             23565 non-null  bool   \n",
      " 12  kitchen_area          23565 non-null  float64\n",
      " 13  balcony               23565 non-null  float64\n",
      " 14  locality_name         23565 non-null  object \n",
      " 15  airports_nearest      18041 non-null  float64\n",
      " 16  cityCenters_nearest   18064 non-null  float64\n",
      " 17  parks_around3000      18065 non-null  float64\n",
      " 18  parks_nearest         8030 non-null   float64\n",
      " 19  ponds_around3000      18065 non-null  float64\n",
      " 20  ponds_nearest         9036 non-null   float64\n",
      " 21  days_exposition       20394 non-null  float64\n",
      "dtypes: bool(2), float64(14), int64(3), object(3)\n",
      "memory usage: 3.8+ MB\n"
     ]
    }
   ],
   "source": [
    "data.info()  # смотрим на типы данных"
   ]
  },
  {
   "cell_type": "markdown",
   "metadata": {},
   "source": [
    "Решаем поменять тип данных на int в следующих колонках:  last price, floors_total, balcony, parks_around3000  и ponds_around3000. В последних двух есть значения NaN, поэтому их сначала надо будет изменить на 0.\n",
    "\n",
    "Тип данных в first_day_exposition меняем на временной\n",
    "\n",
    "Тип данных is_apartment из object меняем на bool"
   ]
  },
  {
   "cell_type": "code",
   "execution_count": 12,
   "metadata": {},
   "outputs": [
    {
     "name": "stdout",
     "output_type": "stream",
     "text": [
      "<class 'pandas.core.frame.DataFrame'>\n",
      "Int64Index: 23565 entries, 0 to 23698\n",
      "Data columns (total 22 columns):\n",
      " #   Column                Non-Null Count  Dtype         \n",
      "---  ------                --------------  -----         \n",
      " 0   total_images          23565 non-null  int64         \n",
      " 1   last_price            23565 non-null  int64         \n",
      " 2   total_area            23565 non-null  float64       \n",
      " 3   first_day_exposition  23565 non-null  datetime64[ns]\n",
      " 4   rooms                 23565 non-null  int64         \n",
      " 5   ceiling_height        23565 non-null  float64       \n",
      " 6   floors_total          23565 non-null  int64         \n",
      " 7   living_area           23565 non-null  float64       \n",
      " 8   floor                 23565 non-null  int64         \n",
      " 9   is_apartment          23565 non-null  bool          \n",
      " 10  studio                23565 non-null  bool          \n",
      " 11  open_plan             23565 non-null  bool          \n",
      " 12  kitchen_area          23565 non-null  float64       \n",
      " 13  balcony               23565 non-null  int64         \n",
      " 14  locality_name         23565 non-null  object        \n",
      " 15  airports_nearest      18041 non-null  float64       \n",
      " 16  cityCenters_nearest   18064 non-null  float64       \n",
      " 17  parks_around3000      23565 non-null  int64         \n",
      " 18  parks_nearest         8030 non-null   float64       \n",
      " 19  ponds_around3000      23565 non-null  int64         \n",
      " 20  ponds_nearest         9036 non-null   float64       \n",
      " 21  days_exposition       20394 non-null  float64       \n",
      "dtypes: bool(3), datetime64[ns](1), float64(9), int64(8), object(1)\n",
      "memory usage: 3.7+ MB\n"
     ]
    },
    {
     "data": {
      "text/html": [
       "<div>\n",
       "<style scoped>\n",
       "    .dataframe tbody tr th:only-of-type {\n",
       "        vertical-align: middle;\n",
       "    }\n",
       "\n",
       "    .dataframe tbody tr th {\n",
       "        vertical-align: top;\n",
       "    }\n",
       "\n",
       "    .dataframe thead th {\n",
       "        text-align: right;\n",
       "    }\n",
       "</style>\n",
       "<table border=\"1\" class=\"dataframe\">\n",
       "  <thead>\n",
       "    <tr style=\"text-align: right;\">\n",
       "      <th></th>\n",
       "      <th>total_images</th>\n",
       "      <th>last_price</th>\n",
       "      <th>total_area</th>\n",
       "      <th>first_day_exposition</th>\n",
       "      <th>rooms</th>\n",
       "      <th>ceiling_height</th>\n",
       "      <th>floors_total</th>\n",
       "      <th>living_area</th>\n",
       "      <th>floor</th>\n",
       "      <th>is_apartment</th>\n",
       "      <th>...</th>\n",
       "      <th>kitchen_area</th>\n",
       "      <th>balcony</th>\n",
       "      <th>locality_name</th>\n",
       "      <th>airports_nearest</th>\n",
       "      <th>cityCenters_nearest</th>\n",
       "      <th>parks_around3000</th>\n",
       "      <th>parks_nearest</th>\n",
       "      <th>ponds_around3000</th>\n",
       "      <th>ponds_nearest</th>\n",
       "      <th>days_exposition</th>\n",
       "    </tr>\n",
       "  </thead>\n",
       "  <tbody>\n",
       "    <tr>\n",
       "      <th>0</th>\n",
       "      <td>20</td>\n",
       "      <td>13000000</td>\n",
       "      <td>108.0</td>\n",
       "      <td>2019-03-07</td>\n",
       "      <td>3</td>\n",
       "      <td>2.70</td>\n",
       "      <td>16</td>\n",
       "      <td>51.000000</td>\n",
       "      <td>8</td>\n",
       "      <td>True</td>\n",
       "      <td>...</td>\n",
       "      <td>25.00000</td>\n",
       "      <td>0</td>\n",
       "      <td>Санкт-Петербург</td>\n",
       "      <td>18863.0</td>\n",
       "      <td>16028.0</td>\n",
       "      <td>1</td>\n",
       "      <td>482.0</td>\n",
       "      <td>2</td>\n",
       "      <td>755.0</td>\n",
       "      <td>NaN</td>\n",
       "    </tr>\n",
       "    <tr>\n",
       "      <th>1</th>\n",
       "      <td>7</td>\n",
       "      <td>3350000</td>\n",
       "      <td>40.4</td>\n",
       "      <td>2018-12-04</td>\n",
       "      <td>1</td>\n",
       "      <td>2.65</td>\n",
       "      <td>11</td>\n",
       "      <td>18.600000</td>\n",
       "      <td>1</td>\n",
       "      <td>True</td>\n",
       "      <td>...</td>\n",
       "      <td>11.00000</td>\n",
       "      <td>2</td>\n",
       "      <td>посёлок Шушары</td>\n",
       "      <td>12817.0</td>\n",
       "      <td>18603.0</td>\n",
       "      <td>0</td>\n",
       "      <td>NaN</td>\n",
       "      <td>0</td>\n",
       "      <td>NaN</td>\n",
       "      <td>81.0</td>\n",
       "    </tr>\n",
       "    <tr>\n",
       "      <th>2</th>\n",
       "      <td>10</td>\n",
       "      <td>5196000</td>\n",
       "      <td>56.0</td>\n",
       "      <td>2015-08-20</td>\n",
       "      <td>2</td>\n",
       "      <td>2.65</td>\n",
       "      <td>5</td>\n",
       "      <td>34.300000</td>\n",
       "      <td>4</td>\n",
       "      <td>True</td>\n",
       "      <td>...</td>\n",
       "      <td>8.30000</td>\n",
       "      <td>0</td>\n",
       "      <td>Санкт-Петербург</td>\n",
       "      <td>21741.0</td>\n",
       "      <td>13933.0</td>\n",
       "      <td>1</td>\n",
       "      <td>90.0</td>\n",
       "      <td>2</td>\n",
       "      <td>574.0</td>\n",
       "      <td>558.0</td>\n",
       "    </tr>\n",
       "    <tr>\n",
       "      <th>3</th>\n",
       "      <td>0</td>\n",
       "      <td>64900000</td>\n",
       "      <td>159.0</td>\n",
       "      <td>2015-07-24</td>\n",
       "      <td>3</td>\n",
       "      <td>2.65</td>\n",
       "      <td>14</td>\n",
       "      <td>89.826726</td>\n",
       "      <td>9</td>\n",
       "      <td>True</td>\n",
       "      <td>...</td>\n",
       "      <td>29.78452</td>\n",
       "      <td>0</td>\n",
       "      <td>Санкт-Петербург</td>\n",
       "      <td>28098.0</td>\n",
       "      <td>6800.0</td>\n",
       "      <td>2</td>\n",
       "      <td>84.0</td>\n",
       "      <td>3</td>\n",
       "      <td>234.0</td>\n",
       "      <td>424.0</td>\n",
       "    </tr>\n",
       "    <tr>\n",
       "      <th>4</th>\n",
       "      <td>2</td>\n",
       "      <td>10000000</td>\n",
       "      <td>100.0</td>\n",
       "      <td>2018-06-19</td>\n",
       "      <td>2</td>\n",
       "      <td>3.03</td>\n",
       "      <td>14</td>\n",
       "      <td>32.000000</td>\n",
       "      <td>13</td>\n",
       "      <td>True</td>\n",
       "      <td>...</td>\n",
       "      <td>41.00000</td>\n",
       "      <td>0</td>\n",
       "      <td>Санкт-Петербург</td>\n",
       "      <td>31856.0</td>\n",
       "      <td>8098.0</td>\n",
       "      <td>2</td>\n",
       "      <td>112.0</td>\n",
       "      <td>1</td>\n",
       "      <td>48.0</td>\n",
       "      <td>121.0</td>\n",
       "    </tr>\n",
       "  </tbody>\n",
       "</table>\n",
       "<p>5 rows × 22 columns</p>\n",
       "</div>"
      ],
      "text/plain": [
       "   total_images  last_price  total_area first_day_exposition  rooms  \\\n",
       "0            20    13000000       108.0           2019-03-07      3   \n",
       "1             7     3350000        40.4           2018-12-04      1   \n",
       "2            10     5196000        56.0           2015-08-20      2   \n",
       "3             0    64900000       159.0           2015-07-24      3   \n",
       "4             2    10000000       100.0           2018-06-19      2   \n",
       "\n",
       "   ceiling_height  floors_total  living_area  floor  is_apartment  ...  \\\n",
       "0            2.70            16    51.000000      8          True  ...   \n",
       "1            2.65            11    18.600000      1          True  ...   \n",
       "2            2.65             5    34.300000      4          True  ...   \n",
       "3            2.65            14    89.826726      9          True  ...   \n",
       "4            3.03            14    32.000000     13          True  ...   \n",
       "\n",
       "   kitchen_area  balcony    locality_name  airports_nearest  \\\n",
       "0      25.00000        0  Санкт-Петербург           18863.0   \n",
       "1      11.00000        2   посёлок Шушары           12817.0   \n",
       "2       8.30000        0  Санкт-Петербург           21741.0   \n",
       "3      29.78452        0  Санкт-Петербург           28098.0   \n",
       "4      41.00000        0  Санкт-Петербург           31856.0   \n",
       "\n",
       "  cityCenters_nearest  parks_around3000  parks_nearest  ponds_around3000  \\\n",
       "0             16028.0                 1          482.0                 2   \n",
       "1             18603.0                 0            NaN                 0   \n",
       "2             13933.0                 1           90.0                 2   \n",
       "3              6800.0                 2           84.0                 3   \n",
       "4              8098.0                 2          112.0                 1   \n",
       "\n",
       "   ponds_nearest  days_exposition  \n",
       "0          755.0              NaN  \n",
       "1            NaN             81.0  \n",
       "2          574.0            558.0  \n",
       "3          234.0            424.0  \n",
       "4           48.0            121.0  \n",
       "\n",
       "[5 rows x 22 columns]"
      ]
     },
     "execution_count": 12,
     "metadata": {},
     "output_type": "execute_result"
    }
   ],
   "source": [
    "data['first_day_exposition'] = pd.to_datetime(data['first_day_exposition'])  # переводим object в дату и время\n",
    "data['floors_total'] =  data['floors_total'].astype('int')  # переводим данные в int\n",
    "data['balcony'] =  data['balcony'].astype('int')\n",
    "data['last_price'] =data['last_price'].astype('int')\n",
    "data['parks_around3000'] = data['parks_around3000'].fillna(0)   # заполняем пропуски нулями\n",
    "data['ponds_around3000'] = data['ponds_around3000'].fillna(0)  # заполняем пропуски нулями\n",
    "data['parks_around3000'] =  data['parks_around3000'].astype('int')  # и благополучно переводим в int\n",
    "data['ponds_around3000'] =  data['ponds_around3000'].astype('int')\n",
    "data['is_apartment'] =  data['is_apartment'].astype('bool')  # переводим в bool\n",
    "data.info()  #смотрим на результат\n",
    "data.head()"
   ]
  },
  {
   "cell_type": "markdown",
   "metadata": {},
   "source": [
    "Данные были изменены для удобства дальнейшей работы с базой. В дальнейшем мы сможем анализировать и сопоставлять данные, строить графики и искать корреляции. Кроме того так данные просто удобнее и легче читать."
   ]
  },
  {
   "cell_type": "markdown",
   "metadata": {},
   "source": [
    "#### 2.3 Проверка на наличие явных дубликатов"
   ]
  },
  {
   "cell_type": "code",
   "execution_count": 2,
   "metadata": {},
   "outputs": [
    {
     "ename": "NameError",
     "evalue": "name 'data' is not defined",
     "output_type": "error",
     "traceback": [
      "\u001b[0;31m---------------------------------------------------------------------------\u001b[0m",
      "\u001b[0;31mNameError\u001b[0m                                 Traceback (most recent call last)",
      "\u001b[0;32m/var/folders/k6/tl3g9q5s01x8zxv1p9n8rhc40000gn/T/ipykernel_7070/4270916516.py\u001b[0m in \u001b[0;36m<module>\u001b[0;34m\u001b[0m\n\u001b[0;32m----> 1\u001b[0;31m \u001b[0mdata\u001b[0m\u001b[0;34m.\u001b[0m\u001b[0mduplicated\u001b[0m\u001b[0;34m(\u001b[0m\u001b[0;34m)\u001b[0m\u001b[0;34m.\u001b[0m\u001b[0msum\u001b[0m\u001b[0;34m(\u001b[0m\u001b[0;34m)\u001b[0m\u001b[0;34m\u001b[0m\u001b[0;34m\u001b[0m\u001b[0m\n\u001b[0m",
      "\u001b[0;31mNameError\u001b[0m: name 'data' is not defined"
     ]
    }
   ],
   "source": [
    "data.duplicated().sum()"
   ]
  },
  {
   "cell_type": "markdown",
   "metadata": {},
   "source": [
    "Дубликаты отсутствуют"
   ]
  },
  {
   "cell_type": "markdown",
   "metadata": {},
   "source": [
    "#### 2.4 Изучение уникальных значений в столбце с названиями и устранение неявных дубликатов."
   ]
  },
  {
   "cell_type": "code",
   "execution_count": 13,
   "metadata": {},
   "outputs": [
    {
     "data": {
      "text/plain": [
       "array(['Санкт-Петербург', 'посёлок Шушары', 'городской посёлок Янино-1',\n",
       "       'посёлок Парголово', 'посёлок Мурино', 'Ломоносов', 'Сертолово',\n",
       "       'Петергоф', 'Пушкин', 'деревня Кудрово', 'Коммунар', 'Колпино',\n",
       "       'поселок городского типа Красный Бор', 'Гатчина', 'поселок Мурино',\n",
       "       'деревня Фёдоровское', 'Выборг', 'Кронштадт', 'Кировск',\n",
       "       'деревня Новое Девяткино', 'посёлок Металлострой',\n",
       "       'посёлок городского типа Лебяжье',\n",
       "       'посёлок городского типа Сиверский', 'поселок Молодцово',\n",
       "       'поселок городского типа Кузьмоловский',\n",
       "       'садовое товарищество Новая Ропша', 'Павловск',\n",
       "       'деревня Пикколово', 'Всеволожск', 'Волхов', 'Кингисепп',\n",
       "       'Приозерск', 'Сестрорецк', 'деревня Куттузи', 'посёлок Аннино',\n",
       "       'поселок городского типа Ефимовский', 'посёлок Плодовое',\n",
       "       'деревня Заклинье', 'поселок Торковичи', 'поселок Первомайское',\n",
       "       'Красное Село', 'посёлок Понтонный', 'Сясьстрой', 'деревня Старая',\n",
       "       'деревня Лесколово', 'посёлок Новый Свет', 'Сланцы',\n",
       "       'село Путилово', 'Ивангород', 'Мурино', 'Шлиссельбург',\n",
       "       'Никольское', 'Зеленогорск', 'Сосновый Бор', 'поселок Новый Свет',\n",
       "       'деревня Оржицы', 'деревня Кальтино', 'Кудрово',\n",
       "       'поселок Романовка', 'посёлок Бугры', 'поселок Бугры',\n",
       "       'поселок городского типа Рощино', 'Кириши', 'Луга', 'Волосово',\n",
       "       'Отрадное', 'село Павлово', 'поселок Оредеж', 'село Копорье',\n",
       "       'посёлок городского типа Красный Бор', 'посёлок Молодёжное',\n",
       "       'Тихвин', 'посёлок Победа', 'деревня Нурма',\n",
       "       'поселок городского типа Синявино', 'Тосно',\n",
       "       'посёлок городского типа Кузьмоловский', 'посёлок Стрельна',\n",
       "       'Бокситогорск', 'посёлок Александровская', 'деревня Лопухинка',\n",
       "       'Пикалёво', 'поселок Терволово',\n",
       "       'поселок городского типа Советский', 'Подпорожье',\n",
       "       'посёлок Петровское', 'посёлок городского типа Токсово',\n",
       "       'поселок Сельцо', 'посёлок городского типа Вырица',\n",
       "       'деревня Кипень', 'деревня Келози', 'деревня Вартемяги',\n",
       "       'посёлок Тельмана', 'поселок Севастьяново',\n",
       "       'городской поселок Большая Ижора', 'городской посёлок Павлово',\n",
       "       'деревня Агалатово', 'посёлок Новогорелово',\n",
       "       'городской посёлок Лесогорский', 'деревня Лаголово',\n",
       "       'поселок Цвелодубово', 'поселок городского типа Рахья',\n",
       "       'поселок городского типа Вырица', 'деревня Белогорка',\n",
       "       'поселок Заводской', 'городской посёлок Новоселье',\n",
       "       'деревня Большие Колпаны', 'деревня Горбунки', 'деревня Батово',\n",
       "       'деревня Заневка', 'деревня Иссад', 'Приморск',\n",
       "       'городской посёлок Фёдоровское', 'деревня Мистолово',\n",
       "       'Новая Ладога', 'поселок Зимитицы', 'поселок Барышево',\n",
       "       'деревня Разметелево', 'поселок городского типа имени Свердлова',\n",
       "       'деревня Пеники', 'поселок Рябово', 'деревня Пудомяги',\n",
       "       'поселок станции Корнево', 'деревня Низино', 'деревня Бегуницы',\n",
       "       'посёлок Поляны', 'городской посёлок Мга', 'поселок Елизаветино',\n",
       "       'посёлок городского типа Кузнечное', 'деревня Колтуши',\n",
       "       'поселок Запорожское', 'посёлок городского типа Рощино',\n",
       "       'деревня Гостилицы', 'деревня Малое Карлино',\n",
       "       'посёлок Мичуринское', 'посёлок городского типа имени Морозова',\n",
       "       'посёлок Песочный', 'посёлок Сосново', 'деревня Аро',\n",
       "       'поселок Ильичёво', 'посёлок городского типа Тайцы',\n",
       "       'деревня Малое Верево', 'деревня Извара', 'поселок станции Вещево',\n",
       "       'село Паша', 'деревня Калитино',\n",
       "       'посёлок городского типа Ульяновка', 'деревня Чудской Бор',\n",
       "       'поселок городского типа Дубровка', 'деревня Мины',\n",
       "       'поселок Войсковицы', 'посёлок городского типа имени Свердлова',\n",
       "       'деревня Коркино', 'посёлок Ропша',\n",
       "       'поселок городского типа Приладожский', 'посёлок Щеглово',\n",
       "       'посёлок Гаврилово', 'Лодейное Поле', 'деревня Рабитицы',\n",
       "       'поселок городского типа Никольский', 'деревня Кузьмолово',\n",
       "       'деревня Малые Колпаны', 'поселок Тельмана',\n",
       "       'посёлок Петро-Славянка', 'городской посёлок Назия',\n",
       "       'посёлок Репино', 'посёлок Ильичёво', 'поселок Углово',\n",
       "       'поселок Старая Малукса', 'садовое товарищество Рахья',\n",
       "       'поселок Аннино', 'поселок Победа', 'деревня Меньково',\n",
       "       'деревня Старые Бегуницы', 'посёлок Сапёрный', 'поселок Семрино',\n",
       "       'поселок Гаврилово', 'поселок Глажево', 'поселок Кобринское',\n",
       "       'деревня Гарболово', 'деревня Юкки',\n",
       "       'поселок станции Приветнинское', 'деревня Мануйлово',\n",
       "       'деревня Пчева', 'поселок Поляны', 'поселок Цвылёво',\n",
       "       'поселок Мельниково', 'посёлок Пудость', 'посёлок Усть-Луга',\n",
       "       'Светогорск', 'Любань', 'поселок Селезнёво',\n",
       "       'поселок городского типа Рябово', 'Каменногорск', 'деревня Кривко',\n",
       "       'поселок Глебычево', 'деревня Парицы', 'поселок Жилпосёлок',\n",
       "       'посёлок городского типа Мга', 'городской поселок Янино-1',\n",
       "       'посёлок Войскорово', 'село Никольское', 'посёлок Терволово',\n",
       "       'поселок Стеклянный', 'посёлок городского типа Важины',\n",
       "       'посёлок Мыза-Ивановка', 'село Русско-Высоцкое',\n",
       "       'поселок городского типа Лебяжье',\n",
       "       'поселок городского типа Форносово', 'село Старая Ладога',\n",
       "       'поселок Житково', 'городской посёлок Виллози', 'деревня Лампово',\n",
       "       'деревня Шпаньково', 'деревня Лаврики', 'посёлок Сумино',\n",
       "       'посёлок Возрождение', 'деревня Старосиверская',\n",
       "       'посёлок Кикерино', 'поселок Возрождение',\n",
       "       'деревня Старое Хинколово', 'посёлок Пригородный',\n",
       "       'посёлок Торфяное', 'городской посёлок Будогощь',\n",
       "       'поселок Суходолье', 'поселок Красная Долина', 'деревня Хапо-Ое',\n",
       "       'поселок городского типа Дружная Горка', 'поселок Лисий Нос',\n",
       "       'деревня Яльгелево', 'посёлок Стеклянный', 'село Рождествено',\n",
       "       'деревня Старополье', 'посёлок Левашово', 'деревня Сяськелево',\n",
       "       'деревня Камышовка',\n",
       "       'садоводческое некоммерческое товарищество Лесная Поляна',\n",
       "       'деревня Хязельки', 'поселок Жилгородок',\n",
       "       'посёлок городского типа Павлово', 'деревня Ялгино',\n",
       "       'поселок Новый Учхоз', 'городской посёлок Рощино',\n",
       "       'поселок Гончарово', 'поселок Почап', 'посёлок Сапёрное',\n",
       "       'посёлок Платформа 69-й километр', 'поселок Каложицы',\n",
       "       'деревня Фалилеево', 'деревня Пельгора',\n",
       "       'поселок городского типа Лесогорский', 'деревня Торошковичи',\n",
       "       'посёлок Белоостров', 'посёлок Алексеевка', 'поселок Серебрянский',\n",
       "       'поселок Лукаши', 'поселок Петровское', 'деревня Щеглово',\n",
       "       'поселок Мичуринское', 'деревня Тарасово', 'поселок Кингисеппский',\n",
       "       'посёлок при железнодорожной станции Вещево', 'поселок Ушаки',\n",
       "       'деревня Котлы', 'деревня Сижно', 'деревня Торосово',\n",
       "       'посёлок Форт Красная Горка', 'деревня Новолисино',\n",
       "       'посёлок станции Громово', 'деревня Глинка', 'посёлок Мельниково',\n",
       "       'поселок городского типа Назия', 'деревня Старая Пустошь',\n",
       "       'поселок Коммунары', 'поселок Починок',\n",
       "       'посёлок городского типа Вознесенье', 'деревня Разбегаево',\n",
       "       'посёлок городского типа Рябово', 'поселок Гладкое',\n",
       "       'посёлок при железнодорожной станции Приветнинское',\n",
       "       'поселок Тёсово-4', 'посёлок Жилгородок', 'деревня Бор',\n",
       "       'посёлок Коробицыно', 'деревня Большая Вруда', 'деревня Курковицы',\n",
       "       'посёлок Лисий Нос', 'городской посёлок Советский',\n",
       "       'посёлок Кобралово', 'деревня Суоранда', 'поселок Кобралово',\n",
       "       'поселок городского типа Кондратьево',\n",
       "       'коттеджный поселок Счастье', 'поселок Любань', 'деревня Реброво',\n",
       "       'деревня Зимитицы', 'деревня Тойворово', 'поселок Семиозерье',\n",
       "       'поселок Лесное', 'поселок Совхозный', 'поселок Усть-Луга',\n",
       "       'посёлок Ленинское', 'посёлок Суйда',\n",
       "       'посёлок городского типа Форносово', 'деревня Нижние Осельки',\n",
       "       'посёлок станции Свирь', 'поселок Перово', 'Высоцк',\n",
       "       'поселок Гарболово', 'село Шум', 'поселок Котельский',\n",
       "       'поселок станции Лужайка', 'деревня Большая Пустомержа',\n",
       "       'поселок Красносельское', 'деревня Вахнова Кара', 'деревня Пижма',\n",
       "       'коттеджный поселок Кивеннапа Север', 'поселок Коробицыно',\n",
       "       'поселок Ромашки', 'посёлок Перово', 'деревня Каськово',\n",
       "       'деревня Куровицы', 'посёлок Плоское', 'поселок Сумино',\n",
       "       'поселок городского типа Большая Ижора', 'поселок Кирпичное',\n",
       "       'деревня Ям-Тесово', 'деревня Раздолье', 'деревня Терпилицы',\n",
       "       'поселок городского типа Токсово', 'посёлок Шугозеро',\n",
       "       'деревня Ваганово', 'поселок Пушное', 'садовое товарищество Садко',\n",
       "       'посёлок Усть-Ижора', 'деревня Выскатка',\n",
       "       'городской посёлок Свирьстрой', 'поселок Громово',\n",
       "       'деревня Кисельня', 'посёлок Старая Малукса',\n",
       "       'деревня Трубников Бор', 'поселок Калитино',\n",
       "       'посёлок Высокоключевой', 'садовое товарищество Приладожский',\n",
       "       'посёлок Пансионат Зелёный Бор', 'деревня Ненимяки',\n",
       "       'поселок Пансионат Зелёный Бор', 'деревня Снегирёвка',\n",
       "       'деревня Рапполово', 'деревня Пустынка', 'поселок Рабитицы',\n",
       "       'деревня Большой Сабск', 'деревня Русско', 'деревня Лупполово',\n",
       "       'деревня Большое Рейзино', 'деревня Малая Романовка',\n",
       "       'поселок Дружноселье', 'поселок Пчевжа', 'поселок Володарское',\n",
       "       'деревня Нижняя', 'коттеджный посёлок Лесное', 'деревня Тихковицы',\n",
       "       'деревня Борисова Грива', 'посёлок Дзержинского'], dtype=object)"
      ]
     },
     "execution_count": 13,
     "metadata": {},
     "output_type": "execute_result"
    }
   ],
   "source": [
    "data['locality_name'].unique()  # смотрим уникальные названия населенных пунктов"
   ]
  },
  {
   "cell_type": "markdown",
   "metadata": {},
   "source": [
    "Для устранения неявных дубликатов среди населенных пунктов принимаем решение удалить всю информацию относительно типа населенного пункта, т.к. отсутствуют стандартные формулировки. Создаем список нежелательных слов в названии blacklisted_words, запускаем по нему цикл и перезаписываем датафрейм с заменными на пустые скобки значениями. "
   ]
  },
  {
   "cell_type": "code",
   "execution_count": 14,
   "metadata": {},
   "outputs": [
    {
     "data": {
      "text/plain": [
       "array(['Санкт-Петербург', 'Шушары', 'Янино-1', 'Парголово', 'Мурино',\n",
       "       'Ломоносов', 'Сертолово', 'Петергоф', 'Пушкин', 'Кудрово',\n",
       "       'Коммунар', 'Колпино', 'Красный Бор', 'Гатчина', 'Фёдоровское',\n",
       "       'Выборг', 'Кронштадт', 'Кировск', 'Новое Девяткино',\n",
       "       'Металлострой', 'Лебяжье', 'Сиверский', 'Молодцово',\n",
       "       'Кузьмоловский', 'Новая Ропша', 'Павловск', 'Пикколово',\n",
       "       'Всеволожск', 'Волхов', 'Кингисепп', 'Приозерск', 'Сестрорецк',\n",
       "       'Куттузи', 'Аннино', 'Ефимовский', 'Плодовое', 'Заклинье',\n",
       "       'Торковичи', 'Первомайское', 'Красное Село', 'Понтонный',\n",
       "       'Сясьстрой', 'Старая', 'Лесколово', 'Новый Свет', 'Сланцы',\n",
       "       'Путилово', 'Ивангород', 'Шлиссельбург', 'Никольское',\n",
       "       'Зеленогорск', 'Сосновый Бор', 'Оржицы', 'Кальтино', 'Романовка',\n",
       "       'Бугры', 'Рощино', 'Кириши', 'Луга', 'Волосово', 'Отрадное',\n",
       "       'Павлово', 'Оредеж', 'Копорье', 'Молодёжное', 'Тихвин', 'Победа',\n",
       "       'Нурма', 'Синявино', 'Тосно', 'Стрельна', 'Бокситогорск',\n",
       "       'Александровская', 'Лопухинка', 'Пикалёво', 'Терволово',\n",
       "       'Советский', 'Подпорожье', 'Петровское', 'Токсово', 'Сельцо',\n",
       "       'Вырица', 'Кипень', 'Келози', 'Вартемяги', 'Тельмана',\n",
       "       'Севастьяново', 'Большая Ижора', 'Агалатово', 'Новогорелово',\n",
       "       'Лесогорский', 'Лаголово', 'Цвелодубово', 'Рахья', 'Белогорка',\n",
       "       'Заводской', 'Новоселье', 'Большие Колпаны', 'Горбунки', 'Батово',\n",
       "       'Заневка', 'Иссад', 'Приморск', 'Мистолово', 'Новая Ладога',\n",
       "       'Зимитицы', 'Барышево', 'Разметелево', 'Свердлова', 'Пеники',\n",
       "       'Рябово', 'Пудомяги', 'Корнево', 'Низино', 'Бегуницы', 'Поляны',\n",
       "       'Мга', 'Елизаветино', 'Кузнечное', 'Колтуши', 'Запорожское',\n",
       "       'Гостилицы', 'Малое Карлино', 'Мичуринское', 'Морозова',\n",
       "       'Песочный', 'Сосново', 'Аро', 'Ильичёво', 'Тайцы', 'Малое Верево',\n",
       "       'Извара', 'Вещево', 'Паша', 'Калитино', 'Ульяновка', 'Чудской Бор',\n",
       "       'Дубровка', 'Мины', 'Войсковицы', 'Коркино', 'Ропша',\n",
       "       'Приладожский', 'Щеглово', 'Гаврилово', 'Лодейное Поле',\n",
       "       'Рабитицы', 'Никольский', 'Кузьмолово', 'Малые Колпаны',\n",
       "       'Петро-Славянка', 'Назия', 'Репино', 'Углово', 'Старая Малукса',\n",
       "       'Меньково', 'Старые Бегуницы', 'Сапёрный', 'Семрино', 'Глажево',\n",
       "       'Кобринское', 'Гарболово', 'Юкки', 'Приветнинское', 'Мануйлово',\n",
       "       'Пчева', 'Цвылёво', 'Мельниково', 'Пудость', 'Усть-Луга',\n",
       "       'Светогорск', 'Любань', 'Селезнёво', 'Каменногорск', 'Кривко',\n",
       "       'Глебычево', 'Парицы', 'Жилпосёлок', 'Войскорово', 'Стеклянный',\n",
       "       'Важины', 'Мыза-Ивановка', 'Русско-Высоцкое', 'Форносово',\n",
       "       'Старая Ладога', 'Житково', 'Виллози', 'Лампово', 'Шпаньково',\n",
       "       'Лаврики', 'Сумино', 'Возрождение', 'Старосиверская', 'Кикерино',\n",
       "       'Старое Хинколово', 'Пригородный', 'Торфяное', 'Будогощь',\n",
       "       'Суходолье', 'Красная Долина', 'Хапо-Ое', 'Дружная Горка',\n",
       "       'Лисий Нос', 'Яльгелево', 'Рождествено', 'Старополье', 'Левашово',\n",
       "       'Сяськелево', 'Камышовка', 'Лесная Поляна', 'Хязельки',\n",
       "       'Жилгородок', 'Ялгино', 'Новый Учхоз', 'Гончарово', 'Почап',\n",
       "       'Сапёрное', 'Платформа 69-й километр', 'Каложицы', 'Фалилеево',\n",
       "       'Пельгора', 'Торошковичи', 'Белоостров', 'Алексеевка',\n",
       "       'Серебрянский', 'Лукаши', 'Тарасово', 'Кингисеппский', 'Ушаки',\n",
       "       'Котлы', 'Сижно', 'Торосово', 'Форт Красная Горка', 'Новолисино',\n",
       "       'Громово', 'Глинка', 'Старая Пустошь', 'Коммунары', 'Починок',\n",
       "       'Вознесенье', 'Разбегаево', 'Гладкое', 'Тёсово-4', 'Бор',\n",
       "       'Коробицыно', 'Большая Вруда', 'Курковицы', 'Кобралово',\n",
       "       'Суоранда', 'Кондратьево', 'Счастье', 'Реброво', 'Тойворово',\n",
       "       'Семиозерье', 'Лесное', 'Совхозный', 'Ленинское', 'Суйда',\n",
       "       'Нижние Осельки', 'Свирь', 'Перово', 'Высоцк', 'Шум', 'Котельский',\n",
       "       'Лужайка', 'Большая Пустомержа', 'Красносельское', 'Вахнова Кара',\n",
       "       'Пижма', 'Кивеннапа Север', 'Ромашки', 'Каськово', 'Куровицы',\n",
       "       'Плоское', 'Кирпичное', 'Ям-Тесово', 'Раздолье', 'Терпилицы',\n",
       "       'Шугозеро', 'Ваганово', 'Пушное', 'Садко', 'Усть-Ижора',\n",
       "       'Выскатка', 'Свирьстрой', 'Кисельня', 'Трубников Бор',\n",
       "       'Высокоключевой', 'Пансионат Зелёный Бор', 'Ненимяки',\n",
       "       'Снегирёвка', 'Рапполово', 'Пустынка', 'Большой Сабск', 'Русско',\n",
       "       'Лупполово', 'Большое Рейзино', 'Малая Романовка', 'Дружноселье',\n",
       "       'Пчевжа', 'Володарское', 'Нижняя', 'Тихковицы', 'Борисова Грива',\n",
       "       'Дзержинского'], dtype=object)"
      ]
     },
     "execution_count": 14,
     "metadata": {},
     "output_type": "execute_result"
    }
   ],
   "source": [
    "blacklisted_words = ['посёлок ', 'поселок ', 'городской посёлок ', 'деревня ', 'деревня ', 'коттеджный ', 'городской ', 'имени ', 'при железнодорожной станции ','станции ', 'посёлок городского типа ', 'городского типа ', 'поселок городского типа ', 'посёлок городского типа ', 'садовое товарищество ', 'село ', 'городской поселок ', 'садоводческое некоммерческое товарищество ', 'городской  ', 'коттеджный  ', 'посёлок при железнодорожной станции ','коттеджный поселок ', 'коттеджный посёлок ',' городского типа ']  # создаем список слов, которые хотим убрать\n",
    "for word in blacklisted_words:  # запускаем цикл по списку с нежелательным словами \n",
    "    data['locality_name']= data['locality_name'].str.replace(word, '')  # удаляем заменой на пустые скобки, перезаписывая датафрейм\n",
    "data['locality_name'].unique()  # смотрим новые уникальные значения"
   ]
  },
  {
   "cell_type": "markdown",
   "metadata": {},
   "source": [
    "#### 2.5 Редкие и выбивающиеся значения"
   ]
  },
  {
   "cell_type": "markdown",
   "metadata": {},
   "source": [
    "Для поиска аномалий применим метод describe к датафрейму и посмотрим на минимальные, максимальные и средние значения в поисках явных ошибок или выбросов."
   ]
  },
  {
   "cell_type": "code",
   "execution_count": 15,
   "metadata": {},
   "outputs": [
    {
     "data": {
      "text/html": [
       "<div>\n",
       "<style scoped>\n",
       "    .dataframe tbody tr th:only-of-type {\n",
       "        vertical-align: middle;\n",
       "    }\n",
       "\n",
       "    .dataframe tbody tr th {\n",
       "        vertical-align: top;\n",
       "    }\n",
       "\n",
       "    .dataframe thead th {\n",
       "        text-align: right;\n",
       "    }\n",
       "</style>\n",
       "<table border=\"1\" class=\"dataframe\">\n",
       "  <thead>\n",
       "    <tr style=\"text-align: right;\">\n",
       "      <th></th>\n",
       "      <th>total_images</th>\n",
       "      <th>last_price</th>\n",
       "      <th>total_area</th>\n",
       "      <th>rooms</th>\n",
       "      <th>ceiling_height</th>\n",
       "      <th>floors_total</th>\n",
       "      <th>living_area</th>\n",
       "      <th>floor</th>\n",
       "      <th>kitchen_area</th>\n",
       "      <th>balcony</th>\n",
       "      <th>airports_nearest</th>\n",
       "      <th>cityCenters_nearest</th>\n",
       "      <th>parks_around3000</th>\n",
       "      <th>parks_nearest</th>\n",
       "      <th>ponds_around3000</th>\n",
       "      <th>ponds_nearest</th>\n",
       "      <th>days_exposition</th>\n",
       "    </tr>\n",
       "  </thead>\n",
       "  <tbody>\n",
       "    <tr>\n",
       "      <th>count</th>\n",
       "      <td>23565.000000</td>\n",
       "      <td>2.356500e+04</td>\n",
       "      <td>23565.000000</td>\n",
       "      <td>23565.000000</td>\n",
       "      <td>23565.000000</td>\n",
       "      <td>23565.000000</td>\n",
       "      <td>23565.000000</td>\n",
       "      <td>23565.000000</td>\n",
       "      <td>23565.000000</td>\n",
       "      <td>23565.000000</td>\n",
       "      <td>18041.000000</td>\n",
       "      <td>18064.000000</td>\n",
       "      <td>23565.000000</td>\n",
       "      <td>8030.000000</td>\n",
       "      <td>23565.000000</td>\n",
       "      <td>9036.000000</td>\n",
       "      <td>20394.000000</td>\n",
       "    </tr>\n",
       "    <tr>\n",
       "      <th>mean</th>\n",
       "      <td>9.878421</td>\n",
       "      <td>6.540058e+06</td>\n",
       "      <td>60.322824</td>\n",
       "      <td>2.070656</td>\n",
       "      <td>2.724530</td>\n",
       "      <td>10.675875</td>\n",
       "      <td>34.561055</td>\n",
       "      <td>5.878124</td>\n",
       "      <td>10.565298</td>\n",
       "      <td>0.593677</td>\n",
       "      <td>28797.082701</td>\n",
       "      <td>14192.656056</td>\n",
       "      <td>0.468831</td>\n",
       "      <td>490.580448</td>\n",
       "      <td>0.589900</td>\n",
       "      <td>518.289509</td>\n",
       "      <td>180.741395</td>\n",
       "    </tr>\n",
       "    <tr>\n",
       "      <th>std</th>\n",
       "      <td>5.681156</td>\n",
       "      <td>1.091093e+07</td>\n",
       "      <td>35.657060</td>\n",
       "      <td>1.078591</td>\n",
       "      <td>0.991026</td>\n",
       "      <td>6.594823</td>\n",
       "      <td>22.346086</td>\n",
       "      <td>4.871485</td>\n",
       "      <td>6.093122</td>\n",
       "      <td>0.960660</td>\n",
       "      <td>12632.499735</td>\n",
       "      <td>8613.348153</td>\n",
       "      <td>0.748403</td>\n",
       "      <td>341.572956</td>\n",
       "      <td>0.883966</td>\n",
       "      <td>278.009558</td>\n",
       "      <td>219.732782</td>\n",
       "    </tr>\n",
       "    <tr>\n",
       "      <th>min</th>\n",
       "      <td>0.000000</td>\n",
       "      <td>1.219000e+04</td>\n",
       "      <td>12.000000</td>\n",
       "      <td>0.000000</td>\n",
       "      <td>1.000000</td>\n",
       "      <td>1.000000</td>\n",
       "      <td>2.000000</td>\n",
       "      <td>1.000000</td>\n",
       "      <td>1.300000</td>\n",
       "      <td>0.000000</td>\n",
       "      <td>0.000000</td>\n",
       "      <td>181.000000</td>\n",
       "      <td>0.000000</td>\n",
       "      <td>1.000000</td>\n",
       "      <td>0.000000</td>\n",
       "      <td>13.000000</td>\n",
       "      <td>1.000000</td>\n",
       "    </tr>\n",
       "    <tr>\n",
       "      <th>25%</th>\n",
       "      <td>6.000000</td>\n",
       "      <td>3.400000e+06</td>\n",
       "      <td>40.000000</td>\n",
       "      <td>1.000000</td>\n",
       "      <td>2.600000</td>\n",
       "      <td>5.000000</td>\n",
       "      <td>19.000000</td>\n",
       "      <td>2.000000</td>\n",
       "      <td>7.000000</td>\n",
       "      <td>0.000000</td>\n",
       "      <td>18565.000000</td>\n",
       "      <td>9238.000000</td>\n",
       "      <td>0.000000</td>\n",
       "      <td>288.000000</td>\n",
       "      <td>0.000000</td>\n",
       "      <td>293.000000</td>\n",
       "      <td>45.000000</td>\n",
       "    </tr>\n",
       "    <tr>\n",
       "      <th>50%</th>\n",
       "      <td>9.000000</td>\n",
       "      <td>4.646000e+06</td>\n",
       "      <td>52.000000</td>\n",
       "      <td>2.000000</td>\n",
       "      <td>2.650000</td>\n",
       "      <td>9.000000</td>\n",
       "      <td>30.000000</td>\n",
       "      <td>4.000000</td>\n",
       "      <td>9.000000</td>\n",
       "      <td>0.000000</td>\n",
       "      <td>26757.000000</td>\n",
       "      <td>13096.500000</td>\n",
       "      <td>0.000000</td>\n",
       "      <td>455.000000</td>\n",
       "      <td>0.000000</td>\n",
       "      <td>503.000000</td>\n",
       "      <td>95.000000</td>\n",
       "    </tr>\n",
       "    <tr>\n",
       "      <th>75%</th>\n",
       "      <td>14.000000</td>\n",
       "      <td>6.790000e+06</td>\n",
       "      <td>69.700000</td>\n",
       "      <td>3.000000</td>\n",
       "      <td>2.700000</td>\n",
       "      <td>16.000000</td>\n",
       "      <td>42.100000</td>\n",
       "      <td>8.000000</td>\n",
       "      <td>12.000000</td>\n",
       "      <td>1.000000</td>\n",
       "      <td>37273.000000</td>\n",
       "      <td>16285.000000</td>\n",
       "      <td>1.000000</td>\n",
       "      <td>612.000000</td>\n",
       "      <td>1.000000</td>\n",
       "      <td>730.000000</td>\n",
       "      <td>231.000000</td>\n",
       "    </tr>\n",
       "    <tr>\n",
       "      <th>max</th>\n",
       "      <td>50.000000</td>\n",
       "      <td>7.630000e+08</td>\n",
       "      <td>900.000000</td>\n",
       "      <td>19.000000</td>\n",
       "      <td>100.000000</td>\n",
       "      <td>60.000000</td>\n",
       "      <td>409.700000</td>\n",
       "      <td>33.000000</td>\n",
       "      <td>112.000000</td>\n",
       "      <td>5.000000</td>\n",
       "      <td>84869.000000</td>\n",
       "      <td>65968.000000</td>\n",
       "      <td>3.000000</td>\n",
       "      <td>3190.000000</td>\n",
       "      <td>3.000000</td>\n",
       "      <td>1344.000000</td>\n",
       "      <td>1580.000000</td>\n",
       "    </tr>\n",
       "  </tbody>\n",
       "</table>\n",
       "</div>"
      ],
      "text/plain": [
       "       total_images    last_price    total_area         rooms  ceiling_height  \\\n",
       "count  23565.000000  2.356500e+04  23565.000000  23565.000000    23565.000000   \n",
       "mean       9.878421  6.540058e+06     60.322824      2.070656        2.724530   \n",
       "std        5.681156  1.091093e+07     35.657060      1.078591        0.991026   \n",
       "min        0.000000  1.219000e+04     12.000000      0.000000        1.000000   \n",
       "25%        6.000000  3.400000e+06     40.000000      1.000000        2.600000   \n",
       "50%        9.000000  4.646000e+06     52.000000      2.000000        2.650000   \n",
       "75%       14.000000  6.790000e+06     69.700000      3.000000        2.700000   \n",
       "max       50.000000  7.630000e+08    900.000000     19.000000      100.000000   \n",
       "\n",
       "       floors_total   living_area         floor  kitchen_area       balcony  \\\n",
       "count  23565.000000  23565.000000  23565.000000  23565.000000  23565.000000   \n",
       "mean      10.675875     34.561055      5.878124     10.565298      0.593677   \n",
       "std        6.594823     22.346086      4.871485      6.093122      0.960660   \n",
       "min        1.000000      2.000000      1.000000      1.300000      0.000000   \n",
       "25%        5.000000     19.000000      2.000000      7.000000      0.000000   \n",
       "50%        9.000000     30.000000      4.000000      9.000000      0.000000   \n",
       "75%       16.000000     42.100000      8.000000     12.000000      1.000000   \n",
       "max       60.000000    409.700000     33.000000    112.000000      5.000000   \n",
       "\n",
       "       airports_nearest  cityCenters_nearest  parks_around3000  parks_nearest  \\\n",
       "count      18041.000000         18064.000000      23565.000000    8030.000000   \n",
       "mean       28797.082701         14192.656056          0.468831     490.580448   \n",
       "std        12632.499735          8613.348153          0.748403     341.572956   \n",
       "min            0.000000           181.000000          0.000000       1.000000   \n",
       "25%        18565.000000          9238.000000          0.000000     288.000000   \n",
       "50%        26757.000000         13096.500000          0.000000     455.000000   \n",
       "75%        37273.000000         16285.000000          1.000000     612.000000   \n",
       "max        84869.000000         65968.000000          3.000000    3190.000000   \n",
       "\n",
       "       ponds_around3000  ponds_nearest  days_exposition  \n",
       "count      23565.000000    9036.000000     20394.000000  \n",
       "mean           0.589900     518.289509       180.741395  \n",
       "std            0.883966     278.009558       219.732782  \n",
       "min            0.000000      13.000000         1.000000  \n",
       "25%            0.000000     293.000000        45.000000  \n",
       "50%            0.000000     503.000000        95.000000  \n",
       "75%            1.000000     730.000000       231.000000  \n",
       "max            3.000000    1344.000000      1580.000000  "
      ]
     },
     "execution_count": 15,
     "metadata": {},
     "output_type": "execute_result"
    }
   ],
   "source": [
    "data.describe()"
   ]
  },
  {
   "cell_type": "markdown",
   "metadata": {},
   "source": [
    "После анализа базы на себя обратили внимания следующие значения:\n",
    "\n",
    "Общая площадь квартир (total_area): минимальное значение 12, максимальное 900. При этом Согласно законодательству площадь жилого помещения (в том числе и студии) должна быть не меньше 19 квадратных метров. "
   ]
  },
  {
   "cell_type": "code",
   "execution_count": 16,
   "metadata": {},
   "outputs": [
    {
     "data": {
      "text/plain": [
       "24"
      ]
     },
     "execution_count": 16,
     "metadata": {},
     "output_type": "execute_result"
    }
   ],
   "source": [
    "data.query('total_area < 19')['total_area'].count()  # смотрим сколько объектов с жил.площадью менее 19 м."
   ]
  },
  {
   "cell_type": "markdown",
   "metadata": {},
   "source": [
    "Меньше 19 м. могут быть апартаменты, проверим это."
   ]
  },
  {
   "cell_type": "code",
   "execution_count": 17,
   "metadata": {},
   "outputs": [
    {
     "data": {
      "text/plain": [
       "23"
      ]
     },
     "execution_count": 17,
     "metadata": {},
     "output_type": "execute_result"
    }
   ],
   "source": [
    "data.query('(total_area < 20) and (is_apartment == True)')['total_area'].count()"
   ]
  },
  {
   "cell_type": "markdown",
   "metadata": {},
   "source": [
    "Объекты с площадью менее 19 м. из базы удалим. По гистограмме видны выбросы объектов с большой площадью. Посмотрим на диаграмме размаха:"
   ]
  },
  {
   "cell_type": "code",
   "execution_count": 18,
   "metadata": {},
   "outputs": [
    {
     "data": {
      "image/png": "[encoded data removed]",
      "text/plain": [
       "<Figure size 432x288 with 1 Axes>"
      ]
     },
     "metadata": {
      "needs_background": "light"
     },
     "output_type": "display_data"
    }
   ],
   "source": [
    "plt.boxplot(data['total_area'])\n",
    "plt.show()"
   ]
  },
  {
   "cell_type": "markdown",
   "metadata": {},
   "source": [
    "Межквартильный размах для  total_area наблюдается в диапазоне от 0 до 114 кв.м. Однако площадь свыше 100-120 метров не является необычной для жилой площади, особенно для современной постройки. Какое количество квартир превышает 250 м. общей площади? Квартиры площади более 250 метров не являются типовыми и принадлежат к более узкому сегменту недвижимости."
   ]
  },
  {
   "cell_type": "code",
   "execution_count": 19,
   "metadata": {},
   "outputs": [
    {
     "data": {
      "text/plain": [
       "111"
      ]
     },
     "execution_count": 19,
     "metadata": {},
     "output_type": "execute_result"
    }
   ],
   "source": [
    "data.query('total_area > 250')['total_area'].count()"
   ]
  },
  {
   "cell_type": "markdown",
   "metadata": {},
   "source": [
    "Принимаем решение убрать и их, т.к. количество небольшое, а сами объекты достаточно уникальны и по многим параментрам могут оказывать влияние на расчет средних значений."
   ]
  },
  {
   "cell_type": "code",
   "execution_count": 20,
   "metadata": {},
   "outputs": [],
   "source": [
    "data = data.loc[(data['total_area']<= 250)&(data['total_area']>= 19)]  # перезаписываем в датафрейм только данные, соответствующие условию  "
   ]
  },
  {
   "cell_type": "markdown",
   "metadata": {},
   "source": [
    "Анализ высоты потолков (ceiling_height): cогласно СНиП высота потолков в жилых помещениях должна быть не меньше 2,4 метров (старые дома, построенные по прежним нормам). \n",
    "Средние цифры высоты потолков варьируются в пределах 2.7-3.2 м. Современные архитектурные решения позволяют строить дома с высотой потолков до 5–6 м.\n",
    "Посмотрим базу:"
   ]
  },
  {
   "cell_type": "code",
   "execution_count": 21,
   "metadata": {},
   "outputs": [
    {
     "name": "stdout",
     "output_type": "stream",
     "text": [
      "ниже 2.4: 21\n",
      "выше 6.0: 29\n",
      "27.0     8\n",
      "25.0     7\n",
      "8.0      3\n",
      "32.0     2\n",
      "14.0     1\n",
      "20.0     1\n",
      "24.0     1\n",
      "27.5     1\n",
      "10.3     1\n",
      "8.3      1\n",
      "22.6     1\n",
      "26.0     1\n",
      "100.0    1\n",
      "Name: ceiling_height, dtype: int64\n",
      "2.00    11\n",
      "2.30     4\n",
      "2.20     1\n",
      "1.75     1\n",
      "2.34     1\n",
      "2.25     1\n",
      "1.20     1\n",
      "1.00     1\n",
      "Name: ceiling_height, dtype: int64\n"
     ]
    }
   ],
   "source": [
    "print('ниже 2.4:', data.query('ceiling_height < 2.40')['ceiling_height'].count()),   # смотрим сколько всего объектов с высотой потолков < 2.4\n",
    "print('выше 6.0:', data.query('ceiling_height > 6.00')['ceiling_height'].count()), # смотрим сколько всего объектов с высотой потолков > 6\n",
    "print(data.query('ceiling_height> 6.00')['ceiling_height'].value_counts()),  # смотрим на значения выше нормы\n",
    "print(data.query('ceiling_height< 2.40')['ceiling_height'].value_counts())  # смотрим на значения ниже нормы"
   ]
  },
  {
   "cell_type": "markdown",
   "metadata": {},
   "source": [
    "В квартирах с высотой потолка выше 24 метров берем за гипотезу допущенную ошибку при вводе данных и приводим данные к более реальным значениям (2.4 метра)"
   ]
  },
  {
   "cell_type": "code",
   "execution_count": 22,
   "metadata": {},
   "outputs": [],
   "source": [
    "data.loc[(data['ceiling_height']>= 20), 'ceiling_height'] = data['ceiling_height']/ 10  # высоту потолков более 20 метров делим на 10"
   ]
  },
  {
   "cell_type": "markdown",
   "metadata": {},
   "source": [
    "Объекты с высотой потолков от 6 до 24 метров необходимо дополнительно проанализировать. Теоретически такая высота может быть в стройвариантах больших квартир, предусматривающих самостоятельное дальнейшее возведение в том числе и этажей."
   ]
  },
  {
   "cell_type": "code",
   "execution_count": 23,
   "metadata": {},
   "outputs": [
    {
     "data": {
      "text/html": [
       "<div>\n",
       "<style scoped>\n",
       "    .dataframe tbody tr th:only-of-type {\n",
       "        vertical-align: middle;\n",
       "    }\n",
       "\n",
       "    .dataframe tbody tr th {\n",
       "        vertical-align: top;\n",
       "    }\n",
       "\n",
       "    .dataframe thead th {\n",
       "        text-align: right;\n",
       "    }\n",
       "</style>\n",
       "<table border=\"1\" class=\"dataframe\">\n",
       "  <thead>\n",
       "    <tr style=\"text-align: right;\">\n",
       "      <th></th>\n",
       "      <th>total_images</th>\n",
       "      <th>last_price</th>\n",
       "      <th>total_area</th>\n",
       "      <th>first_day_exposition</th>\n",
       "      <th>rooms</th>\n",
       "      <th>ceiling_height</th>\n",
       "      <th>floors_total</th>\n",
       "      <th>living_area</th>\n",
       "      <th>floor</th>\n",
       "      <th>is_apartment</th>\n",
       "      <th>...</th>\n",
       "      <th>kitchen_area</th>\n",
       "      <th>balcony</th>\n",
       "      <th>locality_name</th>\n",
       "      <th>airports_nearest</th>\n",
       "      <th>cityCenters_nearest</th>\n",
       "      <th>parks_around3000</th>\n",
       "      <th>parks_nearest</th>\n",
       "      <th>ponds_around3000</th>\n",
       "      <th>ponds_nearest</th>\n",
       "      <th>days_exposition</th>\n",
       "    </tr>\n",
       "  </thead>\n",
       "  <tbody>\n",
       "    <tr>\n",
       "      <th>3474</th>\n",
       "      <td>3</td>\n",
       "      <td>1400000</td>\n",
       "      <td>30.0</td>\n",
       "      <td>2018-03-16</td>\n",
       "      <td>1</td>\n",
       "      <td>8.0</td>\n",
       "      <td>5</td>\n",
       "      <td>15.3</td>\n",
       "      <td>2</td>\n",
       "      <td>False</td>\n",
       "      <td>...</td>\n",
       "      <td>7.300000</td>\n",
       "      <td>0</td>\n",
       "      <td>Нурма</td>\n",
       "      <td>NaN</td>\n",
       "      <td>NaN</td>\n",
       "      <td>0</td>\n",
       "      <td>NaN</td>\n",
       "      <td>0</td>\n",
       "      <td>NaN</td>\n",
       "      <td>125.0</td>\n",
       "    </tr>\n",
       "    <tr>\n",
       "      <th>5863</th>\n",
       "      <td>20</td>\n",
       "      <td>5650000</td>\n",
       "      <td>45.0</td>\n",
       "      <td>2018-08-15</td>\n",
       "      <td>1</td>\n",
       "      <td>8.3</td>\n",
       "      <td>16</td>\n",
       "      <td>19.3</td>\n",
       "      <td>14</td>\n",
       "      <td>True</td>\n",
       "      <td>...</td>\n",
       "      <td>8.300000</td>\n",
       "      <td>1</td>\n",
       "      <td>Санкт-Петербург</td>\n",
       "      <td>13069.0</td>\n",
       "      <td>10763.0</td>\n",
       "      <td>0</td>\n",
       "      <td>NaN</td>\n",
       "      <td>1</td>\n",
       "      <td>613.0</td>\n",
       "      <td>14.0</td>\n",
       "    </tr>\n",
       "    <tr>\n",
       "      <th>15061</th>\n",
       "      <td>19</td>\n",
       "      <td>5600000</td>\n",
       "      <td>56.4</td>\n",
       "      <td>2018-05-11</td>\n",
       "      <td>2</td>\n",
       "      <td>14.0</td>\n",
       "      <td>14</td>\n",
       "      <td>32.4</td>\n",
       "      <td>5</td>\n",
       "      <td>True</td>\n",
       "      <td>...</td>\n",
       "      <td>9.100000</td>\n",
       "      <td>2</td>\n",
       "      <td>Санкт-Петербург</td>\n",
       "      <td>14814.0</td>\n",
       "      <td>13610.0</td>\n",
       "      <td>0</td>\n",
       "      <td>NaN</td>\n",
       "      <td>0</td>\n",
       "      <td>NaN</td>\n",
       "      <td>315.0</td>\n",
       "    </tr>\n",
       "    <tr>\n",
       "      <th>15743</th>\n",
       "      <td>14</td>\n",
       "      <td>5600000</td>\n",
       "      <td>67.0</td>\n",
       "      <td>2016-11-11</td>\n",
       "      <td>3</td>\n",
       "      <td>8.0</td>\n",
       "      <td>16</td>\n",
       "      <td>41.0</td>\n",
       "      <td>1</td>\n",
       "      <td>True</td>\n",
       "      <td>...</td>\n",
       "      <td>8.000000</td>\n",
       "      <td>0</td>\n",
       "      <td>Санкт-Петербург</td>\n",
       "      <td>32691.0</td>\n",
       "      <td>11035.0</td>\n",
       "      <td>1</td>\n",
       "      <td>723.0</td>\n",
       "      <td>0</td>\n",
       "      <td>NaN</td>\n",
       "      <td>474.0</td>\n",
       "    </tr>\n",
       "    <tr>\n",
       "      <th>17442</th>\n",
       "      <td>0</td>\n",
       "      <td>5350000</td>\n",
       "      <td>54.0</td>\n",
       "      <td>2015-06-16</td>\n",
       "      <td>2</td>\n",
       "      <td>8.0</td>\n",
       "      <td>5</td>\n",
       "      <td>29.0</td>\n",
       "      <td>2</td>\n",
       "      <td>True</td>\n",
       "      <td>...</td>\n",
       "      <td>10.115497</td>\n",
       "      <td>1</td>\n",
       "      <td>Красное Село</td>\n",
       "      <td>24638.0</td>\n",
       "      <td>28062.0</td>\n",
       "      <td>0</td>\n",
       "      <td>NaN</td>\n",
       "      <td>0</td>\n",
       "      <td>NaN</td>\n",
       "      <td>469.0</td>\n",
       "    </tr>\n",
       "    <tr>\n",
       "      <th>22309</th>\n",
       "      <td>20</td>\n",
       "      <td>5300000</td>\n",
       "      <td>45.0</td>\n",
       "      <td>2017-09-30</td>\n",
       "      <td>1</td>\n",
       "      <td>10.3</td>\n",
       "      <td>16</td>\n",
       "      <td>15.5</td>\n",
       "      <td>15</td>\n",
       "      <td>True</td>\n",
       "      <td>...</td>\n",
       "      <td>8.429581</td>\n",
       "      <td>0</td>\n",
       "      <td>Санкт-Петербург</td>\n",
       "      <td>36353.0</td>\n",
       "      <td>11936.0</td>\n",
       "      <td>2</td>\n",
       "      <td>440.0</td>\n",
       "      <td>2</td>\n",
       "      <td>450.0</td>\n",
       "      <td>136.0</td>\n",
       "    </tr>\n",
       "    <tr>\n",
       "      <th>22869</th>\n",
       "      <td>0</td>\n",
       "      <td>15000000</td>\n",
       "      <td>25.0</td>\n",
       "      <td>2018-07-25</td>\n",
       "      <td>1</td>\n",
       "      <td>10.0</td>\n",
       "      <td>5</td>\n",
       "      <td>14.0</td>\n",
       "      <td>5</td>\n",
       "      <td>True</td>\n",
       "      <td>...</td>\n",
       "      <td>11.000000</td>\n",
       "      <td>5</td>\n",
       "      <td>Санкт-Петербург</td>\n",
       "      <td>34963.0</td>\n",
       "      <td>8283.0</td>\n",
       "      <td>1</td>\n",
       "      <td>223.0</td>\n",
       "      <td>3</td>\n",
       "      <td>30.0</td>\n",
       "      <td>19.0</td>\n",
       "    </tr>\n",
       "  </tbody>\n",
       "</table>\n",
       "<p>7 rows × 22 columns</p>\n",
       "</div>"
      ],
      "text/plain": [
       "       total_images  last_price  total_area first_day_exposition  rooms  \\\n",
       "3474              3     1400000        30.0           2018-03-16      1   \n",
       "5863             20     5650000        45.0           2018-08-15      1   \n",
       "15061            19     5600000        56.4           2018-05-11      2   \n",
       "15743            14     5600000        67.0           2016-11-11      3   \n",
       "17442             0     5350000        54.0           2015-06-16      2   \n",
       "22309            20     5300000        45.0           2017-09-30      1   \n",
       "22869             0    15000000        25.0           2018-07-25      1   \n",
       "\n",
       "       ceiling_height  floors_total  living_area  floor  is_apartment  ...  \\\n",
       "3474              8.0             5         15.3      2         False  ...   \n",
       "5863              8.3            16         19.3     14          True  ...   \n",
       "15061            14.0            14         32.4      5          True  ...   \n",
       "15743             8.0            16         41.0      1          True  ...   \n",
       "17442             8.0             5         29.0      2          True  ...   \n",
       "22309            10.3            16         15.5     15          True  ...   \n",
       "22869            10.0             5         14.0      5          True  ...   \n",
       "\n",
       "       kitchen_area  balcony    locality_name  airports_nearest  \\\n",
       "3474       7.300000        0            Нурма               NaN   \n",
       "5863       8.300000        1  Санкт-Петербург           13069.0   \n",
       "15061      9.100000        2  Санкт-Петербург           14814.0   \n",
       "15743      8.000000        0  Санкт-Петербург           32691.0   \n",
       "17442     10.115497        1     Красное Село           24638.0   \n",
       "22309      8.429581        0  Санкт-Петербург           36353.0   \n",
       "22869     11.000000        5  Санкт-Петербург           34963.0   \n",
       "\n",
       "      cityCenters_nearest  parks_around3000  parks_nearest  ponds_around3000  \\\n",
       "3474                  NaN                 0            NaN                 0   \n",
       "5863              10763.0                 0            NaN                 1   \n",
       "15061             13610.0                 0            NaN                 0   \n",
       "15743             11035.0                 1          723.0                 0   \n",
       "17442             28062.0                 0            NaN                 0   \n",
       "22309             11936.0                 2          440.0                 2   \n",
       "22869              8283.0                 1          223.0                 3   \n",
       "\n",
       "       ponds_nearest  days_exposition  \n",
       "3474             NaN            125.0  \n",
       "5863           613.0             14.0  \n",
       "15061            NaN            315.0  \n",
       "15743            NaN            474.0  \n",
       "17442            NaN            469.0  \n",
       "22309          450.0            136.0  \n",
       "22869           30.0             19.0  \n",
       "\n",
       "[7 rows x 22 columns]"
      ]
     },
     "execution_count": 23,
     "metadata": {},
     "output_type": "execute_result"
    }
   ],
   "source": [
    " data.query('ceiling_height > 6').head(10)"
   ]
  },
  {
   "cell_type": "markdown",
   "metadata": {},
   "source": [
    "Гипотеза не подтвердилась: все аномально \"высокие\" квартиры - небольшой площади. Удаляем эти записи.\n",
    "Также удаляем объекты с высотой потолков ниже 2.4 метра (21 запись). Эти объекты не могут являться жилыми, в данных либо ошибка, либо это технические или иного назначения помещения (например кладовки). Для анализа данные непригодны. "
   ]
  },
  {
   "cell_type": "code",
   "execution_count": 24,
   "metadata": {},
   "outputs": [],
   "source": [
    "data = data.loc[(data['ceiling_height']<= 8)&(data['ceiling_height']>= 2.4)]  # перезаписываем в датафрейм только данные, соответствующие условию  \n"
   ]
  },
  {
   "cell_type": "markdown",
   "metadata": {},
   "source": [
    "Количество комнат: rooms: обращают на себя внимания объекты без комнат. Необходимо удостовериться что все они студии и/или апартаменты"
   ]
  },
  {
   "cell_type": "code",
   "execution_count": 25,
   "metadata": {
    "scrolled": true
   },
   "outputs": [
    {
     "data": {
      "text/html": [
       "<div>\n",
       "<style scoped>\n",
       "    .dataframe tbody tr th:only-of-type {\n",
       "        vertical-align: middle;\n",
       "    }\n",
       "\n",
       "    .dataframe tbody tr th {\n",
       "        vertical-align: top;\n",
       "    }\n",
       "\n",
       "    .dataframe thead th {\n",
       "        text-align: right;\n",
       "    }\n",
       "</style>\n",
       "<table border=\"1\" class=\"dataframe\">\n",
       "  <thead>\n",
       "    <tr style=\"text-align: right;\">\n",
       "      <th></th>\n",
       "      <th>total_images</th>\n",
       "      <th>last_price</th>\n",
       "      <th>total_area</th>\n",
       "      <th>first_day_exposition</th>\n",
       "      <th>rooms</th>\n",
       "      <th>ceiling_height</th>\n",
       "      <th>floors_total</th>\n",
       "      <th>living_area</th>\n",
       "      <th>floor</th>\n",
       "      <th>is_apartment</th>\n",
       "      <th>...</th>\n",
       "      <th>kitchen_area</th>\n",
       "      <th>balcony</th>\n",
       "      <th>locality_name</th>\n",
       "      <th>airports_nearest</th>\n",
       "      <th>cityCenters_nearest</th>\n",
       "      <th>parks_around3000</th>\n",
       "      <th>parks_nearest</th>\n",
       "      <th>ponds_around3000</th>\n",
       "      <th>ponds_nearest</th>\n",
       "      <th>days_exposition</th>\n",
       "    </tr>\n",
       "  </thead>\n",
       "  <tbody>\n",
       "    <tr>\n",
       "      <th>839</th>\n",
       "      <td>14</td>\n",
       "      <td>1900000</td>\n",
       "      <td>35.0</td>\n",
       "      <td>2017-04-14</td>\n",
       "      <td>0</td>\n",
       "      <td>2.7</td>\n",
       "      <td>5</td>\n",
       "      <td>15.0</td>\n",
       "      <td>3</td>\n",
       "      <td>False</td>\n",
       "      <td>...</td>\n",
       "      <td>6.556341</td>\n",
       "      <td>1</td>\n",
       "      <td>Новый Свет</td>\n",
       "      <td>NaN</td>\n",
       "      <td>NaN</td>\n",
       "      <td>0</td>\n",
       "      <td>NaN</td>\n",
       "      <td>0</td>\n",
       "      <td>NaN</td>\n",
       "      <td>7.0</td>\n",
       "    </tr>\n",
       "  </tbody>\n",
       "</table>\n",
       "<p>1 rows × 22 columns</p>\n",
       "</div>"
      ],
      "text/plain": [
       "     total_images  last_price  total_area first_day_exposition  rooms  \\\n",
       "839            14     1900000        35.0           2017-04-14      0   \n",
       "\n",
       "     ceiling_height  floors_total  living_area  floor  is_apartment  ...  \\\n",
       "839             2.7             5         15.0      3         False  ...   \n",
       "\n",
       "     kitchen_area  balcony  locality_name  airports_nearest  \\\n",
       "839      6.556341        1     Новый Свет               NaN   \n",
       "\n",
       "    cityCenters_nearest  parks_around3000  parks_nearest  ponds_around3000  \\\n",
       "839                 NaN                 0            NaN                 0   \n",
       "\n",
       "     ponds_nearest  days_exposition  \n",
       "839            NaN              7.0  \n",
       "\n",
       "[1 rows x 22 columns]"
      ]
     },
     "execution_count": 25,
     "metadata": {},
     "output_type": "execute_result"
    }
   ],
   "source": [
    "data.query('(rooms == 0)&(is_apartment != True)&(studio!=True)')  # делаем срез \"0 комнат\", не студия, не апартаменты"
   ]
  },
  {
   "cell_type": "code",
   "execution_count": 26,
   "metadata": {
    "scrolled": true
   },
   "outputs": [],
   "source": [
    "data = data.loc[(data['rooms']> 0)|(data['is_apartment']== True)|(data['studio']== True)]  #удаляем единичный выброс"
   ]
  },
  {
   "cell_type": "markdown",
   "metadata": {},
   "source": [
    "Анализ этажности зданий (floors_total): максимальный этаж в базе- 60. При этом официально зарегистрированная максимальная высота жилого здания в Санкт-Петербурге и области - 37 этажей. "
   ]
  },
  {
   "cell_type": "code",
   "execution_count": 27,
   "metadata": {},
   "outputs": [
    {
     "data": {
      "text/html": [
       "<div>\n",
       "<style scoped>\n",
       "    .dataframe tbody tr th:only-of-type {\n",
       "        vertical-align: middle;\n",
       "    }\n",
       "\n",
       "    .dataframe tbody tr th {\n",
       "        vertical-align: top;\n",
       "    }\n",
       "\n",
       "    .dataframe thead th {\n",
       "        text-align: right;\n",
       "    }\n",
       "</style>\n",
       "<table border=\"1\" class=\"dataframe\">\n",
       "  <thead>\n",
       "    <tr style=\"text-align: right;\">\n",
       "      <th></th>\n",
       "      <th>total_images</th>\n",
       "      <th>last_price</th>\n",
       "      <th>total_area</th>\n",
       "      <th>first_day_exposition</th>\n",
       "      <th>rooms</th>\n",
       "      <th>ceiling_height</th>\n",
       "      <th>floors_total</th>\n",
       "      <th>living_area</th>\n",
       "      <th>floor</th>\n",
       "      <th>is_apartment</th>\n",
       "      <th>...</th>\n",
       "      <th>kitchen_area</th>\n",
       "      <th>balcony</th>\n",
       "      <th>locality_name</th>\n",
       "      <th>airports_nearest</th>\n",
       "      <th>cityCenters_nearest</th>\n",
       "      <th>parks_around3000</th>\n",
       "      <th>parks_nearest</th>\n",
       "      <th>ponds_around3000</th>\n",
       "      <th>ponds_nearest</th>\n",
       "      <th>days_exposition</th>\n",
       "    </tr>\n",
       "  </thead>\n",
       "  <tbody>\n",
       "    <tr>\n",
       "      <th>2253</th>\n",
       "      <td>12</td>\n",
       "      <td>3800000</td>\n",
       "      <td>45.5</td>\n",
       "      <td>2018-06-28</td>\n",
       "      <td>2</td>\n",
       "      <td>2.88</td>\n",
       "      <td>60</td>\n",
       "      <td>27.4</td>\n",
       "      <td>4</td>\n",
       "      <td>True</td>\n",
       "      <td>...</td>\n",
       "      <td>7.4</td>\n",
       "      <td>0</td>\n",
       "      <td>Кронштадт</td>\n",
       "      <td>67763.0</td>\n",
       "      <td>49488.0</td>\n",
       "      <td>2</td>\n",
       "      <td>342.0</td>\n",
       "      <td>3</td>\n",
       "      <td>614.0</td>\n",
       "      <td>166.0</td>\n",
       "    </tr>\n",
       "    <tr>\n",
       "      <th>16731</th>\n",
       "      <td>9</td>\n",
       "      <td>3978000</td>\n",
       "      <td>40.0</td>\n",
       "      <td>2018-09-24</td>\n",
       "      <td>1</td>\n",
       "      <td>2.65</td>\n",
       "      <td>52</td>\n",
       "      <td>10.5</td>\n",
       "      <td>18</td>\n",
       "      <td>True</td>\n",
       "      <td>...</td>\n",
       "      <td>14.0</td>\n",
       "      <td>0</td>\n",
       "      <td>Санкт-Петербург</td>\n",
       "      <td>20728.0</td>\n",
       "      <td>12978.0</td>\n",
       "      <td>1</td>\n",
       "      <td>793.0</td>\n",
       "      <td>0</td>\n",
       "      <td>NaN</td>\n",
       "      <td>45.0</td>\n",
       "    </tr>\n",
       "  </tbody>\n",
       "</table>\n",
       "<p>2 rows × 22 columns</p>\n",
       "</div>"
      ],
      "text/plain": [
       "       total_images  last_price  total_area first_day_exposition  rooms  \\\n",
       "2253             12     3800000        45.5           2018-06-28      2   \n",
       "16731             9     3978000        40.0           2018-09-24      1   \n",
       "\n",
       "       ceiling_height  floors_total  living_area  floor  is_apartment  ...  \\\n",
       "2253             2.88            60         27.4      4          True  ...   \n",
       "16731            2.65            52         10.5     18          True  ...   \n",
       "\n",
       "       kitchen_area  balcony    locality_name  airports_nearest  \\\n",
       "2253            7.4        0        Кронштадт           67763.0   \n",
       "16731          14.0        0  Санкт-Петербург           20728.0   \n",
       "\n",
       "      cityCenters_nearest  parks_around3000  parks_nearest  ponds_around3000  \\\n",
       "2253              49488.0                 2          342.0                 3   \n",
       "16731             12978.0                 1          793.0                 0   \n",
       "\n",
       "       ponds_nearest  days_exposition  \n",
       "2253           614.0            166.0  \n",
       "16731            NaN             45.0  \n",
       "\n",
       "[2 rows x 22 columns]"
      ]
     },
     "execution_count": 27,
     "metadata": {},
     "output_type": "execute_result"
    }
   ],
   "source": [
    "data.query('floors_total > 37')   #  смотрим на объекты с общей этажностью выше 37"
   ]
  },
  {
   "cell_type": "markdown",
   "metadata": {},
   "source": [
    "Два объекта с этажностью 52 и 60. Оба апартаменты, поэтому проверяем также и самые высокие не жилые здания - на момент выгрузки базы это 42 этажа. Удаляем две записи."
   ]
  },
  {
   "cell_type": "code",
   "execution_count": 28,
   "metadata": {},
   "outputs": [],
   "source": [
    "data = data.loc[(data['floors_total']<= 37)]  #удаляем объекты с этажностью "
   ]
  },
  {
   "cell_type": "markdown",
   "metadata": {},
   "source": [
    "Проверяем также нет ли аномалий соотношения этажей - этаж в поле floor превышает общую этажность дома."
   ]
  },
  {
   "cell_type": "code",
   "execution_count": 29,
   "metadata": {},
   "outputs": [
    {
     "data": {
      "text/plain": [
       "0"
      ]
     },
     "execution_count": 29,
     "metadata": {},
     "output_type": "execute_result"
    }
   ],
   "source": [
    "data.query('floors_total < floor')['floors_total'].count()  #делаем срез не превышает ли этаж общую этажность дома\n"
   ]
  },
  {
   "cell_type": "markdown",
   "metadata": {},
   "source": [
    "Жилая площадь (living_area): согласно СНиП размер жилой площади должен быть не меньше 14 метров. Нужно посмотреть все ли квартиры с жилой площадью ниже являются апартаментами."
   ]
  },
  {
   "cell_type": "code",
   "execution_count": 30,
   "metadata": {},
   "outputs": [
    {
     "data": {
      "text/html": [
       "<div>\n",
       "<style scoped>\n",
       "    .dataframe tbody tr th:only-of-type {\n",
       "        vertical-align: middle;\n",
       "    }\n",
       "\n",
       "    .dataframe tbody tr th {\n",
       "        vertical-align: top;\n",
       "    }\n",
       "\n",
       "    .dataframe thead th {\n",
       "        text-align: right;\n",
       "    }\n",
       "</style>\n",
       "<table border=\"1\" class=\"dataframe\">\n",
       "  <thead>\n",
       "    <tr style=\"text-align: right;\">\n",
       "      <th></th>\n",
       "      <th>total_images</th>\n",
       "      <th>last_price</th>\n",
       "      <th>total_area</th>\n",
       "      <th>first_day_exposition</th>\n",
       "      <th>rooms</th>\n",
       "      <th>ceiling_height</th>\n",
       "      <th>floors_total</th>\n",
       "      <th>living_area</th>\n",
       "      <th>floor</th>\n",
       "      <th>is_apartment</th>\n",
       "      <th>...</th>\n",
       "      <th>kitchen_area</th>\n",
       "      <th>balcony</th>\n",
       "      <th>locality_name</th>\n",
       "      <th>airports_nearest</th>\n",
       "      <th>cityCenters_nearest</th>\n",
       "      <th>parks_around3000</th>\n",
       "      <th>parks_nearest</th>\n",
       "      <th>ponds_around3000</th>\n",
       "      <th>ponds_nearest</th>\n",
       "      <th>days_exposition</th>\n",
       "    </tr>\n",
       "  </thead>\n",
       "  <tbody>\n",
       "    <tr>\n",
       "      <th>248</th>\n",
       "      <td>7</td>\n",
       "      <td>4100000</td>\n",
       "      <td>31.00</td>\n",
       "      <td>2015-08-02</td>\n",
       "      <td>1</td>\n",
       "      <td>3.00</td>\n",
       "      <td>17</td>\n",
       "      <td>10.000000</td>\n",
       "      <td>6</td>\n",
       "      <td>False</td>\n",
       "      <td>...</td>\n",
       "      <td>5.807045</td>\n",
       "      <td>0</td>\n",
       "      <td>Санкт-Петербург</td>\n",
       "      <td>39771.0</td>\n",
       "      <td>8672.0</td>\n",
       "      <td>1</td>\n",
       "      <td>139.0</td>\n",
       "      <td>0</td>\n",
       "      <td>NaN</td>\n",
       "      <td>637.0</td>\n",
       "    </tr>\n",
       "    <tr>\n",
       "      <th>352</th>\n",
       "      <td>3</td>\n",
       "      <td>5496074</td>\n",
       "      <td>48.60</td>\n",
       "      <td>2016-04-25</td>\n",
       "      <td>1</td>\n",
       "      <td>2.65</td>\n",
       "      <td>11</td>\n",
       "      <td>13.000000</td>\n",
       "      <td>3</td>\n",
       "      <td>False</td>\n",
       "      <td>...</td>\n",
       "      <td>15.000000</td>\n",
       "      <td>2</td>\n",
       "      <td>Санкт-Петербург</td>\n",
       "      <td>23609.0</td>\n",
       "      <td>5299.0</td>\n",
       "      <td>0</td>\n",
       "      <td>NaN</td>\n",
       "      <td>1</td>\n",
       "      <td>433.0</td>\n",
       "      <td>60.0</td>\n",
       "    </tr>\n",
       "    <tr>\n",
       "      <th>1216</th>\n",
       "      <td>12</td>\n",
       "      <td>2700000</td>\n",
       "      <td>42.00</td>\n",
       "      <td>2015-10-14</td>\n",
       "      <td>1</td>\n",
       "      <td>2.74</td>\n",
       "      <td>16</td>\n",
       "      <td>12.000000</td>\n",
       "      <td>14</td>\n",
       "      <td>False</td>\n",
       "      <td>...</td>\n",
       "      <td>18.000000</td>\n",
       "      <td>1</td>\n",
       "      <td>Старая</td>\n",
       "      <td>NaN</td>\n",
       "      <td>NaN</td>\n",
       "      <td>0</td>\n",
       "      <td>NaN</td>\n",
       "      <td>0</td>\n",
       "      <td>NaN</td>\n",
       "      <td>571.0</td>\n",
       "    </tr>\n",
       "    <tr>\n",
       "      <th>2803</th>\n",
       "      <td>7</td>\n",
       "      <td>3250000</td>\n",
       "      <td>31.60</td>\n",
       "      <td>2017-06-07</td>\n",
       "      <td>1</td>\n",
       "      <td>2.65</td>\n",
       "      <td>12</td>\n",
       "      <td>11.400000</td>\n",
       "      <td>4</td>\n",
       "      <td>False</td>\n",
       "      <td>...</td>\n",
       "      <td>8.200000</td>\n",
       "      <td>0</td>\n",
       "      <td>Сестрорецк</td>\n",
       "      <td>57025.0</td>\n",
       "      <td>33954.0</td>\n",
       "      <td>2</td>\n",
       "      <td>357.0</td>\n",
       "      <td>2</td>\n",
       "      <td>248.0</td>\n",
       "      <td>45.0</td>\n",
       "    </tr>\n",
       "    <tr>\n",
       "      <th>3318</th>\n",
       "      <td>8</td>\n",
       "      <td>3814524</td>\n",
       "      <td>36.00</td>\n",
       "      <td>2018-03-26</td>\n",
       "      <td>1</td>\n",
       "      <td>2.80</td>\n",
       "      <td>4</td>\n",
       "      <td>13.000000</td>\n",
       "      <td>1</td>\n",
       "      <td>False</td>\n",
       "      <td>...</td>\n",
       "      <td>12.170000</td>\n",
       "      <td>0</td>\n",
       "      <td>Санкт-Петербург</td>\n",
       "      <td>44870.0</td>\n",
       "      <td>21689.0</td>\n",
       "      <td>0</td>\n",
       "      <td>NaN</td>\n",
       "      <td>1</td>\n",
       "      <td>789.0</td>\n",
       "      <td>389.0</td>\n",
       "    </tr>\n",
       "    <tr>\n",
       "      <th>4463</th>\n",
       "      <td>8</td>\n",
       "      <td>3250000</td>\n",
       "      <td>23.50</td>\n",
       "      <td>2018-03-23</td>\n",
       "      <td>1</td>\n",
       "      <td>2.55</td>\n",
       "      <td>16</td>\n",
       "      <td>10.900000</td>\n",
       "      <td>5</td>\n",
       "      <td>False</td>\n",
       "      <td>...</td>\n",
       "      <td>5.800000</td>\n",
       "      <td>1</td>\n",
       "      <td>Санкт-Петербург</td>\n",
       "      <td>36652.0</td>\n",
       "      <td>15131.0</td>\n",
       "      <td>0</td>\n",
       "      <td>NaN</td>\n",
       "      <td>2</td>\n",
       "      <td>901.0</td>\n",
       "      <td>35.0</td>\n",
       "    </tr>\n",
       "    <tr>\n",
       "      <th>4873</th>\n",
       "      <td>19</td>\n",
       "      <td>5995000</td>\n",
       "      <td>32.00</td>\n",
       "      <td>2017-06-15</td>\n",
       "      <td>1</td>\n",
       "      <td>3.00</td>\n",
       "      <td>4</td>\n",
       "      <td>13.000000</td>\n",
       "      <td>3</td>\n",
       "      <td>False</td>\n",
       "      <td>...</td>\n",
       "      <td>9.000000</td>\n",
       "      <td>0</td>\n",
       "      <td>Санкт-Петербург</td>\n",
       "      <td>24539.0</td>\n",
       "      <td>5402.0</td>\n",
       "      <td>2</td>\n",
       "      <td>424.0</td>\n",
       "      <td>0</td>\n",
       "      <td>NaN</td>\n",
       "      <td>132.0</td>\n",
       "    </tr>\n",
       "    <tr>\n",
       "      <th>5183</th>\n",
       "      <td>7</td>\n",
       "      <td>4190000</td>\n",
       "      <td>40.00</td>\n",
       "      <td>2018-06-27</td>\n",
       "      <td>1</td>\n",
       "      <td>2.70</td>\n",
       "      <td>26</td>\n",
       "      <td>13.500000</td>\n",
       "      <td>18</td>\n",
       "      <td>False</td>\n",
       "      <td>...</td>\n",
       "      <td>10.600000</td>\n",
       "      <td>2</td>\n",
       "      <td>Санкт-Петербург</td>\n",
       "      <td>18488.0</td>\n",
       "      <td>15945.0</td>\n",
       "      <td>0</td>\n",
       "      <td>NaN</td>\n",
       "      <td>0</td>\n",
       "      <td>NaN</td>\n",
       "      <td>90.0</td>\n",
       "    </tr>\n",
       "    <tr>\n",
       "      <th>5471</th>\n",
       "      <td>7</td>\n",
       "      <td>6900000</td>\n",
       "      <td>43.00</td>\n",
       "      <td>2018-11-13</td>\n",
       "      <td>1</td>\n",
       "      <td>2.60</td>\n",
       "      <td>24</td>\n",
       "      <td>13.000000</td>\n",
       "      <td>23</td>\n",
       "      <td>False</td>\n",
       "      <td>...</td>\n",
       "      <td>17.000000</td>\n",
       "      <td>2</td>\n",
       "      <td>Санкт-Петербург</td>\n",
       "      <td>35847.0</td>\n",
       "      <td>15853.0</td>\n",
       "      <td>0</td>\n",
       "      <td>NaN</td>\n",
       "      <td>0</td>\n",
       "      <td>NaN</td>\n",
       "      <td>7.0</td>\n",
       "    </tr>\n",
       "    <tr>\n",
       "      <th>5531</th>\n",
       "      <td>7</td>\n",
       "      <td>1800000</td>\n",
       "      <td>26.00</td>\n",
       "      <td>2015-04-07</td>\n",
       "      <td>1</td>\n",
       "      <td>2.65</td>\n",
       "      <td>5</td>\n",
       "      <td>10.000000</td>\n",
       "      <td>1</td>\n",
       "      <td>False</td>\n",
       "      <td>...</td>\n",
       "      <td>8.000000</td>\n",
       "      <td>0</td>\n",
       "      <td>Выборг</td>\n",
       "      <td>NaN</td>\n",
       "      <td>NaN</td>\n",
       "      <td>0</td>\n",
       "      <td>NaN</td>\n",
       "      <td>0</td>\n",
       "      <td>NaN</td>\n",
       "      <td>708.0</td>\n",
       "    </tr>\n",
       "    <tr>\n",
       "      <th>5855</th>\n",
       "      <td>3</td>\n",
       "      <td>945750</td>\n",
       "      <td>19.50</td>\n",
       "      <td>2017-09-18</td>\n",
       "      <td>0</td>\n",
       "      <td>2.76</td>\n",
       "      <td>3</td>\n",
       "      <td>12.700000</td>\n",
       "      <td>2</td>\n",
       "      <td>False</td>\n",
       "      <td>...</td>\n",
       "      <td>3.652818</td>\n",
       "      <td>0</td>\n",
       "      <td>Дубровка</td>\n",
       "      <td>NaN</td>\n",
       "      <td>NaN</td>\n",
       "      <td>0</td>\n",
       "      <td>NaN</td>\n",
       "      <td>0</td>\n",
       "      <td>NaN</td>\n",
       "      <td>3.0</td>\n",
       "    </tr>\n",
       "    <tr>\n",
       "      <th>7426</th>\n",
       "      <td>9</td>\n",
       "      <td>2700000</td>\n",
       "      <td>22.70</td>\n",
       "      <td>2017-02-09</td>\n",
       "      <td>1</td>\n",
       "      <td>2.50</td>\n",
       "      <td>9</td>\n",
       "      <td>12.500000</td>\n",
       "      <td>7</td>\n",
       "      <td>False</td>\n",
       "      <td>...</td>\n",
       "      <td>5.000000</td>\n",
       "      <td>1</td>\n",
       "      <td>Санкт-Петербург</td>\n",
       "      <td>11983.0</td>\n",
       "      <td>11736.0</td>\n",
       "      <td>0</td>\n",
       "      <td>NaN</td>\n",
       "      <td>0</td>\n",
       "      <td>NaN</td>\n",
       "      <td>6.0</td>\n",
       "    </tr>\n",
       "    <tr>\n",
       "      <th>12066</th>\n",
       "      <td>7</td>\n",
       "      <td>3000000</td>\n",
       "      <td>32.00</td>\n",
       "      <td>2015-10-14</td>\n",
       "      <td>1</td>\n",
       "      <td>2.50</td>\n",
       "      <td>9</td>\n",
       "      <td>13.100000</td>\n",
       "      <td>1</td>\n",
       "      <td>False</td>\n",
       "      <td>...</td>\n",
       "      <td>9.300000</td>\n",
       "      <td>0</td>\n",
       "      <td>Санкт-Петербург</td>\n",
       "      <td>48522.0</td>\n",
       "      <td>16360.0</td>\n",
       "      <td>0</td>\n",
       "      <td>NaN</td>\n",
       "      <td>0</td>\n",
       "      <td>NaN</td>\n",
       "      <td>301.0</td>\n",
       "    </tr>\n",
       "    <tr>\n",
       "      <th>13393</th>\n",
       "      <td>3</td>\n",
       "      <td>3300000</td>\n",
       "      <td>42.03</td>\n",
       "      <td>2017-04-17</td>\n",
       "      <td>1</td>\n",
       "      <td>2.75</td>\n",
       "      <td>19</td>\n",
       "      <td>12.280000</td>\n",
       "      <td>5</td>\n",
       "      <td>False</td>\n",
       "      <td>...</td>\n",
       "      <td>20.920000</td>\n",
       "      <td>1</td>\n",
       "      <td>Новое Девяткино</td>\n",
       "      <td>NaN</td>\n",
       "      <td>NaN</td>\n",
       "      <td>0</td>\n",
       "      <td>NaN</td>\n",
       "      <td>0</td>\n",
       "      <td>NaN</td>\n",
       "      <td>17.0</td>\n",
       "    </tr>\n",
       "    <tr>\n",
       "      <th>13580</th>\n",
       "      <td>1</td>\n",
       "      <td>2820000</td>\n",
       "      <td>33.07</td>\n",
       "      <td>2018-03-22</td>\n",
       "      <td>1</td>\n",
       "      <td>2.56</td>\n",
       "      <td>18</td>\n",
       "      <td>13.370000</td>\n",
       "      <td>17</td>\n",
       "      <td>False</td>\n",
       "      <td>...</td>\n",
       "      <td>8.310000</td>\n",
       "      <td>0</td>\n",
       "      <td>Бугры</td>\n",
       "      <td>NaN</td>\n",
       "      <td>NaN</td>\n",
       "      <td>0</td>\n",
       "      <td>NaN</td>\n",
       "      <td>0</td>\n",
       "      <td>NaN</td>\n",
       "      <td>26.0</td>\n",
       "    </tr>\n",
       "    <tr>\n",
       "      <th>15149</th>\n",
       "      <td>6</td>\n",
       "      <td>4550000</td>\n",
       "      <td>40.00</td>\n",
       "      <td>2017-02-16</td>\n",
       "      <td>1</td>\n",
       "      <td>2.65</td>\n",
       "      <td>25</td>\n",
       "      <td>13.600000</td>\n",
       "      <td>9</td>\n",
       "      <td>False</td>\n",
       "      <td>...</td>\n",
       "      <td>12.200000</td>\n",
       "      <td>0</td>\n",
       "      <td>Санкт-Петербург</td>\n",
       "      <td>51333.0</td>\n",
       "      <td>13056.0</td>\n",
       "      <td>0</td>\n",
       "      <td>NaN</td>\n",
       "      <td>0</td>\n",
       "      <td>NaN</td>\n",
       "      <td>62.0</td>\n",
       "    </tr>\n",
       "    <tr>\n",
       "      <th>15200</th>\n",
       "      <td>15</td>\n",
       "      <td>3600000</td>\n",
       "      <td>29.20</td>\n",
       "      <td>2018-06-18</td>\n",
       "      <td>1</td>\n",
       "      <td>2.90</td>\n",
       "      <td>20</td>\n",
       "      <td>13.000000</td>\n",
       "      <td>2</td>\n",
       "      <td>False</td>\n",
       "      <td>...</td>\n",
       "      <td>7.000000</td>\n",
       "      <td>1</td>\n",
       "      <td>Санкт-Петербург</td>\n",
       "      <td>40425.0</td>\n",
       "      <td>11591.0</td>\n",
       "      <td>2</td>\n",
       "      <td>211.0</td>\n",
       "      <td>0</td>\n",
       "      <td>NaN</td>\n",
       "      <td>262.0</td>\n",
       "    </tr>\n",
       "    <tr>\n",
       "      <th>16056</th>\n",
       "      <td>3</td>\n",
       "      <td>3490000</td>\n",
       "      <td>36.70</td>\n",
       "      <td>2017-08-17</td>\n",
       "      <td>1</td>\n",
       "      <td>2.65</td>\n",
       "      <td>25</td>\n",
       "      <td>13.000000</td>\n",
       "      <td>16</td>\n",
       "      <td>False</td>\n",
       "      <td>...</td>\n",
       "      <td>12.000000</td>\n",
       "      <td>2</td>\n",
       "      <td>Парголово</td>\n",
       "      <td>52726.0</td>\n",
       "      <td>18900.0</td>\n",
       "      <td>0</td>\n",
       "      <td>NaN</td>\n",
       "      <td>0</td>\n",
       "      <td>NaN</td>\n",
       "      <td>212.0</td>\n",
       "    </tr>\n",
       "    <tr>\n",
       "      <th>16576</th>\n",
       "      <td>9</td>\n",
       "      <td>3200000</td>\n",
       "      <td>27.30</td>\n",
       "      <td>2016-04-14</td>\n",
       "      <td>1</td>\n",
       "      <td>2.65</td>\n",
       "      <td>5</td>\n",
       "      <td>12.000000</td>\n",
       "      <td>5</td>\n",
       "      <td>False</td>\n",
       "      <td>...</td>\n",
       "      <td>9.000000</td>\n",
       "      <td>0</td>\n",
       "      <td>Санкт-Петербург</td>\n",
       "      <td>6995.0</td>\n",
       "      <td>17171.0</td>\n",
       "      <td>1</td>\n",
       "      <td>823.0</td>\n",
       "      <td>0</td>\n",
       "      <td>NaN</td>\n",
       "      <td>99.0</td>\n",
       "    </tr>\n",
       "    <tr>\n",
       "      <th>16991</th>\n",
       "      <td>2</td>\n",
       "      <td>1750000</td>\n",
       "      <td>20.00</td>\n",
       "      <td>2015-08-12</td>\n",
       "      <td>1</td>\n",
       "      <td>2.65</td>\n",
       "      <td>22</td>\n",
       "      <td>11.298959</td>\n",
       "      <td>18</td>\n",
       "      <td>False</td>\n",
       "      <td>...</td>\n",
       "      <td>3.746480</td>\n",
       "      <td>2</td>\n",
       "      <td>Мурино</td>\n",
       "      <td>NaN</td>\n",
       "      <td>NaN</td>\n",
       "      <td>0</td>\n",
       "      <td>NaN</td>\n",
       "      <td>0</td>\n",
       "      <td>NaN</td>\n",
       "      <td>757.0</td>\n",
       "    </tr>\n",
       "    <tr>\n",
       "      <th>17914</th>\n",
       "      <td>4</td>\n",
       "      <td>3850000</td>\n",
       "      <td>35.40</td>\n",
       "      <td>2018-11-09</td>\n",
       "      <td>1</td>\n",
       "      <td>2.65</td>\n",
       "      <td>12</td>\n",
       "      <td>13.800000</td>\n",
       "      <td>4</td>\n",
       "      <td>False</td>\n",
       "      <td>...</td>\n",
       "      <td>7.500000</td>\n",
       "      <td>2</td>\n",
       "      <td>Санкт-Петербург</td>\n",
       "      <td>9569.0</td>\n",
       "      <td>11687.0</td>\n",
       "      <td>1</td>\n",
       "      <td>571.0</td>\n",
       "      <td>1</td>\n",
       "      <td>263.0</td>\n",
       "      <td>41.0</td>\n",
       "    </tr>\n",
       "    <tr>\n",
       "      <th>18098</th>\n",
       "      <td>4</td>\n",
       "      <td>965780</td>\n",
       "      <td>22.50</td>\n",
       "      <td>2017-05-10</td>\n",
       "      <td>1</td>\n",
       "      <td>2.65</td>\n",
       "      <td>3</td>\n",
       "      <td>12.711329</td>\n",
       "      <td>1</td>\n",
       "      <td>False</td>\n",
       "      <td>...</td>\n",
       "      <td>4.214791</td>\n",
       "      <td>0</td>\n",
       "      <td>Всеволожск</td>\n",
       "      <td>NaN</td>\n",
       "      <td>NaN</td>\n",
       "      <td>0</td>\n",
       "      <td>NaN</td>\n",
       "      <td>0</td>\n",
       "      <td>NaN</td>\n",
       "      <td>46.0</td>\n",
       "    </tr>\n",
       "    <tr>\n",
       "      <th>20086</th>\n",
       "      <td>0</td>\n",
       "      <td>1550000</td>\n",
       "      <td>22.00</td>\n",
       "      <td>2016-05-11</td>\n",
       "      <td>1</td>\n",
       "      <td>2.70</td>\n",
       "      <td>15</td>\n",
       "      <td>10.940000</td>\n",
       "      <td>14</td>\n",
       "      <td>False</td>\n",
       "      <td>...</td>\n",
       "      <td>4.121129</td>\n",
       "      <td>2</td>\n",
       "      <td>Никольское</td>\n",
       "      <td>NaN</td>\n",
       "      <td>NaN</td>\n",
       "      <td>0</td>\n",
       "      <td>NaN</td>\n",
       "      <td>0</td>\n",
       "      <td>NaN</td>\n",
       "      <td>45.0</td>\n",
       "    </tr>\n",
       "    <tr>\n",
       "      <th>20164</th>\n",
       "      <td>8</td>\n",
       "      <td>2600000</td>\n",
       "      <td>24.00</td>\n",
       "      <td>2018-03-15</td>\n",
       "      <td>1</td>\n",
       "      <td>2.50</td>\n",
       "      <td>10</td>\n",
       "      <td>13.000000</td>\n",
       "      <td>3</td>\n",
       "      <td>False</td>\n",
       "      <td>...</td>\n",
       "      <td>4.495777</td>\n",
       "      <td>2</td>\n",
       "      <td>Санкт-Петербург</td>\n",
       "      <td>30067.0</td>\n",
       "      <td>6262.0</td>\n",
       "      <td>0</td>\n",
       "      <td>NaN</td>\n",
       "      <td>1</td>\n",
       "      <td>332.0</td>\n",
       "      <td>26.0</td>\n",
       "    </tr>\n",
       "    <tr>\n",
       "      <th>21295</th>\n",
       "      <td>15</td>\n",
       "      <td>4150000</td>\n",
       "      <td>33.40</td>\n",
       "      <td>2017-02-08</td>\n",
       "      <td>1</td>\n",
       "      <td>2.65</td>\n",
       "      <td>27</td>\n",
       "      <td>12.000000</td>\n",
       "      <td>13</td>\n",
       "      <td>False</td>\n",
       "      <td>...</td>\n",
       "      <td>8.000000</td>\n",
       "      <td>2</td>\n",
       "      <td>Санкт-Петербург</td>\n",
       "      <td>33736.0</td>\n",
       "      <td>14835.0</td>\n",
       "      <td>0</td>\n",
       "      <td>NaN</td>\n",
       "      <td>0</td>\n",
       "      <td>NaN</td>\n",
       "      <td>24.0</td>\n",
       "    </tr>\n",
       "    <tr>\n",
       "      <th>21552</th>\n",
       "      <td>4</td>\n",
       "      <td>1495000</td>\n",
       "      <td>22.00</td>\n",
       "      <td>2019-01-27</td>\n",
       "      <td>1</td>\n",
       "      <td>2.65</td>\n",
       "      <td>18</td>\n",
       "      <td>12.428855</td>\n",
       "      <td>18</td>\n",
       "      <td>False</td>\n",
       "      <td>...</td>\n",
       "      <td>4.121129</td>\n",
       "      <td>2</td>\n",
       "      <td>Никольское</td>\n",
       "      <td>NaN</td>\n",
       "      <td>NaN</td>\n",
       "      <td>0</td>\n",
       "      <td>NaN</td>\n",
       "      <td>0</td>\n",
       "      <td>NaN</td>\n",
       "      <td>NaN</td>\n",
       "    </tr>\n",
       "  </tbody>\n",
       "</table>\n",
       "<p>26 rows × 22 columns</p>\n",
       "</div>"
      ],
      "text/plain": [
       "       total_images  last_price  total_area first_day_exposition  rooms  \\\n",
       "248               7     4100000       31.00           2015-08-02      1   \n",
       "352               3     5496074       48.60           2016-04-25      1   \n",
       "1216             12     2700000       42.00           2015-10-14      1   \n",
       "2803              7     3250000       31.60           2017-06-07      1   \n",
       "3318              8     3814524       36.00           2018-03-26      1   \n",
       "4463              8     3250000       23.50           2018-03-23      1   \n",
       "4873             19     5995000       32.00           2017-06-15      1   \n",
       "5183              7     4190000       40.00           2018-06-27      1   \n",
       "5471              7     6900000       43.00           2018-11-13      1   \n",
       "5531              7     1800000       26.00           2015-04-07      1   \n",
       "5855              3      945750       19.50           2017-09-18      0   \n",
       "7426              9     2700000       22.70           2017-02-09      1   \n",
       "12066             7     3000000       32.00           2015-10-14      1   \n",
       "13393             3     3300000       42.03           2017-04-17      1   \n",
       "13580             1     2820000       33.07           2018-03-22      1   \n",
       "15149             6     4550000       40.00           2017-02-16      1   \n",
       "15200            15     3600000       29.20           2018-06-18      1   \n",
       "16056             3     3490000       36.70           2017-08-17      1   \n",
       "16576             9     3200000       27.30           2016-04-14      1   \n",
       "16991             2     1750000       20.00           2015-08-12      1   \n",
       "17914             4     3850000       35.40           2018-11-09      1   \n",
       "18098             4      965780       22.50           2017-05-10      1   \n",
       "20086             0     1550000       22.00           2016-05-11      1   \n",
       "20164             8     2600000       24.00           2018-03-15      1   \n",
       "21295            15     4150000       33.40           2017-02-08      1   \n",
       "21552             4     1495000       22.00           2019-01-27      1   \n",
       "\n",
       "       ceiling_height  floors_total  living_area  floor  is_apartment  ...  \\\n",
       "248              3.00            17    10.000000      6         False  ...   \n",
       "352              2.65            11    13.000000      3         False  ...   \n",
       "1216             2.74            16    12.000000     14         False  ...   \n",
       "2803             2.65            12    11.400000      4         False  ...   \n",
       "3318             2.80             4    13.000000      1         False  ...   \n",
       "4463             2.55            16    10.900000      5         False  ...   \n",
       "4873             3.00             4    13.000000      3         False  ...   \n",
       "5183             2.70            26    13.500000     18         False  ...   \n",
       "5471             2.60            24    13.000000     23         False  ...   \n",
       "5531             2.65             5    10.000000      1         False  ...   \n",
       "5855             2.76             3    12.700000      2         False  ...   \n",
       "7426             2.50             9    12.500000      7         False  ...   \n",
       "12066            2.50             9    13.100000      1         False  ...   \n",
       "13393            2.75            19    12.280000      5         False  ...   \n",
       "13580            2.56            18    13.370000     17         False  ...   \n",
       "15149            2.65            25    13.600000      9         False  ...   \n",
       "15200            2.90            20    13.000000      2         False  ...   \n",
       "16056            2.65            25    13.000000     16         False  ...   \n",
       "16576            2.65             5    12.000000      5         False  ...   \n",
       "16991            2.65            22    11.298959     18         False  ...   \n",
       "17914            2.65            12    13.800000      4         False  ...   \n",
       "18098            2.65             3    12.711329      1         False  ...   \n",
       "20086            2.70            15    10.940000     14         False  ...   \n",
       "20164            2.50            10    13.000000      3         False  ...   \n",
       "21295            2.65            27    12.000000     13         False  ...   \n",
       "21552            2.65            18    12.428855     18         False  ...   \n",
       "\n",
       "       kitchen_area  balcony    locality_name  airports_nearest  \\\n",
       "248        5.807045        0  Санкт-Петербург           39771.0   \n",
       "352       15.000000        2  Санкт-Петербург           23609.0   \n",
       "1216      18.000000        1           Старая               NaN   \n",
       "2803       8.200000        0       Сестрорецк           57025.0   \n",
       "3318      12.170000        0  Санкт-Петербург           44870.0   \n",
       "4463       5.800000        1  Санкт-Петербург           36652.0   \n",
       "4873       9.000000        0  Санкт-Петербург           24539.0   \n",
       "5183      10.600000        2  Санкт-Петербург           18488.0   \n",
       "5471      17.000000        2  Санкт-Петербург           35847.0   \n",
       "5531       8.000000        0           Выборг               NaN   \n",
       "5855       3.652818        0         Дубровка               NaN   \n",
       "7426       5.000000        1  Санкт-Петербург           11983.0   \n",
       "12066      9.300000        0  Санкт-Петербург           48522.0   \n",
       "13393     20.920000        1  Новое Девяткино               NaN   \n",
       "13580      8.310000        0            Бугры               NaN   \n",
       "15149     12.200000        0  Санкт-Петербург           51333.0   \n",
       "15200      7.000000        1  Санкт-Петербург           40425.0   \n",
       "16056     12.000000        2        Парголово           52726.0   \n",
       "16576      9.000000        0  Санкт-Петербург            6995.0   \n",
       "16991      3.746480        2           Мурино               NaN   \n",
       "17914      7.500000        2  Санкт-Петербург            9569.0   \n",
       "18098      4.214791        0       Всеволожск               NaN   \n",
       "20086      4.121129        2       Никольское               NaN   \n",
       "20164      4.495777        2  Санкт-Петербург           30067.0   \n",
       "21295      8.000000        2  Санкт-Петербург           33736.0   \n",
       "21552      4.121129        2       Никольское               NaN   \n",
       "\n",
       "      cityCenters_nearest  parks_around3000  parks_nearest  ponds_around3000  \\\n",
       "248                8672.0                 1          139.0                 0   \n",
       "352                5299.0                 0            NaN                 1   \n",
       "1216                  NaN                 0            NaN                 0   \n",
       "2803              33954.0                 2          357.0                 2   \n",
       "3318              21689.0                 0            NaN                 1   \n",
       "4463              15131.0                 0            NaN                 2   \n",
       "4873               5402.0                 2          424.0                 0   \n",
       "5183              15945.0                 0            NaN                 0   \n",
       "5471              15853.0                 0            NaN                 0   \n",
       "5531                  NaN                 0            NaN                 0   \n",
       "5855                  NaN                 0            NaN                 0   \n",
       "7426              11736.0                 0            NaN                 0   \n",
       "12066             16360.0                 0            NaN                 0   \n",
       "13393                 NaN                 0            NaN                 0   \n",
       "13580                 NaN                 0            NaN                 0   \n",
       "15149             13056.0                 0            NaN                 0   \n",
       "15200             11591.0                 2          211.0                 0   \n",
       "16056             18900.0                 0            NaN                 0   \n",
       "16576             17171.0                 1          823.0                 0   \n",
       "16991                 NaN                 0            NaN                 0   \n",
       "17914             11687.0                 1          571.0                 1   \n",
       "18098                 NaN                 0            NaN                 0   \n",
       "20086                 NaN                 0            NaN                 0   \n",
       "20164              6262.0                 0            NaN                 1   \n",
       "21295             14835.0                 0            NaN                 0   \n",
       "21552                 NaN                 0            NaN                 0   \n",
       "\n",
       "       ponds_nearest  days_exposition  \n",
       "248              NaN            637.0  \n",
       "352            433.0             60.0  \n",
       "1216             NaN            571.0  \n",
       "2803           248.0             45.0  \n",
       "3318           789.0            389.0  \n",
       "4463           901.0             35.0  \n",
       "4873             NaN            132.0  \n",
       "5183             NaN             90.0  \n",
       "5471             NaN              7.0  \n",
       "5531             NaN            708.0  \n",
       "5855             NaN              3.0  \n",
       "7426             NaN              6.0  \n",
       "12066            NaN            301.0  \n",
       "13393            NaN             17.0  \n",
       "13580            NaN             26.0  \n",
       "15149            NaN             62.0  \n",
       "15200            NaN            262.0  \n",
       "16056            NaN            212.0  \n",
       "16576            NaN             99.0  \n",
       "16991            NaN            757.0  \n",
       "17914          263.0             41.0  \n",
       "18098            NaN             46.0  \n",
       "20086            NaN             45.0  \n",
       "20164          332.0             26.0  \n",
       "21295            NaN             24.0  \n",
       "21552            NaN              NaN  \n",
       "\n",
       "[26 rows x 22 columns]"
      ]
     },
     "execution_count": 30,
     "metadata": {},
     "output_type": "execute_result"
    }
   ],
   "source": [
    "data.query('(living_area < 14) &(is_apartment != True)')"
   ]
  },
  {
   "cell_type": "code",
   "execution_count": 31,
   "metadata": {},
   "outputs": [],
   "source": [
    "data = data.loc[(data['living_area']> 14)|(data['is_apartment']== True)]  #  удаляем 26 выбросов"
   ]
  },
  {
   "cell_type": "code",
   "execution_count": 32,
   "metadata": {},
   "outputs": [
    {
     "data": {
      "text/plain": [
       "count    23362.000000\n",
       "mean        10.441113\n",
       "std          5.580133\n",
       "min          1.300000\n",
       "25%          7.000000\n",
       "50%          9.000000\n",
       "75%         12.000000\n",
       "max        107.000000\n",
       "Name: kitchen_area, dtype: float64"
      ]
     },
     "execution_count": 32,
     "metadata": {},
     "output_type": "execute_result"
    }
   ],
   "source": [
    "data['kitchen_area'].describe()"
   ]
  },
  {
   "cell_type": "markdown",
   "metadata": {},
   "source": [
    "Размер кухни (kitchen_area) - обращает внимание на себя минимальное значение 1.3 метра. По нормам жилого помещения даже кухня-ниша должна быть не менее 4 метров. Посмотрим сколько объектов с кухней меньше и не апартаменты при этом."
   ]
  },
  {
   "cell_type": "code",
   "execution_count": 33,
   "metadata": {
    "scrolled": true
   },
   "outputs": [
    {
     "data": {
      "text/html": [
       "<div>\n",
       "<style scoped>\n",
       "    .dataframe tbody tr th:only-of-type {\n",
       "        vertical-align: middle;\n",
       "    }\n",
       "\n",
       "    .dataframe tbody tr th {\n",
       "        vertical-align: top;\n",
       "    }\n",
       "\n",
       "    .dataframe thead th {\n",
       "        text-align: right;\n",
       "    }\n",
       "</style>\n",
       "<table border=\"1\" class=\"dataframe\">\n",
       "  <thead>\n",
       "    <tr style=\"text-align: right;\">\n",
       "      <th></th>\n",
       "      <th>total_images</th>\n",
       "      <th>last_price</th>\n",
       "      <th>total_area</th>\n",
       "      <th>first_day_exposition</th>\n",
       "      <th>rooms</th>\n",
       "      <th>ceiling_height</th>\n",
       "      <th>floors_total</th>\n",
       "      <th>living_area</th>\n",
       "      <th>floor</th>\n",
       "      <th>is_apartment</th>\n",
       "      <th>...</th>\n",
       "      <th>kitchen_area</th>\n",
       "      <th>balcony</th>\n",
       "      <th>locality_name</th>\n",
       "      <th>airports_nearest</th>\n",
       "      <th>cityCenters_nearest</th>\n",
       "      <th>parks_around3000</th>\n",
       "      <th>parks_nearest</th>\n",
       "      <th>ponds_around3000</th>\n",
       "      <th>ponds_nearest</th>\n",
       "      <th>days_exposition</th>\n",
       "    </tr>\n",
       "  </thead>\n",
       "  <tbody>\n",
       "    <tr>\n",
       "      <th>7950</th>\n",
       "      <td>3</td>\n",
       "      <td>5967734</td>\n",
       "      <td>66.4</td>\n",
       "      <td>2017-02-07</td>\n",
       "      <td>2</td>\n",
       "      <td>2.65</td>\n",
       "      <td>4</td>\n",
       "      <td>44.4</td>\n",
       "      <td>2</td>\n",
       "      <td>False</td>\n",
       "      <td>...</td>\n",
       "      <td>2.89000</td>\n",
       "      <td>0</td>\n",
       "      <td>Санкт-Петербург</td>\n",
       "      <td>44870.0</td>\n",
       "      <td>20802.0</td>\n",
       "      <td>0</td>\n",
       "      <td>NaN</td>\n",
       "      <td>0</td>\n",
       "      <td>NaN</td>\n",
       "      <td>335.0</td>\n",
       "    </tr>\n",
       "    <tr>\n",
       "      <th>10964</th>\n",
       "      <td>3</td>\n",
       "      <td>1150000</td>\n",
       "      <td>20.0</td>\n",
       "      <td>2017-03-04</td>\n",
       "      <td>1</td>\n",
       "      <td>2.65</td>\n",
       "      <td>3</td>\n",
       "      <td>16.0</td>\n",
       "      <td>1</td>\n",
       "      <td>False</td>\n",
       "      <td>...</td>\n",
       "      <td>3.74648</td>\n",
       "      <td>0</td>\n",
       "      <td>Всеволожск</td>\n",
       "      <td>NaN</td>\n",
       "      <td>NaN</td>\n",
       "      <td>0</td>\n",
       "      <td>NaN</td>\n",
       "      <td>0</td>\n",
       "      <td>NaN</td>\n",
       "      <td>108.0</td>\n",
       "    </tr>\n",
       "  </tbody>\n",
       "</table>\n",
       "<p>2 rows × 22 columns</p>\n",
       "</div>"
      ],
      "text/plain": [
       "       total_images  last_price  total_area first_day_exposition  rooms  \\\n",
       "7950              3     5967734        66.4           2017-02-07      2   \n",
       "10964             3     1150000        20.0           2017-03-04      1   \n",
       "\n",
       "       ceiling_height  floors_total  living_area  floor  is_apartment  ...  \\\n",
       "7950             2.65             4         44.4      2         False  ...   \n",
       "10964            2.65             3         16.0      1         False  ...   \n",
       "\n",
       "       kitchen_area  balcony    locality_name  airports_nearest  \\\n",
       "7950        2.89000        0  Санкт-Петербург           44870.0   \n",
       "10964       3.74648        0       Всеволожск               NaN   \n",
       "\n",
       "      cityCenters_nearest  parks_around3000  parks_nearest  ponds_around3000  \\\n",
       "7950              20802.0                 0            NaN                 0   \n",
       "10964                 NaN                 0            NaN                 0   \n",
       "\n",
       "       ponds_nearest  days_exposition  \n",
       "7950             NaN            335.0  \n",
       "10964            NaN            108.0  \n",
       "\n",
       "[2 rows x 22 columns]"
      ]
     },
     "execution_count": 33,
     "metadata": {},
     "output_type": "execute_result"
    }
   ],
   "source": [
    "data.query('(kitchen_area < 4) &(is_apartment != True)')"
   ]
  },
  {
   "cell_type": "code",
   "execution_count": 34,
   "metadata": {},
   "outputs": [],
   "source": [
    "data = data.loc[(data['kitchen_area']> 4)|(data['is_apartment']== True)]  #  удаляем 2 выброса"
   ]
  },
  {
   "cell_type": "markdown",
   "metadata": {},
   "source": [
    "Удаленность от аэропорта (airports_nearest) - обращает на себя внимание минимальное расстояние 0 метров - объект расположен в аэропорту. Нужно посмотреть апартамент ли это. Посмотрим все объекты на расстоянии не менее 500 метров от аэропорта."
   ]
  },
  {
   "cell_type": "code",
   "execution_count": 35,
   "metadata": {},
   "outputs": [
    {
     "data": {
      "text/html": [
       "<div>\n",
       "<style scoped>\n",
       "    .dataframe tbody tr th:only-of-type {\n",
       "        vertical-align: middle;\n",
       "    }\n",
       "\n",
       "    .dataframe tbody tr th {\n",
       "        vertical-align: top;\n",
       "    }\n",
       "\n",
       "    .dataframe thead th {\n",
       "        text-align: right;\n",
       "    }\n",
       "</style>\n",
       "<table border=\"1\" class=\"dataframe\">\n",
       "  <thead>\n",
       "    <tr style=\"text-align: right;\">\n",
       "      <th></th>\n",
       "      <th>total_images</th>\n",
       "      <th>last_price</th>\n",
       "      <th>total_area</th>\n",
       "      <th>first_day_exposition</th>\n",
       "      <th>rooms</th>\n",
       "      <th>ceiling_height</th>\n",
       "      <th>floors_total</th>\n",
       "      <th>living_area</th>\n",
       "      <th>floor</th>\n",
       "      <th>is_apartment</th>\n",
       "      <th>...</th>\n",
       "      <th>kitchen_area</th>\n",
       "      <th>balcony</th>\n",
       "      <th>locality_name</th>\n",
       "      <th>airports_nearest</th>\n",
       "      <th>cityCenters_nearest</th>\n",
       "      <th>parks_around3000</th>\n",
       "      <th>parks_nearest</th>\n",
       "      <th>ponds_around3000</th>\n",
       "      <th>ponds_nearest</th>\n",
       "      <th>days_exposition</th>\n",
       "    </tr>\n",
       "  </thead>\n",
       "  <tbody>\n",
       "  </tbody>\n",
       "</table>\n",
       "<p>0 rows × 22 columns</p>\n",
       "</div>"
      ],
      "text/plain": [
       "Empty DataFrame\n",
       "Columns: [total_images, last_price, total_area, first_day_exposition, rooms, ceiling_height, floors_total, living_area, floor, is_apartment, studio, open_plan, kitchen_area, balcony, locality_name, airports_nearest, cityCenters_nearest, parks_around3000, parks_nearest, ponds_around3000, ponds_nearest, days_exposition]\n",
       "Index: []\n",
       "\n",
       "[0 rows x 22 columns]"
      ]
     },
     "execution_count": 35,
     "metadata": {},
     "output_type": "execute_result"
    }
   ],
   "source": [
    "data.query('(airports_nearest < 500) &(is_apartment != True)')"
   ]
  },
  {
   "cell_type": "markdown",
   "metadata": {},
   "source": [
    "Таких записей нет. Смотрим еще раз цифровую характеристику всей базы."
   ]
  },
  {
   "cell_type": "code",
   "execution_count": 36,
   "metadata": {},
   "outputs": [
    {
     "data": {
      "text/html": [
       "<div>\n",
       "<style scoped>\n",
       "    .dataframe tbody tr th:only-of-type {\n",
       "        vertical-align: middle;\n",
       "    }\n",
       "\n",
       "    .dataframe tbody tr th {\n",
       "        vertical-align: top;\n",
       "    }\n",
       "\n",
       "    .dataframe thead th {\n",
       "        text-align: right;\n",
       "    }\n",
       "</style>\n",
       "<table border=\"1\" class=\"dataframe\">\n",
       "  <thead>\n",
       "    <tr style=\"text-align: right;\">\n",
       "      <th></th>\n",
       "      <th>total_images</th>\n",
       "      <th>last_price</th>\n",
       "      <th>total_area</th>\n",
       "      <th>rooms</th>\n",
       "      <th>ceiling_height</th>\n",
       "      <th>floors_total</th>\n",
       "      <th>living_area</th>\n",
       "      <th>floor</th>\n",
       "      <th>kitchen_area</th>\n",
       "      <th>balcony</th>\n",
       "      <th>airports_nearest</th>\n",
       "      <th>cityCenters_nearest</th>\n",
       "      <th>parks_around3000</th>\n",
       "      <th>parks_nearest</th>\n",
       "      <th>ponds_around3000</th>\n",
       "      <th>ponds_nearest</th>\n",
       "      <th>days_exposition</th>\n",
       "    </tr>\n",
       "  </thead>\n",
       "  <tbody>\n",
       "    <tr>\n",
       "      <th>count</th>\n",
       "      <td>23355.000000</td>\n",
       "      <td>2.335500e+04</td>\n",
       "      <td>23355.000000</td>\n",
       "      <td>23355.000000</td>\n",
       "      <td>23355.000000</td>\n",
       "      <td>23355.000000</td>\n",
       "      <td>23355.000000</td>\n",
       "      <td>23355.000000</td>\n",
       "      <td>23355.000000</td>\n",
       "      <td>23355.000000</td>\n",
       "      <td>17872.000000</td>\n",
       "      <td>17893.000000</td>\n",
       "      <td>23355.000000</td>\n",
       "      <td>7932.000000</td>\n",
       "      <td>23355.000000</td>\n",
       "      <td>8927.000000</td>\n",
       "      <td>20212.000000</td>\n",
       "    </tr>\n",
       "    <tr>\n",
       "      <th>mean</th>\n",
       "      <td>9.874245</td>\n",
       "      <td>6.204108e+06</td>\n",
       "      <td>59.074160</td>\n",
       "      <td>2.055149</td>\n",
       "      <td>2.695806</td>\n",
       "      <td>10.692443</td>\n",
       "      <td>33.852555</td>\n",
       "      <td>5.882552</td>\n",
       "      <td>10.443102</td>\n",
       "      <td>0.594605</td>\n",
       "      <td>28806.882274</td>\n",
       "      <td>14238.157156</td>\n",
       "      <td>0.465639</td>\n",
       "      <td>491.516011</td>\n",
       "      <td>0.586812</td>\n",
       "      <td>519.455360</td>\n",
       "      <td>180.474965</td>\n",
       "    </tr>\n",
       "    <tr>\n",
       "      <th>std</th>\n",
       "      <td>5.672621</td>\n",
       "      <td>7.079360e+06</td>\n",
       "      <td>28.884337</td>\n",
       "      <td>1.028600</td>\n",
       "      <td>0.222895</td>\n",
       "      <td>6.580188</td>\n",
       "      <td>18.827242</td>\n",
       "      <td>4.871830</td>\n",
       "      <td>5.579782</td>\n",
       "      <td>0.960818</td>\n",
       "      <td>12653.190370</td>\n",
       "      <td>8609.536237</td>\n",
       "      <td>0.744745</td>\n",
       "      <td>342.318401</td>\n",
       "      <td>0.881395</td>\n",
       "      <td>277.958183</td>\n",
       "      <td>219.293396</td>\n",
       "    </tr>\n",
       "    <tr>\n",
       "      <th>min</th>\n",
       "      <td>0.000000</td>\n",
       "      <td>1.219000e+04</td>\n",
       "      <td>19.000000</td>\n",
       "      <td>0.000000</td>\n",
       "      <td>2.400000</td>\n",
       "      <td>1.000000</td>\n",
       "      <td>2.000000</td>\n",
       "      <td>1.000000</td>\n",
       "      <td>1.300000</td>\n",
       "      <td>0.000000</td>\n",
       "      <td>0.000000</td>\n",
       "      <td>181.000000</td>\n",
       "      <td>0.000000</td>\n",
       "      <td>1.000000</td>\n",
       "      <td>0.000000</td>\n",
       "      <td>13.000000</td>\n",
       "      <td>1.000000</td>\n",
       "    </tr>\n",
       "    <tr>\n",
       "      <th>25%</th>\n",
       "      <td>6.000000</td>\n",
       "      <td>3.420000e+06</td>\n",
       "      <td>40.000000</td>\n",
       "      <td>1.000000</td>\n",
       "      <td>2.600000</td>\n",
       "      <td>5.000000</td>\n",
       "      <td>19.000000</td>\n",
       "      <td>2.000000</td>\n",
       "      <td>7.000000</td>\n",
       "      <td>0.000000</td>\n",
       "      <td>18539.000000</td>\n",
       "      <td>9329.000000</td>\n",
       "      <td>0.000000</td>\n",
       "      <td>288.000000</td>\n",
       "      <td>0.000000</td>\n",
       "      <td>295.000000</td>\n",
       "      <td>45.000000</td>\n",
       "    </tr>\n",
       "    <tr>\n",
       "      <th>50%</th>\n",
       "      <td>9.000000</td>\n",
       "      <td>4.620000e+06</td>\n",
       "      <td>52.000000</td>\n",
       "      <td>2.000000</td>\n",
       "      <td>2.650000</td>\n",
       "      <td>9.000000</td>\n",
       "      <td>30.000000</td>\n",
       "      <td>4.000000</td>\n",
       "      <td>9.000000</td>\n",
       "      <td>0.000000</td>\n",
       "      <td>26772.000000</td>\n",
       "      <td>13138.000000</td>\n",
       "      <td>0.000000</td>\n",
       "      <td>455.000000</td>\n",
       "      <td>0.000000</td>\n",
       "      <td>503.000000</td>\n",
       "      <td>95.000000</td>\n",
       "    </tr>\n",
       "    <tr>\n",
       "      <th>75%</th>\n",
       "      <td>14.000000</td>\n",
       "      <td>6.722500e+06</td>\n",
       "      <td>69.200000</td>\n",
       "      <td>3.000000</td>\n",
       "      <td>2.700000</td>\n",
       "      <td>16.000000</td>\n",
       "      <td>42.000000</td>\n",
       "      <td>8.000000</td>\n",
       "      <td>12.000000</td>\n",
       "      <td>1.000000</td>\n",
       "      <td>37294.000000</td>\n",
       "      <td>16294.000000</td>\n",
       "      <td>1.000000</td>\n",
       "      <td>613.000000</td>\n",
       "      <td>1.000000</td>\n",
       "      <td>732.000000</td>\n",
       "      <td>231.000000</td>\n",
       "    </tr>\n",
       "    <tr>\n",
       "      <th>max</th>\n",
       "      <td>50.000000</td>\n",
       "      <td>3.300000e+08</td>\n",
       "      <td>250.000000</td>\n",
       "      <td>14.000000</td>\n",
       "      <td>8.000000</td>\n",
       "      <td>36.000000</td>\n",
       "      <td>220.000000</td>\n",
       "      <td>33.000000</td>\n",
       "      <td>107.000000</td>\n",
       "      <td>5.000000</td>\n",
       "      <td>84869.000000</td>\n",
       "      <td>65968.000000</td>\n",
       "      <td>3.000000</td>\n",
       "      <td>3190.000000</td>\n",
       "      <td>3.000000</td>\n",
       "      <td>1344.000000</td>\n",
       "      <td>1580.000000</td>\n",
       "    </tr>\n",
       "  </tbody>\n",
       "</table>\n",
       "</div>"
      ],
      "text/plain": [
       "       total_images    last_price    total_area         rooms  ceiling_height  \\\n",
       "count  23355.000000  2.335500e+04  23355.000000  23355.000000    23355.000000   \n",
       "mean       9.874245  6.204108e+06     59.074160      2.055149        2.695806   \n",
       "std        5.672621  7.079360e+06     28.884337      1.028600        0.222895   \n",
       "min        0.000000  1.219000e+04     19.000000      0.000000        2.400000   \n",
       "25%        6.000000  3.420000e+06     40.000000      1.000000        2.600000   \n",
       "50%        9.000000  4.620000e+06     52.000000      2.000000        2.650000   \n",
       "75%       14.000000  6.722500e+06     69.200000      3.000000        2.700000   \n",
       "max       50.000000  3.300000e+08    250.000000     14.000000        8.000000   \n",
       "\n",
       "       floors_total   living_area         floor  kitchen_area       balcony  \\\n",
       "count  23355.000000  23355.000000  23355.000000  23355.000000  23355.000000   \n",
       "mean      10.692443     33.852555      5.882552     10.443102      0.594605   \n",
       "std        6.580188     18.827242      4.871830      5.579782      0.960818   \n",
       "min        1.000000      2.000000      1.000000      1.300000      0.000000   \n",
       "25%        5.000000     19.000000      2.000000      7.000000      0.000000   \n",
       "50%        9.000000     30.000000      4.000000      9.000000      0.000000   \n",
       "75%       16.000000     42.000000      8.000000     12.000000      1.000000   \n",
       "max       36.000000    220.000000     33.000000    107.000000      5.000000   \n",
       "\n",
       "       airports_nearest  cityCenters_nearest  parks_around3000  parks_nearest  \\\n",
       "count      17872.000000         17893.000000      23355.000000    7932.000000   \n",
       "mean       28806.882274         14238.157156          0.465639     491.516011   \n",
       "std        12653.190370          8609.536237          0.744745     342.318401   \n",
       "min            0.000000           181.000000          0.000000       1.000000   \n",
       "25%        18539.000000          9329.000000          0.000000     288.000000   \n",
       "50%        26772.000000         13138.000000          0.000000     455.000000   \n",
       "75%        37294.000000         16294.000000          1.000000     613.000000   \n",
       "max        84869.000000         65968.000000          3.000000    3190.000000   \n",
       "\n",
       "       ponds_around3000  ponds_nearest  days_exposition  \n",
       "count      23355.000000    8927.000000     20212.000000  \n",
       "mean           0.586812     519.455360       180.474965  \n",
       "std            0.881395     277.958183       219.293396  \n",
       "min            0.000000      13.000000         1.000000  \n",
       "25%            0.000000     295.000000        45.000000  \n",
       "50%            0.000000     503.000000        95.000000  \n",
       "75%            1.000000     732.000000       231.000000  \n",
       "max            3.000000    1344.000000      1580.000000  "
      ]
     },
     "execution_count": 36,
     "metadata": {},
     "output_type": "execute_result"
    }
   ],
   "source": [
    " data.describe()"
   ]
  },
  {
   "cell_type": "markdown",
   "metadata": {},
   "source": [
    "Данные приведены в соответствие. Посмотрим сколько записей осталось:"
   ]
  },
  {
   "cell_type": "code",
   "execution_count": 37,
   "metadata": {},
   "outputs": [
    {
     "name": "stdout",
     "output_type": "stream",
     "text": [
      "<class 'pandas.core.frame.DataFrame'>\n",
      "Int64Index: 23355 entries, 0 to 23698\n",
      "Data columns (total 22 columns):\n",
      " #   Column                Non-Null Count  Dtype         \n",
      "---  ------                --------------  -----         \n",
      " 0   total_images          23355 non-null  int64         \n",
      " 1   last_price            23355 non-null  int64         \n",
      " 2   total_area            23355 non-null  float64       \n",
      " 3   first_day_exposition  23355 non-null  datetime64[ns]\n",
      " 4   rooms                 23355 non-null  int64         \n",
      " 5   ceiling_height        23355 non-null  float64       \n",
      " 6   floors_total          23355 non-null  int64         \n",
      " 7   living_area           23355 non-null  float64       \n",
      " 8   floor                 23355 non-null  int64         \n",
      " 9   is_apartment          23355 non-null  bool          \n",
      " 10  studio                23355 non-null  bool          \n",
      " 11  open_plan             23355 non-null  bool          \n",
      " 12  kitchen_area          23355 non-null  float64       \n",
      " 13  balcony               23355 non-null  int64         \n",
      " 14  locality_name         23355 non-null  object        \n",
      " 15  airports_nearest      17872 non-null  float64       \n",
      " 16  cityCenters_nearest   17893 non-null  float64       \n",
      " 17  parks_around3000      23355 non-null  int64         \n",
      " 18  parks_nearest         7932 non-null   float64       \n",
      " 19  ponds_around3000      23355 non-null  int64         \n",
      " 20  ponds_nearest         8927 non-null   float64       \n",
      " 21  days_exposition       20212 non-null  float64       \n",
      "dtypes: bool(3), datetime64[ns](1), float64(9), int64(8), object(1)\n",
      "memory usage: 3.6+ MB\n"
     ]
    }
   ],
   "source": [
    "data.info()"
   ]
  },
  {
   "cell_type": "markdown",
   "metadata": {},
   "source": [
    "В базе 23 355 записи при изначальных 23 699. Удалено менее 2% базы."
   ]
  },
  {
   "cell_type": "markdown",
   "metadata": {},
   "source": [
    "Обработка датасета завершена. В исходной базе содержалось 23699 записей, в 14 столбцах из 22 наблюдались пропуски, кроме того в ряде данных были обнаружены выбросы и аномальные значения. Среди наиболее распространенных - нетипичная (невозможная) площадь объекта (менее 19 м., свыше 700 м.), высота потолка, превышающая строительные нормы, этажность здания выше максимальной, зафиксированной в указанном регионе и т.п. Аномалии были устранены, тип данных изменен на подходящий. Помимо этого были обработаны неявные дубликаты и приведены к единому стилю названия населенных пунктов. </div>"
   ]
  },
  {
   "cell_type": "markdown",
   "metadata": {},
   "source": [
    "###  3. Расчеты и добавление их результатов в таблицу"
   ]
  },
  {
   "cell_type": "markdown",
   "metadata": {},
   "source": [
    "Добавляем и рассчитываем новые столбцы:\n",
    "   * цена одного квадратного метра;\n",
    "   * день недели публикации объявления \n",
    "   * месяц публикации объявления;\n",
    "   * год публикации объявления;\n",
    "   * тип этажа квартиры (значения — «первый», «последний», «другой»);\n",
    "   * расстояние до центра города в километрах"
   ]
  },
  {
   "cell_type": "code",
   "execution_count": 39,
   "metadata": {},
   "outputs": [
    {
     "data": {
      "text/html": [
       "<div>\n",
       "<style scoped>\n",
       "    .dataframe tbody tr th:only-of-type {\n",
       "        vertical-align: middle;\n",
       "    }\n",
       "\n",
       "    .dataframe tbody tr th {\n",
       "        vertical-align: top;\n",
       "    }\n",
       "\n",
       "    .dataframe thead th {\n",
       "        text-align: right;\n",
       "    }\n",
       "</style>\n",
       "<table border=\"1\" class=\"dataframe\">\n",
       "  <thead>\n",
       "    <tr style=\"text-align: right;\">\n",
       "      <th></th>\n",
       "      <th>total_images</th>\n",
       "      <th>last_price</th>\n",
       "      <th>total_area</th>\n",
       "      <th>first_day_exposition</th>\n",
       "      <th>rooms</th>\n",
       "      <th>ceiling_height</th>\n",
       "      <th>floors_total</th>\n",
       "      <th>living_area</th>\n",
       "      <th>floor</th>\n",
       "      <th>is_apartment</th>\n",
       "      <th>...</th>\n",
       "      <th>balcony</th>\n",
       "      <th>locality_name</th>\n",
       "      <th>airports_nearest</th>\n",
       "      <th>cityCenters_nearest</th>\n",
       "      <th>parks_around3000</th>\n",
       "      <th>parks_nearest</th>\n",
       "      <th>ponds_around3000</th>\n",
       "      <th>ponds_nearest</th>\n",
       "      <th>days_exposition</th>\n",
       "      <th>price_sq_m</th>\n",
       "    </tr>\n",
       "  </thead>\n",
       "  <tbody>\n",
       "    <tr>\n",
       "      <th>0</th>\n",
       "      <td>20</td>\n",
       "      <td>13000000</td>\n",
       "      <td>108.0</td>\n",
       "      <td>2019-03-07</td>\n",
       "      <td>3</td>\n",
       "      <td>2.70</td>\n",
       "      <td>16</td>\n",
       "      <td>51.000000</td>\n",
       "      <td>8</td>\n",
       "      <td>True</td>\n",
       "      <td>...</td>\n",
       "      <td>0</td>\n",
       "      <td>Санкт-Петербург</td>\n",
       "      <td>18863.0</td>\n",
       "      <td>16028.0</td>\n",
       "      <td>1</td>\n",
       "      <td>482.0</td>\n",
       "      <td>2</td>\n",
       "      <td>755.0</td>\n",
       "      <td>NaN</td>\n",
       "      <td>120370.370370</td>\n",
       "    </tr>\n",
       "    <tr>\n",
       "      <th>1</th>\n",
       "      <td>7</td>\n",
       "      <td>3350000</td>\n",
       "      <td>40.4</td>\n",
       "      <td>2018-12-04</td>\n",
       "      <td>1</td>\n",
       "      <td>2.65</td>\n",
       "      <td>11</td>\n",
       "      <td>18.600000</td>\n",
       "      <td>1</td>\n",
       "      <td>True</td>\n",
       "      <td>...</td>\n",
       "      <td>2</td>\n",
       "      <td>Шушары</td>\n",
       "      <td>12817.0</td>\n",
       "      <td>18603.0</td>\n",
       "      <td>0</td>\n",
       "      <td>NaN</td>\n",
       "      <td>0</td>\n",
       "      <td>NaN</td>\n",
       "      <td>81.0</td>\n",
       "      <td>82920.792079</td>\n",
       "    </tr>\n",
       "    <tr>\n",
       "      <th>2</th>\n",
       "      <td>10</td>\n",
       "      <td>5196000</td>\n",
       "      <td>56.0</td>\n",
       "      <td>2015-08-20</td>\n",
       "      <td>2</td>\n",
       "      <td>2.65</td>\n",
       "      <td>5</td>\n",
       "      <td>34.300000</td>\n",
       "      <td>4</td>\n",
       "      <td>True</td>\n",
       "      <td>...</td>\n",
       "      <td>0</td>\n",
       "      <td>Санкт-Петербург</td>\n",
       "      <td>21741.0</td>\n",
       "      <td>13933.0</td>\n",
       "      <td>1</td>\n",
       "      <td>90.0</td>\n",
       "      <td>2</td>\n",
       "      <td>574.0</td>\n",
       "      <td>558.0</td>\n",
       "      <td>92785.714286</td>\n",
       "    </tr>\n",
       "    <tr>\n",
       "      <th>3</th>\n",
       "      <td>0</td>\n",
       "      <td>64900000</td>\n",
       "      <td>159.0</td>\n",
       "      <td>2015-07-24</td>\n",
       "      <td>3</td>\n",
       "      <td>2.65</td>\n",
       "      <td>14</td>\n",
       "      <td>89.826726</td>\n",
       "      <td>9</td>\n",
       "      <td>True</td>\n",
       "      <td>...</td>\n",
       "      <td>0</td>\n",
       "      <td>Санкт-Петербург</td>\n",
       "      <td>28098.0</td>\n",
       "      <td>6800.0</td>\n",
       "      <td>2</td>\n",
       "      <td>84.0</td>\n",
       "      <td>3</td>\n",
       "      <td>234.0</td>\n",
       "      <td>424.0</td>\n",
       "      <td>408176.100629</td>\n",
       "    </tr>\n",
       "    <tr>\n",
       "      <th>4</th>\n",
       "      <td>2</td>\n",
       "      <td>10000000</td>\n",
       "      <td>100.0</td>\n",
       "      <td>2018-06-19</td>\n",
       "      <td>2</td>\n",
       "      <td>3.03</td>\n",
       "      <td>14</td>\n",
       "      <td>32.000000</td>\n",
       "      <td>13</td>\n",
       "      <td>True</td>\n",
       "      <td>...</td>\n",
       "      <td>0</td>\n",
       "      <td>Санкт-Петербург</td>\n",
       "      <td>31856.0</td>\n",
       "      <td>8098.0</td>\n",
       "      <td>2</td>\n",
       "      <td>112.0</td>\n",
       "      <td>1</td>\n",
       "      <td>48.0</td>\n",
       "      <td>121.0</td>\n",
       "      <td>100000.000000</td>\n",
       "    </tr>\n",
       "  </tbody>\n",
       "</table>\n",
       "<p>5 rows × 23 columns</p>\n",
       "</div>"
      ],
      "text/plain": [
       "   total_images  last_price  total_area first_day_exposition  rooms  \\\n",
       "0            20    13000000       108.0           2019-03-07      3   \n",
       "1             7     3350000        40.4           2018-12-04      1   \n",
       "2            10     5196000        56.0           2015-08-20      2   \n",
       "3             0    64900000       159.0           2015-07-24      3   \n",
       "4             2    10000000       100.0           2018-06-19      2   \n",
       "\n",
       "   ceiling_height  floors_total  living_area  floor  is_apartment  ...  \\\n",
       "0            2.70            16    51.000000      8          True  ...   \n",
       "1            2.65            11    18.600000      1          True  ...   \n",
       "2            2.65             5    34.300000      4          True  ...   \n",
       "3            2.65            14    89.826726      9          True  ...   \n",
       "4            3.03            14    32.000000     13          True  ...   \n",
       "\n",
       "   balcony    locality_name  airports_nearest  cityCenters_nearest  \\\n",
       "0        0  Санкт-Петербург           18863.0              16028.0   \n",
       "1        2           Шушары           12817.0              18603.0   \n",
       "2        0  Санкт-Петербург           21741.0              13933.0   \n",
       "3        0  Санкт-Петербург           28098.0               6800.0   \n",
       "4        0  Санкт-Петербург           31856.0               8098.0   \n",
       "\n",
       "  parks_around3000  parks_nearest  ponds_around3000  ponds_nearest  \\\n",
       "0                1          482.0                 2          755.0   \n",
       "1                0            NaN                 0            NaN   \n",
       "2                1           90.0                 2          574.0   \n",
       "3                2           84.0                 3          234.0   \n",
       "4                2          112.0                 1           48.0   \n",
       "\n",
       "   days_exposition     price_sq_m  \n",
       "0              NaN  120370.370370  \n",
       "1             81.0   82920.792079  \n",
       "2            558.0   92785.714286  \n",
       "3            424.0  408176.100629  \n",
       "4            121.0  100000.000000  \n",
       "\n",
       "[5 rows x 23 columns]"
      ]
     },
     "execution_count": 39,
     "metadata": {},
     "output_type": "execute_result"
    }
   ],
   "source": [
    "data['price_sq_m'] = data['last_price']/data['total_area']  # рассчитываем в новом столбце цену кв.метра\n",
    "data.head()  # проверяем"
   ]
  },
  {
   "cell_type": "code",
   "execution_count": 40,
   "metadata": {},
   "outputs": [
    {
     "data": {
      "text/html": [
       "<div>\n",
       "<style scoped>\n",
       "    .dataframe tbody tr th:only-of-type {\n",
       "        vertical-align: middle;\n",
       "    }\n",
       "\n",
       "    .dataframe tbody tr th {\n",
       "        vertical-align: top;\n",
       "    }\n",
       "\n",
       "    .dataframe thead th {\n",
       "        text-align: right;\n",
       "    }\n",
       "</style>\n",
       "<table border=\"1\" class=\"dataframe\">\n",
       "  <thead>\n",
       "    <tr style=\"text-align: right;\">\n",
       "      <th></th>\n",
       "      <th>total_images</th>\n",
       "      <th>last_price</th>\n",
       "      <th>total_area</th>\n",
       "      <th>first_day_exposition</th>\n",
       "      <th>rooms</th>\n",
       "      <th>ceiling_height</th>\n",
       "      <th>floors_total</th>\n",
       "      <th>living_area</th>\n",
       "      <th>floor</th>\n",
       "      <th>is_apartment</th>\n",
       "      <th>...</th>\n",
       "      <th>locality_name</th>\n",
       "      <th>airports_nearest</th>\n",
       "      <th>cityCenters_nearest</th>\n",
       "      <th>parks_around3000</th>\n",
       "      <th>parks_nearest</th>\n",
       "      <th>ponds_around3000</th>\n",
       "      <th>ponds_nearest</th>\n",
       "      <th>days_exposition</th>\n",
       "      <th>price_sq_m</th>\n",
       "      <th>day_of_week</th>\n",
       "    </tr>\n",
       "  </thead>\n",
       "  <tbody>\n",
       "    <tr>\n",
       "      <th>0</th>\n",
       "      <td>20</td>\n",
       "      <td>13000000</td>\n",
       "      <td>108.0</td>\n",
       "      <td>2019-03-07</td>\n",
       "      <td>3</td>\n",
       "      <td>2.70</td>\n",
       "      <td>16</td>\n",
       "      <td>51.000000</td>\n",
       "      <td>8</td>\n",
       "      <td>True</td>\n",
       "      <td>...</td>\n",
       "      <td>Санкт-Петербург</td>\n",
       "      <td>18863.0</td>\n",
       "      <td>16028.0</td>\n",
       "      <td>1</td>\n",
       "      <td>482.0</td>\n",
       "      <td>2</td>\n",
       "      <td>755.0</td>\n",
       "      <td>NaN</td>\n",
       "      <td>120370.370370</td>\n",
       "      <td>3</td>\n",
       "    </tr>\n",
       "    <tr>\n",
       "      <th>1</th>\n",
       "      <td>7</td>\n",
       "      <td>3350000</td>\n",
       "      <td>40.4</td>\n",
       "      <td>2018-12-04</td>\n",
       "      <td>1</td>\n",
       "      <td>2.65</td>\n",
       "      <td>11</td>\n",
       "      <td>18.600000</td>\n",
       "      <td>1</td>\n",
       "      <td>True</td>\n",
       "      <td>...</td>\n",
       "      <td>Шушары</td>\n",
       "      <td>12817.0</td>\n",
       "      <td>18603.0</td>\n",
       "      <td>0</td>\n",
       "      <td>NaN</td>\n",
       "      <td>0</td>\n",
       "      <td>NaN</td>\n",
       "      <td>81.0</td>\n",
       "      <td>82920.792079</td>\n",
       "      <td>1</td>\n",
       "    </tr>\n",
       "    <tr>\n",
       "      <th>2</th>\n",
       "      <td>10</td>\n",
       "      <td>5196000</td>\n",
       "      <td>56.0</td>\n",
       "      <td>2015-08-20</td>\n",
       "      <td>2</td>\n",
       "      <td>2.65</td>\n",
       "      <td>5</td>\n",
       "      <td>34.300000</td>\n",
       "      <td>4</td>\n",
       "      <td>True</td>\n",
       "      <td>...</td>\n",
       "      <td>Санкт-Петербург</td>\n",
       "      <td>21741.0</td>\n",
       "      <td>13933.0</td>\n",
       "      <td>1</td>\n",
       "      <td>90.0</td>\n",
       "      <td>2</td>\n",
       "      <td>574.0</td>\n",
       "      <td>558.0</td>\n",
       "      <td>92785.714286</td>\n",
       "      <td>3</td>\n",
       "    </tr>\n",
       "    <tr>\n",
       "      <th>3</th>\n",
       "      <td>0</td>\n",
       "      <td>64900000</td>\n",
       "      <td>159.0</td>\n",
       "      <td>2015-07-24</td>\n",
       "      <td>3</td>\n",
       "      <td>2.65</td>\n",
       "      <td>14</td>\n",
       "      <td>89.826726</td>\n",
       "      <td>9</td>\n",
       "      <td>True</td>\n",
       "      <td>...</td>\n",
       "      <td>Санкт-Петербург</td>\n",
       "      <td>28098.0</td>\n",
       "      <td>6800.0</td>\n",
       "      <td>2</td>\n",
       "      <td>84.0</td>\n",
       "      <td>3</td>\n",
       "      <td>234.0</td>\n",
       "      <td>424.0</td>\n",
       "      <td>408176.100629</td>\n",
       "      <td>4</td>\n",
       "    </tr>\n",
       "    <tr>\n",
       "      <th>4</th>\n",
       "      <td>2</td>\n",
       "      <td>10000000</td>\n",
       "      <td>100.0</td>\n",
       "      <td>2018-06-19</td>\n",
       "      <td>2</td>\n",
       "      <td>3.03</td>\n",
       "      <td>14</td>\n",
       "      <td>32.000000</td>\n",
       "      <td>13</td>\n",
       "      <td>True</td>\n",
       "      <td>...</td>\n",
       "      <td>Санкт-Петербург</td>\n",
       "      <td>31856.0</td>\n",
       "      <td>8098.0</td>\n",
       "      <td>2</td>\n",
       "      <td>112.0</td>\n",
       "      <td>1</td>\n",
       "      <td>48.0</td>\n",
       "      <td>121.0</td>\n",
       "      <td>100000.000000</td>\n",
       "      <td>1</td>\n",
       "    </tr>\n",
       "  </tbody>\n",
       "</table>\n",
       "<p>5 rows × 24 columns</p>\n",
       "</div>"
      ],
      "text/plain": [
       "   total_images  last_price  total_area first_day_exposition  rooms  \\\n",
       "0            20    13000000       108.0           2019-03-07      3   \n",
       "1             7     3350000        40.4           2018-12-04      1   \n",
       "2            10     5196000        56.0           2015-08-20      2   \n",
       "3             0    64900000       159.0           2015-07-24      3   \n",
       "4             2    10000000       100.0           2018-06-19      2   \n",
       "\n",
       "   ceiling_height  floors_total  living_area  floor  is_apartment  ...  \\\n",
       "0            2.70            16    51.000000      8          True  ...   \n",
       "1            2.65            11    18.600000      1          True  ...   \n",
       "2            2.65             5    34.300000      4          True  ...   \n",
       "3            2.65            14    89.826726      9          True  ...   \n",
       "4            3.03            14    32.000000     13          True  ...   \n",
       "\n",
       "     locality_name  airports_nearest  cityCenters_nearest  parks_around3000  \\\n",
       "0  Санкт-Петербург           18863.0              16028.0                 1   \n",
       "1           Шушары           12817.0              18603.0                 0   \n",
       "2  Санкт-Петербург           21741.0              13933.0                 1   \n",
       "3  Санкт-Петербург           28098.0               6800.0                 2   \n",
       "4  Санкт-Петербург           31856.0               8098.0                 2   \n",
       "\n",
       "  parks_nearest  ponds_around3000  ponds_nearest  days_exposition  \\\n",
       "0         482.0                 2          755.0              NaN   \n",
       "1           NaN                 0            NaN             81.0   \n",
       "2          90.0                 2          574.0            558.0   \n",
       "3          84.0                 3          234.0            424.0   \n",
       "4         112.0                 1           48.0            121.0   \n",
       "\n",
       "      price_sq_m  day_of_week  \n",
       "0  120370.370370            3  \n",
       "1   82920.792079            1  \n",
       "2   92785.714286            3  \n",
       "3  408176.100629            4  \n",
       "4  100000.000000            1  \n",
       "\n",
       "[5 rows x 24 columns]"
      ]
     },
     "execution_count": 40,
     "metadata": {},
     "output_type": "execute_result"
    }
   ],
   "source": [
    "data['day_of_week'] = data['first_day_exposition'].dt.weekday  # рассчитываем в новом столбце день недели\n",
    "data.head()"
   ]
  },
  {
   "cell_type": "code",
   "execution_count": 41,
   "metadata": {},
   "outputs": [],
   "source": [
    "data['month'] = pd.DatetimeIndex(data['first_day_exposition']).month  # рассчитываем в новом столбце месяц\n",
    "data['year'] = pd.DatetimeIndex(data['first_day_exposition']).year  # и год"
   ]
  },
  {
   "cell_type": "code",
   "execution_count": 42,
   "metadata": {},
   "outputs": [
    {
     "data": {
      "text/html": [
       "<div>\n",
       "<style scoped>\n",
       "    .dataframe tbody tr th:only-of-type {\n",
       "        vertical-align: middle;\n",
       "    }\n",
       "\n",
       "    .dataframe tbody tr th {\n",
       "        vertical-align: top;\n",
       "    }\n",
       "\n",
       "    .dataframe thead th {\n",
       "        text-align: right;\n",
       "    }\n",
       "</style>\n",
       "<table border=\"1\" class=\"dataframe\">\n",
       "  <thead>\n",
       "    <tr style=\"text-align: right;\">\n",
       "      <th></th>\n",
       "      <th>total_images</th>\n",
       "      <th>last_price</th>\n",
       "      <th>total_area</th>\n",
       "      <th>first_day_exposition</th>\n",
       "      <th>rooms</th>\n",
       "      <th>ceiling_height</th>\n",
       "      <th>floors_total</th>\n",
       "      <th>living_area</th>\n",
       "      <th>floor</th>\n",
       "      <th>is_apartment</th>\n",
       "      <th>...</th>\n",
       "      <th>parks_around3000</th>\n",
       "      <th>parks_nearest</th>\n",
       "      <th>ponds_around3000</th>\n",
       "      <th>ponds_nearest</th>\n",
       "      <th>days_exposition</th>\n",
       "      <th>price_sq_m</th>\n",
       "      <th>day_of_week</th>\n",
       "      <th>month</th>\n",
       "      <th>year</th>\n",
       "      <th>floor_type</th>\n",
       "    </tr>\n",
       "  </thead>\n",
       "  <tbody>\n",
       "    <tr>\n",
       "      <th>0</th>\n",
       "      <td>20</td>\n",
       "      <td>13000000</td>\n",
       "      <td>108.0</td>\n",
       "      <td>2019-03-07</td>\n",
       "      <td>3</td>\n",
       "      <td>2.70</td>\n",
       "      <td>16</td>\n",
       "      <td>51.000000</td>\n",
       "      <td>8</td>\n",
       "      <td>True</td>\n",
       "      <td>...</td>\n",
       "      <td>1</td>\n",
       "      <td>482.0</td>\n",
       "      <td>2</td>\n",
       "      <td>755.0</td>\n",
       "      <td>NaN</td>\n",
       "      <td>120370.370370</td>\n",
       "      <td>3</td>\n",
       "      <td>3</td>\n",
       "      <td>2019</td>\n",
       "      <td>другой</td>\n",
       "    </tr>\n",
       "    <tr>\n",
       "      <th>1</th>\n",
       "      <td>7</td>\n",
       "      <td>3350000</td>\n",
       "      <td>40.4</td>\n",
       "      <td>2018-12-04</td>\n",
       "      <td>1</td>\n",
       "      <td>2.65</td>\n",
       "      <td>11</td>\n",
       "      <td>18.600000</td>\n",
       "      <td>1</td>\n",
       "      <td>True</td>\n",
       "      <td>...</td>\n",
       "      <td>0</td>\n",
       "      <td>NaN</td>\n",
       "      <td>0</td>\n",
       "      <td>NaN</td>\n",
       "      <td>81.0</td>\n",
       "      <td>82920.792079</td>\n",
       "      <td>1</td>\n",
       "      <td>12</td>\n",
       "      <td>2018</td>\n",
       "      <td>первый</td>\n",
       "    </tr>\n",
       "    <tr>\n",
       "      <th>2</th>\n",
       "      <td>10</td>\n",
       "      <td>5196000</td>\n",
       "      <td>56.0</td>\n",
       "      <td>2015-08-20</td>\n",
       "      <td>2</td>\n",
       "      <td>2.65</td>\n",
       "      <td>5</td>\n",
       "      <td>34.300000</td>\n",
       "      <td>4</td>\n",
       "      <td>True</td>\n",
       "      <td>...</td>\n",
       "      <td>1</td>\n",
       "      <td>90.0</td>\n",
       "      <td>2</td>\n",
       "      <td>574.0</td>\n",
       "      <td>558.0</td>\n",
       "      <td>92785.714286</td>\n",
       "      <td>3</td>\n",
       "      <td>8</td>\n",
       "      <td>2015</td>\n",
       "      <td>другой</td>\n",
       "    </tr>\n",
       "    <tr>\n",
       "      <th>3</th>\n",
       "      <td>0</td>\n",
       "      <td>64900000</td>\n",
       "      <td>159.0</td>\n",
       "      <td>2015-07-24</td>\n",
       "      <td>3</td>\n",
       "      <td>2.65</td>\n",
       "      <td>14</td>\n",
       "      <td>89.826726</td>\n",
       "      <td>9</td>\n",
       "      <td>True</td>\n",
       "      <td>...</td>\n",
       "      <td>2</td>\n",
       "      <td>84.0</td>\n",
       "      <td>3</td>\n",
       "      <td>234.0</td>\n",
       "      <td>424.0</td>\n",
       "      <td>408176.100629</td>\n",
       "      <td>4</td>\n",
       "      <td>7</td>\n",
       "      <td>2015</td>\n",
       "      <td>другой</td>\n",
       "    </tr>\n",
       "    <tr>\n",
       "      <th>4</th>\n",
       "      <td>2</td>\n",
       "      <td>10000000</td>\n",
       "      <td>100.0</td>\n",
       "      <td>2018-06-19</td>\n",
       "      <td>2</td>\n",
       "      <td>3.03</td>\n",
       "      <td>14</td>\n",
       "      <td>32.000000</td>\n",
       "      <td>13</td>\n",
       "      <td>True</td>\n",
       "      <td>...</td>\n",
       "      <td>2</td>\n",
       "      <td>112.0</td>\n",
       "      <td>1</td>\n",
       "      <td>48.0</td>\n",
       "      <td>121.0</td>\n",
       "      <td>100000.000000</td>\n",
       "      <td>1</td>\n",
       "      <td>6</td>\n",
       "      <td>2018</td>\n",
       "      <td>другой</td>\n",
       "    </tr>\n",
       "  </tbody>\n",
       "</table>\n",
       "<p>5 rows × 27 columns</p>\n",
       "</div>"
      ],
      "text/plain": [
       "   total_images  last_price  total_area first_day_exposition  rooms  \\\n",
       "0            20    13000000       108.0           2019-03-07      3   \n",
       "1             7     3350000        40.4           2018-12-04      1   \n",
       "2            10     5196000        56.0           2015-08-20      2   \n",
       "3             0    64900000       159.0           2015-07-24      3   \n",
       "4             2    10000000       100.0           2018-06-19      2   \n",
       "\n",
       "   ceiling_height  floors_total  living_area  floor  is_apartment  ...  \\\n",
       "0            2.70            16    51.000000      8          True  ...   \n",
       "1            2.65            11    18.600000      1          True  ...   \n",
       "2            2.65             5    34.300000      4          True  ...   \n",
       "3            2.65            14    89.826726      9          True  ...   \n",
       "4            3.03            14    32.000000     13          True  ...   \n",
       "\n",
       "   parks_around3000  parks_nearest  ponds_around3000  ponds_nearest  \\\n",
       "0                 1          482.0                 2          755.0   \n",
       "1                 0            NaN                 0            NaN   \n",
       "2                 1           90.0                 2          574.0   \n",
       "3                 2           84.0                 3          234.0   \n",
       "4                 2          112.0                 1           48.0   \n",
       "\n",
       "  days_exposition     price_sq_m  day_of_week  month  year  floor_type  \n",
       "0             NaN  120370.370370            3      3  2019      другой  \n",
       "1            81.0   82920.792079            1     12  2018      первый  \n",
       "2           558.0   92785.714286            3      8  2015      другой  \n",
       "3           424.0  408176.100629            4      7  2015      другой  \n",
       "4           121.0  100000.000000            1      6  2018      другой  \n",
       "\n",
       "[5 rows x 27 columns]"
      ]
     },
     "execution_count": 42,
     "metadata": {},
     "output_type": "execute_result"
    }
   ],
   "source": [
    "def make_floor_type(row):  # создаем функцию для определения типа этажа квартиры\n",
    "    if row['floor'] == 1:\n",
    "        return 'первый'\n",
    "    elif row['floor'] == row['floors_total']:\n",
    "        return 'последний'\n",
    "    return 'другой'\n",
    "\n",
    "data['floor_type'] = data.apply(make_floor_type, axis=1)  # применяем функцию ко всему датафрейму, т.к. нужны данные из разных столбцов\n",
    "data.head()\n"
   ]
  },
  {
   "cell_type": "code",
   "execution_count": 43,
   "metadata": {},
   "outputs": [
    {
     "data": {
      "text/html": [
       "<div>\n",
       "<style scoped>\n",
       "    .dataframe tbody tr th:only-of-type {\n",
       "        vertical-align: middle;\n",
       "    }\n",
       "\n",
       "    .dataframe tbody tr th {\n",
       "        vertical-align: top;\n",
       "    }\n",
       "\n",
       "    .dataframe thead th {\n",
       "        text-align: right;\n",
       "    }\n",
       "</style>\n",
       "<table border=\"1\" class=\"dataframe\">\n",
       "  <thead>\n",
       "    <tr style=\"text-align: right;\">\n",
       "      <th></th>\n",
       "      <th>total_images</th>\n",
       "      <th>last_price</th>\n",
       "      <th>total_area</th>\n",
       "      <th>first_day_exposition</th>\n",
       "      <th>rooms</th>\n",
       "      <th>ceiling_height</th>\n",
       "      <th>floors_total</th>\n",
       "      <th>living_area</th>\n",
       "      <th>floor</th>\n",
       "      <th>is_apartment</th>\n",
       "      <th>...</th>\n",
       "      <th>parks_nearest</th>\n",
       "      <th>ponds_around3000</th>\n",
       "      <th>ponds_nearest</th>\n",
       "      <th>days_exposition</th>\n",
       "      <th>price_sq_m</th>\n",
       "      <th>day_of_week</th>\n",
       "      <th>month</th>\n",
       "      <th>year</th>\n",
       "      <th>floor_type</th>\n",
       "      <th>cityCenters_nearest_km</th>\n",
       "    </tr>\n",
       "  </thead>\n",
       "  <tbody>\n",
       "    <tr>\n",
       "      <th>0</th>\n",
       "      <td>20</td>\n",
       "      <td>13000000</td>\n",
       "      <td>108.0</td>\n",
       "      <td>2019-03-07</td>\n",
       "      <td>3</td>\n",
       "      <td>2.70</td>\n",
       "      <td>16</td>\n",
       "      <td>51.000000</td>\n",
       "      <td>8</td>\n",
       "      <td>True</td>\n",
       "      <td>...</td>\n",
       "      <td>482.0</td>\n",
       "      <td>2</td>\n",
       "      <td>755.0</td>\n",
       "      <td>NaN</td>\n",
       "      <td>120370.370370</td>\n",
       "      <td>3</td>\n",
       "      <td>3</td>\n",
       "      <td>2019</td>\n",
       "      <td>другой</td>\n",
       "      <td>16.0</td>\n",
       "    </tr>\n",
       "    <tr>\n",
       "      <th>1</th>\n",
       "      <td>7</td>\n",
       "      <td>3350000</td>\n",
       "      <td>40.4</td>\n",
       "      <td>2018-12-04</td>\n",
       "      <td>1</td>\n",
       "      <td>2.65</td>\n",
       "      <td>11</td>\n",
       "      <td>18.600000</td>\n",
       "      <td>1</td>\n",
       "      <td>True</td>\n",
       "      <td>...</td>\n",
       "      <td>NaN</td>\n",
       "      <td>0</td>\n",
       "      <td>NaN</td>\n",
       "      <td>81.0</td>\n",
       "      <td>82920.792079</td>\n",
       "      <td>1</td>\n",
       "      <td>12</td>\n",
       "      <td>2018</td>\n",
       "      <td>первый</td>\n",
       "      <td>19.0</td>\n",
       "    </tr>\n",
       "    <tr>\n",
       "      <th>2</th>\n",
       "      <td>10</td>\n",
       "      <td>5196000</td>\n",
       "      <td>56.0</td>\n",
       "      <td>2015-08-20</td>\n",
       "      <td>2</td>\n",
       "      <td>2.65</td>\n",
       "      <td>5</td>\n",
       "      <td>34.300000</td>\n",
       "      <td>4</td>\n",
       "      <td>True</td>\n",
       "      <td>...</td>\n",
       "      <td>90.0</td>\n",
       "      <td>2</td>\n",
       "      <td>574.0</td>\n",
       "      <td>558.0</td>\n",
       "      <td>92785.714286</td>\n",
       "      <td>3</td>\n",
       "      <td>8</td>\n",
       "      <td>2015</td>\n",
       "      <td>другой</td>\n",
       "      <td>14.0</td>\n",
       "    </tr>\n",
       "    <tr>\n",
       "      <th>3</th>\n",
       "      <td>0</td>\n",
       "      <td>64900000</td>\n",
       "      <td>159.0</td>\n",
       "      <td>2015-07-24</td>\n",
       "      <td>3</td>\n",
       "      <td>2.65</td>\n",
       "      <td>14</td>\n",
       "      <td>89.826726</td>\n",
       "      <td>9</td>\n",
       "      <td>True</td>\n",
       "      <td>...</td>\n",
       "      <td>84.0</td>\n",
       "      <td>3</td>\n",
       "      <td>234.0</td>\n",
       "      <td>424.0</td>\n",
       "      <td>408176.100629</td>\n",
       "      <td>4</td>\n",
       "      <td>7</td>\n",
       "      <td>2015</td>\n",
       "      <td>другой</td>\n",
       "      <td>7.0</td>\n",
       "    </tr>\n",
       "    <tr>\n",
       "      <th>4</th>\n",
       "      <td>2</td>\n",
       "      <td>10000000</td>\n",
       "      <td>100.0</td>\n",
       "      <td>2018-06-19</td>\n",
       "      <td>2</td>\n",
       "      <td>3.03</td>\n",
       "      <td>14</td>\n",
       "      <td>32.000000</td>\n",
       "      <td>13</td>\n",
       "      <td>True</td>\n",
       "      <td>...</td>\n",
       "      <td>112.0</td>\n",
       "      <td>1</td>\n",
       "      <td>48.0</td>\n",
       "      <td>121.0</td>\n",
       "      <td>100000.000000</td>\n",
       "      <td>1</td>\n",
       "      <td>6</td>\n",
       "      <td>2018</td>\n",
       "      <td>другой</td>\n",
       "      <td>8.0</td>\n",
       "    </tr>\n",
       "  </tbody>\n",
       "</table>\n",
       "<p>5 rows × 28 columns</p>\n",
       "</div>"
      ],
      "text/plain": [
       "   total_images  last_price  total_area first_day_exposition  rooms  \\\n",
       "0            20    13000000       108.0           2019-03-07      3   \n",
       "1             7     3350000        40.4           2018-12-04      1   \n",
       "2            10     5196000        56.0           2015-08-20      2   \n",
       "3             0    64900000       159.0           2015-07-24      3   \n",
       "4             2    10000000       100.0           2018-06-19      2   \n",
       "\n",
       "   ceiling_height  floors_total  living_area  floor  is_apartment  ...  \\\n",
       "0            2.70            16    51.000000      8          True  ...   \n",
       "1            2.65            11    18.600000      1          True  ...   \n",
       "2            2.65             5    34.300000      4          True  ...   \n",
       "3            2.65            14    89.826726      9          True  ...   \n",
       "4            3.03            14    32.000000     13          True  ...   \n",
       "\n",
       "   parks_nearest  ponds_around3000  ponds_nearest  days_exposition  \\\n",
       "0          482.0                 2          755.0              NaN   \n",
       "1            NaN                 0            NaN             81.0   \n",
       "2           90.0                 2          574.0            558.0   \n",
       "3           84.0                 3          234.0            424.0   \n",
       "4          112.0                 1           48.0            121.0   \n",
       "\n",
       "      price_sq_m  day_of_week  month  year  floor_type  cityCenters_nearest_km  \n",
       "0  120370.370370            3      3  2019      другой                    16.0  \n",
       "1   82920.792079            1     12  2018      первый                    19.0  \n",
       "2   92785.714286            3      8  2015      другой                    14.0  \n",
       "3  408176.100629            4      7  2015      другой                     7.0  \n",
       "4  100000.000000            1      6  2018      другой                     8.0  \n",
       "\n",
       "[5 rows x 28 columns]"
      ]
     },
     "execution_count": 43,
     "metadata": {},
     "output_type": "execute_result"
    }
   ],
   "source": [
    "data['cityCenters_nearest_km']=round(data['cityCenters_nearest']/1000)  # рассчитываем расстояние до центра города в километрах \n",
    "data.head()"
   ]
  },
  {
   "cell_type": "markdown",
   "metadata": {},
   "source": [
    "Столбцы для дальнейшего анализа данных в базу добавлены.</div>"
   ]
  },
  {
   "cell_type": "markdown",
   "metadata": {},
   "source": [
    "### 4. Исследовательский анализ данных"
   ]
  },
  {
   "cell_type": "markdown",
   "metadata": {},
   "source": [
    "#### 4.1 Анализ параметров объектов"
   ]
  },
  {
   "cell_type": "markdown",
   "metadata": {},
   "source": [
    "Посмотрим более внимательно на следующие параметры: общая площадь;\n",
    "жилая площадь;\n",
    "площадь кухни;\n",
    "цена объекта;\n",
    "количество комнат;\n",
    "высота потолков;\n",
    "этаж квартиры;\n",
    "тип этажа квартиры («первый», «последний», «другой»);\n",
    "общее количество этажей в доме;\n",
    "расстояние до центра города в метрах;\n",
    "расстояние до ближайшего аэропорта;\n",
    "расстояние до ближайшего парка;\n",
    "день и месяц публикации объявления."
   ]
  },
  {
   "cell_type": "code",
   "execution_count": 44,
   "metadata": {},
   "outputs": [
    {
     "name": "stdout",
     "output_type": "stream",
     "text": [
      "count    23355.000000\n",
      "mean        59.074160\n",
      "std         28.884337\n",
      "min         19.000000\n",
      "25%         40.000000\n",
      "50%         52.000000\n",
      "75%         69.200000\n",
      "max        250.000000\n",
      "Name: total_area, dtype: float64\n"
     ]
    },
    {
     "data": {
      "image/png": "[encoded data removed]",
      "text/plain": [
       "<Figure size 432x288 with 1 Axes>"
      ]
     },
     "metadata": {
      "needs_background": "light"
     },
     "output_type": "display_data"
    },
    {
     "data": {
      "text/plain": [
       "52.0"
      ]
     },
     "execution_count": 44,
     "metadata": {},
     "output_type": "execute_result"
    }
   ],
   "source": [
    "print(data['total_area'].describe())  # смотрим цифровые характеристики общей площади\n",
    "data['total_area'].hist()  # смотрим гистограмму\n",
    "plt.show()\n",
    "data['total_area'].median()"
   ]
  },
  {
   "cell_type": "markdown",
   "metadata": {},
   "source": [
    "В общей площади объектов после проведенной обработки выбросов наблюдается разброс от 19 до 250 кв. м. Средняя площадь объектов в базе - около 60кв.м., медианная - 52 кв.м., разница объясняется наличием крупных объектов."
   ]
  },
  {
   "cell_type": "markdown",
   "metadata": {},
   "source": [
    "Сократим range до 100:"
   ]
  },
  {
   "cell_type": "code",
   "execution_count": 45,
   "metadata": {},
   "outputs": [
    {
     "data": {
      "image/png": "[encoded data removed]",
      "text/plain": [
       "<Figure size 432x288 with 1 Axes>"
      ]
     },
     "metadata": {
      "needs_background": "light"
     },
     "output_type": "display_data"
    }
   ],
   "source": [
    "data['total_area'].hist(range = (0, 100)) \n",
    "plt.show()"
   ]
  },
  {
   "cell_type": "markdown",
   "metadata": {},
   "source": [
    "При сокращении range наблюдается пиковое значение от 40 до 50 кв.м. - именно таких квартир в базе больше всего."
   ]
  },
  {
   "cell_type": "code",
   "execution_count": 46,
   "metadata": {},
   "outputs": [
    {
     "name": "stdout",
     "output_type": "stream",
     "text": [
      "count    23355.000000\n",
      "mean        33.852555\n",
      "std         18.827242\n",
      "min          2.000000\n",
      "25%         19.000000\n",
      "50%         30.000000\n",
      "75%         42.000000\n",
      "max        220.000000\n",
      "Name: living_area, dtype: float64\n"
     ]
    },
    {
     "data": {
      "image/png": "[encoded data removed]",
      "text/plain": [
       "<Figure size 432x288 with 1 Axes>"
      ]
     },
     "metadata": {
      "needs_background": "light"
     },
     "output_type": "display_data"
    }
   ],
   "source": [
    "print(data['living_area'].describe())  # смотрим цифровые характеристики жилой площади\n",
    "data['living_area'].hist()  # смотрим гистограмму\n",
    "plt.show()"
   ]
  },
  {
   "cell_type": "markdown",
   "metadata": {},
   "source": [
    "Разброс значений жилой площади от 2 до 264, среднее значение - 34 кв.м. Объекты с маленькой жилой площадью (менее законодательно установленных минимальных 14 м.) являются апартаментами."
   ]
  },
  {
   "cell_type": "code",
   "execution_count": 47,
   "metadata": {},
   "outputs": [
    {
     "name": "stdout",
     "output_type": "stream",
     "text": [
      "count    23355.000000\n",
      "mean        10.443102\n",
      "std          5.579782\n",
      "min          1.300000\n",
      "25%          7.000000\n",
      "50%          9.000000\n",
      "75%         12.000000\n",
      "max        107.000000\n",
      "Name: kitchen_area, dtype: float64\n"
     ]
    },
    {
     "data": {
      "image/png": "[encoded data removed]",
      "text/plain": [
       "<Figure size 432x288 with 1 Axes>"
      ]
     },
     "metadata": {
      "needs_background": "light"
     },
     "output_type": "display_data"
    }
   ],
   "source": [
    "print(data['kitchen_area'].describe())  # смотрим цифровые характеристики площади кухни\n",
    "data['kitchen_area'].hist()  # смотрим гистограмму\n",
    "plt.show()"
   ]
  },
  {
   "cell_type": "markdown",
   "metadata": {},
   "source": [
    "Наблюдается разброс значений от 1.3 кв. м. (апартаменты) до 107 кв. м. Среднее значение 10.4 кв.м."
   ]
  },
  {
   "cell_type": "code",
   "execution_count": 48,
   "metadata": {},
   "outputs": [
    {
     "name": "stdout",
     "output_type": "stream",
     "text": [
      "count    2.335500e+04\n",
      "mean     6.204108e+06\n",
      "std      7.079360e+06\n",
      "min      1.219000e+04\n",
      "25%      3.420000e+06\n",
      "50%      4.620000e+06\n",
      "75%      6.722500e+06\n",
      "max      3.300000e+08\n",
      "Name: last_price, dtype: float64\n"
     ]
    },
    {
     "data": {
      "image/png": "[encoded data removed]",
      "text/plain": [
       "<Figure size 432x288 with 1 Axes>"
      ]
     },
     "metadata": {
      "needs_background": "light"
     },
     "output_type": "display_data"
    },
    {
     "data": {
      "text/plain": [
       "4620000.0"
      ]
     },
     "execution_count": 48,
     "metadata": {},
     "output_type": "execute_result"
    }
   ],
   "source": [
    "print(data['last_price'].describe())  # смотрим разброс цены\n",
    "data['last_price'].hist()  # смотрим гистограмму\n",
    "plt.show()\n",
    "data['last_price'].median()"
   ]
  },
  {
   "cell_type": "markdown",
   "metadata": {},
   "source": [
    "Стоимость сильно разнится - от 12 000 рублей за объект до 330 млн. рублей. Подобный разброс объясняется значительными отличиями в площади и инфраструктуре объектов, а также территориальным разбросом (центр Санкт-Петербурга и небольшое село без инфраструктуры, например). Средняя стоимость - 6,4 млн. руб, медианная - 4,6 млн. рублей."
   ]
  },
  {
   "cell_type": "code",
   "execution_count": 49,
   "metadata": {},
   "outputs": [
    {
     "name": "stdout",
     "output_type": "stream",
     "text": [
      "count    23355.000000\n",
      "mean         2.055149\n",
      "std          1.028600\n",
      "min          0.000000\n",
      "25%          1.000000\n",
      "50%          2.000000\n",
      "75%          3.000000\n",
      "max         14.000000\n",
      "Name: rooms, dtype: float64\n"
     ]
    },
    {
     "data": {
      "image/png": "[encoded data removed]",
      "text/plain": [
       "<Figure size 432x288 with 1 Axes>"
      ]
     },
     "metadata": {
      "needs_background": "light"
     },
     "output_type": "display_data"
    }
   ],
   "source": [
    "print(data['rooms'].describe())  # смотрим цифровые характеристики кол-ва комнат\n",
    "data['rooms'].hist()  # смотрим гистограмму\n",
    "plt.show()"
   ]
  },
  {
   "cell_type": "markdown",
   "metadata": {},
   "source": [
    "В среднем объекты в базе недвижимости состоят из двух комнат."
   ]
  },
  {
   "cell_type": "code",
   "execution_count": 50,
   "metadata": {},
   "outputs": [
    {
     "name": "stdout",
     "output_type": "stream",
     "text": [
      "count    23355.000000\n",
      "mean         5.882552\n",
      "std          4.871830\n",
      "min          1.000000\n",
      "25%          2.000000\n",
      "50%          4.000000\n",
      "75%          8.000000\n",
      "max         33.000000\n",
      "Name: floor, dtype: float64\n"
     ]
    },
    {
     "data": {
      "image/png": "[encoded data removed]",
      "text/plain": [
       "<Figure size 432x288 with 1 Axes>"
      ]
     },
     "metadata": {
      "needs_background": "light"
     },
     "output_type": "display_data"
    }
   ],
   "source": [
    "print(data['floor'].describe())  # смотрим цифровую характеристику этажей\n",
    "data['floor'].hist()  # строим гистограмму\n",
    "plt.show()"
   ]
  },
  {
   "cell_type": "markdown",
   "metadata": {},
   "source": [
    "Этажи наблюдаются от 1 до 33, среднее значение 5-6 этаж. По гистограмме наблюдается значительный пик в районе 1-4 этажа, что объясняется значительным историческим (малоэтажным) фондом."
   ]
  },
  {
   "cell_type": "code",
   "execution_count": 51,
   "metadata": {},
   "outputs": [
    {
     "name": "stdout",
     "output_type": "stream",
     "text": [
      "другой       17204\n",
      "последний     3277\n",
      "первый        2874\n",
      "Name: floor_type, dtype: int64\n"
     ]
    },
    {
     "data": {
      "image/png": "[encoded data removed]",
      "text/plain": [
       "<Figure size 432x288 with 1 Axes>"
      ]
     },
     "metadata": {
      "needs_background": "light"
     },
     "output_type": "display_data"
    }
   ],
   "source": [
    "print(data['floor_type'].value_counts())  # смотрим цифровую характеристику этажности\n",
    "data['floor_type'].hist()\n",
    "plt.show()"
   ]
  },
  {
   "cell_type": "markdown",
   "metadata": {},
   "source": [
    "У большей части объектов \"другой\" этаж, ни первый, ни последний (74%). Первых и последних примерно одинаково, что видно по гистограмме (12% и 14% соответственно)"
   ]
  },
  {
   "cell_type": "code",
   "execution_count": 52,
   "metadata": {},
   "outputs": [
    {
     "name": "stdout",
     "output_type": "stream",
     "text": [
      "count    23355.000000\n",
      "mean        10.692443\n",
      "std          6.580188\n",
      "min          1.000000\n",
      "25%          5.000000\n",
      "50%          9.000000\n",
      "75%         16.000000\n",
      "max         36.000000\n",
      "Name: floors_total, dtype: float64\n"
     ]
    },
    {
     "data": {
      "image/png": "[encoded data removed]",
      "text/plain": [
       "<Figure size 432x288 with 1 Axes>"
      ]
     },
     "metadata": {
      "needs_background": "light"
     },
     "output_type": "display_data"
    }
   ],
   "source": [
    "print(data['floors_total'].describe())  # смотрим цифровую характеристику этажности\n",
    "data['floors_total'].hist()  \n",
    "plt.show()"
   ]
  },
  {
   "cell_type": "markdown",
   "metadata": {},
   "source": [
    "Больше всего зданий со средней этажностью - 5-7, что соответствует популярной застройке \"спальных районов\" 70-80-90 годов. Наблюдаются также отдельные пики 15-18этажных зданий (более новые районы с высотной застройкой, конец 90- 2000-ые годы) и 22-25этажные (2000-ые). "
   ]
  },
  {
   "cell_type": "code",
   "execution_count": 53,
   "metadata": {},
   "outputs": [
    {
     "name": "stdout",
     "output_type": "stream",
     "text": [
      "count    17893.000000\n",
      "mean     14238.157156\n",
      "std       8609.536237\n",
      "min        181.000000\n",
      "25%       9329.000000\n",
      "50%      13138.000000\n",
      "75%      16294.000000\n",
      "max      65968.000000\n",
      "Name: cityCenters_nearest, dtype: float64\n"
     ]
    },
    {
     "data": {
      "image/png": "[encoded data removed]",
      "text/plain": [
       "<Figure size 432x288 with 1 Axes>"
      ]
     },
     "metadata": {
      "needs_background": "light"
     },
     "output_type": "display_data"
    }
   ],
   "source": [
    "print(data['cityCenters_nearest'].describe())  # смотрим расстояние до центра города\n",
    "data['cityCenters_nearest'].hist()  \n",
    "plt.show()"
   ]
  },
  {
   "cell_type": "markdown",
   "metadata": {},
   "source": [
    "Удаленность от центра наблюдается от 181 метров до 66 км. Больше всего объектов расположено на расстоянии 8-20 км. "
   ]
  },
  {
   "cell_type": "code",
   "execution_count": 54,
   "metadata": {},
   "outputs": [
    {
     "name": "stdout",
     "output_type": "stream",
     "text": [
      "count    17872.000000\n",
      "mean     28806.882274\n",
      "std      12653.190370\n",
      "min          0.000000\n",
      "25%      18539.000000\n",
      "50%      26772.000000\n",
      "75%      37294.000000\n",
      "max      84869.000000\n",
      "Name: airports_nearest, dtype: float64\n"
     ]
    },
    {
     "data": {
      "image/png": "[encoded data removed]",
      "text/plain": [
       "<Figure size 432x288 with 1 Axes>"
      ]
     },
     "metadata": {
      "needs_background": "light"
     },
     "output_type": "display_data"
    }
   ],
   "source": [
    "print(data['airports_nearest'].describe())  # смотрим расстояние до ближайшего аэропорта\n",
    "data['airports_nearest'].hist()  \n",
    "plt.show()"
   ]
  },
  {
   "cell_type": "markdown",
   "metadata": {},
   "source": [
    "Явный пик на гистограмме - примерно 20 км от аэропорта. Минимальные значения - 0, апартаменты прямо у аэропорта, максимальное - 84 км."
   ]
  },
  {
   "cell_type": "code",
   "execution_count": 55,
   "metadata": {},
   "outputs": [
    {
     "name": "stdout",
     "output_type": "stream",
     "text": [
      "count    7932.000000\n",
      "mean      491.516011\n",
      "std       342.318401\n",
      "min         1.000000\n",
      "25%       288.000000\n",
      "50%       455.000000\n",
      "75%       613.000000\n",
      "max      3190.000000\n",
      "Name: parks_nearest, dtype: float64\n"
     ]
    },
    {
     "data": {
      "image/png": "[encoded data removed]",
      "text/plain": [
       "<Figure size 432x288 with 1 Axes>"
      ]
     },
     "metadata": {
      "needs_background": "light"
     },
     "output_type": "display_data"
    }
   ],
   "source": [
    "print(data['parks_nearest'].describe())  # смотрим расстояние до ближайшего парка\n",
    "data['parks_nearest'].hist()\n",
    "plt.show()"
   ]
  },
  {
   "cell_type": "markdown",
   "metadata": {},
   "source": [
    "В Санкт-Петербурге и Ленинградской области много парков: в среднем в 500 метрах от объектов недвижимости находится как минимум 1. "
   ]
  },
  {
   "cell_type": "code",
   "execution_count": 56,
   "metadata": {},
   "outputs": [
    {
     "name": "stdout",
     "output_type": "stream",
     "text": [
      "count    23355.000000\n",
      "mean         6.403511\n",
      "std          3.493012\n",
      "min          1.000000\n",
      "25%          3.000000\n",
      "50%          6.000000\n",
      "75%         10.000000\n",
      "max         12.000000\n",
      "Name: month, dtype: float64\n"
     ]
    },
    {
     "data": {
      "image/png": "[encoded data removed]",
      "text/plain": [
       "<Figure size 432x288 with 1 Axes>"
      ]
     },
     "metadata": {
      "needs_background": "light"
     },
     "output_type": "display_data"
    }
   ],
   "source": [
    "print(data['month'].describe())  # смотрим цифровые характеристики\n",
    "data['month'].hist()\n",
    "plt.show()"
   ]
  },
  {
   "cell_type": "markdown",
   "metadata": {},
   "source": [
    "Больше всего объявлений выставляются в январе и декабре. Меньше всего- в мае."
   ]
  },
  {
   "cell_type": "code",
   "execution_count": 57,
   "metadata": {},
   "outputs": [
    {
     "name": "stdout",
     "output_type": "stream",
     "text": [
      "count    23355.000000\n",
      "mean         2.566645\n",
      "std          1.787660\n",
      "min          0.000000\n",
      "25%          1.000000\n",
      "50%          3.000000\n",
      "75%          4.000000\n",
      "max          6.000000\n",
      "Name: day_of_week, dtype: float64\n"
     ]
    },
    {
     "data": {
      "image/png": "[encoded data removed]",
      "text/plain": [
       "<Figure size 432x288 with 1 Axes>"
      ]
     },
     "metadata": {
      "needs_background": "light"
     },
     "output_type": "display_data"
    }
   ],
   "source": [
    "print(data['day_of_week'].describe())\n",
    "data['day_of_week'].hist()\n",
    "plt.show()"
   ]
  },
  {
   "cell_type": "markdown",
   "metadata": {},
   "source": [
    "Логичное распределение по дням недели - чаще всего объявления публикуются в рабочие будни, особенно во вторник, среду и четверг. Меньше всего в субботу и воскресенье."
   ]
  },
  {
   "cell_type": "markdown",
   "metadata": {},
   "source": [
    "Проведен анализ объектов в базе после проведенной предобработки. Отмечены следующие пиковые значения: чаще всего выставляются квартиры среднего размера - около 50 кв.м., с 1-2 комнатами, жилой площадью около 35 кв.м. и кухней порядка 10 кв.м. Самые популярные этажи - 2-5 в 5-7-этажных домах. Средняя стоимость составляет 6,4 млн. руб, медианная - 4,6 млн. рублей.\n",
    "    Чаще всего объявления публикуются зимой - в декабре и январе, реже всего в мае. Большинство объявлений появляется в будни. "
   ]
  },
  {
   "cell_type": "markdown",
   "metadata": {},
   "source": [
    "#### 4.2 Анализ скорости продаж квартир "
   ]
  },
  {
   "cell_type": "code",
   "execution_count": 58,
   "metadata": {},
   "outputs": [
    {
     "name": "stdout",
     "output_type": "stream",
     "text": [
      "count    20212.000000\n",
      "mean       180.474965\n",
      "std        219.293396\n",
      "min          1.000000\n",
      "25%         45.000000\n",
      "50%         95.000000\n",
      "75%        231.000000\n",
      "max       1580.000000\n",
      "Name: days_exposition, dtype: float64\n"
     ]
    },
    {
     "data": {
      "image/png": "[encoded data removed]",
      "text/plain": [
       "<Figure size 432x288 with 1 Axes>"
      ]
     },
     "metadata": {
      "needs_background": "light"
     },
     "output_type": "display_data"
    },
    {
     "data": {
      "text/plain": [
       "95.0"
      ]
     },
     "execution_count": 58,
     "metadata": {},
     "output_type": "execute_result"
    }
   ],
   "source": [
    "print(data['days_exposition'].describe())  # смотрим сколько дней было размещено каждое объявление\n",
    "data['days_exposition'].hist()\n",
    "plt.show()\n",
    "data['days_exposition'].median()"
   ]
  },
  {
   "cell_type": "markdown",
   "metadata": {},
   "source": [
    "Уменьшаем range до 100, аналогично устанавливаем количество корзин:"
   ]
  },
  {
   "cell_type": "code",
   "execution_count": 59,
   "metadata": {},
   "outputs": [
    {
     "data": {
      "image/png": "[encoded data removed]",
      "text/plain": [
       "<Figure size 432x288 with 1 Axes>"
      ]
     },
     "metadata": {
      "needs_background": "light"
     },
     "output_type": "display_data"
    }
   ],
   "source": [
    "data['days_exposition'].hist(bins = 100, range =(0,100))\n",
    "plt.show()"
   ]
  },
  {
   "cell_type": "markdown",
   "metadata": {},
   "source": [
    "Проведен анализ скорости продажи квартир. Судя по гистограмме по всем данным основной пик закрытия сделок происходит в интервале 0-180 дней - то есть примерно 5-6 месяцев. Среднее значение составляет как раз 181 день. При этом медианное значение - 95 дней, т.е. три месяца. Именно этот показатель предлагаем считать \"средним\", \"нормальным\" сроком для продажи умеренно ликвидной недвижимости. Значительная разница между средним и медианным показателем обусловлена наличием в базе не только активного рынка недвижимости Санкт-Петербурга, но и менее \"живого\" рынка Ленинградской области, особенно небольших удаленных населенных пунктов.\n",
    "\n",
    "Говоря о \"быстрых\" продажах, то этот показатель можно зафиксировать на уровне первого квартиля (25 процентиль) - 45 дней или полтора месяца. Быстрее продажи производятся только в случае необычайно ликвидного объекта и/или сниженной цены в сравнении с рыночной."
   ]
  },
  {
   "cell_type": "markdown",
   "metadata": {},
   "source": [
    "Уменьшение рассматриваемого интервала помогло выделить два явных пика - после 40 дней и в 60 дней. Можно сделать вывод о том, что у ликвидных квартир (уходят в рынка в медианную величину времени - примерно за 3 месяца) находятся покупатели в период около 1,5 месяца - 2 месяца. Это соответствует рассчитанным по 1 квартилю \"быстрым\" сделкам. "
   ]
  },
  {
   "cell_type": "markdown",
   "metadata": {},
   "source": [
    "#### 4.3 Какие факторы больше всего влияют на общую (полную) стоимость объекта?"
   ]
  },
  {
   "cell_type": "markdown",
   "metadata": {},
   "source": [
    "Рассмотрим зависимость цены от следующих факторов:"
   ]
  },
  {
   "cell_type": "code",
   "execution_count": 61,
   "metadata": {},
   "outputs": [
    {
     "data": {
      "image/png": "[encoded data removed]",
      "text/plain": [
       "<Figure size 432x288 with 1 Axes>"
      ]
     },
     "metadata": {
      "needs_background": "light"
     },
     "output_type": "display_data"
    },
    {
     "data": {
      "text/plain": [
       "0.6700272964498416"
      ]
     },
     "execution_count": 61,
     "metadata": {},
     "output_type": "execute_result"
    }
   ],
   "source": [
    "data.plot(x='total_area', y='last_price', kind='scatter', alpha=0.3)\n",
    "plt.show()\n",
    "data['last_price'].corr(data['total_area'])"
   ]
  },
  {
   "cell_type": "markdown",
   "metadata": {},
   "source": [
    "Проанализировав взаимосвязь данных с помощью графика scatter можно заключить, что зависимость стоимости и общей площади объекта высока при небольших и средних значениях площади, при этом выбросы отмечаются при любой площади квартир. Чем выше площадь - тем меньше зависимость. \n",
    "Коэффициент корреляции Пирсона составляет 0.67 - это говорит о наличии связи, однако не слишком сильной. Выходит, увеличение площади сопровождается ростом цены, но так бывает не всегда.  "
   ]
  },
  {
   "cell_type": "code",
   "execution_count": 62,
   "metadata": {},
   "outputs": [
    {
     "data": {
      "image/png": "[encoded data removed]",
      "text/plain": [
       "<Figure size 432x288 with 1 Axes>"
      ]
     },
     "metadata": {
      "needs_background": "light"
     },
     "output_type": "display_data"
    }
   ],
   "source": [
    "data.pivot_table(index = \"living_area\", values = 'last_price').plot(grid=True)\n",
    "plt.show()"
   ]
  },
  {
   "cell_type": "markdown",
   "metadata": {},
   "source": [
    "В целом распределение похоже на предыдущее, зависимость цены от общей площади, т.к. увеличение жилой площади и общей происходит одновременно. Также наблюдаются единичные выбросы высокой цены, что видимо связано с более высоким уровнем (и сответственно ценой) отдельных объектов. Свыше 200 кв. м. и особенно свыше 250 кв.м. наблюдается уже более неравномерное распределение, что связано с 1) немногочисленностью этих объектов в базе 2)особым ценообразованием квартир со значительной площадью - они уже не столь ликвидны и иногда приходится сильно снижать цену в сравнении с менее большими объектами."
   ]
  },
  {
   "cell_type": "code",
   "execution_count": 63,
   "metadata": {},
   "outputs": [
    {
     "data": {
      "image/png": "[encoded data removed]",
      "text/plain": [
       "<Figure size 432x288 with 1 Axes>"
      ]
     },
     "metadata": {
      "needs_background": "light"
     },
     "output_type": "display_data"
    },
    {
     "data": {
      "text/plain": [
       "0.5825473251610127"
      ]
     },
     "execution_count": 63,
     "metadata": {},
     "output_type": "execute_result"
    }
   ],
   "source": [
    "data.plot(x='living_area', y='last_price', kind='scatter', alpha=0.3)\n",
    "plt.show()\n",
    "data['last_price'].corr(data['living_area'])"
   ]
  },
  {
   "cell_type": "code",
   "execution_count": 64,
   "metadata": {},
   "outputs": [
    {
     "data": {
      "image/png": "[encoded data removed]",
      "text/plain": [
       "<Figure size 432x288 with 1 Axes>"
      ]
     },
     "metadata": {
      "needs_background": "light"
     },
     "output_type": "display_data"
    }
   ],
   "source": [
    "data.pivot_table(index = \"kitchen_area\", values = 'last_price').plot(grid=True)\n",
    "plt.show()"
   ]
  },
  {
   "cell_type": "code",
   "execution_count": 65,
   "metadata": {},
   "outputs": [
    {
     "data": {
      "image/png": "[encoded data removed]",
      "text/plain": [
       "<Figure size 432x288 with 1 Axes>"
      ]
     },
     "metadata": {
      "needs_background": "light"
     },
     "output_type": "display_data"
    },
    {
     "data": {
      "text/plain": [
       "0.5426041717098331"
      ]
     },
     "execution_count": 65,
     "metadata": {},
     "output_type": "execute_result"
    }
   ],
   "source": [
    "data.plot(x='kitchen_area', y='last_price', kind='scatter', alpha=0.3)\n",
    "plt.show()\n",
    "data['last_price'].corr(data['kitchen_area'])"
   ]
  },
  {
   "cell_type": "markdown",
   "metadata": {},
   "source": [
    "Цена растет в зависимости от роста площади кухни (с единичными выбросами), но на уровне 70+ метров происходит падение цены. Объясняется скорее всего опять-таки большой общей площадью квартиры и меньшей ликвидностью столь больших объектов."
   ]
  },
  {
   "cell_type": "code",
   "execution_count": 66,
   "metadata": {},
   "outputs": [
    {
     "data": {
      "image/png": "[encoded data removed]",
      "text/plain": [
       "<Figure size 432x288 with 1 Axes>"
      ]
     },
     "metadata": {
      "needs_background": "light"
     },
     "output_type": "display_data"
    }
   ],
   "source": [
    "data.pivot_table(index = \"rooms\", values = 'last_price').plot(grid=True)\n",
    "plt.show()"
   ]
  },
  {
   "cell_type": "code",
   "execution_count": 67,
   "metadata": {},
   "outputs": [
    {
     "data": {
      "image/png": "[encoded data removed]",
      "text/plain": [
       "<Figure size 432x288 with 1 Axes>"
      ]
     },
     "metadata": {
      "needs_background": "light"
     },
     "output_type": "display_data"
    },
    {
     "data": {
      "text/plain": [
       "0.39428878968193093"
      ]
     },
     "execution_count": 67,
     "metadata": {},
     "output_type": "execute_result"
    }
   ],
   "source": [
    "data.plot(x='rooms', y='last_price', kind='scatter', alpha=0.3)\n",
    "plt.show()\n",
    "data['last_price'].corr(data['rooms'])"
   ]
  },
  {
   "cell_type": "markdown",
   "metadata": {},
   "source": [
    "Цена растет пропорционально росту количества комнат до 8 комнат, после чего начинает падать. Это объясняется невысокой востребованностью объектов с 8+ комнатами - современные домохозяйства (люди, проживающие в одном жилом помещении) обычно состоят из одной семьи (поколения), родители + дети, без других родственников, поэтому большее число комнат не востребовано."
   ]
  },
  {
   "cell_type": "code",
   "execution_count": 68,
   "metadata": {
    "scrolled": true
   },
   "outputs": [
    {
     "data": {
      "image/png": "[encoded data removed]",
      "text/plain": [
       "<Figure size 432x288 with 1 Axes>"
      ]
     },
     "metadata": {
      "needs_background": "light"
     },
     "output_type": "display_data"
    }
   ],
   "source": [
    "data.pivot_table(index = \"floor_type\", values = 'last_price').plot(grid=True)\n",
    "plt.show()"
   ]
  },
  {
   "cell_type": "code",
   "execution_count": 69,
   "metadata": {},
   "outputs": [
    {
     "data": {
      "image/png": "[encoded data removed]",
      "text/plain": [
       "<Figure size 432x288 with 1 Axes>"
      ]
     },
     "metadata": {
      "needs_background": "light"
     },
     "output_type": "display_data"
    }
   ],
   "source": [
    "data.plot(x='floor_type', y='last_price', kind='scatter', alpha=0.7)\n",
    "plt.show()"
   ]
  },
  {
   "cell_type": "markdown",
   "metadata": {},
   "source": [
    "Меньше всего стоят объекты на первом этаже, что достаточно традиционно для рынка недвижимости. Это объясняется как вопросами безопасности, так и близостью квартиры к коммуникациям/подвальным помещениям, а также большой проходимостью этажа. Разницы в востребованности других этажей, в том числе и последнего, не отмечается. "
   ]
  },
  {
   "cell_type": "code",
   "execution_count": 70,
   "metadata": {},
   "outputs": [
    {
     "data": {
      "image/png": "[encoded data removed]",
      "text/plain": [
       "<Figure size 432x288 with 1 Axes>"
      ]
     },
     "metadata": {
      "needs_background": "light"
     },
     "output_type": "display_data"
    }
   ],
   "source": [
    "data.pivot_table(index = \"first_day_exposition\", values = 'last_price').plot(grid=True)\n",
    "plt.show()"
   ]
  },
  {
   "cell_type": "markdown",
   "metadata": {},
   "source": [
    "По графику зависимости цены от точной даты выставления объявления можно вспомнить все исторические и экономические события этих годов. Резкий выброс в августе-сентябре 2015 года - экономический кризис, резкий рост евро и доллара - как правило люди предпочитают в такие моменты вкладывать средства в более стабильную недвижимость. "
   ]
  },
  {
   "cell_type": "code",
   "execution_count": 72,
   "metadata": {},
   "outputs": [
    {
     "data": {
      "image/png": "[encoded data removed]",
      "text/plain": [
       "<Figure size 432x288 with 1 Axes>"
      ]
     },
     "metadata": {
      "needs_background": "light"
     },
     "output_type": "display_data"
    },
    {
     "data": {
      "text/plain": [
       "-0.048872827249316075"
      ]
     },
     "execution_count": 72,
     "metadata": {},
     "output_type": "execute_result"
    }
   ],
   "source": [
    "data.plot(x='year', y='last_price', kind='scatter', alpha=0.3)\n",
    "plt.show()\n",
    "data['last_price'].corr(data['year'])"
   ]
  },
  {
   "cell_type": "code",
   "execution_count": 73,
   "metadata": {},
   "outputs": [
    {
     "data": {
      "image/png": "[encoded data removed]",
      "text/plain": [
       "<Figure size 432x288 with 1 Axes>"
      ]
     },
     "metadata": {
      "needs_background": "light"
     },
     "output_type": "display_data"
    },
    {
     "data": {
      "text/plain": [
       "0.005563153482870703"
      ]
     },
     "execution_count": 73,
     "metadata": {},
     "output_type": "execute_result"
    }
   ],
   "source": [
    "data.plot(x='month', y='last_price', kind='scatter', alpha=0.3)\n",
    "plt.show()\n",
    "data['last_price'].corr(data['month'])"
   ]
  },
  {
   "cell_type": "code",
   "execution_count": 74,
   "metadata": {},
   "outputs": [
    {
     "data": {
      "image/png": "[encoded data removed]",
      "text/plain": [
       "<Figure size 432x288 with 1 Axes>"
      ]
     },
     "metadata": {
      "needs_background": "light"
     },
     "output_type": "display_data"
    },
    {
     "data": {
      "text/plain": [
       "-0.010985171389649885"
      ]
     },
     "execution_count": 74,
     "metadata": {},
     "output_type": "execute_result"
    }
   ],
   "source": [
    "data.plot(x='day_of_week', y='last_price', kind='scatter', alpha=0.3)\n",
    "plt.show()\n",
    "data['last_price'].corr(data['day_of_week'])"
   ]
  },
  {
   "cell_type": "markdown",
   "metadata": {},
   "source": [
    "Проанализировано влияние различных факторов на цену жилья.\n",
    "    Между общей площадь объекта и его стоимостью есть связь, однако не слишком сильная (коэффициент корреляции Пирсона - 0.67). Схожая ситуация с жилой площадью, площадью кухни и количеством комнат - связь есть, но все слабее. Например корреляция количества комнат и стоимости - всего 0,39.\n",
    "    Заметно влияет на стоимость объекта его этаж - первый этаж сильно снижает стоимость квартиры. \n",
    "    Зависимость стоимости от года, дня: наблюдается незначительная отрицательная корреляция, месяц - незначительная положительная. В целом влияние на стоимость объекта практически отсутствует. </div>"
   ]
  },
  {
   "cell_type": "markdown",
   "metadata": {},
   "source": [
    "#### 4.4 Средняя цена одного кв.метра в 10 населённых пунктах с наибольшим числом объявлений"
   ]
  },
  {
   "cell_type": "markdown",
   "metadata": {},
   "source": [
    "Рассчитаем среднюю цену одного квадратного метра в 10 населённых пунктах с наибольшим числом объявлений. "
   ]
  },
  {
   "cell_type": "code",
   "execution_count": 75,
   "metadata": {},
   "outputs": [
    {
     "name": "stdout",
     "output_type": "stream",
     "text": [
      "                    mean_price  count\n",
      "locality_name                        \n",
      "Санкт-Петербург  114013.701124  15491\n",
      "Мурино            86027.744747    583\n",
      "Кудрово           95261.963450    469\n",
      "Шушары            78519.456324    437\n",
      "Всеволожск        68813.029476    395\n",
      "Пушкин           103075.030958    364\n",
      "Колпино           75333.295801    337\n",
      "Парголово         90160.823107    326\n",
      "Гатчина           68746.146763    307\n",
      "Выборг            58191.166107    234\n",
      "                    mean_price  count\n",
      "locality_name                        \n",
      "Санкт-Петербург  114013.701124  15491\n",
      "Пушкин           103075.030958    364\n",
      "Кудрово           95261.963450    469\n",
      "Парголово         90160.823107    326\n",
      "Мурино            86027.744747    583\n",
      "Шушары            78519.456324    437\n",
      "Колпино           75333.295801    337\n",
      "Всеволожск        68813.029476    395\n",
      "Гатчина           68746.146763    307\n",
      "Выборг            58191.166107    234\n"
     ]
    }
   ],
   "source": [
    "locality_10_big = data.pivot_table(index='locality_name', values= 'price_sq_m', aggfunc = [\"mean\", \"count\"])\n",
    "locality_10_big.columns = ['mean_price', 'count']\n",
    "locality_10_big = locality_10_big.sort_values(by='count', ascending = False).head(10)\n",
    "print(locality_10_big)\n",
    "print(locality_10_big.sort_values(by='mean_price', ascending = False))\n"
   ]
  },
  {
   "cell_type": "markdown",
   "metadata": {},
   "source": [
    " Определено десять населенных объектов с самым большим количеством объявлений - Санкт-Петербург, Мурино,Кудрово,Шушары, Всеволожск, Пушкин, Колпино, Парголово, Гатчина, Выборг. Это крупнейшие населенные пункты Ленинградской области, распределение понятно. \n",
    "В представленных топ-10 городов рассчитана стоимость квадратного метра дороже всего в Санкт-Петербурге и Пушкине, дешевле всего в Выборге. "
   ]
  },
  {
   "cell_type": "markdown",
   "metadata": {},
   "source": [
    "#### 4.5 Средняя цена каждого километра в Санкт-Петербурге"
   ]
  },
  {
   "cell_type": "markdown",
   "metadata": {},
   "source": [
    "Изучим распределение стоимости кв.м. в зависимости от удаленности от центра Санкт-Петербурга"
   ]
  },
  {
   "cell_type": "code",
   "execution_count": 76,
   "metadata": {},
   "outputs": [
    {
     "data": {
      "image/png": "[encoded data removed]",
      "text/plain": [
       "<Figure size 1080x504 with 1 Axes>"
      ]
     },
     "metadata": {
      "needs_background": "light"
     },
     "output_type": "display_data"
    }
   ],
   "source": [
    "data.query('locality_name == \"Санкт-Петербург\"').pivot_table(index='cityCenters_nearest_km', values = 'price_sq_m', aggfunc = 'mean')\n",
    "data.query('locality_name == \"Санкт-Петербург\"').pivot_table(index='cityCenters_nearest_km', values = 'price_sq_m', aggfunc = 'mean').plot(kind = 'bar', grid = True,figsize=(15,7), xlabel = 'Сколько километров от городского центра', title = 'Средняя цена каждого километра в Санкт-Петербурге')\n",
    "plt.show()"
   ]
  },
  {
   "cell_type": "markdown",
   "metadata": {},
   "source": [
    "По мере удаления объектов от городских центров стоимость квадратного метра снижается, хотя не очень равномерно. Отмечается резкий провал стоимости объектов на 3 км. и рост стоимости на 4-7 и последующее равномерное снижение с 8 км до 27, где снова отмечен резкий скачок цены. Т.к. подавляющее большинство (почти 70%) базы составляют объекты из Санкт-Петербурга, то можно попробовать проанилизировать с чем связаны эти скачки.\n",
    "\n",
    "В радиусе 3 км. от центра находится так называемый \"золотой треугольник\": объекты недвижимости центрального района Санкт-Петербурга (Невский пр., Садовая улица и др), а также Большой и Малый пр. Васильевского острова и Петроградский район. Эти районы являются самыми престижными и элитными в Санкт-Петербурге, что добавляет повышающий коэффициент к стоимости жилых объектов. Кроме того многие объекты в этом радиусе обладают собственной исторической ценностью. \n",
    "\n",
    "За пределами 3 км. начинаются тоже востребованные и дорогие, но уже не столь престижные районы - наб. Обводного Канала, более удаленные территории Васильевского острова, Выборгская сторона. \"Провал\" стоимости предположительно обусловлен исчезновением повышенной наценки в этих районах, но стоимость квадратного метра остается по-прежнему очень высокой, постепенно снижаясь по мере удаления от центра. "
   ]
  },
  {
   "cell_type": "markdown",
   "metadata": {},
   "source": [
    "Рост стоимости квадратного метра на расстоянии 7 км. от центра предположительно связан с расположением объектов в Приморском районе. Это относительно новый спальный район с высотными новостройками, более современными планировками и хорошими коммуникациями. Кроме того именно в Приморском районе находится Лахта-центра, головной офис ПАО Газпром, что заметно сказалось на росте цен в районе."
   ]
  },
  {
   "cell_type": "code",
   "execution_count": 77,
   "metadata": {},
   "outputs": [
    {
     "data": {
      "text/html": [
       "<div>\n",
       "<style scoped>\n",
       "    .dataframe tbody tr th:only-of-type {\n",
       "        vertical-align: middle;\n",
       "    }\n",
       "\n",
       "    .dataframe tbody tr th {\n",
       "        vertical-align: top;\n",
       "    }\n",
       "\n",
       "    .dataframe thead th {\n",
       "        text-align: right;\n",
       "    }\n",
       "</style>\n",
       "<table border=\"1\" class=\"dataframe\">\n",
       "  <thead>\n",
       "    <tr style=\"text-align: right;\">\n",
       "      <th></th>\n",
       "      <th>total_images</th>\n",
       "      <th>last_price</th>\n",
       "      <th>total_area</th>\n",
       "      <th>first_day_exposition</th>\n",
       "      <th>rooms</th>\n",
       "      <th>ceiling_height</th>\n",
       "      <th>floors_total</th>\n",
       "      <th>living_area</th>\n",
       "      <th>floor</th>\n",
       "      <th>is_apartment</th>\n",
       "      <th>...</th>\n",
       "      <th>parks_nearest</th>\n",
       "      <th>ponds_around3000</th>\n",
       "      <th>ponds_nearest</th>\n",
       "      <th>days_exposition</th>\n",
       "      <th>price_sq_m</th>\n",
       "      <th>day_of_week</th>\n",
       "      <th>month</th>\n",
       "      <th>year</th>\n",
       "      <th>floor_type</th>\n",
       "      <th>cityCenters_nearest_km</th>\n",
       "    </tr>\n",
       "  </thead>\n",
       "  <tbody>\n",
       "    <tr>\n",
       "      <th>748</th>\n",
       "      <td>13</td>\n",
       "      <td>14350000</td>\n",
       "      <td>74.0</td>\n",
       "      <td>2017-11-28</td>\n",
       "      <td>2</td>\n",
       "      <td>3.13</td>\n",
       "      <td>5</td>\n",
       "      <td>30.0</td>\n",
       "      <td>3</td>\n",
       "      <td>True</td>\n",
       "      <td>...</td>\n",
       "      <td>1496.0</td>\n",
       "      <td>0</td>\n",
       "      <td>NaN</td>\n",
       "      <td>128.0</td>\n",
       "      <td>193918.918919</td>\n",
       "      <td>1</td>\n",
       "      <td>11</td>\n",
       "      <td>2017</td>\n",
       "      <td>другой</td>\n",
       "      <td>27.0</td>\n",
       "    </tr>\n",
       "    <tr>\n",
       "      <th>5961</th>\n",
       "      <td>6</td>\n",
       "      <td>2250000</td>\n",
       "      <td>32.0</td>\n",
       "      <td>2018-02-27</td>\n",
       "      <td>1</td>\n",
       "      <td>2.65</td>\n",
       "      <td>2</td>\n",
       "      <td>16.5</td>\n",
       "      <td>2</td>\n",
       "      <td>True</td>\n",
       "      <td>...</td>\n",
       "      <td>NaN</td>\n",
       "      <td>0</td>\n",
       "      <td>NaN</td>\n",
       "      <td>178.0</td>\n",
       "      <td>70312.500000</td>\n",
       "      <td>1</td>\n",
       "      <td>2</td>\n",
       "      <td>2018</td>\n",
       "      <td>последний</td>\n",
       "      <td>27.0</td>\n",
       "    </tr>\n",
       "  </tbody>\n",
       "</table>\n",
       "<p>2 rows × 28 columns</p>\n",
       "</div>"
      ],
      "text/plain": [
       "      total_images  last_price  total_area first_day_exposition  rooms  \\\n",
       "748             13    14350000        74.0           2017-11-28      2   \n",
       "5961             6     2250000        32.0           2018-02-27      1   \n",
       "\n",
       "      ceiling_height  floors_total  living_area  floor  is_apartment  ...  \\\n",
       "748             3.13             5         30.0      3          True  ...   \n",
       "5961            2.65             2         16.5      2          True  ...   \n",
       "\n",
       "      parks_nearest  ponds_around3000  ponds_nearest  days_exposition  \\\n",
       "748          1496.0                 0            NaN            128.0   \n",
       "5961            NaN                 0            NaN            178.0   \n",
       "\n",
       "         price_sq_m  day_of_week  month  year  floor_type  \\\n",
       "748   193918.918919            1     11  2017      другой   \n",
       "5961   70312.500000            1      2  2018   последний   \n",
       "\n",
       "      cityCenters_nearest_km  \n",
       "748                     27.0  \n",
       "5961                    27.0  \n",
       "\n",
       "[2 rows x 28 columns]"
      ]
     },
     "execution_count": 77,
     "metadata": {},
     "output_type": "execute_result"
    }
   ],
   "source": [
    "data.query('(locality_name == \"Санкт-Петербург\")&(cityCenters_nearest_km==27)')"
   ]
  },
  {
   "cell_type": "markdown",
   "metadata": {},
   "source": [
    "Резкий рост на 27 км. обусловлен скорее всего именно такой удаленностью от Санкт-Петербурга по северному направлению части Курортного района, территории с дорогой частной недвижимостью и элитными коттеджными поселками, стоимость жилья в которых также выросла после начала строительства Лахта-центра. Кроме того в базе всего 2 объекта с такой удаленностью, что не позволяет говорить о каких-то значимых тенденциях."
   ]
  },
  {
   "cell_type": "markdown",
   "metadata": {},
   "source": [
    "Изучено распределение стоимости кв.м. в зависимости от удаленности от центра Санкт-Петербурга: зависимость наблюдается - по мере удаления объектов от городских центров стоимость квадратного метра снижается. Однако наблюдаются выбросы, связанные с популярными и востребованными районами."
   ]
  },
  {
   "cell_type": "markdown",
   "metadata": {},
   "source": [
    "### 5. Общий вывод"
   ]
  },
  {
   "cell_type": "markdown",
   "metadata": {},
   "source": [
    "В результате проведенного исследования была проанализированы данные сервиса Яндекс.Недвижимость за 2015-2019 гг. по Санкт-Петербургу и Ленинградской области. Большинство представленных в базе объектов (2/3 всей базы) относятся к Санкт-Петербургу, остальные к крупным населенным пунктам Ленинградской области (Мурино, Кедрово, Шушары, Всеволожск, Пушкин) и более мелким населенным пунктам. \n",
    "\n",
    "При подготовке базы часть отсутствующих данных была заполнена средними, медианными и иными показателями, часть - удалена (менее 2% от общего числа записей), часть - оставлена без изменений. Данные были приведены к соответствующим их значениям типам. Явные редкие и аномальные значения (выбросы) были удалены, однако часть из них (в том числе объекты с очень большой площадью) было признано целесообразным сохранить, т.к. рынок недвижимости России в целом и Санкт-Петербурга и ЛО в частности отличается сильной разнородностью и большим разбросом видов объектов. Слишком сильное \"усреднение\" данных приведет к искажению картины.\n",
    "\n",
    "При анализе обработанной базы было выявлено следующее:\n",
    "\n",
    "1) Средняя цена объектов недвижимости сильно разнится и находится в радиусе от 12 000 рублей за объект до 330 млн. рублей, что соответствует тенденциям всего российского рынка недвижимости. Стоимость квадратного метра дороже всего в Санкт-Петербурге (115 тыс.руб за кв.м) и в г. Пушкине (103 тыс.руб за кв.м).\n",
    "\n",
    "2) Портрет типичного \"усредненного\" объекта недвижимости в нашей базе: двухкомнатная квартира с общей площадью около 50 кв.м. и кухней около 10 кв. м., стоимость 4.6-6.2 млн. рублей. Расположена на 2-4 этаже 5-7-этажного дома, в полукилометре от дома есть парк, в 20 км - аэропорт. \n",
    "\n",
    "3) Больше всего объявлений выставляются в январе и декабре. Меньше всего- в мае.\n",
    "\n",
    "4) Влияние на стоимость объекта недвижимости оказывают: общая (и, соответственно, жилая) площадь объекта (коэффициент корреляции 0,67 - связь есть, но не очень сильная); этажность (первый этаж сильно дешевле других); инфраструктура - удаленность от центра (хотя возможны выбросы, в том числе наличие дорогой загородной недвижимости, удаленных, но новых и современных районов и тп).Зависимость стоимости от года и дня: наблюдается незначительная отрицательная корреляция, месяц - незначительная положительная. В целом заметная линейная связь отсутствует.</div>"
   ]
  },
  {
   "cell_type": "code",
   "execution_count": null,
   "metadata": {},
   "outputs": [],
   "source": []
  }
 ],
 "metadata": {
  "ExecuteTimeLog": [
   {
    "duration": 533,
    "start_time": "2023-01-10T19:57:40.951Z"
   },
   {
    "duration": 93,
    "start_time": "2023-01-10T19:57:44.199Z"
   },
   {
    "duration": 138,
    "start_time": "2023-01-10T19:57:57.943Z"
   },
   {
    "duration": 89,
    "start_time": "2023-01-10T19:58:14.428Z"
   },
   {
    "duration": 72,
    "start_time": "2023-01-10T19:58:35.406Z"
   },
   {
    "duration": 66,
    "start_time": "2023-01-10T19:59:02.423Z"
   },
   {
    "duration": 69,
    "start_time": "2023-01-10T20:01:24.704Z"
   },
   {
    "duration": 83,
    "start_time": "2023-01-10T20:02:07.996Z"
   },
   {
    "duration": 74,
    "start_time": "2023-01-10T20:02:33.825Z"
   },
   {
    "duration": 0,
    "start_time": "2023-01-10T20:05:18.926Z"
   },
   {
    "duration": 68,
    "start_time": "2023-01-10T20:05:24.394Z"
   },
   {
    "duration": 83,
    "start_time": "2023-01-10T20:06:17.710Z"
   },
   {
    "duration": 123,
    "start_time": "2023-01-10T20:08:19.195Z"
   },
   {
    "duration": 121,
    "start_time": "2023-01-10T20:10:23.978Z"
   },
   {
    "duration": 136,
    "start_time": "2023-01-10T20:10:40.079Z"
   },
   {
    "duration": 133,
    "start_time": "2023-01-10T20:10:51.118Z"
   },
   {
    "duration": 1010,
    "start_time": "2023-01-10T20:11:15.466Z"
   },
   {
    "duration": 1281,
    "start_time": "2023-01-10T20:12:54.405Z"
   },
   {
    "duration": 638,
    "start_time": "2023-01-10T20:14:18.494Z"
   },
   {
    "duration": 624,
    "start_time": "2023-01-10T20:20:00.313Z"
   },
   {
    "duration": 2055,
    "start_time": "2023-01-10T20:20:35.083Z"
   },
   {
    "duration": 1998,
    "start_time": "2023-01-10T20:23:11.178Z"
   },
   {
    "duration": 10,
    "start_time": "2023-01-10T20:24:11.541Z"
   },
   {
    "duration": 11,
    "start_time": "2023-01-10T20:24:18.014Z"
   },
   {
    "duration": 10,
    "start_time": "2023-01-10T20:24:22.816Z"
   },
   {
    "duration": 46,
    "start_time": "2023-01-10T20:27:55.199Z"
   },
   {
    "duration": 9,
    "start_time": "2023-01-10T20:28:07.275Z"
   },
   {
    "duration": 14,
    "start_time": "2023-01-10T20:28:29.008Z"
   },
   {
    "duration": 25,
    "start_time": "2023-01-10T20:28:36.522Z"
   },
   {
    "duration": 8,
    "start_time": "2023-01-10T20:28:50.513Z"
   },
   {
    "duration": 25,
    "start_time": "2023-01-10T20:43:44.800Z"
   },
   {
    "duration": 42,
    "start_time": "2023-01-10T20:45:27.316Z"
   },
   {
    "duration": 62,
    "start_time": "2023-01-10T20:45:44.132Z"
   },
   {
    "duration": 58,
    "start_time": "2023-01-10T20:46:10.096Z"
   },
   {
    "duration": 46,
    "start_time": "2023-01-10T20:46:19.843Z"
   },
   {
    "duration": 26,
    "start_time": "2023-01-10T20:46:31.446Z"
   },
   {
    "duration": 8,
    "start_time": "2023-01-10T20:46:57.656Z"
   },
   {
    "duration": 7,
    "start_time": "2023-01-10T20:50:08.529Z"
   },
   {
    "duration": 7,
    "start_time": "2023-01-10T20:50:52.077Z"
   },
   {
    "duration": 14,
    "start_time": "2023-01-10T20:51:46.960Z"
   },
   {
    "duration": 9,
    "start_time": "2023-01-10T20:51:52.019Z"
   },
   {
    "duration": 17,
    "start_time": "2023-01-10T20:52:49.451Z"
   },
   {
    "duration": 27,
    "start_time": "2023-01-10T20:53:28.931Z"
   },
   {
    "duration": 12,
    "start_time": "2023-01-10T20:53:49.857Z"
   },
   {
    "duration": 18,
    "start_time": "2023-01-10T20:54:31.552Z"
   },
   {
    "duration": 14,
    "start_time": "2023-01-10T20:55:06.353Z"
   },
   {
    "duration": 40,
    "start_time": "2023-01-10T20:55:53.935Z"
   },
   {
    "duration": 25,
    "start_time": "2023-01-10T20:56:13.053Z"
   },
   {
    "duration": 18,
    "start_time": "2023-01-10T20:56:39.177Z"
   },
   {
    "duration": 54,
    "start_time": "2023-01-10T20:57:51.334Z"
   },
   {
    "duration": 20,
    "start_time": "2023-01-10T21:00:30.395Z"
   },
   {
    "duration": 24,
    "start_time": "2023-01-10T21:00:40.004Z"
   },
   {
    "duration": 58,
    "start_time": "2023-01-10T21:00:58.429Z"
   },
   {
    "duration": 41,
    "start_time": "2023-01-10T21:05:32.895Z"
   },
   {
    "duration": 25,
    "start_time": "2023-01-10T21:08:21.118Z"
   },
   {
    "duration": 47,
    "start_time": "2023-01-10T21:08:36.712Z"
   },
   {
    "duration": 2057,
    "start_time": "2023-01-10T21:09:37.606Z"
   },
   {
    "duration": 1995,
    "start_time": "2023-01-10T21:09:54.095Z"
   },
   {
    "duration": 2093,
    "start_time": "2023-01-10T21:10:30.438Z"
   },
   {
    "duration": 0,
    "start_time": "2023-01-10T21:14:30.986Z"
   },
   {
    "duration": 49,
    "start_time": "2023-01-10T21:18:17.676Z"
   },
   {
    "duration": 35,
    "start_time": "2023-01-10T21:19:30.026Z"
   },
   {
    "duration": 464,
    "start_time": "2023-01-10T21:22:32.464Z"
   },
   {
    "duration": 148,
    "start_time": "2023-01-10T21:24:41.557Z"
   },
   {
    "duration": 420,
    "start_time": "2023-01-10T21:26:03.269Z"
   },
   {
    "duration": 76,
    "start_time": "2023-01-10T21:27:02.234Z"
   },
   {
    "duration": 268,
    "start_time": "2023-01-10T21:27:09.732Z"
   },
   {
    "duration": 36,
    "start_time": "2023-01-10T21:28:08.627Z"
   },
   {
    "duration": 103,
    "start_time": "2023-01-10T21:28:48.322Z"
   },
   {
    "duration": 52,
    "start_time": "2023-01-10T21:29:12.788Z"
   },
   {
    "duration": 39,
    "start_time": "2023-01-10T21:38:48.329Z"
   },
   {
    "duration": 40,
    "start_time": "2023-01-10T21:39:28.178Z"
   },
   {
    "duration": 2121,
    "start_time": "2023-01-10T21:40:03.563Z"
   },
   {
    "duration": 9,
    "start_time": "2023-01-10T21:40:19.693Z"
   },
   {
    "duration": 28,
    "start_time": "2023-01-10T21:40:23.236Z"
   },
   {
    "duration": 25,
    "start_time": "2023-01-10T21:44:40.329Z"
   },
   {
    "duration": 8,
    "start_time": "2023-01-10T21:45:09.940Z"
   },
   {
    "duration": 9,
    "start_time": "2023-01-10T21:45:16.887Z"
   },
   {
    "duration": 9,
    "start_time": "2023-01-10T21:45:31.770Z"
   },
   {
    "duration": 9,
    "start_time": "2023-01-10T21:45:38.522Z"
   },
   {
    "duration": 9,
    "start_time": "2023-01-10T21:45:57.591Z"
   },
   {
    "duration": 9,
    "start_time": "2023-01-10T21:46:01.551Z"
   },
   {
    "duration": 2288,
    "start_time": "2023-01-10T21:46:13.729Z"
   },
   {
    "duration": 10,
    "start_time": "2023-01-10T21:46:26.303Z"
   },
   {
    "duration": 4,
    "start_time": "2023-01-10T21:46:38.396Z"
   },
   {
    "duration": 8,
    "start_time": "2023-01-10T21:46:43.756Z"
   },
   {
    "duration": 9,
    "start_time": "2023-01-10T21:47:38.250Z"
   },
   {
    "duration": 10,
    "start_time": "2023-01-10T21:47:46.910Z"
   },
   {
    "duration": 10,
    "start_time": "2023-01-10T21:48:28.641Z"
   },
   {
    "duration": 19,
    "start_time": "2023-01-10T21:49:15.027Z"
   },
   {
    "duration": 14,
    "start_time": "2023-01-10T21:49:34.600Z"
   },
   {
    "duration": 13,
    "start_time": "2023-01-10T21:51:33.003Z"
   },
   {
    "duration": 14,
    "start_time": "2023-01-10T21:51:46.664Z"
   },
   {
    "duration": 12,
    "start_time": "2023-01-10T21:51:52.772Z"
   },
   {
    "duration": 95,
    "start_time": "2023-01-10T21:52:19.162Z"
   },
   {
    "duration": 74,
    "start_time": "2023-01-10T21:52:33.852Z"
   },
   {
    "duration": 45,
    "start_time": "2023-01-10T21:52:42.143Z"
   },
   {
    "duration": 19,
    "start_time": "2023-01-10T22:04:43.488Z"
   },
   {
    "duration": 37,
    "start_time": "2023-01-10T22:04:54.991Z"
   },
   {
    "duration": 31,
    "start_time": "2023-01-10T22:05:00.983Z"
   },
   {
    "duration": 20,
    "start_time": "2023-01-10T22:12:58.064Z"
   },
   {
    "duration": 15,
    "start_time": "2023-01-10T22:13:59.329Z"
   },
   {
    "duration": 1179,
    "start_time": "2023-01-10T22:15:14.611Z"
   },
   {
    "duration": 27,
    "start_time": "2023-01-10T22:15:26.538Z"
   },
   {
    "duration": 28,
    "start_time": "2023-01-10T22:18:35.433Z"
   },
   {
    "duration": 7,
    "start_time": "2023-01-10T22:19:10.591Z"
   },
   {
    "duration": 10,
    "start_time": "2023-01-10T22:19:48.155Z"
   },
   {
    "duration": 9,
    "start_time": "2023-01-10T22:20:41.122Z"
   },
   {
    "duration": 9,
    "start_time": "2023-01-10T22:20:51.865Z"
   },
   {
    "duration": 9,
    "start_time": "2023-01-10T22:21:05.255Z"
   },
   {
    "duration": 9,
    "start_time": "2023-01-10T22:21:23.856Z"
   },
   {
    "duration": 41,
    "start_time": "2023-01-10T22:22:14.604Z"
   },
   {
    "duration": 15,
    "start_time": "2023-01-10T22:26:14.018Z"
   },
   {
    "duration": 39,
    "start_time": "2023-01-10T22:26:23.515Z"
   },
   {
    "duration": 27,
    "start_time": "2023-01-10T22:28:20.581Z"
   },
   {
    "duration": 21,
    "start_time": "2023-01-10T22:28:44.092Z"
   },
   {
    "duration": 24,
    "start_time": "2023-01-10T22:29:59.755Z"
   },
   {
    "duration": 97,
    "start_time": "2023-01-10T22:35:50.985Z"
   },
   {
    "duration": 77,
    "start_time": "2023-01-10T22:35:59.341Z"
   },
   {
    "duration": 83,
    "start_time": "2023-01-10T22:36:42.354Z"
   },
   {
    "duration": 84,
    "start_time": "2023-01-10T22:36:47.497Z"
   },
   {
    "duration": 75,
    "start_time": "2023-01-10T22:37:15.357Z"
   },
   {
    "duration": 75,
    "start_time": "2023-01-10T22:37:18.664Z"
   },
   {
    "duration": 79,
    "start_time": "2023-01-10T22:37:45.911Z"
   },
   {
    "duration": 75,
    "start_time": "2023-01-10T22:38:28.027Z"
   },
   {
    "duration": 78,
    "start_time": "2023-01-10T22:40:28.467Z"
   },
   {
    "duration": 102,
    "start_time": "2023-01-10T22:40:41.004Z"
   },
   {
    "duration": 74,
    "start_time": "2023-01-10T22:40:47.945Z"
   },
   {
    "duration": 89,
    "start_time": "2023-01-10T22:41:04.806Z"
   },
   {
    "duration": 68,
    "start_time": "2023-01-10T22:41:15.442Z"
   },
   {
    "duration": 9,
    "start_time": "2023-01-10T22:41:25.235Z"
   },
   {
    "duration": 13,
    "start_time": "2023-01-10T22:44:09.789Z"
   },
   {
    "duration": 7,
    "start_time": "2023-01-10T22:45:28.336Z"
   },
   {
    "duration": 8,
    "start_time": "2023-01-10T22:45:47.742Z"
   },
   {
    "duration": 24,
    "start_time": "2023-01-10T22:46:38.937Z"
   },
   {
    "duration": 28,
    "start_time": "2023-01-10T22:46:52.317Z"
   },
   {
    "duration": 26,
    "start_time": "2023-01-10T22:47:06.078Z"
   },
   {
    "duration": 14,
    "start_time": "2023-01-10T22:48:07.713Z"
   },
   {
    "duration": 16,
    "start_time": "2023-01-10T22:48:12.451Z"
   },
   {
    "duration": 28,
    "start_time": "2023-01-10T22:48:30.673Z"
   },
   {
    "duration": 20,
    "start_time": "2023-01-10T22:48:43.782Z"
   },
   {
    "duration": 5,
    "start_time": "2023-01-10T22:49:11.568Z"
   },
   {
    "duration": 10,
    "start_time": "2023-01-10T22:50:03.184Z"
   },
   {
    "duration": 8,
    "start_time": "2023-01-10T22:50:11.935Z"
   },
   {
    "duration": 11,
    "start_time": "2023-01-10T22:51:00.310Z"
   },
   {
    "duration": 7,
    "start_time": "2023-01-10T22:51:03.867Z"
   },
   {
    "duration": 8,
    "start_time": "2023-01-10T22:51:15.638Z"
   },
   {
    "duration": 15,
    "start_time": "2023-01-10T22:52:18.526Z"
   },
   {
    "duration": 19,
    "start_time": "2023-01-10T22:52:41.288Z"
   },
   {
    "duration": 18,
    "start_time": "2023-01-10T22:53:33.608Z"
   },
   {
    "duration": 13,
    "start_time": "2023-01-11T08:01:48.196Z"
   },
   {
    "duration": 58,
    "start_time": "2023-01-11T08:01:52.384Z"
   },
   {
    "duration": 18,
    "start_time": "2023-01-11T08:08:26.331Z"
   },
   {
    "duration": 23,
    "start_time": "2023-01-11T08:10:14.302Z"
   },
   {
    "duration": 15,
    "start_time": "2023-01-11T08:10:40.907Z"
   },
   {
    "duration": 13,
    "start_time": "2023-01-11T08:12:09.100Z"
   },
   {
    "duration": 20,
    "start_time": "2023-01-11T08:12:27.220Z"
   },
   {
    "duration": 6,
    "start_time": "2023-01-11T08:12:43.516Z"
   },
   {
    "duration": 9,
    "start_time": "2023-01-11T08:13:19.996Z"
   },
   {
    "duration": 8,
    "start_time": "2023-01-11T08:13:53.756Z"
   },
   {
    "duration": 7,
    "start_time": "2023-01-11T08:13:58.704Z"
   },
   {
    "duration": 12,
    "start_time": "2023-01-11T08:14:12.743Z"
   },
   {
    "duration": 13,
    "start_time": "2023-01-11T08:17:10.622Z"
   },
   {
    "duration": 11,
    "start_time": "2023-01-11T08:17:26.086Z"
   },
   {
    "duration": 12,
    "start_time": "2023-01-11T08:18:41.836Z"
   },
   {
    "duration": 13,
    "start_time": "2023-01-11T08:20:35.468Z"
   },
   {
    "duration": 13,
    "start_time": "2023-01-11T08:21:09.240Z"
   },
   {
    "duration": 17,
    "start_time": "2023-01-11T08:22:07.013Z"
   },
   {
    "duration": 18,
    "start_time": "2023-01-11T08:23:15.420Z"
   },
   {
    "duration": 16,
    "start_time": "2023-01-11T08:24:34.403Z"
   },
   {
    "duration": 19,
    "start_time": "2023-01-11T08:25:30.553Z"
   },
   {
    "duration": 96,
    "start_time": "2023-01-11T08:25:59.773Z"
   },
   {
    "duration": 16,
    "start_time": "2023-01-11T08:26:17.614Z"
   },
   {
    "duration": 17,
    "start_time": "2023-01-11T08:26:25.914Z"
   },
   {
    "duration": 17,
    "start_time": "2023-01-11T08:26:32.205Z"
   },
   {
    "duration": 17,
    "start_time": "2023-01-11T08:28:15.493Z"
   },
   {
    "duration": 16,
    "start_time": "2023-01-11T08:29:09.365Z"
   },
   {
    "duration": 75,
    "start_time": "2023-01-11T08:29:34.612Z"
   },
   {
    "duration": 76,
    "start_time": "2023-01-11T08:29:38.467Z"
   },
   {
    "duration": 11,
    "start_time": "2023-01-11T08:29:43.152Z"
   },
   {
    "duration": 11,
    "start_time": "2023-01-11T08:29:49.147Z"
   },
   {
    "duration": 83,
    "start_time": "2023-01-11T08:30:00.693Z"
   },
   {
    "duration": 93,
    "start_time": "2023-01-11T08:30:52.869Z"
   },
   {
    "duration": 16,
    "start_time": "2023-01-11T08:31:03.454Z"
   },
   {
    "duration": 19,
    "start_time": "2023-01-11T08:31:58.745Z"
   },
   {
    "duration": 7,
    "start_time": "2023-01-11T08:36:55.232Z"
   },
   {
    "duration": 85,
    "start_time": "2023-01-11T08:37:04.374Z"
   },
   {
    "duration": 26,
    "start_time": "2023-01-11T08:37:20.945Z"
   },
   {
    "duration": 27,
    "start_time": "2023-01-11T08:37:57.137Z"
   },
   {
    "duration": 28,
    "start_time": "2023-01-11T08:38:09.310Z"
   },
   {
    "duration": 11,
    "start_time": "2023-01-11T08:46:51.955Z"
   },
   {
    "duration": 3,
    "start_time": "2023-01-11T08:47:34.851Z"
   },
   {
    "duration": 11,
    "start_time": "2023-01-11T08:47:41.555Z"
   },
   {
    "duration": 11,
    "start_time": "2023-01-11T08:48:42.752Z"
   },
   {
    "duration": 11,
    "start_time": "2023-01-11T08:49:01.470Z"
   },
   {
    "duration": 18,
    "start_time": "2023-01-11T08:58:09.894Z"
   },
   {
    "duration": 16,
    "start_time": "2023-01-11T08:58:20.601Z"
   },
   {
    "duration": 12,
    "start_time": "2023-01-11T08:58:35.898Z"
   },
   {
    "duration": 27,
    "start_time": "2023-01-11T08:58:41.924Z"
   },
   {
    "duration": 1853,
    "start_time": "2023-01-11T08:58:48.310Z"
   },
   {
    "duration": 30,
    "start_time": "2023-01-11T08:58:55.140Z"
   },
   {
    "duration": 23,
    "start_time": "2023-01-11T08:59:05.458Z"
   },
   {
    "duration": 15,
    "start_time": "2023-01-11T08:59:11.488Z"
   },
   {
    "duration": 1278,
    "start_time": "2023-01-11T08:59:25.437Z"
   },
   {
    "duration": 9,
    "start_time": "2023-01-11T08:59:52.835Z"
   },
   {
    "duration": 21,
    "start_time": "2023-01-11T08:59:55.480Z"
   },
   {
    "duration": 29,
    "start_time": "2023-01-11T09:00:07.368Z"
   },
   {
    "duration": 27,
    "start_time": "2023-01-11T09:00:32.656Z"
   },
   {
    "duration": 24,
    "start_time": "2023-01-11T09:02:01.241Z"
   },
   {
    "duration": 13,
    "start_time": "2023-01-11T09:02:09.312Z"
   },
   {
    "duration": 9,
    "start_time": "2023-01-11T09:06:31.132Z"
   },
   {
    "duration": 22,
    "start_time": "2023-01-11T09:07:15.183Z"
   },
   {
    "duration": 5,
    "start_time": "2023-01-11T09:18:59.584Z"
   },
   {
    "duration": 5,
    "start_time": "2023-01-11T09:19:08.610Z"
   },
   {
    "duration": 9,
    "start_time": "2023-01-11T09:19:17.613Z"
   },
   {
    "duration": 7,
    "start_time": "2023-01-11T09:19:26.911Z"
   },
   {
    "duration": 5,
    "start_time": "2023-01-11T09:19:34.283Z"
   },
   {
    "duration": 12,
    "start_time": "2023-01-11T09:23:07.331Z"
   },
   {
    "duration": 20,
    "start_time": "2023-01-11T09:23:43.880Z"
   },
   {
    "duration": 26,
    "start_time": "2023-01-11T09:25:46.725Z"
   },
   {
    "duration": 31,
    "start_time": "2023-01-11T09:26:42.666Z"
   },
   {
    "duration": 61,
    "start_time": "2023-01-11T09:28:04.877Z"
   },
   {
    "duration": 30,
    "start_time": "2023-01-11T09:28:29.070Z"
   },
   {
    "duration": 2038,
    "start_time": "2023-01-11T09:28:37.992Z"
   },
   {
    "duration": 10,
    "start_time": "2023-01-11T09:28:42.174Z"
   },
   {
    "duration": 30,
    "start_time": "2023-01-11T09:28:45.712Z"
   },
   {
    "duration": 17,
    "start_time": "2023-01-11T09:28:47.808Z"
   },
   {
    "duration": 11,
    "start_time": "2023-01-11T09:28:50.160Z"
   },
   {
    "duration": 14,
    "start_time": "2023-01-11T09:28:52.504Z"
   },
   {
    "duration": 15,
    "start_time": "2023-01-11T09:28:55.253Z"
   },
   {
    "duration": 128,
    "start_time": "2023-01-11T09:28:58.365Z"
   },
   {
    "duration": 16,
    "start_time": "2023-01-11T09:28:59.318Z"
   },
   {
    "duration": 2,
    "start_time": "2023-01-11T09:29:06.394Z"
   },
   {
    "duration": 8,
    "start_time": "2023-01-11T09:29:08.765Z"
   },
   {
    "duration": 59,
    "start_time": "2023-01-11T09:29:13.823Z"
   },
   {
    "duration": 8,
    "start_time": "2023-01-11T09:30:05.545Z"
   },
   {
    "duration": 58,
    "start_time": "2023-01-11T09:30:11.890Z"
   },
   {
    "duration": 6,
    "start_time": "2023-01-11T09:30:41.277Z"
   },
   {
    "duration": 878,
    "start_time": "2023-01-11T09:30:47.477Z"
   },
   {
    "duration": 9,
    "start_time": "2023-01-11T09:31:20.434Z"
   },
   {
    "duration": 926,
    "start_time": "2023-01-11T09:32:00.086Z"
   },
   {
    "duration": 10,
    "start_time": "2023-01-11T09:32:30.930Z"
   },
   {
    "duration": 1818,
    "start_time": "2023-01-11T09:32:38.996Z"
   },
   {
    "duration": 9,
    "start_time": "2023-01-11T09:32:41.978Z"
   },
   {
    "duration": 32,
    "start_time": "2023-01-11T09:32:42.924Z"
   },
   {
    "duration": 12,
    "start_time": "2023-01-11T09:32:43.670Z"
   },
   {
    "duration": 9,
    "start_time": "2023-01-11T09:32:45.310Z"
   },
   {
    "duration": 12,
    "start_time": "2023-01-11T09:32:47.086Z"
   },
   {
    "duration": 15,
    "start_time": "2023-01-11T09:32:48.842Z"
   },
   {
    "duration": 70,
    "start_time": "2023-01-11T09:32:53.161Z"
   },
   {
    "duration": 17,
    "start_time": "2023-01-11T09:32:55.980Z"
   },
   {
    "duration": 28,
    "start_time": "2023-01-11T09:32:59.784Z"
   },
   {
    "duration": 7,
    "start_time": "2023-01-11T09:33:05.002Z"
   },
   {
    "duration": 16,
    "start_time": "2023-01-11T09:33:08.453Z"
   },
   {
    "duration": 16,
    "start_time": "2023-01-11T09:33:34.577Z"
   },
   {
    "duration": 16,
    "start_time": "2023-01-11T09:33:49.284Z"
   },
   {
    "duration": 101,
    "start_time": "2023-01-11T09:34:29.420Z"
   },
   {
    "duration": 21,
    "start_time": "2023-01-11T09:34:33.719Z"
   },
   {
    "duration": 8,
    "start_time": "2023-01-11T09:35:32.925Z"
   },
   {
    "duration": 14,
    "start_time": "2023-01-11T09:35:59.295Z"
   },
   {
    "duration": 24,
    "start_time": "2023-01-11T09:36:38.884Z"
   },
   {
    "duration": 2125,
    "start_time": "2023-01-11T09:38:19.810Z"
   },
   {
    "duration": 9,
    "start_time": "2023-01-11T09:38:22.253Z"
   },
   {
    "duration": 30,
    "start_time": "2023-01-11T09:38:23.420Z"
   },
   {
    "duration": 14,
    "start_time": "2023-01-11T09:38:24.573Z"
   },
   {
    "duration": 10,
    "start_time": "2023-01-11T09:38:25.751Z"
   },
   {
    "duration": 14,
    "start_time": "2023-01-11T09:38:27.384Z"
   },
   {
    "duration": 16,
    "start_time": "2023-01-11T09:38:28.389Z"
   },
   {
    "duration": 275,
    "start_time": "2023-01-11T09:38:28.888Z"
   },
   {
    "duration": 19,
    "start_time": "2023-01-11T09:38:29.369Z"
   },
   {
    "duration": 30,
    "start_time": "2023-01-11T09:38:31.765Z"
   },
   {
    "duration": 83,
    "start_time": "2023-01-11T09:38:32.661Z"
   },
   {
    "duration": 8,
    "start_time": "2023-01-11T09:38:44.330Z"
   },
   {
    "duration": 10,
    "start_time": "2023-01-11T09:38:49.272Z"
   },
   {
    "duration": 16,
    "start_time": "2023-01-11T09:39:07.852Z"
   },
   {
    "duration": 31,
    "start_time": "2023-01-11T09:40:02.636Z"
   },
   {
    "duration": 16,
    "start_time": "2023-01-11T09:40:59.552Z"
   },
   {
    "duration": 15,
    "start_time": "2023-01-11T09:41:21.691Z"
   },
   {
    "duration": 2055,
    "start_time": "2023-01-11T09:42:17.352Z"
   },
   {
    "duration": 21,
    "start_time": "2023-01-11T09:42:37.786Z"
   },
   {
    "duration": 31,
    "start_time": "2023-01-11T09:42:48.071Z"
   },
   {
    "duration": 14,
    "start_time": "2023-01-11T09:42:57.878Z"
   },
   {
    "duration": 10,
    "start_time": "2023-01-11T09:43:11.288Z"
   },
   {
    "duration": 14,
    "start_time": "2023-01-11T09:43:14.876Z"
   },
   {
    "duration": 16,
    "start_time": "2023-01-11T09:43:19.996Z"
   },
   {
    "duration": 18,
    "start_time": "2023-01-11T09:43:27.925Z"
   },
   {
    "duration": 28,
    "start_time": "2023-01-11T09:43:36.480Z"
   },
   {
    "duration": 7,
    "start_time": "2023-01-11T09:43:42.238Z"
   },
   {
    "duration": 15,
    "start_time": "2023-01-11T09:43:56.859Z"
   },
   {
    "duration": 1968,
    "start_time": "2023-01-11T09:44:34.720Z"
   },
   {
    "duration": 10,
    "start_time": "2023-01-11T09:44:36.690Z"
   },
   {
    "duration": 41,
    "start_time": "2023-01-11T09:44:37.465Z"
   },
   {
    "duration": 14,
    "start_time": "2023-01-11T09:44:40.284Z"
   },
   {
    "duration": 11,
    "start_time": "2023-01-11T09:44:45.912Z"
   },
   {
    "duration": 20,
    "start_time": "2023-01-11T09:44:49.923Z"
   },
   {
    "duration": 22,
    "start_time": "2023-01-11T09:44:53.779Z"
   },
   {
    "duration": 23,
    "start_time": "2023-01-11T09:44:55.326Z"
   },
   {
    "duration": 19,
    "start_time": "2023-01-11T09:44:58.068Z"
   },
   {
    "duration": 25,
    "start_time": "2023-01-11T09:45:29.604Z"
   },
   {
    "duration": 75,
    "start_time": "2023-01-11T09:46:29.485Z"
   },
   {
    "duration": 28,
    "start_time": "2023-01-11T09:46:36.841Z"
   },
   {
    "duration": 3188,
    "start_time": "2023-01-11T12:59:13.165Z"
   },
   {
    "duration": 10,
    "start_time": "2023-01-11T12:59:16.356Z"
   },
   {
    "duration": 34,
    "start_time": "2023-01-11T12:59:16.368Z"
   },
   {
    "duration": 22,
    "start_time": "2023-01-11T12:59:16.404Z"
   },
   {
    "duration": 10,
    "start_time": "2023-01-11T12:59:16.787Z"
   },
   {
    "duration": 14,
    "start_time": "2023-01-11T12:59:18.692Z"
   },
   {
    "duration": 18,
    "start_time": "2023-01-11T12:59:19.826Z"
   },
   {
    "duration": 18,
    "start_time": "2023-01-11T12:59:21.527Z"
   },
   {
    "duration": 28,
    "start_time": "2023-01-11T12:59:23.630Z"
   },
   {
    "duration": 42,
    "start_time": "2023-01-11T12:59:26.929Z"
   },
   {
    "duration": 7,
    "start_time": "2023-01-11T13:01:20.899Z"
   },
   {
    "duration": 52,
    "start_time": "2023-01-11T13:01:42.466Z"
   },
   {
    "duration": 44,
    "start_time": "2023-01-11T13:03:42.915Z"
   },
   {
    "duration": 2493,
    "start_time": "2023-01-11T13:07:48.189Z"
   },
   {
    "duration": 21,
    "start_time": "2023-01-11T13:07:50.685Z"
   },
   {
    "duration": 53,
    "start_time": "2023-01-11T13:07:50.707Z"
   },
   {
    "duration": 17,
    "start_time": "2023-01-11T13:07:50.970Z"
   },
   {
    "duration": 13,
    "start_time": "2023-01-11T13:07:52.197Z"
   },
   {
    "duration": 21,
    "start_time": "2023-01-11T13:07:53.613Z"
   },
   {
    "duration": 15,
    "start_time": "2023-01-11T13:07:54.616Z"
   },
   {
    "duration": 28,
    "start_time": "2023-01-11T13:07:55.631Z"
   },
   {
    "duration": 47,
    "start_time": "2023-01-11T13:07:59.625Z"
   },
   {
    "duration": 40,
    "start_time": "2023-01-11T13:08:05.936Z"
   },
   {
    "duration": 68,
    "start_time": "2023-01-11T13:09:02.014Z"
   },
   {
    "duration": 41,
    "start_time": "2023-01-11T13:09:08.291Z"
   },
   {
    "duration": 2176,
    "start_time": "2023-01-11T13:10:41.312Z"
   },
   {
    "duration": 18,
    "start_time": "2023-01-11T13:10:43.491Z"
   },
   {
    "duration": 32,
    "start_time": "2023-01-11T13:10:44.214Z"
   },
   {
    "duration": 15,
    "start_time": "2023-01-11T13:10:46.604Z"
   },
   {
    "duration": 41,
    "start_time": "2023-01-11T13:10:50.121Z"
   },
   {
    "duration": 34,
    "start_time": "2023-01-11T13:11:07.631Z"
   },
   {
    "duration": 53,
    "start_time": "2023-01-11T13:12:10.034Z"
   },
   {
    "duration": 29,
    "start_time": "2023-01-11T13:13:40.742Z"
   },
   {
    "duration": 31,
    "start_time": "2023-01-11T13:14:48.618Z"
   },
   {
    "duration": 5,
    "start_time": "2023-01-11T13:15:15.902Z"
   },
   {
    "duration": 5,
    "start_time": "2023-01-11T13:18:42.142Z"
   },
   {
    "duration": 12,
    "start_time": "2023-01-11T13:19:02.848Z"
   },
   {
    "duration": 17,
    "start_time": "2023-01-11T13:19:09.031Z"
   },
   {
    "duration": 9,
    "start_time": "2023-01-11T13:19:16.735Z"
   },
   {
    "duration": 13,
    "start_time": "2023-01-11T13:19:21.210Z"
   },
   {
    "duration": 17,
    "start_time": "2023-01-11T13:24:50.510Z"
   },
   {
    "duration": 22,
    "start_time": "2023-01-11T13:25:17.454Z"
   },
   {
    "duration": 11,
    "start_time": "2023-01-11T13:27:11.490Z"
   },
   {
    "duration": 6,
    "start_time": "2023-01-11T13:27:42.427Z"
   },
   {
    "duration": 43,
    "start_time": "2023-01-11T13:30:32.838Z"
   },
   {
    "duration": 32,
    "start_time": "2023-01-11T13:31:17.169Z"
   },
   {
    "duration": 93,
    "start_time": "2023-01-11T13:31:49.362Z"
   },
   {
    "duration": 29,
    "start_time": "2023-01-11T13:32:03.214Z"
   },
   {
    "duration": 34,
    "start_time": "2023-01-11T13:32:41.875Z"
   },
   {
    "duration": 28,
    "start_time": "2023-01-11T14:28:35.416Z"
   },
   {
    "duration": 32,
    "start_time": "2023-01-11T14:28:57.870Z"
   },
   {
    "duration": 4,
    "start_time": "2023-01-11T14:33:46.392Z"
   },
   {
    "duration": 28,
    "start_time": "2023-01-11T14:33:57.874Z"
   },
   {
    "duration": 12,
    "start_time": "2023-01-11T14:37:47.656Z"
   },
   {
    "duration": 26,
    "start_time": "2023-01-11T14:38:58.984Z"
   },
   {
    "duration": 28,
    "start_time": "2023-01-11T14:39:48.351Z"
   },
   {
    "duration": 2083,
    "start_time": "2023-01-11T14:40:06.340Z"
   },
   {
    "duration": 20,
    "start_time": "2023-01-11T14:40:21.615Z"
   },
   {
    "duration": 17,
    "start_time": "2023-01-11T14:40:39.721Z"
   },
   {
    "duration": 600,
    "start_time": "2023-01-11T14:41:07.737Z"
   },
   {
    "duration": 557,
    "start_time": "2023-01-11T14:41:40.130Z"
   },
   {
    "duration": 21,
    "start_time": "2023-01-11T14:42:39.806Z"
   },
   {
    "duration": 15,
    "start_time": "2023-01-11T14:42:52.610Z"
   },
   {
    "duration": 7,
    "start_time": "2023-01-11T14:42:57.078Z"
   },
   {
    "duration": 12,
    "start_time": "2023-01-11T14:43:02.767Z"
   },
   {
    "duration": 11,
    "start_time": "2023-01-11T14:43:18.546Z"
   },
   {
    "duration": 16,
    "start_time": "2023-01-11T14:44:22.159Z"
   },
   {
    "duration": 11,
    "start_time": "2023-01-11T14:44:45.309Z"
   },
   {
    "duration": 5,
    "start_time": "2023-01-11T14:45:51.742Z"
   },
   {
    "duration": 26,
    "start_time": "2023-01-11T14:46:29.234Z"
   },
   {
    "duration": 2122,
    "start_time": "2023-01-11T14:46:37.162Z"
   },
   {
    "duration": 22,
    "start_time": "2023-01-11T14:46:39.286Z"
   },
   {
    "duration": 30,
    "start_time": "2023-01-11T14:46:39.310Z"
   },
   {
    "duration": 15,
    "start_time": "2023-01-11T14:46:40.118Z"
   },
   {
    "duration": 56,
    "start_time": "2023-01-11T14:46:41.125Z"
   },
   {
    "duration": 6,
    "start_time": "2023-01-11T14:46:42.507Z"
   },
   {
    "duration": 10,
    "start_time": "2023-01-11T14:46:43.259Z"
   },
   {
    "duration": 13,
    "start_time": "2023-01-11T14:46:44.025Z"
   },
   {
    "duration": 159,
    "start_time": "2023-01-11T14:46:45.314Z"
   },
   {
    "duration": 5,
    "start_time": "2023-01-11T14:46:46.733Z"
   },
   {
    "duration": 36,
    "start_time": "2023-01-11T14:46:48.509Z"
   },
   {
    "duration": 4,
    "start_time": "2023-01-11T14:48:33.102Z"
   },
   {
    "duration": 34,
    "start_time": "2023-01-11T14:49:18.273Z"
   },
   {
    "duration": 15,
    "start_time": "2023-01-11T14:49:57.559Z"
   },
   {
    "duration": 20,
    "start_time": "2023-01-11T14:50:09.906Z"
   },
   {
    "duration": 8,
    "start_time": "2023-01-11T14:51:19.273Z"
   },
   {
    "duration": 9,
    "start_time": "2023-01-11T14:51:26.407Z"
   },
   {
    "duration": 3511,
    "start_time": "2023-01-11T19:50:54.763Z"
   },
   {
    "duration": 17,
    "start_time": "2023-01-11T19:51:01.339Z"
   },
   {
    "duration": 52,
    "start_time": "2023-01-11T19:51:04.487Z"
   },
   {
    "duration": 19,
    "start_time": "2023-01-11T19:51:05.713Z"
   },
   {
    "duration": 41,
    "start_time": "2023-01-11T19:51:06.650Z"
   },
   {
    "duration": 7,
    "start_time": "2023-01-11T19:51:08.236Z"
   },
   {
    "duration": 16,
    "start_time": "2023-01-11T19:51:09.526Z"
   },
   {
    "duration": 17,
    "start_time": "2023-01-11T19:51:10.883Z"
   },
   {
    "duration": 43,
    "start_time": "2023-01-11T19:51:12.670Z"
   },
   {
    "duration": 6,
    "start_time": "2023-01-11T19:51:13.727Z"
   },
   {
    "duration": 41,
    "start_time": "2023-01-11T19:51:15.108Z"
   },
   {
    "duration": 9,
    "start_time": "2023-01-11T19:51:16.392Z"
   },
   {
    "duration": 104,
    "start_time": "2023-01-11T19:51:51.731Z"
   },
   {
    "duration": 11,
    "start_time": "2023-01-11T19:52:11.907Z"
   },
   {
    "duration": 6,
    "start_time": "2023-01-11T19:52:38.917Z"
   },
   {
    "duration": 13,
    "start_time": "2023-01-11T19:53:56.791Z"
   },
   {
    "duration": 10,
    "start_time": "2023-01-11T19:53:59.612Z"
   },
   {
    "duration": 8,
    "start_time": "2023-01-11T19:54:10.594Z"
   },
   {
    "duration": 12,
    "start_time": "2023-01-11T19:54:28.563Z"
   },
   {
    "duration": 13,
    "start_time": "2023-01-11T19:55:10.213Z"
   },
   {
    "duration": 175,
    "start_time": "2023-01-11T19:55:27.517Z"
   },
   {
    "duration": 129,
    "start_time": "2023-01-11T19:55:41.933Z"
   },
   {
    "duration": 183,
    "start_time": "2023-01-11T19:55:46.946Z"
   },
   {
    "duration": 109,
    "start_time": "2023-01-11T19:55:51.070Z"
   },
   {
    "duration": 120,
    "start_time": "2023-01-11T19:56:03.241Z"
   },
   {
    "duration": 220,
    "start_time": "2023-01-11T19:56:25.205Z"
   },
   {
    "duration": 171,
    "start_time": "2023-01-11T19:56:43.868Z"
   },
   {
    "duration": 245,
    "start_time": "2023-01-11T19:57:07.535Z"
   },
   {
    "duration": 140,
    "start_time": "2023-01-11T19:57:55.540Z"
   },
   {
    "duration": 8,
    "start_time": "2023-01-11T19:59:42.514Z"
   },
   {
    "duration": 8,
    "start_time": "2023-01-11T19:59:50.951Z"
   },
   {
    "duration": 5,
    "start_time": "2023-01-11T20:00:13.523Z"
   },
   {
    "duration": 11,
    "start_time": "2023-01-11T20:00:17.047Z"
   },
   {
    "duration": 71,
    "start_time": "2023-01-11T20:00:25.313Z"
   },
   {
    "duration": 66,
    "start_time": "2023-01-11T20:01:01.564Z"
   },
   {
    "duration": 24,
    "start_time": "2023-01-11T20:01:16.928Z"
   },
   {
    "duration": 10,
    "start_time": "2023-01-11T20:02:42.387Z"
   },
   {
    "duration": 33,
    "start_time": "2023-01-11T20:03:00.916Z"
   },
   {
    "duration": 43,
    "start_time": "2023-01-11T20:03:41.146Z"
   },
   {
    "duration": 48,
    "start_time": "2023-01-11T20:03:43.747Z"
   },
   {
    "duration": 14,
    "start_time": "2023-01-11T20:05:47.860Z"
   },
   {
    "duration": 12,
    "start_time": "2023-01-11T20:05:51.428Z"
   },
   {
    "duration": 19,
    "start_time": "2023-01-11T20:05:56.153Z"
   },
   {
    "duration": 64,
    "start_time": "2023-01-11T20:07:59.893Z"
   },
   {
    "duration": 8,
    "start_time": "2023-01-11T20:09:13.032Z"
   },
   {
    "duration": 170,
    "start_time": "2023-01-11T20:09:19.802Z"
   },
   {
    "duration": 12,
    "start_time": "2023-01-11T20:09:54.042Z"
   },
   {
    "duration": 9,
    "start_time": "2023-01-11T20:09:57.062Z"
   },
   {
    "duration": 46,
    "start_time": "2023-01-11T20:10:08.626Z"
   },
   {
    "duration": 9,
    "start_time": "2023-01-11T20:10:13.028Z"
   },
   {
    "duration": 73,
    "start_time": "2023-01-11T20:10:39.116Z"
   },
   {
    "duration": 8,
    "start_time": "2023-01-11T20:10:53.684Z"
   },
   {
    "duration": 8,
    "start_time": "2023-01-11T20:10:58.150Z"
   },
   {
    "duration": 7,
    "start_time": "2023-01-11T20:11:04.415Z"
   },
   {
    "duration": 7,
    "start_time": "2023-01-11T20:11:07.726Z"
   },
   {
    "duration": 47,
    "start_time": "2023-01-11T20:11:14.110Z"
   },
   {
    "duration": 52,
    "start_time": "2023-01-11T20:12:55.579Z"
   },
   {
    "duration": 9,
    "start_time": "2023-01-11T20:15:33.739Z"
   },
   {
    "duration": 8,
    "start_time": "2023-01-11T20:16:12.845Z"
   },
   {
    "duration": 9,
    "start_time": "2023-01-11T20:17:14.139Z"
   },
   {
    "duration": 48,
    "start_time": "2023-01-11T20:18:08.205Z"
   },
   {
    "duration": 10,
    "start_time": "2023-01-11T20:20:50.562Z"
   },
   {
    "duration": 14,
    "start_time": "2023-01-11T20:21:02.158Z"
   },
   {
    "duration": 10,
    "start_time": "2023-01-11T20:22:18.332Z"
   },
   {
    "duration": 10,
    "start_time": "2023-01-11T20:22:21.875Z"
   },
   {
    "duration": 29,
    "start_time": "2023-01-11T20:22:27.758Z"
   },
   {
    "duration": 25,
    "start_time": "2023-01-11T20:25:18.253Z"
   },
   {
    "duration": 47,
    "start_time": "2023-01-11T20:26:11.432Z"
   },
   {
    "duration": 17,
    "start_time": "2023-01-11T20:27:30.692Z"
   },
   {
    "duration": 13,
    "start_time": "2023-01-11T20:27:54.737Z"
   },
   {
    "duration": 8,
    "start_time": "2023-01-11T20:27:59.143Z"
   },
   {
    "duration": 16,
    "start_time": "2023-01-11T20:28:06.969Z"
   },
   {
    "duration": 13,
    "start_time": "2023-01-11T20:29:00.916Z"
   },
   {
    "duration": 9,
    "start_time": "2023-01-11T20:29:09.323Z"
   },
   {
    "duration": 22,
    "start_time": "2023-01-11T20:30:16.600Z"
   },
   {
    "duration": 27,
    "start_time": "2023-01-11T20:30:18.247Z"
   },
   {
    "duration": 7,
    "start_time": "2023-01-11T20:34:57.495Z"
   },
   {
    "duration": 12,
    "start_time": "2023-01-11T20:35:16.465Z"
   },
   {
    "duration": 14,
    "start_time": "2023-01-11T20:40:44.919Z"
   },
   {
    "duration": 18,
    "start_time": "2023-01-11T20:41:27.370Z"
   },
   {
    "duration": 17,
    "start_time": "2023-01-11T20:41:37.903Z"
   },
   {
    "duration": 698,
    "start_time": "2023-01-11T20:41:55.212Z"
   },
   {
    "duration": 16,
    "start_time": "2023-01-11T20:42:06.270Z"
   },
   {
    "duration": 14,
    "start_time": "2023-01-11T20:42:22.452Z"
   },
   {
    "duration": 39,
    "start_time": "2023-01-11T20:42:38.663Z"
   },
   {
    "duration": 34,
    "start_time": "2023-01-11T20:43:48.552Z"
   },
   {
    "duration": 34,
    "start_time": "2023-01-11T20:43:52.165Z"
   },
   {
    "duration": 12,
    "start_time": "2023-01-11T20:44:36.797Z"
   },
   {
    "duration": 32,
    "start_time": "2023-01-11T20:45:27.771Z"
   },
   {
    "duration": 42,
    "start_time": "2023-01-11T20:52:32.741Z"
   },
   {
    "duration": 113,
    "start_time": "2023-01-11T20:53:03.756Z"
   },
   {
    "duration": 67,
    "start_time": "2023-01-11T20:53:34.127Z"
   },
   {
    "duration": 49,
    "start_time": "2023-01-11T20:59:05.361Z"
   },
   {
    "duration": 9,
    "start_time": "2023-01-11T21:06:16.102Z"
   },
   {
    "duration": 10,
    "start_time": "2023-01-11T21:08:38.654Z"
   },
   {
    "duration": 12,
    "start_time": "2023-01-11T21:09:01.017Z"
   },
   {
    "duration": 10,
    "start_time": "2023-01-11T21:09:46.813Z"
   },
   {
    "duration": 9,
    "start_time": "2023-01-11T21:09:53.413Z"
   },
   {
    "duration": 17,
    "start_time": "2023-01-11T21:18:44.405Z"
   },
   {
    "duration": 11,
    "start_time": "2023-01-11T21:19:13.129Z"
   },
   {
    "duration": 18,
    "start_time": "2023-01-11T21:19:19.575Z"
   },
   {
    "duration": 2445,
    "start_time": "2023-01-11T21:19:43.627Z"
   },
   {
    "duration": 26,
    "start_time": "2023-01-11T21:19:46.074Z"
   },
   {
    "duration": 42,
    "start_time": "2023-01-11T21:19:46.101Z"
   },
   {
    "duration": 14,
    "start_time": "2023-01-11T21:19:46.145Z"
   },
   {
    "duration": 61,
    "start_time": "2023-01-11T21:19:46.161Z"
   },
   {
    "duration": 14,
    "start_time": "2023-01-11T21:19:46.417Z"
   },
   {
    "duration": 9,
    "start_time": "2023-01-11T21:19:46.726Z"
   },
   {
    "duration": 16,
    "start_time": "2023-01-11T21:19:47.016Z"
   },
   {
    "duration": 34,
    "start_time": "2023-01-11T21:19:47.611Z"
   },
   {
    "duration": 6,
    "start_time": "2023-01-11T21:19:48.079Z"
   },
   {
    "duration": 45,
    "start_time": "2023-01-11T21:19:48.553Z"
   },
   {
    "duration": 11,
    "start_time": "2023-01-11T21:19:49.055Z"
   },
   {
    "duration": 10,
    "start_time": "2023-01-11T21:19:49.600Z"
   },
   {
    "duration": 12,
    "start_time": "2023-01-11T21:19:50.780Z"
   },
   {
    "duration": 10,
    "start_time": "2023-01-11T21:19:53.056Z"
   },
   {
    "duration": 7,
    "start_time": "2023-01-11T21:19:54.025Z"
   },
   {
    "duration": 43,
    "start_time": "2023-01-11T21:19:56.576Z"
   },
   {
    "duration": 10,
    "start_time": "2023-01-11T21:19:58.116Z"
   },
   {
    "duration": 22,
    "start_time": "2023-01-11T21:19:58.754Z"
   },
   {
    "duration": 75,
    "start_time": "2023-01-11T21:19:59.838Z"
   },
   {
    "duration": 18,
    "start_time": "2023-01-11T21:20:58.146Z"
   },
   {
    "duration": 0,
    "start_time": "2023-01-11T21:25:34.579Z"
   },
   {
    "duration": 13,
    "start_time": "2023-01-11T21:27:08.424Z"
   },
   {
    "duration": 39,
    "start_time": "2023-01-11T21:28:25.004Z"
   },
   {
    "duration": 66,
    "start_time": "2023-01-11T21:31:19.363Z"
   },
   {
    "duration": 48,
    "start_time": "2023-01-11T21:31:31.332Z"
   },
   {
    "duration": 48,
    "start_time": "2023-01-11T21:31:46.417Z"
   },
   {
    "duration": 54,
    "start_time": "2023-01-11T21:31:51.190Z"
   },
   {
    "duration": 7,
    "start_time": "2023-01-11T21:32:13.502Z"
   },
   {
    "duration": 10,
    "start_time": "2023-01-11T21:32:19.084Z"
   },
   {
    "duration": 53,
    "start_time": "2023-01-11T21:32:23.763Z"
   },
   {
    "duration": 16,
    "start_time": "2023-01-11T21:34:06.616Z"
   },
   {
    "duration": 31,
    "start_time": "2023-01-11T21:34:25.791Z"
   },
   {
    "duration": 40,
    "start_time": "2023-01-11T21:35:56.181Z"
   },
   {
    "duration": 2167,
    "start_time": "2023-01-11T21:37:06.759Z"
   },
   {
    "duration": 9,
    "start_time": "2023-01-11T21:37:08.929Z"
   },
   {
    "duration": 33,
    "start_time": "2023-01-11T21:37:09.515Z"
   },
   {
    "duration": 14,
    "start_time": "2023-01-11T21:37:10.479Z"
   },
   {
    "duration": 38,
    "start_time": "2023-01-11T21:37:11.602Z"
   },
   {
    "duration": 11,
    "start_time": "2023-01-11T21:41:08.314Z"
   },
   {
    "duration": 11,
    "start_time": "2023-01-11T21:41:25.577Z"
   },
   {
    "duration": 19,
    "start_time": "2023-01-11T21:43:54.583Z"
   },
   {
    "duration": 14,
    "start_time": "2023-01-11T21:45:14.480Z"
   },
   {
    "duration": 14,
    "start_time": "2023-01-11T21:54:30.615Z"
   },
   {
    "duration": 13,
    "start_time": "2023-01-11T21:54:40.615Z"
   },
   {
    "duration": 6,
    "start_time": "2023-01-11T21:57:50.076Z"
   },
   {
    "duration": 5,
    "start_time": "2023-01-11T22:11:50.666Z"
   },
   {
    "duration": 69,
    "start_time": "2023-01-11T22:12:40.702Z"
   },
   {
    "duration": 15,
    "start_time": "2023-01-11T22:13:18.793Z"
   },
   {
    "duration": 77,
    "start_time": "2023-01-11T22:13:36.976Z"
   },
   {
    "duration": 86,
    "start_time": "2023-01-11T22:13:49.876Z"
   },
   {
    "duration": 814,
    "start_time": "2023-01-11T22:14:14.965Z"
   },
   {
    "duration": 91,
    "start_time": "2023-01-11T22:14:32.876Z"
   },
   {
    "duration": 20,
    "start_time": "2023-01-11T22:23:18.964Z"
   },
   {
    "duration": 11,
    "start_time": "2023-01-11T22:23:38.952Z"
   },
   {
    "duration": 152,
    "start_time": "2023-01-11T22:23:44.903Z"
   },
   {
    "duration": 23,
    "start_time": "2023-01-11T22:24:02.044Z"
   },
   {
    "duration": 2050,
    "start_time": "2023-01-11T22:27:04.241Z"
   },
   {
    "duration": 11,
    "start_time": "2023-01-11T22:27:06.297Z"
   },
   {
    "duration": 31,
    "start_time": "2023-01-11T22:27:07.254Z"
   },
   {
    "duration": 15,
    "start_time": "2023-01-11T22:27:08.459Z"
   },
   {
    "duration": 33,
    "start_time": "2023-01-11T22:27:09.670Z"
   },
   {
    "duration": 28,
    "start_time": "2023-01-11T22:27:10.875Z"
   },
   {
    "duration": 9,
    "start_time": "2023-01-11T22:27:12.850Z"
   },
   {
    "duration": 12,
    "start_time": "2023-01-11T22:27:13.827Z"
   },
   {
    "duration": 38,
    "start_time": "2023-01-11T22:27:16.222Z"
   },
   {
    "duration": 5,
    "start_time": "2023-01-11T22:27:18.092Z"
   },
   {
    "duration": 31,
    "start_time": "2023-01-11T22:27:19.062Z"
   },
   {
    "duration": 7,
    "start_time": "2023-01-11T22:27:20.088Z"
   },
   {
    "duration": 9,
    "start_time": "2023-01-11T22:27:21.027Z"
   },
   {
    "duration": 8,
    "start_time": "2023-01-11T22:27:22.041Z"
   },
   {
    "duration": 7,
    "start_time": "2023-01-11T22:27:23.233Z"
   },
   {
    "duration": 6,
    "start_time": "2023-01-11T22:27:24.599Z"
   },
   {
    "duration": 25,
    "start_time": "2023-01-11T22:27:24.924Z"
   },
   {
    "duration": 7,
    "start_time": "2023-01-11T22:27:25.315Z"
   },
   {
    "duration": 14,
    "start_time": "2023-01-11T22:27:25.817Z"
   },
   {
    "duration": 47,
    "start_time": "2023-01-11T22:27:26.273Z"
   },
   {
    "duration": 82,
    "start_time": "2023-01-11T22:28:07.156Z"
   },
   {
    "duration": 10,
    "start_time": "2023-01-11T22:28:41.615Z"
   },
   {
    "duration": 17,
    "start_time": "2023-01-11T22:28:54.045Z"
   },
   {
    "duration": 14,
    "start_time": "2023-01-11T22:29:48.896Z"
   },
   {
    "duration": 38,
    "start_time": "2023-01-11T22:32:19.232Z"
   },
   {
    "duration": 39,
    "start_time": "2023-01-11T22:35:05.706Z"
   },
   {
    "duration": 38,
    "start_time": "2023-01-11T22:35:16.399Z"
   },
   {
    "duration": 7,
    "start_time": "2023-01-11T22:40:50.236Z"
   },
   {
    "duration": 3,
    "start_time": "2023-01-11T22:42:12.948Z"
   },
   {
    "duration": 45,
    "start_time": "2023-01-11T22:42:19.056Z"
   },
   {
    "duration": 7,
    "start_time": "2023-01-11T22:42:28.221Z"
   },
   {
    "duration": 8,
    "start_time": "2023-01-11T22:42:33.871Z"
   },
   {
    "duration": 9,
    "start_time": "2023-01-11T22:42:38.410Z"
   },
   {
    "duration": 9,
    "start_time": "2023-01-11T22:43:25.688Z"
   },
   {
    "duration": 29,
    "start_time": "2023-01-11T22:44:24.348Z"
   },
   {
    "duration": 8,
    "start_time": "2023-01-11T22:45:06.442Z"
   },
   {
    "duration": 25,
    "start_time": "2023-01-11T22:45:18.872Z"
   },
   {
    "duration": 28,
    "start_time": "2023-01-11T22:45:28.971Z"
   },
   {
    "duration": 44,
    "start_time": "2023-01-11T22:46:57.711Z"
   },
   {
    "duration": 47,
    "start_time": "2023-01-11T22:51:02.837Z"
   },
   {
    "duration": 53,
    "start_time": "2023-01-11T22:51:08.123Z"
   },
   {
    "duration": 10,
    "start_time": "2023-01-11T22:51:34.749Z"
   },
   {
    "duration": 9,
    "start_time": "2023-01-11T22:53:09.120Z"
   },
   {
    "duration": 48,
    "start_time": "2023-01-11T22:57:54.843Z"
   },
   {
    "duration": 4,
    "start_time": "2023-01-11T22:58:04.748Z"
   },
   {
    "duration": 24,
    "start_time": "2023-01-11T22:58:11.845Z"
   },
   {
    "duration": 9,
    "start_time": "2023-01-11T22:58:25.473Z"
   },
   {
    "duration": 13,
    "start_time": "2023-01-11T22:59:23.280Z"
   },
   {
    "duration": 14,
    "start_time": "2023-01-11T22:59:41.602Z"
   },
   {
    "duration": 25,
    "start_time": "2023-01-11T22:59:56.445Z"
   },
   {
    "duration": 25,
    "start_time": "2023-01-11T23:00:00.894Z"
   },
   {
    "duration": 9,
    "start_time": "2023-01-11T23:10:30.518Z"
   },
   {
    "duration": 9,
    "start_time": "2023-01-11T23:10:57.593Z"
   },
   {
    "duration": 188,
    "start_time": "2023-01-11T23:11:05.511Z"
   },
   {
    "duration": 182,
    "start_time": "2023-01-11T23:11:17.169Z"
   },
   {
    "duration": 100,
    "start_time": "2023-01-12T07:51:06.506Z"
   },
   {
    "duration": 98,
    "start_time": "2023-01-12T07:51:13.208Z"
   },
   {
    "duration": 30,
    "start_time": "2023-01-12T07:55:05.682Z"
   },
   {
    "duration": 2442,
    "start_time": "2023-01-12T07:55:24.870Z"
   },
   {
    "duration": 11,
    "start_time": "2023-01-12T07:55:27.729Z"
   },
   {
    "duration": 38,
    "start_time": "2023-01-12T07:55:28.792Z"
   },
   {
    "duration": 15,
    "start_time": "2023-01-12T07:55:29.644Z"
   },
   {
    "duration": 34,
    "start_time": "2023-01-12T07:55:30.436Z"
   },
   {
    "duration": 34,
    "start_time": "2023-01-12T07:55:31.183Z"
   },
   {
    "duration": 9,
    "start_time": "2023-01-12T07:55:31.860Z"
   },
   {
    "duration": 19,
    "start_time": "2023-01-12T07:55:32.536Z"
   },
   {
    "duration": 44,
    "start_time": "2023-01-12T07:55:33.541Z"
   },
   {
    "duration": 6,
    "start_time": "2023-01-12T07:55:34.360Z"
   },
   {
    "duration": 46,
    "start_time": "2023-01-12T07:55:35.100Z"
   },
   {
    "duration": 9,
    "start_time": "2023-01-12T07:55:36.058Z"
   },
   {
    "duration": 8,
    "start_time": "2023-01-12T07:55:36.918Z"
   },
   {
    "duration": 9,
    "start_time": "2023-01-12T07:55:37.855Z"
   },
   {
    "duration": 8,
    "start_time": "2023-01-12T07:55:40.457Z"
   },
   {
    "duration": 7,
    "start_time": "2023-01-12T07:55:41.222Z"
   },
   {
    "duration": 31,
    "start_time": "2023-01-12T07:55:41.984Z"
   },
   {
    "duration": 7,
    "start_time": "2023-01-12T07:55:42.859Z"
   },
   {
    "duration": 25,
    "start_time": "2023-01-12T07:55:44.023Z"
   },
   {
    "duration": 64,
    "start_time": "2023-01-12T07:55:44.431Z"
   },
   {
    "duration": 29,
    "start_time": "2023-01-12T07:55:48.910Z"
   },
   {
    "duration": 31,
    "start_time": "2023-01-12T07:55:50.295Z"
   },
   {
    "duration": 32,
    "start_time": "2023-01-12T07:55:51.134Z"
   },
   {
    "duration": 561,
    "start_time": "2023-01-12T07:57:49.584Z"
   },
   {
    "duration": 221,
    "start_time": "2023-01-12T07:58:26.243Z"
   },
   {
    "duration": 26,
    "start_time": "2023-01-12T08:00:50.001Z"
   },
   {
    "duration": 447,
    "start_time": "2023-01-12T08:03:34.301Z"
   },
   {
    "duration": 226,
    "start_time": "2023-01-12T08:04:57.446Z"
   },
   {
    "duration": 285,
    "start_time": "2023-01-12T08:08:07.823Z"
   },
   {
    "duration": 209,
    "start_time": "2023-01-12T08:08:39.752Z"
   },
   {
    "duration": 252,
    "start_time": "2023-01-12T08:09:06.416Z"
   },
   {
    "duration": 103,
    "start_time": "2023-01-12T08:10:21.985Z"
   },
   {
    "duration": 20,
    "start_time": "2023-01-12T08:11:02.840Z"
   },
   {
    "duration": 163,
    "start_time": "2023-01-12T08:11:55.247Z"
   },
   {
    "duration": 183,
    "start_time": "2023-01-12T08:12:04.194Z"
   },
   {
    "duration": 2163,
    "start_time": "2023-01-12T08:13:16.399Z"
   },
   {
    "duration": 9,
    "start_time": "2023-01-12T08:13:18.564Z"
   },
   {
    "duration": 32,
    "start_time": "2023-01-12T08:13:18.725Z"
   },
   {
    "duration": 15,
    "start_time": "2023-01-12T08:13:19.009Z"
   },
   {
    "duration": 34,
    "start_time": "2023-01-12T08:13:19.301Z"
   },
   {
    "duration": 31,
    "start_time": "2023-01-12T08:13:19.593Z"
   },
   {
    "duration": 9,
    "start_time": "2023-01-12T08:13:19.888Z"
   },
   {
    "duration": 11,
    "start_time": "2023-01-12T08:13:20.212Z"
   },
   {
    "duration": 32,
    "start_time": "2023-01-12T08:13:21.008Z"
   },
   {
    "duration": 6,
    "start_time": "2023-01-12T08:13:22.097Z"
   },
   {
    "duration": 31,
    "start_time": "2023-01-12T08:13:22.965Z"
   },
   {
    "duration": 9,
    "start_time": "2023-01-12T08:13:24.246Z"
   },
   {
    "duration": 8,
    "start_time": "2023-01-12T08:13:25.062Z"
   },
   {
    "duration": 12,
    "start_time": "2023-01-12T08:13:25.970Z"
   },
   {
    "duration": 7,
    "start_time": "2023-01-12T08:13:26.825Z"
   },
   {
    "duration": 6,
    "start_time": "2023-01-12T08:13:27.732Z"
   },
   {
    "duration": 25,
    "start_time": "2023-01-12T08:13:28.576Z"
   },
   {
    "duration": 7,
    "start_time": "2023-01-12T08:13:29.596Z"
   },
   {
    "duration": 15,
    "start_time": "2023-01-12T08:13:32.628Z"
   },
   {
    "duration": 49,
    "start_time": "2023-01-12T08:13:32.950Z"
   },
   {
    "duration": 79,
    "start_time": "2023-01-12T08:13:33.726Z"
   },
   {
    "duration": 36,
    "start_time": "2023-01-12T08:13:39.943Z"
   },
   {
    "duration": 31,
    "start_time": "2023-01-12T08:13:40.191Z"
   },
   {
    "duration": 9,
    "start_time": "2023-01-12T08:13:40.651Z"
   },
   {
    "duration": 254,
    "start_time": "2023-01-12T08:13:41.582Z"
   },
   {
    "duration": 27,
    "start_time": "2023-01-12T08:13:46.585Z"
   },
   {
    "duration": 223,
    "start_time": "2023-01-12T08:13:49.859Z"
   },
   {
    "duration": 133,
    "start_time": "2023-01-12T08:15:32.863Z"
   },
   {
    "duration": 140,
    "start_time": "2023-01-12T08:16:42.235Z"
   },
   {
    "duration": 139,
    "start_time": "2023-01-12T08:17:40.499Z"
   },
   {
    "duration": 135,
    "start_time": "2023-01-12T08:17:52.531Z"
   },
   {
    "duration": 141,
    "start_time": "2023-01-12T08:18:00.680Z"
   },
   {
    "duration": 149,
    "start_time": "2023-01-12T08:18:13.876Z"
   },
   {
    "duration": 140,
    "start_time": "2023-01-12T08:18:16.923Z"
   },
   {
    "duration": 163,
    "start_time": "2023-01-12T08:19:50.882Z"
   },
   {
    "duration": 41,
    "start_time": "2023-01-12T08:20:35.605Z"
   },
   {
    "duration": 36,
    "start_time": "2023-01-12T08:21:14.694Z"
   },
   {
    "duration": 26,
    "start_time": "2023-01-12T08:21:19.615Z"
   },
   {
    "duration": 38,
    "start_time": "2023-01-12T08:21:42.721Z"
   },
   {
    "duration": 37,
    "start_time": "2023-01-12T08:22:08.635Z"
   },
   {
    "duration": 24,
    "start_time": "2023-01-12T08:22:45.652Z"
   },
   {
    "duration": 133,
    "start_time": "2023-01-12T08:24:44.040Z"
   },
   {
    "duration": 121,
    "start_time": "2023-01-12T08:26:39.482Z"
   },
   {
    "duration": 140,
    "start_time": "2023-01-12T08:28:08.019Z"
   },
   {
    "duration": 121,
    "start_time": "2023-01-12T08:29:01.030Z"
   },
   {
    "duration": 23,
    "start_time": "2023-01-12T08:29:39.086Z"
   },
   {
    "duration": 8,
    "start_time": "2023-01-12T08:30:26.742Z"
   },
   {
    "duration": 9,
    "start_time": "2023-01-12T08:30:59.294Z"
   },
   {
    "duration": 25,
    "start_time": "2023-01-12T08:31:22.579Z"
   },
   {
    "duration": 827,
    "start_time": "2023-01-12T08:32:13.063Z"
   },
   {
    "duration": 158,
    "start_time": "2023-01-12T08:32:45.043Z"
   },
   {
    "duration": 197,
    "start_time": "2023-01-12T08:33:05.870Z"
   },
   {
    "duration": 141,
    "start_time": "2023-01-12T08:34:56.329Z"
   },
   {
    "duration": 142,
    "start_time": "2023-01-12T08:35:21.636Z"
   },
   {
    "duration": 182,
    "start_time": "2023-01-12T08:36:08.397Z"
   },
   {
    "duration": 68,
    "start_time": "2023-01-12T08:38:47.312Z"
   },
   {
    "duration": 72,
    "start_time": "2023-01-12T08:38:52.856Z"
   },
   {
    "duration": 73,
    "start_time": "2023-01-12T08:39:04.585Z"
   },
   {
    "duration": 9,
    "start_time": "2023-01-12T08:40:24.017Z"
   },
   {
    "duration": 149,
    "start_time": "2023-01-12T08:41:22.828Z"
   },
   {
    "duration": 147,
    "start_time": "2023-01-12T08:41:31.174Z"
   },
   {
    "duration": 173,
    "start_time": "2023-01-12T08:42:54.665Z"
   },
   {
    "duration": 135,
    "start_time": "2023-01-12T08:43:59.578Z"
   },
   {
    "duration": 2399,
    "start_time": "2023-01-12T09:01:05.076Z"
   },
   {
    "duration": 20,
    "start_time": "2023-01-12T09:01:07.477Z"
   },
   {
    "duration": 38,
    "start_time": "2023-01-12T09:01:07.499Z"
   },
   {
    "duration": 19,
    "start_time": "2023-01-12T09:01:07.540Z"
   },
   {
    "duration": 55,
    "start_time": "2023-01-12T09:01:07.561Z"
   },
   {
    "duration": 30,
    "start_time": "2023-01-12T09:01:07.618Z"
   },
   {
    "duration": 10,
    "start_time": "2023-01-12T09:01:07.865Z"
   },
   {
    "duration": 12,
    "start_time": "2023-01-12T09:01:08.123Z"
   },
   {
    "duration": 34,
    "start_time": "2023-01-12T09:01:08.563Z"
   },
   {
    "duration": 6,
    "start_time": "2023-01-12T09:01:08.857Z"
   },
   {
    "duration": 32,
    "start_time": "2023-01-12T09:01:09.164Z"
   },
   {
    "duration": 7,
    "start_time": "2023-01-12T09:01:09.493Z"
   },
   {
    "duration": 9,
    "start_time": "2023-01-12T09:01:09.780Z"
   },
   {
    "duration": 10,
    "start_time": "2023-01-12T09:01:10.090Z"
   },
   {
    "duration": 8,
    "start_time": "2023-01-12T09:01:10.389Z"
   },
   {
    "duration": 6,
    "start_time": "2023-01-12T09:01:10.686Z"
   },
   {
    "duration": 27,
    "start_time": "2023-01-12T09:01:10.993Z"
   },
   {
    "duration": 7,
    "start_time": "2023-01-12T09:01:11.284Z"
   },
   {
    "duration": 14,
    "start_time": "2023-01-12T09:01:11.632Z"
   },
   {
    "duration": 47,
    "start_time": "2023-01-12T09:01:12.882Z"
   },
   {
    "duration": 34,
    "start_time": "2023-01-12T09:01:21.667Z"
   },
   {
    "duration": 27,
    "start_time": "2023-01-12T09:01:22.081Z"
   },
   {
    "duration": 10,
    "start_time": "2023-01-12T09:01:22.576Z"
   },
   {
    "duration": 261,
    "start_time": "2023-01-12T09:01:22.944Z"
   },
   {
    "duration": 38,
    "start_time": "2023-01-12T09:01:27.046Z"
   },
   {
    "duration": 53,
    "start_time": "2023-01-12T09:01:27.801Z"
   },
   {
    "duration": 183,
    "start_time": "2023-01-12T09:01:27.971Z"
   },
   {
    "duration": 140,
    "start_time": "2023-01-12T09:01:28.156Z"
   },
   {
    "duration": 147,
    "start_time": "2023-01-12T09:01:28.298Z"
   },
   {
    "duration": 139,
    "start_time": "2023-01-12T09:01:28.462Z"
   },
   {
    "duration": 162,
    "start_time": "2023-01-12T09:01:29.094Z"
   },
   {
    "duration": 25,
    "start_time": "2023-01-12T09:01:29.351Z"
   },
   {
    "duration": 129,
    "start_time": "2023-01-12T09:01:29.546Z"
   },
   {
    "duration": 146,
    "start_time": "2023-01-12T09:01:29.846Z"
   },
   {
    "duration": 141,
    "start_time": "2023-01-12T09:01:30.120Z"
   },
   {
    "duration": 168,
    "start_time": "2023-01-12T09:01:30.263Z"
   },
   {
    "duration": 24,
    "start_time": "2023-01-12T09:01:30.433Z"
   },
   {
    "duration": 153,
    "start_time": "2023-01-12T09:01:30.550Z"
   },
   {
    "duration": 158,
    "start_time": "2023-01-12T09:01:30.705Z"
   },
   {
    "duration": 152,
    "start_time": "2023-01-12T09:01:31.110Z"
   },
   {
    "duration": 155,
    "start_time": "2023-01-12T09:01:32.282Z"
   },
   {
    "duration": 14,
    "start_time": "2023-01-12T09:01:36.910Z"
   },
   {
    "duration": 81,
    "start_time": "2023-01-12T09:02:16.094Z"
   },
   {
    "duration": 15,
    "start_time": "2023-01-12T09:02:21.993Z"
   },
   {
    "duration": 160,
    "start_time": "2023-01-12T09:02:52.145Z"
   },
   {
    "duration": 158,
    "start_time": "2023-01-12T09:03:22.942Z"
   },
   {
    "duration": 160,
    "start_time": "2023-01-12T09:04:11.382Z"
   },
   {
    "duration": 54,
    "start_time": "2023-01-12T09:05:42.845Z"
   },
   {
    "duration": 135,
    "start_time": "2023-01-12T09:05:47.400Z"
   },
   {
    "duration": 150,
    "start_time": "2023-01-12T09:06:26.055Z"
   },
   {
    "duration": 397,
    "start_time": "2023-01-12T09:06:50.690Z"
   },
   {
    "duration": 160,
    "start_time": "2023-01-12T09:08:55.859Z"
   },
   {
    "duration": 165,
    "start_time": "2023-01-12T09:09:02.629Z"
   },
   {
    "duration": 14,
    "start_time": "2023-01-12T09:09:54.755Z"
   },
   {
    "duration": 193,
    "start_time": "2023-01-12T09:10:16.105Z"
   },
   {
    "duration": 136,
    "start_time": "2023-01-12T09:16:32.907Z"
   },
   {
    "duration": 327,
    "start_time": "2023-01-12T09:29:16.127Z"
   },
   {
    "duration": 210,
    "start_time": "2023-01-12T09:29:23.148Z"
   },
   {
    "duration": 320,
    "start_time": "2023-01-12T09:30:01.474Z"
   },
   {
    "duration": 347,
    "start_time": "2023-01-12T09:30:07.061Z"
   },
   {
    "duration": 334,
    "start_time": "2023-01-12T09:30:38.889Z"
   },
   {
    "duration": 332,
    "start_time": "2023-01-12T09:32:13.498Z"
   },
   {
    "duration": 147,
    "start_time": "2023-01-12T09:33:27.764Z"
   },
   {
    "duration": 144,
    "start_time": "2023-01-12T09:33:48.633Z"
   },
   {
    "duration": 44,
    "start_time": "2023-01-12T09:35:40.651Z"
   },
   {
    "duration": 185,
    "start_time": "2023-01-12T09:35:47.113Z"
   },
   {
    "duration": 2442,
    "start_time": "2023-01-12T09:36:14.011Z"
   },
   {
    "duration": 14,
    "start_time": "2023-01-12T09:36:16.455Z"
   },
   {
    "duration": 32,
    "start_time": "2023-01-12T09:36:17.042Z"
   },
   {
    "duration": 14,
    "start_time": "2023-01-12T09:36:17.979Z"
   },
   {
    "duration": 32,
    "start_time": "2023-01-12T09:36:19.030Z"
   },
   {
    "duration": 31,
    "start_time": "2023-01-12T09:36:20.031Z"
   },
   {
    "duration": 7,
    "start_time": "2023-01-12T09:36:21.619Z"
   },
   {
    "duration": 11,
    "start_time": "2023-01-12T09:36:22.882Z"
   },
   {
    "duration": 33,
    "start_time": "2023-01-12T09:36:24.958Z"
   },
   {
    "duration": 5,
    "start_time": "2023-01-12T09:36:26.641Z"
   },
   {
    "duration": 31,
    "start_time": "2023-01-12T09:36:28.590Z"
   },
   {
    "duration": 7,
    "start_time": "2023-01-12T09:36:30.871Z"
   },
   {
    "duration": 9,
    "start_time": "2023-01-12T09:36:31.368Z"
   },
   {
    "duration": 9,
    "start_time": "2023-01-12T09:36:32.299Z"
   },
   {
    "duration": 7,
    "start_time": "2023-01-12T09:36:34.920Z"
   },
   {
    "duration": 8,
    "start_time": "2023-01-12T09:36:35.781Z"
   },
   {
    "duration": 31,
    "start_time": "2023-01-12T09:36:36.733Z"
   },
   {
    "duration": 7,
    "start_time": "2023-01-12T09:36:40.093Z"
   },
   {
    "duration": 13,
    "start_time": "2023-01-12T09:36:42.061Z"
   },
   {
    "duration": 48,
    "start_time": "2023-01-12T09:36:44.707Z"
   },
   {
    "duration": 9,
    "start_time": "2023-01-12T09:37:01.043Z"
   },
   {
    "duration": 214,
    "start_time": "2023-01-12T09:38:19.214Z"
   },
   {
    "duration": 221,
    "start_time": "2023-01-12T09:38:48.305Z"
   },
   {
    "duration": 291,
    "start_time": "2023-01-12T09:40:18.798Z"
   },
   {
    "duration": 266,
    "start_time": "2023-01-12T09:41:14.670Z"
   },
   {
    "duration": 263,
    "start_time": "2023-01-12T09:43:07.576Z"
   },
   {
    "duration": 263,
    "start_time": "2023-01-12T09:43:54.512Z"
   },
   {
    "duration": 863,
    "start_time": "2023-01-12T09:47:15.992Z"
   },
   {
    "duration": 16,
    "start_time": "2023-01-12T09:47:28.755Z"
   },
   {
    "duration": 28,
    "start_time": "2023-01-12T09:47:41.333Z"
   },
   {
    "duration": 28,
    "start_time": "2023-01-12T09:47:42.088Z"
   },
   {
    "duration": 10,
    "start_time": "2023-01-12T09:47:42.634Z"
   },
   {
    "duration": 342,
    "start_time": "2023-01-12T09:47:43.084Z"
   },
   {
    "duration": 28,
    "start_time": "2023-01-12T09:47:43.535Z"
   },
   {
    "duration": 159,
    "start_time": "2023-01-12T09:47:47.077Z"
   },
   {
    "duration": 186,
    "start_time": "2023-01-12T09:47:51.844Z"
   },
   {
    "duration": 148,
    "start_time": "2023-01-12T09:47:52.937Z"
   },
   {
    "duration": 135,
    "start_time": "2023-01-12T09:47:54.850Z"
   },
   {
    "duration": 138,
    "start_time": "2023-01-12T09:47:55.447Z"
   },
   {
    "duration": 223,
    "start_time": "2023-01-12T09:47:56.146Z"
   },
   {
    "duration": 37,
    "start_time": "2023-01-12T09:47:57.163Z"
   },
   {
    "duration": 167,
    "start_time": "2023-01-12T09:48:09.046Z"
   },
   {
    "duration": 165,
    "start_time": "2023-01-12T09:49:03.817Z"
   },
   {
    "duration": 53,
    "start_time": "2023-01-12T09:50:52.141Z"
   },
   {
    "duration": 180,
    "start_time": "2023-01-12T09:53:56.100Z"
   },
   {
    "duration": 147,
    "start_time": "2023-01-12T09:53:59.286Z"
   },
   {
    "duration": 148,
    "start_time": "2023-01-12T09:54:22.466Z"
   },
   {
    "duration": 153,
    "start_time": "2023-01-12T09:54:56.798Z"
   },
   {
    "duration": 160,
    "start_time": "2023-01-12T09:55:12.257Z"
   },
   {
    "duration": 159,
    "start_time": "2023-01-12T09:55:18.344Z"
   },
   {
    "duration": 165,
    "start_time": "2023-01-12T09:55:24.834Z"
   },
   {
    "duration": 149,
    "start_time": "2023-01-12T09:55:30.332Z"
   },
   {
    "duration": 160,
    "start_time": "2023-01-12T09:55:56.279Z"
   },
   {
    "duration": 218,
    "start_time": "2023-01-12T10:00:21.099Z"
   },
   {
    "duration": 177,
    "start_time": "2023-01-12T10:00:24.219Z"
   },
   {
    "duration": 195,
    "start_time": "2023-01-12T10:00:25.762Z"
   },
   {
    "duration": 296,
    "start_time": "2023-01-12T10:01:13.561Z"
   },
   {
    "duration": 13,
    "start_time": "2023-01-12T10:17:26.369Z"
   },
   {
    "duration": 11,
    "start_time": "2023-01-12T10:17:26.384Z"
   },
   {
    "duration": 28,
    "start_time": "2023-01-12T10:17:26.397Z"
   },
   {
    "duration": 5,
    "start_time": "2023-01-12T10:17:27.156Z"
   },
   {
    "duration": 25,
    "start_time": "2023-01-12T10:17:27.793Z"
   },
   {
    "duration": 9,
    "start_time": "2023-01-12T10:17:28.121Z"
   },
   {
    "duration": 9,
    "start_time": "2023-01-12T10:17:28.395Z"
   },
   {
    "duration": 7,
    "start_time": "2023-01-12T10:17:28.673Z"
   },
   {
    "duration": 9,
    "start_time": "2023-01-12T10:17:28.946Z"
   },
   {
    "duration": 8,
    "start_time": "2023-01-12T10:17:29.228Z"
   },
   {
    "duration": 29,
    "start_time": "2023-01-12T10:17:29.514Z"
   },
   {
    "duration": 8,
    "start_time": "2023-01-12T10:17:29.797Z"
   },
   {
    "duration": 14,
    "start_time": "2023-01-12T10:17:30.081Z"
   },
   {
    "duration": 65,
    "start_time": "2023-01-12T10:17:30.395Z"
   },
   {
    "duration": 295,
    "start_time": "2023-01-12T10:17:31.510Z"
   },
   {
    "duration": 37,
    "start_time": "2023-01-12T10:17:32.837Z"
   },
   {
    "duration": 36,
    "start_time": "2023-01-12T10:17:33.185Z"
   },
   {
    "duration": 10,
    "start_time": "2023-01-12T10:17:33.540Z"
   },
   {
    "duration": 740,
    "start_time": "2023-01-12T10:17:33.863Z"
   },
   {
    "duration": 26,
    "start_time": "2023-01-12T10:17:34.606Z"
   },
   {
    "duration": 177,
    "start_time": "2023-01-12T10:17:35.361Z"
   },
   {
    "duration": 142,
    "start_time": "2023-01-12T10:17:35.576Z"
   },
   {
    "duration": 157,
    "start_time": "2023-01-12T10:17:35.806Z"
   },
   {
    "duration": 160,
    "start_time": "2023-01-12T10:17:36.176Z"
   },
   {
    "duration": 151,
    "start_time": "2023-01-12T10:17:36.487Z"
   },
   {
    "duration": 25,
    "start_time": "2023-01-12T10:17:36.847Z"
   },
   {
    "duration": 155,
    "start_time": "2023-01-12T10:17:37.282Z"
   },
   {
    "duration": 136,
    "start_time": "2023-01-12T10:17:37.499Z"
   },
   {
    "duration": 156,
    "start_time": "2023-01-12T10:17:37.807Z"
   },
   {
    "duration": 218,
    "start_time": "2023-01-12T10:17:38.172Z"
   },
   {
    "duration": 168,
    "start_time": "2023-01-12T10:17:38.739Z"
   },
   {
    "duration": 25,
    "start_time": "2023-01-12T10:17:39.164Z"
   },
   {
    "duration": 188,
    "start_time": "2023-01-12T10:17:39.589Z"
   },
   {
    "duration": 171,
    "start_time": "2023-01-12T10:17:39.855Z"
   },
   {
    "duration": 215,
    "start_time": "2023-01-12T10:17:40.028Z"
   },
   {
    "duration": 174,
    "start_time": "2023-01-12T10:17:41.138Z"
   },
   {
    "duration": 151,
    "start_time": "2023-01-12T10:17:42.935Z"
   },
   {
    "duration": 154,
    "start_time": "2023-01-12T10:17:43.450Z"
   },
   {
    "duration": 213,
    "start_time": "2023-01-12T10:17:43.864Z"
   },
   {
    "duration": 159,
    "start_time": "2023-01-12T10:17:44.308Z"
   },
   {
    "duration": 140,
    "start_time": "2023-01-12T10:17:44.670Z"
   },
   {
    "duration": 169,
    "start_time": "2023-01-12T10:17:44.966Z"
   },
   {
    "duration": 230,
    "start_time": "2023-01-12T10:17:46.132Z"
   },
   {
    "duration": 288,
    "start_time": "2023-01-12T10:17:46.424Z"
   },
   {
    "duration": 11,
    "start_time": "2023-01-12T10:17:48.679Z"
   },
   {
    "duration": 32,
    "start_time": "2023-01-12T10:17:57.381Z"
   },
   {
    "duration": 26,
    "start_time": "2023-01-12T10:18:06.737Z"
   },
   {
    "duration": 26,
    "start_time": "2023-01-12T10:18:43.299Z"
   },
   {
    "duration": 6,
    "start_time": "2023-01-12T10:19:09.296Z"
   },
   {
    "duration": 16,
    "start_time": "2023-01-12T10:20:54.271Z"
   },
   {
    "duration": 24,
    "start_time": "2023-01-12T10:21:49.955Z"
   },
   {
    "duration": 22,
    "start_time": "2023-01-12T10:22:06.205Z"
   },
   {
    "duration": 12,
    "start_time": "2023-01-12T10:23:57.809Z"
   },
   {
    "duration": 13,
    "start_time": "2023-01-12T10:24:14.121Z"
   },
   {
    "duration": 28,
    "start_time": "2023-01-12T10:25:03.810Z"
   },
   {
    "duration": 17,
    "start_time": "2023-01-12T10:25:14.815Z"
   },
   {
    "duration": 48,
    "start_time": "2023-01-12T10:30:45.376Z"
   },
   {
    "duration": 10,
    "start_time": "2023-01-12T10:30:49.532Z"
   },
   {
    "duration": 11,
    "start_time": "2023-01-12T10:31:09.840Z"
   },
   {
    "duration": 10,
    "start_time": "2023-01-12T10:31:42.698Z"
   },
   {
    "duration": 19,
    "start_time": "2023-01-12T10:31:54.150Z"
   },
   {
    "duration": 49,
    "start_time": "2023-01-12T10:36:05.967Z"
   },
   {
    "duration": 18,
    "start_time": "2023-01-12T10:36:13.346Z"
   },
   {
    "duration": 16,
    "start_time": "2023-01-12T10:37:23.961Z"
   },
   {
    "duration": 18,
    "start_time": "2023-01-12T10:37:36.538Z"
   },
   {
    "duration": 17,
    "start_time": "2023-01-12T10:47:50.115Z"
   },
   {
    "duration": 25,
    "start_time": "2023-01-12T10:50:11.953Z"
   },
   {
    "duration": 51,
    "start_time": "2023-01-12T10:54:28.692Z"
   },
   {
    "duration": 53,
    "start_time": "2023-01-12T10:55:11.061Z"
   },
   {
    "duration": 46,
    "start_time": "2023-01-12T10:55:17.281Z"
   },
   {
    "duration": 49,
    "start_time": "2023-01-12T10:55:24.951Z"
   },
   {
    "duration": 59,
    "start_time": "2023-01-12T10:55:35.998Z"
   },
   {
    "duration": 79,
    "start_time": "2023-01-12T10:56:25.696Z"
   },
   {
    "duration": 61,
    "start_time": "2023-01-12T10:56:50.166Z"
   },
   {
    "duration": 22,
    "start_time": "2023-01-12T10:57:16.323Z"
   },
   {
    "duration": 21,
    "start_time": "2023-01-12T10:57:27.124Z"
   },
   {
    "duration": 27,
    "start_time": "2023-01-12T10:59:20.740Z"
   },
   {
    "duration": 26,
    "start_time": "2023-01-12T11:00:09.610Z"
   },
   {
    "duration": 30,
    "start_time": "2023-01-12T11:00:17.362Z"
   },
   {
    "duration": 27,
    "start_time": "2023-01-12T11:00:40.076Z"
   },
   {
    "duration": 33,
    "start_time": "2023-01-12T11:00:51.769Z"
   },
   {
    "duration": 20,
    "start_time": "2023-01-12T11:01:06.045Z"
   },
   {
    "duration": 20,
    "start_time": "2023-01-12T11:01:15.387Z"
   },
   {
    "duration": 24,
    "start_time": "2023-01-12T11:01:51.578Z"
   },
   {
    "duration": 21,
    "start_time": "2023-01-12T11:03:26.004Z"
   },
   {
    "duration": 48,
    "start_time": "2023-01-12T11:04:37.034Z"
   },
   {
    "duration": 49,
    "start_time": "2023-01-12T11:04:47.226Z"
   },
   {
    "duration": 38,
    "start_time": "2023-01-12T11:05:16.061Z"
   },
   {
    "duration": 30,
    "start_time": "2023-01-12T11:06:56.598Z"
   },
   {
    "duration": 88,
    "start_time": "2023-01-12T11:07:06.635Z"
   },
   {
    "duration": 52,
    "start_time": "2023-01-12T11:07:10.232Z"
   },
   {
    "duration": 51,
    "start_time": "2023-01-12T11:07:12.867Z"
   },
   {
    "duration": 137,
    "start_time": "2023-01-12T11:07:16.075Z"
   },
   {
    "duration": 53,
    "start_time": "2023-01-12T11:07:18.776Z"
   },
   {
    "duration": 45,
    "start_time": "2023-01-12T11:08:22.828Z"
   },
   {
    "duration": 25,
    "start_time": "2023-01-12T11:08:31.113Z"
   },
   {
    "duration": 23,
    "start_time": "2023-01-12T11:08:59.611Z"
   },
   {
    "duration": 9,
    "start_time": "2023-01-12T11:11:42.262Z"
   },
   {
    "duration": 8,
    "start_time": "2023-01-12T11:13:08.360Z"
   },
   {
    "duration": 7,
    "start_time": "2023-01-12T11:13:14.057Z"
   },
   {
    "duration": 8,
    "start_time": "2023-01-12T11:13:25.531Z"
   },
   {
    "duration": 40,
    "start_time": "2023-01-12T11:13:38.315Z"
   },
   {
    "duration": 20,
    "start_time": "2023-01-12T11:13:40.992Z"
   },
   {
    "duration": 20,
    "start_time": "2023-01-12T11:14:28.769Z"
   },
   {
    "duration": 211,
    "start_time": "2023-01-12T11:14:36.373Z"
   },
   {
    "duration": 282,
    "start_time": "2023-01-12T11:15:15.646Z"
   },
   {
    "duration": 697,
    "start_time": "2023-01-12T11:18:57.695Z"
   },
   {
    "duration": 279,
    "start_time": "2023-01-12T11:20:27.306Z"
   },
   {
    "duration": 30,
    "start_time": "2023-01-12T11:21:06.854Z"
   },
   {
    "duration": 288,
    "start_time": "2023-01-12T11:21:24.278Z"
   },
   {
    "duration": 304,
    "start_time": "2023-01-12T11:22:22.094Z"
   },
   {
    "duration": 287,
    "start_time": "2023-01-12T11:23:23.619Z"
   },
   {
    "duration": 350,
    "start_time": "2023-01-12T11:23:35.988Z"
   },
   {
    "duration": 286,
    "start_time": "2023-01-12T11:23:41.544Z"
   },
   {
    "duration": 280,
    "start_time": "2023-01-12T11:24:09.078Z"
   },
   {
    "duration": 295,
    "start_time": "2023-01-12T11:24:19.335Z"
   },
   {
    "duration": 658,
    "start_time": "2023-01-12T11:24:57.746Z"
   },
   {
    "duration": 301,
    "start_time": "2023-01-12T11:25:11.059Z"
   },
   {
    "duration": 313,
    "start_time": "2023-01-12T11:25:22.770Z"
   },
   {
    "duration": 315,
    "start_time": "2023-01-12T11:25:46.638Z"
   },
   {
    "duration": 313,
    "start_time": "2023-01-12T11:26:04.850Z"
   },
   {
    "duration": 313,
    "start_time": "2023-01-12T11:26:39.789Z"
   },
   {
    "duration": 344,
    "start_time": "2023-01-12T11:26:45.943Z"
   },
   {
    "duration": 28,
    "start_time": "2023-01-12T11:27:03.438Z"
   },
   {
    "duration": 160,
    "start_time": "2023-01-12T11:27:24.783Z"
   },
   {
    "duration": 326,
    "start_time": "2023-01-12T11:27:35.895Z"
   },
   {
    "duration": 264,
    "start_time": "2023-01-12T11:38:43.490Z"
   },
   {
    "duration": 2290,
    "start_time": "2023-01-12T11:39:05.906Z"
   },
   {
    "duration": 97,
    "start_time": "2023-01-12T11:39:53.342Z"
   },
   {
    "duration": 16,
    "start_time": "2023-01-12T11:40:00.478Z"
   },
   {
    "duration": 2420,
    "start_time": "2023-01-12T11:40:05.163Z"
   },
   {
    "duration": 105,
    "start_time": "2023-01-12T11:40:09.100Z"
   },
   {
    "duration": 15,
    "start_time": "2023-01-12T11:40:09.864Z"
   },
   {
    "duration": 9,
    "start_time": "2023-01-12T11:40:28.287Z"
   },
   {
    "duration": 39,
    "start_time": "2023-01-12T11:42:47.855Z"
   },
   {
    "duration": 16,
    "start_time": "2023-01-12T11:43:21.572Z"
   },
   {
    "duration": 15,
    "start_time": "2023-01-12T11:43:47.628Z"
   },
   {
    "duration": 100,
    "start_time": "2023-01-12T11:43:53.994Z"
   },
   {
    "duration": 15,
    "start_time": "2023-01-12T11:43:55.814Z"
   },
   {
    "duration": 1841,
    "start_time": "2023-01-12T11:43:56.484Z"
   },
   {
    "duration": 9,
    "start_time": "2023-01-12T11:43:58.327Z"
   },
   {
    "duration": 20,
    "start_time": "2023-01-12T11:44:01.309Z"
   },
   {
    "duration": 35,
    "start_time": "2023-01-12T11:44:11.908Z"
   },
   {
    "duration": 15,
    "start_time": "2023-01-12T11:44:15.162Z"
   },
   {
    "duration": 35,
    "start_time": "2023-01-12T11:46:03.126Z"
   },
   {
    "duration": 30,
    "start_time": "2023-01-12T11:46:27.091Z"
   },
   {
    "duration": 10,
    "start_time": "2023-01-12T11:46:34.032Z"
   },
   {
    "duration": 12,
    "start_time": "2023-01-12T11:46:39.167Z"
   },
   {
    "duration": 52,
    "start_time": "2023-01-12T11:47:15.770Z"
   },
   {
    "duration": 8,
    "start_time": "2023-01-12T11:50:39.002Z"
   },
   {
    "duration": 255,
    "start_time": "2023-01-12T11:50:48.364Z"
   },
   {
    "duration": 129,
    "start_time": "2023-01-12T11:51:20.900Z"
   },
   {
    "duration": 110,
    "start_time": "2023-01-12T11:53:10.035Z"
   },
   {
    "duration": 113,
    "start_time": "2023-01-12T11:53:19.776Z"
   },
   {
    "duration": 156,
    "start_time": "2023-01-12T11:54:41.081Z"
   },
   {
    "duration": 36,
    "start_time": "2023-01-12T11:54:50.861Z"
   },
   {
    "duration": 6,
    "start_time": "2023-01-12T11:54:51.999Z"
   },
   {
    "duration": 40,
    "start_time": "2023-01-12T11:54:52.896Z"
   },
   {
    "duration": 8,
    "start_time": "2023-01-12T11:54:55.923Z"
   },
   {
    "duration": 8,
    "start_time": "2023-01-12T11:54:56.797Z"
   },
   {
    "duration": 8,
    "start_time": "2023-01-12T11:54:57.499Z"
   },
   {
    "duration": 8,
    "start_time": "2023-01-12T11:54:58.204Z"
   },
   {
    "duration": 7,
    "start_time": "2023-01-12T11:54:59.091Z"
   },
   {
    "duration": 32,
    "start_time": "2023-01-12T11:54:59.889Z"
   },
   {
    "duration": 7,
    "start_time": "2023-01-12T11:55:02.384Z"
   },
   {
    "duration": 149,
    "start_time": "2023-01-12T11:55:10.888Z"
   },
   {
    "duration": 139,
    "start_time": "2023-01-12T11:55:14.671Z"
   },
   {
    "duration": 132,
    "start_time": "2023-01-12T11:55:22.843Z"
   },
   {
    "duration": 143,
    "start_time": "2023-01-12T11:55:29.716Z"
   },
   {
    "duration": 138,
    "start_time": "2023-01-12T11:56:04.132Z"
   },
   {
    "duration": 26,
    "start_time": "2023-01-12T11:56:11.253Z"
   },
   {
    "duration": 135,
    "start_time": "2023-01-12T11:56:19.654Z"
   },
   {
    "duration": 713,
    "start_time": "2023-01-12T11:56:28.156Z"
   },
   {
    "duration": 125,
    "start_time": "2023-01-12T11:56:33.602Z"
   },
   {
    "duration": 147,
    "start_time": "2023-01-12T11:56:38.481Z"
   },
   {
    "duration": 130,
    "start_time": "2023-01-12T11:56:42.505Z"
   },
   {
    "duration": 157,
    "start_time": "2023-01-12T11:56:51.778Z"
   },
   {
    "duration": 732,
    "start_time": "2023-01-12T11:56:58.280Z"
   },
   {
    "duration": 769,
    "start_time": "2023-01-12T11:57:01.256Z"
   },
   {
    "duration": 28,
    "start_time": "2023-01-12T11:57:20.365Z"
   },
   {
    "duration": 30,
    "start_time": "2023-01-12T11:57:20.759Z"
   },
   {
    "duration": 9,
    "start_time": "2023-01-12T11:57:21.146Z"
   },
   {
    "duration": 335,
    "start_time": "2023-01-12T11:57:21.398Z"
   },
   {
    "duration": 27,
    "start_time": "2023-01-12T11:57:21.735Z"
   },
   {
    "duration": 143,
    "start_time": "2023-01-12T11:57:22.568Z"
   },
   {
    "duration": 124,
    "start_time": "2023-01-12T11:57:22.824Z"
   },
   {
    "duration": 145,
    "start_time": "2023-01-12T11:57:23.042Z"
   },
   {
    "duration": 146,
    "start_time": "2023-01-12T11:57:23.310Z"
   },
   {
    "duration": 161,
    "start_time": "2023-01-12T11:57:23.763Z"
   },
   {
    "duration": 28,
    "start_time": "2023-01-12T11:57:23.960Z"
   },
   {
    "duration": 138,
    "start_time": "2023-01-12T11:57:24.135Z"
   },
   {
    "duration": 164,
    "start_time": "2023-01-12T11:57:24.299Z"
   },
   {
    "duration": 151,
    "start_time": "2023-01-12T11:57:24.466Z"
   },
   {
    "duration": 141,
    "start_time": "2023-01-12T11:57:24.619Z"
   },
   {
    "duration": 142,
    "start_time": "2023-01-12T11:57:24.762Z"
   },
   {
    "duration": 24,
    "start_time": "2023-01-12T11:57:24.907Z"
   },
   {
    "duration": 169,
    "start_time": "2023-01-12T11:57:25.021Z"
   },
   {
    "duration": 142,
    "start_time": "2023-01-12T11:57:27.618Z"
   },
   {
    "duration": 147,
    "start_time": "2023-01-12T11:57:28.937Z"
   },
   {
    "duration": 202,
    "start_time": "2023-01-12T11:58:05.849Z"
   },
   {
    "duration": 671,
    "start_time": "2023-01-12T11:59:10.677Z"
   },
   {
    "duration": 156,
    "start_time": "2023-01-12T12:01:04.285Z"
   },
   {
    "duration": 160,
    "start_time": "2023-01-12T12:04:42.037Z"
   },
   {
    "duration": 153,
    "start_time": "2023-01-12T12:05:32.844Z"
   },
   {
    "duration": 142,
    "start_time": "2023-01-12T12:12:10.868Z"
   },
   {
    "duration": 156,
    "start_time": "2023-01-12T12:13:20.260Z"
   },
   {
    "duration": 142,
    "start_time": "2023-01-12T12:13:30.324Z"
   },
   {
    "duration": 133,
    "start_time": "2023-01-12T12:13:45.988Z"
   },
   {
    "duration": 145,
    "start_time": "2023-01-12T12:16:05.195Z"
   },
   {
    "duration": 1572,
    "start_time": "2023-01-12T14:31:34.189Z"
   },
   {
    "duration": 16,
    "start_time": "2023-01-12T14:31:39.179Z"
   },
   {
    "duration": 2021,
    "start_time": "2023-01-12T14:31:40.084Z"
   },
   {
    "duration": 10,
    "start_time": "2023-01-12T14:31:42.404Z"
   },
   {
    "duration": 34,
    "start_time": "2023-01-12T14:31:43.581Z"
   },
   {
    "duration": 15,
    "start_time": "2023-01-12T14:31:45.977Z"
   },
   {
    "duration": 32,
    "start_time": "2023-01-12T14:31:47.111Z"
   },
   {
    "duration": 26,
    "start_time": "2023-01-12T14:31:48.113Z"
   },
   {
    "duration": 10,
    "start_time": "2023-01-12T14:32:02.521Z"
   },
   {
    "duration": 15,
    "start_time": "2023-01-12T14:32:03.523Z"
   },
   {
    "duration": 16,
    "start_time": "2023-01-12T14:32:08.936Z"
   },
   {
    "duration": 50,
    "start_time": "2023-01-12T14:32:09.670Z"
   },
   {
    "duration": 8,
    "start_time": "2023-01-12T14:32:12.402Z"
   },
   {
    "duration": 268,
    "start_time": "2023-01-12T14:32:16.578Z"
   },
   {
    "duration": 66,
    "start_time": "2023-01-12T14:32:40.881Z"
   },
   {
    "duration": 117,
    "start_time": "2023-01-12T14:45:15.034Z"
   },
   {
    "duration": 13,
    "start_time": "2023-01-12T14:45:15.716Z"
   },
   {
    "duration": 1857,
    "start_time": "2023-01-12T14:45:16.357Z"
   },
   {
    "duration": 11,
    "start_time": "2023-01-12T14:45:18.216Z"
   },
   {
    "duration": 48,
    "start_time": "2023-01-12T14:45:18.229Z"
   },
   {
    "duration": 15,
    "start_time": "2023-01-12T14:45:19.028Z"
   },
   {
    "duration": 31,
    "start_time": "2023-01-12T14:45:20.049Z"
   },
   {
    "duration": 30,
    "start_time": "2023-01-12T14:45:21.107Z"
   },
   {
    "duration": 8,
    "start_time": "2023-01-12T14:45:22.416Z"
   },
   {
    "duration": 13,
    "start_time": "2023-01-12T14:45:23.457Z"
   },
   {
    "duration": 18,
    "start_time": "2023-01-12T14:45:27.212Z"
   },
   {
    "duration": 48,
    "start_time": "2023-01-12T14:45:28.037Z"
   },
   {
    "duration": 7,
    "start_time": "2023-01-12T14:45:29.797Z"
   },
   {
    "duration": 283,
    "start_time": "2023-01-12T14:45:30.572Z"
   },
   {
    "duration": 8,
    "start_time": "2023-01-12T14:51:53.130Z"
   },
   {
    "duration": 10,
    "start_time": "2023-01-12T14:52:31.519Z"
   },
   {
    "duration": 10,
    "start_time": "2023-01-12T14:53:58.821Z"
   },
   {
    "duration": 8,
    "start_time": "2023-01-12T14:54:49.085Z"
   },
   {
    "duration": 70,
    "start_time": "2023-01-12T14:55:51.179Z"
   },
   {
    "duration": 93,
    "start_time": "2023-01-12T14:57:55.785Z"
   },
   {
    "duration": 6,
    "start_time": "2023-01-12T15:01:35.455Z"
   },
   {
    "duration": 7,
    "start_time": "2023-01-12T15:01:37.906Z"
   },
   {
    "duration": 13,
    "start_time": "2023-01-12T15:01:48.053Z"
   },
   {
    "duration": 26,
    "start_time": "2023-01-12T15:02:38.592Z"
   },
   {
    "duration": 38,
    "start_time": "2023-01-12T15:02:51.242Z"
   },
   {
    "duration": 21,
    "start_time": "2023-01-12T15:03:04.937Z"
   },
   {
    "duration": 5,
    "start_time": "2023-01-12T15:03:11.751Z"
   },
   {
    "duration": 26,
    "start_time": "2023-01-12T15:03:18.148Z"
   },
   {
    "duration": 6,
    "start_time": "2023-01-12T15:03:25.860Z"
   },
   {
    "duration": 25,
    "start_time": "2023-01-12T15:05:36.812Z"
   },
   {
    "duration": 18,
    "start_time": "2023-01-12T15:06:34.761Z"
   },
   {
    "duration": 29,
    "start_time": "2023-01-12T15:07:06.879Z"
   },
   {
    "duration": 26,
    "start_time": "2023-01-12T15:07:15.862Z"
   },
   {
    "duration": 17,
    "start_time": "2023-01-12T15:07:31.088Z"
   },
   {
    "duration": 24,
    "start_time": "2023-01-12T15:07:41.799Z"
   },
   {
    "duration": 21,
    "start_time": "2023-01-12T15:07:50.010Z"
   },
   {
    "duration": 11,
    "start_time": "2023-01-12T15:07:56.034Z"
   },
   {
    "duration": 4,
    "start_time": "2023-01-12T15:09:30.858Z"
   },
   {
    "duration": 17,
    "start_time": "2023-01-12T15:09:33.886Z"
   },
   {
    "duration": 7,
    "start_time": "2023-01-12T15:09:58.130Z"
   },
   {
    "duration": 24,
    "start_time": "2023-01-12T15:10:52.901Z"
   },
   {
    "duration": 7,
    "start_time": "2023-01-12T15:15:21.533Z"
   },
   {
    "duration": 15,
    "start_time": "2023-01-12T15:15:30.896Z"
   },
   {
    "duration": 6,
    "start_time": "2023-01-12T15:15:46.278Z"
   },
   {
    "duration": 8,
    "start_time": "2023-01-12T15:16:01.445Z"
   },
   {
    "duration": 9,
    "start_time": "2023-01-12T15:16:47.033Z"
   },
   {
    "duration": 35,
    "start_time": "2023-01-12T15:17:22.490Z"
   },
   {
    "duration": 34,
    "start_time": "2023-01-12T15:18:30.173Z"
   },
   {
    "duration": 43,
    "start_time": "2023-01-12T15:20:15.496Z"
   },
   {
    "duration": 6,
    "start_time": "2023-01-12T15:20:25.283Z"
   },
   {
    "duration": 16,
    "start_time": "2023-01-12T15:20:30.326Z"
   },
   {
    "duration": 6,
    "start_time": "2023-01-12T15:20:36.022Z"
   },
   {
    "duration": 9,
    "start_time": "2023-01-12T15:20:56.507Z"
   },
   {
    "duration": 8,
    "start_time": "2023-01-12T15:21:19.827Z"
   },
   {
    "duration": 46,
    "start_time": "2023-01-12T15:21:53.796Z"
   },
   {
    "duration": 42,
    "start_time": "2023-01-12T15:22:32.854Z"
   },
   {
    "duration": 26,
    "start_time": "2023-01-12T15:22:42.549Z"
   },
   {
    "duration": 41,
    "start_time": "2023-01-12T15:23:09.701Z"
   },
   {
    "duration": 27,
    "start_time": "2023-01-12T15:23:18.005Z"
   },
   {
    "duration": 22,
    "start_time": "2023-01-12T15:24:10.648Z"
   },
   {
    "duration": 7,
    "start_time": "2023-01-12T15:24:34.416Z"
   },
   {
    "duration": 17,
    "start_time": "2023-01-12T15:24:44.371Z"
   },
   {
    "duration": 7,
    "start_time": "2023-01-12T15:24:53.393Z"
   },
   {
    "duration": 16,
    "start_time": "2023-01-12T15:25:41.058Z"
   },
   {
    "duration": 15,
    "start_time": "2023-01-12T15:25:46.342Z"
   },
   {
    "duration": 20,
    "start_time": "2023-01-12T15:25:53.538Z"
   },
   {
    "duration": 17,
    "start_time": "2023-01-12T15:25:56.791Z"
   },
   {
    "duration": 17,
    "start_time": "2023-01-12T15:26:02.806Z"
   },
   {
    "duration": 62,
    "start_time": "2023-01-12T15:27:16.258Z"
   },
   {
    "duration": 13,
    "start_time": "2023-01-12T15:28:59.804Z"
   },
   {
    "duration": 26,
    "start_time": "2023-01-12T15:30:48.056Z"
   },
   {
    "duration": 26,
    "start_time": "2023-01-12T15:30:50.593Z"
   },
   {
    "duration": 9,
    "start_time": "2023-01-12T15:30:53.298Z"
   },
   {
    "duration": 373,
    "start_time": "2023-01-12T15:30:55.022Z"
   },
   {
    "duration": 26,
    "start_time": "2023-01-12T15:30:56.731Z"
   },
   {
    "duration": 120,
    "start_time": "2023-01-12T15:31:22.104Z"
   },
   {
    "duration": 120,
    "start_time": "2023-01-12T15:32:05.820Z"
   },
   {
    "duration": 121,
    "start_time": "2023-01-12T15:32:09.510Z"
   },
   {
    "duration": 179,
    "start_time": "2023-01-12T15:32:14.230Z"
   },
   {
    "duration": 130,
    "start_time": "2023-01-12T15:32:52.845Z"
   },
   {
    "duration": 1118,
    "start_time": "2023-01-12T18:00:00.894Z"
   },
   {
    "duration": 14,
    "start_time": "2023-01-12T18:00:02.014Z"
   },
   {
    "duration": 1908,
    "start_time": "2023-01-12T18:00:02.029Z"
   },
   {
    "duration": 9,
    "start_time": "2023-01-12T18:00:03.939Z"
   },
   {
    "duration": 31,
    "start_time": "2023-01-12T18:00:03.950Z"
   },
   {
    "duration": 17,
    "start_time": "2023-01-12T18:00:03.982Z"
   },
   {
    "duration": 36,
    "start_time": "2023-01-12T18:00:04.000Z"
   },
   {
    "duration": 25,
    "start_time": "2023-01-12T18:00:04.059Z"
   },
   {
    "duration": 9,
    "start_time": "2023-01-12T18:00:04.337Z"
   },
   {
    "duration": 12,
    "start_time": "2023-01-12T18:00:04.604Z"
   },
   {
    "duration": 18,
    "start_time": "2023-01-12T18:00:05.059Z"
   },
   {
    "duration": 50,
    "start_time": "2023-01-12T18:00:05.347Z"
   },
   {
    "duration": 7,
    "start_time": "2023-01-12T18:00:05.775Z"
   },
   {
    "duration": 259,
    "start_time": "2023-01-12T18:00:06.059Z"
   },
   {
    "duration": 68,
    "start_time": "2023-01-12T18:00:06.760Z"
   },
   {
    "duration": 8,
    "start_time": "2023-01-12T18:00:07.048Z"
   },
   {
    "duration": 9,
    "start_time": "2023-01-12T18:00:08.202Z"
   },
   {
    "duration": 101,
    "start_time": "2023-01-12T18:00:08.507Z"
   },
   {
    "duration": 8,
    "start_time": "2023-01-12T18:00:08.781Z"
   },
   {
    "duration": 9,
    "start_time": "2023-01-12T18:00:09.098Z"
   },
   {
    "duration": 25,
    "start_time": "2023-01-12T18:00:09.396Z"
   },
   {
    "duration": 7,
    "start_time": "2023-01-12T18:00:09.826Z"
   },
   {
    "duration": 41,
    "start_time": "2023-01-12T18:00:10.134Z"
   },
   {
    "duration": 8,
    "start_time": "2023-01-12T18:00:10.458Z"
   },
   {
    "duration": 24,
    "start_time": "2023-01-12T18:00:10.749Z"
   },
   {
    "duration": 6,
    "start_time": "2023-01-12T18:00:10.904Z"
   },
   {
    "duration": 24,
    "start_time": "2023-01-12T18:00:11.604Z"
   },
   {
    "duration": 6,
    "start_time": "2023-01-12T18:00:14.728Z"
   },
   {
    "duration": 9,
    "start_time": "2023-01-12T18:00:15.937Z"
   },
   {
    "duration": 36,
    "start_time": "2023-01-12T18:00:17.605Z"
   },
   {
    "duration": 6,
    "start_time": "2023-01-12T18:00:18.532Z"
   },
   {
    "duration": 9,
    "start_time": "2023-01-12T18:00:21.705Z"
   },
   {
    "duration": 25,
    "start_time": "2023-01-12T18:00:24.419Z"
   },
   {
    "duration": 8,
    "start_time": "2023-01-12T18:00:24.598Z"
   },
   {
    "duration": 21,
    "start_time": "2023-01-12T18:00:24.899Z"
   },
   {
    "duration": 65,
    "start_time": "2023-01-12T18:00:25.176Z"
   },
   {
    "duration": 12,
    "start_time": "2023-01-12T18:00:25.455Z"
   },
   {
    "duration": 27,
    "start_time": "2023-01-12T18:00:26.009Z"
   },
   {
    "duration": 40,
    "start_time": "2023-01-12T18:00:28.257Z"
   },
   {
    "duration": 8,
    "start_time": "2023-01-12T18:00:30.172Z"
   },
   {
    "duration": 341,
    "start_time": "2023-01-12T18:00:31.236Z"
   },
   {
    "duration": 35,
    "start_time": "2023-01-12T18:00:32.409Z"
   },
   {
    "duration": 121,
    "start_time": "2023-01-12T18:00:37.494Z"
   },
   {
    "duration": 122,
    "start_time": "2023-01-12T18:00:38.136Z"
   },
   {
    "duration": 224,
    "start_time": "2023-01-12T18:00:38.414Z"
   },
   {
    "duration": 143,
    "start_time": "2023-01-12T18:00:38.640Z"
   },
   {
    "duration": 163,
    "start_time": "2023-01-12T18:00:38.785Z"
   },
   {
    "duration": 129,
    "start_time": "2023-01-12T18:00:40.587Z"
   },
   {
    "duration": 124,
    "start_time": "2023-01-12T18:00:42.285Z"
   },
   {
    "duration": 133,
    "start_time": "2023-01-12T18:00:42.838Z"
   },
   {
    "duration": 127,
    "start_time": "2023-01-12T18:00:43.344Z"
   },
   {
    "duration": 119,
    "start_time": "2023-01-12T18:00:43.856Z"
   },
   {
    "duration": 134,
    "start_time": "2023-01-12T18:00:52.801Z"
   },
   {
    "duration": 130,
    "start_time": "2023-01-12T18:00:55.350Z"
   },
   {
    "duration": 139,
    "start_time": "2023-01-12T18:05:08.469Z"
   },
   {
    "duration": 182,
    "start_time": "2023-01-12T18:06:35.838Z"
   },
   {
    "duration": 123,
    "start_time": "2023-01-12T18:06:41.303Z"
   },
   {
    "duration": 125,
    "start_time": "2023-01-12T18:06:43.458Z"
   },
   {
    "duration": 127,
    "start_time": "2023-01-12T18:06:44.933Z"
   },
   {
    "duration": 131,
    "start_time": "2023-01-12T18:06:45.487Z"
   },
   {
    "duration": 118,
    "start_time": "2023-01-12T18:06:45.937Z"
   },
   {
    "duration": 108,
    "start_time": "2023-01-12T18:07:09.973Z"
   },
   {
    "duration": 128,
    "start_time": "2023-01-12T19:49:07.820Z"
   },
   {
    "duration": 146,
    "start_time": "2023-01-12T19:49:08.250Z"
   },
   {
    "duration": 114,
    "start_time": "2023-01-12T19:49:10.232Z"
   },
   {
    "duration": 105,
    "start_time": "2023-01-12T19:49:10.818Z"
   },
   {
    "duration": 179,
    "start_time": "2023-01-12T19:49:11.093Z"
   },
   {
    "duration": 122,
    "start_time": "2023-01-12T19:49:11.381Z"
   },
   {
    "duration": 106,
    "start_time": "2023-01-12T19:49:11.666Z"
   },
   {
    "duration": 210,
    "start_time": "2023-01-12T19:49:11.804Z"
   },
   {
    "duration": 129,
    "start_time": "2023-01-12T19:49:12.698Z"
   },
   {
    "duration": 134,
    "start_time": "2023-01-12T19:49:13.158Z"
   },
   {
    "duration": 127,
    "start_time": "2023-01-12T19:49:16.798Z"
   },
   {
    "duration": 143,
    "start_time": "2023-01-12T19:49:22.655Z"
   },
   {
    "duration": 84,
    "start_time": "2023-01-12T19:52:07.532Z"
   },
   {
    "duration": 9,
    "start_time": "2023-01-12T19:52:10.795Z"
   },
   {
    "duration": 148,
    "start_time": "2023-01-12T19:52:30.528Z"
   },
   {
    "duration": 157,
    "start_time": "2023-01-12T19:52:35.507Z"
   },
   {
    "duration": 159,
    "start_time": "2023-01-12T19:52:41.717Z"
   },
   {
    "duration": 198,
    "start_time": "2023-01-12T19:54:07.548Z"
   },
   {
    "duration": 255,
    "start_time": "2023-01-12T20:00:24.087Z"
   },
   {
    "duration": 329,
    "start_time": "2023-01-12T20:11:26.986Z"
   },
   {
    "duration": 310,
    "start_time": "2023-01-12T20:11:39.322Z"
   },
   {
    "duration": 282,
    "start_time": "2023-01-12T20:12:24.157Z"
   },
   {
    "duration": 288,
    "start_time": "2023-01-12T20:12:45.951Z"
   },
   {
    "duration": 378,
    "start_time": "2023-01-12T20:12:48.881Z"
   },
   {
    "duration": 143,
    "start_time": "2023-01-12T20:15:06.764Z"
   },
   {
    "duration": 282,
    "start_time": "2023-01-12T20:15:12.023Z"
   },
   {
    "duration": 35,
    "start_time": "2023-01-12T20:44:52.985Z"
   },
   {
    "duration": 22,
    "start_time": "2023-01-12T20:45:05.870Z"
   },
   {
    "duration": 49,
    "start_time": "2023-01-12T20:45:33.319Z"
   },
   {
    "duration": 9,
    "start_time": "2023-01-12T20:45:50.605Z"
   },
   {
    "duration": 25,
    "start_time": "2023-01-12T20:48:18.271Z"
   },
   {
    "duration": 48,
    "start_time": "2023-01-12T20:56:00.075Z"
   },
   {
    "duration": 208,
    "start_time": "2023-01-12T20:56:19.390Z"
   },
   {
    "duration": 126,
    "start_time": "2023-01-12T20:56:31.992Z"
   },
   {
    "duration": 138,
    "start_time": "2023-01-12T20:58:27.474Z"
   },
   {
    "duration": 1226,
    "start_time": "2023-01-12T21:31:43.461Z"
   },
   {
    "duration": 31,
    "start_time": "2023-01-12T21:31:44.960Z"
   },
   {
    "duration": 2809,
    "start_time": "2023-01-12T21:31:47.516Z"
   },
   {
    "duration": 23,
    "start_time": "2023-01-12T21:31:50.328Z"
   },
   {
    "duration": 48,
    "start_time": "2023-01-12T21:31:50.968Z"
   },
   {
    "duration": 25,
    "start_time": "2023-01-12T21:31:53.058Z"
   },
   {
    "duration": 74,
    "start_time": "2023-01-12T21:31:55.004Z"
   },
   {
    "duration": 46,
    "start_time": "2023-01-12T21:31:57.060Z"
   },
   {
    "duration": 22,
    "start_time": "2023-01-12T21:32:00.055Z"
   },
   {
    "duration": 16,
    "start_time": "2023-01-12T21:32:01.589Z"
   },
   {
    "duration": 16,
    "start_time": "2023-01-12T21:32:04.880Z"
   },
   {
    "duration": 90,
    "start_time": "2023-01-12T21:32:06.457Z"
   },
   {
    "duration": 7,
    "start_time": "2023-01-12T21:32:13.414Z"
   },
   {
    "duration": 412,
    "start_time": "2023-01-12T21:32:16.298Z"
   },
   {
    "duration": 104,
    "start_time": "2023-01-12T21:32:19.685Z"
   },
   {
    "duration": 9,
    "start_time": "2023-01-12T21:32:21.291Z"
   },
   {
    "duration": 10,
    "start_time": "2023-01-12T21:32:22.089Z"
   },
   {
    "duration": 98,
    "start_time": "2023-01-12T21:32:22.424Z"
   },
   {
    "duration": 8,
    "start_time": "2023-01-12T21:32:22.812Z"
   },
   {
    "duration": 8,
    "start_time": "2023-01-12T21:32:23.962Z"
   },
   {
    "duration": 23,
    "start_time": "2023-01-12T21:32:24.356Z"
   },
   {
    "duration": 8,
    "start_time": "2023-01-12T21:32:25.291Z"
   },
   {
    "duration": 40,
    "start_time": "2023-01-12T21:32:25.843Z"
   },
   {
    "duration": 11,
    "start_time": "2023-01-12T21:32:27.629Z"
   },
   {
    "duration": 32,
    "start_time": "2023-01-12T21:32:29.189Z"
   },
   {
    "duration": 8,
    "start_time": "2023-01-12T21:32:29.768Z"
   },
   {
    "duration": 35,
    "start_time": "2023-01-12T21:32:32.043Z"
   },
   {
    "duration": 7,
    "start_time": "2023-01-12T21:32:34.366Z"
   },
   {
    "duration": 17,
    "start_time": "2023-01-12T21:32:36.072Z"
   },
   {
    "duration": 64,
    "start_time": "2023-01-12T21:32:37.890Z"
   },
   {
    "duration": 11,
    "start_time": "2023-01-12T21:32:39.466Z"
   },
   {
    "duration": 12,
    "start_time": "2023-01-12T21:32:40.388Z"
   },
   {
    "duration": 35,
    "start_time": "2023-01-12T21:32:41.365Z"
   },
   {
    "duration": 7,
    "start_time": "2023-01-12T21:32:42.198Z"
   },
   {
    "duration": 30,
    "start_time": "2023-01-12T21:32:43.827Z"
   },
   {
    "duration": 103,
    "start_time": "2023-01-12T21:32:47.380Z"
   },
   {
    "duration": 19,
    "start_time": "2023-01-12T21:32:49.578Z"
   },
   {
    "duration": 49,
    "start_time": "2023-01-12T21:32:52.795Z"
   },
   {
    "duration": 42,
    "start_time": "2023-01-12T21:32:53.204Z"
   },
   {
    "duration": 9,
    "start_time": "2023-01-12T21:32:53.782Z"
   },
   {
    "duration": 465,
    "start_time": "2023-01-12T21:32:54.216Z"
   },
   {
    "duration": 29,
    "start_time": "2023-01-12T21:32:54.684Z"
   },
   {
    "duration": 176,
    "start_time": "2023-01-12T21:32:55.652Z"
   },
   {
    "duration": 147,
    "start_time": "2023-01-12T21:32:56.360Z"
   },
   {
    "duration": 277,
    "start_time": "2023-01-12T21:32:56.882Z"
   },
   {
    "duration": 248,
    "start_time": "2023-01-12T21:32:57.411Z"
   },
   {
    "duration": 199,
    "start_time": "2023-01-12T21:32:58.920Z"
   },
   {
    "duration": 205,
    "start_time": "2023-01-12T21:32:59.504Z"
   },
   {
    "duration": 171,
    "start_time": "2023-01-12T21:33:00.716Z"
   },
   {
    "duration": 165,
    "start_time": "2023-01-12T21:33:02.215Z"
   },
   {
    "duration": 164,
    "start_time": "2023-01-12T21:33:03.604Z"
   },
   {
    "duration": 176,
    "start_time": "2023-01-12T21:33:04.980Z"
   },
   {
    "duration": 179,
    "start_time": "2023-01-12T21:33:06.399Z"
   },
   {
    "duration": 183,
    "start_time": "2023-01-12T21:33:08.648Z"
   },
   {
    "duration": 241,
    "start_time": "2023-01-12T21:34:30.224Z"
   },
   {
    "duration": 239,
    "start_time": "2023-01-12T21:35:04.185Z"
   },
   {
    "duration": 183,
    "start_time": "2023-01-12T21:35:05.356Z"
   },
   {
    "duration": 218,
    "start_time": "2023-01-12T21:35:06.916Z"
   },
   {
    "duration": 184,
    "start_time": "2023-01-12T21:35:08.655Z"
   },
   {
    "duration": 231,
    "start_time": "2023-01-12T21:35:10.075Z"
   },
   {
    "duration": 392,
    "start_time": "2023-01-12T21:35:11.582Z"
   },
   {
    "duration": 41,
    "start_time": "2023-01-12T21:37:13.081Z"
   },
   {
    "duration": 163,
    "start_time": "2023-01-12T21:39:56.023Z"
   },
   {
    "duration": 141,
    "start_time": "2023-01-12T21:57:15.268Z"
   },
   {
    "duration": 804,
    "start_time": "2023-01-12T22:17:18.058Z"
   },
   {
    "duration": 24,
    "start_time": "2023-01-12T22:17:18.871Z"
   },
   {
    "duration": 2216,
    "start_time": "2023-01-12T22:17:19.301Z"
   },
   {
    "duration": 11,
    "start_time": "2023-01-12T22:17:21.520Z"
   },
   {
    "duration": 112,
    "start_time": "2023-01-12T22:17:21.534Z"
   },
   {
    "duration": 42,
    "start_time": "2023-01-12T22:17:21.652Z"
   },
   {
    "duration": 97,
    "start_time": "2023-01-12T22:17:21.698Z"
   },
   {
    "duration": 47,
    "start_time": "2023-01-12T22:17:21.796Z"
   },
   {
    "duration": 51,
    "start_time": "2023-01-12T22:17:21.845Z"
   },
   {
    "duration": 32,
    "start_time": "2023-01-12T22:17:22.054Z"
   },
   {
    "duration": 22,
    "start_time": "2023-01-12T22:17:22.497Z"
   },
   {
    "duration": 54,
    "start_time": "2023-01-12T22:17:23.253Z"
   },
   {
    "duration": 15,
    "start_time": "2023-01-12T22:17:24.343Z"
   },
   {
    "duration": 440,
    "start_time": "2023-01-12T22:17:25.397Z"
   },
   {
    "duration": 80,
    "start_time": "2023-01-12T22:17:26.519Z"
   },
   {
    "duration": 10,
    "start_time": "2023-01-12T22:17:26.855Z"
   },
   {
    "duration": 15,
    "start_time": "2023-01-12T22:17:27.447Z"
   },
   {
    "duration": 112,
    "start_time": "2023-01-12T22:17:27.778Z"
   },
   {
    "duration": 10,
    "start_time": "2023-01-12T22:17:28.381Z"
   },
   {
    "duration": 9,
    "start_time": "2023-01-12T22:17:29.206Z"
   },
   {
    "duration": 34,
    "start_time": "2023-01-12T22:17:29.721Z"
   },
   {
    "duration": 6,
    "start_time": "2023-01-12T22:17:30.482Z"
   },
   {
    "duration": 30,
    "start_time": "2023-01-12T22:17:30.786Z"
   },
   {
    "duration": 8,
    "start_time": "2023-01-12T22:17:31.077Z"
   },
   {
    "duration": 35,
    "start_time": "2023-01-12T22:17:31.377Z"
   },
   {
    "duration": 14,
    "start_time": "2023-01-12T22:17:31.525Z"
   },
   {
    "duration": 37,
    "start_time": "2023-01-12T22:17:32.281Z"
   },
   {
    "duration": 6,
    "start_time": "2023-01-12T22:17:32.582Z"
   },
   {
    "duration": 17,
    "start_time": "2023-01-12T22:17:32.850Z"
   },
   {
    "duration": 57,
    "start_time": "2023-01-12T22:17:33.124Z"
   },
   {
    "duration": 8,
    "start_time": "2023-01-12T22:17:33.282Z"
   },
   {
    "duration": 12,
    "start_time": "2023-01-12T22:17:33.410Z"
   },
   {
    "duration": 42,
    "start_time": "2023-01-12T22:17:34.024Z"
   },
   {
    "duration": 10,
    "start_time": "2023-01-12T22:17:34.277Z"
   },
   {
    "duration": 36,
    "start_time": "2023-01-12T22:17:35.125Z"
   },
   {
    "duration": 83,
    "start_time": "2023-01-12T22:17:35.982Z"
   },
   {
    "duration": 12,
    "start_time": "2023-01-12T22:17:36.881Z"
   },
   {
    "duration": 50,
    "start_time": "2023-01-12T22:17:38.619Z"
   },
   {
    "duration": 65,
    "start_time": "2023-01-12T22:17:39.099Z"
   },
   {
    "duration": 13,
    "start_time": "2023-01-12T22:17:39.672Z"
   },
   {
    "duration": 402,
    "start_time": "2023-01-12T22:17:40.114Z"
   },
   {
    "duration": 26,
    "start_time": "2023-01-12T22:17:40.577Z"
   },
   {
    "duration": 165,
    "start_time": "2023-01-12T22:17:42.720Z"
   },
   {
    "duration": 134,
    "start_time": "2023-01-12T22:17:43.781Z"
   },
   {
    "duration": 296,
    "start_time": "2023-01-12T22:17:45.518Z"
   },
   {
    "duration": 162,
    "start_time": "2023-01-12T22:17:46.482Z"
   },
   {
    "duration": 180,
    "start_time": "2023-01-12T22:17:46.818Z"
   },
   {
    "duration": 144,
    "start_time": "2023-01-12T22:17:47.556Z"
   },
   {
    "duration": 167,
    "start_time": "2023-01-12T22:17:48.082Z"
   },
   {
    "duration": 176,
    "start_time": "2023-01-12T22:17:48.356Z"
   },
   {
    "duration": 161,
    "start_time": "2023-01-12T22:17:48.619Z"
   },
   {
    "duration": 143,
    "start_time": "2023-01-12T22:17:48.889Z"
   },
   {
    "duration": 154,
    "start_time": "2023-01-12T22:17:49.168Z"
   },
   {
    "duration": 165,
    "start_time": "2023-01-12T22:17:49.421Z"
   },
   {
    "duration": 175,
    "start_time": "2023-01-12T22:17:49.885Z"
   },
   {
    "duration": 231,
    "start_time": "2023-01-12T22:17:50.383Z"
   },
   {
    "duration": 157,
    "start_time": "2023-01-12T22:17:52.277Z"
   },
   {
    "duration": 184,
    "start_time": "2023-01-12T22:17:52.868Z"
   },
   {
    "duration": 170,
    "start_time": "2023-01-12T22:17:53.152Z"
   },
   {
    "duration": 159,
    "start_time": "2023-01-12T22:17:53.456Z"
   },
   {
    "duration": 163,
    "start_time": "2023-01-12T22:17:54.324Z"
   },
   {
    "duration": 319,
    "start_time": "2023-01-12T22:17:54.801Z"
   },
   {
    "duration": 39,
    "start_time": "2023-01-12T22:17:57.009Z"
   },
   {
    "duration": 391,
    "start_time": "2023-01-12T22:17:59.259Z"
   },
   {
    "duration": 27,
    "start_time": "2023-01-12T22:18:04.655Z"
   },
   {
    "duration": 760,
    "start_time": "2023-01-12T22:21:48.551Z"
   },
   {
    "duration": 15,
    "start_time": "2023-01-12T22:21:49.314Z"
   },
   {
    "duration": 1915,
    "start_time": "2023-01-12T22:21:49.333Z"
   },
   {
    "duration": 10,
    "start_time": "2023-01-12T22:21:51.251Z"
   },
   {
    "duration": 46,
    "start_time": "2023-01-12T22:21:51.263Z"
   },
   {
    "duration": 16,
    "start_time": "2023-01-12T22:21:51.311Z"
   },
   {
    "duration": 48,
    "start_time": "2023-01-12T22:21:51.329Z"
   },
   {
    "duration": 29,
    "start_time": "2023-01-12T22:21:51.379Z"
   },
   {
    "duration": 9,
    "start_time": "2023-01-12T22:21:51.410Z"
   },
   {
    "duration": 12,
    "start_time": "2023-01-12T22:21:51.421Z"
   },
   {
    "duration": 43,
    "start_time": "2023-01-12T22:21:51.435Z"
   },
   {
    "duration": 54,
    "start_time": "2023-01-12T22:21:51.480Z"
   },
   {
    "duration": 7,
    "start_time": "2023-01-12T22:21:51.537Z"
   },
   {
    "duration": 313,
    "start_time": "2023-01-12T22:21:51.546Z"
   },
   {
    "duration": 80,
    "start_time": "2023-01-12T22:21:51.861Z"
   },
   {
    "duration": 8,
    "start_time": "2023-01-12T22:21:51.942Z"
   },
   {
    "duration": 8,
    "start_time": "2023-01-12T22:21:51.951Z"
   },
   {
    "duration": 98,
    "start_time": "2023-01-12T22:21:51.960Z"
   },
   {
    "duration": 17,
    "start_time": "2023-01-12T22:21:52.060Z"
   },
   {
    "duration": 8,
    "start_time": "2023-01-12T22:21:52.079Z"
   },
   {
    "duration": 17,
    "start_time": "2023-01-12T22:21:52.088Z"
   },
   {
    "duration": 6,
    "start_time": "2023-01-12T22:21:52.106Z"
   },
   {
    "duration": 31,
    "start_time": "2023-01-12T22:21:52.114Z"
   },
   {
    "duration": 31,
    "start_time": "2023-01-12T22:21:52.146Z"
   },
   {
    "duration": 27,
    "start_time": "2023-01-12T22:21:52.179Z"
   },
   {
    "duration": 6,
    "start_time": "2023-01-12T22:21:52.207Z"
   },
   {
    "duration": 26,
    "start_time": "2023-01-12T22:21:52.215Z"
   },
   {
    "duration": 34,
    "start_time": "2023-01-12T22:21:52.243Z"
   },
   {
    "duration": 8,
    "start_time": "2023-01-12T22:21:52.279Z"
   },
   {
    "duration": 40,
    "start_time": "2023-01-12T22:21:52.289Z"
   },
   {
    "duration": 6,
    "start_time": "2023-01-12T22:21:52.331Z"
   },
   {
    "duration": 12,
    "start_time": "2023-01-12T22:21:52.338Z"
   },
   {
    "duration": 49,
    "start_time": "2023-01-12T22:21:52.352Z"
   },
   {
    "duration": 6,
    "start_time": "2023-01-12T22:21:52.403Z"
   },
   {
    "duration": 17,
    "start_time": "2023-01-12T22:21:52.410Z"
   },
   {
    "duration": 95,
    "start_time": "2023-01-12T22:21:52.429Z"
   },
   {
    "duration": 12,
    "start_time": "2023-01-12T22:21:52.526Z"
   },
   {
    "duration": 40,
    "start_time": "2023-01-12T22:21:52.540Z"
   },
   {
    "duration": 27,
    "start_time": "2023-01-12T22:21:52.581Z"
   },
   {
    "duration": 8,
    "start_time": "2023-01-12T22:21:52.612Z"
   },
   {
    "duration": 359,
    "start_time": "2023-01-12T22:21:52.622Z"
   },
   {
    "duration": 25,
    "start_time": "2023-01-12T22:21:52.983Z"
   },
   {
    "duration": 138,
    "start_time": "2023-01-12T22:21:53.009Z"
   },
   {
    "duration": 136,
    "start_time": "2023-01-12T22:21:53.148Z"
   },
   {
    "duration": 227,
    "start_time": "2023-01-12T22:21:53.286Z"
   },
   {
    "duration": 151,
    "start_time": "2023-01-12T22:21:53.515Z"
   },
   {
    "duration": 154,
    "start_time": "2023-01-12T22:21:53.675Z"
   },
   {
    "duration": 139,
    "start_time": "2023-01-12T22:21:53.831Z"
   },
   {
    "duration": 132,
    "start_time": "2023-01-12T22:21:53.972Z"
   },
   {
    "duration": 142,
    "start_time": "2023-01-12T22:21:54.106Z"
   },
   {
    "duration": 143,
    "start_time": "2023-01-12T22:21:54.250Z"
   },
   {
    "duration": 124,
    "start_time": "2023-01-12T22:21:54.395Z"
   },
   {
    "duration": 145,
    "start_time": "2023-01-12T22:21:54.520Z"
   },
   {
    "duration": 159,
    "start_time": "2023-01-12T22:21:54.667Z"
   },
   {
    "duration": 166,
    "start_time": "2023-01-12T22:21:54.828Z"
   },
   {
    "duration": 220,
    "start_time": "2023-01-12T22:21:54.995Z"
   },
   {
    "duration": 188,
    "start_time": "2023-01-12T22:21:55.217Z"
   },
   {
    "duration": 171,
    "start_time": "2023-01-12T22:21:55.407Z"
   },
   {
    "duration": 161,
    "start_time": "2023-01-12T22:21:55.580Z"
   },
   {
    "duration": 159,
    "start_time": "2023-01-12T22:21:55.743Z"
   },
   {
    "duration": 160,
    "start_time": "2023-01-12T22:21:55.904Z"
   },
   {
    "duration": 312,
    "start_time": "2023-01-12T22:21:56.066Z"
   },
   {
    "duration": 23,
    "start_time": "2023-01-12T22:21:56.380Z"
   },
   {
    "duration": 334,
    "start_time": "2023-01-12T22:21:56.405Z"
   },
   {
    "duration": 37,
    "start_time": "2023-01-12T22:21:56.740Z"
   },
   {
    "duration": 52,
    "start_time": "2023-01-13T07:59:56.600Z"
   },
   {
    "duration": 42,
    "start_time": "2023-01-13T08:04:53.181Z"
   },
   {
    "duration": 1058,
    "start_time": "2023-01-13T08:05:22.068Z"
   },
   {
    "duration": 14,
    "start_time": "2023-01-13T08:05:23.128Z"
   },
   {
    "duration": 1817,
    "start_time": "2023-01-13T08:05:23.143Z"
   },
   {
    "duration": 10,
    "start_time": "2023-01-13T08:05:24.963Z"
   },
   {
    "duration": 30,
    "start_time": "2023-01-13T08:05:24.975Z"
   },
   {
    "duration": 16,
    "start_time": "2023-01-13T08:05:25.007Z"
   },
   {
    "duration": 29,
    "start_time": "2023-01-13T08:05:25.025Z"
   },
   {
    "duration": 26,
    "start_time": "2023-01-13T08:05:25.057Z"
   },
   {
    "duration": 9,
    "start_time": "2023-01-13T08:05:25.895Z"
   },
   {
    "duration": 11,
    "start_time": "2023-01-13T08:05:26.200Z"
   },
   {
    "duration": 14,
    "start_time": "2023-01-13T08:05:26.815Z"
   },
   {
    "duration": 46,
    "start_time": "2023-01-13T08:05:27.135Z"
   },
   {
    "duration": 7,
    "start_time": "2023-01-13T08:05:27.743Z"
   },
   {
    "duration": 261,
    "start_time": "2023-01-13T08:05:28.061Z"
   },
   {
    "duration": 64,
    "start_time": "2023-01-13T08:05:28.716Z"
   },
   {
    "duration": 7,
    "start_time": "2023-01-13T08:05:29.063Z"
   },
   {
    "duration": 6,
    "start_time": "2023-01-13T08:05:29.371Z"
   },
   {
    "duration": 74,
    "start_time": "2023-01-13T08:05:29.739Z"
   },
   {
    "duration": 7,
    "start_time": "2023-01-13T08:05:31.286Z"
   },
   {
    "duration": 7,
    "start_time": "2023-01-13T08:05:32.192Z"
   },
   {
    "duration": 15,
    "start_time": "2023-01-13T08:05:32.997Z"
   },
   {
    "duration": 5,
    "start_time": "2023-01-13T08:05:33.970Z"
   },
   {
    "duration": 25,
    "start_time": "2023-01-13T08:05:35.592Z"
   },
   {
    "duration": 9,
    "start_time": "2023-01-13T08:05:37.987Z"
   },
   {
    "duration": 22,
    "start_time": "2023-01-13T08:05:38.308Z"
   },
   {
    "duration": 6,
    "start_time": "2023-01-13T08:05:38.474Z"
   },
   {
    "duration": 23,
    "start_time": "2023-01-13T08:05:39.164Z"
   },
   {
    "duration": 6,
    "start_time": "2023-01-13T08:05:40.055Z"
   },
   {
    "duration": 8,
    "start_time": "2023-01-13T08:05:42.603Z"
   },
   {
    "duration": 35,
    "start_time": "2023-01-13T08:05:46.850Z"
   },
   {
    "duration": 6,
    "start_time": "2023-01-13T08:05:47.021Z"
   },
   {
    "duration": 10,
    "start_time": "2023-01-13T08:05:47.211Z"
   },
   {
    "duration": 22,
    "start_time": "2023-01-13T08:05:48.768Z"
   },
   {
    "duration": 6,
    "start_time": "2023-01-13T08:05:49.020Z"
   },
   {
    "duration": 16,
    "start_time": "2023-01-13T08:05:49.621Z"
   },
   {
    "duration": 60,
    "start_time": "2023-01-13T08:05:51.589Z"
   },
   {
    "duration": 11,
    "start_time": "2023-01-13T08:05:54.736Z"
   },
   {
    "duration": 19,
    "start_time": "2023-01-13T08:05:59.949Z"
   },
   {
    "duration": 51,
    "start_time": "2023-01-13T08:06:05.076Z"
   },
   {
    "duration": 18,
    "start_time": "2023-01-13T08:06:08.669Z"
   },
   {
    "duration": 57,
    "start_time": "2023-01-13T08:06:48.041Z"
   },
   {
    "duration": 83,
    "start_time": "2023-01-13T08:15:04.437Z"
   },
   {
    "duration": 114,
    "start_time": "2023-01-13T08:15:58.076Z"
   },
   {
    "duration": 90,
    "start_time": "2023-01-13T08:18:19.469Z"
   },
   {
    "duration": 213,
    "start_time": "2023-01-13T08:18:27.004Z"
   },
   {
    "duration": 47,
    "start_time": "2023-01-13T08:24:59.180Z"
   },
   {
    "duration": 48,
    "start_time": "2023-01-13T08:26:24.257Z"
   },
   {
    "duration": 57,
    "start_time": "2023-01-13T08:26:31.058Z"
   },
   {
    "duration": 18,
    "start_time": "2023-01-13T08:26:39.988Z"
   },
   {
    "duration": 145,
    "start_time": "2023-01-13T08:28:50.262Z"
   },
   {
    "duration": 317,
    "start_time": "2023-01-13T08:30:21.471Z"
   },
   {
    "duration": 47,
    "start_time": "2023-01-13T08:36:47.908Z"
   },
   {
    "duration": 49,
    "start_time": "2023-01-13T08:36:53.339Z"
   },
   {
    "duration": 22,
    "start_time": "2023-01-13T08:37:10.340Z"
   },
   {
    "duration": 14,
    "start_time": "2023-01-13T08:37:34.857Z"
   },
   {
    "duration": 818,
    "start_time": "2023-01-13T08:37:43.329Z"
   },
   {
    "duration": 812,
    "start_time": "2023-01-13T08:41:39.660Z"
   },
   {
    "duration": 134,
    "start_time": "2023-01-13T08:41:59.434Z"
   },
   {
    "duration": 878,
    "start_time": "2023-01-13T08:42:03.821Z"
   },
   {
    "duration": 19,
    "start_time": "2023-01-13T08:42:09.442Z"
   },
   {
    "duration": 870,
    "start_time": "2023-01-13T08:42:18.386Z"
   },
   {
    "duration": 173,
    "start_time": "2023-01-13T08:42:52.596Z"
   },
   {
    "duration": 154,
    "start_time": "2023-01-13T08:47:07.604Z"
   },
   {
    "duration": 150,
    "start_time": "2023-01-13T08:48:25.691Z"
   },
   {
    "duration": 159,
    "start_time": "2023-01-13T08:48:30.867Z"
   },
   {
    "duration": 165,
    "start_time": "2023-01-13T08:48:38.383Z"
   },
   {
    "duration": 229,
    "start_time": "2023-01-13T08:48:42.829Z"
   },
   {
    "duration": 159,
    "start_time": "2023-01-13T08:55:35.796Z"
   },
   {
    "duration": 192,
    "start_time": "2023-01-13T08:56:25.434Z"
   },
   {
    "duration": 168,
    "start_time": "2023-01-13T08:56:56.609Z"
   },
   {
    "duration": 800,
    "start_time": "2023-01-13T08:57:30.111Z"
   },
   {
    "duration": 684,
    "start_time": "2023-01-13T08:57:45.579Z"
   },
   {
    "duration": 882,
    "start_time": "2023-01-13T08:59:15.646Z"
   },
   {
    "duration": 0,
    "start_time": "2023-01-13T08:59:16.529Z"
   },
   {
    "duration": 801,
    "start_time": "2023-01-13T08:59:24.954Z"
   },
   {
    "duration": 24,
    "start_time": "2023-01-13T08:59:58.311Z"
   },
   {
    "duration": 24,
    "start_time": "2023-01-13T08:59:58.980Z"
   },
   {
    "duration": 8,
    "start_time": "2023-01-13T08:59:59.167Z"
   },
   {
    "duration": 308,
    "start_time": "2023-01-13T09:00:11.490Z"
   },
   {
    "duration": 25,
    "start_time": "2023-01-13T09:00:12.016Z"
   },
   {
    "duration": 162,
    "start_time": "2023-01-13T09:00:28.204Z"
   },
   {
    "duration": 228,
    "start_time": "2023-01-13T09:00:30.845Z"
   },
   {
    "duration": 155,
    "start_time": "2023-01-13T09:00:34.073Z"
   },
   {
    "duration": 149,
    "start_time": "2023-01-13T09:07:09.982Z"
   },
   {
    "duration": 136,
    "start_time": "2023-01-13T09:13:18.007Z"
   },
   {
    "duration": 134,
    "start_time": "2023-01-13T09:13:39.021Z"
   },
   {
    "duration": 147,
    "start_time": "2023-01-13T09:14:25.647Z"
   },
   {
    "duration": 150,
    "start_time": "2023-01-13T09:14:33.582Z"
   },
   {
    "duration": 155,
    "start_time": "2023-01-13T09:14:51.442Z"
   },
   {
    "duration": 148,
    "start_time": "2023-01-13T09:15:03.988Z"
   },
   {
    "duration": 451,
    "start_time": "2023-01-13T09:15:30.370Z"
   },
   {
    "duration": 141,
    "start_time": "2023-01-13T09:15:55.666Z"
   },
   {
    "duration": 274,
    "start_time": "2023-01-13T09:16:12.044Z"
   },
   {
    "duration": 714,
    "start_time": "2023-01-13T18:40:38.645Z"
   },
   {
    "duration": 15,
    "start_time": "2023-01-13T18:40:39.361Z"
   },
   {
    "duration": 2080,
    "start_time": "2023-01-13T18:40:39.378Z"
   },
   {
    "duration": 9,
    "start_time": "2023-01-13T18:40:41.459Z"
   },
   {
    "duration": 42,
    "start_time": "2023-01-13T18:40:41.469Z"
   },
   {
    "duration": 16,
    "start_time": "2023-01-13T18:40:41.512Z"
   },
   {
    "duration": 31,
    "start_time": "2023-01-13T18:40:41.530Z"
   },
   {
    "duration": 52,
    "start_time": "2023-01-13T18:40:41.563Z"
   },
   {
    "duration": 9,
    "start_time": "2023-01-13T18:40:41.617Z"
   },
   {
    "duration": 11,
    "start_time": "2023-01-13T18:40:41.628Z"
   },
   {
    "duration": 16,
    "start_time": "2023-01-13T18:40:41.641Z"
   },
   {
    "duration": 85,
    "start_time": "2023-01-13T18:40:41.658Z"
   },
   {
    "duration": 6,
    "start_time": "2023-01-13T18:40:41.745Z"
   },
   {
    "duration": 326,
    "start_time": "2023-01-13T18:40:41.753Z"
   },
   {
    "duration": 81,
    "start_time": "2023-01-13T18:40:42.081Z"
   },
   {
    "duration": 8,
    "start_time": "2023-01-13T18:40:42.163Z"
   },
   {
    "duration": 13,
    "start_time": "2023-01-13T18:40:42.172Z"
   },
   {
    "duration": 89,
    "start_time": "2023-01-13T18:40:42.199Z"
   },
   {
    "duration": 14,
    "start_time": "2023-01-13T18:40:42.289Z"
   },
   {
    "duration": 21,
    "start_time": "2023-01-13T18:40:42.304Z"
   },
   {
    "duration": 19,
    "start_time": "2023-01-13T18:40:42.327Z"
   },
   {
    "duration": 6,
    "start_time": "2023-01-13T18:40:42.348Z"
   },
   {
    "duration": 29,
    "start_time": "2023-01-13T18:40:42.355Z"
   },
   {
    "duration": 12,
    "start_time": "2023-01-13T18:40:42.397Z"
   },
   {
    "duration": 27,
    "start_time": "2023-01-13T18:40:42.413Z"
   },
   {
    "duration": 6,
    "start_time": "2023-01-13T18:40:42.442Z"
   },
   {
    "duration": 31,
    "start_time": "2023-01-13T18:40:42.450Z"
   },
   {
    "duration": 17,
    "start_time": "2023-01-13T18:40:42.484Z"
   },
   {
    "duration": 22,
    "start_time": "2023-01-13T18:40:42.503Z"
   },
   {
    "duration": 45,
    "start_time": "2023-01-13T18:40:42.527Z"
   },
   {
    "duration": 7,
    "start_time": "2023-01-13T18:40:42.574Z"
   },
   {
    "duration": 11,
    "start_time": "2023-01-13T18:40:42.583Z"
   },
   {
    "duration": 29,
    "start_time": "2023-01-13T18:40:42.598Z"
   },
   {
    "duration": 6,
    "start_time": "2023-01-13T18:40:42.629Z"
   },
   {
    "duration": 18,
    "start_time": "2023-01-13T18:40:42.637Z"
   },
   {
    "duration": 107,
    "start_time": "2023-01-13T18:40:42.657Z"
   },
   {
    "duration": 13,
    "start_time": "2023-01-13T18:40:42.766Z"
   },
   {
    "duration": 34,
    "start_time": "2023-01-13T18:40:42.780Z"
   },
   {
    "duration": 26,
    "start_time": "2023-01-13T18:40:42.816Z"
   },
   {
    "duration": 26,
    "start_time": "2023-01-13T18:40:42.843Z"
   },
   {
    "duration": 41,
    "start_time": "2023-01-13T18:40:42.870Z"
   },
   {
    "duration": 350,
    "start_time": "2023-01-13T18:40:42.915Z"
   },
   {
    "duration": 40,
    "start_time": "2023-01-13T18:40:43.266Z"
   },
   {
    "duration": 141,
    "start_time": "2023-01-13T18:40:43.313Z"
   },
   {
    "duration": 131,
    "start_time": "2023-01-13T18:40:43.456Z"
   },
   {
    "duration": 216,
    "start_time": "2023-01-13T18:40:43.589Z"
   },
   {
    "duration": 141,
    "start_time": "2023-01-13T18:40:43.807Z"
   },
   {
    "duration": 139,
    "start_time": "2023-01-13T18:40:43.949Z"
   },
   {
    "duration": 146,
    "start_time": "2023-01-13T18:40:44.109Z"
   },
   {
    "duration": 143,
    "start_time": "2023-01-13T18:40:44.257Z"
   },
   {
    "duration": 115,
    "start_time": "2023-01-13T18:40:44.414Z"
   },
   {
    "duration": 149,
    "start_time": "2023-01-13T18:40:44.531Z"
   },
   {
    "duration": 145,
    "start_time": "2023-01-13T18:40:44.681Z"
   },
   {
    "duration": 123,
    "start_time": "2023-01-13T18:40:44.828Z"
   },
   {
    "duration": 168,
    "start_time": "2023-01-13T18:40:44.954Z"
   },
   {
    "duration": 167,
    "start_time": "2023-01-13T18:40:45.125Z"
   },
   {
    "duration": 221,
    "start_time": "2023-01-13T18:40:45.293Z"
   },
   {
    "duration": 153,
    "start_time": "2023-01-13T18:40:45.515Z"
   },
   {
    "duration": 249,
    "start_time": "2023-01-13T18:40:45.670Z"
   },
   {
    "duration": 207,
    "start_time": "2023-01-13T18:40:45.921Z"
   },
   {
    "duration": 248,
    "start_time": "2023-01-13T18:40:46.131Z"
   },
   {
    "duration": 171,
    "start_time": "2023-01-13T18:40:46.381Z"
   },
   {
    "duration": 180,
    "start_time": "2023-01-13T18:40:46.553Z"
   },
   {
    "duration": 170,
    "start_time": "2023-01-13T18:40:46.735Z"
   },
   {
    "duration": 195,
    "start_time": "2023-01-13T18:40:46.913Z"
   },
   {
    "duration": 150,
    "start_time": "2023-01-13T18:40:47.113Z"
   },
   {
    "duration": 260,
    "start_time": "2023-01-13T18:40:47.265Z"
   },
   {
    "duration": 157,
    "start_time": "2023-01-13T18:40:47.527Z"
   },
   {
    "duration": 165,
    "start_time": "2023-01-13T18:40:47.686Z"
   },
   {
    "duration": 304,
    "start_time": "2023-01-13T18:40:47.853Z"
   },
   {
    "duration": 50,
    "start_time": "2023-01-13T18:40:48.159Z"
   },
   {
    "duration": 0,
    "start_time": "2023-01-13T18:40:48.211Z"
   },
   {
    "duration": 0,
    "start_time": "2023-01-13T18:40:48.212Z"
   },
   {
    "duration": 0,
    "start_time": "2023-01-13T18:40:48.213Z"
   },
   {
    "duration": 0,
    "start_time": "2023-01-13T18:40:48.214Z"
   },
   {
    "duration": 0,
    "start_time": "2023-01-13T18:40:48.218Z"
   },
   {
    "duration": 0,
    "start_time": "2023-01-13T18:40:48.219Z"
   },
   {
    "duration": 191,
    "start_time": "2023-01-13T18:46:44.557Z"
   },
   {
    "duration": 196,
    "start_time": "2023-01-13T18:46:44.750Z"
   },
   {
    "duration": 215,
    "start_time": "2023-01-13T18:46:44.948Z"
   },
   {
    "duration": 24,
    "start_time": "2023-01-13T18:46:45.871Z"
   },
   {
    "duration": 360,
    "start_time": "2023-01-13T18:46:46.752Z"
   },
   {
    "duration": 25,
    "start_time": "2023-01-13T18:46:47.462Z"
   }
  ],
  "kernelspec": {
   "display_name": "Python 3 (ipykernel)",
   "language": "python",
   "name": "python3"
  },
  "language_info": {
   "codemirror_mode": {
    "name": "ipython",
    "version": 3
   },
   "file_extension": ".py",
   "mimetype": "text/x-python",
   "name": "python",
   "nbconvert_exporter": "python",
   "pygments_lexer": "ipython3",
   "version": "3.9.13"
  },
  "toc": {
   "base_numbering": 1,
   "nav_menu": {},
   "number_sections": true,
   "sideBar": true,
   "skip_h1_title": true,
   "title_cell": "Table of Contents",
   "title_sidebar": "Contents",
   "toc_cell": false,
   "toc_position": {},
   "toc_section_display": true,
   "toc_window_display": true
  }
 },
 "nbformat": 4,
 "nbformat_minor": 2
}
