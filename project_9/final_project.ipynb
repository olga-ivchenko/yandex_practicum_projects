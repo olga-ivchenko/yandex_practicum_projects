{
 "cells": [
  {
   "cell_type": "markdown",
   "metadata": {},
   "source": [
    "[Ссылка на презентацию по проекту мобильные приложения](https://drive.google.com/file/d/12ngUd2Tsg4jnDPugP14kK70z5zr4GFal/view?usp=drive_link)"
   ]
  },
  {
   "cell_type": "markdown",
   "metadata": {},
   "source": [
    "**Название проекта:** сегментация пользователей мобильного приложения \"Ненужные вещи\"\n",
    "\n",
    "**Цель исследования:** выделение групп пользователей на основе их поведения в мобильном приложении \"Ненужные вещи\"\n",
    "        \n",
    "**Данные для анализа:** информация о действиях пользователей приложения в период с  7 октября 2019 года по 3 ноября 2019 года"
   ]
  },
  {
   "cell_type": "markdown",
   "metadata": {},
   "source": [
    "\n",
    "Для достижения поставленных целей исследование разделено на следующие этапы:\n",
    "1. Предобработка данных\n",
    "<br>\n",
    "    1.1. Загрузка данных, объединение баз данных, обработка названий полей и их типов данных\n",
    "<br>\n",
    "    1.2. Оценка корректности заполненности базы, наличия пропусков/дубликатов и явных аномалий\n",
    "<br>\n",
    "    1.3. Анализ уникальных значений в базе, поиск скрытых дубликатов  \n",
    "<br>\n",
    "<br>\n",
    "2. Исследовательский анализ \n",
    "<br>\n",
    "    2.1. Расчет индекса удержания пользователей - retention rate\n",
    "<br>\n",
    "    2.2. Подсчет времени, проведенного пользователем в приложении, выделение пользовательских сессий\n",
    "<br>\n",
    "    2.2.1 Выделение пользовательских сессий и подсчет времени, проведенного в приложении\n",
    "<br>\n",
    "    2.2.2 Аномалии и выбросы в продолжительности сессий\n",
    "<br>\n",
    "    2.3. Определение частоты действий пользователя\n",
    "<br>\n",
    "    2.4. Расчет конверсии в целевое действие (просмотр контакта)\n",
    "<br>\n",
    "<br>\n",
    "3. Сегментация пользователей на основе проведенного исследовательского анализа\n",
    "<br>\n",
    "    3.1. Возможные варианты сегментации пользователей, возникшие по итогам исследовательского анализа данных\n",
    "<br>\n",
    "    3.2. Использованный способ сегментации пользователей: общие принципы, обоснование выбора, детальное описание сегментов\n",
    "<br>  \n",
    "    3.3. Расчет индекса удержания пользователей в разрезе выбранной сегментации\n",
    "<br>\n",
    "    3.3. Расчет конверсии в целевое действие (просмотр контакта) в разрезе выбранной сегментации\n",
    "<br>\n",
    "<br>\n",
    "4. Формулировка и проверка статистических гипотез\n",
    "<br>\n",
    "    4.1. Гипотеза 1: конверсия в просмотры контактов разная у пользователей, установивших приложение через ссылку из yandex и через google \n",
    "<br>    \n",
    "    4.2. Гипотеза 2:  конверсия в просмотры контактов разная у пользователей из разных групп проведенной сегментации \n",
    "<br>\n",
    "<br>\n",
    "5. Выводы и рекомендации"
   ]
  },
  {
   "cell_type": "code",
   "execution_count": 1,
   "metadata": {},
   "outputs": [],
   "source": [
    "import pandas as pd\n",
    "from matplotlib import pyplot as plt\n",
    "import seaborn as sns\n",
    "import numpy as np\n",
    "from datetime import datetime, timedelta\n",
    "import time\n",
    "import math as mth\n",
    "from scipy import stats as st"
   ]
  },
  {
   "cell_type": "markdown",
   "metadata": {},
   "source": [
    "#  1. Предобработка данных"
   ]
  },
  {
   "cell_type": "markdown",
   "metadata": {},
   "source": [
    "## 1.1. Загрузка данных, объединение баз данных, обработка названий полей и их типов данных"
   ]
  },
  {
   "cell_type": "code",
   "execution_count": 2,
   "metadata": {},
   "outputs": [],
   "source": [
    "try:\n",
    "    mobile_dataset = pd.read_csv('https://code.s3.yandex.net/datasets/mobile_dataset.csv')\n",
    "     # альтернативный путь к данным для работы с других устройств \n",
    "except:   \n",
    "    mobile_dataset = pd.read_csv('mobile_dataset.csv')  # загружаем локальный файл с данными пользовательских сессий"
   ]
  },
  {
   "cell_type": "code",
   "execution_count": 3,
   "metadata": {},
   "outputs": [
    {
     "data": {
      "text/html": [
       "<div>\n",
       "<style scoped>\n",
       "    .dataframe tbody tr th:only-of-type {\n",
       "        vertical-align: middle;\n",
       "    }\n",
       "\n",
       "    .dataframe tbody tr th {\n",
       "        vertical-align: top;\n",
       "    }\n",
       "\n",
       "    .dataframe thead th {\n",
       "        text-align: right;\n",
       "    }\n",
       "</style>\n",
       "<table border=\"1\" class=\"dataframe\">\n",
       "  <thead>\n",
       "    <tr style=\"text-align: right;\">\n",
       "      <th></th>\n",
       "      <th>event.time</th>\n",
       "      <th>event.name</th>\n",
       "      <th>user.id</th>\n",
       "    </tr>\n",
       "  </thead>\n",
       "  <tbody>\n",
       "    <tr>\n",
       "      <th>0</th>\n",
       "      <td>2019-10-07 00:00:00.431357</td>\n",
       "      <td>advert_open</td>\n",
       "      <td>020292ab-89bc-4156-9acf-68bc2783f894</td>\n",
       "    </tr>\n",
       "    <tr>\n",
       "      <th>1</th>\n",
       "      <td>2019-10-07 00:00:01.236320</td>\n",
       "      <td>tips_show</td>\n",
       "      <td>020292ab-89bc-4156-9acf-68bc2783f894</td>\n",
       "    </tr>\n",
       "    <tr>\n",
       "      <th>2</th>\n",
       "      <td>2019-10-07 00:00:02.245341</td>\n",
       "      <td>tips_show</td>\n",
       "      <td>cf7eda61-9349-469f-ac27-e5b6f5ec475c</td>\n",
       "    </tr>\n",
       "    <tr>\n",
       "      <th>3</th>\n",
       "      <td>2019-10-07 00:00:07.039334</td>\n",
       "      <td>tips_show</td>\n",
       "      <td>020292ab-89bc-4156-9acf-68bc2783f894</td>\n",
       "    </tr>\n",
       "    <tr>\n",
       "      <th>4</th>\n",
       "      <td>2019-10-07 00:00:56.319813</td>\n",
       "      <td>advert_open</td>\n",
       "      <td>cf7eda61-9349-469f-ac27-e5b6f5ec475c</td>\n",
       "    </tr>\n",
       "    <tr>\n",
       "      <th>...</th>\n",
       "      <td>...</td>\n",
       "      <td>...</td>\n",
       "      <td>...</td>\n",
       "    </tr>\n",
       "    <tr>\n",
       "      <th>74192</th>\n",
       "      <td>2019-11-03 23:53:29.534986</td>\n",
       "      <td>tips_show</td>\n",
       "      <td>28fccdf4-7b9e-42f5-bc73-439a265f20e9</td>\n",
       "    </tr>\n",
       "    <tr>\n",
       "      <th>74193</th>\n",
       "      <td>2019-11-03 23:54:00.407086</td>\n",
       "      <td>tips_show</td>\n",
       "      <td>28fccdf4-7b9e-42f5-bc73-439a265f20e9</td>\n",
       "    </tr>\n",
       "    <tr>\n",
       "      <th>74194</th>\n",
       "      <td>2019-11-03 23:56:57.041825</td>\n",
       "      <td>search_1</td>\n",
       "      <td>20850c8f-4135-4059-b13b-198d3ac59902</td>\n",
       "    </tr>\n",
       "    <tr>\n",
       "      <th>74195</th>\n",
       "      <td>2019-11-03 23:57:06.232189</td>\n",
       "      <td>tips_show</td>\n",
       "      <td>28fccdf4-7b9e-42f5-bc73-439a265f20e9</td>\n",
       "    </tr>\n",
       "    <tr>\n",
       "      <th>74196</th>\n",
       "      <td>2019-11-03 23:58:12.532487</td>\n",
       "      <td>tips_show</td>\n",
       "      <td>28fccdf4-7b9e-42f5-bc73-439a265f20e9</td>\n",
       "    </tr>\n",
       "  </tbody>\n",
       "</table>\n",
       "<p>74197 rows × 3 columns</p>\n",
       "</div>"
      ],
      "text/plain": [
       "                       event.time   event.name  \\\n",
       "0      2019-10-07 00:00:00.431357  advert_open   \n",
       "1      2019-10-07 00:00:01.236320    tips_show   \n",
       "2      2019-10-07 00:00:02.245341    tips_show   \n",
       "3      2019-10-07 00:00:07.039334    tips_show   \n",
       "4      2019-10-07 00:00:56.319813  advert_open   \n",
       "...                           ...          ...   \n",
       "74192  2019-11-03 23:53:29.534986    tips_show   \n",
       "74193  2019-11-03 23:54:00.407086    tips_show   \n",
       "74194  2019-11-03 23:56:57.041825     search_1   \n",
       "74195  2019-11-03 23:57:06.232189    tips_show   \n",
       "74196  2019-11-03 23:58:12.532487    tips_show   \n",
       "\n",
       "                                    user.id  \n",
       "0      020292ab-89bc-4156-9acf-68bc2783f894  \n",
       "1      020292ab-89bc-4156-9acf-68bc2783f894  \n",
       "2      cf7eda61-9349-469f-ac27-e5b6f5ec475c  \n",
       "3      020292ab-89bc-4156-9acf-68bc2783f894  \n",
       "4      cf7eda61-9349-469f-ac27-e5b6f5ec475c  \n",
       "...                                     ...  \n",
       "74192  28fccdf4-7b9e-42f5-bc73-439a265f20e9  \n",
       "74193  28fccdf4-7b9e-42f5-bc73-439a265f20e9  \n",
       "74194  20850c8f-4135-4059-b13b-198d3ac59902  \n",
       "74195  28fccdf4-7b9e-42f5-bc73-439a265f20e9  \n",
       "74196  28fccdf4-7b9e-42f5-bc73-439a265f20e9  \n",
       "\n",
       "[74197 rows x 3 columns]"
      ]
     },
     "execution_count": 3,
     "metadata": {},
     "output_type": "execute_result"
    }
   ],
   "source": [
    "mobile_dataset"
   ]
  },
  {
   "cell_type": "code",
   "execution_count": 4,
   "metadata": {},
   "outputs": [],
   "source": [
    "try:\n",
    "    mobile_sourсes = pd.read_csv('https://code.s3.yandex.net/datasets/mobile_soures.csv')   \n",
    "    # альтернативный путь к данным для работы с других устройств    \n",
    "except:\n",
    "    mobile_sourсes = pd.read_csv('mobile_sourсes.csv')  # загружаем локальный файл с источниками установки приложений"
   ]
  },
  {
   "cell_type": "code",
   "execution_count": 5,
   "metadata": {},
   "outputs": [
    {
     "data": {
      "text/html": [
       "<div>\n",
       "<style scoped>\n",
       "    .dataframe tbody tr th:only-of-type {\n",
       "        vertical-align: middle;\n",
       "    }\n",
       "\n",
       "    .dataframe tbody tr th {\n",
       "        vertical-align: top;\n",
       "    }\n",
       "\n",
       "    .dataframe thead th {\n",
       "        text-align: right;\n",
       "    }\n",
       "</style>\n",
       "<table border=\"1\" class=\"dataframe\">\n",
       "  <thead>\n",
       "    <tr style=\"text-align: right;\">\n",
       "      <th></th>\n",
       "      <th>userId</th>\n",
       "      <th>source</th>\n",
       "    </tr>\n",
       "  </thead>\n",
       "  <tbody>\n",
       "    <tr>\n",
       "      <th>0</th>\n",
       "      <td>020292ab-89bc-4156-9acf-68bc2783f894</td>\n",
       "      <td>other</td>\n",
       "    </tr>\n",
       "    <tr>\n",
       "      <th>1</th>\n",
       "      <td>cf7eda61-9349-469f-ac27-e5b6f5ec475c</td>\n",
       "      <td>yandex</td>\n",
       "    </tr>\n",
       "    <tr>\n",
       "      <th>2</th>\n",
       "      <td>8c356c42-3ba9-4cb6-80b8-3f868d0192c3</td>\n",
       "      <td>yandex</td>\n",
       "    </tr>\n",
       "    <tr>\n",
       "      <th>3</th>\n",
       "      <td>d9b06b47-0f36-419b-bbb0-3533e582a6cb</td>\n",
       "      <td>other</td>\n",
       "    </tr>\n",
       "    <tr>\n",
       "      <th>4</th>\n",
       "      <td>f32e1e2a-3027-4693-b793-b7b3ff274439</td>\n",
       "      <td>google</td>\n",
       "    </tr>\n",
       "    <tr>\n",
       "      <th>...</th>\n",
       "      <td>...</td>\n",
       "      <td>...</td>\n",
       "    </tr>\n",
       "    <tr>\n",
       "      <th>4288</th>\n",
       "      <td>b86fe56e-f2de-4f8a-b192-cd89a37ecd41</td>\n",
       "      <td>yandex</td>\n",
       "    </tr>\n",
       "    <tr>\n",
       "      <th>4289</th>\n",
       "      <td>424c0ae1-3ea3-4f1e-a814-6bac73e48ab1</td>\n",
       "      <td>yandex</td>\n",
       "    </tr>\n",
       "    <tr>\n",
       "      <th>4290</th>\n",
       "      <td>437a4cd4-9ba9-457f-8614-d142bc48fbeb</td>\n",
       "      <td>yandex</td>\n",
       "    </tr>\n",
       "    <tr>\n",
       "      <th>4291</th>\n",
       "      <td>c10055f0-0b47-477a-869e-d391b31fdf8f</td>\n",
       "      <td>yandex</td>\n",
       "    </tr>\n",
       "    <tr>\n",
       "      <th>4292</th>\n",
       "      <td>d157bffc-264d-4464-8220-1cc0c42f43a9</td>\n",
       "      <td>google</td>\n",
       "    </tr>\n",
       "  </tbody>\n",
       "</table>\n",
       "<p>4293 rows × 2 columns</p>\n",
       "</div>"
      ],
      "text/plain": [
       "                                    userId  source\n",
       "0     020292ab-89bc-4156-9acf-68bc2783f894   other\n",
       "1     cf7eda61-9349-469f-ac27-e5b6f5ec475c  yandex\n",
       "2     8c356c42-3ba9-4cb6-80b8-3f868d0192c3  yandex\n",
       "3     d9b06b47-0f36-419b-bbb0-3533e582a6cb   other\n",
       "4     f32e1e2a-3027-4693-b793-b7b3ff274439  google\n",
       "...                                    ...     ...\n",
       "4288  b86fe56e-f2de-4f8a-b192-cd89a37ecd41  yandex\n",
       "4289  424c0ae1-3ea3-4f1e-a814-6bac73e48ab1  yandex\n",
       "4290  437a4cd4-9ba9-457f-8614-d142bc48fbeb  yandex\n",
       "4291  c10055f0-0b47-477a-869e-d391b31fdf8f  yandex\n",
       "4292  d157bffc-264d-4464-8220-1cc0c42f43a9  google\n",
       "\n",
       "[4293 rows x 2 columns]"
      ]
     },
     "execution_count": 5,
     "metadata": {},
     "output_type": "execute_result"
    }
   ],
   "source": [
    "mobile_sourсes"
   ]
  },
  {
   "cell_type": "markdown",
   "metadata": {},
   "source": [
    "Загружаем базы и смотрим на полученные данные:"
   ]
  },
  {
   "cell_type": "code",
   "execution_count": 6,
   "metadata": {},
   "outputs": [
    {
     "name": "stdout",
     "output_type": "stream",
     "text": [
      "<class 'pandas.core.frame.DataFrame'>\n",
      "RangeIndex: 74197 entries, 0 to 74196\n",
      "Data columns (total 3 columns):\n",
      " #   Column      Non-Null Count  Dtype \n",
      "---  ------      --------------  ----- \n",
      " 0   event.time  74197 non-null  object\n",
      " 1   event.name  74197 non-null  object\n",
      " 2   user.id     74197 non-null  object\n",
      "dtypes: object(3)\n",
      "memory usage: 1.7+ MB\n"
     ]
    }
   ],
   "source": [
    "mobile_dataset.info()"
   ]
  },
  {
   "cell_type": "code",
   "execution_count": 7,
   "metadata": {
    "scrolled": true
   },
   "outputs": [
    {
     "name": "stdout",
     "output_type": "stream",
     "text": [
      "<class 'pandas.core.frame.DataFrame'>\n",
      "RangeIndex: 4293 entries, 0 to 4292\n",
      "Data columns (total 2 columns):\n",
      " #   Column  Non-Null Count  Dtype \n",
      "---  ------  --------------  ----- \n",
      " 0   userId  4293 non-null   object\n",
      " 1   source  4293 non-null   object\n",
      "dtypes: object(2)\n",
      "memory usage: 67.2+ KB\n"
     ]
    }
   ],
   "source": [
    "mobile_sourсes.info()"
   ]
  },
  {
   "cell_type": "markdown",
   "metadata": {},
   "source": [
    "В базах мы видим информацию о произведенных действиях пользователя в приложении и источник, через который пользователь установил приложение. У обеих баз общий идентификатор клиентов. Создадим общий датасет data, в который смержим информацию из двух файлов. Для этого сразу переименуем названия столбцов."
   ]
  },
  {
   "cell_type": "code",
   "execution_count": 8,
   "metadata": {
    "scrolled": true
   },
   "outputs": [
    {
     "name": "stdout",
     "output_type": "stream",
     "text": [
      "<class 'pandas.core.frame.DataFrame'>\n",
      "RangeIndex: 74197 entries, 0 to 74196\n",
      "Data columns (total 3 columns):\n",
      " #   Column      Non-Null Count  Dtype \n",
      "---  ------      --------------  ----- \n",
      " 0   event_time  74197 non-null  object\n",
      " 1   event_name  74197 non-null  object\n",
      " 2   user_id     74197 non-null  object\n",
      "dtypes: object(3)\n",
      "memory usage: 1.7+ MB\n"
     ]
    }
   ],
   "source": [
    "data = mobile_dataset \n",
    "data.columns = ['event_time', 'event_name', 'user_id']\n",
    "data.info()"
   ]
  },
  {
   "cell_type": "code",
   "execution_count": 9,
   "metadata": {},
   "outputs": [
    {
     "name": "stdout",
     "output_type": "stream",
     "text": [
      "<class 'pandas.core.frame.DataFrame'>\n",
      "RangeIndex: 4293 entries, 0 to 4292\n",
      "Data columns (total 2 columns):\n",
      " #   Column   Non-Null Count  Dtype \n",
      "---  ------   --------------  ----- \n",
      " 0   user_id  4293 non-null   object\n",
      " 1   channel  4293 non-null   object\n",
      "dtypes: object(2)\n",
      "memory usage: 67.2+ KB\n"
     ]
    }
   ],
   "source": [
    "mobile_sourсes.columns = ['user_id', 'channel']  # переименовываем столбцы и в файле с источниками установки\n",
    "mobile_sourсes.info()"
   ]
  },
  {
   "cell_type": "code",
   "execution_count": 10,
   "metadata": {
    "scrolled": true
   },
   "outputs": [],
   "source": [
    "# объединяем базы по user_id   \n",
    "data = data.merge(mobile_sourсes, on=['user_id'], how='left')"
   ]
  },
  {
   "cell_type": "markdown",
   "metadata": {},
   "source": [
    "**Вывод 1.1:** загружены базы для анализа, объединенные по user_id, колонки переименованы в удобные для анализа."
   ]
  },
  {
   "cell_type": "markdown",
   "metadata": {},
   "source": [
    "##    1.2. Оценка корректности заполненности базы, наличия пропусков/дубликатов и явных аномалий"
   ]
  },
  {
   "cell_type": "markdown",
   "metadata": {},
   "source": [
    "Для первичного анализа полученного общего датасета применим функцию первичной обработки"
   ]
  },
  {
   "cell_type": "code",
   "execution_count": 11,
   "metadata": {},
   "outputs": [],
   "source": [
    "# определим функцию, проверяющую основные параментры датасета\n",
    "\n",
    "def initial_analysis(file):    \n",
    "    print('Общая информация о датасете:')\n",
    "    display(file.info())\n",
    "    print ('-----------------------------')\n",
    "    print('Первые 5 строчек датасета:')\n",
    "    display(file.head(5))\n",
    "    print ('-----------------------------')\n",
    "    print('Количество пропусков в датасете:')    \n",
    "    display(data.isna().sum())\n",
    "    print ('-----------------------------')\n",
    "    print('Количество явных дубликатов в датасете:')    \n",
    "    display(data.duplicated().sum())"
   ]
  },
  {
   "cell_type": "code",
   "execution_count": 12,
   "metadata": {
    "scrolled": false
   },
   "outputs": [
    {
     "name": "stdout",
     "output_type": "stream",
     "text": [
      "Общая информация о датасете:\n",
      "<class 'pandas.core.frame.DataFrame'>\n",
      "Int64Index: 74197 entries, 0 to 74196\n",
      "Data columns (total 4 columns):\n",
      " #   Column      Non-Null Count  Dtype \n",
      "---  ------      --------------  ----- \n",
      " 0   event_time  74197 non-null  object\n",
      " 1   event_name  74197 non-null  object\n",
      " 2   user_id     74197 non-null  object\n",
      " 3   channel     74197 non-null  object\n",
      "dtypes: object(4)\n",
      "memory usage: 2.8+ MB\n"
     ]
    },
    {
     "data": {
      "text/plain": [
       "None"
      ]
     },
     "metadata": {},
     "output_type": "display_data"
    },
    {
     "name": "stdout",
     "output_type": "stream",
     "text": [
      "-----------------------------\n",
      "Первые 5 строчек датасета:\n"
     ]
    },
    {
     "data": {
      "text/html": [
       "<div>\n",
       "<style scoped>\n",
       "    .dataframe tbody tr th:only-of-type {\n",
       "        vertical-align: middle;\n",
       "    }\n",
       "\n",
       "    .dataframe tbody tr th {\n",
       "        vertical-align: top;\n",
       "    }\n",
       "\n",
       "    .dataframe thead th {\n",
       "        text-align: right;\n",
       "    }\n",
       "</style>\n",
       "<table border=\"1\" class=\"dataframe\">\n",
       "  <thead>\n",
       "    <tr style=\"text-align: right;\">\n",
       "      <th></th>\n",
       "      <th>event_time</th>\n",
       "      <th>event_name</th>\n",
       "      <th>user_id</th>\n",
       "      <th>channel</th>\n",
       "    </tr>\n",
       "  </thead>\n",
       "  <tbody>\n",
       "    <tr>\n",
       "      <th>0</th>\n",
       "      <td>2019-10-07 00:00:00.431357</td>\n",
       "      <td>advert_open</td>\n",
       "      <td>020292ab-89bc-4156-9acf-68bc2783f894</td>\n",
       "      <td>other</td>\n",
       "    </tr>\n",
       "    <tr>\n",
       "      <th>1</th>\n",
       "      <td>2019-10-07 00:00:01.236320</td>\n",
       "      <td>tips_show</td>\n",
       "      <td>020292ab-89bc-4156-9acf-68bc2783f894</td>\n",
       "      <td>other</td>\n",
       "    </tr>\n",
       "    <tr>\n",
       "      <th>2</th>\n",
       "      <td>2019-10-07 00:00:02.245341</td>\n",
       "      <td>tips_show</td>\n",
       "      <td>cf7eda61-9349-469f-ac27-e5b6f5ec475c</td>\n",
       "      <td>yandex</td>\n",
       "    </tr>\n",
       "    <tr>\n",
       "      <th>3</th>\n",
       "      <td>2019-10-07 00:00:07.039334</td>\n",
       "      <td>tips_show</td>\n",
       "      <td>020292ab-89bc-4156-9acf-68bc2783f894</td>\n",
       "      <td>other</td>\n",
       "    </tr>\n",
       "    <tr>\n",
       "      <th>4</th>\n",
       "      <td>2019-10-07 00:00:56.319813</td>\n",
       "      <td>advert_open</td>\n",
       "      <td>cf7eda61-9349-469f-ac27-e5b6f5ec475c</td>\n",
       "      <td>yandex</td>\n",
       "    </tr>\n",
       "  </tbody>\n",
       "</table>\n",
       "</div>"
      ],
      "text/plain": [
       "                   event_time   event_name  \\\n",
       "0  2019-10-07 00:00:00.431357  advert_open   \n",
       "1  2019-10-07 00:00:01.236320    tips_show   \n",
       "2  2019-10-07 00:00:02.245341    tips_show   \n",
       "3  2019-10-07 00:00:07.039334    tips_show   \n",
       "4  2019-10-07 00:00:56.319813  advert_open   \n",
       "\n",
       "                                user_id channel  \n",
       "0  020292ab-89bc-4156-9acf-68bc2783f894   other  \n",
       "1  020292ab-89bc-4156-9acf-68bc2783f894   other  \n",
       "2  cf7eda61-9349-469f-ac27-e5b6f5ec475c  yandex  \n",
       "3  020292ab-89bc-4156-9acf-68bc2783f894   other  \n",
       "4  cf7eda61-9349-469f-ac27-e5b6f5ec475c  yandex  "
      ]
     },
     "metadata": {},
     "output_type": "display_data"
    },
    {
     "name": "stdout",
     "output_type": "stream",
     "text": [
      "-----------------------------\n",
      "Количество пропусков в датасете:\n"
     ]
    },
    {
     "data": {
      "text/plain": [
       "event_time    0\n",
       "event_name    0\n",
       "user_id       0\n",
       "channel       0\n",
       "dtype: int64"
      ]
     },
     "metadata": {},
     "output_type": "display_data"
    },
    {
     "name": "stdout",
     "output_type": "stream",
     "text": [
      "-----------------------------\n",
      "Количество явных дубликатов в датасете:\n"
     ]
    },
    {
     "data": {
      "text/plain": [
       "0"
      ]
     },
     "metadata": {},
     "output_type": "display_data"
    }
   ],
   "source": [
    "initial_analysis(data) # и применим к датасету "
   ]
  },
  {
   "cell_type": "markdown",
   "metadata": {},
   "source": [
    "Данные в поле event_time необходимо перевести в формат datetime. Для удобства дальнейшего анализа сразу же создадим поле date_event,  куда вынесем дату события (без точного времени)"
   ]
  },
  {
   "cell_type": "code",
   "execution_count": 13,
   "metadata": {},
   "outputs": [],
   "source": [
    "data['event_date'] = data['event_time'].str.split(' ', expand = True)[0]"
   ]
  },
  {
   "cell_type": "code",
   "execution_count": 14,
   "metadata": {
    "scrolled": true
   },
   "outputs": [
    {
     "name": "stdout",
     "output_type": "stream",
     "text": [
      "<class 'pandas.core.frame.DataFrame'>\n",
      "Int64Index: 74197 entries, 0 to 74196\n",
      "Data columns (total 5 columns):\n",
      " #   Column      Non-Null Count  Dtype \n",
      "---  ------      --------------  ----- \n",
      " 0   event_time  74197 non-null  object\n",
      " 1   event_name  74197 non-null  object\n",
      " 2   user_id     74197 non-null  object\n",
      " 3   channel     74197 non-null  object\n",
      " 4   event_date  74197 non-null  object\n",
      "dtypes: object(5)\n",
      "memory usage: 3.4+ MB\n"
     ]
    }
   ],
   "source": [
    "data.info()"
   ]
  },
  {
   "cell_type": "code",
   "execution_count": 15,
   "metadata": {},
   "outputs": [
    {
     "data": {
      "text/html": [
       "<div>\n",
       "<style scoped>\n",
       "    .dataframe tbody tr th:only-of-type {\n",
       "        vertical-align: middle;\n",
       "    }\n",
       "\n",
       "    .dataframe tbody tr th {\n",
       "        vertical-align: top;\n",
       "    }\n",
       "\n",
       "    .dataframe thead th {\n",
       "        text-align: right;\n",
       "    }\n",
       "</style>\n",
       "<table border=\"1\" class=\"dataframe\">\n",
       "  <thead>\n",
       "    <tr style=\"text-align: right;\">\n",
       "      <th></th>\n",
       "      <th>event_time</th>\n",
       "      <th>event_name</th>\n",
       "      <th>user_id</th>\n",
       "      <th>channel</th>\n",
       "      <th>event_date</th>\n",
       "    </tr>\n",
       "  </thead>\n",
       "  <tbody>\n",
       "    <tr>\n",
       "      <th>44256</th>\n",
       "      <td>2019-10-24 13:22:36.095149</td>\n",
       "      <td>contacts_show</td>\n",
       "      <td>a3f24168-018f-49ee-8e1f-cc9c528d5aa4</td>\n",
       "      <td>google</td>\n",
       "      <td>2019-10-24</td>\n",
       "    </tr>\n",
       "    <tr>\n",
       "      <th>62260</th>\n",
       "      <td>2019-10-30 14:15:33.174461</td>\n",
       "      <td>search_1</td>\n",
       "      <td>25069cad-0d00-48cb-a627-0871a877307e</td>\n",
       "      <td>google</td>\n",
       "      <td>2019-10-30</td>\n",
       "    </tr>\n",
       "    <tr>\n",
       "      <th>61948</th>\n",
       "      <td>2019-10-30 12:42:37.506721</td>\n",
       "      <td>advert_open</td>\n",
       "      <td>a5886b3e-6ed1-4c47-ac28-754ff8f429ce</td>\n",
       "      <td>yandex</td>\n",
       "      <td>2019-10-30</td>\n",
       "    </tr>\n",
       "    <tr>\n",
       "      <th>43567</th>\n",
       "      <td>2019-10-24 09:45:44.781763</td>\n",
       "      <td>photos_show</td>\n",
       "      <td>97d66991-e416-48be-a26d-27f6094d268e</td>\n",
       "      <td>yandex</td>\n",
       "      <td>2019-10-24</td>\n",
       "    </tr>\n",
       "    <tr>\n",
       "      <th>21830</th>\n",
       "      <td>2019-10-16 08:55:16.148890</td>\n",
       "      <td>tips_show</td>\n",
       "      <td>4328851e-3876-4bfd-9e4f-c5c348f2ba7b</td>\n",
       "      <td>yandex</td>\n",
       "      <td>2019-10-16</td>\n",
       "    </tr>\n",
       "    <tr>\n",
       "      <th>41880</th>\n",
       "      <td>2019-10-23 17:06:43.974723</td>\n",
       "      <td>advert_open</td>\n",
       "      <td>543199e1-9439-4ad5-9752-d41f8925d446</td>\n",
       "      <td>yandex</td>\n",
       "      <td>2019-10-23</td>\n",
       "    </tr>\n",
       "    <tr>\n",
       "      <th>60264</th>\n",
       "      <td>2019-10-29 19:31:08.082740</td>\n",
       "      <td>map</td>\n",
       "      <td>07d0c16e-0db4-4ba2-b9f6-244d3f17b5fb</td>\n",
       "      <td>google</td>\n",
       "      <td>2019-10-29</td>\n",
       "    </tr>\n",
       "    <tr>\n",
       "      <th>9076</th>\n",
       "      <td>2019-10-10 20:17:39.145465</td>\n",
       "      <td>photos_show</td>\n",
       "      <td>27a94447-2ca7-473f-b415-6bfeb48d131a</td>\n",
       "      <td>other</td>\n",
       "      <td>2019-10-10</td>\n",
       "    </tr>\n",
       "    <tr>\n",
       "      <th>27208</th>\n",
       "      <td>2019-10-18 08:34:40.448127</td>\n",
       "      <td>tips_show</td>\n",
       "      <td>8208b9fd-1a45-4e49-a6a5-2600dadd2958</td>\n",
       "      <td>yandex</td>\n",
       "      <td>2019-10-18</td>\n",
       "    </tr>\n",
       "    <tr>\n",
       "      <th>44314</th>\n",
       "      <td>2019-10-24 13:50:24.180818</td>\n",
       "      <td>photos_show</td>\n",
       "      <td>269e6d1d-5300-4966-8289-77274c30bd9c</td>\n",
       "      <td>google</td>\n",
       "      <td>2019-10-24</td>\n",
       "    </tr>\n",
       "  </tbody>\n",
       "</table>\n",
       "</div>"
      ],
      "text/plain": [
       "                       event_time     event_name  \\\n",
       "44256  2019-10-24 13:22:36.095149  contacts_show   \n",
       "62260  2019-10-30 14:15:33.174461       search_1   \n",
       "61948  2019-10-30 12:42:37.506721    advert_open   \n",
       "43567  2019-10-24 09:45:44.781763    photos_show   \n",
       "21830  2019-10-16 08:55:16.148890      tips_show   \n",
       "41880  2019-10-23 17:06:43.974723    advert_open   \n",
       "60264  2019-10-29 19:31:08.082740            map   \n",
       "9076   2019-10-10 20:17:39.145465    photos_show   \n",
       "27208  2019-10-18 08:34:40.448127      tips_show   \n",
       "44314  2019-10-24 13:50:24.180818    photos_show   \n",
       "\n",
       "                                    user_id channel  event_date  \n",
       "44256  a3f24168-018f-49ee-8e1f-cc9c528d5aa4  google  2019-10-24  \n",
       "62260  25069cad-0d00-48cb-a627-0871a877307e  google  2019-10-30  \n",
       "61948  a5886b3e-6ed1-4c47-ac28-754ff8f429ce  yandex  2019-10-30  \n",
       "43567  97d66991-e416-48be-a26d-27f6094d268e  yandex  2019-10-24  \n",
       "21830  4328851e-3876-4bfd-9e4f-c5c348f2ba7b  yandex  2019-10-16  \n",
       "41880  543199e1-9439-4ad5-9752-d41f8925d446  yandex  2019-10-23  \n",
       "60264  07d0c16e-0db4-4ba2-b9f6-244d3f17b5fb  google  2019-10-29  \n",
       "9076   27a94447-2ca7-473f-b415-6bfeb48d131a   other  2019-10-10  \n",
       "27208  8208b9fd-1a45-4e49-a6a5-2600dadd2958  yandex  2019-10-18  \n",
       "44314  269e6d1d-5300-4966-8289-77274c30bd9c  google  2019-10-24  "
      ]
     },
     "execution_count": 15,
     "metadata": {},
     "output_type": "execute_result"
    }
   ],
   "source": [
    "data.sample(10)"
   ]
  },
  {
   "cell_type": "code",
   "execution_count": 16,
   "metadata": {
    "scrolled": true
   },
   "outputs": [],
   "source": [
    "data['event_time']= pd.to_datetime(data['event_time'])  # переводим в формат datetime\n",
    "data['event_date'] = pd.to_datetime(data['event_date'])"
   ]
  },
  {
   "cell_type": "code",
   "execution_count": 17,
   "metadata": {},
   "outputs": [
    {
     "name": "stdout",
     "output_type": "stream",
     "text": [
      "<class 'pandas.core.frame.DataFrame'>\n",
      "Int64Index: 74197 entries, 0 to 74196\n",
      "Data columns (total 5 columns):\n",
      " #   Column      Non-Null Count  Dtype         \n",
      "---  ------      --------------  -----         \n",
      " 0   event_time  74197 non-null  datetime64[ns]\n",
      " 1   event_name  74197 non-null  object        \n",
      " 2   user_id     74197 non-null  object        \n",
      " 3   channel     74197 non-null  object        \n",
      " 4   event_date  74197 non-null  datetime64[ns]\n",
      "dtypes: datetime64[ns](2), object(3)\n",
      "memory usage: 3.4+ MB\n"
     ]
    },
    {
     "data": {
      "text/html": [
       "<div>\n",
       "<style scoped>\n",
       "    .dataframe tbody tr th:only-of-type {\n",
       "        vertical-align: middle;\n",
       "    }\n",
       "\n",
       "    .dataframe tbody tr th {\n",
       "        vertical-align: top;\n",
       "    }\n",
       "\n",
       "    .dataframe thead th {\n",
       "        text-align: right;\n",
       "    }\n",
       "</style>\n",
       "<table border=\"1\" class=\"dataframe\">\n",
       "  <thead>\n",
       "    <tr style=\"text-align: right;\">\n",
       "      <th></th>\n",
       "      <th>event_time</th>\n",
       "      <th>event_name</th>\n",
       "      <th>user_id</th>\n",
       "      <th>channel</th>\n",
       "      <th>event_date</th>\n",
       "    </tr>\n",
       "  </thead>\n",
       "  <tbody>\n",
       "    <tr>\n",
       "      <th>34755</th>\n",
       "      <td>2019-10-21 11:54:26.896118</td>\n",
       "      <td>tips_show</td>\n",
       "      <td>881152bf-c49d-4eed-923e-3c424b1a327f</td>\n",
       "      <td>other</td>\n",
       "      <td>2019-10-21</td>\n",
       "    </tr>\n",
       "    <tr>\n",
       "      <th>45095</th>\n",
       "      <td>2019-10-24 17:28:33.939550</td>\n",
       "      <td>photos_show</td>\n",
       "      <td>62a5375a-eb94-4ed2-90ef-3d79d8e0c359</td>\n",
       "      <td>other</td>\n",
       "      <td>2019-10-24</td>\n",
       "    </tr>\n",
       "    <tr>\n",
       "      <th>18483</th>\n",
       "      <td>2019-10-14 21:45:32.963086</td>\n",
       "      <td>photos_show</td>\n",
       "      <td>81ce7cc8-ee16-42db-b5f0-6aa086426bd4</td>\n",
       "      <td>yandex</td>\n",
       "      <td>2019-10-14</td>\n",
       "    </tr>\n",
       "    <tr>\n",
       "      <th>62545</th>\n",
       "      <td>2019-10-30 15:37:33.619965</td>\n",
       "      <td>tips_show</td>\n",
       "      <td>5e35b8bf-1120-4938-9b1b-e90911b045b0</td>\n",
       "      <td>other</td>\n",
       "      <td>2019-10-30</td>\n",
       "    </tr>\n",
       "    <tr>\n",
       "      <th>22881</th>\n",
       "      <td>2019-10-16 14:36:26.050125</td>\n",
       "      <td>search_5</td>\n",
       "      <td>8e6947e2-9c8a-47f0-bbbe-b7eef1be742f</td>\n",
       "      <td>other</td>\n",
       "      <td>2019-10-16</td>\n",
       "    </tr>\n",
       "    <tr>\n",
       "      <th>17672</th>\n",
       "      <td>2019-10-14 16:44:55.532635</td>\n",
       "      <td>photos_show</td>\n",
       "      <td>24ac2305-db66-43bd-805d-3901bc994e85</td>\n",
       "      <td>yandex</td>\n",
       "      <td>2019-10-14</td>\n",
       "    </tr>\n",
       "    <tr>\n",
       "      <th>42829</th>\n",
       "      <td>2019-10-23 21:41:30.104139</td>\n",
       "      <td>map</td>\n",
       "      <td>e5773d92-9b5e-437d-bd47-c16ed5cb87b0</td>\n",
       "      <td>other</td>\n",
       "      <td>2019-10-23</td>\n",
       "    </tr>\n",
       "    <tr>\n",
       "      <th>19880</th>\n",
       "      <td>2019-10-15 14:31:48.113996</td>\n",
       "      <td>tips_show</td>\n",
       "      <td>fdd8c58d-04ca-4125-9c34-e93fb79add17</td>\n",
       "      <td>other</td>\n",
       "      <td>2019-10-15</td>\n",
       "    </tr>\n",
       "    <tr>\n",
       "      <th>69312</th>\n",
       "      <td>2019-11-01 22:13:24.789373</td>\n",
       "      <td>tips_show</td>\n",
       "      <td>7a4806d3-b727-43f7-9edc-d5068869d95d</td>\n",
       "      <td>yandex</td>\n",
       "      <td>2019-11-01</td>\n",
       "    </tr>\n",
       "    <tr>\n",
       "      <th>24865</th>\n",
       "      <td>2019-10-17 10:45:53.651708</td>\n",
       "      <td>tips_show</td>\n",
       "      <td>7e4ba7cd-1600-4fae-ad59-3524a51bed47</td>\n",
       "      <td>yandex</td>\n",
       "      <td>2019-10-17</td>\n",
       "    </tr>\n",
       "  </tbody>\n",
       "</table>\n",
       "</div>"
      ],
      "text/plain": [
       "                      event_time   event_name  \\\n",
       "34755 2019-10-21 11:54:26.896118    tips_show   \n",
       "45095 2019-10-24 17:28:33.939550  photos_show   \n",
       "18483 2019-10-14 21:45:32.963086  photos_show   \n",
       "62545 2019-10-30 15:37:33.619965    tips_show   \n",
       "22881 2019-10-16 14:36:26.050125     search_5   \n",
       "17672 2019-10-14 16:44:55.532635  photos_show   \n",
       "42829 2019-10-23 21:41:30.104139          map   \n",
       "19880 2019-10-15 14:31:48.113996    tips_show   \n",
       "69312 2019-11-01 22:13:24.789373    tips_show   \n",
       "24865 2019-10-17 10:45:53.651708    tips_show   \n",
       "\n",
       "                                    user_id channel event_date  \n",
       "34755  881152bf-c49d-4eed-923e-3c424b1a327f   other 2019-10-21  \n",
       "45095  62a5375a-eb94-4ed2-90ef-3d79d8e0c359   other 2019-10-24  \n",
       "18483  81ce7cc8-ee16-42db-b5f0-6aa086426bd4  yandex 2019-10-14  \n",
       "62545  5e35b8bf-1120-4938-9b1b-e90911b045b0   other 2019-10-30  \n",
       "22881  8e6947e2-9c8a-47f0-bbbe-b7eef1be742f   other 2019-10-16  \n",
       "17672  24ac2305-db66-43bd-805d-3901bc994e85  yandex 2019-10-14  \n",
       "42829  e5773d92-9b5e-437d-bd47-c16ed5cb87b0   other 2019-10-23  \n",
       "19880  fdd8c58d-04ca-4125-9c34-e93fb79add17   other 2019-10-15  \n",
       "69312  7a4806d3-b727-43f7-9edc-d5068869d95d  yandex 2019-11-01  \n",
       "24865  7e4ba7cd-1600-4fae-ad59-3524a51bed47  yandex 2019-10-17  "
      ]
     },
     "execution_count": 17,
     "metadata": {},
     "output_type": "execute_result"
    }
   ],
   "source": [
    "data.info()\n",
    "data.sample(10)"
   ]
  },
  {
   "cell_type": "code",
   "execution_count": 18,
   "metadata": {
    "scrolled": true
   },
   "outputs": [
    {
     "name": "stderr",
     "output_type": "stream",
     "text": [
      "/tmp/ipykernel_269/1514657936.py:1: FutureWarning: Treating datetime data as categorical rather than numeric in `.describe` is deprecated and will be removed in a future version of pandas. Specify `datetime_is_numeric=True` to silence this warning and adopt the future behavior now.\n",
      "  data.describe() # посмотрим описание базы\n",
      "/tmp/ipykernel_269/1514657936.py:1: FutureWarning: Treating datetime data as categorical rather than numeric in `.describe` is deprecated and will be removed in a future version of pandas. Specify `datetime_is_numeric=True` to silence this warning and adopt the future behavior now.\n",
      "  data.describe() # посмотрим описание базы\n"
     ]
    },
    {
     "data": {
      "text/html": [
       "<div>\n",
       "<style scoped>\n",
       "    .dataframe tbody tr th:only-of-type {\n",
       "        vertical-align: middle;\n",
       "    }\n",
       "\n",
       "    .dataframe tbody tr th {\n",
       "        vertical-align: top;\n",
       "    }\n",
       "\n",
       "    .dataframe thead th {\n",
       "        text-align: right;\n",
       "    }\n",
       "</style>\n",
       "<table border=\"1\" class=\"dataframe\">\n",
       "  <thead>\n",
       "    <tr style=\"text-align: right;\">\n",
       "      <th></th>\n",
       "      <th>event_time</th>\n",
       "      <th>event_name</th>\n",
       "      <th>user_id</th>\n",
       "      <th>channel</th>\n",
       "      <th>event_date</th>\n",
       "    </tr>\n",
       "  </thead>\n",
       "  <tbody>\n",
       "    <tr>\n",
       "      <th>count</th>\n",
       "      <td>74197</td>\n",
       "      <td>74197</td>\n",
       "      <td>74197</td>\n",
       "      <td>74197</td>\n",
       "      <td>74197</td>\n",
       "    </tr>\n",
       "    <tr>\n",
       "      <th>unique</th>\n",
       "      <td>74197</td>\n",
       "      <td>16</td>\n",
       "      <td>4293</td>\n",
       "      <td>3</td>\n",
       "      <td>28</td>\n",
       "    </tr>\n",
       "    <tr>\n",
       "      <th>top</th>\n",
       "      <td>2019-10-19 18:36:07.773802</td>\n",
       "      <td>tips_show</td>\n",
       "      <td>cb36854f-570a-41f4-baa8-36680b396370</td>\n",
       "      <td>yandex</td>\n",
       "      <td>2019-10-23 00:00:00</td>\n",
       "    </tr>\n",
       "    <tr>\n",
       "      <th>freq</th>\n",
       "      <td>1</td>\n",
       "      <td>40055</td>\n",
       "      <td>478</td>\n",
       "      <td>34286</td>\n",
       "      <td>3361</td>\n",
       "    </tr>\n",
       "    <tr>\n",
       "      <th>first</th>\n",
       "      <td>2019-10-07 00:00:00.431357</td>\n",
       "      <td>NaN</td>\n",
       "      <td>NaN</td>\n",
       "      <td>NaN</td>\n",
       "      <td>2019-10-07 00:00:00</td>\n",
       "    </tr>\n",
       "    <tr>\n",
       "      <th>last</th>\n",
       "      <td>2019-11-03 23:58:12.532487</td>\n",
       "      <td>NaN</td>\n",
       "      <td>NaN</td>\n",
       "      <td>NaN</td>\n",
       "      <td>2019-11-03 00:00:00</td>\n",
       "    </tr>\n",
       "  </tbody>\n",
       "</table>\n",
       "</div>"
      ],
      "text/plain": [
       "                        event_time event_name  \\\n",
       "count                        74197      74197   \n",
       "unique                       74197         16   \n",
       "top     2019-10-19 18:36:07.773802  tips_show   \n",
       "freq                             1      40055   \n",
       "first   2019-10-07 00:00:00.431357        NaN   \n",
       "last    2019-11-03 23:58:12.532487        NaN   \n",
       "\n",
       "                                     user_id channel           event_date  \n",
       "count                                  74197   74197                74197  \n",
       "unique                                  4293       3                   28  \n",
       "top     cb36854f-570a-41f4-baa8-36680b396370  yandex  2019-10-23 00:00:00  \n",
       "freq                                     478   34286                 3361  \n",
       "first                                    NaN     NaN  2019-10-07 00:00:00  \n",
       "last                                     NaN     NaN  2019-11-03 00:00:00  "
      ]
     },
     "execution_count": 18,
     "metadata": {},
     "output_type": "execute_result"
    }
   ],
   "source": [
    "data.describe() # посмотрим описание базы"
   ]
  },
  {
   "cell_type": "markdown",
   "metadata": {},
   "source": [
    "В нашей базе 4293 пользователя, которые суммарно совершили 74197 действий в течении 28 дней с 07.10.19 по 03.11.19. "
   ]
  },
  {
   "cell_type": "markdown",
   "metadata": {},
   "source": [
    "**Вывод 1.2:** были проведены первичные анализ и обработка базы данных, поля приведены к нужному типу данных. Было создано поле date_event для удобства дальнейшего анализа. Период анализа - 7.10-03.11.19, в базе 4293 пользователя, которые суммарно совершили 74197 действий."
   ]
  },
  {
   "cell_type": "markdown",
   "metadata": {},
   "source": [
    "## 1.3. Анализ уникальных значений в базе, поиск скрытых дубликатов"
   ]
  },
  {
   "cell_type": "code",
   "execution_count": 19,
   "metadata": {},
   "outputs": [
    {
     "data": {
      "text/plain": [
       "array(['other', 'yandex', 'google'], dtype=object)"
      ]
     },
     "execution_count": 19,
     "metadata": {},
     "output_type": "execute_result"
    }
   ],
   "source": [
    "data['channel'].unique()"
   ]
  },
  {
   "cell_type": "markdown",
   "metadata": {},
   "source": [
    "В каналах привлечения клиентов все значения выглядят логичными - google, yandex и другое."
   ]
  },
  {
   "cell_type": "code",
   "execution_count": 20,
   "metadata": {},
   "outputs": [
    {
     "data": {
      "text/plain": [
       "array(['advert_open', 'tips_show', 'map', 'contacts_show', 'search_4',\n",
       "       'search_5', 'tips_click', 'photos_show', 'search_1', 'search_2',\n",
       "       'search_3', 'favorites_add', 'contacts_call', 'search_6',\n",
       "       'search_7', 'show_contacts'], dtype=object)"
      ]
     },
     "execution_count": 20,
     "metadata": {},
     "output_type": "execute_result"
    }
   ],
   "source": [
    "data['event_name'].unique()"
   ]
  },
  {
   "cell_type": "markdown",
   "metadata": {},
   "source": [
    "В списке уникальных событий обращают на себя внимания различные действия поиска по сайту, возможно с добавлением фильтров. Объедиинм все search в одно действие.\n",
    "Обращают на себя внимание действия show_contacts и contacts_show - посмотрим на них внимательнее"
   ]
  },
  {
   "cell_type": "code",
   "execution_count": 21,
   "metadata": {},
   "outputs": [
    {
     "data": {
      "text/plain": [
       "4450"
      ]
     },
     "execution_count": 21,
     "metadata": {},
     "output_type": "execute_result"
    }
   ],
   "source": [
    "data.query('event_name == \"contacts_show\"')['event_name'].count()"
   ]
  },
  {
   "cell_type": "code",
   "execution_count": 22,
   "metadata": {},
   "outputs": [
    {
     "data": {
      "text/plain": [
       "79"
      ]
     },
     "execution_count": 22,
     "metadata": {},
     "output_type": "execute_result"
    }
   ],
   "source": [
    "data.query('event_name == \"show_contacts\"')['event_name'].count()"
   ]
  },
  {
   "cell_type": "code",
   "execution_count": 23,
   "metadata": {
    "scrolled": true
   },
   "outputs": [
    {
     "data": {
      "text/html": [
       "<div>\n",
       "<style scoped>\n",
       "    .dataframe tbody tr th:only-of-type {\n",
       "        vertical-align: middle;\n",
       "    }\n",
       "\n",
       "    .dataframe tbody tr th {\n",
       "        vertical-align: top;\n",
       "    }\n",
       "\n",
       "    .dataframe thead th {\n",
       "        text-align: right;\n",
       "    }\n",
       "</style>\n",
       "<table border=\"1\" class=\"dataframe\">\n",
       "  <thead>\n",
       "    <tr style=\"text-align: right;\">\n",
       "      <th></th>\n",
       "      <th>event_time</th>\n",
       "      <th>event_name</th>\n",
       "      <th>user_id</th>\n",
       "      <th>channel</th>\n",
       "      <th>event_date</th>\n",
       "    </tr>\n",
       "  </thead>\n",
       "  <tbody>\n",
       "    <tr>\n",
       "      <th>67551</th>\n",
       "      <td>2019-11-01 12:15:22.284862</td>\n",
       "      <td>show_contacts</td>\n",
       "      <td>e38cb669-7335-4d56-9de5-c8d5d2f13fd3</td>\n",
       "      <td>google</td>\n",
       "      <td>2019-11-01</td>\n",
       "    </tr>\n",
       "    <tr>\n",
       "      <th>49810</th>\n",
       "      <td>2019-10-26 14:00:04.851059</td>\n",
       "      <td>show_contacts</td>\n",
       "      <td>0f579ce9-7646-430a-91de-1d6d93e2a4d2</td>\n",
       "      <td>other</td>\n",
       "      <td>2019-10-26</td>\n",
       "    </tr>\n",
       "    <tr>\n",
       "      <th>67400</th>\n",
       "      <td>2019-11-01 11:31:58.583369</td>\n",
       "      <td>show_contacts</td>\n",
       "      <td>e38cb669-7335-4d56-9de5-c8d5d2f13fd3</td>\n",
       "      <td>google</td>\n",
       "      <td>2019-11-01</td>\n",
       "    </tr>\n",
       "    <tr>\n",
       "      <th>67371</th>\n",
       "      <td>2019-11-01 11:22:49.694214</td>\n",
       "      <td>show_contacts</td>\n",
       "      <td>e38cb669-7335-4d56-9de5-c8d5d2f13fd3</td>\n",
       "      <td>google</td>\n",
       "      <td>2019-11-01</td>\n",
       "    </tr>\n",
       "    <tr>\n",
       "      <th>67856</th>\n",
       "      <td>2019-11-01 13:41:19.558265</td>\n",
       "      <td>show_contacts</td>\n",
       "      <td>e38cb669-7335-4d56-9de5-c8d5d2f13fd3</td>\n",
       "      <td>google</td>\n",
       "      <td>2019-11-01</td>\n",
       "    </tr>\n",
       "    <tr>\n",
       "      <th>64851</th>\n",
       "      <td>2019-10-31 12:11:05.749300</td>\n",
       "      <td>show_contacts</td>\n",
       "      <td>f8502cbc-9322-46eb-bc9f-8f261a94c1a2</td>\n",
       "      <td>yandex</td>\n",
       "      <td>2019-10-31</td>\n",
       "    </tr>\n",
       "    <tr>\n",
       "      <th>67579</th>\n",
       "      <td>2019-11-01 12:19:59.146312</td>\n",
       "      <td>show_contacts</td>\n",
       "      <td>e38cb669-7335-4d56-9de5-c8d5d2f13fd3</td>\n",
       "      <td>google</td>\n",
       "      <td>2019-11-01</td>\n",
       "    </tr>\n",
       "    <tr>\n",
       "      <th>28590</th>\n",
       "      <td>2019-10-18 16:24:24.228978</td>\n",
       "      <td>show_contacts</td>\n",
       "      <td>df0abe1d-a5f3-4013-b588-6f015d431197</td>\n",
       "      <td>other</td>\n",
       "      <td>2019-10-18</td>\n",
       "    </tr>\n",
       "    <tr>\n",
       "      <th>67852</th>\n",
       "      <td>2019-11-01 13:40:06.197420</td>\n",
       "      <td>show_contacts</td>\n",
       "      <td>e38cb669-7335-4d56-9de5-c8d5d2f13fd3</td>\n",
       "      <td>google</td>\n",
       "      <td>2019-11-01</td>\n",
       "    </tr>\n",
       "    <tr>\n",
       "      <th>67704</th>\n",
       "      <td>2019-11-01 13:01:41.985856</td>\n",
       "      <td>show_contacts</td>\n",
       "      <td>e38cb669-7335-4d56-9de5-c8d5d2f13fd3</td>\n",
       "      <td>google</td>\n",
       "      <td>2019-11-01</td>\n",
       "    </tr>\n",
       "  </tbody>\n",
       "</table>\n",
       "</div>"
      ],
      "text/plain": [
       "                      event_time     event_name  \\\n",
       "67551 2019-11-01 12:15:22.284862  show_contacts   \n",
       "49810 2019-10-26 14:00:04.851059  show_contacts   \n",
       "67400 2019-11-01 11:31:58.583369  show_contacts   \n",
       "67371 2019-11-01 11:22:49.694214  show_contacts   \n",
       "67856 2019-11-01 13:41:19.558265  show_contacts   \n",
       "64851 2019-10-31 12:11:05.749300  show_contacts   \n",
       "67579 2019-11-01 12:19:59.146312  show_contacts   \n",
       "28590 2019-10-18 16:24:24.228978  show_contacts   \n",
       "67852 2019-11-01 13:40:06.197420  show_contacts   \n",
       "67704 2019-11-01 13:01:41.985856  show_contacts   \n",
       "\n",
       "                                    user_id channel event_date  \n",
       "67551  e38cb669-7335-4d56-9de5-c8d5d2f13fd3  google 2019-11-01  \n",
       "49810  0f579ce9-7646-430a-91de-1d6d93e2a4d2   other 2019-10-26  \n",
       "67400  e38cb669-7335-4d56-9de5-c8d5d2f13fd3  google 2019-11-01  \n",
       "67371  e38cb669-7335-4d56-9de5-c8d5d2f13fd3  google 2019-11-01  \n",
       "67856  e38cb669-7335-4d56-9de5-c8d5d2f13fd3  google 2019-11-01  \n",
       "64851  f8502cbc-9322-46eb-bc9f-8f261a94c1a2  yandex 2019-10-31  \n",
       "67579  e38cb669-7335-4d56-9de5-c8d5d2f13fd3  google 2019-11-01  \n",
       "28590  df0abe1d-a5f3-4013-b588-6f015d431197   other 2019-10-18  \n",
       "67852  e38cb669-7335-4d56-9de5-c8d5d2f13fd3  google 2019-11-01  \n",
       "67704  e38cb669-7335-4d56-9de5-c8d5d2f13fd3  google 2019-11-01  "
      ]
     },
     "execution_count": 23,
     "metadata": {},
     "output_type": "execute_result"
    }
   ],
   "source": [
    "data.query('event_name == \"show_contacts\"').sample(10)"
   ]
  },
  {
   "cell_type": "markdown",
   "metadata": {},
   "source": [
    "Судя по всему перед нами техническая ошибка, которую необходимо будет исправить при сборе информации о пользовательских действиях в будущем. Объединяем события под названием contacts_show и все поиски:"
   ]
  },
  {
   "cell_type": "code",
   "execution_count": 24,
   "metadata": {},
   "outputs": [],
   "source": [
    "data = data.apply(lambda x: x.replace({'show_contacts':'contacts_show', 'search_1': 'search', \\\n",
    "        'search_2': 'search', 'search_3': 'search', 'search_4': 'search', 'search_5': 'search', \\\n",
    "                                       'search_6': 'search', 'search_7': 'search',}, regex=True))"
   ]
  },
  {
   "cell_type": "code",
   "execution_count": 25,
   "metadata": {},
   "outputs": [
    {
     "data": {
      "text/plain": [
       "array(['advert_open', 'tips_show', 'map', 'contacts_show', 'search',\n",
       "       'tips_click', 'photos_show', 'favorites_add', 'contacts_call'],\n",
       "      dtype=object)"
      ]
     },
     "execution_count": 25,
     "metadata": {},
     "output_type": "execute_result"
    }
   ],
   "source": [
    "data['event_name'].unique()"
   ]
  },
  {
   "cell_type": "markdown",
   "metadata": {},
   "source": [
    "Предобработка данных завершена, переходим к исследовательскому анализу данных."
   ]
  },
  {
   "cell_type": "markdown",
   "metadata": {},
   "source": [
    "**Вывод 1.3:** проведен поиск неявных дубликатов, были объединены события contacts_show и show_contacts, а также все search. "
   ]
  },
  {
   "cell_type": "markdown",
   "metadata": {},
   "source": [
    "# 2. Исследовательский анализ данных"
   ]
  },
  {
   "cell_type": "markdown",
   "metadata": {},
   "source": [
    "## 2.1. Расчет индекса удержания пользователей - retention rate"
   ]
  },
  {
   "cell_type": "markdown",
   "metadata": {},
   "source": [
    "Для расчета retention rate сначала сформируем пользовательские профайлы. Сгруппируем отсортированный по user_id и дате событий датасет, сгруппируем его по user_id и определим дату начала лайфтайма пользователя.   "
   ]
  },
  {
   "cell_type": "code",
   "execution_count": 26,
   "metadata": {},
   "outputs": [],
   "source": [
    "def get_profiles(sessions):\n",
    "\n",
    "    profiles = (\n",
    "        sessions.sort_values(by=['user_id', 'event_date'])\n",
    "        .groupby('user_id')\n",
    "        .agg({'event_date': 'first'})\n",
    "        .rename(columns={'event_date': 'first_ts'})\n",
    "        .reset_index()  # возвращаем user_id из индекса\n",
    "    )\n",
    "\n",
    "    # определяем дату первого посещения\n",
    "    # и первый день недели, в который это посещение произошло\n",
    "    \n",
    "    profiles['dt'] = profiles['first_ts'].dt.date\n",
    "    profiles['week'] = profiles['dt'].astype('datetime64[W]') \n",
    "\n",
    "    return profiles"
   ]
  },
  {
   "cell_type": "code",
   "execution_count": 27,
   "metadata": {
    "scrolled": true
   },
   "outputs": [],
   "source": [
    "profiles = get_profiles(data)  # cформируем профайлы из нашего датасета"
   ]
  },
  {
   "cell_type": "code",
   "execution_count": 28,
   "metadata": {
    "scrolled": true
   },
   "outputs": [
    {
     "data": {
      "text/html": [
       "<div>\n",
       "<style scoped>\n",
       "    .dataframe tbody tr th:only-of-type {\n",
       "        vertical-align: middle;\n",
       "    }\n",
       "\n",
       "    .dataframe tbody tr th {\n",
       "        vertical-align: top;\n",
       "    }\n",
       "\n",
       "    .dataframe thead th {\n",
       "        text-align: right;\n",
       "    }\n",
       "</style>\n",
       "<table border=\"1\" class=\"dataframe\">\n",
       "  <thead>\n",
       "    <tr style=\"text-align: right;\">\n",
       "      <th></th>\n",
       "      <th>user_id</th>\n",
       "      <th>first_ts</th>\n",
       "      <th>dt</th>\n",
       "      <th>week</th>\n",
       "    </tr>\n",
       "  </thead>\n",
       "  <tbody>\n",
       "    <tr>\n",
       "      <th>2549</th>\n",
       "      <td>97f41142-0d22-4bb2-9f22-8c7659d8d0de</td>\n",
       "      <td>2019-10-25</td>\n",
       "      <td>2019-10-25</td>\n",
       "      <td>2019-10-24</td>\n",
       "    </tr>\n",
       "    <tr>\n",
       "      <th>989</th>\n",
       "      <td>3a13ffa6-7231-4688-ad96-9c8334e9ed0e</td>\n",
       "      <td>2019-10-29</td>\n",
       "      <td>2019-10-29</td>\n",
       "      <td>2019-10-24</td>\n",
       "    </tr>\n",
       "    <tr>\n",
       "      <th>3707</th>\n",
       "      <td>dc784f10-8260-4668-a33d-d4fc598fade9</td>\n",
       "      <td>2019-10-11</td>\n",
       "      <td>2019-10-11</td>\n",
       "      <td>2019-10-10</td>\n",
       "    </tr>\n",
       "    <tr>\n",
       "      <th>320</th>\n",
       "      <td>114ba847-9a89-49a9-af35-3825c241481a</td>\n",
       "      <td>2019-10-15</td>\n",
       "      <td>2019-10-15</td>\n",
       "      <td>2019-10-10</td>\n",
       "    </tr>\n",
       "    <tr>\n",
       "      <th>976</th>\n",
       "      <td>39406a9a-9987-45e0-90f1-de1809efd601</td>\n",
       "      <td>2019-10-23</td>\n",
       "      <td>2019-10-23</td>\n",
       "      <td>2019-10-17</td>\n",
       "    </tr>\n",
       "    <tr>\n",
       "      <th>3485</th>\n",
       "      <td>d0033655-7741-4bee-8fd7-cb7383d095fc</td>\n",
       "      <td>2019-10-11</td>\n",
       "      <td>2019-10-11</td>\n",
       "      <td>2019-10-10</td>\n",
       "    </tr>\n",
       "    <tr>\n",
       "      <th>2927</th>\n",
       "      <td>ae87a73d-14bc-49a8-b053-e2b3b3d1bddd</td>\n",
       "      <td>2019-10-20</td>\n",
       "      <td>2019-10-20</td>\n",
       "      <td>2019-10-17</td>\n",
       "    </tr>\n",
       "    <tr>\n",
       "      <th>4243</th>\n",
       "      <td>fc8ca24e-2ba3-41a3-b52e-dda7d328a5c3</td>\n",
       "      <td>2019-10-14</td>\n",
       "      <td>2019-10-14</td>\n",
       "      <td>2019-10-10</td>\n",
       "    </tr>\n",
       "    <tr>\n",
       "      <th>3126</th>\n",
       "      <td>bbf34803-113c-4c7c-96e8-e5204b327d7d</td>\n",
       "      <td>2019-10-25</td>\n",
       "      <td>2019-10-25</td>\n",
       "      <td>2019-10-24</td>\n",
       "    </tr>\n",
       "    <tr>\n",
       "      <th>691</th>\n",
       "      <td>25ab7b76-ec5f-4a9f-bf43-979e75d96a0e</td>\n",
       "      <td>2019-10-09</td>\n",
       "      <td>2019-10-09</td>\n",
       "      <td>2019-10-03</td>\n",
       "    </tr>\n",
       "  </tbody>\n",
       "</table>\n",
       "</div>"
      ],
      "text/plain": [
       "                                   user_id   first_ts          dt       week\n",
       "2549  97f41142-0d22-4bb2-9f22-8c7659d8d0de 2019-10-25  2019-10-25 2019-10-24\n",
       "989   3a13ffa6-7231-4688-ad96-9c8334e9ed0e 2019-10-29  2019-10-29 2019-10-24\n",
       "3707  dc784f10-8260-4668-a33d-d4fc598fade9 2019-10-11  2019-10-11 2019-10-10\n",
       "320   114ba847-9a89-49a9-af35-3825c241481a 2019-10-15  2019-10-15 2019-10-10\n",
       "976   39406a9a-9987-45e0-90f1-de1809efd601 2019-10-23  2019-10-23 2019-10-17\n",
       "3485  d0033655-7741-4bee-8fd7-cb7383d095fc 2019-10-11  2019-10-11 2019-10-10\n",
       "2927  ae87a73d-14bc-49a8-b053-e2b3b3d1bddd 2019-10-20  2019-10-20 2019-10-17\n",
       "4243  fc8ca24e-2ba3-41a3-b52e-dda7d328a5c3 2019-10-14  2019-10-14 2019-10-10\n",
       "3126  bbf34803-113c-4c7c-96e8-e5204b327d7d 2019-10-25  2019-10-25 2019-10-24\n",
       "691   25ab7b76-ec5f-4a9f-bf43-979e75d96a0e 2019-10-09  2019-10-09 2019-10-03"
      ]
     },
     "execution_count": 28,
     "metadata": {},
     "output_type": "execute_result"
    }
   ],
   "source": [
    "profiles.sample(10)"
   ]
  },
  {
   "cell_type": "code",
   "execution_count": 29,
   "metadata": {
    "scrolled": true
   },
   "outputs": [
    {
     "name": "stdout",
     "output_type": "stream",
     "text": [
      "<class 'pandas.core.frame.DataFrame'>\n",
      "RangeIndex: 4293 entries, 0 to 4292\n",
      "Data columns (total 4 columns):\n",
      " #   Column    Non-Null Count  Dtype         \n",
      "---  ------    --------------  -----         \n",
      " 0   user_id   4293 non-null   object        \n",
      " 1   first_ts  4293 non-null   datetime64[ns]\n",
      " 2   dt        4293 non-null   object        \n",
      " 3   week      4293 non-null   datetime64[ns]\n",
      "dtypes: datetime64[ns](2), object(2)\n",
      "memory usage: 134.3+ KB\n"
     ]
    }
   ],
   "source": [
    "profiles.info()"
   ]
  },
  {
   "cell_type": "markdown",
   "metadata": {},
   "source": [
    "Профайлы выглядят корректными. Теперь создадим функцию, с помощью которой будем рассчитывать удержание - в том числе и в разрезе предстоящей сегментации."
   ]
  },
  {
   "cell_type": "code",
   "execution_count": 30,
   "metadata": {},
   "outputs": [],
   "source": [
    "def get_retention(\n",
    "    profiles,\n",
    "    sessions,\n",
    "    observation_date,\n",
    "    horizon_days,\n",
    "    dimensions=[],\n",
    "    ignore_horizon=False,\n",
    "):\n",
    "\n",
    "    # исключаем пользователей, не «доживших» до горизонта анализа\n",
    "    last_suitable_acquisition_date = observation_date\n",
    "    if not ignore_horizon:\n",
    "        last_suitable_acquisition_date = observation_date - timedelta(\n",
    "            days=horizon_days - 1\n",
    "        )\n",
    "    result_raw = profiles.query('dt <= @last_suitable_acquisition_date')\n",
    "\n",
    "    # собираем «сырые» данные для расчёта удержания\n",
    "    result_raw = result_raw.merge(\n",
    "        sessions[['user_id', 'event_date']], on='user_id', how='left'\n",
    "    )\n",
    "    result_raw['lifetime'] = (\n",
    "        result_raw['event_date'] - result_raw['first_ts']\n",
    "    ).dt.days\n",
    "\n",
    "    # рассчитываем удержание\n",
    "    # новый вариант с dimensions\n",
    "    result_grouped = result_raw.pivot_table(\n",
    "        index=dimensions,  # заменили dt\n",
    "        columns='lifetime',\n",
    "        values='user_id',\n",
    "        aggfunc='nunique',\n",
    "    )\n",
    "    cohort_sizes = (\n",
    "        result_raw.groupby(dimensions)  # заменили dt\n",
    "        .agg({'user_id': 'nunique'})\n",
    "        .rename(columns={'user_id': 'cohort_size'})\n",
    "    )\n",
    "    result_grouped = cohort_sizes.merge(\n",
    "        result_grouped, on=dimensions, how='left'  # заменили dt\n",
    "    ).fillna(0)\n",
    "    result_grouped = result_grouped.div(result_grouped['cohort_size'], axis=0)\n",
    "\n",
    "    # исключаем все лайфтаймы, превышающие горизонт анализа\n",
    "    result_grouped = result_grouped[\n",
    "        ['cohort_size'] + list(range(horizon_days))\n",
    "    ]\n",
    "\n",
    "    # восстанавливаем столбец с размерами когорт\n",
    "    result_grouped['cohort_size'] = cohort_sizes\n",
    "\n",
    "    # возвращаем таблицу удержания и сырые данные\n",
    "    return result_raw, result_grouped"
   ]
  },
  {
   "cell_type": "code",
   "execution_count": 31,
   "metadata": {
    "scrolled": true
   },
   "outputs": [
    {
     "data": {
      "text/html": [
       "<div>\n",
       "<style scoped>\n",
       "    .dataframe tbody tr th:only-of-type {\n",
       "        vertical-align: middle;\n",
       "    }\n",
       "\n",
       "    .dataframe tbody tr th {\n",
       "        vertical-align: top;\n",
       "    }\n",
       "\n",
       "    .dataframe thead th {\n",
       "        text-align: right;\n",
       "    }\n",
       "</style>\n",
       "<table border=\"1\" class=\"dataframe\">\n",
       "  <thead>\n",
       "    <tr style=\"text-align: right;\">\n",
       "      <th></th>\n",
       "      <th>cohort_size</th>\n",
       "      <th>0</th>\n",
       "      <th>1</th>\n",
       "      <th>2</th>\n",
       "      <th>3</th>\n",
       "      <th>4</th>\n",
       "      <th>5</th>\n",
       "      <th>6</th>\n",
       "      <th>7</th>\n",
       "      <th>8</th>\n",
       "      <th>9</th>\n",
       "    </tr>\n",
       "    <tr>\n",
       "      <th>dt</th>\n",
       "      <th></th>\n",
       "      <th></th>\n",
       "      <th></th>\n",
       "      <th></th>\n",
       "      <th></th>\n",
       "      <th></th>\n",
       "      <th></th>\n",
       "      <th></th>\n",
       "      <th></th>\n",
       "      <th></th>\n",
       "      <th></th>\n",
       "    </tr>\n",
       "  </thead>\n",
       "  <tbody>\n",
       "    <tr>\n",
       "      <th>2019-10-07</th>\n",
       "      <td>204</td>\n",
       "      <td>1.0</td>\n",
       "      <td>0.181373</td>\n",
       "      <td>0.102941</td>\n",
       "      <td>0.107843</td>\n",
       "      <td>0.068627</td>\n",
       "      <td>0.058824</td>\n",
       "      <td>0.039216</td>\n",
       "      <td>0.078431</td>\n",
       "      <td>0.063725</td>\n",
       "      <td>0.049020</td>\n",
       "    </tr>\n",
       "    <tr>\n",
       "      <th>2019-10-08</th>\n",
       "      <td>167</td>\n",
       "      <td>1.0</td>\n",
       "      <td>0.179641</td>\n",
       "      <td>0.119760</td>\n",
       "      <td>0.101796</td>\n",
       "      <td>0.035928</td>\n",
       "      <td>0.035928</td>\n",
       "      <td>0.065868</td>\n",
       "      <td>0.047904</td>\n",
       "      <td>0.065868</td>\n",
       "      <td>0.053892</td>\n",
       "    </tr>\n",
       "    <tr>\n",
       "      <th>2019-10-09</th>\n",
       "      <td>176</td>\n",
       "      <td>1.0</td>\n",
       "      <td>0.096591</td>\n",
       "      <td>0.085227</td>\n",
       "      <td>0.056818</td>\n",
       "      <td>0.056818</td>\n",
       "      <td>0.079545</td>\n",
       "      <td>0.056818</td>\n",
       "      <td>0.056818</td>\n",
       "      <td>0.056818</td>\n",
       "      <td>0.051136</td>\n",
       "    </tr>\n",
       "    <tr>\n",
       "      <th>2019-10-10</th>\n",
       "      <td>174</td>\n",
       "      <td>1.0</td>\n",
       "      <td>0.137931</td>\n",
       "      <td>0.074713</td>\n",
       "      <td>0.103448</td>\n",
       "      <td>0.074713</td>\n",
       "      <td>0.091954</td>\n",
       "      <td>0.063218</td>\n",
       "      <td>0.074713</td>\n",
       "      <td>0.063218</td>\n",
       "      <td>0.057471</td>\n",
       "    </tr>\n",
       "    <tr>\n",
       "      <th>2019-10-11</th>\n",
       "      <td>136</td>\n",
       "      <td>1.0</td>\n",
       "      <td>0.088235</td>\n",
       "      <td>0.080882</td>\n",
       "      <td>0.132353</td>\n",
       "      <td>0.095588</td>\n",
       "      <td>0.066176</td>\n",
       "      <td>0.058824</td>\n",
       "      <td>0.073529</td>\n",
       "      <td>0.022059</td>\n",
       "      <td>0.000000</td>\n",
       "    </tr>\n",
       "    <tr>\n",
       "      <th>2019-10-12</th>\n",
       "      <td>125</td>\n",
       "      <td>1.0</td>\n",
       "      <td>0.200000</td>\n",
       "      <td>0.120000</td>\n",
       "      <td>0.104000</td>\n",
       "      <td>0.064000</td>\n",
       "      <td>0.072000</td>\n",
       "      <td>0.104000</td>\n",
       "      <td>0.080000</td>\n",
       "      <td>0.072000</td>\n",
       "      <td>0.064000</td>\n",
       "    </tr>\n",
       "    <tr>\n",
       "      <th>2019-10-13</th>\n",
       "      <td>148</td>\n",
       "      <td>1.0</td>\n",
       "      <td>0.175676</td>\n",
       "      <td>0.087838</td>\n",
       "      <td>0.054054</td>\n",
       "      <td>0.074324</td>\n",
       "      <td>0.060811</td>\n",
       "      <td>0.040541</td>\n",
       "      <td>0.081081</td>\n",
       "      <td>0.047297</td>\n",
       "      <td>0.060811</td>\n",
       "    </tr>\n",
       "    <tr>\n",
       "      <th>2019-10-14</th>\n",
       "      <td>185</td>\n",
       "      <td>1.0</td>\n",
       "      <td>0.167568</td>\n",
       "      <td>0.091892</td>\n",
       "      <td>0.097297</td>\n",
       "      <td>0.102703</td>\n",
       "      <td>0.070270</td>\n",
       "      <td>0.054054</td>\n",
       "      <td>0.054054</td>\n",
       "      <td>0.054054</td>\n",
       "      <td>0.054054</td>\n",
       "    </tr>\n",
       "    <tr>\n",
       "      <th>2019-10-15</th>\n",
       "      <td>186</td>\n",
       "      <td>1.0</td>\n",
       "      <td>0.150538</td>\n",
       "      <td>0.102151</td>\n",
       "      <td>0.091398</td>\n",
       "      <td>0.059140</td>\n",
       "      <td>0.053763</td>\n",
       "      <td>0.064516</td>\n",
       "      <td>0.069892</td>\n",
       "      <td>0.086022</td>\n",
       "      <td>0.032258</td>\n",
       "    </tr>\n",
       "    <tr>\n",
       "      <th>2019-10-16</th>\n",
       "      <td>166</td>\n",
       "      <td>1.0</td>\n",
       "      <td>0.156627</td>\n",
       "      <td>0.102410</td>\n",
       "      <td>0.054217</td>\n",
       "      <td>0.024096</td>\n",
       "      <td>0.060241</td>\n",
       "      <td>0.048193</td>\n",
       "      <td>0.054217</td>\n",
       "      <td>0.060241</td>\n",
       "      <td>0.048193</td>\n",
       "    </tr>\n",
       "    <tr>\n",
       "      <th>2019-10-17</th>\n",
       "      <td>170</td>\n",
       "      <td>1.0</td>\n",
       "      <td>0.170588</td>\n",
       "      <td>0.111765</td>\n",
       "      <td>0.141176</td>\n",
       "      <td>0.076471</td>\n",
       "      <td>0.100000</td>\n",
       "      <td>0.082353</td>\n",
       "      <td>0.052941</td>\n",
       "      <td>0.052941</td>\n",
       "      <td>0.035294</td>\n",
       "    </tr>\n",
       "    <tr>\n",
       "      <th>2019-10-18</th>\n",
       "      <td>156</td>\n",
       "      <td>1.0</td>\n",
       "      <td>0.102564</td>\n",
       "      <td>0.083333</td>\n",
       "      <td>0.121795</td>\n",
       "      <td>0.064103</td>\n",
       "      <td>0.044872</td>\n",
       "      <td>0.083333</td>\n",
       "      <td>0.076923</td>\n",
       "      <td>0.064103</td>\n",
       "      <td>0.044872</td>\n",
       "    </tr>\n",
       "    <tr>\n",
       "      <th>2019-10-19</th>\n",
       "      <td>159</td>\n",
       "      <td>1.0</td>\n",
       "      <td>0.163522</td>\n",
       "      <td>0.125786</td>\n",
       "      <td>0.081761</td>\n",
       "      <td>0.031447</td>\n",
       "      <td>0.050314</td>\n",
       "      <td>0.056604</td>\n",
       "      <td>0.069182</td>\n",
       "      <td>0.056604</td>\n",
       "      <td>0.025157</td>\n",
       "    </tr>\n",
       "    <tr>\n",
       "      <th>2019-10-20</th>\n",
       "      <td>144</td>\n",
       "      <td>1.0</td>\n",
       "      <td>0.166667</td>\n",
       "      <td>0.083333</td>\n",
       "      <td>0.076389</td>\n",
       "      <td>0.048611</td>\n",
       "      <td>0.076389</td>\n",
       "      <td>0.055556</td>\n",
       "      <td>0.055556</td>\n",
       "      <td>0.062500</td>\n",
       "      <td>0.027778</td>\n",
       "    </tr>\n",
       "    <tr>\n",
       "      <th>2019-10-21</th>\n",
       "      <td>161</td>\n",
       "      <td>1.0</td>\n",
       "      <td>0.118012</td>\n",
       "      <td>0.105590</td>\n",
       "      <td>0.068323</td>\n",
       "      <td>0.068323</td>\n",
       "      <td>0.043478</td>\n",
       "      <td>0.031056</td>\n",
       "      <td>0.105590</td>\n",
       "      <td>0.043478</td>\n",
       "      <td>0.031056</td>\n",
       "    </tr>\n",
       "    <tr>\n",
       "      <th>2019-10-22</th>\n",
       "      <td>157</td>\n",
       "      <td>1.0</td>\n",
       "      <td>0.146497</td>\n",
       "      <td>0.114650</td>\n",
       "      <td>0.063694</td>\n",
       "      <td>0.057325</td>\n",
       "      <td>0.031847</td>\n",
       "      <td>0.038217</td>\n",
       "      <td>0.082803</td>\n",
       "      <td>0.057325</td>\n",
       "      <td>0.057325</td>\n",
       "    </tr>\n",
       "    <tr>\n",
       "      <th>2019-10-23</th>\n",
       "      <td>189</td>\n",
       "      <td>1.0</td>\n",
       "      <td>0.153439</td>\n",
       "      <td>0.079365</td>\n",
       "      <td>0.084656</td>\n",
       "      <td>0.058201</td>\n",
       "      <td>0.063492</td>\n",
       "      <td>0.042328</td>\n",
       "      <td>0.063492</td>\n",
       "      <td>0.042328</td>\n",
       "      <td>0.031746</td>\n",
       "    </tr>\n",
       "    <tr>\n",
       "      <th>2019-10-24</th>\n",
       "      <td>162</td>\n",
       "      <td>1.0</td>\n",
       "      <td>0.129630</td>\n",
       "      <td>0.086420</td>\n",
       "      <td>0.074074</td>\n",
       "      <td>0.049383</td>\n",
       "      <td>0.074074</td>\n",
       "      <td>0.067901</td>\n",
       "      <td>0.043210</td>\n",
       "      <td>0.030864</td>\n",
       "      <td>0.037037</td>\n",
       "    </tr>\n",
       "    <tr>\n",
       "      <th>2019-10-25</th>\n",
       "      <td>147</td>\n",
       "      <td>1.0</td>\n",
       "      <td>0.108844</td>\n",
       "      <td>0.068027</td>\n",
       "      <td>0.129252</td>\n",
       "      <td>0.108844</td>\n",
       "      <td>0.061224</td>\n",
       "      <td>0.061224</td>\n",
       "      <td>0.081633</td>\n",
       "      <td>0.040816</td>\n",
       "      <td>0.054422</td>\n",
       "    </tr>\n",
       "  </tbody>\n",
       "</table>\n",
       "</div>"
      ],
      "text/plain": [
       "            cohort_size    0         1         2         3         4  \\\n",
       "dt                                                                     \n",
       "2019-10-07          204  1.0  0.181373  0.102941  0.107843  0.068627   \n",
       "2019-10-08          167  1.0  0.179641  0.119760  0.101796  0.035928   \n",
       "2019-10-09          176  1.0  0.096591  0.085227  0.056818  0.056818   \n",
       "2019-10-10          174  1.0  0.137931  0.074713  0.103448  0.074713   \n",
       "2019-10-11          136  1.0  0.088235  0.080882  0.132353  0.095588   \n",
       "2019-10-12          125  1.0  0.200000  0.120000  0.104000  0.064000   \n",
       "2019-10-13          148  1.0  0.175676  0.087838  0.054054  0.074324   \n",
       "2019-10-14          185  1.0  0.167568  0.091892  0.097297  0.102703   \n",
       "2019-10-15          186  1.0  0.150538  0.102151  0.091398  0.059140   \n",
       "2019-10-16          166  1.0  0.156627  0.102410  0.054217  0.024096   \n",
       "2019-10-17          170  1.0  0.170588  0.111765  0.141176  0.076471   \n",
       "2019-10-18          156  1.0  0.102564  0.083333  0.121795  0.064103   \n",
       "2019-10-19          159  1.0  0.163522  0.125786  0.081761  0.031447   \n",
       "2019-10-20          144  1.0  0.166667  0.083333  0.076389  0.048611   \n",
       "2019-10-21          161  1.0  0.118012  0.105590  0.068323  0.068323   \n",
       "2019-10-22          157  1.0  0.146497  0.114650  0.063694  0.057325   \n",
       "2019-10-23          189  1.0  0.153439  0.079365  0.084656  0.058201   \n",
       "2019-10-24          162  1.0  0.129630  0.086420  0.074074  0.049383   \n",
       "2019-10-25          147  1.0  0.108844  0.068027  0.129252  0.108844   \n",
       "\n",
       "                   5         6         7         8         9  \n",
       "dt                                                            \n",
       "2019-10-07  0.058824  0.039216  0.078431  0.063725  0.049020  \n",
       "2019-10-08  0.035928  0.065868  0.047904  0.065868  0.053892  \n",
       "2019-10-09  0.079545  0.056818  0.056818  0.056818  0.051136  \n",
       "2019-10-10  0.091954  0.063218  0.074713  0.063218  0.057471  \n",
       "2019-10-11  0.066176  0.058824  0.073529  0.022059  0.000000  \n",
       "2019-10-12  0.072000  0.104000  0.080000  0.072000  0.064000  \n",
       "2019-10-13  0.060811  0.040541  0.081081  0.047297  0.060811  \n",
       "2019-10-14  0.070270  0.054054  0.054054  0.054054  0.054054  \n",
       "2019-10-15  0.053763  0.064516  0.069892  0.086022  0.032258  \n",
       "2019-10-16  0.060241  0.048193  0.054217  0.060241  0.048193  \n",
       "2019-10-17  0.100000  0.082353  0.052941  0.052941  0.035294  \n",
       "2019-10-18  0.044872  0.083333  0.076923  0.064103  0.044872  \n",
       "2019-10-19  0.050314  0.056604  0.069182  0.056604  0.025157  \n",
       "2019-10-20  0.076389  0.055556  0.055556  0.062500  0.027778  \n",
       "2019-10-21  0.043478  0.031056  0.105590  0.043478  0.031056  \n",
       "2019-10-22  0.031847  0.038217  0.082803  0.057325  0.057325  \n",
       "2019-10-23  0.063492  0.042328  0.063492  0.042328  0.031746  \n",
       "2019-10-24  0.074074  0.067901  0.043210  0.030864  0.037037  \n",
       "2019-10-25  0.061224  0.061224  0.081633  0.040816  0.054422  "
      ]
     },
     "execution_count": 31,
     "metadata": {},
     "output_type": "execute_result"
    }
   ],
   "source": [
    "# вызываем функцию, смотрим лайфтайм 10 дней\n",
    "\n",
    "retention_raw, retention = get_retention(\n",
    "    profiles, data, datetime(2019, 11, 3).date(), 10, dimensions=['dt']\n",
    ") \n",
    "retention"
   ]
  },
  {
   "cell_type": "markdown",
   "metadata": {},
   "source": [
    "Посмотрим на удержание на хитмэпе и других графиках:"
   ]
  },
  {
   "cell_type": "code",
   "execution_count": 32,
   "metadata": {
    "scrolled": true
   },
   "outputs": [
    {
     "data": {
      "image/png": "[encoded data removed]",
      "text/plain": [
       "<Figure size 1080x432 with 2 Axes>"
      ]
     },
     "metadata": {
      "needs_background": "light"
     },
     "output_type": "display_data"
    }
   ],
   "source": [
    "# строим хитмэп без нулевого лайфтайма\n",
    "\n",
    "plt.figure(figsize=(15, 6))  # задаём размер графика\n",
    "sns.heatmap(\n",
    "    retention.drop(columns=['cohort_size', 0]),  # удаляем лишние столбцы\n",
    "    annot=True,  # включаем подписи\n",
    "    fmt='.2%',  # переводим значения в проценты\n",
    ")\n",
    "plt.title('Тепловая карта удержания')  # название графика\n",
    "plt.xlabel('Лайфтайм')\n",
    "plt.ylabel('Дата первого события')\n",
    "plt.show()"
   ]
  },
  {
   "cell_type": "markdown",
   "metadata": {},
   "source": [
    "Удержание ожидаемо падает с каждым следующим днем пользователя в приложении, но при этом можно отметить как скачкообразно меняется поведение пользователей. Явной тенденции в разрезе по датам выделить не удалось, можно заключить, что поведение пользователей постоянно меняется."
   ]
  },
  {
   "cell_type": "code",
   "execution_count": 33,
   "metadata": {},
   "outputs": [
    {
     "data": {
      "image/png": "[encoded data removed]",
      "text/plain": [
       "<Figure size 1080x360 with 1 Axes>"
      ]
     },
     "metadata": {
      "needs_background": "light"
     },
     "output_type": "display_data"
    }
   ],
   "source": [
    "# строим кривые удержания\n",
    "\n",
    "report = retention.drop(columns = ['cohort_size', 0])\n",
    "\n",
    "report.T.plot(\n",
    "    grid=True,  # добавляем сетку\n",
    "    xticks=list(report.columns.values),  # отметки на оси X — названия колонок\n",
    "    figsize=(15, 5),  # размер графика\n",
    "    \n",
    ")\n",
    "plt.legend(bbox_to_anchor=(1, 1.1), title = 'Даты первых событий', fontsize=10)\n",
    "plt.xlabel('Лайфтайм')  # название оси X\n",
    "plt.title('Кривые удержания по дням привлечения')  # название графика\n",
    "plt.show()"
   ]
  },
  {
   "cell_type": "markdown",
   "metadata": {},
   "source": [
    "В целом поведение пользоваетелей достаточно схоже - с каждым новым днем в приложении доля удержанных пользователей уменьшается. Наблюдаются единичные всплески, например на третий день лайфтайма."
   ]
  },
  {
   "cell_type": "code",
   "execution_count": 34,
   "metadata": {
    "scrolled": true
   },
   "outputs": [
    {
     "data": {
      "image/png": "[encoded data removed]",
      "text/plain": [
       "<Figure size 720x216 with 1 Axes>"
      ]
     },
     "metadata": {
      "needs_background": "light"
     },
     "output_type": "display_data"
    }
   ],
   "source": [
    "# строим графики изменений\n",
    "report = retention.drop(columns=['cohort_size', 0])\n",
    "report.plot(grid=True, figsize=(10, 3))\n",
    "plt.xlabel('Дата привлечения', fontsize=8)\n",
    "plt.title('Динамика удержания пользователей' , fontsize=10)\n",
    "plt.xticks(rotation = 25, fontsize=6)\n",
    "plt.yticks(fontsize=6)\n",
    "plt.legend(bbox_to_anchor=(1, 0.9), title = 'Дни лайфтайма', fontsize=8)\n",
    "plt.show()"
   ]
  },
  {
   "cell_type": "markdown",
   "metadata": {},
   "source": [
    "Удержание пользователей на определённый лайфтайм менялось предсказуемым образом - самые высокие показатели отмечены в 1 день лайфтайма, самые низкие - в 9."
   ]
  },
  {
   "cell_type": "markdown",
   "metadata": {},
   "source": [
    "**Вывод 2.1:** для расчета retention rate были сформированы пользовательские профайлы и подготовлена функция для анализа удержания по заданному лайфтайму в интересующем нас разрезе. \n",
    "<br>\n",
    "<br>\n",
    "Анализ удержания по датам событий показал, что оно предсказуемо снижается с каждым следующим днем пользователя в приложении. Явной тенденции в разрезе по датам выделить не удалось, можно заключить, что поведение пользователей не зависит от даты начала использования приложения. \n",
    "<br>\n",
    "В целом поведение пользоваетелей достаточно схоже - с каждым новым днем в приложении доля удержанных пользователей уменьшается. Наблюдаются единичные всплески, например на третий день лайфтайма."
   ]
  },
  {
   "cell_type": "markdown",
   "metadata": {},
   "source": [
    "##     2.2. Подсчет времени, проведенного пользователем в приложении, выделение пользовательских сессий"
   ]
  },
  {
   "cell_type": "markdown",
   "metadata": {},
   "source": [
    "### 2.2.1 Выделение пользовательских сессий и подсчет времени, проведенного в приложении"
   ]
  },
  {
   "cell_type": "markdown",
   "metadata": {},
   "source": [
    "Для дальнейшего анализа датасета нам необходимо выделить пользовательские сессии. Эта информация отсутствует в исходной базе для анализа, поэтому будем рассчитывать самостоятельно. Мы принимаем считать каждое действие пользователя после более чем получасового таймаута за начало новой сессии. Реализуем этот принцип в датасете:"
   ]
  },
  {
   "cell_type": "code",
   "execution_count": 35,
   "metadata": {},
   "outputs": [],
   "source": [
    "data = data.sort_values(['user_id', 'event_time'])   # сортируем датасет по user_id и event_time"
   ]
  },
  {
   "cell_type": "markdown",
   "metadata": {},
   "source": [
    "Выделяем пользовательские сессии, установив таймаут 30 минут. Это стандартное количество, обычно используемое при анализе сессий в мобильных приложениях:"
   ]
  },
  {
   "cell_type": "code",
   "execution_count": 36,
   "metadata": {},
   "outputs": [
    {
     "data": {
      "text/plain": [
       "10368"
      ]
     },
     "execution_count": 36,
     "metadata": {},
     "output_type": "execute_result"
    }
   ],
   "source": [
    "# определяем таймаут 30 минут между группами\n",
    "g = (data.groupby('user_id')['event_time'].diff() > pd.Timedelta('30Min')).cumsum()\n",
    "# добавляем счетчик\n",
    "data['session_id'] = data.groupby(['user_id', g], sort=False).ngroup() + 1\n",
    "data['session_id'].max()"
   ]
  },
  {
   "cell_type": "markdown",
   "metadata": {},
   "source": [
    "Удалось выделить 10368 сессий. Посмотрим распределение их количества по датам:"
   ]
  },
  {
   "cell_type": "code",
   "execution_count": 37,
   "metadata": {
    "scrolled": false
   },
   "outputs": [
    {
     "data": {
      "image/png": "[encoded data removed]",
      "text/plain": [
       "<Figure size 1080x504 with 1 Axes>"
      ]
     },
     "metadata": {
      "needs_background": "light"
     },
     "output_type": "display_data"
    }
   ],
   "source": [
    "# группируем датасет по датам и считаем уникальные сессии\n",
    "\n",
    "sessions_counts = data.groupby('event_date')['session_id'].nunique().reset_index()  \n",
    "sessions_counts['event_date'] = sessions_counts['event_date'].dt.date \n",
    "\n",
    "# строим barplot, чтобы посмотреть на распределение\n",
    "\n",
    "plt.figure(figsize = (15,7))\n",
    "sns.barplot(x='event_date', y='session_id', data=sessions_counts)\n",
    "plt.xticks(rotation=90)\n",
    "plt.xlabel('Дата')\n",
    "plt.ylabel('Количество сессий')\n",
    "plt.xticks(rotation = 25)\n",
    "#plt.grid()\n",
    "plt.title('Распределение сессий по дням')\n",
    "plt.show()"
   ]
  },
  {
   "cell_type": "markdown",
   "metadata": {},
   "source": [
    "Сессии распределены достаточно равномерно, что позволяет сделать вывод о корректном их выделении. \n",
    "\n",
    "Посмотрим сколько в среднем сессий у одного пользователя:"
   ]
  },
  {
   "cell_type": "code",
   "execution_count": 38,
   "metadata": {},
   "outputs": [
    {
     "data": {
      "text/plain": [
       "count    4293.000000\n",
       "mean        2.415094\n",
       "std         3.536466\n",
       "min         1.000000\n",
       "25%         1.000000\n",
       "50%         1.000000\n",
       "75%         3.000000\n",
       "max        99.000000\n",
       "Name: session_id, dtype: float64"
      ]
     },
     "execution_count": 38,
     "metadata": {},
     "output_type": "execute_result"
    }
   ],
   "source": [
    "sessions_count = data.groupby('user_id')['session_id'].nunique()\n",
    "sessions_count.describe()"
   ]
  },
  {
   "cell_type": "markdown",
   "metadata": {},
   "source": [
    "В среднем 2.4 сессии, а медианное количество - 1 на пользователя. "
   ]
  },
  {
   "cell_type": "markdown",
   "metadata": {},
   "source": [
    "Создадим новую переменную sessions и посчитаем в ней в рамках одной сессии минимальное и максимальное время действий:"
   ]
  },
  {
   "cell_type": "code",
   "execution_count": 39,
   "metadata": {
    "scrolled": false
   },
   "outputs": [
    {
     "data": {
      "text/html": [
       "<div>\n",
       "<style scoped>\n",
       "    .dataframe tbody tr th:only-of-type {\n",
       "        vertical-align: middle;\n",
       "    }\n",
       "\n",
       "    .dataframe tbody tr th {\n",
       "        vertical-align: top;\n",
       "    }\n",
       "\n",
       "    .dataframe thead th {\n",
       "        text-align: right;\n",
       "    }\n",
       "</style>\n",
       "<table border=\"1\" class=\"dataframe\">\n",
       "  <thead>\n",
       "    <tr style=\"text-align: right;\">\n",
       "      <th></th>\n",
       "      <th>user_id</th>\n",
       "      <th>session_id</th>\n",
       "      <th>session_start</th>\n",
       "      <th>session_end</th>\n",
       "    </tr>\n",
       "  </thead>\n",
       "  <tbody>\n",
       "    <tr>\n",
       "      <th>0</th>\n",
       "      <td>0001b1d5-b74a-4cbf-aeb0-7df5947bf349</td>\n",
       "      <td>1</td>\n",
       "      <td>2019-10-07 13:39:45.989359</td>\n",
       "      <td>2019-10-07 13:49:41.716617</td>\n",
       "    </tr>\n",
       "    <tr>\n",
       "      <th>1</th>\n",
       "      <td>0001b1d5-b74a-4cbf-aeb0-7df5947bf349</td>\n",
       "      <td>2</td>\n",
       "      <td>2019-10-09 18:33:55.577963</td>\n",
       "      <td>2019-10-09 18:42:22.963948</td>\n",
       "    </tr>\n",
       "    <tr>\n",
       "      <th>2</th>\n",
       "      <td>0001b1d5-b74a-4cbf-aeb0-7df5947bf349</td>\n",
       "      <td>3</td>\n",
       "      <td>2019-10-21 19:52:30.778932</td>\n",
       "      <td>2019-10-21 20:07:30.051028</td>\n",
       "    </tr>\n",
       "    <tr>\n",
       "      <th>3</th>\n",
       "      <td>0001b1d5-b74a-4cbf-aeb0-7df5947bf349</td>\n",
       "      <td>4</td>\n",
       "      <td>2019-10-22 11:18:14.635436</td>\n",
       "      <td>2019-10-22 11:30:52.807203</td>\n",
       "    </tr>\n",
       "    <tr>\n",
       "      <th>4</th>\n",
       "      <td>00157779-810c-4498-9e05-a1e9e3cedf93</td>\n",
       "      <td>5</td>\n",
       "      <td>2019-10-19 21:34:33.849769</td>\n",
       "      <td>2019-10-19 21:59:54.637098</td>\n",
       "    </tr>\n",
       "    <tr>\n",
       "      <th>...</th>\n",
       "      <td>...</td>\n",
       "      <td>...</td>\n",
       "      <td>...</td>\n",
       "      <td>...</td>\n",
       "    </tr>\n",
       "    <tr>\n",
       "      <th>10363</th>\n",
       "      <td>fffb9e79-b927-4dbb-9b48-7fd09b23a62b</td>\n",
       "      <td>10364</td>\n",
       "      <td>2019-11-02 01:16:48.947231</td>\n",
       "      <td>2019-11-02 01:16:48.947231</td>\n",
       "    </tr>\n",
       "    <tr>\n",
       "      <th>10364</th>\n",
       "      <td>fffb9e79-b927-4dbb-9b48-7fd09b23a62b</td>\n",
       "      <td>10365</td>\n",
       "      <td>2019-11-02 18:01:27.094834</td>\n",
       "      <td>2019-11-02 18:17:41.386651</td>\n",
       "    </tr>\n",
       "    <tr>\n",
       "      <th>10365</th>\n",
       "      <td>fffb9e79-b927-4dbb-9b48-7fd09b23a62b</td>\n",
       "      <td>10366</td>\n",
       "      <td>2019-11-02 19:25:53.794029</td>\n",
       "      <td>2019-11-02 19:30:50.471310</td>\n",
       "    </tr>\n",
       "    <tr>\n",
       "      <th>10366</th>\n",
       "      <td>fffb9e79-b927-4dbb-9b48-7fd09b23a62b</td>\n",
       "      <td>10367</td>\n",
       "      <td>2019-11-03 14:32:55.956301</td>\n",
       "      <td>2019-11-03 14:48:44.263356</td>\n",
       "    </tr>\n",
       "    <tr>\n",
       "      <th>10367</th>\n",
       "      <td>fffb9e79-b927-4dbb-9b48-7fd09b23a62b</td>\n",
       "      <td>10368</td>\n",
       "      <td>2019-11-03 15:36:01.007440</td>\n",
       "      <td>2019-11-03 16:08:25.388712</td>\n",
       "    </tr>\n",
       "  </tbody>\n",
       "</table>\n",
       "<p>10368 rows × 4 columns</p>\n",
       "</div>"
      ],
      "text/plain": [
       "                                    user_id  session_id  \\\n",
       "0      0001b1d5-b74a-4cbf-aeb0-7df5947bf349           1   \n",
       "1      0001b1d5-b74a-4cbf-aeb0-7df5947bf349           2   \n",
       "2      0001b1d5-b74a-4cbf-aeb0-7df5947bf349           3   \n",
       "3      0001b1d5-b74a-4cbf-aeb0-7df5947bf349           4   \n",
       "4      00157779-810c-4498-9e05-a1e9e3cedf93           5   \n",
       "...                                     ...         ...   \n",
       "10363  fffb9e79-b927-4dbb-9b48-7fd09b23a62b       10364   \n",
       "10364  fffb9e79-b927-4dbb-9b48-7fd09b23a62b       10365   \n",
       "10365  fffb9e79-b927-4dbb-9b48-7fd09b23a62b       10366   \n",
       "10366  fffb9e79-b927-4dbb-9b48-7fd09b23a62b       10367   \n",
       "10367  fffb9e79-b927-4dbb-9b48-7fd09b23a62b       10368   \n",
       "\n",
       "                   session_start                session_end  \n",
       "0     2019-10-07 13:39:45.989359 2019-10-07 13:49:41.716617  \n",
       "1     2019-10-09 18:33:55.577963 2019-10-09 18:42:22.963948  \n",
       "2     2019-10-21 19:52:30.778932 2019-10-21 20:07:30.051028  \n",
       "3     2019-10-22 11:18:14.635436 2019-10-22 11:30:52.807203  \n",
       "4     2019-10-19 21:34:33.849769 2019-10-19 21:59:54.637098  \n",
       "...                          ...                        ...  \n",
       "10363 2019-11-02 01:16:48.947231 2019-11-02 01:16:48.947231  \n",
       "10364 2019-11-02 18:01:27.094834 2019-11-02 18:17:41.386651  \n",
       "10365 2019-11-02 19:25:53.794029 2019-11-02 19:30:50.471310  \n",
       "10366 2019-11-03 14:32:55.956301 2019-11-03 14:48:44.263356  \n",
       "10367 2019-11-03 15:36:01.007440 2019-11-03 16:08:25.388712  \n",
       "\n",
       "[10368 rows x 4 columns]"
      ]
     },
     "execution_count": 39,
     "metadata": {},
     "output_type": "execute_result"
    }
   ],
   "source": [
    "sessions = (data\n",
    "                .groupby(['user_id','session_id'])\n",
    "                .agg(session_start=('event_time','first'), session_end=('event_time','last'))\n",
    "                .reset_index()\n",
    "           )\n",
    "sessions"
   ]
  },
  {
   "cell_type": "markdown",
   "metadata": {},
   "source": [
    "Добавим новое поле duration, в котором посчитаем продолжительность визита в рамках сессии. Посмотрим цифровое описание нового поля."
   ]
  },
  {
   "cell_type": "code",
   "execution_count": 40,
   "metadata": {
    "scrolled": true
   },
   "outputs": [
    {
     "data": {
      "text/plain": [
       "count                        10368\n",
       "mean     0 days 00:12:52.672627050\n",
       "std      0 days 00:19:51.611332472\n",
       "min                0 days 00:00:00\n",
       "25%      0 days 00:00:21.137141500\n",
       "50%      0 days 00:05:35.169711500\n",
       "75%         0 days 00:17:25.391340\n",
       "max         0 days 05:21:58.296302\n",
       "Name: duration, dtype: object"
      ]
     },
     "execution_count": 40,
     "metadata": {},
     "output_type": "execute_result"
    }
   ],
   "source": [
    "sessions['duration'] = sessions['session_end']-sessions['session_start']\n",
    "sessions['duration'].describe()"
   ]
  },
  {
   "cell_type": "code",
   "execution_count": 41,
   "metadata": {
    "scrolled": true
   },
   "outputs": [
    {
     "data": {
      "text/plain": [
       "count                        10368\n",
       "mean     0 days 00:12:52.672627050\n",
       "std      0 days 00:19:51.611332472\n",
       "min                0 days 00:00:00\n",
       "25%      0 days 00:00:21.137141500\n",
       "50%      0 days 00:05:35.169711500\n",
       "75%         0 days 00:17:25.391340\n",
       "max         0 days 05:21:58.296302\n",
       "Name: duration, dtype: object"
      ]
     },
     "execution_count": 41,
     "metadata": {},
     "output_type": "execute_result"
    }
   ],
   "source": [
    "# сгруппируем датасет с сессиями по user id и id сессий и посчитаем суммарную продолжительность.\n",
    "#Посмотрим цифровое описание:\n",
    "\n",
    "sessions.groupby(['user_id','session_id'], as_index=False).agg({'duration':'sum'})['duration'].describe()"
   ]
  },
  {
   "cell_type": "markdown",
   "metadata": {},
   "source": [
    "Среднее время, проведенное в сессии, выделенной с помощью введения 30-минутных таймаутов - 12 минут. Медианное время в свою очередь заметно отличается - всего 5 минут. Это говорит о наличии большого количества выбросов, что показывает и максимальное время в рамках одной сессии - 5 часов 20 минут."
   ]
  },
  {
   "cell_type": "markdown",
   "metadata": {},
   "source": [
    "Т.к. в среднем на пользователя приходится 2,4 сессии, то с учетом средней продолжительности сессии в 12 минут это позволяет сделать вывод о том, что в среднем пользователь провел в нашем приложении чуть больше 30 минут. Медианный показатель заметно ниже - 5 с половиной минут и всего 1 сессия."
   ]
  },
  {
   "cell_type": "markdown",
   "metadata": {},
   "source": [
    "### 2.2.2. Аномалии и выбросы в продолжительности сессий"
   ]
  },
  {
   "cell_type": "markdown",
   "metadata": {},
   "source": [
    "Теперь посмотрим на сессии с аномальной длиной - прежде всего те, у которых продолжительность 0, а также те, что ближе к максимальной продолжительности (5 часов 20 минут). Для этого создадим новый столбец с продолжительностью сессии в секундах."
   ]
  },
  {
   "cell_type": "code",
   "execution_count": 42,
   "metadata": {},
   "outputs": [
    {
     "data": {
      "text/html": [
       "<div>\n",
       "<style scoped>\n",
       "    .dataframe tbody tr th:only-of-type {\n",
       "        vertical-align: middle;\n",
       "    }\n",
       "\n",
       "    .dataframe tbody tr th {\n",
       "        vertical-align: top;\n",
       "    }\n",
       "\n",
       "    .dataframe thead th {\n",
       "        text-align: right;\n",
       "    }\n",
       "</style>\n",
       "<table border=\"1\" class=\"dataframe\">\n",
       "  <thead>\n",
       "    <tr style=\"text-align: right;\">\n",
       "      <th></th>\n",
       "      <th>user_id</th>\n",
       "      <th>session_id</th>\n",
       "      <th>session_start</th>\n",
       "      <th>session_end</th>\n",
       "      <th>duration</th>\n",
       "      <th>delta_seconds</th>\n",
       "    </tr>\n",
       "  </thead>\n",
       "  <tbody>\n",
       "    <tr>\n",
       "      <th>0</th>\n",
       "      <td>0001b1d5-b74a-4cbf-aeb0-7df5947bf349</td>\n",
       "      <td>1</td>\n",
       "      <td>2019-10-07 13:39:45.989359</td>\n",
       "      <td>2019-10-07 13:49:41.716617</td>\n",
       "      <td>0 days 00:09:55.727258</td>\n",
       "      <td>595</td>\n",
       "    </tr>\n",
       "    <tr>\n",
       "      <th>1</th>\n",
       "      <td>0001b1d5-b74a-4cbf-aeb0-7df5947bf349</td>\n",
       "      <td>2</td>\n",
       "      <td>2019-10-09 18:33:55.577963</td>\n",
       "      <td>2019-10-09 18:42:22.963948</td>\n",
       "      <td>0 days 00:08:27.385985</td>\n",
       "      <td>507</td>\n",
       "    </tr>\n",
       "    <tr>\n",
       "      <th>2</th>\n",
       "      <td>0001b1d5-b74a-4cbf-aeb0-7df5947bf349</td>\n",
       "      <td>3</td>\n",
       "      <td>2019-10-21 19:52:30.778932</td>\n",
       "      <td>2019-10-21 20:07:30.051028</td>\n",
       "      <td>0 days 00:14:59.272096</td>\n",
       "      <td>899</td>\n",
       "    </tr>\n",
       "    <tr>\n",
       "      <th>3</th>\n",
       "      <td>0001b1d5-b74a-4cbf-aeb0-7df5947bf349</td>\n",
       "      <td>4</td>\n",
       "      <td>2019-10-22 11:18:14.635436</td>\n",
       "      <td>2019-10-22 11:30:52.807203</td>\n",
       "      <td>0 days 00:12:38.171767</td>\n",
       "      <td>758</td>\n",
       "    </tr>\n",
       "    <tr>\n",
       "      <th>4</th>\n",
       "      <td>00157779-810c-4498-9e05-a1e9e3cedf93</td>\n",
       "      <td>5</td>\n",
       "      <td>2019-10-19 21:34:33.849769</td>\n",
       "      <td>2019-10-19 21:59:54.637098</td>\n",
       "      <td>0 days 00:25:20.787329</td>\n",
       "      <td>1520</td>\n",
       "    </tr>\n",
       "    <tr>\n",
       "      <th>...</th>\n",
       "      <td>...</td>\n",
       "      <td>...</td>\n",
       "      <td>...</td>\n",
       "      <td>...</td>\n",
       "      <td>...</td>\n",
       "      <td>...</td>\n",
       "    </tr>\n",
       "    <tr>\n",
       "      <th>10363</th>\n",
       "      <td>fffb9e79-b927-4dbb-9b48-7fd09b23a62b</td>\n",
       "      <td>10364</td>\n",
       "      <td>2019-11-02 01:16:48.947231</td>\n",
       "      <td>2019-11-02 01:16:48.947231</td>\n",
       "      <td>0 days 00:00:00</td>\n",
       "      <td>0</td>\n",
       "    </tr>\n",
       "    <tr>\n",
       "      <th>10364</th>\n",
       "      <td>fffb9e79-b927-4dbb-9b48-7fd09b23a62b</td>\n",
       "      <td>10365</td>\n",
       "      <td>2019-11-02 18:01:27.094834</td>\n",
       "      <td>2019-11-02 18:17:41.386651</td>\n",
       "      <td>0 days 00:16:14.291817</td>\n",
       "      <td>974</td>\n",
       "    </tr>\n",
       "    <tr>\n",
       "      <th>10365</th>\n",
       "      <td>fffb9e79-b927-4dbb-9b48-7fd09b23a62b</td>\n",
       "      <td>10366</td>\n",
       "      <td>2019-11-02 19:25:53.794029</td>\n",
       "      <td>2019-11-02 19:30:50.471310</td>\n",
       "      <td>0 days 00:04:56.677281</td>\n",
       "      <td>296</td>\n",
       "    </tr>\n",
       "    <tr>\n",
       "      <th>10366</th>\n",
       "      <td>fffb9e79-b927-4dbb-9b48-7fd09b23a62b</td>\n",
       "      <td>10367</td>\n",
       "      <td>2019-11-03 14:32:55.956301</td>\n",
       "      <td>2019-11-03 14:48:44.263356</td>\n",
       "      <td>0 days 00:15:48.307055</td>\n",
       "      <td>948</td>\n",
       "    </tr>\n",
       "    <tr>\n",
       "      <th>10367</th>\n",
       "      <td>fffb9e79-b927-4dbb-9b48-7fd09b23a62b</td>\n",
       "      <td>10368</td>\n",
       "      <td>2019-11-03 15:36:01.007440</td>\n",
       "      <td>2019-11-03 16:08:25.388712</td>\n",
       "      <td>0 days 00:32:24.381272</td>\n",
       "      <td>1944</td>\n",
       "    </tr>\n",
       "  </tbody>\n",
       "</table>\n",
       "<p>10368 rows × 6 columns</p>\n",
       "</div>"
      ],
      "text/plain": [
       "                                    user_id  session_id  \\\n",
       "0      0001b1d5-b74a-4cbf-aeb0-7df5947bf349           1   \n",
       "1      0001b1d5-b74a-4cbf-aeb0-7df5947bf349           2   \n",
       "2      0001b1d5-b74a-4cbf-aeb0-7df5947bf349           3   \n",
       "3      0001b1d5-b74a-4cbf-aeb0-7df5947bf349           4   \n",
       "4      00157779-810c-4498-9e05-a1e9e3cedf93           5   \n",
       "...                                     ...         ...   \n",
       "10363  fffb9e79-b927-4dbb-9b48-7fd09b23a62b       10364   \n",
       "10364  fffb9e79-b927-4dbb-9b48-7fd09b23a62b       10365   \n",
       "10365  fffb9e79-b927-4dbb-9b48-7fd09b23a62b       10366   \n",
       "10366  fffb9e79-b927-4dbb-9b48-7fd09b23a62b       10367   \n",
       "10367  fffb9e79-b927-4dbb-9b48-7fd09b23a62b       10368   \n",
       "\n",
       "                   session_start                session_end  \\\n",
       "0     2019-10-07 13:39:45.989359 2019-10-07 13:49:41.716617   \n",
       "1     2019-10-09 18:33:55.577963 2019-10-09 18:42:22.963948   \n",
       "2     2019-10-21 19:52:30.778932 2019-10-21 20:07:30.051028   \n",
       "3     2019-10-22 11:18:14.635436 2019-10-22 11:30:52.807203   \n",
       "4     2019-10-19 21:34:33.849769 2019-10-19 21:59:54.637098   \n",
       "...                          ...                        ...   \n",
       "10363 2019-11-02 01:16:48.947231 2019-11-02 01:16:48.947231   \n",
       "10364 2019-11-02 18:01:27.094834 2019-11-02 18:17:41.386651   \n",
       "10365 2019-11-02 19:25:53.794029 2019-11-02 19:30:50.471310   \n",
       "10366 2019-11-03 14:32:55.956301 2019-11-03 14:48:44.263356   \n",
       "10367 2019-11-03 15:36:01.007440 2019-11-03 16:08:25.388712   \n",
       "\n",
       "                    duration  delta_seconds  \n",
       "0     0 days 00:09:55.727258            595  \n",
       "1     0 days 00:08:27.385985            507  \n",
       "2     0 days 00:14:59.272096            899  \n",
       "3     0 days 00:12:38.171767            758  \n",
       "4     0 days 00:25:20.787329           1520  \n",
       "...                      ...            ...  \n",
       "10363        0 days 00:00:00              0  \n",
       "10364 0 days 00:16:14.291817            974  \n",
       "10365 0 days 00:04:56.677281            296  \n",
       "10366 0 days 00:15:48.307055            948  \n",
       "10367 0 days 00:32:24.381272           1944  \n",
       "\n",
       "[10368 rows x 6 columns]"
      ]
     },
     "execution_count": 42,
     "metadata": {},
     "output_type": "execute_result"
    }
   ],
   "source": [
    "sessions['delta_seconds'] = sessions['duration'].dt.seconds\n",
    "sessions"
   ]
  },
  {
   "cell_type": "raw",
   "metadata": {},
   "source": [
    "Вернемся к выбросам в продолжительности сессий. Поместим id сессий с нулевой продолжительность в отдельный список и сделаем по нему срез основного датасета."
   ]
  },
  {
   "cell_type": "code",
   "execution_count": 43,
   "metadata": {},
   "outputs": [
    {
     "data": {
      "text/plain": [
       "array([   10,    20,    27, ..., 10361, 10362, 10364])"
      ]
     },
     "execution_count": 43,
     "metadata": {},
     "output_type": "execute_result"
    }
   ],
   "source": [
    "zero_sessions_id = sessions.query('delta_seconds == 0')['session_id'].unique()\n",
    "zero_sessions_id"
   ]
  },
  {
   "cell_type": "code",
   "execution_count": 44,
   "metadata": {
    "scrolled": false
   },
   "outputs": [
    {
     "data": {
      "text/plain": [
       "session_id\n",
       "9810     8\n",
       "3902     5\n",
       "4140     3\n",
       "4378     3\n",
       "2279     3\n",
       "        ..\n",
       "3471     1\n",
       "3467     1\n",
       "3462     1\n",
       "3461     1\n",
       "10364    1\n",
       "Name: event_name, Length: 2165, dtype: int64"
      ]
     },
     "execution_count": 44,
     "metadata": {},
     "output_type": "execute_result"
    }
   ],
   "source": [
    "(data\n",
    "     .query('session_id in @zero_sessions_id')  # делаем срез по списку сессий с нулевой продолжительностью\n",
    "     .groupby('session_id')['event_name']  # смотрим какие действия совершали пользователи в этих сессиях\n",
    "     .count()\n",
    "     .sort_values(ascending=False)\n",
    ")"
   ]
  },
  {
   "cell_type": "code",
   "execution_count": 45,
   "metadata": {
    "scrolled": true
   },
   "outputs": [
    {
     "data": {
      "text/plain": [
       "count    2165.000000\n",
       "mean        1.041570\n",
       "std         0.261747\n",
       "min         1.000000\n",
       "25%         1.000000\n",
       "50%         1.000000\n",
       "75%         1.000000\n",
       "max         8.000000\n",
       "Name: event_name, dtype: float64"
      ]
     },
     "execution_count": 45,
     "metadata": {},
     "output_type": "execute_result"
    }
   ],
   "source": [
    "# и посмотрим цифровое описание \n",
    "\n",
    "(data\n",
    "     .query('session_id in @zero_sessions_id')  \n",
    "     .groupby('session_id')['event_name']  \n",
    "     .count()\n",
    "     .sort_values(ascending=False).describe()\n",
    ")"
   ]
  },
  {
   "cell_type": "markdown",
   "metadata": {},
   "source": [
    "Изучив данные можно заключить, что в подавляющем большинстве нулевые сессии включали в себя только одно действие, что объясняет их нулевую продолжительность, которую мы определяли вычитая максимальное время сессии из минимального - в данном случае оно совпадает. Интерес представляют сессии, которые включали в себя несколько действий. Посмотрим на эти сессии внимательнее, а также определим какие именно единичные сессии часто совершают наши пользователи."
   ]
  },
  {
   "cell_type": "code",
   "execution_count": 46,
   "metadata": {},
   "outputs": [
    {
     "data": {
      "text/html": [
       "<div>\n",
       "<style scoped>\n",
       "    .dataframe tbody tr th:only-of-type {\n",
       "        vertical-align: middle;\n",
       "    }\n",
       "\n",
       "    .dataframe tbody tr th {\n",
       "        vertical-align: top;\n",
       "    }\n",
       "\n",
       "    .dataframe thead th {\n",
       "        text-align: right;\n",
       "    }\n",
       "</style>\n",
       "<table border=\"1\" class=\"dataframe\">\n",
       "  <thead>\n",
       "    <tr style=\"text-align: right;\">\n",
       "      <th></th>\n",
       "      <th>event_time</th>\n",
       "      <th>event_name</th>\n",
       "      <th>user_id</th>\n",
       "      <th>channel</th>\n",
       "      <th>event_date</th>\n",
       "      <th>session_id</th>\n",
       "    </tr>\n",
       "  </thead>\n",
       "  <tbody>\n",
       "    <tr>\n",
       "      <th>64075</th>\n",
       "      <td>2019-10-31 01:15:46.441270</td>\n",
       "      <td>photos_show</td>\n",
       "      <td>f29d922b-fc75-4eeb-a584-0c3532aa03d1</td>\n",
       "      <td>other</td>\n",
       "      <td>2019-10-31</td>\n",
       "      <td>9810</td>\n",
       "    </tr>\n",
       "    <tr>\n",
       "      <th>64076</th>\n",
       "      <td>2019-10-31 01:15:46.541507</td>\n",
       "      <td>photos_show</td>\n",
       "      <td>f29d922b-fc75-4eeb-a584-0c3532aa03d1</td>\n",
       "      <td>other</td>\n",
       "      <td>2019-10-31</td>\n",
       "      <td>9810</td>\n",
       "    </tr>\n",
       "    <tr>\n",
       "      <th>64077</th>\n",
       "      <td>2019-10-31 01:15:46.542302</td>\n",
       "      <td>photos_show</td>\n",
       "      <td>f29d922b-fc75-4eeb-a584-0c3532aa03d1</td>\n",
       "      <td>other</td>\n",
       "      <td>2019-10-31</td>\n",
       "      <td>9810</td>\n",
       "    </tr>\n",
       "    <tr>\n",
       "      <th>64078</th>\n",
       "      <td>2019-10-31 01:15:46.593045</td>\n",
       "      <td>photos_show</td>\n",
       "      <td>f29d922b-fc75-4eeb-a584-0c3532aa03d1</td>\n",
       "      <td>other</td>\n",
       "      <td>2019-10-31</td>\n",
       "      <td>9810</td>\n",
       "    </tr>\n",
       "    <tr>\n",
       "      <th>64079</th>\n",
       "      <td>2019-10-31 01:15:46.632959</td>\n",
       "      <td>photos_show</td>\n",
       "      <td>f29d922b-fc75-4eeb-a584-0c3532aa03d1</td>\n",
       "      <td>other</td>\n",
       "      <td>2019-10-31</td>\n",
       "      <td>9810</td>\n",
       "    </tr>\n",
       "    <tr>\n",
       "      <th>64080</th>\n",
       "      <td>2019-10-31 01:15:46.676125</td>\n",
       "      <td>photos_show</td>\n",
       "      <td>f29d922b-fc75-4eeb-a584-0c3532aa03d1</td>\n",
       "      <td>other</td>\n",
       "      <td>2019-10-31</td>\n",
       "      <td>9810</td>\n",
       "    </tr>\n",
       "    <tr>\n",
       "      <th>64081</th>\n",
       "      <td>2019-10-31 01:15:46.688195</td>\n",
       "      <td>photos_show</td>\n",
       "      <td>f29d922b-fc75-4eeb-a584-0c3532aa03d1</td>\n",
       "      <td>other</td>\n",
       "      <td>2019-10-31</td>\n",
       "      <td>9810</td>\n",
       "    </tr>\n",
       "    <tr>\n",
       "      <th>64082</th>\n",
       "      <td>2019-10-31 01:15:46.733027</td>\n",
       "      <td>photos_show</td>\n",
       "      <td>f29d922b-fc75-4eeb-a584-0c3532aa03d1</td>\n",
       "      <td>other</td>\n",
       "      <td>2019-10-31</td>\n",
       "      <td>9810</td>\n",
       "    </tr>\n",
       "  </tbody>\n",
       "</table>\n",
       "</div>"
      ],
      "text/plain": [
       "                      event_time   event_name  \\\n",
       "64075 2019-10-31 01:15:46.441270  photos_show   \n",
       "64076 2019-10-31 01:15:46.541507  photos_show   \n",
       "64077 2019-10-31 01:15:46.542302  photos_show   \n",
       "64078 2019-10-31 01:15:46.593045  photos_show   \n",
       "64079 2019-10-31 01:15:46.632959  photos_show   \n",
       "64080 2019-10-31 01:15:46.676125  photos_show   \n",
       "64081 2019-10-31 01:15:46.688195  photos_show   \n",
       "64082 2019-10-31 01:15:46.733027  photos_show   \n",
       "\n",
       "                                    user_id channel event_date  session_id  \n",
       "64075  f29d922b-fc75-4eeb-a584-0c3532aa03d1   other 2019-10-31        9810  \n",
       "64076  f29d922b-fc75-4eeb-a584-0c3532aa03d1   other 2019-10-31        9810  \n",
       "64077  f29d922b-fc75-4eeb-a584-0c3532aa03d1   other 2019-10-31        9810  \n",
       "64078  f29d922b-fc75-4eeb-a584-0c3532aa03d1   other 2019-10-31        9810  \n",
       "64079  f29d922b-fc75-4eeb-a584-0c3532aa03d1   other 2019-10-31        9810  \n",
       "64080  f29d922b-fc75-4eeb-a584-0c3532aa03d1   other 2019-10-31        9810  \n",
       "64081  f29d922b-fc75-4eeb-a584-0c3532aa03d1   other 2019-10-31        9810  \n",
       "64082  f29d922b-fc75-4eeb-a584-0c3532aa03d1   other 2019-10-31        9810  "
      ]
     },
     "execution_count": 46,
     "metadata": {},
     "output_type": "execute_result"
    }
   ],
   "source": [
    "data.query('session_id == 9810') # смотрим нулевую сессию с 8 действиями"
   ]
  },
  {
   "cell_type": "code",
   "execution_count": 47,
   "metadata": {},
   "outputs": [
    {
     "data": {
      "text/html": [
       "<div>\n",
       "<style scoped>\n",
       "    .dataframe tbody tr th:only-of-type {\n",
       "        vertical-align: middle;\n",
       "    }\n",
       "\n",
       "    .dataframe tbody tr th {\n",
       "        vertical-align: top;\n",
       "    }\n",
       "\n",
       "    .dataframe thead th {\n",
       "        text-align: right;\n",
       "    }\n",
       "</style>\n",
       "<table border=\"1\" class=\"dataframe\">\n",
       "  <thead>\n",
       "    <tr style=\"text-align: right;\">\n",
       "      <th></th>\n",
       "      <th>event_time</th>\n",
       "      <th>event_name</th>\n",
       "      <th>user_id</th>\n",
       "      <th>channel</th>\n",
       "      <th>event_date</th>\n",
       "      <th>session_id</th>\n",
       "    </tr>\n",
       "  </thead>\n",
       "  <tbody>\n",
       "    <tr>\n",
       "      <th>44895</th>\n",
       "      <td>2019-10-24 16:20:42.971488</td>\n",
       "      <td>photos_show</td>\n",
       "      <td>62a5375a-eb94-4ed2-90ef-3d79d8e0c359</td>\n",
       "      <td>other</td>\n",
       "      <td>2019-10-24</td>\n",
       "      <td>3902</td>\n",
       "    </tr>\n",
       "    <tr>\n",
       "      <th>44896</th>\n",
       "      <td>2019-10-24 16:20:43.087646</td>\n",
       "      <td>photos_show</td>\n",
       "      <td>62a5375a-eb94-4ed2-90ef-3d79d8e0c359</td>\n",
       "      <td>other</td>\n",
       "      <td>2019-10-24</td>\n",
       "      <td>3902</td>\n",
       "    </tr>\n",
       "    <tr>\n",
       "      <th>44897</th>\n",
       "      <td>2019-10-24 16:20:43.165635</td>\n",
       "      <td>photos_show</td>\n",
       "      <td>62a5375a-eb94-4ed2-90ef-3d79d8e0c359</td>\n",
       "      <td>other</td>\n",
       "      <td>2019-10-24</td>\n",
       "      <td>3902</td>\n",
       "    </tr>\n",
       "    <tr>\n",
       "      <th>44898</th>\n",
       "      <td>2019-10-24 16:20:43.383629</td>\n",
       "      <td>photos_show</td>\n",
       "      <td>62a5375a-eb94-4ed2-90ef-3d79d8e0c359</td>\n",
       "      <td>other</td>\n",
       "      <td>2019-10-24</td>\n",
       "      <td>3902</td>\n",
       "    </tr>\n",
       "    <tr>\n",
       "      <th>44899</th>\n",
       "      <td>2019-10-24 16:20:43.475608</td>\n",
       "      <td>photos_show</td>\n",
       "      <td>62a5375a-eb94-4ed2-90ef-3d79d8e0c359</td>\n",
       "      <td>other</td>\n",
       "      <td>2019-10-24</td>\n",
       "      <td>3902</td>\n",
       "    </tr>\n",
       "  </tbody>\n",
       "</table>\n",
       "</div>"
      ],
      "text/plain": [
       "                      event_time   event_name  \\\n",
       "44895 2019-10-24 16:20:42.971488  photos_show   \n",
       "44896 2019-10-24 16:20:43.087646  photos_show   \n",
       "44897 2019-10-24 16:20:43.165635  photos_show   \n",
       "44898 2019-10-24 16:20:43.383629  photos_show   \n",
       "44899 2019-10-24 16:20:43.475608  photos_show   \n",
       "\n",
       "                                    user_id channel event_date  session_id  \n",
       "44895  62a5375a-eb94-4ed2-90ef-3d79d8e0c359   other 2019-10-24        3902  \n",
       "44896  62a5375a-eb94-4ed2-90ef-3d79d8e0c359   other 2019-10-24        3902  \n",
       "44897  62a5375a-eb94-4ed2-90ef-3d79d8e0c359   other 2019-10-24        3902  \n",
       "44898  62a5375a-eb94-4ed2-90ef-3d79d8e0c359   other 2019-10-24        3902  \n",
       "44899  62a5375a-eb94-4ed2-90ef-3d79d8e0c359   other 2019-10-24        3902  "
      ]
     },
     "execution_count": 47,
     "metadata": {},
     "output_type": "execute_result"
    }
   ],
   "source": [
    "data.query('session_id == 3902')   # и нулевую сессию с пятью действиями"
   ]
  },
  {
   "cell_type": "code",
   "execution_count": 48,
   "metadata": {},
   "outputs": [
    {
     "data": {
      "text/html": [
       "<div>\n",
       "<style scoped>\n",
       "    .dataframe tbody tr th:only-of-type {\n",
       "        vertical-align: middle;\n",
       "    }\n",
       "\n",
       "    .dataframe tbody tr th {\n",
       "        vertical-align: top;\n",
       "    }\n",
       "\n",
       "    .dataframe thead th {\n",
       "        text-align: right;\n",
       "    }\n",
       "</style>\n",
       "<table border=\"1\" class=\"dataframe\">\n",
       "  <thead>\n",
       "    <tr style=\"text-align: right;\">\n",
       "      <th></th>\n",
       "      <th>event_time</th>\n",
       "      <th>event_name</th>\n",
       "      <th>user_id</th>\n",
       "      <th>channel</th>\n",
       "      <th>event_date</th>\n",
       "      <th>session_id</th>\n",
       "    </tr>\n",
       "  </thead>\n",
       "  <tbody>\n",
       "    <tr>\n",
       "      <th>17948</th>\n",
       "      <td>2019-10-14 18:46:18.902931</td>\n",
       "      <td>photos_show</td>\n",
       "      <td>9c78948d-5850-4916-9d7f-341fec1b7737</td>\n",
       "      <td>other</td>\n",
       "      <td>2019-10-14</td>\n",
       "      <td>6214</td>\n",
       "    </tr>\n",
       "    <tr>\n",
       "      <th>17949</th>\n",
       "      <td>2019-10-14 18:46:19.070015</td>\n",
       "      <td>photos_show</td>\n",
       "      <td>9c78948d-5850-4916-9d7f-341fec1b7737</td>\n",
       "      <td>other</td>\n",
       "      <td>2019-10-14</td>\n",
       "      <td>6214</td>\n",
       "    </tr>\n",
       "  </tbody>\n",
       "</table>\n",
       "</div>"
      ],
      "text/plain": [
       "                      event_time   event_name  \\\n",
       "17948 2019-10-14 18:46:18.902931  photos_show   \n",
       "17949 2019-10-14 18:46:19.070015  photos_show   \n",
       "\n",
       "                                    user_id channel event_date  session_id  \n",
       "17948  9c78948d-5850-4916-9d7f-341fec1b7737   other 2019-10-14        6214  \n",
       "17949  9c78948d-5850-4916-9d7f-341fec1b7737   other 2019-10-14        6214  "
      ]
     },
     "execution_count": 48,
     "metadata": {},
     "output_type": "execute_result"
    }
   ],
   "source": [
    "data.query('session_id == 6214')  #  и с двумя"
   ]
  },
  {
   "cell_type": "markdown",
   "metadata": {},
   "source": [
    "Все действия были действительно совершены в один момент, все из просмотренных включали в себя просмотр фотографий, все пришли не из яндекса или гугла. Можно сделать вывод что имел место переход по прямой ссылке. Какие были действия в нулевых сессиях?"
   ]
  },
  {
   "cell_type": "code",
   "execution_count": 49,
   "metadata": {
    "scrolled": false
   },
   "outputs": [
    {
     "data": {
      "text/plain": [
       "event_name\n",
       "tips_show        925\n",
       "photos_show      626\n",
       "search           379\n",
       "contacts_show    131\n",
       "map              105\n",
       "advert_open       47\n",
       "favorites_add     31\n",
       "tips_click        10\n",
       "contacts_call      1\n",
       "Name: event_name, dtype: int64"
      ]
     },
     "execution_count": 49,
     "metadata": {},
     "output_type": "execute_result"
    }
   ],
   "source": [
    "(data\n",
    "     .query('session_id in @zero_sessions_id')  # делаем срез по списку сессий с нулевой продолжительностью\n",
    "     .groupby('event_name')['event_name']  # смотрим какие действия совершали пользователи в этих сессиях\n",
    "     .count()\n",
    "     .sort_values(ascending=False)\n",
    ")"
   ]
  },
  {
   "cell_type": "markdown",
   "metadata": {},
   "source": [
    "Теперь посмотрим какие были действия в сессиях с нулевой продолжительностью, но при этом более одного действия. "
   ]
  },
  {
   "cell_type": "code",
   "execution_count": 50,
   "metadata": {
    "scrolled": false
   },
   "outputs": [
    {
     "data": {
      "text/plain": [
       "session_id\n",
       "9810      True\n",
       "3902      True\n",
       "4140      True\n",
       "4378      True\n",
       "2279      True\n",
       "         ...  \n",
       "3471     False\n",
       "3467     False\n",
       "3462     False\n",
       "3461     False\n",
       "10364    False\n",
       "Name: event_name, Length: 2165, dtype: bool"
      ]
     },
     "metadata": {},
     "output_type": "display_data"
    },
    {
     "data": {
      "text/plain": [
       "[9810,\n",
       " 3902,\n",
       " 4140,\n",
       " 4378,\n",
       " 2279,\n",
       " 3887,\n",
       " 7228,\n",
       " 9811,\n",
       " 3192,\n",
       " 502,\n",
       " 6115,\n",
       " 9904,\n",
       " 4104,\n",
       " 7225,\n",
       " 3145,\n",
       " 8727,\n",
       " 3110,\n",
       " 4141,\n",
       " 6208,\n",
       " 6214,\n",
       " 6218,\n",
       " 6221,\n",
       " 7799,\n",
       " 10012,\n",
       " 3675,\n",
       " 6611,\n",
       " 4798,\n",
       " 4052,\n",
       " 7127,\n",
       " 6812,\n",
       " 10062,\n",
       " 5857,\n",
       " 4379,\n",
       " 4382,\n",
       " 7005,\n",
       " 1987,\n",
       " 4286,\n",
       " 1997,\n",
       " 1998,\n",
       " 854,\n",
       " 3428,\n",
       " 4262,\n",
       " 4222,\n",
       " 9617,\n",
       " 8142,\n",
       " 947,\n",
       " 965,\n",
       " 968,\n",
       " 1847,\n",
       " 9738,\n",
       " 1846,\n",
       " 3281,\n",
       " 10049,\n",
       " 1953,\n",
       " 3831,\n",
       " 65,\n",
       " 7711,\n",
       " 6438,\n",
       " 7708,\n",
       " 7701,\n",
       " 6469,\n",
       " 165,\n",
       " 3886,\n",
       " 7603,\n",
       " 6445,\n",
       " 6553,\n",
       " 64,\n",
       " 3746,\n",
       " 3900,\n",
       " 62,\n",
       " 5107,\n",
       " 7698,\n",
       " 6456,\n",
       " 10361,\n",
       " 7706,\n",
       " 8702,\n",
       " 2553]"
      ]
     },
     "execution_count": 50,
     "metadata": {},
     "output_type": "execute_result"
    }
   ],
   "source": [
    "result = (data\n",
    "     .query('session_id in @zero_sessions_id')  # делаем срез по списку сессий с нулевой продолжительностью\n",
    "     .groupby('session_id')['event_name']  # смотрим какие действия совершали пользователи в этих сессиях\n",
    "     .count()\n",
    "     .sort_values(ascending=False)\n",
    "     ) > 1    # отбираем те id, где было более 1 действия \n",
    "\n",
    "display(result)\n",
    "session_ids_with_true = result[result].index.tolist()  # записываем в новую переменную\n",
    "session_ids_with_true"
   ]
  },
  {
   "cell_type": "code",
   "execution_count": null,
   "metadata": {},
   "outputs": [],
   "source": []
  },
  {
   "cell_type": "code",
   "execution_count": null,
   "metadata": {},
   "outputs": [],
   "source": []
  },
  {
   "cell_type": "code",
   "execution_count": 51,
   "metadata": {},
   "outputs": [
    {
     "ename": "NameError",
     "evalue": "name 'data_script' is not defined",
     "output_type": "error",
     "traceback": [
      "\u001b[0;31m---------------------------------------------------------------------------\u001b[0m",
      "\u001b[0;31mNameError\u001b[0m                                 Traceback (most recent call last)",
      "\u001b[0;32m/tmp/ipykernel_269/541154210.py\u001b[0m in \u001b[0;36m<module>\u001b[0;34m\u001b[0m\n\u001b[0;32m----> 1\u001b[0;31m \u001b[0mdata_script\u001b[0m\u001b[0;34m\u001b[0m\u001b[0;34m\u001b[0m\u001b[0m\n\u001b[0m",
      "\u001b[0;31mNameError\u001b[0m: name 'data_script' is not defined"
     ]
    }
   ],
   "source": [
    "data_script"
   ]
  },
  {
   "cell_type": "code",
   "execution_count": null,
   "metadata": {},
   "outputs": [],
   "source": [
    "(data\n",
    "     .query('session_id in @session_ids_with_true') # отбираем сессии из новой переменной \n",
    "     .groupby('event_name')['event_name']\n",
    "      .count()\n",
    "     .sort_values(ascending=False)\n",
    ")"
   ]
  },
  {
   "cell_type": "markdown",
   "metadata": {},
   "source": [
    "В подавляющем большинстве случаев речь шла о просмотре фотографий, а также всплывающих автоматических рекомендациях. Таким образом можно заключить что нулевые сессии с несколькими действиями вероятнее всего осуществлялись по одномоментному переходу по ссылкам."
   ]
  },
  {
   "cell_type": "markdown",
   "metadata": {},
   "source": [
    "Посмотрим теперь на аномально длинные сессии. Средняя продолжительность 1 сессии - 12 минут, медианная - 5, 3 процентиль составляет 17 минут, а максимальная продолжительность одной сессии - 5 часов 20 минут. Посмотрим повнимательнее на сессии продолжительностью более 1 часа - это 3600 секунд."
   ]
  },
  {
   "cell_type": "code",
   "execution_count": null,
   "metadata": {},
   "outputs": [],
   "source": [
    "sessions.query('delta_seconds >3600')['session_id'].unique().shape"
   ]
  },
  {
   "cell_type": "code",
   "execution_count": null,
   "metadata": {
    "scrolled": true
   },
   "outputs": [],
   "source": [
    "long_sessions_id = sessions.query('delta_seconds >3600')['session_id'].unique()"
   ]
  },
  {
   "cell_type": "code",
   "execution_count": null,
   "metadata": {
    "scrolled": true
   },
   "outputs": [],
   "source": [
    "(data\n",
    "     .query('session_id in @long_sessions_id')\n",
    "     .groupby('event_name')['event_name']\n",
    "     .count()\n",
    "     .sort_values(ascending=False)\n",
    ")"
   ]
  },
  {
   "cell_type": "code",
   "execution_count": null,
   "metadata": {
    "scrolled": true
   },
   "outputs": [],
   "source": [
    "(data\n",
    "    .query('session_id in @long_sessions_id')\n",
    "    .groupby('session_id')['event_name']\n",
    "    .count()\n",
    "    .sort_values(ascending=False)\n",
    ")"
   ]
  },
  {
   "cell_type": "code",
   "execution_count": null,
   "metadata": {
    "scrolled": true
   },
   "outputs": [],
   "source": [
    "data.query('session_id == 6233').groupby('event_name')['event_name'].count().sort_values(ascending=False)"
   ]
  },
  {
   "cell_type": "code",
   "execution_count": null,
   "metadata": {
    "scrolled": true
   },
   "outputs": [],
   "source": [
    "data.query('session_id == 6234').groupby('event_name')['event_name'].count().sort_values(ascending=False)"
   ]
  },
  {
   "cell_type": "markdown",
   "metadata": {},
   "source": [
    "Большое количество действий показывает, что продолжительные сессии скорее всего отмечались когда пользователи совершали много действий, активно что-то ища  - открывая объявления, смотря контакты и фотографии. Обращает на себя внимание 3 место по активностям целевого действия \"просмотр контакта\" - возможно стоит проверить конверсию длинных сессий."
   ]
  },
  {
   "cell_type": "markdown",
   "metadata": {},
   "source": [
    "**Вывод 2.2:** для анализа количества времени, проведенного пользователем в приложении, мы выделили пользовательские сессии путем установления 30-минутного таймаута. Удалось выделить 10368 сессий, равномерно распределенных по всему временному периоду. На одного пользователя в среднем приходится 2.4 сессии, а их медианное количество - 1 на пользователя. \n",
    "<br>\n",
    "<br>\n",
    "Среднее время, проведенное в сессии, выделенной с помощью введения 30-минутных таймаутов - 12 минут. Медианное время в свою очередь заметно отличается - всего 5 минут. Это говорит о наличии большого количества выбросов, что показывает и максимальное время в рамках одной сессии - 5 часов 20 минут.\n",
    "<br>\n",
    "<br>\n",
    "Анализ аномально коротких и длинных сессий показал, что в нулевых по продожительности сессиях в подавляющем большинстве случаев речь шла либо о одномоментном действии (соответственно продолжительность не могла быть корректно подсчитана, т.к. она выделяется по разнице времени между несколькими событиями в рамках сессии) либо о просмотрах фотографий, а также всплывающих автоматических рекомендациях. Таким образом можно заключить что нулевые сессии с несколькими действиями вероятнее всего осуществлялись по одномоментному переходу по ссылкам.\n",
    "<br>\n",
    "<br>\n",
    "Большое количество действий показывает, что продолжительные сессии (более 1 часа) скорее всего отмечались когда пользователи совершали много действий, активно что-то ища  - открывая объявления, смотря контакты и фотографии. Обращает на себя внимание 3 место по активностям целевого действия \"просмотр контакта\" - стоит проверить гипотезу о более высокой конверсии длинных сессий."
   ]
  },
  {
   "cell_type": "markdown",
   "metadata": {},
   "source": [
    "##     2.3. Определение частоты действий пользователя"
   ]
  },
  {
   "cell_type": "markdown",
   "metadata": {},
   "source": [
    "Для определения частоты действий пользователя сгруппируем датасет по id пользователя и посчитаем общее количество всех действий. Посмотрим цифровое описание:"
   ]
  },
  {
   "cell_type": "code",
   "execution_count": null,
   "metadata": {
    "scrolled": true
   },
   "outputs": [],
   "source": [
    "data.groupby('user_id')['event_name'].count().describe()"
   ]
  },
  {
   "cell_type": "markdown",
   "metadata": {},
   "source": [
    "В среднем на одного пользователя приходится 17 действий, а медиана - 9. Максимальное количество - 478. Однако эти данные включают в себя и просмотр рекомендаций, что является не пользовательским, а автоматическим действием. Посмотрим частоту действий без него:"
   ]
  },
  {
   "cell_type": "code",
   "execution_count": null,
   "metadata": {},
   "outputs": [],
   "source": [
    "data_manual = data.query('event_name != \"tips_show\"') # исключаем действие tips_show\n",
    "data_manual.groupby('user_id')['event_name'].count().describe()"
   ]
  },
  {
   "cell_type": "markdown",
   "metadata": {},
   "source": [
    "В среднем на пользователя приходится уже 9.5 действий, а медиана составляет всего 5. Максимальное количество действий снизилось до 336.\n",
    "\n",
    "\n",
    "Посмотрим разбивку частоты действий пользователей по периодам - в будни и выходные."
   ]
  },
  {
   "cell_type": "markdown",
   "metadata": {},
   "source": [
    "Для анализа разбивки частоты действий пользователя по дням недели применим функцию с методом isoweekday - понедельник 1 день недели, воскресенье 7:"
   ]
  },
  {
   "cell_type": "code",
   "execution_count": null,
   "metadata": {},
   "outputs": [],
   "source": [
    "# Определение функции для получения дня недели\n",
    "def get_weekday(date):\n",
    "    return date.isoweekday()\n",
    "\n",
    "# Применение функции к серии данных\n",
    "data['week_day'] = data['event_date'].apply(get_weekday)\n",
    "data_manual['week_day'] = data_manual['event_date'].apply(get_weekday)  # применяем функцию к датасету без рекомендаций\n",
    "data.sample(5)"
   ]
  },
  {
   "cell_type": "code",
   "execution_count": null,
   "metadata": {
    "scrolled": false
   },
   "outputs": [],
   "source": [
    "# смотрим описание активности в будни\n",
    "data.query('week_day != 6 & week_day != 7 ').groupby('user_id')['event_name'].count().describe()"
   ]
  },
  {
   "cell_type": "code",
   "execution_count": null,
   "metadata": {},
   "outputs": [],
   "source": [
    "# смотрим описание активности в будни без tips_show\n",
    "\n",
    "data_manual.query('week_day != 6 & week_day != 7 ').groupby('user_id')['event_name'].count().describe()"
   ]
  },
  {
   "cell_type": "markdown",
   "metadata": {},
   "source": [
    "В среднем в будни 15.7 активностей на пользователя, медиана - 8. Без автоматических действий показатель снижается до в среднем 8 действий, медиана - 5. до 8.5"
   ]
  },
  {
   "cell_type": "code",
   "execution_count": null,
   "metadata": {
    "scrolled": true
   },
   "outputs": [],
   "source": [
    "# смотрим описание активности в выходные\n",
    "\n",
    "data.query('week_day == 6 or week_day == 7 ').groupby('user_id')['event_name'].count().describe()"
   ]
  },
  {
   "cell_type": "code",
   "execution_count": null,
   "metadata": {},
   "outputs": [],
   "source": [
    "# смотрим описание активности в выходные без tips_show\n",
    "\n",
    "data_manual.query('week_day == 6 or week_day == 7 ').groupby('user_id')['event_name'].count().describe()"
   ]
  },
  {
   "cell_type": "markdown",
   "metadata": {},
   "source": [
    "Среднее количество действий  - 13, медиана - 7.  Без автоматических действий показатель снижается до в среднем 7.5 действий, медиана - 4. до 8.5"
   ]
  },
  {
   "cell_type": "markdown",
   "metadata": {},
   "source": [
    "Можно заключить, что пользователи совершают больше действий в будни. В выходные приложением пользуются меньше. Попробуем теперь посмотреть в разрезе по времени суток. Для этого напишем функцию, которая будет определять время дня по времени действия."
   ]
  },
  {
   "cell_type": "code",
   "execution_count": null,
   "metadata": {},
   "outputs": [],
   "source": [
    "def time_of_day_dict(dt=None, ts=None, tod_dict=None):\n",
    "    '''\n",
    "    Функция принимает объект datetime (dt) или timestamp (ts), и словарь tod_dict {час : наименование времени}\n",
    "    Возвращает строку c временем суток. \n",
    "    При отсутствии аргументов - возвращает строку с текущим временем суток.\n",
    "\n",
    "        Словарь по умолчанию: \n",
    "        {0: 'ночь', 1: 'ночь', 2: 'ночь', 3: 'ночь', 4: 'ночь', 5: 'ночь', \n",
    "         6: 'утро', 7: 'утро', 8: 'утро', 9: 'утро', 10: 'утро', 11: 'утро',\n",
    "         12: 'день', 13: 'день', 14: 'день', 15: 'день', 16: 'день', 17: 'день',\n",
    "         18: 'вечер', 19: 'вечер', 20: 'вечер',21: 'вечер', 22: 'вечер', 23: 'вечер' }\n",
    "\n",
    "    Eсли час не отражен в словаре, возвращает None\n",
    "    '''\n",
    "\n",
    "    # определение словаря\n",
    "    if tod_dict:\n",
    "        pass\n",
    "    else:\n",
    "        tod_dict = {0: 'ночь', 1: 'ночь', 2: 'ночь', 3: 'ночь', 4: 'ночь', 5: 'ночь',  \n",
    "                    6: 'утро', 7: 'утро', 8: 'утро', 9: 'утро', 10: 'утро', 11: 'утро',\n",
    "                    12: 'день', 13: 'день', 14: 'день', 15: 'день', 16: 'день', 17: 'день',\n",
    "                    18: 'вечер', 19: 'вечер', 20: 'вечер',21: 'вечер', 22: 'вечер', 23: 'вечер'}  # устанавливаем словарь\n",
    "\n",
    "    # определяем оцениваемое время\n",
    "    if dt:\n",
    "        if isinstance(dt, datetime):\n",
    "            dt = dt\n",
    "        else:\n",
    "            print('некорректный формат dt: %s \\n требуется объект datetime.datetime' % (type(dt)))\n",
    "            return None\n",
    "    elif ts:\n",
    "        if isinstance(ts, (int, float)):\n",
    "            if ts > 0:\n",
    "                dt = datetime.datetime.fromtimestamp(ts)\n",
    "                print(dt.ctime())\n",
    "            else:\n",
    "                print('отрицательное значение ts недопустимо')\n",
    "                return None\n",
    "        else:\n",
    "            print('некорректный формат ts: %s \\n требуется значение int или float' % (type(ts)))\n",
    "            return None\n",
    "    else:\n",
    "        dt = datetime.datetime.now()\n",
    "    h = dt.hour\n",
    "\n",
    "    # подбор\n",
    "    if h in tod_dict:\n",
    "        tod = tod_dict[h]\n",
    "        return tod\n",
    "    else:\n",
    "        print('Значение времени отсутствует в словаре')\n",
    "        return None"
   ]
  },
  {
   "cell_type": "code",
   "execution_count": null,
   "metadata": {
    "scrolled": true
   },
   "outputs": [],
   "source": [
    "# примененяем функцию time_of_day_dict к полю 'event_time'\n",
    "data['time_of_day'] = data['event_time'].apply(lambda x: time_of_day_dict(dt=x))\n",
    "\n",
    "# выводим результат\n",
    "data.sample(10)"
   ]
  },
  {
   "cell_type": "markdown",
   "metadata": {},
   "source": [
    "Добавим так же функцию для определения будни/выходные и тоже применим ее к датасету."
   ]
  },
  {
   "cell_type": "code",
   "execution_count": null,
   "metadata": {},
   "outputs": [],
   "source": [
    "def day_of_the_week(day):\n",
    "    if day == 6 or day == 7:\n",
    "        return 'выходные'\n",
    "    else:\n",
    "        return 'будни'"
   ]
  },
  {
   "cell_type": "code",
   "execution_count": null,
   "metadata": {
    "scrolled": false
   },
   "outputs": [],
   "source": [
    "data['workday_or_not'] = data['week_day'].apply(lambda x: day_of_the_week(day=x))\n",
    "data.sample(10)"
   ]
  },
  {
   "cell_type": "markdown",
   "metadata": {},
   "source": [
    "Для анализа создадим переменную event_daytime, куда сгруппируем данные по времени дня и посчитаем их долю"
   ]
  },
  {
   "cell_type": "code",
   "execution_count": null,
   "metadata": {
    "scrolled": true
   },
   "outputs": [],
   "source": [
    "event_daytime = data.pivot_table(\n",
    "    index='time_of_day',\n",
    "    values='event_time',\n",
    "    aggfunc='count') .reset_index()\n",
    "\n",
    "event_daytime.columns = ['время дня', 'количество событий']\n",
    "event_daytime ['%'] = round(event_daytime ['количество событий']/event_daytime['количество событий'].sum()*100,2)\n",
    "\n",
    "event_daytime = event_daytime.sort_values(by = \"%\", ascending = False)"
   ]
  },
  {
   "cell_type": "code",
   "execution_count": null,
   "metadata": {},
   "outputs": [],
   "source": [
    "# строим график\n",
    "plt.figure(figsize=(5, 3))\n",
    "sns.barplot(data=event_daytime, x = 'время дня', y= 'количество событий')\\\n",
    ".set(title = 'Количество событий по времени дня', xlabel = 'Время дня', ylabel = \"Количество событий\" )\n",
    "\n",
    "plt.show()"
   ]
  },
  {
   "cell_type": "markdown",
   "metadata": {},
   "source": [
    "Добавим разбивку по дням недели"
   ]
  },
  {
   "cell_type": "code",
   "execution_count": null,
   "metadata": {},
   "outputs": [],
   "source": [
    "event_quantity = data.pivot_table(\n",
    "    index='time_of_day',\n",
    "    columns='workday_or_not',\n",
    "    values='event_time',\n",
    "    aggfunc='count'   \n",
    ")\n",
    "\n",
    "# посчитаем доли  \n",
    "\n",
    "event_quantity['будни_%'] = round(event_quantity['будни']/(event_quantity['будни'].sum() + \\\n",
    "                                                           event_quantity['выходные'].sum())*100, 2)\n",
    "event_quantity['выходные_%'] = round(event_quantity['выходные']/(event_quantity['будни'].sum() + \\\n",
    "                                                            event_quantity['выходные'].sum())*100, 2)\n",
    "event_quantity"
   ]
  },
  {
   "cell_type": "code",
   "execution_count": null,
   "metadata": {},
   "outputs": [],
   "source": [
    "# строим хитмэп\n",
    "\n",
    "plt.figure(figsize=(8, 3))  # задаём размер графика\n",
    "sns.heatmap(\n",
    "    event_quantity.drop(columns=['будни','выходные']),  # удаляем лишние столбцы\n",
    "    annot=True,  # включаем подписи\n",
    ")\n",
    "plt.title('Тепловая карта частоты действий по дню недели и времени дня, % ')  # название графика\n",
    "plt.ylabel('Время дня')\n",
    "plt.xlabel('День недели')\n",
    "plt.show()"
   ]
  },
  {
   "cell_type": "markdown",
   "metadata": {},
   "source": [
    "**Вывод 2.3:** частота действий на пользователя в среднем оставляет 17 действий , медиана - 9. Максимальное количество совершенных на пользователя действий - 478, минимально - 1. При исключении из общего массива действий при подсчете show_tips, т.к. оно является автоматическим, в среднем на пользователя приходится уже 9.5 действий, а медиана составляет всего 5. Максимальное количество действий снизилось до 336.\n",
    "<br>\n",
    "<br>\n",
    "В разбивке частоты действий пользователей по периодам будни/выходные выявлено, что в среднем в будни 15.7 активностей на пользователя, медиана - 8. Без автоматических действий показатель снижается до в среднем 8 действий, медиана - 5. до 8.5. \n",
    "<br>В выходные среднее количество действий  - 13, медиана - 7.  Без автоматических действий показатель снижается до в среднем 7.5 действий, медиана - 4. до 8.5\n",
    "<br>\n",
    "Можно заключить, что пользователи совершают больше действий в будни. В выходные приложением пользуются меньше. \n",
    "<br>\n",
    "<br>\n",
    "В разбивке частоты действий пользователей по времени дня выявлено подавляющее преимущество дневных посещений, на втором месте вечер, потом идут утро и меньше всего приложение используют ночью.\n",
    "<br>\n",
    "<br>\n",
    "Посмотрев сочетание дня недели и времени дня можно заключить, что самые популярное время у пользователей нашего приложения - будни день и будни вечер. Наименее популярно приложение в ночное время - как в выходные, так и в будни."
   ]
  },
  {
   "cell_type": "markdown",
   "metadata": {},
   "source": [
    "## 2.4. Расчет конверсии в целевое действие (просмотр контакта)"
   ]
  },
  {
   "cell_type": "markdown",
   "metadata": {},
   "source": [
    "Для расчета конверсии в целевое действие (просмотр контакта) нам нужно разделить уникальных пользователей, совершивших целевое действие, на общее количество уникальных пользователей"
   ]
  },
  {
   "cell_type": "code",
   "execution_count": null,
   "metadata": {},
   "outputs": [],
   "source": [
    "conversion_rate = round(data[data['event_name'] == 'contacts_show']['user_id'].nunique()\\\n",
    "                        /data['user_id'].nunique()*100,2)\n",
    "conversion_rate"
   ]
  },
  {
   "cell_type": "markdown",
   "metadata": {},
   "source": [
    "Посмотрим как влияют автоматические рекомендации на расчет уровня корреляции - посчитаем корреляцию на датасете без них."
   ]
  },
  {
   "cell_type": "code",
   "execution_count": null,
   "metadata": {},
   "outputs": [],
   "source": [
    "conversion_rate_manual = round(data_manual[data_manual['event_name'] == 'contacts_show']['user_id'].nunique()\\\n",
    "                        /data_manual['user_id'].nunique()*100,2)\n",
    "conversion_rate_manual"
   ]
  },
  {
   "cell_type": "markdown",
   "metadata": {},
   "source": [
    "**Вывод 2.4:** Большинство пользователей не совершают целевого действия. До события \"просмотр контакта\", которое мы определили как целовое, доходит примерно 23% всех пользователей. Если рассматривать датасет только с пользовательскими действиями (без автоматических рекомендаций), то конверсия возрастает до 27.36%"
   ]
  },
  {
   "cell_type": "markdown",
   "metadata": {},
   "source": [
    "Проведенный исследовательский анализ позволил заключить следующее о поведении пользователя:\n",
    "<br>\n",
    "<br>\n",
    "- Индекс удержания пользователей снижается с каждым их следующим днем  в приложении. Взаимосвязи между поведением пользователей и датой начала использования приложения не выявлено. \n",
    "<br>\n",
    "- На одного пользователя в среднем приходится 2.4 сессии, а их медианное количество - 1 на пользователя. В среднем за сессию пользователи проводят в приложении 12 минут\n",
    "<br>\n",
    "- Частота действий на пользователя в среднем оставляет 17 действий , медиана - 9. Пользователи совершают больше действий в будни. В выходные приложением пользуются меньше.\n",
    "<br>\n",
    "- В разбивке частоты действий пользователей по времени дня выявлено подавляющее преимущество дневных посещений, на втором месте вечер, потом идут утро и меньше всего приложение используют ночью.\n",
    "<br>\n",
    "- Посмотрев сочетание дня недели и времени дня можно заключить, что самые популярное время у пользователей нашего приложения - будни день и будни вечер. Наименее популярно приложение в ночное время - как в выходные, так и в будни.\n",
    "<br>\n",
    "-  Большинство пользователей не совершают целевого действия. До события \"просмотр контакта\", которое мы определили как целовое, доходит примерно 23% всех пользователей. "
   ]
  },
  {
   "cell_type": "markdown",
   "metadata": {},
   "source": [
    "# 3. Сегментация пользователей на основе проведенного исследовательского анализа"
   ]
  },
  {
   "cell_type": "markdown",
   "metadata": {},
   "source": [
    "## 3.1. Возможные варианты сегментации пользователей, возникшие по итогам исследовательского анализа данных"
   ]
  },
  {
   "cell_type": "markdown",
   "metadata": {},
   "source": [
    "По итогам исследовательского анализа данных представляется возможным сегментировать пользователей по нескольким вариантам. Рассмотрим их и выберем оптимальный для поставленных перед нами целью - выделение пользователей на основе их действий"
   ]
  },
  {
   "cell_type": "markdown",
   "metadata": {},
   "source": [
    "1. Сегментирование по неделям - возможно провести анализ по 4 неделям, рассмотрев как меняется конверсия и удержание клиентов. Однако этот вариант не представляется перспективным с точки зрения бизнес-логики, т.к. это не даст нам особых инсайтов с точки зрения стратегии. Речь идет о ретроспективном анализе  - \"как было\". Отбрасываем этот вариант как неперспективный."
   ]
  },
  {
   "cell_type": "markdown",
   "metadata": {},
   "source": [
    "2. Сегментирование по действиям пользователей - можно выделить самые популярные сценарии (последовательность действий) пользователей в приложении, чтобы в дальнейшем попытаться выявить какой из них обладает лучшими бизнес-показателями. Это позволит разработать рекомендации о потенциальной дороботке приложения и его юзабилити."
   ]
  },
  {
   "cell_type": "markdown",
   "metadata": {},
   "source": [
    "3. Сегментирование по времени активности в приложении - во время исследовательского анализа мы выделили основные пользовательские сессии и рассмотрели их специфику в разрезе будни/выходные, а также в разное время дня. Эта сегментация позволяет выделить сильно отличающиеся друг от друга группы пользователей и сравнить конверсию в целевое действие и удержание пользователей."
   ]
  },
  {
   "cell_type": "markdown",
   "metadata": {},
   "source": [
    "**Вывод 3.1.:** сформулировано 3 возможных варианта сегментации пользователей, из них 2 и 3 вариант представляются перспективными."
   ]
  },
  {
   "cell_type": "markdown",
   "metadata": {},
   "source": [
    "## 3.2. Использованный способ сегментации пользователей: общие принципы, обоснование выбора, детальное описание сегментов"
   ]
  },
  {
   "cell_type": "markdown",
   "metadata": {},
   "source": [
    "Для сегментирования пользователей используем третий рассматриваемый способ, распределив их по времени активности в приложении. Это позволит нам сформулировать бизнес-рекомендации и выделить особенности поведения пользователей в зависимости от времени сессии.\n",
    "\n",
    "Для этого напишем функцию segment_data, которая будет соединять данные о времени дня и дне недели, образовывая сегменты для анализа."
   ]
  },
  {
   "cell_type": "code",
   "execution_count": null,
   "metadata": {},
   "outputs": [],
   "source": [
    "def segment_data(row):\n",
    "    workday = row['workday_or_not']\n",
    "    time_of_day = row['time_of_day']\n",
    "    \n",
    "    if workday == 'будни' and time_of_day == 'утро':\n",
    "        return 'будни, утро'\n",
    "    elif workday == 'будни' and time_of_day == 'день':\n",
    "        return 'будни, день'\n",
    "    elif workday == 'будни' and time_of_day == 'вечер':\n",
    "        return 'будни, вечер'\n",
    "    elif workday == 'будни' and time_of_day == 'ночь':\n",
    "        return 'будни, ночь'\n",
    "    elif workday == 'выходные' and time_of_day == 'утро':\n",
    "        return 'выходные, утро'\n",
    "    elif workday == 'выходные' and time_of_day == 'день':\n",
    "        return 'выходные, день'\n",
    "    elif workday == 'выходные' and time_of_day == 'вечер':\n",
    "        return 'выходные, вечер'\n",
    "    elif workday == 'выходные' and time_of_day == 'ночь':\n",
    "        return 'выходные, ночь'\n",
    "    else:\n",
    "        return 'недопустимые значения'"
   ]
  },
  {
   "cell_type": "code",
   "execution_count": null,
   "metadata": {},
   "outputs": [],
   "source": [
    "data['segment'] = data.apply(segment_data, axis=1) # применяем функцию"
   ]
  },
  {
   "cell_type": "code",
   "execution_count": null,
   "metadata": {
    "scrolled": true
   },
   "outputs": [],
   "source": [
    "data.sample(10)"
   ]
  },
  {
   "cell_type": "markdown",
   "metadata": {},
   "source": [
    "Посмотрим как распределились пользователи по этим сегментам:"
   ]
  },
  {
   "cell_type": "code",
   "execution_count": null,
   "metadata": {},
   "outputs": [],
   "source": [
    "segmentation = (data\n",
    "                    .pivot_table(index='segment', values = 'event_name', aggfunc= 'count')\n",
    "                    .reset_index()\n",
    "                    .sort_values(by = 'event_name', ascending = False)\n",
    "               )"
   ]
  },
  {
   "cell_type": "code",
   "execution_count": null,
   "metadata": {
    "scrolled": true
   },
   "outputs": [],
   "source": [
    "segmentation['%'] = round(segmentation['event_name']/segmentation['event_name'].sum()*100, 2)\n",
    "segmentation"
   ]
  },
  {
   "cell_type": "markdown",
   "metadata": {},
   "source": [
    "Мы видим что 3 сегмента выпадают по своей численности, являясь слишком мелкими. Попробуем их укрупнить - перепишем функцию, чтобы ночь добавлялась к вечеру, а также укрупним сегмент выходных - добавим утро к дню "
   ]
  },
  {
   "cell_type": "code",
   "execution_count": null,
   "metadata": {},
   "outputs": [],
   "source": [
    "def segment_data_big(row):\n",
    "    workday = row['workday_or_not']\n",
    "    time_of_day = row['time_of_day']\n",
    "    \n",
    "    if workday == 'будни' and time_of_day == 'утро':\n",
    "        return 'будни, утро'\n",
    "    elif workday == 'будни' and time_of_day == 'день':\n",
    "        return 'будни, день'\n",
    "    elif workday == 'будни' and (time_of_day == 'вечер' or time_of_day == 'ночь'):\n",
    "        return 'будни, вечер и ночь'\n",
    "    #elif workday == 'будни' and time_of_day == 'ночь':\n",
    "    #    return 'будни, ночь'\n",
    "    elif workday == 'выходные' and (time_of_day == 'утро' or time_of_day == 'день'):\n",
    "        return 'выходные, утро и день'\n",
    "#    elif workday == 'выходные' and time_of_day == 'день':\n",
    " #       return 'выходные, день'\n",
    "    elif workday == 'выходные' and (time_of_day == 'вечер' or time_of_day == 'ночь'):\n",
    "        return 'выходные, вечер и ночь'\n",
    "\n",
    "    else:\n",
    "        return 'недопустимые значения'"
   ]
  },
  {
   "cell_type": "code",
   "execution_count": null,
   "metadata": {},
   "outputs": [],
   "source": [
    "data['segment'] = data.apply(segment_data_big, axis=1)"
   ]
  },
  {
   "cell_type": "code",
   "execution_count": null,
   "metadata": {},
   "outputs": [],
   "source": [
    "segmentation = (data\n",
    "                    .pivot_table(index='segment', values = 'event_name', aggfunc= 'count')\n",
    "                    .reset_index()\n",
    "                    .sort_values(by = 'event_name', ascending = False)\n",
    "               )"
   ]
  },
  {
   "cell_type": "code",
   "execution_count": null,
   "metadata": {
    "scrolled": true
   },
   "outputs": [],
   "source": [
    "segmentation['%'] = round(segmentation['event_name']/segmentation['event_name'].sum()*100, 2)\n",
    "segmentation"
   ]
  },
  {
   "cell_type": "markdown",
   "metadata": {},
   "source": [
    "Теперь наша задача - перенести сегментацию по сессиям в пользовательские профайлы наших клиентов. Посмотрим у какого количества пользователей сессий попадают в более чем 1 сегмент"
   ]
  },
  {
   "cell_type": "code",
   "execution_count": null,
   "metadata": {},
   "outputs": [],
   "source": [
    "segment_counts = data.groupby('user_id')['segment'].nunique()\n",
    "filtered_users = segment_counts[segment_counts > 1].index\n",
    "filtered_users.nunique()"
   ]
  },
  {
   "cell_type": "code",
   "execution_count": null,
   "metadata": {
    "scrolled": true
   },
   "outputs": [],
   "source": [
    "filtered_data = data[data['user_id'].isin(filtered_users)]"
   ]
  },
  {
   "cell_type": "code",
   "execution_count": null,
   "metadata": {},
   "outputs": [],
   "source": [
    "(filtered_data\n",
    "     .pivot_table(index = 'user_id', values = 'segment', aggfunc = 'nunique')\n",
    "     .reset_index()\n",
    "     .sort_values(by = 'segment', ascending = False)\n",
    "     ['segment'].describe()\n",
    ")\n"
   ]
  },
  {
   "cell_type": "markdown",
   "metadata": {},
   "source": [
    "Медианное количество сегментов на одного пользователя - 2, это много. Еще раз укрупним сегментацию, объединив в будни утро и день, т.к. это самая частая комбинация пересекающихся сессий, кроме того мы уже применили такой подход к выходным. Посмотрим сколько осталось пересечений"
   ]
  },
  {
   "cell_type": "markdown",
   "metadata": {},
   "source": [
    "Еще раз укрупним сегментацию, объединив в будни утро и день, т.к. это самая частая комбинация пересекающихся сессий, кроме того мы уже применили такой подход к выходным. Посмотрим сколько осталось пересечений"
   ]
  },
  {
   "cell_type": "code",
   "execution_count": null,
   "metadata": {},
   "outputs": [],
   "source": [
    "def segment_data_biggest(row):\n",
    "    workday = row['workday_or_not']\n",
    "    time_of_day = row['time_of_day']\n",
    "    \n",
    "    if workday == 'будни' and (time_of_day == 'утро' or time_of_day == 'день'):\n",
    "        return 'будни, утро и день'\n",
    "    elif workday == 'будни' and (time_of_day == 'вечер' or time_of_day == 'ночь'):\n",
    "        return 'будни, вечер и ночь'\n",
    "    #elif workday == 'будни' and time_of_day == 'ночь':\n",
    "    #    return 'будни, ночь'\n",
    "    elif workday == 'выходные' and (time_of_day == 'утро' or time_of_day == 'день'):\n",
    "        return 'выходные, утро и день'\n",
    "#    elif workday == 'выходные' and time_of_day == 'день':\n",
    " #       return 'выходные, день'\n",
    "    elif workday == 'выходные' and (time_of_day == 'вечер' or time_of_day == 'ночь'):\n",
    "        return 'выходные, вечер и ночь'\n",
    "\n",
    "    else:\n",
    "        return 'недопустимые значения'"
   ]
  },
  {
   "cell_type": "code",
   "execution_count": null,
   "metadata": {},
   "outputs": [],
   "source": [
    "data['segment'] = data.apply(segment_data_biggest, axis=1)"
   ]
  },
  {
   "cell_type": "code",
   "execution_count": null,
   "metadata": {},
   "outputs": [],
   "source": [
    "segmentation = (data\n",
    "                    .pivot_table(index='segment', values = 'event_name', aggfunc= 'count')\n",
    "                    .reset_index()\n",
    "                    .sort_values(by = 'event_name', ascending = False)\n",
    "               )"
   ]
  },
  {
   "cell_type": "code",
   "execution_count": null,
   "metadata": {
    "scrolled": false
   },
   "outputs": [],
   "source": [
    "segmentation['%'] = round(segmentation['event_name']/segmentation['event_name'].sum()*100, 2)\n",
    "segmentation"
   ]
  },
  {
   "cell_type": "code",
   "execution_count": null,
   "metadata": {},
   "outputs": [],
   "source": [
    "# строим график\n",
    "plt.figure(figsize=(5, 3))\n",
    "sns.barplot(data=segmentation, y = 'event_name', x= 'segment')\\\n",
    ".set(title = 'Количество событий по сегментам', xlabel = 'Сегмент', ylabel = \"Количество событий\" )\n",
    "plt.xticks(rotation = 15)\n",
    "plt.show()"
   ]
  },
  {
   "cell_type": "markdown",
   "metadata": {},
   "source": [
    "Подготовим переменную, в которую сгруппируем пользователей по id и сегменту. Для пользователей, у которых более чем один временной сегмент сессий мы применим допущение и назначим первый из них. "
   ]
  },
  {
   "cell_type": "code",
   "execution_count": null,
   "metadata": {},
   "outputs": [],
   "source": [
    "users_segments = (\n",
    "        data.sort_values(by=['user_id', 'event_time'])\n",
    "        .groupby('user_id')\n",
    "        .agg(\n",
    "            {\n",
    "                'segment': 'first',\n",
    "            }\n",
    "        )\n",
    ")"
   ]
  },
  {
   "cell_type": "markdown",
   "metadata": {},
   "source": [
    "Перенесем эти данные в наши профайлы, объединив по user_id"
   ]
  },
  {
   "cell_type": "code",
   "execution_count": null,
   "metadata": {},
   "outputs": [],
   "source": [
    "profiles = profiles.merge(users_segments[['segment']], on='user_id', how='left')"
   ]
  },
  {
   "cell_type": "code",
   "execution_count": null,
   "metadata": {},
   "outputs": [],
   "source": [
    "profiles['segment'].isna().sum()  # удостоверимся что никого не пропустили"
   ]
  },
  {
   "cell_type": "code",
   "execution_count": null,
   "metadata": {
    "scrolled": false
   },
   "outputs": [],
   "source": [
    "profiles.pivot_table(index = 'segment', values = 'user_id', aggfunc = 'nunique')"
   ]
  },
  {
   "cell_type": "markdown",
   "metadata": {},
   "source": [
    "**Вывод 3.2:** пользователи приложения были сегментированы с помощью распределения их по времени активности в приложении. Проанализировав распределение сегменты были укрупнены, в итоге было выделено 4 основных сегмента - будни, утро и день; будни вечер и ночь; выходные утро и день; выходные вечер и ночь. Доля самого крупного сегмента составила 46%, самого мелкого - 13%.\n",
    "<br>\n",
    "Пользователей, у которых было несколько сессий в разные временные периоды мы отнесли к временному сегменту первой из таких сессий."
   ]
  },
  {
   "cell_type": "markdown",
   "metadata": {},
   "source": [
    "## 3.3. Расчет индекса удержания пользователей в разрезе выбранной сегментации   "
   ]
  },
  {
   "cell_type": "markdown",
   "metadata": {},
   "source": [
    "Для расчета удержания пользователей в разрезе выбранной сегментации запустим уже подготовленную ранее функцию,задав ей в качестве параметра dimensions - 'segment'"
   ]
  },
  {
   "cell_type": "code",
   "execution_count": null,
   "metadata": {
    "scrolled": true
   },
   "outputs": [],
   "source": [
    "retention_raw, retention = get_retention(\n",
    "    profiles, data, datetime(2019, 11, 3).date(), 10, dimensions = 'segment'\n",
    ")\n",
    "\n",
    "retention"
   ]
  },
  {
   "cell_type": "markdown",
   "metadata": {},
   "source": [
    "Посмотрим на визуализацию:"
   ]
  },
  {
   "cell_type": "code",
   "execution_count": null,
   "metadata": {},
   "outputs": [],
   "source": [
    "# строим хитмэп без нулевого лайфтайма\n",
    "\n",
    "plt.figure(figsize=(15, 6))  # задаём размер графика\n",
    "sns.heatmap(\n",
    "    retention.drop(columns=['cohort_size', 0]),  # удаляем лишние столбцы\n",
    "    annot=True,  # включаем подписи\n",
    "    fmt='.2%',  # переводим значения в проценты\n",
    ")\n",
    "plt.title('Тепловая карта удержания в разрезе по сегментам')  # название графика\n",
    "plt.xlabel('Лайфтайм')\n",
    "plt.ylabel('Сегмент')\n",
    "plt.show()\n"
   ]
  },
  {
   "cell_type": "code",
   "execution_count": null,
   "metadata": {},
   "outputs": [],
   "source": [
    "# строим кривые удержания\n",
    "\n",
    "report = retention.drop(columns = ['cohort_size', 0])\n",
    "\n",
    "report.T.plot(\n",
    "    grid=True,  # добавляем сетку\n",
    "    xticks=list(report.columns.values),  # отметки на оси X — названия колонок\n",
    "    figsize=(15, 5),  # размер графика\n",
    ")\n",
    "plt.xlabel('Лайфтайм')  # название оси X\n",
    "plt.title('Кривые удержания по сегментам')  # название графика\n",
    "plt.legend(bbox_to_anchor=(1, 0.9), title = 'Время сессии', fontsize=10)\n",
    "plt.show()"
   ]
  },
  {
   "cell_type": "code",
   "execution_count": null,
   "metadata": {},
   "outputs": [],
   "source": [
    "# строим графики изменений\n",
    "report = retention.drop(columns=['cohort_size', 0])\n",
    "report.plot(grid=True, figsize=(10, 3))\n",
    "plt.xlabel('Время сессии', fontsize=8)\n",
    "plt.title('Динамика удержания пользователей по времени сессии и лайфтайму' , fontsize=10)\n",
    "plt.xticks(fontsize=6)\n",
    "plt.yticks(fontsize=6)\n",
    "plt.legend(bbox_to_anchor=(1, 0.9), title = 'Лайфтайм', fontsize=8)\n",
    "plt.show()"
   ]
  },
  {
   "cell_type": "markdown",
   "metadata": {},
   "source": [
    "**Вывод 3.3:** анализ удержания позволил выявить, что выше всего удержание пользователей в период вечера и ночи, особенно в выходные. Самый высокий показатель у 1 дня лайфайма выходные, вечер и ночь. "
   ]
  },
  {
   "cell_type": "markdown",
   "metadata": {},
   "source": [
    "## 3.4. Расчет конверсии в целевое действие (просмотр контакта) в разрезе выбранной сегментации"
   ]
  },
  {
   "cell_type": "markdown",
   "metadata": {},
   "source": [
    "Для подсчета конверсии по выделенным сегментам запустим цикл, который будет перебирать значения в списке выделенных сегментов и рассчитывать конверсию для каждого из них."
   ]
  },
  {
   "cell_type": "code",
   "execution_count": null,
   "metadata": {},
   "outputs": [],
   "source": [
    "segments_name = ['будни, утро и день', 'будни, вечер и ночь', 'выходные, утро и день','выходные, вечер и ночь']"
   ]
  },
  {
   "cell_type": "code",
   "execution_count": null,
   "metadata": {
    "scrolled": false
   },
   "outputs": [],
   "source": [
    "for i in segments_name:  \n",
    "    \n",
    "    i_conversion_rate = round(data\n",
    "        .query('segment == @i')[data['event_name'] == 'contacts_show']['user_id']\n",
    "        .nunique()/data.query('segment == @i')['user_id'].nunique()*100,2\n",
    "      )\n",
    "    print ('Конверсия в целевое действие пользователей в период', i, 'равна:', i_conversion_rate)"
   ]
  },
  {
   "cell_type": "markdown",
   "metadata": {},
   "source": [
    "Повторим запуска цикла для очищенного датасета (без автоматически действий show_tips). Применим к нему функцию сегментирования."
   ]
  },
  {
   "cell_type": "code",
   "execution_count": null,
   "metadata": {},
   "outputs": [],
   "source": [
    "data_manual['time_of_day'] = data_manual['event_time'].apply(lambda x: time_of_day_dict(dt=x))\n",
    "data_manual['workday_or_not'] = data_manual['week_day'].apply(lambda x: day_of_the_week(day=x))\n",
    "data_manual['segment'] = data_manual.apply(segment_data_biggest, axis=1)"
   ]
  },
  {
   "cell_type": "code",
   "execution_count": null,
   "metadata": {
    "scrolled": true
   },
   "outputs": [],
   "source": [
    "for i in segments_name:  \n",
    "    \n",
    "    i_conversion_rate = round(data_manual\n",
    "        .query('segment == @i')[data_manual['event_name'] == 'contacts_show']['user_id']\n",
    "        .nunique()/data_manual.query('segment == @i')['user_id'].nunique()*100,2\n",
    "      )\n",
    "    print ('Конверсия в целевое действие пользователей в период', i, 'равна:', i_conversion_rate)"
   ]
  },
  {
   "cell_type": "markdown",
   "metadata": {},
   "source": [
    "**Вывод 3.4.:** самая высокая конверсия в целевое действие отмечается в будни, утро и день - 22,5% (27,8% на очищенном от рекомендаций датасете), достаточно близко к ней и конверсия выходные, утро и день - 22.2%( 26.5% без рекомендаций. Ниже всего конверсия вечерами, особенно в выходные - 15.87%(19.72%). Скорее всего это связано с тем, что целевое действие \"просмотр контактов\" пользователи обычно выполняют чтобы непосредственно связаться с продавцом, что не является возможным вечером и ночью."
   ]
  },
  {
   "cell_type": "markdown",
   "metadata": {},
   "source": [
    "# 4. Формулировка и проверка статистических гипотез\n"
   ]
  },
  {
   "cell_type": "markdown",
   "metadata": {},
   "source": [
    "## 4.1. Гипотеза 1: конверсия в просмотры контактов разная у пользователей, установивших приложение через ссылку из yandex и через google "
   ]
  },
  {
   "cell_type": "markdown",
   "metadata": {},
   "source": [
    "В рамках исследования проверим также статистические гипотезы. Первая рассматриваемая гипотеза - конверсия в просмотры контактов отличается у пользователей, установивших приложение через ссылку из yandex и через google.\n",
    "<br>\n",
    "<br>\n",
    "Для проверки гипотезы используем z-test. Сформулируем нулевую и альтернативную гипотезы.\n",
    "<br>H0 - конверсия в просмотры контактов у пользователей из yandex и через google равна\n",
    "<br>H1 - конверсия в просмотры контактов у пользователей из yandex и через google отличается\n"
   ]
  },
  {
   "cell_type": "code",
   "execution_count": null,
   "metadata": {},
   "outputs": [],
   "source": [
    "alpha = .05 # задаем критический уровень статистической значимости\n",
    "\n",
    "# считаем количество пользователей, совершивших событие:\n",
    "successes = [data.query('event_name==\"contacts_show\" & channel == \"yandex\"')['user_id'].nunique(), \\\n",
    "    data.query('event_name==\"contacts_show\" & channel == \"google\"')['user_id'].nunique()]\n",
    "# и сколько всего пользователей в группе:\n",
    "trials = [data.query('channel == \"yandex\"')['user_id'].nunique(), \\\n",
    "          data.query('channel == \"google\"')['user_id'].nunique()]\n",
    "\n",
    "# пропорция успехов в первой группе:\n",
    "p1 = successes[0]/trials[0]\n",
    "\n",
    "# пропорция успехов во второй группе:\n",
    "p2 = successes[1]/trials[1]\n",
    "\n",
    "# пропорция успехов в комбинированном датасете:\n",
    "p_combined = (successes[0] + successes[1]) / (trials[0] + trials[1])\n",
    "\n",
    "# разница пропорций в датасетах\n",
    "difference = p1 - p2 \n",
    "# считаем статистику в ст.отклонениях стандартного нормального распределения\n",
    "z_value = difference / mth.sqrt(p_combined * (1 - p_combined) * (1/trials[0] + 1/trials[1]))\n",
    "\n",
    "# задаем стандартное нормальное распределение (среднее 0, ст.отклонение 1)\n",
    "distr = st.norm(0, 1)  \n",
    "p_value = (1 - distr.cdf(abs(z_value))) * 2\n",
    "    # поменяли список событий на вариант без обучения\n",
    "print('p-значение: ', p_value)\n",
    "\n",
    "if p_value < alpha:\n",
    "    print('Отвергаем нулевую гипотезу: конверсия в просмотры контактов у пользователей из yandex и через google отличается')\n",
    "else:\n",
    "    print(\n",
    "        'Не получилось отвергнуть нулевую гипотезу, нет оснований считать конверсию в просмотры контактов разной')\n",
    "    \n",
    "print(f'Конверсия в просмотры контактов у пользователей из yandex: {p1:.2%}')\n",
    "print(f'Конверсия в просмотры контактов у пользователей из  google: {p2:.2%}')        \n"
   ]
  },
  {
   "cell_type": "markdown",
   "metadata": {},
   "source": [
    "**Вывод 4.1:**: с помощью z-test мы приняли нулевую гипотезу - конверсия в просмотры контактов у пользователей из yandex и через google одинаковая. Посмотрев детальные значения мы еще раз в этом убедились - конверсия пользователей, пришедших по ссылке из yandex 24.72%, а из google - 24,36%"
   ]
  },
  {
   "cell_type": "markdown",
   "metadata": {},
   "source": [
    "## 4.2. Гипотеза 2:  конверсия в просмотры контактов разная у пользователей в будни и выходные"
   ]
  },
  {
   "cell_type": "markdown",
   "metadata": {},
   "source": [
    "Вторая рассматриваемая гипотеза была сформулирована нами во время анализа пользовательских сессий:  конверсия в просмотры контактов отличается у пользователей из длинных сессий (более 1 часа) и сессий обычной продолжительности.\n",
    "<br>\n",
    "<br>\n",
    "Для проверки гипотезы используем z-test. Сформулируем нулевую и альтернативную гипотезы.\n",
    "<br>H0 - конверсия в просмотры контактов у пользователей в длинные (более 1 часа) сессии и сессии обычной продолжительности равная\n",
    "<br>H1 - конверсия в просмотры контактов у пользователей в длинные (более 1 часа) сессии и сессии обычной продолжительности отличается\n",
    "<br>\n",
    "Снова используем z-test"
   ]
  },
  {
   "cell_type": "code",
   "execution_count": null,
   "metadata": {},
   "outputs": [],
   "source": [
    "alpha = .05 # задаем критический уровень статистической значимости\n",
    "\n",
    "# считаем количество пользователей, совершивших событие - целевое действие, при этом их id либо \n",
    "# находятся в списке long_sessions_id c  id сессий длиннее часа, либо во втором случае эти сессии исключены из анализа\n",
    "\n",
    "successes = [data.query('event_name==\"contacts_show\" & session_id in @long_sessions_id')['user_id'].nunique(), \\\n",
    "    data.query('event_name==\"contacts_show\"& session_id not in @long_sessions_id')['user_id'].nunique()]\n",
    "# и сколько всего пользователей в группе:\n",
    "trials = [data.query('session_id in @long_sessions_id')['user_id'].nunique(), \\\n",
    "          data.query('session_id not in @long_sessions_id')['user_id'].nunique()]\n",
    "\n",
    "# пропорция успехов в первой группе - длинные сессии:\n",
    "p1 = successes[0]/trials[0]\n",
    "\n",
    "# пропорция успехов во второй группе - без длинных сессий:\n",
    "p2 = successes[1]/trials[1]\n",
    "\n",
    "# пропорция успехов в комбинированном датасете:\n",
    "p_combined = (successes[0] + successes[1]) / (trials[0] + trials[1])\n",
    "\n",
    "# разница пропорций в датасетах\n",
    "difference = p1 - p2 \n",
    "# считаем статистику в ст.отклонениях стандартного нормального распределения\n",
    "z_value = difference / mth.sqrt(p_combined * (1 - p_combined) * (1/trials[0] + 1/trials[1]))\n",
    "\n",
    "# задаем стандартное нормальное распределение (среднее 0, ст.отклонение 1)\n",
    "distr = st.norm(0, 1)  \n",
    "p_value = (1 - distr.cdf(abs(z_value))) * 2\n",
    "    # поменяли список событий на вариант без обучения\n",
    "print('p-значение: ', p_value)\n",
    "\n",
    "if p_value < alpha:\n",
    "    print('Отвергаем нулевую гипотезу: конверсия в просмотры контактов у пользователей в длинных и обычных сессиях отличается')\n",
    "else:\n",
    "    print(\n",
    "        'Не получилось отвергнуть нулевую гипотезу, нет оснований считать конверсию в просмотры контактов разной')\n",
    "    \n",
    "print(f'Конверсия в просмотры контактов у пользователей в длинных сессиях: {p1:.2%}')\n",
    "print(f'Конверсия в просмотры контактов у пользователей в обычных сессиях: {p2:.2%}')        \n"
   ]
  },
  {
   "cell_type": "markdown",
   "metadata": {},
   "source": [
    "**Вывод 4.2**: с помощью z-test мы отвергнули нулевую гипотезу и приняли альтернативную -  конверсия в просмотры контактов у пользователей в длинные и обычные сессии отличается. Посмотрев детальные значения мы еще раз в этом убедились - конверсия пользователей в длинных сессиях 35,74%, а в обычных - 22,29%"
   ]
  },
  {
   "cell_type": "markdown",
   "metadata": {},
   "source": [
    "# 5. Выводы и рекомендации"
   ]
  },
  {
   "cell_type": "markdown",
   "metadata": {},
   "source": [
    "## 5.1 Выводы"
   ]
  },
  {
   "cell_type": "markdown",
   "metadata": {},
   "source": [
    "Данное исследование было проведено для проекта сегментации пользователей мобильного приложения \"Ненужные вещи\". \n",
    "<br>\n",
    "<br>\n",
    "Основной целью исследования являлось **выделение групп пользователей на основе их поведения в мобильном приложении \"Ненужные вещи\", анализ их индекса удержания и конверсии.** \n",
    "<br>\n",
    "<br>\n",
    "Данными для анализа являлась информация о действиях пользователей приложения в период с 7 октября 2019 года по 3 ноября 2019 года"
   ]
  },
  {
   "cell_type": "markdown",
   "metadata": {},
   "source": [
    "В процессе исследования был реализованы следующие шаги: "
   ]
  },
  {
   "cell_type": "markdown",
   "metadata": {},
   "source": [
    "**Первичный анализ и обработка данных:**\n",
    "\n",
    "- загружены и объединены базы для анализа\n",
    "- поля и названия приведены к нужному типу данных\n",
    "- выделены дополнительные поля\n",
    "- объединены неявные дубликаты\n",
    "- укрупнены категории действий пользователя"
   ]
  },
  {
   "cell_type": "markdown",
   "metadata": {},
   "source": [
    "**Исследовательский анализ:** \n",
    "- анализ удержания по датам событий показал, что оно  снижается с каждым следующим днем пользователя в приложении. Явной тенденции в разрезе по датам выделить не удалось, что позволило заключить, что поведение пользователей не зависит от даты начала использования приложения\n",
    "- были выделены пользовательские сессии путем установления 30-минутного таймаута. Удалось выделить 10368 сессий, равномерно распределенных по всему временному периоду. На одного пользователя в среднем приходится 2.4 сессии, а их медианное количество - 1 на пользователя. \n",
    "- среднее время, проведенное в сессии, выделенной с помощью введения 30-минутных таймаутов - 12 минут. Медианное время в свою очередь заметно отличается - всего 5 минут. Это говорит о наличии большого количества выбросов, что показывает и максимальное время в рамках одной сессии - 5 часов 20 минут.\n",
    "- анализ аномально коротких и длинных сессий показал, что нулевые сессии с несколькими действиями вероятнее всего осуществлялись по одномоментному переходу по ссылкам.\n",
    "- большое количество действий показывает, что продолжительные сессии (более 1 часа) скорее всего отмечались когда пользователи совершали много действий, активно что-то ища  - открывая объявления, смотря контакты и фотографии. Отмечено большое количество целевого действия \"просмотр контакта\" - выдвинута гипотеза о более высокой конверсии длинных сессий\n",
    "- частота действий на пользователя в среднем составила 17 действий , медиана - 9. При исключении из общего массива действий при подсчете show_tips, в среднем на пользователя приходится уже 9.5 действий, а медиана составила всего 5\n",
    "- в разбивке частоты действий пользователей по периодам будни/выходные заключено, что пользователи совершают больше действий в будни. В выходные приложением пользуются меньше.\n",
    "- в разбивке частоты действий пользователей по времени дня выявлено подавляющее преимущество дневных посещений, на втором месте вечер, потом идут утро и меньше всего приложение используют ночью.\n",
    "- самое популярное время у пользователей приложения - день в будни и вечер в будни. Наименее популярно приложение в ночное время - как в выходные, так и в будни.\n",
    "- подсчет конверсии в целевое действие \"просмотр контакта\" показал, что большинство пользователей не совершают целевого действия. До него  доходит примерно 23% всех пользователей. Если рассматривать датасет только с пользовательскими действиями (без автоматических рекомендаций), то конверсия возрастает до 27.36%"
   ]
  },
  {
   "cell_type": "markdown",
   "metadata": {},
   "source": [
    "**Сегментация пользователей**\n",
    "- было сформулировано 3 возможных варианта сегментации пользователей, из них был отобран наиболее перспективный\n",
    "- пользователи приложения были сегментированы с помощью распределения их по времени активности в приложении. Выделено 4 основных сегмента - будни, утро и день; будни вечер и ночь; выходные утро и день; выходные вечер и ночь. Доля самого крупного сегмента составила 46%, самого мелкого - 13%\n",
    "- пользователей, у которых было несколько сессий в разные временные периоды мы отнесли к временному сегменту первой из таких сессий.\n",
    "- анализ удержания показал, что выше всего удержание пользователей в период вечера и ночи, особенно в выходные. Самый высокий показатель у 1 дня лайфайма сегмента \"выходные, вечер и ночь\". \n",
    "- самая высокая конверсия в целевое действие отмечается в будни, утро и день - 22,5% (27,8% на очищенном от рекомендаций датасете), достаточно близко к ней и конверсия выходные, утро и день - 22.2%( 26.5% без рекомендаций. Ниже всего конверсия вечерами, особенно в выходные - 15.87%(19.72%). Скорее всего это связано с тем, что целевое действие \"просмотр контактов\" пользователи обычно выполняют чтобы непосредственно связаться с продавцом, что не является возможным вечером и ночью."
   ]
  },
  {
   "cell_type": "markdown",
   "metadata": {},
   "source": [
    "**Проверка статистических гипотез**\n",
    "- было проведено два z-test'a для проверки гипотез о различии конверсий у клиентов, пришедших по ссылке из yandex или google и у пользователей с длинными (более часа) сессиями и обычными\n",
    "- была принята первая нулевая гипотеза - конверсия в просмотры контактов у пользователей из yandex и через google одинаковая (из yandex 24.72%, а из google - 24,36%)\n",
    "- была отвергнута вторая нулевая гипотеза и принята альтернативная - конверсия в просмотры контактов у пользователей в длинные и обычные сессии отличается (конверсия пользователей в длинных сессиях 35,74%, а в обычных - 22,29%)"
   ]
  },
  {
   "cell_type": "markdown",
   "metadata": {},
   "source": [
    "## 5.2 Рекомендации:"
   ]
  },
  {
   "cell_type": "markdown",
   "metadata": {},
   "source": [
    "В результате проведенного исследования можно сформулировать несколько бизнес-рекомендаций:\n",
    "1. Необходимо проанализировать пользовательские сценарии и алгоритм поиска в приложении  \"Ненужные вещи\". Подтвержденная статистическая гипотеза показала, что конверсия у длинных сессий выше, чем у обычных - это серьезный \"красный флаг\". Пользователям требуется больше среднего времени для того чтобы чаще совершать целевое действие \"просмотр контакта\".\n",
    "<br>\n",
    "<br>\n",
    "2. Рекомендуем привлекать больше пользователей в выходные: использовать push-уведомления, маркетинговые средства привлечения клиентов (акции, рассылки, напоминания). Конверсия днем в выходные практически не уступает лидеру (день в будни), но при этом количество пользователей в приложении ощутимо меньше. Привлечение пользователей в выходные таким образом позволит нам увеличить конверсию в целевое действие в среднем по всем пользователям."
   ]
  }
 ],
 "metadata": {
  "ExecuteTimeLog": [
   {
    "duration": 1232,
    "start_time": "2023-06-02T19:04:00.360Z"
   },
   {
    "duration": 3,
    "start_time": "2023-06-02T19:04:01.595Z"
   },
   {
    "duration": 319,
    "start_time": "2023-06-02T19:04:01.599Z"
   },
   {
    "duration": 105,
    "start_time": "2023-06-02T19:04:01.920Z"
   },
   {
    "duration": 16,
    "start_time": "2023-06-02T19:04:02.027Z"
   },
   {
    "duration": 34,
    "start_time": "2023-06-02T19:04:02.044Z"
   },
   {
    "duration": 34,
    "start_time": "2023-06-02T19:04:02.080Z"
   },
   {
    "duration": 33,
    "start_time": "2023-06-02T19:04:02.115Z"
   },
   {
    "duration": 35,
    "start_time": "2023-06-02T19:04:02.150Z"
   },
   {
    "duration": 21,
    "start_time": "2023-06-02T19:04:02.188Z"
   },
   {
    "duration": 84,
    "start_time": "2023-06-02T19:04:02.210Z"
   },
   {
    "duration": 152,
    "start_time": "2023-06-02T19:04:02.295Z"
   },
   {
    "duration": 18,
    "start_time": "2023-06-02T19:04:02.449Z"
   },
   {
    "duration": 18,
    "start_time": "2023-06-02T19:04:02.468Z"
   },
   {
    "duration": 53,
    "start_time": "2023-06-02T19:04:02.488Z"
   },
   {
    "duration": 23,
    "start_time": "2023-06-02T19:04:02.543Z"
   },
   {
    "duration": 61,
    "start_time": "2023-06-02T19:04:02.567Z"
   },
   {
    "duration": 7,
    "start_time": "2023-06-02T19:04:02.629Z"
   },
   {
    "duration": 22,
    "start_time": "2023-06-02T19:04:02.637Z"
   },
   {
    "duration": 21,
    "start_time": "2023-06-02T19:04:02.660Z"
   },
   {
    "duration": 14,
    "start_time": "2023-06-02T19:04:02.683Z"
   },
   {
    "duration": 21,
    "start_time": "2023-06-02T19:04:02.699Z"
   },
   {
    "duration": 1271,
    "start_time": "2023-06-02T19:04:02.721Z"
   },
   {
    "duration": 8,
    "start_time": "2023-06-02T19:04:03.993Z"
   },
   {
    "duration": 14,
    "start_time": "2023-06-02T19:04:04.003Z"
   },
   {
    "duration": 53,
    "start_time": "2023-06-02T19:04:04.018Z"
   },
   {
    "duration": 9,
    "start_time": "2023-06-02T19:04:04.073Z"
   },
   {
    "duration": 25,
    "start_time": "2023-06-02T19:04:04.087Z"
   },
   {
    "duration": 5,
    "start_time": "2023-06-02T19:04:04.114Z"
   },
   {
    "duration": 100,
    "start_time": "2023-06-02T19:04:04.121Z"
   },
   {
    "duration": 0,
    "start_time": "2023-06-02T19:04:04.224Z"
   },
   {
    "duration": 0,
    "start_time": "2023-06-02T19:04:04.226Z"
   },
   {
    "duration": 0,
    "start_time": "2023-06-02T19:04:04.226Z"
   },
   {
    "duration": 0,
    "start_time": "2023-06-02T19:04:04.228Z"
   },
   {
    "duration": 0,
    "start_time": "2023-06-02T19:04:04.228Z"
   },
   {
    "duration": 0,
    "start_time": "2023-06-02T19:04:04.230Z"
   },
   {
    "duration": 0,
    "start_time": "2023-06-02T19:04:04.231Z"
   },
   {
    "duration": 0,
    "start_time": "2023-06-02T19:04:04.232Z"
   },
   {
    "duration": 0,
    "start_time": "2023-06-02T19:04:04.233Z"
   },
   {
    "duration": 0,
    "start_time": "2023-06-02T19:04:04.234Z"
   },
   {
    "duration": 0,
    "start_time": "2023-06-02T19:04:04.235Z"
   },
   {
    "duration": 0,
    "start_time": "2023-06-02T19:04:04.236Z"
   },
   {
    "duration": 0,
    "start_time": "2023-06-02T19:04:04.237Z"
   },
   {
    "duration": 0,
    "start_time": "2023-06-02T19:04:04.238Z"
   },
   {
    "duration": 0,
    "start_time": "2023-06-02T19:04:04.239Z"
   },
   {
    "duration": 0,
    "start_time": "2023-06-02T19:04:04.240Z"
   },
   {
    "duration": 0,
    "start_time": "2023-06-02T19:04:04.241Z"
   },
   {
    "duration": 0,
    "start_time": "2023-06-02T19:04:04.242Z"
   },
   {
    "duration": 0,
    "start_time": "2023-06-02T19:04:04.243Z"
   },
   {
    "duration": 0,
    "start_time": "2023-06-02T19:04:04.244Z"
   },
   {
    "duration": 0,
    "start_time": "2023-06-02T19:04:04.245Z"
   },
   {
    "duration": 0,
    "start_time": "2023-06-02T19:04:04.246Z"
   },
   {
    "duration": 0,
    "start_time": "2023-06-02T19:04:04.247Z"
   },
   {
    "duration": 0,
    "start_time": "2023-06-02T19:04:04.248Z"
   },
   {
    "duration": 0,
    "start_time": "2023-06-02T19:04:04.249Z"
   },
   {
    "duration": 0,
    "start_time": "2023-06-02T19:04:04.250Z"
   },
   {
    "duration": 0,
    "start_time": "2023-06-02T19:04:04.251Z"
   },
   {
    "duration": 0,
    "start_time": "2023-06-02T19:04:04.252Z"
   },
   {
    "duration": 0,
    "start_time": "2023-06-02T19:04:04.253Z"
   },
   {
    "duration": 0,
    "start_time": "2023-06-02T19:04:04.254Z"
   },
   {
    "duration": 0,
    "start_time": "2023-06-02T19:04:04.255Z"
   },
   {
    "duration": 0,
    "start_time": "2023-06-02T19:04:04.256Z"
   },
   {
    "duration": 0,
    "start_time": "2023-06-02T19:04:04.257Z"
   },
   {
    "duration": 0,
    "start_time": "2023-06-02T19:04:04.315Z"
   },
   {
    "duration": 0,
    "start_time": "2023-06-02T19:04:04.316Z"
   },
   {
    "duration": 0,
    "start_time": "2023-06-02T19:04:04.317Z"
   },
   {
    "duration": 0,
    "start_time": "2023-06-02T19:04:04.318Z"
   },
   {
    "duration": 0,
    "start_time": "2023-06-02T19:04:04.319Z"
   },
   {
    "duration": 0,
    "start_time": "2023-06-02T19:04:04.322Z"
   },
   {
    "duration": 0,
    "start_time": "2023-06-02T19:04:04.323Z"
   },
   {
    "duration": 0,
    "start_time": "2023-06-02T19:04:04.324Z"
   },
   {
    "duration": 0,
    "start_time": "2023-06-02T19:04:04.326Z"
   },
   {
    "duration": 0,
    "start_time": "2023-06-02T19:04:04.326Z"
   },
   {
    "duration": 0,
    "start_time": "2023-06-02T19:04:04.327Z"
   },
   {
    "duration": 0,
    "start_time": "2023-06-02T19:04:04.329Z"
   },
   {
    "duration": 0,
    "start_time": "2023-06-02T19:04:04.330Z"
   },
   {
    "duration": 0,
    "start_time": "2023-06-02T19:04:04.332Z"
   },
   {
    "duration": 0,
    "start_time": "2023-06-02T19:04:04.333Z"
   },
   {
    "duration": 0,
    "start_time": "2023-06-02T19:04:04.334Z"
   },
   {
    "duration": 0,
    "start_time": "2023-06-02T19:04:04.335Z"
   },
   {
    "duration": 0,
    "start_time": "2023-06-02T19:04:04.336Z"
   },
   {
    "duration": 0,
    "start_time": "2023-06-02T19:04:04.338Z"
   },
   {
    "duration": 0,
    "start_time": "2023-06-02T19:04:04.339Z"
   },
   {
    "duration": 0,
    "start_time": "2023-06-02T19:04:04.340Z"
   },
   {
    "duration": 0,
    "start_time": "2023-06-02T19:04:04.341Z"
   },
   {
    "duration": 0,
    "start_time": "2023-06-02T19:04:04.342Z"
   },
   {
    "duration": 0,
    "start_time": "2023-06-02T19:04:04.343Z"
   },
   {
    "duration": 0,
    "start_time": "2023-06-02T19:04:04.344Z"
   },
   {
    "duration": 0,
    "start_time": "2023-06-02T19:04:04.345Z"
   },
   {
    "duration": 0,
    "start_time": "2023-06-02T19:04:04.346Z"
   },
   {
    "duration": 0,
    "start_time": "2023-06-02T19:04:04.347Z"
   },
   {
    "duration": 0,
    "start_time": "2023-06-02T19:04:04.348Z"
   },
   {
    "duration": 0,
    "start_time": "2023-06-02T19:04:04.351Z"
   },
   {
    "duration": 0,
    "start_time": "2023-06-02T19:04:04.352Z"
   },
   {
    "duration": 0,
    "start_time": "2023-06-02T19:04:04.353Z"
   },
   {
    "duration": 0,
    "start_time": "2023-06-02T19:04:04.415Z"
   },
   {
    "duration": 0,
    "start_time": "2023-06-02T19:04:04.416Z"
   },
   {
    "duration": 0,
    "start_time": "2023-06-02T19:04:04.418Z"
   },
   {
    "duration": 0,
    "start_time": "2023-06-02T19:04:04.419Z"
   },
   {
    "duration": 0,
    "start_time": "2023-06-02T19:04:04.420Z"
   },
   {
    "duration": 0,
    "start_time": "2023-06-02T19:04:04.421Z"
   },
   {
    "duration": 0,
    "start_time": "2023-06-02T19:04:04.422Z"
   },
   {
    "duration": 0,
    "start_time": "2023-06-02T19:04:04.423Z"
   },
   {
    "duration": 0,
    "start_time": "2023-06-02T19:04:04.424Z"
   },
   {
    "duration": 0,
    "start_time": "2023-06-02T19:04:04.426Z"
   },
   {
    "duration": 0,
    "start_time": "2023-06-02T19:04:04.427Z"
   },
   {
    "duration": 5,
    "start_time": "2023-06-02T19:05:23.279Z"
   },
   {
    "duration": 2,
    "start_time": "2023-06-02T19:11:37.395Z"
   },
   {
    "duration": 298,
    "start_time": "2023-06-02T19:11:37.400Z"
   },
   {
    "duration": 94,
    "start_time": "2023-06-02T19:11:37.700Z"
   },
   {
    "duration": 14,
    "start_time": "2023-06-02T19:11:37.796Z"
   },
   {
    "duration": 7,
    "start_time": "2023-06-02T19:11:37.812Z"
   },
   {
    "duration": 16,
    "start_time": "2023-06-02T19:11:37.821Z"
   },
   {
    "duration": 12,
    "start_time": "2023-06-02T19:11:37.838Z"
   },
   {
    "duration": 16,
    "start_time": "2023-06-02T19:11:37.852Z"
   },
   {
    "duration": 4,
    "start_time": "2023-06-02T19:11:37.870Z"
   },
   {
    "duration": 90,
    "start_time": "2023-06-02T19:11:37.876Z"
   },
   {
    "duration": 129,
    "start_time": "2023-06-02T19:11:37.968Z"
   },
   {
    "duration": 47,
    "start_time": "2023-06-02T19:11:38.100Z"
   },
   {
    "duration": 20,
    "start_time": "2023-06-02T19:11:38.149Z"
   },
   {
    "duration": 76,
    "start_time": "2023-06-02T19:11:38.171Z"
   },
   {
    "duration": 23,
    "start_time": "2023-06-02T19:11:38.248Z"
   },
   {
    "duration": 60,
    "start_time": "2023-06-02T19:11:38.273Z"
   },
   {
    "duration": 8,
    "start_time": "2023-06-02T19:11:38.335Z"
   },
   {
    "duration": 7,
    "start_time": "2023-06-02T19:11:38.345Z"
   },
   {
    "duration": 16,
    "start_time": "2023-06-02T19:11:38.353Z"
   },
   {
    "duration": 9,
    "start_time": "2023-06-02T19:11:38.370Z"
   },
   {
    "duration": 36,
    "start_time": "2023-06-02T19:11:38.380Z"
   },
   {
    "duration": 1272,
    "start_time": "2023-06-02T19:11:38.418Z"
   },
   {
    "duration": 7,
    "start_time": "2023-06-02T19:11:39.692Z"
   },
   {
    "duration": 4,
    "start_time": "2023-06-02T19:11:39.700Z"
   },
   {
    "duration": 33,
    "start_time": "2023-06-02T19:11:39.715Z"
   },
   {
    "duration": 8,
    "start_time": "2023-06-02T19:11:39.750Z"
   },
   {
    "duration": 20,
    "start_time": "2023-06-02T19:11:39.760Z"
   },
   {
    "duration": 7,
    "start_time": "2023-06-02T19:11:39.781Z"
   },
   {
    "duration": 10,
    "start_time": "2023-06-02T19:11:39.792Z"
   },
   {
    "duration": 0,
    "start_time": "2023-06-02T19:11:39.815Z"
   },
   {
    "duration": 0,
    "start_time": "2023-06-02T19:11:39.816Z"
   },
   {
    "duration": 0,
    "start_time": "2023-06-02T19:11:39.817Z"
   },
   {
    "duration": 0,
    "start_time": "2023-06-02T19:11:39.818Z"
   },
   {
    "duration": 0,
    "start_time": "2023-06-02T19:11:39.819Z"
   },
   {
    "duration": 0,
    "start_time": "2023-06-02T19:11:39.820Z"
   },
   {
    "duration": 0,
    "start_time": "2023-06-02T19:11:39.820Z"
   },
   {
    "duration": 0,
    "start_time": "2023-06-02T19:11:39.821Z"
   },
   {
    "duration": 0,
    "start_time": "2023-06-02T19:11:39.822Z"
   },
   {
    "duration": 0,
    "start_time": "2023-06-02T19:11:39.823Z"
   },
   {
    "duration": 0,
    "start_time": "2023-06-02T19:11:39.824Z"
   },
   {
    "duration": 0,
    "start_time": "2023-06-02T19:11:39.824Z"
   },
   {
    "duration": 0,
    "start_time": "2023-06-02T19:11:39.825Z"
   },
   {
    "duration": 0,
    "start_time": "2023-06-02T19:11:39.826Z"
   },
   {
    "duration": 0,
    "start_time": "2023-06-02T19:11:39.827Z"
   },
   {
    "duration": 0,
    "start_time": "2023-06-02T19:11:39.828Z"
   },
   {
    "duration": 0,
    "start_time": "2023-06-02T19:11:39.828Z"
   },
   {
    "duration": 0,
    "start_time": "2023-06-02T19:11:39.829Z"
   },
   {
    "duration": 0,
    "start_time": "2023-06-02T19:11:39.830Z"
   },
   {
    "duration": 0,
    "start_time": "2023-06-02T19:11:39.831Z"
   },
   {
    "duration": 0,
    "start_time": "2023-06-02T19:11:39.831Z"
   },
   {
    "duration": 0,
    "start_time": "2023-06-02T19:11:39.832Z"
   },
   {
    "duration": 0,
    "start_time": "2023-06-02T19:11:39.833Z"
   },
   {
    "duration": 0,
    "start_time": "2023-06-02T19:11:39.834Z"
   },
   {
    "duration": 0,
    "start_time": "2023-06-02T19:11:39.835Z"
   },
   {
    "duration": 0,
    "start_time": "2023-06-02T19:11:39.836Z"
   },
   {
    "duration": 0,
    "start_time": "2023-06-02T19:11:39.837Z"
   },
   {
    "duration": 0,
    "start_time": "2023-06-02T19:11:39.838Z"
   },
   {
    "duration": 0,
    "start_time": "2023-06-02T19:11:39.839Z"
   },
   {
    "duration": 0,
    "start_time": "2023-06-02T19:11:39.839Z"
   },
   {
    "duration": 0,
    "start_time": "2023-06-02T19:11:39.840Z"
   },
   {
    "duration": 0,
    "start_time": "2023-06-02T19:11:39.841Z"
   },
   {
    "duration": 0,
    "start_time": "2023-06-02T19:11:39.842Z"
   },
   {
    "duration": 0,
    "start_time": "2023-06-02T19:11:39.843Z"
   },
   {
    "duration": 0,
    "start_time": "2023-06-02T19:11:39.844Z"
   },
   {
    "duration": 0,
    "start_time": "2023-06-02T19:11:39.845Z"
   },
   {
    "duration": 0,
    "start_time": "2023-06-02T19:11:39.846Z"
   },
   {
    "duration": 0,
    "start_time": "2023-06-02T19:11:39.846Z"
   },
   {
    "duration": 0,
    "start_time": "2023-06-02T19:11:39.847Z"
   },
   {
    "duration": 0,
    "start_time": "2023-06-02T19:11:39.848Z"
   },
   {
    "duration": 0,
    "start_time": "2023-06-02T19:11:39.849Z"
   },
   {
    "duration": 0,
    "start_time": "2023-06-02T19:11:39.850Z"
   },
   {
    "duration": 0,
    "start_time": "2023-06-02T19:11:39.850Z"
   },
   {
    "duration": 0,
    "start_time": "2023-06-02T19:11:39.851Z"
   },
   {
    "duration": 0,
    "start_time": "2023-06-02T19:11:39.852Z"
   },
   {
    "duration": 0,
    "start_time": "2023-06-02T19:11:39.916Z"
   },
   {
    "duration": 0,
    "start_time": "2023-06-02T19:11:39.917Z"
   },
   {
    "duration": 0,
    "start_time": "2023-06-02T19:11:39.920Z"
   },
   {
    "duration": 0,
    "start_time": "2023-06-02T19:11:39.922Z"
   },
   {
    "duration": 0,
    "start_time": "2023-06-02T19:11:39.925Z"
   },
   {
    "duration": 0,
    "start_time": "2023-06-02T19:11:39.926Z"
   },
   {
    "duration": 0,
    "start_time": "2023-06-02T19:11:39.927Z"
   },
   {
    "duration": 0,
    "start_time": "2023-06-02T19:11:39.928Z"
   },
   {
    "duration": 0,
    "start_time": "2023-06-02T19:11:39.929Z"
   },
   {
    "duration": 0,
    "start_time": "2023-06-02T19:11:39.929Z"
   },
   {
    "duration": 0,
    "start_time": "2023-06-02T19:11:39.930Z"
   },
   {
    "duration": 0,
    "start_time": "2023-06-02T19:11:39.930Z"
   },
   {
    "duration": 0,
    "start_time": "2023-06-02T19:11:39.932Z"
   },
   {
    "duration": 0,
    "start_time": "2023-06-02T19:11:39.933Z"
   },
   {
    "duration": 0,
    "start_time": "2023-06-02T19:11:39.934Z"
   },
   {
    "duration": 0,
    "start_time": "2023-06-02T19:11:39.934Z"
   },
   {
    "duration": 0,
    "start_time": "2023-06-02T19:11:39.935Z"
   },
   {
    "duration": 0,
    "start_time": "2023-06-02T19:11:39.936Z"
   },
   {
    "duration": 0,
    "start_time": "2023-06-02T19:11:39.937Z"
   },
   {
    "duration": 0,
    "start_time": "2023-06-02T19:11:39.938Z"
   },
   {
    "duration": 0,
    "start_time": "2023-06-02T19:11:39.939Z"
   },
   {
    "duration": 0,
    "start_time": "2023-06-02T19:11:39.939Z"
   },
   {
    "duration": 0,
    "start_time": "2023-06-02T19:11:39.940Z"
   },
   {
    "duration": 0,
    "start_time": "2023-06-02T19:11:39.941Z"
   },
   {
    "duration": 0,
    "start_time": "2023-06-02T19:11:39.942Z"
   },
   {
    "duration": 0,
    "start_time": "2023-06-02T19:11:39.943Z"
   },
   {
    "duration": 0,
    "start_time": "2023-06-02T19:11:39.943Z"
   },
   {
    "duration": 0,
    "start_time": "2023-06-02T19:11:39.944Z"
   },
   {
    "duration": 0,
    "start_time": "2023-06-02T19:11:39.945Z"
   },
   {
    "duration": 0,
    "start_time": "2023-06-02T19:11:39.945Z"
   },
   {
    "duration": 0,
    "start_time": "2023-06-02T19:11:39.946Z"
   },
   {
    "duration": 78,
    "start_time": "2023-06-02T19:13:51.541Z"
   },
   {
    "duration": 1087,
    "start_time": "2023-06-02T19:14:35.994Z"
   },
   {
    "duration": 306,
    "start_time": "2023-06-02T19:14:37.083Z"
   },
   {
    "duration": 84,
    "start_time": "2023-06-02T19:14:37.390Z"
   },
   {
    "duration": 16,
    "start_time": "2023-06-02T19:14:37.476Z"
   },
   {
    "duration": 8,
    "start_time": "2023-06-02T19:14:37.493Z"
   },
   {
    "duration": 16,
    "start_time": "2023-06-02T19:14:37.502Z"
   },
   {
    "duration": 9,
    "start_time": "2023-06-02T19:14:37.519Z"
   },
   {
    "duration": 18,
    "start_time": "2023-06-02T19:14:37.530Z"
   },
   {
    "duration": 4,
    "start_time": "2023-06-02T19:14:37.549Z"
   },
   {
    "duration": 87,
    "start_time": "2023-06-02T19:14:37.555Z"
   },
   {
    "duration": 173,
    "start_time": "2023-06-02T19:14:37.643Z"
   },
   {
    "duration": 20,
    "start_time": "2023-06-02T19:14:37.817Z"
   },
   {
    "duration": 19,
    "start_time": "2023-06-02T19:14:37.839Z"
   },
   {
    "duration": 58,
    "start_time": "2023-06-02T19:14:37.859Z"
   },
   {
    "duration": 25,
    "start_time": "2023-06-02T19:14:37.919Z"
   },
   {
    "duration": 41,
    "start_time": "2023-06-02T19:14:37.946Z"
   },
   {
    "duration": 28,
    "start_time": "2023-06-02T19:14:37.988Z"
   },
   {
    "duration": 8,
    "start_time": "2023-06-02T19:14:38.017Z"
   },
   {
    "duration": 10,
    "start_time": "2023-06-02T19:14:38.026Z"
   },
   {
    "duration": 6,
    "start_time": "2023-06-02T19:14:38.038Z"
   },
   {
    "duration": 14,
    "start_time": "2023-06-02T19:14:38.046Z"
   },
   {
    "duration": 1286,
    "start_time": "2023-06-02T19:14:38.062Z"
   },
   {
    "duration": 8,
    "start_time": "2023-06-02T19:14:39.350Z"
   },
   {
    "duration": 4,
    "start_time": "2023-06-02T19:14:39.360Z"
   },
   {
    "duration": 49,
    "start_time": "2023-06-02T19:14:39.366Z"
   },
   {
    "duration": 9,
    "start_time": "2023-06-02T19:14:39.417Z"
   },
   {
    "duration": 10,
    "start_time": "2023-06-02T19:14:39.427Z"
   },
   {
    "duration": 5,
    "start_time": "2023-06-02T19:14:39.441Z"
   },
   {
    "duration": 114,
    "start_time": "2023-06-02T19:14:39.447Z"
   },
   {
    "duration": 0,
    "start_time": "2023-06-02T19:14:39.563Z"
   },
   {
    "duration": 0,
    "start_time": "2023-06-02T19:14:39.564Z"
   },
   {
    "duration": 0,
    "start_time": "2023-06-02T19:14:39.565Z"
   },
   {
    "duration": 0,
    "start_time": "2023-06-02T19:14:39.566Z"
   },
   {
    "duration": 0,
    "start_time": "2023-06-02T19:14:39.566Z"
   },
   {
    "duration": 0,
    "start_time": "2023-06-02T19:14:39.567Z"
   },
   {
    "duration": 0,
    "start_time": "2023-06-02T19:14:39.568Z"
   },
   {
    "duration": 0,
    "start_time": "2023-06-02T19:14:39.568Z"
   },
   {
    "duration": 0,
    "start_time": "2023-06-02T19:14:39.569Z"
   },
   {
    "duration": 0,
    "start_time": "2023-06-02T19:14:39.570Z"
   },
   {
    "duration": 0,
    "start_time": "2023-06-02T19:14:39.571Z"
   },
   {
    "duration": 0,
    "start_time": "2023-06-02T19:14:39.572Z"
   },
   {
    "duration": 1,
    "start_time": "2023-06-02T19:14:39.572Z"
   },
   {
    "duration": 0,
    "start_time": "2023-06-02T19:14:39.574Z"
   },
   {
    "duration": 0,
    "start_time": "2023-06-02T19:14:39.575Z"
   },
   {
    "duration": 0,
    "start_time": "2023-06-02T19:14:39.576Z"
   },
   {
    "duration": 0,
    "start_time": "2023-06-02T19:14:39.576Z"
   },
   {
    "duration": 0,
    "start_time": "2023-06-02T19:14:39.577Z"
   },
   {
    "duration": 0,
    "start_time": "2023-06-02T19:14:39.578Z"
   },
   {
    "duration": 0,
    "start_time": "2023-06-02T19:14:39.579Z"
   },
   {
    "duration": 0,
    "start_time": "2023-06-02T19:14:39.579Z"
   },
   {
    "duration": 0,
    "start_time": "2023-06-02T19:14:39.580Z"
   },
   {
    "duration": 0,
    "start_time": "2023-06-02T19:14:39.581Z"
   },
   {
    "duration": 0,
    "start_time": "2023-06-02T19:14:39.582Z"
   },
   {
    "duration": 0,
    "start_time": "2023-06-02T19:14:39.615Z"
   },
   {
    "duration": 0,
    "start_time": "2023-06-02T19:14:39.616Z"
   },
   {
    "duration": 0,
    "start_time": "2023-06-02T19:14:39.617Z"
   },
   {
    "duration": 0,
    "start_time": "2023-06-02T19:14:39.618Z"
   },
   {
    "duration": 0,
    "start_time": "2023-06-02T19:14:39.619Z"
   },
   {
    "duration": 0,
    "start_time": "2023-06-02T19:14:39.619Z"
   },
   {
    "duration": 0,
    "start_time": "2023-06-02T19:14:39.620Z"
   },
   {
    "duration": 0,
    "start_time": "2023-06-02T19:14:39.621Z"
   },
   {
    "duration": 0,
    "start_time": "2023-06-02T19:14:39.622Z"
   },
   {
    "duration": 0,
    "start_time": "2023-06-02T19:14:39.623Z"
   },
   {
    "duration": 0,
    "start_time": "2023-06-02T19:14:39.624Z"
   },
   {
    "duration": 0,
    "start_time": "2023-06-02T19:14:39.624Z"
   },
   {
    "duration": 0,
    "start_time": "2023-06-02T19:14:39.625Z"
   },
   {
    "duration": 0,
    "start_time": "2023-06-02T19:14:39.626Z"
   },
   {
    "duration": 0,
    "start_time": "2023-06-02T19:14:39.627Z"
   },
   {
    "duration": 0,
    "start_time": "2023-06-02T19:14:39.628Z"
   },
   {
    "duration": 0,
    "start_time": "2023-06-02T19:14:39.629Z"
   },
   {
    "duration": 0,
    "start_time": "2023-06-02T19:14:39.630Z"
   },
   {
    "duration": 0,
    "start_time": "2023-06-02T19:14:39.631Z"
   },
   {
    "duration": 0,
    "start_time": "2023-06-02T19:14:39.632Z"
   },
   {
    "duration": 0,
    "start_time": "2023-06-02T19:14:39.633Z"
   },
   {
    "duration": 0,
    "start_time": "2023-06-02T19:14:39.634Z"
   },
   {
    "duration": 0,
    "start_time": "2023-06-02T19:14:39.634Z"
   },
   {
    "duration": 0,
    "start_time": "2023-06-02T19:14:39.635Z"
   },
   {
    "duration": 0,
    "start_time": "2023-06-02T19:14:39.636Z"
   },
   {
    "duration": 0,
    "start_time": "2023-06-02T19:14:39.637Z"
   },
   {
    "duration": 0,
    "start_time": "2023-06-02T19:14:39.638Z"
   },
   {
    "duration": 0,
    "start_time": "2023-06-02T19:14:39.638Z"
   },
   {
    "duration": 0,
    "start_time": "2023-06-02T19:14:39.640Z"
   },
   {
    "duration": 0,
    "start_time": "2023-06-02T19:14:39.640Z"
   },
   {
    "duration": 0,
    "start_time": "2023-06-02T19:14:39.641Z"
   },
   {
    "duration": 0,
    "start_time": "2023-06-02T19:14:39.642Z"
   },
   {
    "duration": 0,
    "start_time": "2023-06-02T19:14:39.642Z"
   },
   {
    "duration": 0,
    "start_time": "2023-06-02T19:14:39.643Z"
   },
   {
    "duration": 0,
    "start_time": "2023-06-02T19:14:39.644Z"
   },
   {
    "duration": 0,
    "start_time": "2023-06-02T19:14:39.645Z"
   },
   {
    "duration": 0,
    "start_time": "2023-06-02T19:14:39.646Z"
   },
   {
    "duration": 0,
    "start_time": "2023-06-02T19:14:39.646Z"
   },
   {
    "duration": 0,
    "start_time": "2023-06-02T19:14:39.647Z"
   },
   {
    "duration": 0,
    "start_time": "2023-06-02T19:14:39.648Z"
   },
   {
    "duration": 0,
    "start_time": "2023-06-02T19:14:39.648Z"
   },
   {
    "duration": 0,
    "start_time": "2023-06-02T19:14:39.649Z"
   },
   {
    "duration": 0,
    "start_time": "2023-06-02T19:14:39.716Z"
   },
   {
    "duration": 0,
    "start_time": "2023-06-02T19:14:39.716Z"
   },
   {
    "duration": 0,
    "start_time": "2023-06-02T19:14:39.717Z"
   },
   {
    "duration": 0,
    "start_time": "2023-06-02T19:14:39.718Z"
   },
   {
    "duration": 0,
    "start_time": "2023-06-02T19:14:39.719Z"
   },
   {
    "duration": 0,
    "start_time": "2023-06-02T19:14:39.719Z"
   },
   {
    "duration": 0,
    "start_time": "2023-06-02T19:14:39.720Z"
   },
   {
    "duration": 0,
    "start_time": "2023-06-02T19:14:39.721Z"
   },
   {
    "duration": 0,
    "start_time": "2023-06-02T19:14:39.722Z"
   },
   {
    "duration": 0,
    "start_time": "2023-06-02T19:14:39.723Z"
   },
   {
    "duration": 3,
    "start_time": "2023-06-02T19:15:15.154Z"
   },
   {
    "duration": 34,
    "start_time": "2023-06-02T19:15:16.032Z"
   },
   {
    "duration": 10,
    "start_time": "2023-06-02T19:15:16.742Z"
   },
   {
    "duration": 10,
    "start_time": "2023-06-02T19:15:19.446Z"
   },
   {
    "duration": 67,
    "start_time": "2023-06-02T19:21:29.817Z"
   },
   {
    "duration": 1119,
    "start_time": "2023-06-02T19:21:33.839Z"
   },
   {
    "duration": 371,
    "start_time": "2023-06-02T19:21:35.163Z"
   },
   {
    "duration": 323,
    "start_time": "2023-06-02T19:21:38.118Z"
   },
   {
    "duration": 294,
    "start_time": "2023-06-02T19:21:41.648Z"
   },
   {
    "duration": 33,
    "start_time": "2023-06-02T19:22:13.642Z"
   },
   {
    "duration": 734,
    "start_time": "2023-06-02T19:22:13.677Z"
   },
   {
    "duration": 279,
    "start_time": "2023-06-02T19:22:14.412Z"
   },
   {
    "duration": 26,
    "start_time": "2023-06-02T19:22:14.693Z"
   },
   {
    "duration": 30,
    "start_time": "2023-06-02T19:22:14.720Z"
   },
   {
    "duration": 8,
    "start_time": "2023-06-02T19:22:14.751Z"
   },
   {
    "duration": 1082,
    "start_time": "2023-06-02T19:22:14.760Z"
   },
   {
    "duration": 15,
    "start_time": "2023-06-02T19:22:15.843Z"
   },
   {
    "duration": 8,
    "start_time": "2023-06-02T19:22:15.859Z"
   },
   {
    "duration": 9,
    "start_time": "2023-06-02T19:22:15.869Z"
   },
   {
    "duration": 16,
    "start_time": "2023-06-02T19:22:15.879Z"
   },
   {
    "duration": 12,
    "start_time": "2023-06-02T19:22:15.915Z"
   },
   {
    "duration": 9,
    "start_time": "2023-06-02T19:22:15.928Z"
   },
   {
    "duration": 9,
    "start_time": "2023-06-02T19:22:15.939Z"
   },
   {
    "duration": 9,
    "start_time": "2023-06-02T19:22:15.949Z"
   },
   {
    "duration": 21,
    "start_time": "2023-06-02T19:22:15.959Z"
   },
   {
    "duration": 8,
    "start_time": "2023-06-02T19:22:15.981Z"
   },
   {
    "duration": 27,
    "start_time": "2023-06-02T19:22:15.991Z"
   },
   {
    "duration": 5,
    "start_time": "2023-06-02T19:22:16.020Z"
   },
   {
    "duration": 12,
    "start_time": "2023-06-02T19:22:16.026Z"
   },
   {
    "duration": 8,
    "start_time": "2023-06-02T19:22:16.039Z"
   },
   {
    "duration": 6,
    "start_time": "2023-06-02T19:22:16.048Z"
   },
   {
    "duration": 6,
    "start_time": "2023-06-02T19:22:16.055Z"
   },
   {
    "duration": 15,
    "start_time": "2023-06-02T19:22:16.063Z"
   },
   {
    "duration": 52,
    "start_time": "2023-06-02T19:22:16.079Z"
   },
   {
    "duration": 333,
    "start_time": "2023-06-02T19:22:16.132Z"
   },
   {
    "duration": 18,
    "start_time": "2023-06-02T19:22:16.467Z"
   },
   {
    "duration": 27,
    "start_time": "2023-06-02T19:22:16.489Z"
   },
   {
    "duration": 12,
    "start_time": "2023-06-02T19:22:16.518Z"
   },
   {
    "duration": 11,
    "start_time": "2023-06-02T19:22:16.532Z"
   },
   {
    "duration": 8,
    "start_time": "2023-06-02T19:22:16.545Z"
   },
   {
    "duration": 654,
    "start_time": "2023-06-02T19:22:16.555Z"
   },
   {
    "duration": 0,
    "start_time": "2023-06-02T19:22:17.211Z"
   },
   {
    "duration": 0,
    "start_time": "2023-06-02T19:22:17.211Z"
   },
   {
    "duration": 0,
    "start_time": "2023-06-02T19:22:17.212Z"
   },
   {
    "duration": 0,
    "start_time": "2023-06-02T19:22:17.212Z"
   },
   {
    "duration": 0,
    "start_time": "2023-06-02T19:22:17.215Z"
   },
   {
    "duration": 0,
    "start_time": "2023-06-02T19:22:17.216Z"
   },
   {
    "duration": 0,
    "start_time": "2023-06-02T19:22:17.216Z"
   },
   {
    "duration": 0,
    "start_time": "2023-06-02T19:22:17.217Z"
   },
   {
    "duration": 0,
    "start_time": "2023-06-02T19:22:17.218Z"
   },
   {
    "duration": 0,
    "start_time": "2023-06-02T19:22:17.219Z"
   },
   {
    "duration": 0,
    "start_time": "2023-06-02T19:22:17.219Z"
   },
   {
    "duration": 0,
    "start_time": "2023-06-02T19:22:17.220Z"
   },
   {
    "duration": 0,
    "start_time": "2023-06-02T19:22:17.221Z"
   },
   {
    "duration": 0,
    "start_time": "2023-06-02T19:22:17.222Z"
   },
   {
    "duration": 0,
    "start_time": "2023-06-02T19:22:17.223Z"
   },
   {
    "duration": 0,
    "start_time": "2023-06-02T19:22:17.224Z"
   },
   {
    "duration": 0,
    "start_time": "2023-06-02T19:22:17.224Z"
   },
   {
    "duration": 0,
    "start_time": "2023-06-02T19:22:17.225Z"
   },
   {
    "duration": 0,
    "start_time": "2023-06-02T19:22:17.226Z"
   },
   {
    "duration": 0,
    "start_time": "2023-06-02T19:22:17.227Z"
   },
   {
    "duration": 0,
    "start_time": "2023-06-02T19:22:17.227Z"
   },
   {
    "duration": 0,
    "start_time": "2023-06-02T19:22:17.228Z"
   },
   {
    "duration": 0,
    "start_time": "2023-06-02T19:22:17.229Z"
   },
   {
    "duration": 0,
    "start_time": "2023-06-02T19:22:17.229Z"
   },
   {
    "duration": 0,
    "start_time": "2023-06-02T19:22:17.230Z"
   },
   {
    "duration": 0,
    "start_time": "2023-06-02T19:22:17.231Z"
   },
   {
    "duration": 0,
    "start_time": "2023-06-02T19:22:17.231Z"
   },
   {
    "duration": 0,
    "start_time": "2023-06-02T19:22:17.232Z"
   },
   {
    "duration": 0,
    "start_time": "2023-06-02T19:22:17.233Z"
   },
   {
    "duration": 0,
    "start_time": "2023-06-02T19:22:17.234Z"
   },
   {
    "duration": 0,
    "start_time": "2023-06-02T19:22:17.235Z"
   },
   {
    "duration": 0,
    "start_time": "2023-06-02T19:22:17.235Z"
   },
   {
    "duration": 0,
    "start_time": "2023-06-02T19:22:17.236Z"
   },
   {
    "duration": 0,
    "start_time": "2023-06-02T19:22:17.237Z"
   },
   {
    "duration": 0,
    "start_time": "2023-06-02T19:22:17.237Z"
   },
   {
    "duration": 0,
    "start_time": "2023-06-02T19:22:17.238Z"
   },
   {
    "duration": 0,
    "start_time": "2023-06-02T19:22:17.239Z"
   },
   {
    "duration": 0,
    "start_time": "2023-06-02T19:22:17.239Z"
   },
   {
    "duration": 0,
    "start_time": "2023-06-02T19:22:17.240Z"
   },
   {
    "duration": 0,
    "start_time": "2023-06-02T19:22:17.241Z"
   },
   {
    "duration": 0,
    "start_time": "2023-06-02T19:22:17.242Z"
   },
   {
    "duration": 70,
    "start_time": "2023-06-02T19:27:36.350Z"
   },
   {
    "duration": 1027,
    "start_time": "2023-06-02T19:29:16.607Z"
   },
   {
    "duration": 6,
    "start_time": "2023-06-02T19:31:47.579Z"
   },
   {
    "duration": 286,
    "start_time": "2023-06-02T19:31:48.433Z"
   },
   {
    "duration": 3,
    "start_time": "2023-06-02T19:31:54.475Z"
   },
   {
    "duration": 261,
    "start_time": "2023-06-02T19:31:54.484Z"
   },
   {
    "duration": 175,
    "start_time": "2023-06-02T19:31:54.747Z"
   },
   {
    "duration": 16,
    "start_time": "2023-06-02T19:31:54.923Z"
   },
   {
    "duration": 25,
    "start_time": "2023-06-02T19:31:54.941Z"
   },
   {
    "duration": 17,
    "start_time": "2023-06-02T19:31:54.968Z"
   },
   {
    "duration": 8,
    "start_time": "2023-06-02T19:31:54.987Z"
   },
   {
    "duration": 33,
    "start_time": "2023-06-02T19:31:54.997Z"
   },
   {
    "duration": 8,
    "start_time": "2023-06-02T19:31:55.032Z"
   },
   {
    "duration": 105,
    "start_time": "2023-06-02T19:31:55.041Z"
   },
   {
    "duration": 223,
    "start_time": "2023-06-02T19:31:55.150Z"
   },
   {
    "duration": 24,
    "start_time": "2023-06-02T19:31:55.375Z"
   },
   {
    "duration": 25,
    "start_time": "2023-06-02T19:31:55.401Z"
   },
   {
    "duration": 51,
    "start_time": "2023-06-02T19:31:55.428Z"
   },
   {
    "duration": 41,
    "start_time": "2023-06-02T19:31:55.481Z"
   },
   {
    "duration": 46,
    "start_time": "2023-06-02T19:31:55.524Z"
   },
   {
    "duration": 7,
    "start_time": "2023-06-02T19:31:55.572Z"
   },
   {
    "duration": 36,
    "start_time": "2023-06-02T19:31:55.581Z"
   },
   {
    "duration": 9,
    "start_time": "2023-06-02T19:31:55.618Z"
   },
   {
    "duration": 10,
    "start_time": "2023-06-02T19:31:55.628Z"
   },
   {
    "duration": 20,
    "start_time": "2023-06-02T19:31:55.639Z"
   },
   {
    "duration": 1423,
    "start_time": "2023-06-02T19:31:55.660Z"
   },
   {
    "duration": 8,
    "start_time": "2023-06-02T19:31:57.085Z"
   },
   {
    "duration": 8,
    "start_time": "2023-06-02T19:31:57.094Z"
   },
   {
    "duration": 48,
    "start_time": "2023-06-02T19:31:57.103Z"
   },
   {
    "duration": 10,
    "start_time": "2023-06-02T19:31:57.153Z"
   },
   {
    "duration": 20,
    "start_time": "2023-06-02T19:31:57.164Z"
   },
   {
    "duration": 6,
    "start_time": "2023-06-02T19:31:57.186Z"
   },
   {
    "duration": 83,
    "start_time": "2023-06-02T19:31:57.196Z"
   },
   {
    "duration": 1208,
    "start_time": "2023-06-02T19:31:57.281Z"
   },
   {
    "duration": 394,
    "start_time": "2023-06-02T19:31:58.490Z"
   },
   {
    "duration": 272,
    "start_time": "2023-06-02T19:31:58.886Z"
   },
   {
    "duration": 31,
    "start_time": "2023-06-02T19:31:59.159Z"
   },
   {
    "duration": 724,
    "start_time": "2023-06-02T19:31:59.191Z"
   },
   {
    "duration": 295,
    "start_time": "2023-06-02T19:31:59.916Z"
   },
   {
    "duration": 24,
    "start_time": "2023-06-02T19:32:00.213Z"
   },
   {
    "duration": 63,
    "start_time": "2023-06-02T19:32:00.238Z"
   },
   {
    "duration": 8,
    "start_time": "2023-06-02T19:32:00.303Z"
   },
   {
    "duration": 947,
    "start_time": "2023-06-02T19:32:00.313Z"
   },
   {
    "duration": 13,
    "start_time": "2023-06-02T19:32:01.262Z"
   },
   {
    "duration": 23,
    "start_time": "2023-06-02T19:32:01.277Z"
   },
   {
    "duration": 28,
    "start_time": "2023-06-02T19:32:01.302Z"
   },
   {
    "duration": 43,
    "start_time": "2023-06-02T19:32:01.332Z"
   },
   {
    "duration": 31,
    "start_time": "2023-06-02T19:32:01.377Z"
   },
   {
    "duration": 26,
    "start_time": "2023-06-02T19:32:01.409Z"
   },
   {
    "duration": 30,
    "start_time": "2023-06-02T19:32:01.437Z"
   },
   {
    "duration": 27,
    "start_time": "2023-06-02T19:32:01.469Z"
   },
   {
    "duration": 39,
    "start_time": "2023-06-02T19:32:01.498Z"
   },
   {
    "duration": 34,
    "start_time": "2023-06-02T19:32:01.539Z"
   },
   {
    "duration": 33,
    "start_time": "2023-06-02T19:32:01.574Z"
   },
   {
    "duration": 29,
    "start_time": "2023-06-02T19:32:01.609Z"
   },
   {
    "duration": 31,
    "start_time": "2023-06-02T19:32:01.640Z"
   },
   {
    "duration": 37,
    "start_time": "2023-06-02T19:32:01.673Z"
   },
   {
    "duration": 87,
    "start_time": "2023-06-02T19:32:01.711Z"
   },
   {
    "duration": 35,
    "start_time": "2023-06-02T19:32:01.800Z"
   },
   {
    "duration": 54,
    "start_time": "2023-06-02T19:32:01.837Z"
   },
   {
    "duration": 45,
    "start_time": "2023-06-02T19:32:01.893Z"
   },
   {
    "duration": 356,
    "start_time": "2023-06-02T19:32:01.939Z"
   },
   {
    "duration": 19,
    "start_time": "2023-06-02T19:32:02.297Z"
   },
   {
    "duration": 25,
    "start_time": "2023-06-02T19:32:02.317Z"
   },
   {
    "duration": 46,
    "start_time": "2023-06-02T19:32:02.343Z"
   },
   {
    "duration": 52,
    "start_time": "2023-06-02T19:32:02.390Z"
   },
   {
    "duration": 17,
    "start_time": "2023-06-02T19:32:02.443Z"
   },
   {
    "duration": 312,
    "start_time": "2023-06-02T19:32:02.784Z"
   },
   {
    "duration": 3,
    "start_time": "2023-06-02T19:32:03.097Z"
   },
   {
    "duration": 68,
    "start_time": "2023-06-02T19:32:03.101Z"
   },
   {
    "duration": 19,
    "start_time": "2023-06-02T19:32:03.171Z"
   },
   {
    "duration": 131,
    "start_time": "2023-06-02T19:32:03.192Z"
   },
   {
    "duration": 30,
    "start_time": "2023-06-02T19:32:03.325Z"
   },
   {
    "duration": 232,
    "start_time": "2023-06-02T19:32:03.356Z"
   },
   {
    "duration": 27,
    "start_time": "2023-06-02T19:32:03.589Z"
   },
   {
    "duration": 12,
    "start_time": "2023-06-02T19:32:03.617Z"
   },
   {
    "duration": 24,
    "start_time": "2023-06-02T19:32:03.630Z"
   },
   {
    "duration": 86,
    "start_time": "2023-06-02T19:32:03.655Z"
   },
   {
    "duration": 1021,
    "start_time": "2023-06-02T19:32:03.743Z"
   },
   {
    "duration": 17,
    "start_time": "2023-06-02T19:32:04.765Z"
   },
   {
    "duration": 82,
    "start_time": "2023-06-02T19:32:04.783Z"
   },
   {
    "duration": 8,
    "start_time": "2023-06-02T19:32:04.867Z"
   },
   {
    "duration": 40,
    "start_time": "2023-06-02T19:32:04.876Z"
   },
   {
    "duration": 1811,
    "start_time": "2023-06-02T19:32:04.917Z"
   },
   {
    "duration": 17,
    "start_time": "2023-06-02T19:32:06.729Z"
   },
   {
    "duration": 8,
    "start_time": "2023-06-02T19:32:06.747Z"
   },
   {
    "duration": 26,
    "start_time": "2023-06-02T19:32:06.756Z"
   },
   {
    "duration": 9,
    "start_time": "2023-06-02T19:32:06.784Z"
   },
   {
    "duration": 42,
    "start_time": "2023-06-02T19:32:06.795Z"
   },
   {
    "duration": 37,
    "start_time": "2023-06-02T19:32:06.838Z"
   },
   {
    "duration": 0,
    "start_time": "2023-06-02T19:32:06.877Z"
   },
   {
    "duration": 0,
    "start_time": "2023-06-02T19:32:06.878Z"
   },
   {
    "duration": 0,
    "start_time": "2023-06-02T19:32:06.880Z"
   },
   {
    "duration": 0,
    "start_time": "2023-06-02T19:32:06.881Z"
   },
   {
    "duration": 0,
    "start_time": "2023-06-02T19:32:06.882Z"
   },
   {
    "duration": 0,
    "start_time": "2023-06-02T19:32:06.883Z"
   },
   {
    "duration": 0,
    "start_time": "2023-06-02T19:32:06.885Z"
   },
   {
    "duration": 0,
    "start_time": "2023-06-02T19:32:06.916Z"
   },
   {
    "duration": 0,
    "start_time": "2023-06-02T19:32:06.917Z"
   },
   {
    "duration": 0,
    "start_time": "2023-06-02T19:32:06.918Z"
   },
   {
    "duration": 0,
    "start_time": "2023-06-02T19:32:06.920Z"
   },
   {
    "duration": 0,
    "start_time": "2023-06-02T19:32:06.921Z"
   },
   {
    "duration": 0,
    "start_time": "2023-06-02T19:32:06.922Z"
   },
   {
    "duration": 0,
    "start_time": "2023-06-02T19:32:06.923Z"
   },
   {
    "duration": 0,
    "start_time": "2023-06-02T19:32:06.925Z"
   },
   {
    "duration": 0,
    "start_time": "2023-06-02T19:32:06.927Z"
   },
   {
    "duration": 0,
    "start_time": "2023-06-02T19:32:06.928Z"
   },
   {
    "duration": 1,
    "start_time": "2023-06-02T19:32:06.929Z"
   },
   {
    "duration": 0,
    "start_time": "2023-06-02T19:32:06.931Z"
   },
   {
    "duration": 868,
    "start_time": "2023-06-02T19:34:25.308Z"
   },
   {
    "duration": 902,
    "start_time": "2023-06-02T19:34:47.746Z"
   },
   {
    "duration": 3,
    "start_time": "2023-06-02T19:35:30.182Z"
   },
   {
    "duration": 28,
    "start_time": "2023-06-02T19:37:49.032Z"
   },
   {
    "duration": 27,
    "start_time": "2023-06-02T19:37:58.950Z"
   },
   {
    "duration": 17,
    "start_time": "2023-06-02T19:38:09.243Z"
   },
   {
    "duration": 8,
    "start_time": "2023-06-02T19:38:33.755Z"
   },
   {
    "duration": 17,
    "start_time": "2023-06-02T19:38:37.932Z"
   },
   {
    "duration": 15,
    "start_time": "2023-06-02T19:38:46.261Z"
   },
   {
    "duration": 3,
    "start_time": "2023-06-02T19:39:15.157Z"
   },
   {
    "duration": 1076,
    "start_time": "2023-06-02T19:39:15.987Z"
   },
   {
    "duration": 16,
    "start_time": "2023-06-02T19:39:17.065Z"
   },
   {
    "duration": 108,
    "start_time": "2023-06-02T19:39:23.336Z"
   },
   {
    "duration": 44,
    "start_time": "2023-06-02T19:39:23.445Z"
   },
   {
    "duration": 6,
    "start_time": "2023-06-02T19:39:23.490Z"
   },
   {
    "duration": 18,
    "start_time": "2023-06-02T19:39:23.498Z"
   },
   {
    "duration": 15,
    "start_time": "2023-06-02T19:39:23.517Z"
   },
   {
    "duration": 7,
    "start_time": "2023-06-02T19:39:23.533Z"
   },
   {
    "duration": 0,
    "start_time": "2023-06-02T19:39:23.541Z"
   },
   {
    "duration": 0,
    "start_time": "2023-06-02T19:39:23.543Z"
   },
   {
    "duration": 0,
    "start_time": "2023-06-02T19:39:23.544Z"
   },
   {
    "duration": 0,
    "start_time": "2023-06-02T19:39:23.544Z"
   },
   {
    "duration": 0,
    "start_time": "2023-06-02T19:39:23.546Z"
   },
   {
    "duration": 0,
    "start_time": "2023-06-02T19:39:23.546Z"
   },
   {
    "duration": 0,
    "start_time": "2023-06-02T19:39:23.548Z"
   },
   {
    "duration": 0,
    "start_time": "2023-06-02T19:39:23.548Z"
   },
   {
    "duration": 0,
    "start_time": "2023-06-02T19:39:23.549Z"
   },
   {
    "duration": 952,
    "start_time": "2023-06-02T19:39:48.988Z"
   },
   {
    "duration": 16,
    "start_time": "2023-06-02T19:39:49.942Z"
   },
   {
    "duration": 9,
    "start_time": "2023-06-02T19:39:51.860Z"
   },
   {
    "duration": 65,
    "start_time": "2023-06-02T19:40:09.274Z"
   },
   {
    "duration": 468,
    "start_time": "2023-06-02T19:40:18.180Z"
   },
   {
    "duration": 267,
    "start_time": "2023-06-02T19:40:18.649Z"
   },
   {
    "duration": 221,
    "start_time": "2023-06-02T19:40:18.917Z"
   },
   {
    "duration": 2,
    "start_time": "2023-06-02T19:40:19.140Z"
   },
   {
    "duration": 86,
    "start_time": "2023-06-02T19:40:19.144Z"
   },
   {
    "duration": 29,
    "start_time": "2023-06-02T19:40:19.232Z"
   },
   {
    "duration": 0,
    "start_time": "2023-06-02T19:40:19.263Z"
   },
   {
    "duration": 0,
    "start_time": "2023-06-02T19:40:19.264Z"
   },
   {
    "duration": 0,
    "start_time": "2023-06-02T19:40:19.266Z"
   },
   {
    "duration": 65,
    "start_time": "2023-06-02T19:40:59.132Z"
   },
   {
    "duration": 1407,
    "start_time": "2023-06-02T19:42:07.040Z"
   },
   {
    "duration": 696,
    "start_time": "2023-06-02T19:43:47.861Z"
   },
   {
    "duration": 48,
    "start_time": "2023-06-02T19:43:51.800Z"
   },
   {
    "duration": 17,
    "start_time": "2023-06-02T19:44:06.240Z"
   },
   {
    "duration": 38,
    "start_time": "2023-06-02T19:44:40.395Z"
   },
   {
    "duration": 40,
    "start_time": "2023-06-02T19:44:48.986Z"
   },
   {
    "duration": 1130,
    "start_time": "2023-06-02T19:47:21.986Z"
   },
   {
    "duration": 200,
    "start_time": "2023-06-02T19:47:23.117Z"
   },
   {
    "duration": 87,
    "start_time": "2023-06-02T19:47:23.319Z"
   },
   {
    "duration": 16,
    "start_time": "2023-06-02T19:47:23.408Z"
   },
   {
    "duration": 25,
    "start_time": "2023-06-02T19:47:23.426Z"
   },
   {
    "duration": 34,
    "start_time": "2023-06-02T19:47:23.452Z"
   },
   {
    "duration": 19,
    "start_time": "2023-06-02T19:47:23.487Z"
   },
   {
    "duration": 28,
    "start_time": "2023-06-02T19:47:23.508Z"
   },
   {
    "duration": 7,
    "start_time": "2023-06-02T19:47:23.538Z"
   },
   {
    "duration": 80,
    "start_time": "2023-06-02T19:47:23.548Z"
   },
   {
    "duration": 182,
    "start_time": "2023-06-02T19:47:23.630Z"
   },
   {
    "duration": 20,
    "start_time": "2023-06-02T19:47:23.815Z"
   },
   {
    "duration": 39,
    "start_time": "2023-06-02T19:47:23.837Z"
   },
   {
    "duration": 51,
    "start_time": "2023-06-02T19:47:23.878Z"
   },
   {
    "duration": 26,
    "start_time": "2023-06-02T19:47:23.931Z"
   },
   {
    "duration": 66,
    "start_time": "2023-06-02T19:47:23.959Z"
   },
   {
    "duration": 7,
    "start_time": "2023-06-02T19:47:24.026Z"
   },
   {
    "duration": 31,
    "start_time": "2023-06-02T19:47:24.034Z"
   },
   {
    "duration": 26,
    "start_time": "2023-06-02T19:47:24.066Z"
   },
   {
    "duration": 34,
    "start_time": "2023-06-02T19:47:24.093Z"
   },
   {
    "duration": 21,
    "start_time": "2023-06-02T19:47:24.129Z"
   },
   {
    "duration": 1445,
    "start_time": "2023-06-02T19:47:24.151Z"
   },
   {
    "duration": 8,
    "start_time": "2023-06-02T19:47:25.598Z"
   },
   {
    "duration": 22,
    "start_time": "2023-06-02T19:47:25.607Z"
   },
   {
    "duration": 50,
    "start_time": "2023-06-02T19:47:25.630Z"
   },
   {
    "duration": 10,
    "start_time": "2023-06-02T19:47:25.682Z"
   },
   {
    "duration": 10,
    "start_time": "2023-06-02T19:47:25.693Z"
   },
   {
    "duration": 6,
    "start_time": "2023-06-02T19:47:25.707Z"
   },
   {
    "duration": 99,
    "start_time": "2023-06-02T19:47:25.714Z"
   },
   {
    "duration": 1303,
    "start_time": "2023-06-02T19:47:25.815Z"
   },
   {
    "duration": 374,
    "start_time": "2023-06-02T19:47:27.120Z"
   },
   {
    "duration": 337,
    "start_time": "2023-06-02T19:47:27.495Z"
   },
   {
    "duration": 40,
    "start_time": "2023-06-02T19:47:27.834Z"
   },
   {
    "duration": 789,
    "start_time": "2023-06-02T19:47:27.876Z"
   },
   {
    "duration": 316,
    "start_time": "2023-06-02T19:47:28.666Z"
   },
   {
    "duration": 18,
    "start_time": "2023-06-02T19:47:28.983Z"
   },
   {
    "duration": 45,
    "start_time": "2023-06-02T19:47:29.002Z"
   },
   {
    "duration": 9,
    "start_time": "2023-06-02T19:47:29.048Z"
   },
   {
    "duration": 1071,
    "start_time": "2023-06-02T19:47:29.058Z"
   },
   {
    "duration": 13,
    "start_time": "2023-06-02T19:47:30.130Z"
   },
   {
    "duration": 26,
    "start_time": "2023-06-02T19:47:30.144Z"
   },
   {
    "duration": 28,
    "start_time": "2023-06-02T19:47:30.171Z"
   },
   {
    "duration": 61,
    "start_time": "2023-06-02T19:47:30.200Z"
   },
   {
    "duration": 44,
    "start_time": "2023-06-02T19:47:30.263Z"
   },
   {
    "duration": 37,
    "start_time": "2023-06-02T19:47:30.308Z"
   },
   {
    "duration": 77,
    "start_time": "2023-06-02T19:47:30.347Z"
   },
   {
    "duration": 88,
    "start_time": "2023-06-02T19:47:30.425Z"
   },
   {
    "duration": 19,
    "start_time": "2023-06-02T19:47:30.515Z"
   },
   {
    "duration": 25,
    "start_time": "2023-06-02T19:47:30.536Z"
   },
   {
    "duration": 44,
    "start_time": "2023-06-02T19:47:30.562Z"
   },
   {
    "duration": 15,
    "start_time": "2023-06-02T19:47:30.608Z"
   },
   {
    "duration": 44,
    "start_time": "2023-06-02T19:47:30.624Z"
   },
   {
    "duration": 31,
    "start_time": "2023-06-02T19:47:30.670Z"
   },
   {
    "duration": 41,
    "start_time": "2023-06-02T19:47:30.702Z"
   },
   {
    "duration": 41,
    "start_time": "2023-06-02T19:47:30.745Z"
   },
   {
    "duration": 42,
    "start_time": "2023-06-02T19:47:30.788Z"
   },
   {
    "duration": 34,
    "start_time": "2023-06-02T19:47:30.832Z"
   },
   {
    "duration": 424,
    "start_time": "2023-06-02T19:47:30.867Z"
   },
   {
    "duration": 26,
    "start_time": "2023-06-02T19:47:31.293Z"
   },
   {
    "duration": 23,
    "start_time": "2023-06-02T19:47:31.320Z"
   },
   {
    "duration": 30,
    "start_time": "2023-06-02T19:47:31.344Z"
   },
   {
    "duration": 32,
    "start_time": "2023-06-02T19:47:31.376Z"
   },
   {
    "duration": 23,
    "start_time": "2023-06-02T19:47:31.409Z"
   },
   {
    "duration": 277,
    "start_time": "2023-06-02T19:47:31.434Z"
   },
   {
    "duration": 5,
    "start_time": "2023-06-02T19:47:31.712Z"
   },
   {
    "duration": 49,
    "start_time": "2023-06-02T19:47:31.718Z"
   },
   {
    "duration": 18,
    "start_time": "2023-06-02T19:47:31.769Z"
   },
   {
    "duration": 127,
    "start_time": "2023-06-02T19:47:31.788Z"
   },
   {
    "duration": 30,
    "start_time": "2023-06-02T19:47:31.917Z"
   },
   {
    "duration": 243,
    "start_time": "2023-06-02T19:47:31.949Z"
   },
   {
    "duration": 33,
    "start_time": "2023-06-02T19:47:32.194Z"
   },
   {
    "duration": 13,
    "start_time": "2023-06-02T19:47:32.229Z"
   },
   {
    "duration": 8,
    "start_time": "2023-06-02T19:47:32.243Z"
   },
   {
    "duration": 1101,
    "start_time": "2023-06-02T19:47:32.252Z"
   },
   {
    "duration": 18,
    "start_time": "2023-06-02T19:47:33.354Z"
   },
   {
    "duration": 17,
    "start_time": "2023-06-02T19:47:33.374Z"
   },
   {
    "duration": 27,
    "start_time": "2023-06-02T19:47:33.393Z"
   },
   {
    "duration": 4,
    "start_time": "2023-06-02T19:47:33.422Z"
   },
   {
    "duration": 1104,
    "start_time": "2023-06-02T19:47:33.427Z"
   },
   {
    "duration": 18,
    "start_time": "2023-06-02T19:47:34.533Z"
   },
   {
    "duration": 7,
    "start_time": "2023-06-02T19:47:34.553Z"
   },
   {
    "duration": 20,
    "start_time": "2023-06-02T19:47:34.565Z"
   },
   {
    "duration": 30,
    "start_time": "2023-06-02T19:47:34.587Z"
   },
   {
    "duration": 23,
    "start_time": "2023-06-02T19:47:34.618Z"
   },
   {
    "duration": 4,
    "start_time": "2023-06-02T19:47:34.642Z"
   },
   {
    "duration": 1068,
    "start_time": "2023-06-02T19:47:34.648Z"
   },
   {
    "duration": 19,
    "start_time": "2023-06-02T19:47:35.717Z"
   },
   {
    "duration": 8,
    "start_time": "2023-06-02T19:47:35.737Z"
   },
   {
    "duration": 136,
    "start_time": "2023-06-02T19:47:35.747Z"
   },
   {
    "duration": 58,
    "start_time": "2023-06-02T19:47:35.885Z"
   },
   {
    "duration": 7,
    "start_time": "2023-06-02T19:47:35.945Z"
   },
   {
    "duration": 4,
    "start_time": "2023-06-02T19:47:35.953Z"
   },
   {
    "duration": 16,
    "start_time": "2023-06-02T19:47:35.958Z"
   },
   {
    "duration": 86,
    "start_time": "2023-06-02T19:47:35.976Z"
   },
   {
    "duration": 507,
    "start_time": "2023-06-02T19:47:36.063Z"
   },
   {
    "duration": 199,
    "start_time": "2023-06-02T19:47:36.571Z"
   },
   {
    "duration": 223,
    "start_time": "2023-06-02T19:47:36.772Z"
   },
   {
    "duration": 3,
    "start_time": "2023-06-02T19:47:36.997Z"
   },
   {
    "duration": 77,
    "start_time": "2023-06-02T19:47:37.001Z"
   },
   {
    "duration": 669,
    "start_time": "2023-06-02T19:47:37.080Z"
   },
   {
    "duration": 51,
    "start_time": "2023-06-02T19:47:37.751Z"
   },
   {
    "duration": 122,
    "start_time": "2023-06-02T19:47:37.804Z"
   },
   {
    "duration": 108,
    "start_time": "2023-06-02T19:47:37.927Z"
   },
   {
    "duration": 1307,
    "start_time": "2023-06-03T12:33:07.763Z"
   },
   {
    "duration": 301,
    "start_time": "2023-06-03T12:33:09.074Z"
   },
   {
    "duration": 143,
    "start_time": "2023-06-03T12:33:09.377Z"
   },
   {
    "duration": 24,
    "start_time": "2023-06-03T12:33:09.522Z"
   },
   {
    "duration": 144,
    "start_time": "2023-06-03T12:33:09.548Z"
   },
   {
    "duration": 418,
    "start_time": "2023-06-03T12:33:09.695Z"
   },
   {
    "duration": 0,
    "start_time": "2023-06-03T12:33:10.118Z"
   },
   {
    "duration": 0,
    "start_time": "2023-06-03T12:33:10.120Z"
   },
   {
    "duration": 0,
    "start_time": "2023-06-03T12:33:10.121Z"
   },
   {
    "duration": 0,
    "start_time": "2023-06-03T12:33:10.123Z"
   },
   {
    "duration": 0,
    "start_time": "2023-06-03T12:33:10.124Z"
   },
   {
    "duration": 0,
    "start_time": "2023-06-03T12:33:10.125Z"
   },
   {
    "duration": 0,
    "start_time": "2023-06-03T12:33:10.126Z"
   },
   {
    "duration": 0,
    "start_time": "2023-06-03T12:33:10.127Z"
   },
   {
    "duration": 0,
    "start_time": "2023-06-03T12:33:10.129Z"
   },
   {
    "duration": 0,
    "start_time": "2023-06-03T12:33:10.130Z"
   },
   {
    "duration": 0,
    "start_time": "2023-06-03T12:33:10.131Z"
   },
   {
    "duration": 0,
    "start_time": "2023-06-03T12:33:10.132Z"
   },
   {
    "duration": 0,
    "start_time": "2023-06-03T12:33:10.134Z"
   },
   {
    "duration": 0,
    "start_time": "2023-06-03T12:33:10.136Z"
   },
   {
    "duration": 0,
    "start_time": "2023-06-03T12:33:10.136Z"
   },
   {
    "duration": 0,
    "start_time": "2023-06-03T12:33:10.138Z"
   },
   {
    "duration": 0,
    "start_time": "2023-06-03T12:33:10.139Z"
   },
   {
    "duration": 0,
    "start_time": "2023-06-03T12:33:10.139Z"
   },
   {
    "duration": 0,
    "start_time": "2023-06-03T12:33:10.141Z"
   },
   {
    "duration": 0,
    "start_time": "2023-06-03T12:33:10.142Z"
   },
   {
    "duration": 0,
    "start_time": "2023-06-03T12:33:10.143Z"
   },
   {
    "duration": 0,
    "start_time": "2023-06-03T12:33:10.145Z"
   },
   {
    "duration": 0,
    "start_time": "2023-06-03T12:33:10.145Z"
   },
   {
    "duration": 0,
    "start_time": "2023-06-03T12:33:10.146Z"
   },
   {
    "duration": 0,
    "start_time": "2023-06-03T12:33:10.147Z"
   },
   {
    "duration": 0,
    "start_time": "2023-06-03T12:33:10.148Z"
   },
   {
    "duration": 0,
    "start_time": "2023-06-03T12:33:10.150Z"
   },
   {
    "duration": 0,
    "start_time": "2023-06-03T12:33:10.151Z"
   },
   {
    "duration": 0,
    "start_time": "2023-06-03T12:33:10.152Z"
   },
   {
    "duration": 0,
    "start_time": "2023-06-03T12:33:10.153Z"
   },
   {
    "duration": 0,
    "start_time": "2023-06-03T12:33:10.154Z"
   },
   {
    "duration": 0,
    "start_time": "2023-06-03T12:33:10.155Z"
   },
   {
    "duration": 0,
    "start_time": "2023-06-03T12:33:10.156Z"
   },
   {
    "duration": 0,
    "start_time": "2023-06-03T12:33:10.157Z"
   },
   {
    "duration": 0,
    "start_time": "2023-06-03T12:33:10.158Z"
   },
   {
    "duration": 0,
    "start_time": "2023-06-03T12:33:10.160Z"
   },
   {
    "duration": 0,
    "start_time": "2023-06-03T12:33:10.161Z"
   },
   {
    "duration": 0,
    "start_time": "2023-06-03T12:33:10.162Z"
   },
   {
    "duration": 0,
    "start_time": "2023-06-03T12:33:10.163Z"
   },
   {
    "duration": 0,
    "start_time": "2023-06-03T12:33:10.164Z"
   },
   {
    "duration": 0,
    "start_time": "2023-06-03T12:33:10.165Z"
   },
   {
    "duration": 0,
    "start_time": "2023-06-03T12:33:10.166Z"
   },
   {
    "duration": 0,
    "start_time": "2023-06-03T12:33:10.167Z"
   },
   {
    "duration": 0,
    "start_time": "2023-06-03T12:33:10.168Z"
   },
   {
    "duration": 0,
    "start_time": "2023-06-03T12:33:10.170Z"
   },
   {
    "duration": 0,
    "start_time": "2023-06-03T12:33:10.171Z"
   },
   {
    "duration": 0,
    "start_time": "2023-06-03T12:33:10.173Z"
   },
   {
    "duration": 0,
    "start_time": "2023-06-03T12:33:10.174Z"
   },
   {
    "duration": 0,
    "start_time": "2023-06-03T12:33:10.176Z"
   },
   {
    "duration": 0,
    "start_time": "2023-06-03T12:33:10.177Z"
   },
   {
    "duration": 0,
    "start_time": "2023-06-03T12:33:10.178Z"
   },
   {
    "duration": 0,
    "start_time": "2023-06-03T12:33:10.180Z"
   },
   {
    "duration": 0,
    "start_time": "2023-06-03T12:33:10.242Z"
   },
   {
    "duration": 0,
    "start_time": "2023-06-03T12:33:10.244Z"
   },
   {
    "duration": 0,
    "start_time": "2023-06-03T12:33:10.245Z"
   },
   {
    "duration": 0,
    "start_time": "2023-06-03T12:33:10.247Z"
   },
   {
    "duration": 0,
    "start_time": "2023-06-03T12:33:10.248Z"
   },
   {
    "duration": 0,
    "start_time": "2023-06-03T12:33:10.250Z"
   },
   {
    "duration": 0,
    "start_time": "2023-06-03T12:33:10.251Z"
   },
   {
    "duration": 0,
    "start_time": "2023-06-03T12:33:10.253Z"
   },
   {
    "duration": 0,
    "start_time": "2023-06-03T12:33:10.254Z"
   },
   {
    "duration": 0,
    "start_time": "2023-06-03T12:33:10.256Z"
   },
   {
    "duration": 0,
    "start_time": "2023-06-03T12:33:10.257Z"
   },
   {
    "duration": 0,
    "start_time": "2023-06-03T12:33:10.258Z"
   },
   {
    "duration": 0,
    "start_time": "2023-06-03T12:33:10.260Z"
   },
   {
    "duration": 0,
    "start_time": "2023-06-03T12:33:10.261Z"
   },
   {
    "duration": 0,
    "start_time": "2023-06-03T12:33:10.262Z"
   },
   {
    "duration": 0,
    "start_time": "2023-06-03T12:33:10.264Z"
   },
   {
    "duration": 0,
    "start_time": "2023-06-03T12:33:10.265Z"
   },
   {
    "duration": 0,
    "start_time": "2023-06-03T12:33:10.266Z"
   },
   {
    "duration": 0,
    "start_time": "2023-06-03T12:33:10.268Z"
   },
   {
    "duration": 0,
    "start_time": "2023-06-03T12:33:10.270Z"
   },
   {
    "duration": 0,
    "start_time": "2023-06-03T12:33:10.271Z"
   },
   {
    "duration": 0,
    "start_time": "2023-06-03T12:33:10.272Z"
   },
   {
    "duration": 1,
    "start_time": "2023-06-03T12:33:10.273Z"
   },
   {
    "duration": 0,
    "start_time": "2023-06-03T12:33:10.275Z"
   },
   {
    "duration": 0,
    "start_time": "2023-06-03T12:33:10.276Z"
   },
   {
    "duration": 0,
    "start_time": "2023-06-03T12:33:10.278Z"
   },
   {
    "duration": 0,
    "start_time": "2023-06-03T12:33:10.279Z"
   },
   {
    "duration": 0,
    "start_time": "2023-06-03T12:33:10.281Z"
   },
   {
    "duration": 0,
    "start_time": "2023-06-03T12:33:10.282Z"
   },
   {
    "duration": 0,
    "start_time": "2023-06-03T12:33:10.343Z"
   },
   {
    "duration": 0,
    "start_time": "2023-06-03T12:33:10.345Z"
   },
   {
    "duration": 0,
    "start_time": "2023-06-03T12:33:10.346Z"
   },
   {
    "duration": 0,
    "start_time": "2023-06-03T12:33:10.347Z"
   },
   {
    "duration": 0,
    "start_time": "2023-06-03T12:33:10.349Z"
   },
   {
    "duration": 0,
    "start_time": "2023-06-03T12:33:10.350Z"
   },
   {
    "duration": 0,
    "start_time": "2023-06-03T12:33:10.352Z"
   },
   {
    "duration": 0,
    "start_time": "2023-06-03T12:33:10.353Z"
   },
   {
    "duration": 0,
    "start_time": "2023-06-03T12:33:10.355Z"
   },
   {
    "duration": 0,
    "start_time": "2023-06-03T12:33:10.356Z"
   },
   {
    "duration": 0,
    "start_time": "2023-06-03T12:33:10.357Z"
   },
   {
    "duration": 0,
    "start_time": "2023-06-03T12:33:10.358Z"
   },
   {
    "duration": 0,
    "start_time": "2023-06-03T12:33:10.359Z"
   },
   {
    "duration": 0,
    "start_time": "2023-06-03T12:33:10.360Z"
   },
   {
    "duration": 0,
    "start_time": "2023-06-03T12:33:10.362Z"
   },
   {
    "duration": 0,
    "start_time": "2023-06-03T12:33:10.363Z"
   },
   {
    "duration": 42,
    "start_time": "2023-06-03T16:45:33.460Z"
   },
   {
    "duration": 1221,
    "start_time": "2023-06-03T16:45:37.236Z"
   },
   {
    "duration": 284,
    "start_time": "2023-06-03T16:45:39.123Z"
   },
   {
    "duration": 173,
    "start_time": "2023-06-03T16:45:41.074Z"
   },
   {
    "duration": 18,
    "start_time": "2023-06-03T16:45:43.957Z"
   },
   {
    "duration": 9,
    "start_time": "2023-06-03T16:45:47.169Z"
   },
   {
    "duration": 16,
    "start_time": "2023-06-03T16:45:54.179Z"
   },
   {
    "duration": 1039,
    "start_time": "2023-06-03T16:52:27.514Z"
   },
   {
    "duration": 451,
    "start_time": "2023-06-03T16:52:28.554Z"
   },
   {
    "duration": 74,
    "start_time": "2023-06-03T16:52:29.007Z"
   },
   {
    "duration": 22,
    "start_time": "2023-06-03T16:52:29.084Z"
   },
   {
    "duration": 9,
    "start_time": "2023-06-03T16:52:29.108Z"
   },
   {
    "duration": 23,
    "start_time": "2023-06-03T16:52:29.118Z"
   },
   {
    "duration": 9,
    "start_time": "2023-06-03T16:52:29.142Z"
   },
   {
    "duration": 41,
    "start_time": "2023-06-03T16:52:29.153Z"
   },
   {
    "duration": 4,
    "start_time": "2023-06-03T16:52:29.195Z"
   },
   {
    "duration": 106,
    "start_time": "2023-06-03T16:52:29.201Z"
   },
   {
    "duration": 194,
    "start_time": "2023-06-03T16:52:29.308Z"
   },
   {
    "duration": 39,
    "start_time": "2023-06-03T16:52:29.504Z"
   },
   {
    "duration": 39,
    "start_time": "2023-06-03T16:52:29.547Z"
   },
   {
    "duration": 44,
    "start_time": "2023-06-03T16:52:29.588Z"
   },
   {
    "duration": 45,
    "start_time": "2023-06-03T16:52:29.634Z"
   },
   {
    "duration": 52,
    "start_time": "2023-06-03T16:52:29.680Z"
   },
   {
    "duration": 6,
    "start_time": "2023-06-03T16:52:29.734Z"
   },
   {
    "duration": 7,
    "start_time": "2023-06-03T16:52:29.742Z"
   },
   {
    "duration": 35,
    "start_time": "2023-06-03T16:52:29.750Z"
   },
   {
    "duration": 6,
    "start_time": "2023-06-03T16:52:29.787Z"
   },
   {
    "duration": 13,
    "start_time": "2023-06-03T16:52:29.795Z"
   },
   {
    "duration": 1227,
    "start_time": "2023-06-03T16:52:29.810Z"
   },
   {
    "duration": 8,
    "start_time": "2023-06-03T16:52:31.039Z"
   },
   {
    "duration": 24,
    "start_time": "2023-06-03T16:52:31.049Z"
   },
   {
    "duration": 41,
    "start_time": "2023-06-03T16:52:31.075Z"
   },
   {
    "duration": 10,
    "start_time": "2023-06-03T16:52:31.118Z"
   },
   {
    "duration": 34,
    "start_time": "2023-06-03T16:52:31.130Z"
   },
   {
    "duration": 29,
    "start_time": "2023-06-03T16:52:31.169Z"
   },
   {
    "duration": 105,
    "start_time": "2023-06-03T16:52:31.200Z"
   },
   {
    "duration": 1271,
    "start_time": "2023-06-03T16:52:31.307Z"
   },
   {
    "duration": 368,
    "start_time": "2023-06-03T16:52:32.580Z"
   },
   {
    "duration": 315,
    "start_time": "2023-06-03T16:52:32.949Z"
   },
   {
    "duration": 37,
    "start_time": "2023-06-03T16:52:33.266Z"
   },
   {
    "duration": 734,
    "start_time": "2023-06-03T16:52:33.305Z"
   },
   {
    "duration": 320,
    "start_time": "2023-06-03T16:52:34.041Z"
   },
   {
    "duration": 27,
    "start_time": "2023-06-03T16:52:34.362Z"
   },
   {
    "duration": 37,
    "start_time": "2023-06-03T16:52:34.392Z"
   },
   {
    "duration": 9,
    "start_time": "2023-06-03T16:52:34.430Z"
   },
   {
    "duration": 1037,
    "start_time": "2023-06-03T16:52:34.441Z"
   },
   {
    "duration": 15,
    "start_time": "2023-06-03T16:52:35.480Z"
   },
   {
    "duration": 14,
    "start_time": "2023-06-03T16:52:35.497Z"
   },
   {
    "duration": 22,
    "start_time": "2023-06-03T16:52:35.513Z"
   },
   {
    "duration": 23,
    "start_time": "2023-06-03T16:52:35.537Z"
   },
   {
    "duration": 23,
    "start_time": "2023-06-03T16:52:35.563Z"
   },
   {
    "duration": 12,
    "start_time": "2023-06-03T16:52:35.587Z"
   },
   {
    "duration": 11,
    "start_time": "2023-06-03T16:52:35.601Z"
   },
   {
    "duration": 25,
    "start_time": "2023-06-03T16:52:35.615Z"
   },
   {
    "duration": 38,
    "start_time": "2023-06-03T16:52:35.643Z"
   },
   {
    "duration": 8,
    "start_time": "2023-06-03T16:52:35.683Z"
   },
   {
    "duration": 40,
    "start_time": "2023-06-03T16:52:35.692Z"
   },
   {
    "duration": 25,
    "start_time": "2023-06-03T16:52:35.733Z"
   },
   {
    "duration": 27,
    "start_time": "2023-06-03T16:52:35.760Z"
   },
   {
    "duration": 22,
    "start_time": "2023-06-03T16:52:35.789Z"
   },
   {
    "duration": 18,
    "start_time": "2023-06-03T16:52:35.813Z"
   },
   {
    "duration": 33,
    "start_time": "2023-06-03T16:52:35.833Z"
   },
   {
    "duration": 36,
    "start_time": "2023-06-03T16:52:35.868Z"
   },
   {
    "duration": 68,
    "start_time": "2023-06-03T16:52:35.905Z"
   },
   {
    "duration": 421,
    "start_time": "2023-06-03T16:52:35.974Z"
   },
   {
    "duration": 22,
    "start_time": "2023-06-03T16:52:36.396Z"
   },
   {
    "duration": 16,
    "start_time": "2023-06-03T16:52:36.420Z"
   },
   {
    "duration": 40,
    "start_time": "2023-06-03T16:52:36.438Z"
   },
   {
    "duration": 15,
    "start_time": "2023-06-03T16:52:36.480Z"
   },
   {
    "duration": 7,
    "start_time": "2023-06-03T16:52:36.497Z"
   },
   {
    "duration": 260,
    "start_time": "2023-06-03T16:52:36.506Z"
   },
   {
    "duration": 3,
    "start_time": "2023-06-03T16:52:36.767Z"
   },
   {
    "duration": 45,
    "start_time": "2023-06-03T16:52:36.772Z"
   },
   {
    "duration": 16,
    "start_time": "2023-06-03T16:52:36.819Z"
   },
   {
    "duration": 123,
    "start_time": "2023-06-03T16:52:36.837Z"
   },
   {
    "duration": 36,
    "start_time": "2023-06-03T16:52:36.963Z"
   },
   {
    "duration": 765,
    "start_time": "2023-06-03T16:52:37.001Z"
   },
   {
    "duration": 37,
    "start_time": "2023-06-03T16:52:37.768Z"
   },
   {
    "duration": 14,
    "start_time": "2023-06-03T16:52:37.806Z"
   },
   {
    "duration": 21,
    "start_time": "2023-06-03T16:52:37.821Z"
   },
   {
    "duration": 1035,
    "start_time": "2023-06-03T16:52:37.843Z"
   },
   {
    "duration": 17,
    "start_time": "2023-06-03T16:52:38.879Z"
   },
   {
    "duration": 16,
    "start_time": "2023-06-03T16:52:38.898Z"
   },
   {
    "duration": 8,
    "start_time": "2023-06-03T16:52:38.916Z"
   },
   {
    "duration": 5,
    "start_time": "2023-06-03T16:52:38.925Z"
   },
   {
    "duration": 1087,
    "start_time": "2023-06-03T16:52:38.931Z"
   },
   {
    "duration": 20,
    "start_time": "2023-06-03T16:52:40.020Z"
   },
   {
    "duration": 9,
    "start_time": "2023-06-03T16:52:40.041Z"
   },
   {
    "duration": 41,
    "start_time": "2023-06-03T16:52:40.055Z"
   },
   {
    "duration": 11,
    "start_time": "2023-06-03T16:52:40.097Z"
   },
   {
    "duration": 36,
    "start_time": "2023-06-03T16:52:40.110Z"
   },
   {
    "duration": 4,
    "start_time": "2023-06-03T16:52:40.148Z"
   },
   {
    "duration": 1062,
    "start_time": "2023-06-03T16:52:40.153Z"
   },
   {
    "duration": 20,
    "start_time": "2023-06-03T16:52:41.216Z"
   },
   {
    "duration": 10,
    "start_time": "2023-06-03T16:52:41.238Z"
   },
   {
    "duration": 160,
    "start_time": "2023-06-03T16:52:41.250Z"
   },
   {
    "duration": 53,
    "start_time": "2023-06-03T16:52:41.412Z"
   },
   {
    "duration": 8,
    "start_time": "2023-06-03T16:52:41.477Z"
   },
   {
    "duration": 4,
    "start_time": "2023-06-03T16:52:41.487Z"
   },
   {
    "duration": 17,
    "start_time": "2023-06-03T16:52:41.492Z"
   },
   {
    "duration": 98,
    "start_time": "2023-06-03T16:52:41.511Z"
   },
   {
    "duration": 557,
    "start_time": "2023-06-03T16:52:41.611Z"
   },
   {
    "duration": 221,
    "start_time": "2023-06-03T16:52:42.178Z"
   },
   {
    "duration": 221,
    "start_time": "2023-06-03T16:52:42.400Z"
   },
   {
    "duration": 2,
    "start_time": "2023-06-03T16:52:42.623Z"
   },
   {
    "duration": 84,
    "start_time": "2023-06-03T16:52:42.627Z"
   },
   {
    "duration": 622,
    "start_time": "2023-06-03T16:52:42.713Z"
   },
   {
    "duration": 54,
    "start_time": "2023-06-03T16:52:43.337Z"
   },
   {
    "duration": 36,
    "start_time": "2023-06-03T16:52:43.393Z"
   },
   {
    "duration": 54,
    "start_time": "2023-06-03T16:52:43.431Z"
   },
   {
    "duration": 9,
    "start_time": "2023-06-03T16:58:40.846Z"
   },
   {
    "duration": 11,
    "start_time": "2023-06-03T16:58:51.419Z"
   },
   {
    "duration": 200,
    "start_time": "2023-06-03T17:01:32.140Z"
   },
   {
    "duration": 331,
    "start_time": "2023-06-03T17:01:40.712Z"
   },
   {
    "duration": 10,
    "start_time": "2023-06-03T17:01:42.095Z"
   },
   {
    "duration": 43,
    "start_time": "2023-06-03T17:02:02.491Z"
   },
   {
    "duration": 11,
    "start_time": "2023-06-03T17:02:03.283Z"
   },
   {
    "duration": 1221,
    "start_time": "2023-06-03T17:14:48.711Z"
   },
   {
    "duration": 214,
    "start_time": "2023-06-03T17:14:49.934Z"
   },
   {
    "duration": 14,
    "start_time": "2023-06-03T17:14:50.150Z"
   },
   {
    "duration": 56,
    "start_time": "2023-06-03T17:14:50.166Z"
   },
   {
    "duration": 10,
    "start_time": "2023-06-03T17:14:50.223Z"
   },
   {
    "duration": 25,
    "start_time": "2023-06-03T17:14:50.234Z"
   },
   {
    "duration": 18,
    "start_time": "2023-06-03T17:14:50.261Z"
   },
   {
    "duration": 32,
    "start_time": "2023-06-03T17:14:50.280Z"
   },
   {
    "duration": 28,
    "start_time": "2023-06-03T17:14:50.314Z"
   },
   {
    "duration": 28,
    "start_time": "2023-06-03T17:14:50.345Z"
   },
   {
    "duration": 11,
    "start_time": "2023-06-03T17:14:50.374Z"
   },
   {
    "duration": 92,
    "start_time": "2023-06-03T17:14:50.387Z"
   },
   {
    "duration": 213,
    "start_time": "2023-06-03T17:14:50.481Z"
   },
   {
    "duration": 24,
    "start_time": "2023-06-03T17:14:50.696Z"
   },
   {
    "duration": 25,
    "start_time": "2023-06-03T17:14:50.721Z"
   },
   {
    "duration": 58,
    "start_time": "2023-06-03T17:14:50.748Z"
   },
   {
    "duration": 34,
    "start_time": "2023-06-03T17:14:50.807Z"
   },
   {
    "duration": 49,
    "start_time": "2023-06-03T17:14:50.842Z"
   },
   {
    "duration": 6,
    "start_time": "2023-06-03T17:14:50.893Z"
   },
   {
    "duration": 22,
    "start_time": "2023-06-03T17:14:50.901Z"
   },
   {
    "duration": 29,
    "start_time": "2023-06-03T17:14:50.925Z"
   },
   {
    "duration": 17,
    "start_time": "2023-06-03T17:14:50.956Z"
   },
   {
    "duration": 31,
    "start_time": "2023-06-03T17:14:50.975Z"
   },
   {
    "duration": 1266,
    "start_time": "2023-06-03T17:14:51.008Z"
   },
   {
    "duration": 9,
    "start_time": "2023-06-03T17:14:52.277Z"
   },
   {
    "duration": 17,
    "start_time": "2023-06-03T17:14:52.287Z"
   },
   {
    "duration": 53,
    "start_time": "2023-06-03T17:14:52.305Z"
   },
   {
    "duration": 10,
    "start_time": "2023-06-03T17:14:52.362Z"
   },
   {
    "duration": 23,
    "start_time": "2023-06-03T17:14:52.373Z"
   },
   {
    "duration": 8,
    "start_time": "2023-06-03T17:14:52.398Z"
   },
   {
    "duration": 86,
    "start_time": "2023-06-03T17:14:52.408Z"
   },
   {
    "duration": 1308,
    "start_time": "2023-06-03T17:14:52.496Z"
   },
   {
    "duration": 398,
    "start_time": "2023-06-03T17:14:53.805Z"
   },
   {
    "duration": 350,
    "start_time": "2023-06-03T17:14:54.205Z"
   },
   {
    "duration": 50,
    "start_time": "2023-06-03T17:14:54.557Z"
   },
   {
    "duration": 782,
    "start_time": "2023-06-03T17:14:54.609Z"
   },
   {
    "duration": 340,
    "start_time": "2023-06-03T17:14:55.394Z"
   },
   {
    "duration": 18,
    "start_time": "2023-06-03T17:14:55.735Z"
   },
   {
    "duration": 48,
    "start_time": "2023-06-03T17:14:55.754Z"
   },
   {
    "duration": 9,
    "start_time": "2023-06-03T17:14:55.804Z"
   },
   {
    "duration": 987,
    "start_time": "2023-06-03T17:14:55.815Z"
   },
   {
    "duration": 15,
    "start_time": "2023-06-03T17:14:56.803Z"
   },
   {
    "duration": 6,
    "start_time": "2023-06-03T17:14:56.820Z"
   },
   {
    "duration": 11,
    "start_time": "2023-06-03T17:14:56.828Z"
   },
   {
    "duration": 38,
    "start_time": "2023-06-03T17:14:56.841Z"
   },
   {
    "duration": 12,
    "start_time": "2023-06-03T17:14:56.881Z"
   },
   {
    "duration": 12,
    "start_time": "2023-06-03T17:14:56.894Z"
   },
   {
    "duration": 10,
    "start_time": "2023-06-03T17:14:56.907Z"
   },
   {
    "duration": 9,
    "start_time": "2023-06-03T17:14:56.919Z"
   },
   {
    "duration": 8,
    "start_time": "2023-06-03T17:14:56.929Z"
   },
   {
    "duration": 41,
    "start_time": "2023-06-03T17:14:56.939Z"
   },
   {
    "duration": 7,
    "start_time": "2023-06-03T17:14:56.982Z"
   },
   {
    "duration": 11,
    "start_time": "2023-06-03T17:14:56.990Z"
   },
   {
    "duration": 13,
    "start_time": "2023-06-03T17:14:57.002Z"
   },
   {
    "duration": 10,
    "start_time": "2023-06-03T17:14:57.017Z"
   },
   {
    "duration": 8,
    "start_time": "2023-06-03T17:14:57.029Z"
   },
   {
    "duration": 42,
    "start_time": "2023-06-03T17:14:57.039Z"
   },
   {
    "duration": 21,
    "start_time": "2023-06-03T17:14:57.083Z"
   },
   {
    "duration": 21,
    "start_time": "2023-06-03T17:14:57.105Z"
   },
   {
    "duration": 492,
    "start_time": "2023-06-03T17:14:57.127Z"
   },
   {
    "duration": 20,
    "start_time": "2023-06-03T17:14:57.621Z"
   },
   {
    "duration": 16,
    "start_time": "2023-06-03T17:14:57.642Z"
   },
   {
    "duration": 16,
    "start_time": "2023-06-03T17:14:57.678Z"
   },
   {
    "duration": 13,
    "start_time": "2023-06-03T17:14:57.696Z"
   },
   {
    "duration": 7,
    "start_time": "2023-06-03T17:14:57.711Z"
   },
   {
    "duration": 251,
    "start_time": "2023-06-03T17:14:57.719Z"
   },
   {
    "duration": 7,
    "start_time": "2023-06-03T17:14:57.971Z"
   },
   {
    "duration": 41,
    "start_time": "2023-06-03T17:14:57.979Z"
   },
   {
    "duration": 15,
    "start_time": "2023-06-03T17:14:58.022Z"
   },
   {
    "duration": 119,
    "start_time": "2023-06-03T17:14:58.038Z"
   },
   {
    "duration": 38,
    "start_time": "2023-06-03T17:14:58.159Z"
   },
   {
    "duration": 267,
    "start_time": "2023-06-03T17:14:58.199Z"
   },
   {
    "duration": 28,
    "start_time": "2023-06-03T17:14:58.468Z"
   },
   {
    "duration": 13,
    "start_time": "2023-06-03T17:14:58.498Z"
   },
   {
    "duration": 5,
    "start_time": "2023-06-03T17:14:58.512Z"
   },
   {
    "duration": 1066,
    "start_time": "2023-06-03T17:14:58.519Z"
   },
   {
    "duration": 19,
    "start_time": "2023-06-03T17:14:59.587Z"
   },
   {
    "duration": 15,
    "start_time": "2023-06-03T17:14:59.608Z"
   },
   {
    "duration": 11,
    "start_time": "2023-06-03T17:14:59.625Z"
   },
   {
    "duration": 6,
    "start_time": "2023-06-03T17:14:59.637Z"
   },
   {
    "duration": 1763,
    "start_time": "2023-06-03T17:14:59.644Z"
   },
   {
    "duration": 70,
    "start_time": "2023-06-03T17:15:01.412Z"
   },
   {
    "duration": 9,
    "start_time": "2023-06-03T17:15:01.484Z"
   },
   {
    "duration": 85,
    "start_time": "2023-06-03T17:15:01.494Z"
   },
   {
    "duration": 10,
    "start_time": "2023-06-03T17:15:01.580Z"
   },
   {
    "duration": 32,
    "start_time": "2023-06-03T17:15:01.591Z"
   },
   {
    "duration": 55,
    "start_time": "2023-06-03T17:15:01.625Z"
   },
   {
    "duration": 1036,
    "start_time": "2023-06-03T17:15:01.682Z"
   },
   {
    "duration": 18,
    "start_time": "2023-06-03T17:15:02.720Z"
   },
   {
    "duration": 9,
    "start_time": "2023-06-03T17:15:02.739Z"
   },
   {
    "duration": 143,
    "start_time": "2023-06-03T17:15:02.749Z"
   },
   {
    "duration": 50,
    "start_time": "2023-06-03T17:15:02.894Z"
   },
   {
    "duration": 10,
    "start_time": "2023-06-03T17:15:02.946Z"
   },
   {
    "duration": 7,
    "start_time": "2023-06-03T17:15:02.977Z"
   },
   {
    "duration": 18,
    "start_time": "2023-06-03T17:15:02.986Z"
   },
   {
    "duration": 97,
    "start_time": "2023-06-03T17:15:03.007Z"
   },
   {
    "duration": 542,
    "start_time": "2023-06-03T17:15:03.106Z"
   },
   {
    "duration": 202,
    "start_time": "2023-06-03T17:15:03.650Z"
   },
   {
    "duration": 227,
    "start_time": "2023-06-03T17:15:03.854Z"
   },
   {
    "duration": 2,
    "start_time": "2023-06-03T17:15:04.083Z"
   },
   {
    "duration": 71,
    "start_time": "2023-06-03T17:15:04.086Z"
   },
   {
    "duration": 614,
    "start_time": "2023-06-03T17:15:04.158Z"
   },
   {
    "duration": 52,
    "start_time": "2023-06-03T17:15:04.778Z"
   },
   {
    "duration": 54,
    "start_time": "2023-06-03T17:15:04.831Z"
   },
   {
    "duration": 39,
    "start_time": "2023-06-03T17:15:04.887Z"
   },
   {
    "duration": 298,
    "start_time": "2023-06-03T18:22:44.588Z"
   },
   {
    "duration": 1207,
    "start_time": "2023-06-03T18:47:39.767Z"
   },
   {
    "duration": 325,
    "start_time": "2023-06-03T18:47:40.978Z"
   },
   {
    "duration": 16,
    "start_time": "2023-06-03T18:47:41.305Z"
   },
   {
    "duration": 40,
    "start_time": "2023-06-03T18:47:41.324Z"
   },
   {
    "duration": 10,
    "start_time": "2023-06-03T18:47:41.366Z"
   },
   {
    "duration": 31,
    "start_time": "2023-06-03T18:47:41.377Z"
   },
   {
    "duration": 11,
    "start_time": "2023-06-03T18:47:41.410Z"
   },
   {
    "duration": 30,
    "start_time": "2023-06-03T18:47:41.423Z"
   },
   {
    "duration": 16,
    "start_time": "2023-06-03T18:47:41.455Z"
   },
   {
    "duration": 27,
    "start_time": "2023-06-03T18:47:41.479Z"
   },
   {
    "duration": 12,
    "start_time": "2023-06-03T18:47:41.508Z"
   },
   {
    "duration": 157,
    "start_time": "2023-06-03T18:47:41.522Z"
   },
   {
    "duration": 214,
    "start_time": "2023-06-03T18:47:41.681Z"
   },
   {
    "duration": 25,
    "start_time": "2023-06-03T18:47:41.897Z"
   },
   {
    "duration": 36,
    "start_time": "2023-06-03T18:47:41.924Z"
   },
   {
    "duration": 68,
    "start_time": "2023-06-03T18:47:41.963Z"
   },
   {
    "duration": 46,
    "start_time": "2023-06-03T18:47:42.033Z"
   },
   {
    "duration": 51,
    "start_time": "2023-06-03T18:47:42.081Z"
   },
   {
    "duration": 8,
    "start_time": "2023-06-03T18:47:42.133Z"
   },
   {
    "duration": 40,
    "start_time": "2023-06-03T18:47:42.142Z"
   },
   {
    "duration": 18,
    "start_time": "2023-06-03T18:47:42.184Z"
   },
   {
    "duration": 16,
    "start_time": "2023-06-03T18:47:42.205Z"
   },
   {
    "duration": 39,
    "start_time": "2023-06-03T18:47:42.223Z"
   },
   {
    "duration": 1331,
    "start_time": "2023-06-03T18:47:42.264Z"
   },
   {
    "duration": 9,
    "start_time": "2023-06-03T18:47:43.597Z"
   },
   {
    "duration": 14,
    "start_time": "2023-06-03T18:47:43.608Z"
   },
   {
    "duration": 74,
    "start_time": "2023-06-03T18:47:43.624Z"
   },
   {
    "duration": 14,
    "start_time": "2023-06-03T18:47:43.704Z"
   },
   {
    "duration": 34,
    "start_time": "2023-06-03T18:47:43.720Z"
   },
   {
    "duration": 18,
    "start_time": "2023-06-03T18:47:43.757Z"
   },
   {
    "duration": 113,
    "start_time": "2023-06-03T18:47:43.777Z"
   },
   {
    "duration": 1327,
    "start_time": "2023-06-03T18:47:43.892Z"
   },
   {
    "duration": 365,
    "start_time": "2023-06-03T18:47:45.221Z"
   },
   {
    "duration": 457,
    "start_time": "2023-06-03T18:47:45.588Z"
   },
   {
    "duration": 45,
    "start_time": "2023-06-03T18:47:46.048Z"
   },
   {
    "duration": 1019,
    "start_time": "2023-06-03T18:47:46.094Z"
   },
   {
    "duration": 339,
    "start_time": "2023-06-03T18:47:47.115Z"
   },
   {
    "duration": 31,
    "start_time": "2023-06-03T18:47:47.457Z"
   },
   {
    "duration": 364,
    "start_time": "2023-06-03T18:47:47.490Z"
   },
   {
    "duration": 9,
    "start_time": "2023-06-03T18:47:47.856Z"
   },
   {
    "duration": 1053,
    "start_time": "2023-06-03T18:47:47.867Z"
   },
   {
    "duration": 20,
    "start_time": "2023-06-03T18:47:48.922Z"
   },
   {
    "duration": 40,
    "start_time": "2023-06-03T18:47:48.945Z"
   },
   {
    "duration": 32,
    "start_time": "2023-06-03T18:47:48.989Z"
   },
   {
    "duration": 18,
    "start_time": "2023-06-03T18:47:49.024Z"
   },
   {
    "duration": 19,
    "start_time": "2023-06-03T18:47:49.045Z"
   },
   {
    "duration": 19,
    "start_time": "2023-06-03T18:47:49.078Z"
   },
   {
    "duration": 16,
    "start_time": "2023-06-03T18:47:49.099Z"
   },
   {
    "duration": 16,
    "start_time": "2023-06-03T18:47:49.117Z"
   },
   {
    "duration": 11,
    "start_time": "2023-06-03T18:47:49.135Z"
   },
   {
    "duration": 13,
    "start_time": "2023-06-03T18:47:49.180Z"
   },
   {
    "duration": 9,
    "start_time": "2023-06-03T18:47:49.197Z"
   },
   {
    "duration": 9,
    "start_time": "2023-06-03T18:47:49.208Z"
   },
   {
    "duration": 12,
    "start_time": "2023-06-03T18:47:49.220Z"
   },
   {
    "duration": 51,
    "start_time": "2023-06-03T18:47:49.234Z"
   },
   {
    "duration": 10,
    "start_time": "2023-06-03T18:47:49.288Z"
   },
   {
    "duration": 12,
    "start_time": "2023-06-03T18:47:49.300Z"
   },
   {
    "duration": 33,
    "start_time": "2023-06-03T18:47:49.315Z"
   },
   {
    "duration": 23,
    "start_time": "2023-06-03T18:47:49.379Z"
   },
   {
    "duration": 570,
    "start_time": "2023-06-03T18:47:49.404Z"
   },
   {
    "duration": 38,
    "start_time": "2023-06-03T18:47:49.979Z"
   },
   {
    "duration": 27,
    "start_time": "2023-06-03T18:47:50.020Z"
   },
   {
    "duration": 43,
    "start_time": "2023-06-03T18:47:50.049Z"
   },
   {
    "duration": 19,
    "start_time": "2023-06-03T18:47:50.096Z"
   },
   {
    "duration": 11,
    "start_time": "2023-06-03T18:47:50.117Z"
   },
   {
    "duration": 280,
    "start_time": "2023-06-03T18:47:50.130Z"
   },
   {
    "duration": 3,
    "start_time": "2023-06-03T18:47:50.412Z"
   },
   {
    "duration": 42,
    "start_time": "2023-06-03T18:47:50.416Z"
   },
   {
    "duration": 39,
    "start_time": "2023-06-03T18:47:50.460Z"
   },
   {
    "duration": 132,
    "start_time": "2023-06-03T18:47:50.501Z"
   },
   {
    "duration": 48,
    "start_time": "2023-06-03T18:47:50.635Z"
   },
   {
    "duration": 624,
    "start_time": "2023-06-03T18:47:50.685Z"
   },
   {
    "duration": 20,
    "start_time": "2023-06-03T18:47:51.312Z"
   },
   {
    "duration": 13,
    "start_time": "2023-06-03T18:47:51.334Z"
   },
   {
    "duration": 29,
    "start_time": "2023-06-03T18:47:51.349Z"
   },
   {
    "duration": 1139,
    "start_time": "2023-06-03T18:47:51.380Z"
   },
   {
    "duration": 18,
    "start_time": "2023-06-03T18:47:52.521Z"
   },
   {
    "duration": 38,
    "start_time": "2023-06-03T18:47:52.540Z"
   },
   {
    "duration": 12,
    "start_time": "2023-06-03T18:47:52.580Z"
   },
   {
    "duration": 5,
    "start_time": "2023-06-03T18:47:52.593Z"
   },
   {
    "duration": 1096,
    "start_time": "2023-06-03T18:47:52.600Z"
   },
   {
    "duration": 18,
    "start_time": "2023-06-03T18:47:53.703Z"
   },
   {
    "duration": 9,
    "start_time": "2023-06-03T18:47:53.722Z"
   },
   {
    "duration": 26,
    "start_time": "2023-06-03T18:47:53.733Z"
   },
   {
    "duration": 16,
    "start_time": "2023-06-03T18:47:53.777Z"
   },
   {
    "duration": 25,
    "start_time": "2023-06-03T18:47:53.795Z"
   },
   {
    "duration": 5,
    "start_time": "2023-06-03T18:47:53.821Z"
   },
   {
    "duration": 1017,
    "start_time": "2023-06-03T18:47:53.827Z"
   },
   {
    "duration": 18,
    "start_time": "2023-06-03T18:47:54.845Z"
   },
   {
    "duration": 20,
    "start_time": "2023-06-03T18:47:54.865Z"
   },
   {
    "duration": 160,
    "start_time": "2023-06-03T18:47:54.887Z"
   },
   {
    "duration": 83,
    "start_time": "2023-06-03T18:47:55.049Z"
   },
   {
    "duration": 11,
    "start_time": "2023-06-03T18:47:55.135Z"
   },
   {
    "duration": 5,
    "start_time": "2023-06-03T18:47:55.148Z"
   },
   {
    "duration": 35,
    "start_time": "2023-06-03T18:47:55.154Z"
   },
   {
    "duration": 75,
    "start_time": "2023-06-03T18:47:55.190Z"
   },
   {
    "duration": 639,
    "start_time": "2023-06-03T18:47:55.279Z"
   },
   {
    "duration": 231,
    "start_time": "2023-06-03T18:47:55.920Z"
   },
   {
    "duration": 248,
    "start_time": "2023-06-03T18:47:56.152Z"
   },
   {
    "duration": 3,
    "start_time": "2023-06-03T18:47:56.402Z"
   },
   {
    "duration": 99,
    "start_time": "2023-06-03T18:47:56.407Z"
   },
   {
    "duration": 651,
    "start_time": "2023-06-03T18:47:56.508Z"
   },
   {
    "duration": 76,
    "start_time": "2023-06-03T18:47:57.161Z"
   },
   {
    "duration": 55,
    "start_time": "2023-06-03T18:47:57.239Z"
   },
   {
    "duration": 47,
    "start_time": "2023-06-03T18:47:57.297Z"
   },
   {
    "duration": 8,
    "start_time": "2023-06-03T18:48:54.255Z"
   },
   {
    "duration": 3,
    "start_time": "2023-06-03T18:50:16.180Z"
   },
   {
    "duration": 9,
    "start_time": "2023-06-03T18:50:22.685Z"
   },
   {
    "duration": 120,
    "start_time": "2023-06-03T18:51:04.330Z"
   },
   {
    "duration": 9,
    "start_time": "2023-06-03T18:52:29.081Z"
   },
   {
    "duration": 8,
    "start_time": "2023-06-03T18:52:32.384Z"
   },
   {
    "duration": 121,
    "start_time": "2023-06-03T18:52:34.701Z"
   },
   {
    "duration": 131,
    "start_time": "2023-06-03T18:53:03.441Z"
   },
   {
    "duration": 8,
    "start_time": "2023-06-03T18:54:21.320Z"
   },
   {
    "duration": 117,
    "start_time": "2023-06-03T18:54:25.604Z"
   },
   {
    "duration": 38,
    "start_time": "2023-06-03T20:34:01.567Z"
   },
   {
    "duration": 1303,
    "start_time": "2023-06-04T07:35:03.483Z"
   },
   {
    "duration": 419,
    "start_time": "2023-06-04T07:35:04.788Z"
   },
   {
    "duration": 14,
    "start_time": "2023-06-04T07:35:05.208Z"
   },
   {
    "duration": 41,
    "start_time": "2023-06-04T07:35:05.224Z"
   },
   {
    "duration": 10,
    "start_time": "2023-06-04T07:35:05.266Z"
   },
   {
    "duration": 22,
    "start_time": "2023-06-04T07:35:05.278Z"
   },
   {
    "duration": 11,
    "start_time": "2023-06-04T07:35:05.302Z"
   },
   {
    "duration": 34,
    "start_time": "2023-06-04T07:35:05.314Z"
   },
   {
    "duration": 18,
    "start_time": "2023-06-04T07:35:05.350Z"
   },
   {
    "duration": 22,
    "start_time": "2023-06-04T07:35:05.371Z"
   },
   {
    "duration": 4,
    "start_time": "2023-06-04T07:35:05.397Z"
   },
   {
    "duration": 94,
    "start_time": "2023-06-04T07:35:05.402Z"
   },
   {
    "duration": 204,
    "start_time": "2023-06-04T07:35:05.498Z"
   },
   {
    "duration": 24,
    "start_time": "2023-06-04T07:35:05.704Z"
   },
   {
    "duration": 21,
    "start_time": "2023-06-04T07:35:05.730Z"
   },
   {
    "duration": 66,
    "start_time": "2023-06-04T07:35:05.753Z"
   },
   {
    "duration": 31,
    "start_time": "2023-06-04T07:35:05.821Z"
   },
   {
    "duration": 66,
    "start_time": "2023-06-04T07:35:05.855Z"
   },
   {
    "duration": 7,
    "start_time": "2023-06-04T07:35:05.923Z"
   },
   {
    "duration": 11,
    "start_time": "2023-06-04T07:35:05.932Z"
   },
   {
    "duration": 36,
    "start_time": "2023-06-04T07:35:05.945Z"
   },
   {
    "duration": 8,
    "start_time": "2023-06-04T07:35:05.982Z"
   },
   {
    "duration": 12,
    "start_time": "2023-06-04T07:35:05.991Z"
   },
   {
    "duration": 1248,
    "start_time": "2023-06-04T07:35:06.004Z"
   },
   {
    "duration": 7,
    "start_time": "2023-06-04T07:35:07.254Z"
   },
   {
    "duration": 4,
    "start_time": "2023-06-04T07:35:07.263Z"
   },
   {
    "duration": 46,
    "start_time": "2023-06-04T07:35:07.278Z"
   },
   {
    "duration": 13,
    "start_time": "2023-06-04T07:35:07.330Z"
   },
   {
    "duration": 36,
    "start_time": "2023-06-04T07:35:07.345Z"
   },
   {
    "duration": 11,
    "start_time": "2023-06-04T07:35:07.383Z"
   },
   {
    "duration": 102,
    "start_time": "2023-06-04T07:35:07.396Z"
   },
   {
    "duration": 1391,
    "start_time": "2023-06-04T07:35:07.500Z"
   },
   {
    "duration": 417,
    "start_time": "2023-06-04T07:35:08.893Z"
   },
   {
    "duration": 341,
    "start_time": "2023-06-04T07:35:09.312Z"
   },
   {
    "duration": 41,
    "start_time": "2023-06-04T07:35:09.655Z"
   },
   {
    "duration": 733,
    "start_time": "2023-06-04T07:35:09.698Z"
   },
   {
    "duration": 325,
    "start_time": "2023-06-04T07:35:10.433Z"
   },
   {
    "duration": 22,
    "start_time": "2023-06-04T07:35:10.760Z"
   },
   {
    "duration": 35,
    "start_time": "2023-06-04T07:35:10.784Z"
   },
   {
    "duration": 13,
    "start_time": "2023-06-04T07:35:10.821Z"
   },
   {
    "duration": 1011,
    "start_time": "2023-06-04T07:35:10.836Z"
   },
   {
    "duration": 14,
    "start_time": "2023-06-04T07:35:11.849Z"
   },
   {
    "duration": 18,
    "start_time": "2023-06-04T07:35:11.864Z"
   },
   {
    "duration": 26,
    "start_time": "2023-06-04T07:35:11.883Z"
   },
   {
    "duration": 12,
    "start_time": "2023-06-04T07:35:11.910Z"
   },
   {
    "duration": 14,
    "start_time": "2023-06-04T07:35:11.923Z"
   },
   {
    "duration": 12,
    "start_time": "2023-06-04T07:35:11.938Z"
   },
   {
    "duration": 28,
    "start_time": "2023-06-04T07:35:11.951Z"
   },
   {
    "duration": 10,
    "start_time": "2023-06-04T07:35:11.981Z"
   },
   {
    "duration": 7,
    "start_time": "2023-06-04T07:35:11.993Z"
   },
   {
    "duration": 9,
    "start_time": "2023-06-04T07:35:12.002Z"
   },
   {
    "duration": 7,
    "start_time": "2023-06-04T07:35:12.013Z"
   },
   {
    "duration": 7,
    "start_time": "2023-06-04T07:35:12.022Z"
   },
   {
    "duration": 13,
    "start_time": "2023-06-04T07:35:12.030Z"
   },
   {
    "duration": 42,
    "start_time": "2023-06-04T07:35:12.044Z"
   },
   {
    "duration": 6,
    "start_time": "2023-06-04T07:35:12.088Z"
   },
   {
    "duration": 6,
    "start_time": "2023-06-04T07:35:12.096Z"
   },
   {
    "duration": 20,
    "start_time": "2023-06-04T07:35:12.103Z"
   },
   {
    "duration": 16,
    "start_time": "2023-06-04T07:35:12.124Z"
   },
   {
    "duration": 426,
    "start_time": "2023-06-04T07:35:12.141Z"
   },
   {
    "duration": 25,
    "start_time": "2023-06-04T07:35:12.570Z"
   },
   {
    "duration": 17,
    "start_time": "2023-06-04T07:35:12.596Z"
   },
   {
    "duration": 15,
    "start_time": "2023-06-04T07:35:12.615Z"
   },
   {
    "duration": 13,
    "start_time": "2023-06-04T07:35:12.632Z"
   },
   {
    "duration": 8,
    "start_time": "2023-06-04T07:35:12.677Z"
   },
   {
    "duration": 258,
    "start_time": "2023-06-04T07:35:12.686Z"
   },
   {
    "duration": 3,
    "start_time": "2023-06-04T07:35:12.946Z"
   },
   {
    "duration": 49,
    "start_time": "2023-06-04T07:35:12.950Z"
   },
   {
    "duration": 18,
    "start_time": "2023-06-04T07:35:13.002Z"
   },
   {
    "duration": 122,
    "start_time": "2023-06-04T07:35:13.022Z"
   },
   {
    "duration": 40,
    "start_time": "2023-06-04T07:35:13.145Z"
   },
   {
    "duration": 282,
    "start_time": "2023-06-04T07:35:13.187Z"
   },
   {
    "duration": 23,
    "start_time": "2023-06-04T07:35:13.471Z"
   },
   {
    "duration": 47,
    "start_time": "2023-06-04T07:35:13.496Z"
   },
   {
    "duration": 5,
    "start_time": "2023-06-04T07:35:13.544Z"
   },
   {
    "duration": 1015,
    "start_time": "2023-06-04T07:35:13.551Z"
   },
   {
    "duration": 23,
    "start_time": "2023-06-04T07:35:14.568Z"
   },
   {
    "duration": 16,
    "start_time": "2023-06-04T07:35:14.593Z"
   },
   {
    "duration": 8,
    "start_time": "2023-06-04T07:35:14.611Z"
   },
   {
    "duration": 6,
    "start_time": "2023-06-04T07:35:14.620Z"
   },
   {
    "duration": 1094,
    "start_time": "2023-06-04T07:35:14.627Z"
   },
   {
    "duration": 17,
    "start_time": "2023-06-04T07:35:15.727Z"
   },
   {
    "duration": 9,
    "start_time": "2023-06-04T07:35:15.746Z"
   },
   {
    "duration": 43,
    "start_time": "2023-06-04T07:35:15.756Z"
   },
   {
    "duration": 12,
    "start_time": "2023-06-04T07:35:15.801Z"
   },
   {
    "duration": 26,
    "start_time": "2023-06-04T07:35:15.815Z"
   },
   {
    "duration": 4,
    "start_time": "2023-06-04T07:35:15.843Z"
   },
   {
    "duration": 1039,
    "start_time": "2023-06-04T07:35:15.848Z"
   },
   {
    "duration": 19,
    "start_time": "2023-06-04T07:35:16.888Z"
   },
   {
    "duration": 9,
    "start_time": "2023-06-04T07:35:16.908Z"
   },
   {
    "duration": 150,
    "start_time": "2023-06-04T07:35:16.919Z"
   },
   {
    "duration": 51,
    "start_time": "2023-06-04T07:35:17.078Z"
   },
   {
    "duration": 9,
    "start_time": "2023-06-04T07:35:17.131Z"
   },
   {
    "duration": 12,
    "start_time": "2023-06-04T07:35:17.141Z"
   },
   {
    "duration": 27,
    "start_time": "2023-06-04T07:35:17.155Z"
   },
   {
    "duration": 73,
    "start_time": "2023-06-04T07:35:17.183Z"
   },
   {
    "duration": 643,
    "start_time": "2023-06-04T07:35:17.258Z"
   },
   {
    "duration": 206,
    "start_time": "2023-06-04T07:35:17.903Z"
   },
   {
    "duration": 220,
    "start_time": "2023-06-04T07:35:18.111Z"
   },
   {
    "duration": 2,
    "start_time": "2023-06-04T07:35:18.333Z"
   },
   {
    "duration": 86,
    "start_time": "2023-06-04T07:35:18.337Z"
   },
   {
    "duration": 631,
    "start_time": "2023-06-04T07:35:18.425Z"
   },
   {
    "duration": 68,
    "start_time": "2023-06-04T07:35:19.057Z"
   },
   {
    "duration": 36,
    "start_time": "2023-06-04T07:35:19.127Z"
   },
   {
    "duration": 41,
    "start_time": "2023-06-04T07:35:19.179Z"
   },
   {
    "duration": 1537,
    "start_time": "2023-06-05T12:49:12.646Z"
   },
   {
    "duration": 489,
    "start_time": "2023-06-05T12:49:14.186Z"
   },
   {
    "duration": 15,
    "start_time": "2023-06-05T12:49:14.677Z"
   },
   {
    "duration": 99,
    "start_time": "2023-06-05T12:49:14.694Z"
   },
   {
    "duration": 13,
    "start_time": "2023-06-05T12:49:14.795Z"
   },
   {
    "duration": 26,
    "start_time": "2023-06-05T12:49:14.811Z"
   },
   {
    "duration": 11,
    "start_time": "2023-06-05T12:49:14.839Z"
   },
   {
    "duration": 22,
    "start_time": "2023-06-05T12:49:14.852Z"
   },
   {
    "duration": 12,
    "start_time": "2023-06-05T12:49:14.876Z"
   },
   {
    "duration": 29,
    "start_time": "2023-06-05T12:49:14.891Z"
   },
   {
    "duration": 5,
    "start_time": "2023-06-05T12:49:14.941Z"
   },
   {
    "duration": 117,
    "start_time": "2023-06-05T12:49:14.948Z"
   },
   {
    "duration": 247,
    "start_time": "2023-06-05T12:49:15.067Z"
   },
   {
    "duration": 41,
    "start_time": "2023-06-05T12:49:15.316Z"
   },
   {
    "duration": 29,
    "start_time": "2023-06-05T12:49:15.359Z"
   },
   {
    "duration": 108,
    "start_time": "2023-06-05T12:49:15.390Z"
   },
   {
    "duration": 53,
    "start_time": "2023-06-05T12:49:15.500Z"
   },
   {
    "duration": 67,
    "start_time": "2023-06-05T12:49:15.556Z"
   },
   {
    "duration": 8,
    "start_time": "2023-06-05T12:49:15.643Z"
   },
   {
    "duration": 54,
    "start_time": "2023-06-05T12:49:15.653Z"
   },
   {
    "duration": 70,
    "start_time": "2023-06-05T12:49:15.710Z"
   },
   {
    "duration": 50,
    "start_time": "2023-06-05T12:49:15.783Z"
   },
   {
    "duration": 36,
    "start_time": "2023-06-05T12:49:15.835Z"
   },
   {
    "duration": 1479,
    "start_time": "2023-06-05T12:49:15.873Z"
   },
   {
    "duration": 9,
    "start_time": "2023-06-05T12:49:17.354Z"
   },
   {
    "duration": 32,
    "start_time": "2023-06-05T12:49:17.364Z"
   },
   {
    "duration": 72,
    "start_time": "2023-06-05T12:49:17.397Z"
   },
   {
    "duration": 14,
    "start_time": "2023-06-05T12:49:17.473Z"
   },
   {
    "duration": 84,
    "start_time": "2023-06-05T12:49:17.489Z"
   },
   {
    "duration": 67,
    "start_time": "2023-06-05T12:49:17.575Z"
   },
   {
    "duration": 141,
    "start_time": "2023-06-05T12:49:17.645Z"
   },
   {
    "duration": 1608,
    "start_time": "2023-06-05T12:49:17.789Z"
   },
   {
    "duration": 401,
    "start_time": "2023-06-05T12:49:19.399Z"
   },
   {
    "duration": 408,
    "start_time": "2023-06-05T12:49:19.802Z"
   },
   {
    "duration": 54,
    "start_time": "2023-06-05T12:49:20.211Z"
   },
   {
    "duration": 861,
    "start_time": "2023-06-05T12:49:20.266Z"
   },
   {
    "duration": 366,
    "start_time": "2023-06-05T12:49:21.129Z"
   },
   {
    "duration": 22,
    "start_time": "2023-06-05T12:49:21.497Z"
   },
   {
    "duration": 100,
    "start_time": "2023-06-05T12:49:21.521Z"
   },
   {
    "duration": 15,
    "start_time": "2023-06-05T12:49:21.624Z"
   },
   {
    "duration": 1137,
    "start_time": "2023-06-05T12:49:21.642Z"
   },
   {
    "duration": 19,
    "start_time": "2023-06-05T12:49:22.781Z"
   },
   {
    "duration": 29,
    "start_time": "2023-06-05T12:49:22.802Z"
   },
   {
    "duration": 39,
    "start_time": "2023-06-05T12:49:22.834Z"
   },
   {
    "duration": 41,
    "start_time": "2023-06-05T12:49:22.875Z"
   },
   {
    "duration": 54,
    "start_time": "2023-06-05T12:49:22.918Z"
   },
   {
    "duration": 43,
    "start_time": "2023-06-05T12:49:22.974Z"
   },
   {
    "duration": 75,
    "start_time": "2023-06-05T12:49:23.020Z"
   },
   {
    "duration": 44,
    "start_time": "2023-06-05T12:49:23.098Z"
   },
   {
    "duration": 23,
    "start_time": "2023-06-05T12:49:23.145Z"
   },
   {
    "duration": 12,
    "start_time": "2023-06-05T12:49:23.170Z"
   },
   {
    "duration": 33,
    "start_time": "2023-06-05T12:49:23.184Z"
   },
   {
    "duration": 15,
    "start_time": "2023-06-05T12:49:23.219Z"
   },
   {
    "duration": 21,
    "start_time": "2023-06-05T12:49:23.236Z"
   },
   {
    "duration": 18,
    "start_time": "2023-06-05T12:49:23.259Z"
   },
   {
    "duration": 20,
    "start_time": "2023-06-05T12:49:23.279Z"
   },
   {
    "duration": 38,
    "start_time": "2023-06-05T12:49:23.301Z"
   },
   {
    "duration": 29,
    "start_time": "2023-06-05T12:49:23.341Z"
   },
   {
    "duration": 24,
    "start_time": "2023-06-05T12:49:23.372Z"
   },
   {
    "duration": 509,
    "start_time": "2023-06-05T12:49:23.398Z"
   },
   {
    "duration": 36,
    "start_time": "2023-06-05T12:49:23.909Z"
   },
   {
    "duration": 20,
    "start_time": "2023-06-05T12:49:23.947Z"
   },
   {
    "duration": 32,
    "start_time": "2023-06-05T12:49:23.969Z"
   },
   {
    "duration": 17,
    "start_time": "2023-06-05T12:49:24.003Z"
   },
   {
    "duration": 34,
    "start_time": "2023-06-05T12:49:24.022Z"
   },
   {
    "duration": 314,
    "start_time": "2023-06-05T12:49:24.058Z"
   },
   {
    "duration": 4,
    "start_time": "2023-06-05T12:49:24.374Z"
   },
   {
    "duration": 62,
    "start_time": "2023-06-05T12:49:24.381Z"
   },
   {
    "duration": 19,
    "start_time": "2023-06-05T12:49:24.445Z"
   },
   {
    "duration": 159,
    "start_time": "2023-06-05T12:49:24.466Z"
   },
   {
    "duration": 49,
    "start_time": "2023-06-05T12:49:24.627Z"
   },
   {
    "duration": 389,
    "start_time": "2023-06-05T12:49:24.678Z"
   },
   {
    "duration": 37,
    "start_time": "2023-06-05T12:49:25.070Z"
   },
   {
    "duration": 55,
    "start_time": "2023-06-05T12:49:25.109Z"
   },
   {
    "duration": 38,
    "start_time": "2023-06-05T12:49:25.166Z"
   },
   {
    "duration": 1261,
    "start_time": "2023-06-05T12:49:25.206Z"
   },
   {
    "duration": 20,
    "start_time": "2023-06-05T12:49:26.469Z"
   },
   {
    "duration": 19,
    "start_time": "2023-06-05T12:49:26.491Z"
   },
   {
    "duration": 31,
    "start_time": "2023-06-05T12:49:26.512Z"
   },
   {
    "duration": 26,
    "start_time": "2023-06-05T12:49:26.545Z"
   },
   {
    "duration": 1205,
    "start_time": "2023-06-05T12:49:26.573Z"
   },
   {
    "duration": 21,
    "start_time": "2023-06-05T12:49:27.783Z"
   },
   {
    "duration": 52,
    "start_time": "2023-06-05T12:49:27.806Z"
   },
   {
    "duration": 50,
    "start_time": "2023-06-05T12:49:27.860Z"
   },
   {
    "duration": 29,
    "start_time": "2023-06-05T12:49:27.912Z"
   },
   {
    "duration": 49,
    "start_time": "2023-06-05T12:49:27.943Z"
   },
   {
    "duration": 5,
    "start_time": "2023-06-05T12:49:27.994Z"
   },
   {
    "duration": 1212,
    "start_time": "2023-06-05T12:49:28.001Z"
   },
   {
    "duration": 34,
    "start_time": "2023-06-05T12:49:29.215Z"
   },
   {
    "duration": 86,
    "start_time": "2023-06-05T12:49:29.252Z"
   },
   {
    "duration": 203,
    "start_time": "2023-06-05T12:49:29.341Z"
   },
   {
    "duration": 60,
    "start_time": "2023-06-05T12:49:29.546Z"
   },
   {
    "duration": 13,
    "start_time": "2023-06-05T12:49:29.608Z"
   },
   {
    "duration": 40,
    "start_time": "2023-06-05T12:49:29.644Z"
   },
   {
    "duration": 92,
    "start_time": "2023-06-05T12:49:29.686Z"
   },
   {
    "duration": 142,
    "start_time": "2023-06-05T12:49:29.780Z"
   },
   {
    "duration": 680,
    "start_time": "2023-06-05T12:49:29.925Z"
   },
   {
    "duration": 256,
    "start_time": "2023-06-05T12:49:30.607Z"
   },
   {
    "duration": 281,
    "start_time": "2023-06-05T12:49:30.865Z"
   },
   {
    "duration": 4,
    "start_time": "2023-06-05T12:49:31.148Z"
   },
   {
    "duration": 173,
    "start_time": "2023-06-05T12:49:31.154Z"
   },
   {
    "duration": 778,
    "start_time": "2023-06-05T12:49:31.329Z"
   },
   {
    "duration": 66,
    "start_time": "2023-06-05T12:49:32.109Z"
   },
   {
    "duration": 80,
    "start_time": "2023-06-05T12:49:32.177Z"
   },
   {
    "duration": 161,
    "start_time": "2023-06-05T12:49:32.260Z"
   },
   {
    "duration": 192,
    "start_time": "2023-06-05T12:49:32.425Z"
   },
   {
    "duration": 20,
    "start_time": "2023-06-05T12:49:38.948Z"
   },
   {
    "duration": 20,
    "start_time": "2023-06-05T12:49:50.859Z"
   },
   {
    "duration": 15,
    "start_time": "2023-06-05T12:49:55.491Z"
   },
   {
    "duration": 27,
    "start_time": "2023-06-05T12:49:59.931Z"
   },
   {
    "duration": 15,
    "start_time": "2023-06-05T12:50:14.412Z"
   },
   {
    "duration": 9,
    "start_time": "2023-06-05T12:50:19.809Z"
   },
   {
    "duration": 89,
    "start_time": "2023-06-05T12:50:28.502Z"
   },
   {
    "duration": 13,
    "start_time": "2023-06-05T12:50:34.701Z"
   },
   {
    "duration": 1176,
    "start_time": "2023-06-05T15:47:40.340Z"
   },
   {
    "duration": 217,
    "start_time": "2023-06-05T15:47:41.518Z"
   },
   {
    "duration": 14,
    "start_time": "2023-06-05T15:47:41.736Z"
   },
   {
    "duration": 51,
    "start_time": "2023-06-05T15:47:41.751Z"
   },
   {
    "duration": 9,
    "start_time": "2023-06-05T15:47:41.804Z"
   },
   {
    "duration": 21,
    "start_time": "2023-06-05T15:47:41.814Z"
   },
   {
    "duration": 28,
    "start_time": "2023-06-05T15:47:41.837Z"
   },
   {
    "duration": 28,
    "start_time": "2023-06-05T15:47:41.867Z"
   },
   {
    "duration": 12,
    "start_time": "2023-06-05T15:47:41.897Z"
   },
   {
    "duration": 26,
    "start_time": "2023-06-05T15:47:41.910Z"
   },
   {
    "duration": 3,
    "start_time": "2023-06-05T15:47:41.938Z"
   },
   {
    "duration": 95,
    "start_time": "2023-06-05T15:47:41.943Z"
   },
   {
    "duration": 211,
    "start_time": "2023-06-05T15:47:42.040Z"
   },
   {
    "duration": 33,
    "start_time": "2023-06-05T15:47:42.254Z"
   },
   {
    "duration": 20,
    "start_time": "2023-06-05T15:47:42.290Z"
   },
   {
    "duration": 39,
    "start_time": "2023-06-05T15:47:42.311Z"
   },
   {
    "duration": 51,
    "start_time": "2023-06-05T15:47:42.352Z"
   },
   {
    "duration": 47,
    "start_time": "2023-06-05T15:47:42.405Z"
   },
   {
    "duration": 26,
    "start_time": "2023-06-05T15:47:42.453Z"
   },
   {
    "duration": 14,
    "start_time": "2023-06-05T15:47:42.480Z"
   },
   {
    "duration": 25,
    "start_time": "2023-06-05T15:47:42.495Z"
   },
   {
    "duration": 8,
    "start_time": "2023-06-05T15:47:42.521Z"
   },
   {
    "duration": 27,
    "start_time": "2023-06-05T15:47:42.530Z"
   },
   {
    "duration": 1365,
    "start_time": "2023-06-05T15:47:42.559Z"
   },
   {
    "duration": 7,
    "start_time": "2023-06-05T15:47:43.926Z"
   },
   {
    "duration": 4,
    "start_time": "2023-06-05T15:47:43.934Z"
   },
   {
    "duration": 70,
    "start_time": "2023-06-05T15:47:43.940Z"
   },
   {
    "duration": 14,
    "start_time": "2023-06-05T15:47:44.013Z"
   },
   {
    "duration": 37,
    "start_time": "2023-06-05T15:47:44.028Z"
   },
   {
    "duration": 12,
    "start_time": "2023-06-05T15:47:44.067Z"
   },
   {
    "duration": 111,
    "start_time": "2023-06-05T15:47:44.082Z"
   },
   {
    "duration": 1416,
    "start_time": "2023-06-05T15:47:44.195Z"
   },
   {
    "duration": 396,
    "start_time": "2023-06-05T15:47:45.612Z"
   },
   {
    "duration": 407,
    "start_time": "2023-06-05T15:47:46.010Z"
   },
   {
    "duration": 35,
    "start_time": "2023-06-05T15:47:46.419Z"
   },
   {
    "duration": 774,
    "start_time": "2023-06-05T15:47:46.456Z"
   },
   {
    "duration": 334,
    "start_time": "2023-06-05T15:47:47.232Z"
   },
   {
    "duration": 31,
    "start_time": "2023-06-05T15:47:47.568Z"
   },
   {
    "duration": 36,
    "start_time": "2023-06-05T15:47:47.600Z"
   },
   {
    "duration": 8,
    "start_time": "2023-06-05T15:47:47.638Z"
   },
   {
    "duration": 1181,
    "start_time": "2023-06-05T15:47:47.651Z"
   },
   {
    "duration": 15,
    "start_time": "2023-06-05T15:47:48.834Z"
   },
   {
    "duration": 9,
    "start_time": "2023-06-05T15:47:48.850Z"
   },
   {
    "duration": 19,
    "start_time": "2023-06-05T15:47:48.860Z"
   },
   {
    "duration": 41,
    "start_time": "2023-06-05T15:47:48.881Z"
   },
   {
    "duration": 13,
    "start_time": "2023-06-05T15:47:48.924Z"
   },
   {
    "duration": 13,
    "start_time": "2023-06-05T15:47:48.938Z"
   },
   {
    "duration": 10,
    "start_time": "2023-06-05T15:47:48.953Z"
   },
   {
    "duration": 17,
    "start_time": "2023-06-05T15:47:48.965Z"
   },
   {
    "duration": 9,
    "start_time": "2023-06-05T15:47:48.990Z"
   },
   {
    "duration": 9,
    "start_time": "2023-06-05T15:47:49.000Z"
   },
   {
    "duration": 7,
    "start_time": "2023-06-05T15:47:49.011Z"
   },
   {
    "duration": 7,
    "start_time": "2023-06-05T15:47:49.019Z"
   },
   {
    "duration": 15,
    "start_time": "2023-06-05T15:47:49.027Z"
   },
   {
    "duration": 35,
    "start_time": "2023-06-05T15:47:49.043Z"
   },
   {
    "duration": 13,
    "start_time": "2023-06-05T15:47:49.080Z"
   },
   {
    "duration": 11,
    "start_time": "2023-06-05T15:47:49.095Z"
   },
   {
    "duration": 18,
    "start_time": "2023-06-05T15:47:49.108Z"
   },
   {
    "duration": 18,
    "start_time": "2023-06-05T15:47:49.128Z"
   },
   {
    "duration": 437,
    "start_time": "2023-06-05T15:47:49.177Z"
   },
   {
    "duration": 22,
    "start_time": "2023-06-05T15:47:49.615Z"
   },
   {
    "duration": 39,
    "start_time": "2023-06-05T15:47:49.638Z"
   },
   {
    "duration": 19,
    "start_time": "2023-06-05T15:47:49.679Z"
   },
   {
    "duration": 27,
    "start_time": "2023-06-05T15:47:49.699Z"
   },
   {
    "duration": 7,
    "start_time": "2023-06-05T15:47:49.728Z"
   },
   {
    "duration": 275,
    "start_time": "2023-06-05T15:47:49.737Z"
   },
   {
    "duration": 2,
    "start_time": "2023-06-05T15:47:50.014Z"
   },
   {
    "duration": 45,
    "start_time": "2023-06-05T15:47:50.018Z"
   },
   {
    "duration": 35,
    "start_time": "2023-06-05T15:47:50.064Z"
   },
   {
    "duration": 123,
    "start_time": "2023-06-05T15:47:50.101Z"
   },
   {
    "duration": 32,
    "start_time": "2023-06-05T15:47:50.226Z"
   },
   {
    "duration": 304,
    "start_time": "2023-06-05T15:47:50.260Z"
   },
   {
    "duration": 34,
    "start_time": "2023-06-05T15:47:50.566Z"
   },
   {
    "duration": 13,
    "start_time": "2023-06-05T15:47:50.602Z"
   },
   {
    "duration": 4,
    "start_time": "2023-06-05T15:47:50.616Z"
   },
   {
    "duration": 1193,
    "start_time": "2023-06-05T15:47:50.622Z"
   },
   {
    "duration": 18,
    "start_time": "2023-06-05T15:47:51.817Z"
   },
   {
    "duration": 18,
    "start_time": "2023-06-05T15:47:51.837Z"
   },
   {
    "duration": 31,
    "start_time": "2023-06-05T15:47:51.857Z"
   },
   {
    "duration": 7,
    "start_time": "2023-06-05T15:47:51.890Z"
   },
   {
    "duration": 1142,
    "start_time": "2023-06-05T15:47:51.899Z"
   },
   {
    "duration": 19,
    "start_time": "2023-06-05T15:47:53.042Z"
   },
   {
    "duration": 25,
    "start_time": "2023-06-05T15:47:53.062Z"
   },
   {
    "duration": 22,
    "start_time": "2023-06-05T15:47:53.088Z"
   },
   {
    "duration": 14,
    "start_time": "2023-06-05T15:47:53.111Z"
   },
   {
    "duration": 30,
    "start_time": "2023-06-05T15:47:53.127Z"
   },
   {
    "duration": 4,
    "start_time": "2023-06-05T15:47:53.158Z"
   },
   {
    "duration": 1146,
    "start_time": "2023-06-05T15:47:53.164Z"
   },
   {
    "duration": 29,
    "start_time": "2023-06-05T15:47:54.312Z"
   },
   {
    "duration": 11,
    "start_time": "2023-06-05T15:47:54.343Z"
   },
   {
    "duration": 168,
    "start_time": "2023-06-05T15:47:54.375Z"
   },
   {
    "duration": 66,
    "start_time": "2023-06-05T15:47:54.545Z"
   },
   {
    "duration": 8,
    "start_time": "2023-06-05T15:47:54.612Z"
   },
   {
    "duration": 5,
    "start_time": "2023-06-05T15:47:54.622Z"
   },
   {
    "duration": 15,
    "start_time": "2023-06-05T15:47:54.628Z"
   },
   {
    "duration": 100,
    "start_time": "2023-06-05T15:47:54.645Z"
   },
   {
    "duration": 656,
    "start_time": "2023-06-05T15:47:54.746Z"
   },
   {
    "duration": 229,
    "start_time": "2023-06-05T15:47:55.404Z"
   },
   {
    "duration": 261,
    "start_time": "2023-06-05T15:47:55.634Z"
   },
   {
    "duration": 2,
    "start_time": "2023-06-05T15:47:55.897Z"
   },
   {
    "duration": 96,
    "start_time": "2023-06-05T15:47:55.901Z"
   },
   {
    "duration": 696,
    "start_time": "2023-06-05T15:47:55.999Z"
   },
   {
    "duration": 49,
    "start_time": "2023-06-05T15:47:56.696Z"
   },
   {
    "duration": 65,
    "start_time": "2023-06-05T15:47:56.747Z"
   },
   {
    "duration": 38,
    "start_time": "2023-06-05T15:47:56.813Z"
   },
   {
    "duration": 119,
    "start_time": "2023-06-05T15:47:56.852Z"
   },
   {
    "duration": 28,
    "start_time": "2023-06-05T15:48:50.158Z"
   },
   {
    "duration": 9,
    "start_time": "2023-06-05T15:49:09.260Z"
   },
   {
    "duration": 1268,
    "start_time": "2023-06-06T14:46:55.888Z"
   },
   {
    "duration": 327,
    "start_time": "2023-06-06T14:46:57.158Z"
   },
   {
    "duration": 15,
    "start_time": "2023-06-06T14:46:57.489Z"
   },
   {
    "duration": 84,
    "start_time": "2023-06-06T14:46:57.505Z"
   },
   {
    "duration": 12,
    "start_time": "2023-06-06T14:46:57.591Z"
   },
   {
    "duration": 22,
    "start_time": "2023-06-06T14:46:57.605Z"
   },
   {
    "duration": 13,
    "start_time": "2023-06-06T14:46:57.629Z"
   },
   {
    "duration": 28,
    "start_time": "2023-06-06T14:46:57.644Z"
   },
   {
    "duration": 12,
    "start_time": "2023-06-06T14:46:57.673Z"
   },
   {
    "duration": 28,
    "start_time": "2023-06-06T14:46:57.689Z"
   },
   {
    "duration": 4,
    "start_time": "2023-06-06T14:46:57.718Z"
   },
   {
    "duration": 83,
    "start_time": "2023-06-06T14:46:57.723Z"
   },
   {
    "duration": 172,
    "start_time": "2023-06-06T14:46:57.808Z"
   },
   {
    "duration": 30,
    "start_time": "2023-06-06T14:46:57.984Z"
   },
   {
    "duration": 18,
    "start_time": "2023-06-06T14:46:58.016Z"
   },
   {
    "duration": 59,
    "start_time": "2023-06-06T14:46:58.036Z"
   },
   {
    "duration": 25,
    "start_time": "2023-06-06T14:46:58.097Z"
   },
   {
    "duration": 44,
    "start_time": "2023-06-06T14:46:58.123Z"
   },
   {
    "duration": 20,
    "start_time": "2023-06-06T14:46:58.169Z"
   },
   {
    "duration": 13,
    "start_time": "2023-06-06T14:46:58.196Z"
   },
   {
    "duration": 9,
    "start_time": "2023-06-06T14:46:58.211Z"
   },
   {
    "duration": 18,
    "start_time": "2023-06-06T14:46:58.221Z"
   },
   {
    "duration": 11,
    "start_time": "2023-06-06T14:46:58.240Z"
   },
   {
    "duration": 1383,
    "start_time": "2023-06-06T14:46:58.253Z"
   },
   {
    "duration": 7,
    "start_time": "2023-06-06T14:46:59.637Z"
   },
   {
    "duration": 7,
    "start_time": "2023-06-06T14:46:59.645Z"
   },
   {
    "duration": 46,
    "start_time": "2023-06-06T14:46:59.654Z"
   },
   {
    "duration": 9,
    "start_time": "2023-06-06T14:46:59.703Z"
   },
   {
    "duration": 11,
    "start_time": "2023-06-06T14:46:59.713Z"
   },
   {
    "duration": 5,
    "start_time": "2023-06-06T14:46:59.726Z"
   },
   {
    "duration": 102,
    "start_time": "2023-06-06T14:46:59.733Z"
   },
   {
    "duration": 1108,
    "start_time": "2023-06-06T14:46:59.837Z"
   },
   {
    "duration": 341,
    "start_time": "2023-06-06T14:47:00.946Z"
   },
   {
    "duration": 328,
    "start_time": "2023-06-06T14:47:01.292Z"
   },
   {
    "duration": 32,
    "start_time": "2023-06-06T14:47:01.621Z"
   },
   {
    "duration": 759,
    "start_time": "2023-06-06T14:47:01.655Z"
   },
   {
    "duration": 302,
    "start_time": "2023-06-06T14:47:02.415Z"
   },
   {
    "duration": 16,
    "start_time": "2023-06-06T14:47:02.718Z"
   },
   {
    "duration": 34,
    "start_time": "2023-06-06T14:47:02.736Z"
   },
   {
    "duration": 32,
    "start_time": "2023-06-06T14:47:02.772Z"
   },
   {
    "duration": 1036,
    "start_time": "2023-06-06T14:47:02.805Z"
   },
   {
    "duration": 13,
    "start_time": "2023-06-06T14:47:03.842Z"
   },
   {
    "duration": 7,
    "start_time": "2023-06-06T14:47:03.856Z"
   },
   {
    "duration": 39,
    "start_time": "2023-06-06T14:47:03.864Z"
   },
   {
    "duration": 28,
    "start_time": "2023-06-06T14:47:03.904Z"
   },
   {
    "duration": 22,
    "start_time": "2023-06-06T14:47:03.933Z"
   },
   {
    "duration": 32,
    "start_time": "2023-06-06T14:47:03.956Z"
   },
   {
    "duration": 31,
    "start_time": "2023-06-06T14:47:03.990Z"
   },
   {
    "duration": 17,
    "start_time": "2023-06-06T14:47:04.023Z"
   },
   {
    "duration": 8,
    "start_time": "2023-06-06T14:47:08.600Z"
   },
   {
    "duration": 11,
    "start_time": "2023-06-06T14:47:44.123Z"
   },
   {
    "duration": 6,
    "start_time": "2023-06-06T14:53:50.096Z"
   },
   {
    "duration": 15,
    "start_time": "2023-06-06T14:53:58.145Z"
   },
   {
    "duration": 1088,
    "start_time": "2023-06-06T15:00:51.946Z"
   },
   {
    "duration": 473,
    "start_time": "2023-06-06T15:01:14.138Z"
   },
   {
    "duration": 11,
    "start_time": "2023-06-06T15:01:18.512Z"
   },
   {
    "duration": 84,
    "start_time": "2023-06-06T15:02:25.513Z"
   },
   {
    "duration": 396,
    "start_time": "2023-06-06T15:24:31.100Z"
   },
   {
    "duration": 1183,
    "start_time": "2023-06-06T15:24:46.026Z"
   },
   {
    "duration": 397,
    "start_time": "2023-06-06T15:24:47.210Z"
   },
   {
    "duration": 13,
    "start_time": "2023-06-06T15:24:47.608Z"
   },
   {
    "duration": 47,
    "start_time": "2023-06-06T15:24:47.623Z"
   },
   {
    "duration": 8,
    "start_time": "2023-06-06T15:24:47.671Z"
   },
   {
    "duration": 48,
    "start_time": "2023-06-06T15:24:47.681Z"
   },
   {
    "duration": 15,
    "start_time": "2023-06-06T15:24:47.731Z"
   },
   {
    "duration": 25,
    "start_time": "2023-06-06T15:24:47.748Z"
   },
   {
    "duration": 31,
    "start_time": "2023-06-06T15:24:47.775Z"
   },
   {
    "duration": 42,
    "start_time": "2023-06-06T15:24:47.810Z"
   },
   {
    "duration": 3,
    "start_time": "2023-06-06T15:24:47.854Z"
   },
   {
    "duration": 105,
    "start_time": "2023-06-06T15:24:47.859Z"
   },
   {
    "duration": 183,
    "start_time": "2023-06-06T15:24:47.965Z"
   },
   {
    "duration": 22,
    "start_time": "2023-06-06T15:24:48.149Z"
   },
   {
    "duration": 30,
    "start_time": "2023-06-06T15:24:48.173Z"
   },
   {
    "duration": 40,
    "start_time": "2023-06-06T15:24:48.204Z"
   },
   {
    "duration": 44,
    "start_time": "2023-06-06T15:24:48.246Z"
   },
   {
    "duration": 48,
    "start_time": "2023-06-06T15:24:48.298Z"
   },
   {
    "duration": 7,
    "start_time": "2023-06-06T15:24:48.348Z"
   },
   {
    "duration": 13,
    "start_time": "2023-06-06T15:24:48.356Z"
   },
   {
    "duration": 31,
    "start_time": "2023-06-06T15:24:48.371Z"
   },
   {
    "duration": 18,
    "start_time": "2023-06-06T15:24:48.403Z"
   },
   {
    "duration": 25,
    "start_time": "2023-06-06T15:24:48.423Z"
   },
   {
    "duration": 1556,
    "start_time": "2023-06-06T15:24:48.450Z"
   },
   {
    "duration": 7,
    "start_time": "2023-06-06T15:24:50.008Z"
   },
   {
    "duration": 22,
    "start_time": "2023-06-06T15:24:50.016Z"
   },
   {
    "duration": 54,
    "start_time": "2023-06-06T15:24:50.040Z"
   },
   {
    "duration": 10,
    "start_time": "2023-06-06T15:24:50.102Z"
   },
   {
    "duration": 24,
    "start_time": "2023-06-06T15:24:50.113Z"
   },
   {
    "duration": 30,
    "start_time": "2023-06-06T15:24:50.138Z"
   },
   {
    "duration": 78,
    "start_time": "2023-06-06T15:24:50.169Z"
   },
   {
    "duration": 1125,
    "start_time": "2023-06-06T15:24:50.249Z"
   },
   {
    "duration": 343,
    "start_time": "2023-06-06T15:24:51.375Z"
   },
   {
    "duration": 340,
    "start_time": "2023-06-06T15:24:51.719Z"
   },
   {
    "duration": 44,
    "start_time": "2023-06-06T15:24:52.060Z"
   },
   {
    "duration": 806,
    "start_time": "2023-06-06T15:24:52.106Z"
   },
   {
    "duration": 341,
    "start_time": "2023-06-06T15:24:52.914Z"
   },
   {
    "duration": 20,
    "start_time": "2023-06-06T15:24:53.256Z"
   },
   {
    "duration": 109,
    "start_time": "2023-06-06T15:24:53.285Z"
   },
   {
    "duration": 22,
    "start_time": "2023-06-06T15:24:53.395Z"
   },
   {
    "duration": 1172,
    "start_time": "2023-06-06T15:24:53.419Z"
   },
   {
    "duration": 20,
    "start_time": "2023-06-06T15:24:54.592Z"
   },
   {
    "duration": 19,
    "start_time": "2023-06-06T15:24:54.613Z"
   },
   {
    "duration": 16,
    "start_time": "2023-06-06T15:24:54.633Z"
   },
   {
    "duration": 66,
    "start_time": "2023-06-06T15:24:54.651Z"
   },
   {
    "duration": 34,
    "start_time": "2023-06-06T15:24:54.718Z"
   },
   {
    "duration": 16,
    "start_time": "2023-06-06T15:24:54.753Z"
   },
   {
    "duration": 35,
    "start_time": "2023-06-06T15:24:54.770Z"
   },
   {
    "duration": 11,
    "start_time": "2023-06-06T15:24:54.807Z"
   },
   {
    "duration": 18,
    "start_time": "2023-06-06T15:24:54.820Z"
   },
   {
    "duration": 138,
    "start_time": "2023-06-06T15:24:54.841Z"
   },
   {
    "duration": 0,
    "start_time": "2023-06-06T15:24:54.981Z"
   },
   {
    "duration": 0,
    "start_time": "2023-06-06T15:24:54.982Z"
   },
   {
    "duration": 0,
    "start_time": "2023-06-06T15:24:54.983Z"
   },
   {
    "duration": 0,
    "start_time": "2023-06-06T15:24:54.985Z"
   },
   {
    "duration": 0,
    "start_time": "2023-06-06T15:24:54.986Z"
   },
   {
    "duration": 0,
    "start_time": "2023-06-06T15:24:54.987Z"
   },
   {
    "duration": 0,
    "start_time": "2023-06-06T15:24:54.988Z"
   },
   {
    "duration": 0,
    "start_time": "2023-06-06T15:24:54.988Z"
   },
   {
    "duration": 0,
    "start_time": "2023-06-06T15:24:54.989Z"
   },
   {
    "duration": 0,
    "start_time": "2023-06-06T15:24:54.990Z"
   },
   {
    "duration": 0,
    "start_time": "2023-06-06T15:24:54.990Z"
   },
   {
    "duration": 0,
    "start_time": "2023-06-06T15:24:54.991Z"
   },
   {
    "duration": 0,
    "start_time": "2023-06-06T15:24:54.992Z"
   },
   {
    "duration": 0,
    "start_time": "2023-06-06T15:24:54.993Z"
   },
   {
    "duration": 0,
    "start_time": "2023-06-06T15:24:54.994Z"
   },
   {
    "duration": 0,
    "start_time": "2023-06-06T15:24:54.995Z"
   },
   {
    "duration": 0,
    "start_time": "2023-06-06T15:24:54.996Z"
   },
   {
    "duration": 0,
    "start_time": "2023-06-06T15:24:54.996Z"
   },
   {
    "duration": 0,
    "start_time": "2023-06-06T15:24:54.997Z"
   },
   {
    "duration": 0,
    "start_time": "2023-06-06T15:24:54.997Z"
   },
   {
    "duration": 0,
    "start_time": "2023-06-06T15:24:54.998Z"
   },
   {
    "duration": 0,
    "start_time": "2023-06-06T15:24:54.999Z"
   },
   {
    "duration": 0,
    "start_time": "2023-06-06T15:24:55.000Z"
   },
   {
    "duration": 0,
    "start_time": "2023-06-06T15:24:55.003Z"
   },
   {
    "duration": 0,
    "start_time": "2023-06-06T15:24:55.004Z"
   },
   {
    "duration": 0,
    "start_time": "2023-06-06T15:24:55.006Z"
   },
   {
    "duration": 0,
    "start_time": "2023-06-06T15:24:55.006Z"
   },
   {
    "duration": 0,
    "start_time": "2023-06-06T15:24:55.007Z"
   },
   {
    "duration": 0,
    "start_time": "2023-06-06T15:24:55.008Z"
   },
   {
    "duration": 0,
    "start_time": "2023-06-06T15:24:55.009Z"
   },
   {
    "duration": 0,
    "start_time": "2023-06-06T15:24:55.010Z"
   },
   {
    "duration": 0,
    "start_time": "2023-06-06T15:24:55.011Z"
   },
   {
    "duration": 0,
    "start_time": "2023-06-06T15:24:55.011Z"
   },
   {
    "duration": 0,
    "start_time": "2023-06-06T15:24:55.012Z"
   },
   {
    "duration": 0,
    "start_time": "2023-06-06T15:24:55.013Z"
   },
   {
    "duration": 0,
    "start_time": "2023-06-06T15:24:55.014Z"
   },
   {
    "duration": 0,
    "start_time": "2023-06-06T15:24:55.015Z"
   },
   {
    "duration": 0,
    "start_time": "2023-06-06T15:24:55.016Z"
   },
   {
    "duration": 0,
    "start_time": "2023-06-06T15:24:55.017Z"
   },
   {
    "duration": 0,
    "start_time": "2023-06-06T15:24:55.018Z"
   },
   {
    "duration": 0,
    "start_time": "2023-06-06T15:24:55.019Z"
   },
   {
    "duration": 0,
    "start_time": "2023-06-06T15:24:55.020Z"
   },
   {
    "duration": 0,
    "start_time": "2023-06-06T15:24:55.021Z"
   },
   {
    "duration": 0,
    "start_time": "2023-06-06T15:24:55.022Z"
   },
   {
    "duration": 0,
    "start_time": "2023-06-06T15:24:55.023Z"
   },
   {
    "duration": 0,
    "start_time": "2023-06-06T15:24:55.024Z"
   },
   {
    "duration": 0,
    "start_time": "2023-06-06T15:24:55.025Z"
   },
   {
    "duration": 0,
    "start_time": "2023-06-06T15:24:55.026Z"
   },
   {
    "duration": 0,
    "start_time": "2023-06-06T15:24:55.027Z"
   },
   {
    "duration": 0,
    "start_time": "2023-06-06T15:24:55.027Z"
   },
   {
    "duration": 0,
    "start_time": "2023-06-06T15:24:55.028Z"
   },
   {
    "duration": 0,
    "start_time": "2023-06-06T15:24:55.087Z"
   },
   {
    "duration": 0,
    "start_time": "2023-06-06T15:24:55.088Z"
   },
   {
    "duration": 0,
    "start_time": "2023-06-06T15:24:55.089Z"
   },
   {
    "duration": 0,
    "start_time": "2023-06-06T15:24:55.090Z"
   }
  ],
  "kernelspec": {
   "display_name": "Python 3 (ipykernel)",
   "language": "python",
   "name": "python3"
  },
  "language_info": {
   "codemirror_mode": {
    "name": "ipython",
    "version": 3
   },
   "file_extension": ".py",
   "mimetype": "text/x-python",
   "name": "python",
   "nbconvert_exporter": "python",
   "pygments_lexer": "ipython3",
   "version": "3.9.13"
  },
  "toc": {
   "base_numbering": 1,
   "nav_menu": {},
   "number_sections": false,
   "sideBar": true,
   "skip_h1_title": true,
   "title_cell": "Table of Contents",
   "title_sidebar": "Содержание исследования",
   "toc_cell": false,
   "toc_position": {},
   "toc_section_display": true,
   "toc_window_display": true
  }
 },
 "nbformat": 4,
 "nbformat_minor": 2
}
