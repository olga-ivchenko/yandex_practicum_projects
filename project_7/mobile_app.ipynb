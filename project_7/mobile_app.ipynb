{
 "cells": [
  {
   "cell_type": "markdown",
   "id": "6900aee0",
   "metadata": {},
   "source": [
    "<br>**Заказчик исследования:** стартап, который продаёт продукты питания. \n",
    "<br>**Цель исследования:** разобраться, как ведут себя пользователи мобильного приложения. \n",
    "\n",
    "\n",
    "Для достижения поставленных целей необходимо выполнить следующие этапы исследования:\n",
    "<br>\n",
    "1. Провести подготовку полученных данных\n",
    "2. Проанализировать данные\n",
    "3. Изучить воронку продаж\n",
    "4. Исследовать результаты A/A/B-эксперимента по изменению шрифта в приложении\n",
    "5. Сформулировать выводы и разработать рекомендации\n"
   ]
  },
  {
   "cell_type": "markdown",
   "id": "d80185e1",
   "metadata": {},
   "source": [
    "# 1. Подготовка данных"
   ]
  },
  {
   "cell_type": "code",
   "execution_count": 1,
   "id": "8b151b26",
   "metadata": {},
   "outputs": [],
   "source": [
    "import pandas as pd  \n",
    "from matplotlib import pyplot as plt\n",
    "import math as mth\n",
    "import numpy as np\n",
    "import plotly.express as px\n",
    "from plotly import graph_objects as go\n",
    "from scipy import stats as st\n",
    "import seaborn as sns"
   ]
  },
  {
   "cell_type": "code",
   "execution_count": 2,
   "id": "8638f390",
   "metadata": {},
   "outputs": [],
   "source": [
    "try:\n",
    "    data = pd.read_csv('logs_exp.csv', sep = \"\\t\")  # загружаем локальный файл с данными\n",
    "except:\n",
    "    data = pd.read_csv('/datasets/logs_exp.csv', sep = \"\\t\")   # альтернативный пусть к данным для работы с других устройств"
   ]
  },
  {
   "cell_type": "markdown",
   "id": "3fb8db3b",
   "metadata": {},
   "source": [
    "Смотрим общую информацию о датасете:"
   ]
  },
  {
   "cell_type": "code",
   "execution_count": 3,
   "id": "3660fc54",
   "metadata": {
    "scrolled": true
   },
   "outputs": [
    {
     "name": "stdout",
     "output_type": "stream",
     "text": [
      "<class 'pandas.core.frame.DataFrame'>\n",
      "RangeIndex: 244126 entries, 0 to 244125\n",
      "Data columns (total 4 columns):\n",
      " #   Column          Non-Null Count   Dtype \n",
      "---  ------          --------------   ----- \n",
      " 0   EventName       244126 non-null  object\n",
      " 1   DeviceIDHash    244126 non-null  int64 \n",
      " 2   EventTimestamp  244126 non-null  int64 \n",
      " 3   ExpId           244126 non-null  int64 \n",
      "dtypes: int64(3), object(1)\n",
      "memory usage: 7.5+ MB\n"
     ]
    }
   ],
   "source": [
    "data.info()"
   ]
  },
  {
   "cell_type": "code",
   "execution_count": 4,
   "id": "644f4ed5",
   "metadata": {},
   "outputs": [
    {
     "data": {
      "text/html": [
       "<div>\n",
       "<style scoped>\n",
       "    .dataframe tbody tr th:only-of-type {\n",
       "        vertical-align: middle;\n",
       "    }\n",
       "\n",
       "    .dataframe tbody tr th {\n",
       "        vertical-align: top;\n",
       "    }\n",
       "\n",
       "    .dataframe thead th {\n",
       "        text-align: right;\n",
       "    }\n",
       "</style>\n",
       "<table border=\"1\" class=\"dataframe\">\n",
       "  <thead>\n",
       "    <tr style=\"text-align: right;\">\n",
       "      <th></th>\n",
       "      <th>EventName</th>\n",
       "      <th>DeviceIDHash</th>\n",
       "      <th>EventTimestamp</th>\n",
       "      <th>ExpId</th>\n",
       "    </tr>\n",
       "  </thead>\n",
       "  <tbody>\n",
       "    <tr>\n",
       "      <th>0</th>\n",
       "      <td>MainScreenAppear</td>\n",
       "      <td>4575588528974610257</td>\n",
       "      <td>1564029816</td>\n",
       "      <td>246</td>\n",
       "    </tr>\n",
       "    <tr>\n",
       "      <th>1</th>\n",
       "      <td>MainScreenAppear</td>\n",
       "      <td>7416695313311560658</td>\n",
       "      <td>1564053102</td>\n",
       "      <td>246</td>\n",
       "    </tr>\n",
       "    <tr>\n",
       "      <th>2</th>\n",
       "      <td>PaymentScreenSuccessful</td>\n",
       "      <td>3518123091307005509</td>\n",
       "      <td>1564054127</td>\n",
       "      <td>248</td>\n",
       "    </tr>\n",
       "    <tr>\n",
       "      <th>3</th>\n",
       "      <td>CartScreenAppear</td>\n",
       "      <td>3518123091307005509</td>\n",
       "      <td>1564054127</td>\n",
       "      <td>248</td>\n",
       "    </tr>\n",
       "    <tr>\n",
       "      <th>4</th>\n",
       "      <td>PaymentScreenSuccessful</td>\n",
       "      <td>6217807653094995999</td>\n",
       "      <td>1564055322</td>\n",
       "      <td>248</td>\n",
       "    </tr>\n",
       "  </tbody>\n",
       "</table>\n",
       "</div>"
      ],
      "text/plain": [
       "                 EventName         DeviceIDHash  EventTimestamp  ExpId\n",
       "0         MainScreenAppear  4575588528974610257      1564029816    246\n",
       "1         MainScreenAppear  7416695313311560658      1564053102    246\n",
       "2  PaymentScreenSuccessful  3518123091307005509      1564054127    248\n",
       "3         CartScreenAppear  3518123091307005509      1564054127    248\n",
       "4  PaymentScreenSuccessful  6217807653094995999      1564055322    248"
      ]
     },
     "execution_count": 4,
     "metadata": {},
     "output_type": "execute_result"
    }
   ],
   "source": [
    "data.head()"
   ]
  },
  {
   "cell_type": "markdown",
   "id": "fe8bb3e9",
   "metadata": {},
   "source": [
    "Переименуем столбцы датасета в более удобные для анализа"
   ]
  },
  {
   "cell_type": "code",
   "execution_count": 5,
   "id": "798aa9a0",
   "metadata": {},
   "outputs": [],
   "source": [
    "data.columns = ['event_name', 'user_id', 'event_timestamp', 'group']"
   ]
  },
  {
   "cell_type": "markdown",
   "id": "7409ae9f",
   "metadata": {},
   "source": [
    "Переименуем также названия групп тестирования и названия событий в более удобные для прочтения и дальнейшего анализа:"
   ]
  },
  {
   "cell_type": "code",
   "execution_count": 6,
   "id": "4385cac3",
   "metadata": {},
   "outputs": [],
   "source": [
    "data['group'] = data['group'].replace(246, 'A1')\n",
    "data['group'] = data['group'].replace(247, 'A2')\n",
    "data['group'] = data['group'].replace(248, 'B')"
   ]
  },
  {
   "cell_type": "code",
   "execution_count": 7,
   "id": "b4c4af56",
   "metadata": {},
   "outputs": [],
   "source": [
    "data['event_name'] = data['event_name'].replace('MainScreenAppear', 'Main screen')\n",
    "data['event_name'] = data['event_name'].replace('PaymentScreenSuccessful', 'Payment screen')\n",
    "data['event_name'] = data['event_name'].replace('CartScreenAppear', 'Cart screen')\n",
    "data['event_name'] = data['event_name'].replace('OffersScreenAppear', 'Offers screen')"
   ]
  },
  {
   "cell_type": "markdown",
   "id": "a70df9aa",
   "metadata": {},
   "source": [
    "Приведем к соответствующему формату столбец с временем события и добавим столбец с информацией только даты :"
   ]
  },
  {
   "cell_type": "code",
   "execution_count": 8,
   "id": "9e1d482d",
   "metadata": {},
   "outputs": [],
   "source": [
    "data['event_time']= pd.to_datetime(data['event_timestamp'], unit = 's')"
   ]
  },
  {
   "cell_type": "code",
   "execution_count": 9,
   "id": "66cabe19",
   "metadata": {},
   "outputs": [],
   "source": [
    "data['event_date']= pd.to_datetime(data['event_time']).dt.normalize()"
   ]
  },
  {
   "cell_type": "code",
   "execution_count": 10,
   "id": "38e18a92",
   "metadata": {},
   "outputs": [
    {
     "data": {
      "text/html": [
       "<div>\n",
       "<style scoped>\n",
       "    .dataframe tbody tr th:only-of-type {\n",
       "        vertical-align: middle;\n",
       "    }\n",
       "\n",
       "    .dataframe tbody tr th {\n",
       "        vertical-align: top;\n",
       "    }\n",
       "\n",
       "    .dataframe thead th {\n",
       "        text-align: right;\n",
       "    }\n",
       "</style>\n",
       "<table border=\"1\" class=\"dataframe\">\n",
       "  <thead>\n",
       "    <tr style=\"text-align: right;\">\n",
       "      <th></th>\n",
       "      <th>event_name</th>\n",
       "      <th>user_id</th>\n",
       "      <th>event_timestamp</th>\n",
       "      <th>group</th>\n",
       "      <th>event_time</th>\n",
       "      <th>event_date</th>\n",
       "    </tr>\n",
       "  </thead>\n",
       "  <tbody>\n",
       "    <tr>\n",
       "      <th>0</th>\n",
       "      <td>Main screen</td>\n",
       "      <td>4575588528974610257</td>\n",
       "      <td>1564029816</td>\n",
       "      <td>A1</td>\n",
       "      <td>2019-07-25 04:43:36</td>\n",
       "      <td>2019-07-25</td>\n",
       "    </tr>\n",
       "    <tr>\n",
       "      <th>1</th>\n",
       "      <td>Main screen</td>\n",
       "      <td>7416695313311560658</td>\n",
       "      <td>1564053102</td>\n",
       "      <td>A1</td>\n",
       "      <td>2019-07-25 11:11:42</td>\n",
       "      <td>2019-07-25</td>\n",
       "    </tr>\n",
       "    <tr>\n",
       "      <th>2</th>\n",
       "      <td>Payment screen</td>\n",
       "      <td>3518123091307005509</td>\n",
       "      <td>1564054127</td>\n",
       "      <td>B</td>\n",
       "      <td>2019-07-25 11:28:47</td>\n",
       "      <td>2019-07-25</td>\n",
       "    </tr>\n",
       "    <tr>\n",
       "      <th>3</th>\n",
       "      <td>Cart screen</td>\n",
       "      <td>3518123091307005509</td>\n",
       "      <td>1564054127</td>\n",
       "      <td>B</td>\n",
       "      <td>2019-07-25 11:28:47</td>\n",
       "      <td>2019-07-25</td>\n",
       "    </tr>\n",
       "    <tr>\n",
       "      <th>4</th>\n",
       "      <td>Payment screen</td>\n",
       "      <td>6217807653094995999</td>\n",
       "      <td>1564055322</td>\n",
       "      <td>B</td>\n",
       "      <td>2019-07-25 11:48:42</td>\n",
       "      <td>2019-07-25</td>\n",
       "    </tr>\n",
       "  </tbody>\n",
       "</table>\n",
       "</div>"
      ],
      "text/plain": [
       "       event_name              user_id  event_timestamp group  \\\n",
       "0     Main screen  4575588528974610257       1564029816    A1   \n",
       "1     Main screen  7416695313311560658       1564053102    A1   \n",
       "2  Payment screen  3518123091307005509       1564054127     B   \n",
       "3     Cart screen  3518123091307005509       1564054127     B   \n",
       "4  Payment screen  6217807653094995999       1564055322     B   \n",
       "\n",
       "           event_time event_date  \n",
       "0 2019-07-25 04:43:36 2019-07-25  \n",
       "1 2019-07-25 11:11:42 2019-07-25  \n",
       "2 2019-07-25 11:28:47 2019-07-25  \n",
       "3 2019-07-25 11:28:47 2019-07-25  \n",
       "4 2019-07-25 11:48:42 2019-07-25  "
      ]
     },
     "execution_count": 10,
     "metadata": {},
     "output_type": "execute_result"
    }
   ],
   "source": [
    "data.head()"
   ]
  },
  {
   "cell_type": "markdown",
   "id": "d4faca03",
   "metadata": {},
   "source": [
    "Проверим датасет на наличие пропусков:"
   ]
  },
  {
   "cell_type": "code",
   "execution_count": 11,
   "id": "d0358751",
   "metadata": {},
   "outputs": [
    {
     "data": {
      "text/plain": [
       "event_name         0\n",
       "user_id            0\n",
       "event_timestamp    0\n",
       "group              0\n",
       "event_time         0\n",
       "event_date         0\n",
       "dtype: int64"
      ]
     },
     "execution_count": 11,
     "metadata": {},
     "output_type": "execute_result"
    }
   ],
   "source": [
    "data.isna().sum()"
   ]
  },
  {
   "cell_type": "markdown",
   "id": "5e32cc1c",
   "metadata": {},
   "source": [
    "Пропусков нет, теперь проверяем явные дубликаты"
   ]
  },
  {
   "cell_type": "code",
   "execution_count": 12,
   "id": "da4426ba",
   "metadata": {},
   "outputs": [
    {
     "data": {
      "text/plain": [
       "413"
      ]
     },
     "execution_count": 12,
     "metadata": {},
     "output_type": "execute_result"
    }
   ],
   "source": [
    "data.duplicated().sum() "
   ]
  },
  {
   "cell_type": "code",
   "execution_count": 13,
   "id": "80df423d",
   "metadata": {},
   "outputs": [
    {
     "data": {
      "text/plain": [
       "0"
      ]
     },
     "execution_count": 13,
     "metadata": {},
     "output_type": "execute_result"
    }
   ],
   "source": [
    "data = data.drop_duplicates()  # удаляем дубликаты \n",
    "data.duplicated().sum() # перепроверяем"
   ]
  },
  {
   "cell_type": "code",
   "execution_count": 14,
   "id": "84f8d71e",
   "metadata": {
    "scrolled": false
   },
   "outputs": [
    {
     "name": "stdout",
     "output_type": "stream",
     "text": [
      "<class 'pandas.core.frame.DataFrame'>\n",
      "Int64Index: 243713 entries, 0 to 244125\n",
      "Data columns (total 6 columns):\n",
      " #   Column           Non-Null Count   Dtype         \n",
      "---  ------           --------------   -----         \n",
      " 0   event_name       243713 non-null  object        \n",
      " 1   user_id          243713 non-null  int64         \n",
      " 2   event_timestamp  243713 non-null  int64         \n",
      " 3   group            243713 non-null  object        \n",
      " 4   event_time       243713 non-null  datetime64[ns]\n",
      " 5   event_date       243713 non-null  datetime64[ns]\n",
      "dtypes: datetime64[ns](2), int64(2), object(2)\n",
      "memory usage: 13.0+ MB\n"
     ]
    }
   ],
   "source": [
    "data.info()"
   ]
  },
  {
   "cell_type": "markdown",
   "id": "f5f1ff36",
   "metadata": {},
   "source": [
    "Всего мы удалили 413 записей полных дубликатов - это менее 1% от датасета."
   ]
  },
  {
   "cell_type": "markdown",
   "id": "40afdba5",
   "metadata": {},
   "source": [
    "Предварительная обработка данных завершена: данные приведены к удобному для анализа стилю и формату, дубликаты удалены. Переходим к анализу данных."
   ]
  },
  {
   "cell_type": "markdown",
   "id": "10fc07bc",
   "metadata": {},
   "source": [
    "# 2. Анализ данных"
   ]
  },
  {
   "cell_type": "markdown",
   "id": "55df9630",
   "metadata": {},
   "source": [
    "Смотрим на общее количество событий в логе:"
   ]
  },
  {
   "cell_type": "code",
   "execution_count": 15,
   "id": "0a10a206",
   "metadata": {
    "scrolled": true
   },
   "outputs": [
    {
     "data": {
      "text/plain": [
       "Main screen       119101\n",
       "Offers screen      46808\n",
       "Cart screen        42668\n",
       "Payment screen     34118\n",
       "Tutorial            1018\n",
       "Name: event_name, dtype: int64"
      ]
     },
     "execution_count": 15,
     "metadata": {},
     "output_type": "execute_result"
    }
   ],
   "source": [
    "data['event_name'].value_counts()"
   ]
  },
  {
   "cell_type": "markdown",
   "id": "7a23f65c",
   "metadata": {},
   "source": [
    "И на количество уникальных пользователей:"
   ]
  },
  {
   "cell_type": "code",
   "execution_count": 16,
   "id": "938296f3",
   "metadata": {},
   "outputs": [
    {
     "data": {
      "text/plain": [
       "7551"
      ]
     },
     "execution_count": 16,
     "metadata": {},
     "output_type": "execute_result"
    }
   ],
   "source": [
    "data['user_id'].nunique()"
   ]
  },
  {
   "cell_type": "markdown",
   "id": "0064326f",
   "metadata": {},
   "source": [
    "Посчитаем сколько в среднем событий совершает один пользователь:"
   ]
  },
  {
   "cell_type": "code",
   "execution_count": 17,
   "id": "7a36607e",
   "metadata": {},
   "outputs": [
    {
     "name": "stdout",
     "output_type": "stream",
     "text": [
      "В среднем на одного уникального пользователя приходится 12.07 событий\n"
     ]
    }
   ],
   "source": [
    "print(\"В среднем на одного уникального пользователя приходится\", \\\n",
    "      round(data.groupby('user_id')['event_name'].value_counts().mean(), 2), \"событий\")"
   ]
  },
  {
   "cell_type": "code",
   "execution_count": 18,
   "id": "51a0646b",
   "metadata": {
    "scrolled": true
   },
   "outputs": [
    {
     "data": {
      "text/plain": [
       "B     85582\n",
       "A1    80181\n",
       "A2    77950\n",
       "Name: group, dtype: int64"
      ]
     },
     "execution_count": 18,
     "metadata": {},
     "output_type": "execute_result"
    }
   ],
   "source": [
    "data['group'].value_counts()"
   ]
  },
  {
   "cell_type": "markdown",
   "id": "dc81eec2",
   "metadata": {},
   "source": [
    "Определим минимальную и максимальные даты в датасете:"
   ]
  },
  {
   "cell_type": "code",
   "execution_count": 19,
   "id": "fcd730af",
   "metadata": {},
   "outputs": [
    {
     "name": "stdout",
     "output_type": "stream",
     "text": [
      "самая ранняя дата: 2019-07-25 00:00:00\n",
      "самая поздняя дата: 2019-08-07 00:00:00\n"
     ]
    }
   ],
   "source": [
    "print('самая ранняя дата:', data['event_date'].min())\n",
    "print('самая поздняя дата:', data['event_date'].max())"
   ]
  },
  {
   "cell_type": "markdown",
   "id": "50263f91",
   "metadata": {},
   "source": [
    "Построим гистрограмму:"
   ]
  },
  {
   "cell_type": "code",
   "execution_count": 20,
   "id": "d7985846",
   "metadata": {},
   "outputs": [
    {
     "data": {
      "image/png": "[encoded data removed]",
      "text/plain": [
       "<Figure size 432x288 with 1 Axes>"
      ]
     },
     "metadata": {
      "needs_background": "light"
     },
     "output_type": "display_data"
    }
   ],
   "source": [
    "data['event_time'].hist(grid = False, bins = 10)\n",
    "plt.title('Количество событий по дате и времени')\n",
    "plt.xticks(rotation = 45)\n",
    "plt.show()"
   ]
  },
  {
   "cell_type": "markdown",
   "id": "d8463f20",
   "metadata": {},
   "source": [
    "Данные в базе загружены неравномерно: наиболее полными являются лишь данные с 01 августа по 07 августа. Перенесем данные, обрезанные по этому временному периоду в новый датасет df и посмотрим на количество потерянных при этом записей:"
   ]
  },
  {
   "cell_type": "code",
   "execution_count": 21,
   "id": "a70a8628",
   "metadata": {},
   "outputs": [],
   "source": [
    "df= data.query('event_time  > \"2019-08-01\"')"
   ]
  },
  {
   "cell_type": "code",
   "execution_count": 22,
   "id": "c5ecb468",
   "metadata": {
    "scrolled": false
   },
   "outputs": [
    {
     "name": "stdout",
     "output_type": "stream",
     "text": [
      "<class 'pandas.core.frame.DataFrame'>\n",
      "Int64Index: 240887 entries, 2828 to 244125\n",
      "Data columns (total 6 columns):\n",
      " #   Column           Non-Null Count   Dtype         \n",
      "---  ------           --------------   -----         \n",
      " 0   event_name       240887 non-null  object        \n",
      " 1   user_id          240887 non-null  int64         \n",
      " 2   event_timestamp  240887 non-null  int64         \n",
      " 3   group            240887 non-null  object        \n",
      " 4   event_time       240887 non-null  datetime64[ns]\n",
      " 5   event_date       240887 non-null  datetime64[ns]\n",
      "dtypes: datetime64[ns](2), int64(2), object(2)\n",
      "memory usage: 12.9+ MB\n"
     ]
    }
   ],
   "source": [
    "df.info()"
   ]
  },
  {
   "cell_type": "code",
   "execution_count": 23,
   "id": "ebb85c91",
   "metadata": {},
   "outputs": [
    {
     "name": "stdout",
     "output_type": "stream",
     "text": [
      "Доля потерь в событиях 1.17 %\n",
      "Доля потерь в уникальных пользователях 0.23 %\n"
     ]
    }
   ],
   "source": [
    "print('Доля потерь в событиях', round((data['event_name'].count()/df['event_name'].count())*100-100, 2), '%' )\n",
    "print('Доля потерь в уникальных пользователях', round((data['user_id'].nunique()/df['user_id'].nunique())*100-100, 2), '%' )"
   ]
  },
  {
   "cell_type": "code",
   "execution_count": 24,
   "id": "0a002640",
   "metadata": {},
   "outputs": [
    {
     "name": "stdout",
     "output_type": "stream",
     "text": [
      "Доля потерь в событии Main screen 1.51 %\n",
      "Доля потерь в событии Offers screen 1.03 %\n",
      "Доля потерь в событии Cart screen 0.86 %\n",
      "Доля потерь в событии Payment screen 0.59 %\n",
      "Доля потерь в событии Tutorial 1.29 %\n"
     ]
    }
   ],
   "source": [
    "for i in ['Main screen', 'Offers screen', 'Cart screen', 'Payment screen', 'Tutorial']:\n",
    "    print('Доля потерь в событии', i,  \\\n",
    "round((data.query('event_name == @i')['event_name'].count()/df.query('event_name == @i')['event_name'].count())*100-100, 2), '%' )"
   ]
  },
  {
   "cell_type": "code",
   "execution_count": 25,
   "id": "bf408476",
   "metadata": {},
   "outputs": [
    {
     "name": "stdout",
     "output_type": "stream",
     "text": [
      "Доля потерь в событиях 1.17 %\n"
     ]
    }
   ],
   "source": [
    "print('Доля потерь в событиях', round((data['event_name'].count()/df['event_name'].count())*100-100, 2), '%' )"
   ]
  },
  {
   "cell_type": "markdown",
   "id": "c70a6783",
   "metadata": {},
   "source": [
    "Потеря данных составила 2826 записи - менее 1,5% от исходного датасета и 17 уникальных пользователей из 7551\n"
   ]
  },
  {
   "cell_type": "code",
   "execution_count": 26,
   "id": "5959f70f",
   "metadata": {},
   "outputs": [
    {
     "data": {
      "image/png": "[encoded data removed]",
      "text/plain": [
       "<Figure size 432x288 with 1 Axes>"
      ]
     },
     "metadata": {
      "needs_background": "light"
     },
     "output_type": "display_data"
    }
   ],
   "source": [
    "df['event_time'].hist(grid = False)\n",
    "plt.title('Количество событий по дате и времени')\n",
    "plt.xticks(rotation = 45)\n",
    "plt.show()"
   ]
  },
  {
   "cell_type": "markdown",
   "id": "510cd00b",
   "metadata": {},
   "source": [
    "Проверим что в датасете есть представители всех тестируемых групп:"
   ]
  },
  {
   "cell_type": "code",
   "execution_count": 27,
   "id": "d96e7608",
   "metadata": {
    "scrolled": true
   },
   "outputs": [
    {
     "data": {
      "text/plain": [
       "B     84563\n",
       "A1    79302\n",
       "A2    77022\n",
       "Name: group, dtype: int64"
      ]
     },
     "execution_count": 27,
     "metadata": {},
     "output_type": "execute_result"
    }
   ],
   "source": [
    "df['group'].value_counts()"
   ]
  },
  {
   "cell_type": "markdown",
   "id": "2b18ff8b",
   "metadata": {},
   "source": [
    "Предварительный анализ данных завершен, переходим к анализу воронки событий."
   ]
  },
  {
   "cell_type": "markdown",
   "id": "abf57821",
   "metadata": {},
   "source": [
    "# 3. Анализ воронки событий"
   ]
  },
  {
   "cell_type": "markdown",
   "id": "c5b80309",
   "metadata": {},
   "source": [
    "Посмотрим какие события есть в логах, как часто они встречаются:"
   ]
  },
  {
   "cell_type": "code",
   "execution_count": 28,
   "id": "cb9c5669",
   "metadata": {},
   "outputs": [
    {
     "data": {
      "text/plain": [
       "Main screen       117328\n",
       "Offers screen      46333\n",
       "Cart screen        42303\n",
       "Payment screen     33918\n",
       "Tutorial            1005\n",
       "Name: event_name, dtype: int64"
      ]
     },
     "execution_count": 28,
     "metadata": {},
     "output_type": "execute_result"
    }
   ],
   "source": [
    "df['event_name'].value_counts()"
   ]
  },
  {
   "cell_type": "markdown",
   "id": "3913282d",
   "metadata": {},
   "source": [
    "Посмотрим сколько пользователей совершали каждое из этих событий и долю пользователей, которые хоть раз совершали событие:"
   ]
  },
  {
   "cell_type": "code",
   "execution_count": 29,
   "id": "d42769d4",
   "metadata": {},
   "outputs": [
    {
     "data": {
      "text/plain": [
       "7534"
      ]
     },
     "execution_count": 29,
     "metadata": {},
     "output_type": "execute_result"
    }
   ],
   "source": [
    "df['user_id'].nunique()  # всего уникальных пользователей"
   ]
  },
  {
   "cell_type": "code",
   "execution_count": 30,
   "id": "5b31e78d",
   "metadata": {},
   "outputs": [
    {
     "name": "stdout",
     "output_type": "stream",
     "text": [
      "В среднем на одного уникального пользователя c период с 1 по 7 августа 2019 г. приходилось 12.0 событий\n"
     ]
    }
   ],
   "source": [
    "print(\"В среднем на одного уникального пользователя c период с 1 по 7 августа 2019 г. приходилось\", \\\n",
    "      round(df.groupby('user_id')['event_name'].value_counts().mean(), 1), \"событий\")"
   ]
  },
  {
   "cell_type": "code",
   "execution_count": 31,
   "id": "887cbac6",
   "metadata": {
    "scrolled": true
   },
   "outputs": [
    {
     "data": {
      "text/html": [
       "<div>\n",
       "<style scoped>\n",
       "    .dataframe tbody tr th:only-of-type {\n",
       "        vertical-align: middle;\n",
       "    }\n",
       "\n",
       "    .dataframe tbody tr th {\n",
       "        vertical-align: top;\n",
       "    }\n",
       "\n",
       "    .dataframe thead th {\n",
       "        text-align: right;\n",
       "    }\n",
       "</style>\n",
       "<table border=\"1\" class=\"dataframe\">\n",
       "  <thead>\n",
       "    <tr style=\"text-align: right;\">\n",
       "      <th></th>\n",
       "      <th>event_name</th>\n",
       "      <th>user_id</th>\n",
       "      <th>proportion, %</th>\n",
       "    </tr>\n",
       "  </thead>\n",
       "  <tbody>\n",
       "    <tr>\n",
       "      <th>0</th>\n",
       "      <td>Main screen</td>\n",
       "      <td>7419</td>\n",
       "      <td>98.47</td>\n",
       "    </tr>\n",
       "    <tr>\n",
       "      <th>1</th>\n",
       "      <td>Offers screen</td>\n",
       "      <td>4593</td>\n",
       "      <td>60.96</td>\n",
       "    </tr>\n",
       "    <tr>\n",
       "      <th>2</th>\n",
       "      <td>Cart screen</td>\n",
       "      <td>3734</td>\n",
       "      <td>49.56</td>\n",
       "    </tr>\n",
       "    <tr>\n",
       "      <th>3</th>\n",
       "      <td>Payment screen</td>\n",
       "      <td>3539</td>\n",
       "      <td>46.97</td>\n",
       "    </tr>\n",
       "    <tr>\n",
       "      <th>4</th>\n",
       "      <td>Tutorial</td>\n",
       "      <td>840</td>\n",
       "      <td>11.15</td>\n",
       "    </tr>\n",
       "  </tbody>\n",
       "</table>\n",
       "</div>"
      ],
      "text/plain": [
       "       event_name  user_id  proportion, %\n",
       "0     Main screen     7419          98.47\n",
       "1   Offers screen     4593          60.96\n",
       "2     Cart screen     3734          49.56\n",
       "3  Payment screen     3539          46.97\n",
       "4        Tutorial      840          11.15"
      ]
     },
     "execution_count": 31,
     "metadata": {},
     "output_type": "execute_result"
    }
   ],
   "source": [
    "# сгруппируем датасет по событиям и уникальным пользователям, которые их совершали\n",
    "# рассчитаем долю пользователей, хоть раз совершавших событие\n",
    "\n",
    "user_events = df.groupby('event_name')['user_id'].nunique().sort_values(ascending = False).reset_index()\n",
    "user_events['proportion, %'] = round(user_events['user_id']/df['user_id'].nunique()*100, 2)\n",
    "user_events"
   ]
  },
  {
   "cell_type": "code",
   "execution_count": 32,
   "id": "6f422131",
   "metadata": {},
   "outputs": [
    {
     "data": {
      "image/png": "[encoded data removed]",
      "text/plain": [
       "<Figure size 432x288 with 1 Axes>"
      ]
     },
     "metadata": {
      "needs_background": "light"
     },
     "output_type": "display_data"
    }
   ],
   "source": [
    "sns.barplot(data=user_events, x = 'event_name', y= 'proportion, %')\\\n",
    "    .set(title = 'Доля пользователей, совершавших событие',xlabel = '', ylabel = \"Доля пользователей\" )\n",
    "plt.xticks(rotation = 45) # поворачиваем подписи по оси X для удобного прочтения графика\n",
    "plt.show()"
   ]
  },
  {
   "cell_type": "markdown",
   "id": "c481aa48",
   "metadata": {},
   "source": [
    "Проанализируем последовательность событий в воронке событий. За исключение обучения их последовательность соответствует графику выше, а именно \"Главный экран\" - \"Экран оффера\" - \"Экран корзины\" - \"Экран успешной оплаты\". "
   ]
  },
  {
   "cell_type": "markdown",
   "id": "64ddc194",
   "metadata": {},
   "source": [
    "Рассмотрим воронку событий и посчитаем, какая доля пользователей проходит на следующий шаг воронки (от числа пользователей на предыдущем)."
   ]
  },
  {
   "cell_type": "code",
   "execution_count": 33,
   "id": "7ef161b9",
   "metadata": {},
   "outputs": [
    {
     "data": {
      "text/html": [
       "<div>\n",
       "<style scoped>\n",
       "    .dataframe tbody tr th:only-of-type {\n",
       "        vertical-align: middle;\n",
       "    }\n",
       "\n",
       "    .dataframe tbody tr th {\n",
       "        vertical-align: top;\n",
       "    }\n",
       "\n",
       "    .dataframe thead th {\n",
       "        text-align: right;\n",
       "    }\n",
       "</style>\n",
       "<table border=\"1\" class=\"dataframe\">\n",
       "  <thead>\n",
       "    <tr style=\"text-align: right;\">\n",
       "      <th></th>\n",
       "      <th>event_name</th>\n",
       "      <th>nunique</th>\n",
       "      <th>proportion</th>\n",
       "      <th>prop_per_previous</th>\n",
       "    </tr>\n",
       "  </thead>\n",
       "  <tbody>\n",
       "    <tr>\n",
       "      <th>1</th>\n",
       "      <td>Main screen</td>\n",
       "      <td>7419</td>\n",
       "      <td>98.47</td>\n",
       "      <td>NaN</td>\n",
       "    </tr>\n",
       "    <tr>\n",
       "      <th>2</th>\n",
       "      <td>Offers screen</td>\n",
       "      <td>4593</td>\n",
       "      <td>60.96</td>\n",
       "      <td>61.91</td>\n",
       "    </tr>\n",
       "    <tr>\n",
       "      <th>0</th>\n",
       "      <td>Cart screen</td>\n",
       "      <td>3734</td>\n",
       "      <td>49.56</td>\n",
       "      <td>81.30</td>\n",
       "    </tr>\n",
       "    <tr>\n",
       "      <th>3</th>\n",
       "      <td>Payment screen</td>\n",
       "      <td>3539</td>\n",
       "      <td>46.97</td>\n",
       "      <td>94.78</td>\n",
       "    </tr>\n",
       "    <tr>\n",
       "      <th>4</th>\n",
       "      <td>Tutorial</td>\n",
       "      <td>840</td>\n",
       "      <td>11.15</td>\n",
       "      <td>23.74</td>\n",
       "    </tr>\n",
       "  </tbody>\n",
       "</table>\n",
       "</div>"
      ],
      "text/plain": [
       "       event_name  nunique  proportion  prop_per_previous\n",
       "1     Main screen     7419       98.47                NaN\n",
       "2   Offers screen     4593       60.96              61.91\n",
       "0     Cart screen     3734       49.56              81.30\n",
       "3  Payment screen     3539       46.97              94.78\n",
       "4        Tutorial      840       11.15              23.74"
      ]
     },
     "execution_count": 33,
     "metadata": {},
     "output_type": "execute_result"
    }
   ],
   "source": [
    "# еще раз сгруппируем датасет по событиям и уникальным пользователям\n",
    "funnel_unique = df.pivot_table(index = 'event_name', values = 'user_id', aggfunc = 'nunique')\\\n",
    "    .reset_index().sort_values(by = 'user_id', ascending = False)\n",
    "funnel_unique.columns = ['event_name','nunique']\n",
    "funnel_unique['proportion'] = round(funnel_unique['nunique']/df['user_id'].nunique()*100, 2)\n",
    "\n",
    "# и рассчитываем долю пользователей от числа пользователей на предыдущем этапе:\n",
    "\n",
    "funnel_unique['prop_per_previous'] = round(funnel_unique['nunique']/funnel_unique['nunique'].shift(1)*100, 2)\n",
    "funnel_unique"
   ]
  },
  {
   "cell_type": "markdown",
   "id": "bc37df66",
   "metadata": {},
   "source": [
    "Экран обучения открывается пользователями при возникновении отдельных вопросов/затруднений и не попадает в общую воронку. Представляется целесообразным исключить его из дальнейшего анализа воронки событий. Визуализируем воронку событий средствами библиотеки plotly:"
   ]
  },
  {
   "cell_type": "code",
   "execution_count": 1,
   "id": "1ae61b21",
   "metadata": {},
   "outputs": [
    {
     "ename": "NameError",
     "evalue": "name 'go' is not defined",
     "output_type": "error",
     "traceback": [
      "\u001b[0;31m---------------------------------------------------------------------------\u001b[0m",
      "\u001b[0;31mNameError\u001b[0m                                 Traceback (most recent call last)",
      "\u001b[0;32m/tmp/ipykernel_126/2920157521.py\u001b[0m in \u001b[0;36m<module>\u001b[0;34m\u001b[0m\n\u001b[0;32m----> 1\u001b[0;31m fig = go.Figure(go.Funnel(\n\u001b[0m\u001b[1;32m      2\u001b[0m     \u001b[0my\u001b[0m \u001b[0;34m=\u001b[0m \u001b[0;34m[\u001b[0m\u001b[0;34m\"Главный экран\"\u001b[0m\u001b[0;34m,\u001b[0m \u001b[0;34m\"Экран оффера\"\u001b[0m\u001b[0;34m,\u001b[0m \u001b[0;34m\"Экран корзины\"\u001b[0m\u001b[0;34m,\u001b[0m \u001b[0;34m\"Экран успешного платежа\"\u001b[0m\u001b[0;34m]\u001b[0m\u001b[0;34m,\u001b[0m\u001b[0;34m\u001b[0m\u001b[0;34m\u001b[0m\u001b[0m\n\u001b[1;32m      3\u001b[0m     \u001b[0mx\u001b[0m \u001b[0;34m=\u001b[0m \u001b[0mfunnel_unique\u001b[0m\u001b[0;34m[\u001b[0m\u001b[0;34m'nunique'\u001b[0m\u001b[0;34m]\u001b[0m\u001b[0;34m,\u001b[0m\u001b[0;34m\u001b[0m\u001b[0;34m\u001b[0m\u001b[0m\n\u001b[1;32m      4\u001b[0m     \u001b[0mtextposition\u001b[0m \u001b[0;34m=\u001b[0m \u001b[0;34m\"inside\"\u001b[0m\u001b[0;34m,\u001b[0m\u001b[0;34m\u001b[0m\u001b[0;34m\u001b[0m\u001b[0m\n\u001b[1;32m      5\u001b[0m     \u001b[0mtextinfo\u001b[0m \u001b[0;34m=\u001b[0m \u001b[0;34m'value+percent previous'\u001b[0m\u001b[0;34m,\u001b[0m\u001b[0;34m\u001b[0m\u001b[0;34m\u001b[0m\u001b[0m\n",
      "\u001b[0;31mNameError\u001b[0m: name 'go' is not defined"
     ]
    }
   ],
   "source": [
    "fig = go.Figure(go.Funnel(\n",
    "    y = [\"Главный экран\", \"Экран оффера\", \"Экран корзины\", \"Экран успешного платежа\"],\n",
    "    x = funnel_unique['nunique'],\n",
    "    textposition = \"inside\",\n",
    "    textinfo = 'value+percent previous',\n",
    "    opacity = 0.65, marker = {\"color\": [\"deepskyblue\", \"lightsalmon\", \"tan\", \"teal\", \"silver\"]}\n",
    "))\n",
    "fig.update_layout(title={\n",
    "        'text': \"Воронка событий\",\n",
    "        'y':0.9,\n",
    "        'x':0.5}\n",
    ")\n",
    "\n",
    "fig.show()"
   ]
  },
  {
   "cell_type": "markdown",
   "id": "76ff4d22",
   "metadata": {},
   "source": [
    "Больше всего пользователей теряется на первом шаге - появление главного экрана. Лишь 62% переходят на экран оффера - потеря составляет 38% пользователей. \n",
    "Посмотрим какая доля пользователей доходит от первого события до оплаты:"
   ]
  },
  {
   "cell_type": "code",
   "execution_count": 35,
   "id": "6f8ce98e",
   "metadata": {},
   "outputs": [
    {
     "data": {
      "application/vnd.plotly.v1+json": {
       "config": {
        "plotlyServerURL": "https://plot.ly"
       },
       "data": [
        {
         "marker": {
          "color": [
           "deepskyblue",
           "lightsalmon",
           "tan",
           "teal",
           "silver"
          ]
         },
         "opacity": 0.65,
         "textinfo": "value+percent initial",
         "textposition": "inside",
         "type": "funnel",
         "x": [
          7419,
          4593,
          3734,
          3539,
          840
         ],
         "y": [
          "Главный экран",
          "Экран оффера",
          "Экран корзины",
          "Экран успешного платежа"
         ]
        }
       ],
       "layout": {
        "template": {
         "data": {
          "bar": [
           {
            "error_x": {
             "color": "#2a3f5f"
            },
            "error_y": {
             "color": "#2a3f5f"
            },
            "marker": {
             "line": {
              "color": "#E5ECF6",
              "width": 0.5
             },
             "pattern": {
              "fillmode": "overlay",
              "size": 10,
              "solidity": 0.2
             }
            },
            "type": "bar"
           }
          ],
          "barpolar": [
           {
            "marker": {
             "line": {
              "color": "#E5ECF6",
              "width": 0.5
             },
             "pattern": {
              "fillmode": "overlay",
              "size": 10,
              "solidity": 0.2
             }
            },
            "type": "barpolar"
           }
          ],
          "carpet": [
           {
            "aaxis": {
             "endlinecolor": "#2a3f5f",
             "gridcolor": "white",
             "linecolor": "white",
             "minorgridcolor": "white",
             "startlinecolor": "#2a3f5f"
            },
            "baxis": {
             "endlinecolor": "#2a3f5f",
             "gridcolor": "white",
             "linecolor": "white",
             "minorgridcolor": "white",
             "startlinecolor": "#2a3f5f"
            },
            "type": "carpet"
           }
          ],
          "choropleth": [
           {
            "colorbar": {
             "outlinewidth": 0,
             "ticks": ""
            },
            "type": "choropleth"
           }
          ],
          "contour": [
           {
            "colorbar": {
             "outlinewidth": 0,
             "ticks": ""
            },
            "colorscale": [
             [
              0,
              "#0d0887"
             ],
             [
              0.1111111111111111,
              "#46039f"
             ],
             [
              0.2222222222222222,
              "#7201a8"
             ],
             [
              0.3333333333333333,
              "#9c179e"
             ],
             [
              0.4444444444444444,
              "#bd3786"
             ],
             [
              0.5555555555555556,
              "#d8576b"
             ],
             [
              0.6666666666666666,
              "#ed7953"
             ],
             [
              0.7777777777777778,
              "#fb9f3a"
             ],
             [
              0.8888888888888888,
              "#fdca26"
             ],
             [
              1,
              "#f0f921"
             ]
            ],
            "type": "contour"
           }
          ],
          "contourcarpet": [
           {
            "colorbar": {
             "outlinewidth": 0,
             "ticks": ""
            },
            "type": "contourcarpet"
           }
          ],
          "heatmap": [
           {
            "colorbar": {
             "outlinewidth": 0,
             "ticks": ""
            },
            "colorscale": [
             [
              0,
              "#0d0887"
             ],
             [
              0.1111111111111111,
              "#46039f"
             ],
             [
              0.2222222222222222,
              "#7201a8"
             ],
             [
              0.3333333333333333,
              "#9c179e"
             ],
             [
              0.4444444444444444,
              "#bd3786"
             ],
             [
              0.5555555555555556,
              "#d8576b"
             ],
             [
              0.6666666666666666,
              "#ed7953"
             ],
             [
              0.7777777777777778,
              "#fb9f3a"
             ],
             [
              0.8888888888888888,
              "#fdca26"
             ],
             [
              1,
              "#f0f921"
             ]
            ],
            "type": "heatmap"
           }
          ],
          "heatmapgl": [
           {
            "colorbar": {
             "outlinewidth": 0,
             "ticks": ""
            },
            "colorscale": [
             [
              0,
              "#0d0887"
             ],
             [
              0.1111111111111111,
              "#46039f"
             ],
             [
              0.2222222222222222,
              "#7201a8"
             ],
             [
              0.3333333333333333,
              "#9c179e"
             ],
             [
              0.4444444444444444,
              "#bd3786"
             ],
             [
              0.5555555555555556,
              "#d8576b"
             ],
             [
              0.6666666666666666,
              "#ed7953"
             ],
             [
              0.7777777777777778,
              "#fb9f3a"
             ],
             [
              0.8888888888888888,
              "#fdca26"
             ],
             [
              1,
              "#f0f921"
             ]
            ],
            "type": "heatmapgl"
           }
          ],
          "histogram": [
           {
            "marker": {
             "pattern": {
              "fillmode": "overlay",
              "size": 10,
              "solidity": 0.2
             }
            },
            "type": "histogram"
           }
          ],
          "histogram2d": [
           {
            "colorbar": {
             "outlinewidth": 0,
             "ticks": ""
            },
            "colorscale": [
             [
              0,
              "#0d0887"
             ],
             [
              0.1111111111111111,
              "#46039f"
             ],
             [
              0.2222222222222222,
              "#7201a8"
             ],
             [
              0.3333333333333333,
              "#9c179e"
             ],
             [
              0.4444444444444444,
              "#bd3786"
             ],
             [
              0.5555555555555556,
              "#d8576b"
             ],
             [
              0.6666666666666666,
              "#ed7953"
             ],
             [
              0.7777777777777778,
              "#fb9f3a"
             ],
             [
              0.8888888888888888,
              "#fdca26"
             ],
             [
              1,
              "#f0f921"
             ]
            ],
            "type": "histogram2d"
           }
          ],
          "histogram2dcontour": [
           {
            "colorbar": {
             "outlinewidth": 0,
             "ticks": ""
            },
            "colorscale": [
             [
              0,
              "#0d0887"
             ],
             [
              0.1111111111111111,
              "#46039f"
             ],
             [
              0.2222222222222222,
              "#7201a8"
             ],
             [
              0.3333333333333333,
              "#9c179e"
             ],
             [
              0.4444444444444444,
              "#bd3786"
             ],
             [
              0.5555555555555556,
              "#d8576b"
             ],
             [
              0.6666666666666666,
              "#ed7953"
             ],
             [
              0.7777777777777778,
              "#fb9f3a"
             ],
             [
              0.8888888888888888,
              "#fdca26"
             ],
             [
              1,
              "#f0f921"
             ]
            ],
            "type": "histogram2dcontour"
           }
          ],
          "mesh3d": [
           {
            "colorbar": {
             "outlinewidth": 0,
             "ticks": ""
            },
            "type": "mesh3d"
           }
          ],
          "parcoords": [
           {
            "line": {
             "colorbar": {
              "outlinewidth": 0,
              "ticks": ""
             }
            },
            "type": "parcoords"
           }
          ],
          "pie": [
           {
            "automargin": true,
            "type": "pie"
           }
          ],
          "scatter": [
           {
            "marker": {
             "colorbar": {
              "outlinewidth": 0,
              "ticks": ""
             }
            },
            "type": "scatter"
           }
          ],
          "scatter3d": [
           {
            "line": {
             "colorbar": {
              "outlinewidth": 0,
              "ticks": ""
             }
            },
            "marker": {
             "colorbar": {
              "outlinewidth": 0,
              "ticks": ""
             }
            },
            "type": "scatter3d"
           }
          ],
          "scattercarpet": [
           {
            "marker": {
             "colorbar": {
              "outlinewidth": 0,
              "ticks": ""
             }
            },
            "type": "scattercarpet"
           }
          ],
          "scattergeo": [
           {
            "marker": {
             "colorbar": {
              "outlinewidth": 0,
              "ticks": ""
             }
            },
            "type": "scattergeo"
           }
          ],
          "scattergl": [
           {
            "marker": {
             "colorbar": {
              "outlinewidth": 0,
              "ticks": ""
             }
            },
            "type": "scattergl"
           }
          ],
          "scattermapbox": [
           {
            "marker": {
             "colorbar": {
              "outlinewidth": 0,
              "ticks": ""
             }
            },
            "type": "scattermapbox"
           }
          ],
          "scatterpolar": [
           {
            "marker": {
             "colorbar": {
              "outlinewidth": 0,
              "ticks": ""
             }
            },
            "type": "scatterpolar"
           }
          ],
          "scatterpolargl": [
           {
            "marker": {
             "colorbar": {
              "outlinewidth": 0,
              "ticks": ""
             }
            },
            "type": "scatterpolargl"
           }
          ],
          "scatterternary": [
           {
            "marker": {
             "colorbar": {
              "outlinewidth": 0,
              "ticks": ""
             }
            },
            "type": "scatterternary"
           }
          ],
          "surface": [
           {
            "colorbar": {
             "outlinewidth": 0,
             "ticks": ""
            },
            "colorscale": [
             [
              0,
              "#0d0887"
             ],
             [
              0.1111111111111111,
              "#46039f"
             ],
             [
              0.2222222222222222,
              "#7201a8"
             ],
             [
              0.3333333333333333,
              "#9c179e"
             ],
             [
              0.4444444444444444,
              "#bd3786"
             ],
             [
              0.5555555555555556,
              "#d8576b"
             ],
             [
              0.6666666666666666,
              "#ed7953"
             ],
             [
              0.7777777777777778,
              "#fb9f3a"
             ],
             [
              0.8888888888888888,
              "#fdca26"
             ],
             [
              1,
              "#f0f921"
             ]
            ],
            "type": "surface"
           }
          ],
          "table": [
           {
            "cells": {
             "fill": {
              "color": "#EBF0F8"
             },
             "line": {
              "color": "white"
             }
            },
            "header": {
             "fill": {
              "color": "#C8D4E3"
             },
             "line": {
              "color": "white"
             }
            },
            "type": "table"
           }
          ]
         },
         "layout": {
          "annotationdefaults": {
           "arrowcolor": "#2a3f5f",
           "arrowhead": 0,
           "arrowwidth": 1
          },
          "autotypenumbers": "strict",
          "coloraxis": {
           "colorbar": {
            "outlinewidth": 0,
            "ticks": ""
           }
          },
          "colorscale": {
           "diverging": [
            [
             0,
             "#8e0152"
            ],
            [
             0.1,
             "#c51b7d"
            ],
            [
             0.2,
             "#de77ae"
            ],
            [
             0.3,
             "#f1b6da"
            ],
            [
             0.4,
             "#fde0ef"
            ],
            [
             0.5,
             "#f7f7f7"
            ],
            [
             0.6,
             "#e6f5d0"
            ],
            [
             0.7,
             "#b8e186"
            ],
            [
             0.8,
             "#7fbc41"
            ],
            [
             0.9,
             "#4d9221"
            ],
            [
             1,
             "#276419"
            ]
           ],
           "sequential": [
            [
             0,
             "#0d0887"
            ],
            [
             0.1111111111111111,
             "#46039f"
            ],
            [
             0.2222222222222222,
             "#7201a8"
            ],
            [
             0.3333333333333333,
             "#9c179e"
            ],
            [
             0.4444444444444444,
             "#bd3786"
            ],
            [
             0.5555555555555556,
             "#d8576b"
            ],
            [
             0.6666666666666666,
             "#ed7953"
            ],
            [
             0.7777777777777778,
             "#fb9f3a"
            ],
            [
             0.8888888888888888,
             "#fdca26"
            ],
            [
             1,
             "#f0f921"
            ]
           ],
           "sequentialminus": [
            [
             0,
             "#0d0887"
            ],
            [
             0.1111111111111111,
             "#46039f"
            ],
            [
             0.2222222222222222,
             "#7201a8"
            ],
            [
             0.3333333333333333,
             "#9c179e"
            ],
            [
             0.4444444444444444,
             "#bd3786"
            ],
            [
             0.5555555555555556,
             "#d8576b"
            ],
            [
             0.6666666666666666,
             "#ed7953"
            ],
            [
             0.7777777777777778,
             "#fb9f3a"
            ],
            [
             0.8888888888888888,
             "#fdca26"
            ],
            [
             1,
             "#f0f921"
            ]
           ]
          },
          "colorway": [
           "#636efa",
           "#EF553B",
           "#00cc96",
           "#ab63fa",
           "#FFA15A",
           "#19d3f3",
           "#FF6692",
           "#B6E880",
           "#FF97FF",
           "#FECB52"
          ],
          "font": {
           "color": "#2a3f5f"
          },
          "geo": {
           "bgcolor": "white",
           "lakecolor": "white",
           "landcolor": "#E5ECF6",
           "showlakes": true,
           "showland": true,
           "subunitcolor": "white"
          },
          "hoverlabel": {
           "align": "left"
          },
          "hovermode": "closest",
          "mapbox": {
           "style": "light"
          },
          "paper_bgcolor": "white",
          "plot_bgcolor": "#E5ECF6",
          "polar": {
           "angularaxis": {
            "gridcolor": "white",
            "linecolor": "white",
            "ticks": ""
           },
           "bgcolor": "#E5ECF6",
           "radialaxis": {
            "gridcolor": "white",
            "linecolor": "white",
            "ticks": ""
           }
          },
          "scene": {
           "xaxis": {
            "backgroundcolor": "#E5ECF6",
            "gridcolor": "white",
            "gridwidth": 2,
            "linecolor": "white",
            "showbackground": true,
            "ticks": "",
            "zerolinecolor": "white"
           },
           "yaxis": {
            "backgroundcolor": "#E5ECF6",
            "gridcolor": "white",
            "gridwidth": 2,
            "linecolor": "white",
            "showbackground": true,
            "ticks": "",
            "zerolinecolor": "white"
           },
           "zaxis": {
            "backgroundcolor": "#E5ECF6",
            "gridcolor": "white",
            "gridwidth": 2,
            "linecolor": "white",
            "showbackground": true,
            "ticks": "",
            "zerolinecolor": "white"
           }
          },
          "shapedefaults": {
           "line": {
            "color": "#2a3f5f"
           }
          },
          "ternary": {
           "aaxis": {
            "gridcolor": "white",
            "linecolor": "white",
            "ticks": ""
           },
           "baxis": {
            "gridcolor": "white",
            "linecolor": "white",
            "ticks": ""
           },
           "bgcolor": "#E5ECF6",
           "caxis": {
            "gridcolor": "white",
            "linecolor": "white",
            "ticks": ""
           }
          },
          "title": {
           "x": 0.05
          },
          "xaxis": {
           "automargin": true,
           "gridcolor": "white",
           "linecolor": "white",
           "ticks": "",
           "title": {
            "standoff": 15
           },
           "zerolinecolor": "white",
           "zerolinewidth": 2
          },
          "yaxis": {
           "automargin": true,
           "gridcolor": "white",
           "linecolor": "white",
           "ticks": "",
           "title": {
            "standoff": 15
           },
           "zerolinecolor": "white",
           "zerolinewidth": 2
          }
         }
        },
        "title": {
         "text": "Воронка событий от первого события до оплаты",
         "x": 0.5,
         "y": 0.9
        }
       }
      },
      "text/html": [
       "<div>                            <div id=\"e666d3b9-25d1-4919-8f7e-c5a09e11e780\" class=\"plotly-graph-div\" style=\"height:525px; width:100%;\"></div>            <script type=\"text/javascript\">                require([\"plotly\"], function(Plotly) {                    window.PLOTLYENV=window.PLOTLYENV || {};                                    if (document.getElementById(\"e666d3b9-25d1-4919-8f7e-c5a09e11e780\")) {                    Plotly.newPlot(                        \"e666d3b9-25d1-4919-8f7e-c5a09e11e780\",                        [{\"marker\":{\"color\":[\"deepskyblue\",\"lightsalmon\",\"tan\",\"teal\",\"silver\"]},\"opacity\":0.65,\"textinfo\":\"value+percent initial\",\"textposition\":\"inside\",\"x\":[7419,4593,3734,3539,840],\"y\":[\"\\u0413\\u043b\\u0430\\u0432\\u043d\\u044b\\u0439 \\u044d\\u043a\\u0440\\u0430\\u043d\",\"\\u042d\\u043a\\u0440\\u0430\\u043d \\u043e\\u0444\\u0444\\u0435\\u0440\\u0430\",\"\\u042d\\u043a\\u0440\\u0430\\u043d \\u043a\\u043e\\u0440\\u0437\\u0438\\u043d\\u044b\",\"\\u042d\\u043a\\u0440\\u0430\\u043d \\u0443\\u0441\\u043f\\u0435\\u0448\\u043d\\u043e\\u0433\\u043e \\u043f\\u043b\\u0430\\u0442\\u0435\\u0436\\u0430\"],\"type\":\"funnel\"}],                        {\"template\":{\"data\":{\"bar\":[{\"error_x\":{\"color\":\"#2a3f5f\"},\"error_y\":{\"color\":\"#2a3f5f\"},\"marker\":{\"line\":{\"color\":\"#E5ECF6\",\"width\":0.5},\"pattern\":{\"fillmode\":\"overlay\",\"size\":10,\"solidity\":0.2}},\"type\":\"bar\"}],\"barpolar\":[{\"marker\":{\"line\":{\"color\":\"#E5ECF6\",\"width\":0.5},\"pattern\":{\"fillmode\":\"overlay\",\"size\":10,\"solidity\":0.2}},\"type\":\"barpolar\"}],\"carpet\":[{\"aaxis\":{\"endlinecolor\":\"#2a3f5f\",\"gridcolor\":\"white\",\"linecolor\":\"white\",\"minorgridcolor\":\"white\",\"startlinecolor\":\"#2a3f5f\"},\"baxis\":{\"endlinecolor\":\"#2a3f5f\",\"gridcolor\":\"white\",\"linecolor\":\"white\",\"minorgridcolor\":\"white\",\"startlinecolor\":\"#2a3f5f\"},\"type\":\"carpet\"}],\"choropleth\":[{\"colorbar\":{\"outlinewidth\":0,\"ticks\":\"\"},\"type\":\"choropleth\"}],\"contour\":[{\"colorbar\":{\"outlinewidth\":0,\"ticks\":\"\"},\"colorscale\":[[0.0,\"#0d0887\"],[0.1111111111111111,\"#46039f\"],[0.2222222222222222,\"#7201a8\"],[0.3333333333333333,\"#9c179e\"],[0.4444444444444444,\"#bd3786\"],[0.5555555555555556,\"#d8576b\"],[0.6666666666666666,\"#ed7953\"],[0.7777777777777778,\"#fb9f3a\"],[0.8888888888888888,\"#fdca26\"],[1.0,\"#f0f921\"]],\"type\":\"contour\"}],\"contourcarpet\":[{\"colorbar\":{\"outlinewidth\":0,\"ticks\":\"\"},\"type\":\"contourcarpet\"}],\"heatmap\":[{\"colorbar\":{\"outlinewidth\":0,\"ticks\":\"\"},\"colorscale\":[[0.0,\"#0d0887\"],[0.1111111111111111,\"#46039f\"],[0.2222222222222222,\"#7201a8\"],[0.3333333333333333,\"#9c179e\"],[0.4444444444444444,\"#bd3786\"],[0.5555555555555556,\"#d8576b\"],[0.6666666666666666,\"#ed7953\"],[0.7777777777777778,\"#fb9f3a\"],[0.8888888888888888,\"#fdca26\"],[1.0,\"#f0f921\"]],\"type\":\"heatmap\"}],\"heatmapgl\":[{\"colorbar\":{\"outlinewidth\":0,\"ticks\":\"\"},\"colorscale\":[[0.0,\"#0d0887\"],[0.1111111111111111,\"#46039f\"],[0.2222222222222222,\"#7201a8\"],[0.3333333333333333,\"#9c179e\"],[0.4444444444444444,\"#bd3786\"],[0.5555555555555556,\"#d8576b\"],[0.6666666666666666,\"#ed7953\"],[0.7777777777777778,\"#fb9f3a\"],[0.8888888888888888,\"#fdca26\"],[1.0,\"#f0f921\"]],\"type\":\"heatmapgl\"}],\"histogram\":[{\"marker\":{\"pattern\":{\"fillmode\":\"overlay\",\"size\":10,\"solidity\":0.2}},\"type\":\"histogram\"}],\"histogram2d\":[{\"colorbar\":{\"outlinewidth\":0,\"ticks\":\"\"},\"colorscale\":[[0.0,\"#0d0887\"],[0.1111111111111111,\"#46039f\"],[0.2222222222222222,\"#7201a8\"],[0.3333333333333333,\"#9c179e\"],[0.4444444444444444,\"#bd3786\"],[0.5555555555555556,\"#d8576b\"],[0.6666666666666666,\"#ed7953\"],[0.7777777777777778,\"#fb9f3a\"],[0.8888888888888888,\"#fdca26\"],[1.0,\"#f0f921\"]],\"type\":\"histogram2d\"}],\"histogram2dcontour\":[{\"colorbar\":{\"outlinewidth\":0,\"ticks\":\"\"},\"colorscale\":[[0.0,\"#0d0887\"],[0.1111111111111111,\"#46039f\"],[0.2222222222222222,\"#7201a8\"],[0.3333333333333333,\"#9c179e\"],[0.4444444444444444,\"#bd3786\"],[0.5555555555555556,\"#d8576b\"],[0.6666666666666666,\"#ed7953\"],[0.7777777777777778,\"#fb9f3a\"],[0.8888888888888888,\"#fdca26\"],[1.0,\"#f0f921\"]],\"type\":\"histogram2dcontour\"}],\"mesh3d\":[{\"colorbar\":{\"outlinewidth\":0,\"ticks\":\"\"},\"type\":\"mesh3d\"}],\"parcoords\":[{\"line\":{\"colorbar\":{\"outlinewidth\":0,\"ticks\":\"\"}},\"type\":\"parcoords\"}],\"pie\":[{\"automargin\":true,\"type\":\"pie\"}],\"scatter\":[{\"marker\":{\"colorbar\":{\"outlinewidth\":0,\"ticks\":\"\"}},\"type\":\"scatter\"}],\"scatter3d\":[{\"line\":{\"colorbar\":{\"outlinewidth\":0,\"ticks\":\"\"}},\"marker\":{\"colorbar\":{\"outlinewidth\":0,\"ticks\":\"\"}},\"type\":\"scatter3d\"}],\"scattercarpet\":[{\"marker\":{\"colorbar\":{\"outlinewidth\":0,\"ticks\":\"\"}},\"type\":\"scattercarpet\"}],\"scattergeo\":[{\"marker\":{\"colorbar\":{\"outlinewidth\":0,\"ticks\":\"\"}},\"type\":\"scattergeo\"}],\"scattergl\":[{\"marker\":{\"colorbar\":{\"outlinewidth\":0,\"ticks\":\"\"}},\"type\":\"scattergl\"}],\"scattermapbox\":[{\"marker\":{\"colorbar\":{\"outlinewidth\":0,\"ticks\":\"\"}},\"type\":\"scattermapbox\"}],\"scatterpolar\":[{\"marker\":{\"colorbar\":{\"outlinewidth\":0,\"ticks\":\"\"}},\"type\":\"scatterpolar\"}],\"scatterpolargl\":[{\"marker\":{\"colorbar\":{\"outlinewidth\":0,\"ticks\":\"\"}},\"type\":\"scatterpolargl\"}],\"scatterternary\":[{\"marker\":{\"colorbar\":{\"outlinewidth\":0,\"ticks\":\"\"}},\"type\":\"scatterternary\"}],\"surface\":[{\"colorbar\":{\"outlinewidth\":0,\"ticks\":\"\"},\"colorscale\":[[0.0,\"#0d0887\"],[0.1111111111111111,\"#46039f\"],[0.2222222222222222,\"#7201a8\"],[0.3333333333333333,\"#9c179e\"],[0.4444444444444444,\"#bd3786\"],[0.5555555555555556,\"#d8576b\"],[0.6666666666666666,\"#ed7953\"],[0.7777777777777778,\"#fb9f3a\"],[0.8888888888888888,\"#fdca26\"],[1.0,\"#f0f921\"]],\"type\":\"surface\"}],\"table\":[{\"cells\":{\"fill\":{\"color\":\"#EBF0F8\"},\"line\":{\"color\":\"white\"}},\"header\":{\"fill\":{\"color\":\"#C8D4E3\"},\"line\":{\"color\":\"white\"}},\"type\":\"table\"}]},\"layout\":{\"annotationdefaults\":{\"arrowcolor\":\"#2a3f5f\",\"arrowhead\":0,\"arrowwidth\":1},\"autotypenumbers\":\"strict\",\"coloraxis\":{\"colorbar\":{\"outlinewidth\":0,\"ticks\":\"\"}},\"colorscale\":{\"diverging\":[[0,\"#8e0152\"],[0.1,\"#c51b7d\"],[0.2,\"#de77ae\"],[0.3,\"#f1b6da\"],[0.4,\"#fde0ef\"],[0.5,\"#f7f7f7\"],[0.6,\"#e6f5d0\"],[0.7,\"#b8e186\"],[0.8,\"#7fbc41\"],[0.9,\"#4d9221\"],[1,\"#276419\"]],\"sequential\":[[0.0,\"#0d0887\"],[0.1111111111111111,\"#46039f\"],[0.2222222222222222,\"#7201a8\"],[0.3333333333333333,\"#9c179e\"],[0.4444444444444444,\"#bd3786\"],[0.5555555555555556,\"#d8576b\"],[0.6666666666666666,\"#ed7953\"],[0.7777777777777778,\"#fb9f3a\"],[0.8888888888888888,\"#fdca26\"],[1.0,\"#f0f921\"]],\"sequentialminus\":[[0.0,\"#0d0887\"],[0.1111111111111111,\"#46039f\"],[0.2222222222222222,\"#7201a8\"],[0.3333333333333333,\"#9c179e\"],[0.4444444444444444,\"#bd3786\"],[0.5555555555555556,\"#d8576b\"],[0.6666666666666666,\"#ed7953\"],[0.7777777777777778,\"#fb9f3a\"],[0.8888888888888888,\"#fdca26\"],[1.0,\"#f0f921\"]]},\"colorway\":[\"#636efa\",\"#EF553B\",\"#00cc96\",\"#ab63fa\",\"#FFA15A\",\"#19d3f3\",\"#FF6692\",\"#B6E880\",\"#FF97FF\",\"#FECB52\"],\"font\":{\"color\":\"#2a3f5f\"},\"geo\":{\"bgcolor\":\"white\",\"lakecolor\":\"white\",\"landcolor\":\"#E5ECF6\",\"showlakes\":true,\"showland\":true,\"subunitcolor\":\"white\"},\"hoverlabel\":{\"align\":\"left\"},\"hovermode\":\"closest\",\"mapbox\":{\"style\":\"light\"},\"paper_bgcolor\":\"white\",\"plot_bgcolor\":\"#E5ECF6\",\"polar\":{\"angularaxis\":{\"gridcolor\":\"white\",\"linecolor\":\"white\",\"ticks\":\"\"},\"bgcolor\":\"#E5ECF6\",\"radialaxis\":{\"gridcolor\":\"white\",\"linecolor\":\"white\",\"ticks\":\"\"}},\"scene\":{\"xaxis\":{\"backgroundcolor\":\"#E5ECF6\",\"gridcolor\":\"white\",\"gridwidth\":2,\"linecolor\":\"white\",\"showbackground\":true,\"ticks\":\"\",\"zerolinecolor\":\"white\"},\"yaxis\":{\"backgroundcolor\":\"#E5ECF6\",\"gridcolor\":\"white\",\"gridwidth\":2,\"linecolor\":\"white\",\"showbackground\":true,\"ticks\":\"\",\"zerolinecolor\":\"white\"},\"zaxis\":{\"backgroundcolor\":\"#E5ECF6\",\"gridcolor\":\"white\",\"gridwidth\":2,\"linecolor\":\"white\",\"showbackground\":true,\"ticks\":\"\",\"zerolinecolor\":\"white\"}},\"shapedefaults\":{\"line\":{\"color\":\"#2a3f5f\"}},\"ternary\":{\"aaxis\":{\"gridcolor\":\"white\",\"linecolor\":\"white\",\"ticks\":\"\"},\"baxis\":{\"gridcolor\":\"white\",\"linecolor\":\"white\",\"ticks\":\"\"},\"bgcolor\":\"#E5ECF6\",\"caxis\":{\"gridcolor\":\"white\",\"linecolor\":\"white\",\"ticks\":\"\"}},\"title\":{\"x\":0.05},\"xaxis\":{\"automargin\":true,\"gridcolor\":\"white\",\"linecolor\":\"white\",\"ticks\":\"\",\"title\":{\"standoff\":15},\"zerolinecolor\":\"white\",\"zerolinewidth\":2},\"yaxis\":{\"automargin\":true,\"gridcolor\":\"white\",\"linecolor\":\"white\",\"ticks\":\"\",\"title\":{\"standoff\":15},\"zerolinecolor\":\"white\",\"zerolinewidth\":2}}},\"title\":{\"text\":\"\\u0412\\u043e\\u0440\\u043e\\u043d\\u043a\\u0430 \\u0441\\u043e\\u0431\\u044b\\u0442\\u0438\\u0439 \\u043e\\u0442 \\u043f\\u0435\\u0440\\u0432\\u043e\\u0433\\u043e \\u0441\\u043e\\u0431\\u044b\\u0442\\u0438\\u044f \\u0434\\u043e \\u043e\\u043f\\u043b\\u0430\\u0442\\u044b\",\"y\":0.9,\"x\":0.5}},                        {\"responsive\": true}                    ).then(function(){\n",
       "                            \n",
       "var gd = document.getElementById('e666d3b9-25d1-4919-8f7e-c5a09e11e780');\n",
       "var x = new MutationObserver(function (mutations, observer) {{\n",
       "        var display = window.getComputedStyle(gd).display;\n",
       "        if (!display || display === 'none') {{\n",
       "            console.log([gd, 'removed!']);\n",
       "            Plotly.purge(gd);\n",
       "            observer.disconnect();\n",
       "        }}\n",
       "}});\n",
       "\n",
       "// Listen for the removal of the full notebook cells\n",
       "var notebookContainer = gd.closest('#notebook-container');\n",
       "if (notebookContainer) {{\n",
       "    x.observe(notebookContainer, {childList: true});\n",
       "}}\n",
       "\n",
       "// Listen for the clearing of the current output cell\n",
       "var outputEl = gd.closest('.output');\n",
       "if (outputEl) {{\n",
       "    x.observe(outputEl, {childList: true});\n",
       "}}\n",
       "\n",
       "                        })                };                });            </script>        </div>"
      ]
     },
     "metadata": {},
     "output_type": "display_data"
    }
   ],
   "source": [
    "fig = go.Figure(go.Funnel(\n",
    "    y = [\"Главный экран\", \"Экран оффера\", \"Экран корзины\", \"Экран успешного платежа\"],\n",
    "    x = funnel_unique['nunique'],\n",
    "    textposition = \"inside\",\n",
    "    textinfo = 'value+percent initial',\n",
    "    opacity = 0.65, marker = {\"color\": [\"deepskyblue\", \"lightsalmon\", \"tan\", \"teal\", \"silver\"]}\n",
    "))\n",
    "fig.update_layout(title={\n",
    "        'text': \"Воронка событий от первого события до оплаты\",\n",
    "        'y':0.9,\n",
    "        'x':0.5}\n",
    ")\n",
    "\n",
    "fig.show()"
   ]
  },
  {
   "cell_type": "markdown",
   "id": "bb806bf2",
   "metadata": {},
   "source": [
    "48% пользователей, увидивших главный экран успешно оплачивают свой заказ. Это чуть меньше половины всех пользователей."
   ]
  },
  {
   "cell_type": "markdown",
   "id": "c1e9fd3b",
   "metadata": {},
   "source": [
    "# 4. Результаты эксперимента\n"
   ]
  },
  {
   "cell_type": "markdown",
   "id": "7045e4a4",
   "metadata": {},
   "source": [
    "Посмотрим распределение пользователей по группам:\n"
   ]
  },
  {
   "cell_type": "code",
   "execution_count": 36,
   "id": "280cef4a",
   "metadata": {},
   "outputs": [],
   "source": [
    "groups_qnt = df.groupby('group')['user_id'].nunique()"
   ]
  },
  {
   "cell_type": "code",
   "execution_count": 37,
   "id": "8b24ef88",
   "metadata": {},
   "outputs": [
    {
     "data": {
      "text/plain": [
       "group\n",
       "A1    2484\n",
       "A2    2513\n",
       "B     2537\n",
       "Name: user_id, dtype: int64"
      ]
     },
     "execution_count": 37,
     "metadata": {},
     "output_type": "execute_result"
    }
   ],
   "source": [
    "groups_qnt"
   ]
  },
  {
   "cell_type": "markdown",
   "id": "dd3c5572",
   "metadata": {},
   "source": [
    "У нас есть 2 контрольные группы для А/А-эксперимента, чтобы проверить корректность всех механизмов и расчётов. Проверим находят ли статистические критерии разницу между выборками А1 и А2. "
   ]
  },
  {
   "cell_type": "markdown",
   "id": "8d19db9a",
   "metadata": {},
   "source": [
    "Критериями успешного A/A-теста является следующее: \n",
    "<br>* Количество пользователей в различных группах различается не более, чем на 1%;\n",
    "<br>* Для всех групп фиксируют и отправляют в системы аналитики данные об одном и том же;\n",
    "<br>* Различие ключевых метрик по группам не превышает 1% и не имеет статистической значимости;\n",
    "<br>* Попавший в одну из групп посетитель остаётся в этой группе до конца теста."
   ]
  },
  {
   "cell_type": "code",
   "execution_count": 38,
   "id": "4ab24bb7",
   "metadata": {},
   "outputs": [
    {
     "name": "stdout",
     "output_type": "stream",
     "text": [
      "Количество пользователей в различных группах различается на 1.17 %\n"
     ]
    }
   ],
   "source": [
    "print ('Количество пользователей в различных группах различается на', round(groups_qnt['A2']/groups_qnt['A1']*100 - 100,2 ), '%')"
   ]
  },
  {
   "cell_type": "markdown",
   "id": "1c316ec1",
   "metadata": {},
   "source": [
    "Этот показатель чуть выше 1%, но разница не является значимой, принимаем решение считать критерий пройденным."
   ]
  },
  {
   "cell_type": "markdown",
   "id": "b7df5073",
   "metadata": {},
   "source": [
    "Теперь посмотрим все ли участники A/B-теста попали только в одну группу."
   ]
  },
  {
   "cell_type": "code",
   "execution_count": 39,
   "id": "978bce87",
   "metadata": {
    "scrolled": true
   },
   "outputs": [
    {
     "data": {
      "text/plain": [
       "user_id\n",
       "6888746892508752       1\n",
       "6204944347213293942    1\n",
       "6215559225876063378    1\n",
       "6215162890135937308    1\n",
       "6213626876710715478    1\n",
       "                      ..\n",
       "3171454373076660766    1\n",
       "3170212200647575044    1\n",
       "3167974726645136146    1\n",
       "3167390091686880227    1\n",
       "9222603179720523844    1\n",
       "Name: group, Length: 7534, dtype: int64"
      ]
     },
     "execution_count": 39,
     "metadata": {},
     "output_type": "execute_result"
    }
   ],
   "source": [
    "df.groupby('user_id')['group'].nunique().sort_values(ascending = False)"
   ]
  },
  {
   "cell_type": "markdown",
   "id": "f4d9ce04",
   "metadata": {},
   "source": [
    "Все участники попали только в одну группу. "
   ]
  },
  {
   "cell_type": "markdown",
   "id": "da3df51a",
   "metadata": {},
   "source": [
    "Определим самые популярные события. Посчитаем число пользователей, совершивших это событие в каждой из контрольных групп. Проверим, будет ли отличие между группами статистически достоверным. "
   ]
  },
  {
   "cell_type": "code",
   "execution_count": 41,
   "id": "9251a5aa",
   "metadata": {},
   "outputs": [
    {
     "data": {
      "text/html": [
       "<div>\n",
       "<style scoped>\n",
       "    .dataframe tbody tr th:only-of-type {\n",
       "        vertical-align: middle;\n",
       "    }\n",
       "\n",
       "    .dataframe tbody tr th {\n",
       "        vertical-align: top;\n",
       "    }\n",
       "\n",
       "    .dataframe thead th {\n",
       "        text-align: right;\n",
       "    }\n",
       "</style>\n",
       "<table border=\"1\" class=\"dataframe\">\n",
       "  <thead>\n",
       "    <tr style=\"text-align: right;\">\n",
       "      <th>group</th>\n",
       "      <th>event_name</th>\n",
       "      <th>A1</th>\n",
       "      <th>A2</th>\n",
       "      <th>B</th>\n",
       "      <th>A1/A2</th>\n",
       "    </tr>\n",
       "  </thead>\n",
       "  <tbody>\n",
       "    <tr>\n",
       "      <th>0</th>\n",
       "      <td>Cart screen</td>\n",
       "      <td>1266</td>\n",
       "      <td>1238</td>\n",
       "      <td>1230</td>\n",
       "      <td>2504</td>\n",
       "    </tr>\n",
       "    <tr>\n",
       "      <th>1</th>\n",
       "      <td>Main screen</td>\n",
       "      <td>2450</td>\n",
       "      <td>2476</td>\n",
       "      <td>2493</td>\n",
       "      <td>4926</td>\n",
       "    </tr>\n",
       "    <tr>\n",
       "      <th>2</th>\n",
       "      <td>Offers screen</td>\n",
       "      <td>1542</td>\n",
       "      <td>1520</td>\n",
       "      <td>1531</td>\n",
       "      <td>3062</td>\n",
       "    </tr>\n",
       "    <tr>\n",
       "      <th>3</th>\n",
       "      <td>Payment screen</td>\n",
       "      <td>1200</td>\n",
       "      <td>1158</td>\n",
       "      <td>1181</td>\n",
       "      <td>2358</td>\n",
       "    </tr>\n",
       "    <tr>\n",
       "      <th>4</th>\n",
       "      <td>Tutorial</td>\n",
       "      <td>278</td>\n",
       "      <td>283</td>\n",
       "      <td>279</td>\n",
       "      <td>561</td>\n",
       "    </tr>\n",
       "  </tbody>\n",
       "</table>\n",
       "</div>"
      ],
      "text/plain": [
       "group      event_name    A1    A2     B  A1/A2\n",
       "0         Cart screen  1266  1238  1230   2504\n",
       "1         Main screen  2450  2476  2493   4926\n",
       "2       Offers screen  1542  1520  1531   3062\n",
       "3      Payment screen  1200  1158  1181   2358\n",
       "4            Tutorial   278   283   279    561"
      ]
     },
     "execution_count": 41,
     "metadata": {},
     "output_type": "execute_result"
    }
   ],
   "source": [
    "# сделаем отдельную сводную табличку для дальнейшего анализа, сразу добавим общую контрольную группу A1+A2 \n",
    "\n",
    "groups_all = df.pivot_table(index = 'event_name', columns = 'group', values = 'user_id', aggfunc = 'nunique')\\\n",
    "    .reset_index()\n",
    "groups_all['A1/A2'] = groups_all['A1'] + groups_all['A2']\n",
    "groups_all"
   ]
  },
  {
   "cell_type": "markdown",
   "id": "04bfc8b3",
   "metadata": {},
   "source": [
    "Самое популярное событие - главный экран. Рассчитаем будет ли отличие между группами статистически достоверным.\n",
    "\n",
    "<br> Формулируем нулевую гипотезу H0 - между группами нет отличий в доле пользователей, совершивших событие\n",
    "<br> Гипотеза H1 - между группами есть отличия в доле пользователей, совершивших событие"
   ]
  },
  {
   "cell_type": "code",
   "execution_count": 42,
   "id": "8f77ab73",
   "metadata": {},
   "outputs": [
    {
     "name": "stdout",
     "output_type": "stream",
     "text": [
      "p-значение:  [0.75705972]\n",
      "Не получилось отвергнуть нулевую гипотезу, нет оснований считать группы разными\n"
     ]
    }
   ],
   "source": [
    "alpha = .05 # задаем критический уровень статистической значимости\n",
    "\n",
    "# считаем количество пользователей, совершивших событие:\n",
    "successes = [groups_all.query('event_name == \"Main screen\"')['A1'],groups_all.query('event_name == \"Main screen\"')\\\n",
    "             ['A2']]\n",
    "# и сколько всего пользователей в группе:\n",
    "trials = [groups_qnt['A1'], groups_qnt['A2']]\n",
    "\n",
    "# пропорция успехов в первой группе:\n",
    "p1 = successes[0]/trials[0]\n",
    "\n",
    "# пропорция успехов во второй группе:\n",
    "p2 = successes[1]/trials[1]\n",
    "\n",
    "# пропорция успехов в комбинированном датасете:\n",
    "p_combined = (successes[0] + successes[1]) / (trials[0] + trials[1])\n",
    "\n",
    "# разница пропорций в датасетах\n",
    "difference = p1 - p2 \n",
    "# считаем статистику в ст.отклонениях стандартного нормального распределения\n",
    "z_value = difference / mth.sqrt(p_combined * (1 - p_combined) * (1/trials[0] + 1/trials[1]))\n",
    "\n",
    "# задаем стандартное нормальное распределение (среднее 0, ст.отклонение 1)\n",
    "distr = st.norm(0, 1)  \n",
    "p_value = (1 - distr.cdf(abs(z_value))) * 2\n",
    "    # поменяли список событий на вариант без обучения\n",
    "print('p-значение: ', p_value)\n",
    "\n",
    "if p_value < alpha:\n",
    "    print('Отвергаем нулевую гипотезу: между группами есть значимая разница')\n",
    "else:\n",
    "    print(\n",
    "        'Не получилось отвергнуть нулевую гипотезу, нет оснований считать группы разными'\n",
    "    ) "
   ]
  },
  {
   "cell_type": "markdown",
   "id": "86f89ced",
   "metadata": {},
   "source": [
    "Для проверки всех остальных событий сделаем список из всех событий и запустим по нему цикл, который проходится по событиям и подставляет их в расчет:"
   ]
  },
  {
   "cell_type": "code",
   "execution_count": 43,
   "id": "ee41289f",
   "metadata": {},
   "outputs": [
    {
     "data": {
      "text/plain": [
       "['Main screen', 'Offers screen', 'Cart screen', 'Payment screen']"
      ]
     },
     "execution_count": 43,
     "metadata": {},
     "output_type": "execute_result"
    }
   ],
   "source": [
    "event_list = list(df['event_name'].unique())\n",
    "event_list_without_tutorial = ['Main screen', 'Offers screen', 'Cart screen', 'Payment screen']\n",
    "event_list_without_tutorial"
   ]
  },
  {
   "cell_type": "code",
   "execution_count": 44,
   "id": "e858b6b4",
   "metadata": {
    "scrolled": true
   },
   "outputs": [
    {
     "name": "stdout",
     "output_type": "stream",
     "text": [
      "p-значение:  [0.75705972]\n",
      "Не получилось отвергнуть нулевую гипотезу, нет оснований считать группы разными\n",
      "p-значение:  [0.24809546]\n",
      "Не получилось отвергнуть нулевую гипотезу, нет оснований считать группы разными\n",
      "p-значение:  [0.22883372]\n",
      "Не получилось отвергнуть нулевую гипотезу, нет оснований считать группы разными\n",
      "p-значение:  [0.11456679]\n",
      "Не получилось отвергнуть нулевую гипотезу, нет оснований считать группы разными\n"
     ]
    }
   ],
   "source": [
    "for i in event_list_without_tutorial:\n",
    "    alpha = .05 # критический уровень статистической значимости\n",
    "    successes = [groups_all.query('event_name == @i')['A1'],groups_all.query('event_name == @i')\\\n",
    "             ['A2']]\n",
    "    trials = [groups_qnt['A1'], groups_qnt['A2']]\n",
    "\n",
    "    # пропорция успехов в первой группе:\n",
    "    p1 = successes[0]/trials[0]\n",
    "\n",
    "    # пропорция успехов во второй группе:\n",
    "    p2 = successes[1]/trials[1]\n",
    "\n",
    "    # пропорция успехов в комбинированном датасете:\n",
    "    p_combined = (successes[0] + successes[1]) / (trials[0] + trials[1])\n",
    "\n",
    "    # разница пропорций в датасетах\n",
    "    difference = p1 - p2 \n",
    "    # считаем статистику в ст.отклонениях стандартного нормального распределения\n",
    "    z_value = difference / mth.sqrt(p_combined * (1 - p_combined) * (1/trials[0] + 1/trials[1]))\n",
    "\n",
    "    # задаем стандартное нормальное распределение (среднее 0, ст.отклонение 1)\n",
    "    distr = st.norm(0, 1)  \n",
    "    p_value = (1 - distr.cdf(abs(z_value))) * 2\n",
    "\n",
    "    print('p-значение: ', p_value)\n",
    "\n",
    "    if p_value < alpha:\n",
    "        print('Отвергаем нулевую гипотезу: между группами есть значимая разница')\n",
    "    else:\n",
    "        print(\n",
    "            'Не получилось отвергнуть нулевую гипотезу, нет оснований считать группы разными'\n",
    "        ) "
   ]
  },
  {
   "cell_type": "markdown",
   "id": "51f7bf27",
   "metadata": {},
   "source": [
    "Аналогично поступим с группой с изменённым шрифтом B. Сравним результаты с каждой из контрольных групп в отдельности по каждому событию. \n",
    "Сравним результаты с объединённой контрольной группой. "
   ]
  },
  {
   "cell_type": "code",
   "execution_count": 45,
   "id": "9008e865",
   "metadata": {},
   "outputs": [
    {
     "data": {
      "text/plain": [
       "group\n",
       "A1       2484\n",
       "A2       2513\n",
       "B        2537\n",
       "A1/A2    4997\n",
       "Name: user_id, dtype: int64"
      ]
     },
     "execution_count": 45,
     "metadata": {},
     "output_type": "execute_result"
    }
   ],
   "source": [
    "# добавим данные по общей контрольной группе в табличку, которая хранит агрегированные данные по общему кол-ву пользователей в группах\n",
    "\n",
    "groups_qnt.loc['A1/A2'] = groups_qnt[0]+groups_qnt[1]\n",
    "groups_qnt"
   ]
  },
  {
   "cell_type": "markdown",
   "id": "4ca4ff97",
   "metadata": {},
   "source": [
    "Поместим цикл в функцию, аргументами которого будут выступать названия групп и уровень статистической значимости. Тк мы планируем провести множественные тестирования гипотез, то чтобы снизить вероятность ложнопозитивного результата при множественном тестировании гипотез применим метод корректировки уровня значимости - поправку Бонферрони. Для этого уровень значимости alpha на число гипотез. Мы планируем проводить сравнения 4 групп (A1, A2, B и A1+A2) по пяти событиям - соответственно наша поправка Бонферрони будет 20. !Upd - финальный вариант - исключаем tutorial, поправка становится 16\n",
    "Поправку также добавим в цикло агрументов функции </div>"
   ]
  },
  {
   "cell_type": "code",
   "execution_count": 46,
   "id": "7aae37eb",
   "metadata": {},
   "outputs": [],
   "source": [
    "def stat_check_bonf (group_1, group_2, alpha, bonferroni):\n",
    "    for i in event_list_without_tutorial:  # поменяли список событий на вариант без обучения\n",
    "        successes = [groups_all.query('event_name == @i')[group_1],groups_all.query('event_name == @i')\\\n",
    "                 [group_2]]\n",
    "        trials = [groups_qnt[group_1], groups_qnt[group_2]]\n",
    "\n",
    "        # пропорция успехов в первой группе:\n",
    "        p1 = successes[0]/trials[0]\n",
    "\n",
    "        # пропорция успехов во второй группе:\n",
    "        p2 = successes[1]/trials[1]\n",
    "\n",
    "        # пропорция успехов в комбинированном датасете:\n",
    "        p_combined = (successes[0] + successes[1]) / (trials[0] + trials[1])\n",
    "\n",
    "        # разница пропорций в датасетах\n",
    "        difference = p1 - p2 \n",
    "        # считаем статистику в ст.отклонениях стандартного нормального распределения\n",
    "        z_value = difference / mth.sqrt(p_combined * (1 - p_combined) * (1/trials[0] + 1/trials[1]))\n",
    "\n",
    "        # задаем стандартное нормальное распределение (среднее 0, ст.отклонение 1)\n",
    "        distr = st.norm(0, 1)  \n",
    "        p_value = (1 - distr.cdf(abs(z_value))) * 2\n",
    "\n",
    "        print ('Сравниваем группу', group_1, 'и', group_2, 'событие', i, ':')\n",
    "        print('p-значение: ', p_value)\n",
    "\n",
    "        if p_value < alpha/bonferroni:\n",
    "            print('Отвергаем нулевую гипотезу: между группами есть значимая разница')\n",
    "        else:\n",
    "            print(\n",
    "                'Не получилось отвергнуть нулевую гипотезу, нет оснований считать группы разными'\n",
    "            ) "
   ]
  },
  {
   "cell_type": "code",
   "execution_count": 47,
   "id": "ecd78a9c",
   "metadata": {},
   "outputs": [
    {
     "name": "stdout",
     "output_type": "stream",
     "text": [
      "Сравниваем группу A1 и A2 событие Main screen :\n",
      "p-значение:  [0.75705972]\n",
      "Не получилось отвергнуть нулевую гипотезу, нет оснований считать группы разными\n",
      "Сравниваем группу A1 и A2 событие Offers screen :\n",
      "p-значение:  [0.24809546]\n",
      "Не получилось отвергнуть нулевую гипотезу, нет оснований считать группы разными\n",
      "Сравниваем группу A1 и A2 событие Cart screen :\n",
      "p-значение:  [0.22883372]\n",
      "Не получилось отвергнуть нулевую гипотезу, нет оснований считать группы разными\n",
      "Сравниваем группу A1 и A2 событие Payment screen :\n",
      "p-значение:  [0.11456679]\n",
      "Не получилось отвергнуть нулевую гипотезу, нет оснований считать группы разными\n"
     ]
    }
   ],
   "source": [
    "stat_check_bonf ('A1', 'A2', 0.05, 16)"
   ]
  },
  {
   "cell_type": "markdown",
   "id": "a5d202e1",
   "metadata": {},
   "source": [
    "Результаты не изменились, даже с применением поправки. Теперь сравним каждую из контрольных групп с группой с измененным шрифтом (B)"
   ]
  },
  {
   "cell_type": "code",
   "execution_count": 48,
   "id": "a7e91cb0",
   "metadata": {},
   "outputs": [
    {
     "name": "stdout",
     "output_type": "stream",
     "text": [
      "Сравниваем группу A1 и B событие Main screen :\n",
      "p-значение:  [0.29497219]\n",
      "Не получилось отвергнуть нулевую гипотезу, нет оснований считать группы разными\n",
      "Сравниваем группу A1 и B событие Offers screen :\n",
      "p-значение:  [0.20836205]\n",
      "Не получилось отвергнуть нулевую гипотезу, нет оснований считать группы разными\n",
      "Сравниваем группу A1 и B событие Cart screen :\n",
      "p-значение:  [0.07842923]\n",
      "Не получилось отвергнуть нулевую гипотезу, нет оснований считать группы разными\n",
      "Сравниваем группу A1 и B событие Payment screen :\n",
      "p-значение:  [0.21225533]\n",
      "Не получилось отвергнуть нулевую гипотезу, нет оснований считать группы разными\n"
     ]
    }
   ],
   "source": [
    "stat_check_bonf ('A1', 'B', 0.05, 16)"
   ]
  },
  {
   "cell_type": "code",
   "execution_count": 49,
   "id": "7aa0a227",
   "metadata": {},
   "outputs": [
    {
     "name": "stdout",
     "output_type": "stream",
     "text": [
      "Сравниваем группу A2 и B событие Main screen :\n",
      "p-значение:  [0.45870536]\n",
      "Не получилось отвергнуть нулевую гипотезу, нет оснований считать группы разными\n",
      "Сравниваем группу A2 и B событие Offers screen :\n",
      "p-значение:  [0.91978178]\n",
      "Не получилось отвергнуть нулевую гипотезу, нет оснований считать группы разными\n",
      "Сравниваем группу A2 и B событие Cart screen :\n",
      "p-значение:  [0.57861979]\n",
      "Не получилось отвергнуть нулевую гипотезу, нет оснований считать группы разными\n",
      "Сравниваем группу A2 и B событие Payment screen :\n",
      "p-значение:  [0.73734151]\n",
      "Не получилось отвергнуть нулевую гипотезу, нет оснований считать группы разными\n"
     ]
    }
   ],
   "source": [
    "stat_check_bonf ('A2', 'B', 0.05, 16)"
   ]
  },
  {
   "cell_type": "markdown",
   "id": "1a84b4e9",
   "metadata": {},
   "source": [
    "И с объединенной контрольной группой:"
   ]
  },
  {
   "cell_type": "code",
   "execution_count": 50,
   "id": "6327b12e",
   "metadata": {},
   "outputs": [
    {
     "name": "stdout",
     "output_type": "stream",
     "text": [
      "Сравниваем группу A1/A2 и B событие Main screen :\n",
      "p-значение:  [0.29424527]\n",
      "Не получилось отвергнуть нулевую гипотезу, нет оснований считать группы разными\n",
      "Сравниваем группу A1/A2 и B событие Offers screen :\n",
      "p-значение:  [0.4342555]\n",
      "Не получилось отвергнуть нулевую гипотезу, нет оснований считать группы разными\n",
      "Сравниваем группу A1/A2 и B событие Cart screen :\n",
      "p-значение:  [0.18175875]\n",
      "Не получилось отвергнуть нулевую гипотезу, нет оснований считать группы разными\n",
      "Сравниваем группу A1/A2 и B событие Payment screen :\n",
      "p-значение:  [0.60042943]\n",
      "Не получилось отвергнуть нулевую гипотезу, нет оснований считать группы разными\n"
     ]
    }
   ],
   "source": [
    "stat_check_bonf ('A1/A2', 'B', 0.05, 16)"
   ]
  },
  {
   "cell_type": "markdown",
   "id": "cec9e540",
   "metadata": {},
   "source": [
    "Всего мы произвели 16 статистических проверок и не одна из из не показала, что можно сделать вывод о различии долей генеральных совокупностей. Изменение шрифта никак не сказалось на дальнейшей конверсии пользователей мобильного приложения."
   ]
  },
  {
   "cell_type": "markdown",
   "id": "b8c0e45a",
   "metadata": {},
   "source": [
    "# 5. Выводы и рекомендации"
   ]
  },
  {
   "cell_type": "markdown",
   "id": "4d9adb2c",
   "metadata": {},
   "source": [
    "В результате проведенного исследования предоставленные данные были обработаны и проанализированы. Представляется возможным сделать следующие выводы:\n",
    "1. В проанализированном за период 1-07.08.2019 логе представлены данные о 240887 событиях в приложении, произведенных 7534 пользователями\n",
    "2. В среднем один пользователь совершал около 12 действий в приложении\n",
    "3. Воронка событий выглядит следующим образом: \"Главный экран\" - \"Экран оффера\" - \"Экран корзины\" - \"Экран успешной оплаты\". Событие \"Обучение\" является самым малочисленным и выбивается из воронки событий, к обучению пользователи могут обратиться в любой момент, при возникновении сложных ситуаций\n",
    "4. Самый большой процент потерь наблюдается при переходе с \"Главного экрана\" - 38% пользователей теряются на этом этапе и не переходят к офферам\n",
    "5. Примерно половина пользователей проходит полную воронку событий - от \"Главного экрана\" до \"Успешной оплаты\"\n",
    "6. Проведенный A/A/B-эксперимент показал, что изменение шрифтов никак не повлияло на пользовательское поведение. Таким образом опасения менеджеров \"отпугнуть клиентов\" не оправдались - дизайнеры могут изменить шрифты в приложении. Всего было проведено 16 статистических проверок\n",
    "\n",
    "**Рекомендации:**\n",
    "    <br>  До успешной оплаты заказа доходит чуть менее половины пользователей - это не очень высокий показатель, учитывая специфику предмета анализа (пользователь уже установил наше интернет-приложение и зашел в него - уровень заинтересованности велик). Анализ воронки событий позволяет сделать две рекомендации:\n",
    "1. Для повышения уровня конверсии пользователей приложения рекомендуется обратить внимание на \"Экран Оффера\" - 38% пользователей теряются при переходе на него с \"Главного экрана\" - возможно стоит разработать идеи повышения привлекательности этого раздела\n",
    "2. Обратить внимание на 5% пользователей, которые теряются при переходе от события \"Экран корзины\" к \"Экрану успешной оплаты\". Возможно стоит расширить количество возможных методов оплаты, кроме того следует исключить возможность наличия технических неисправностей.\n",
    "3. Предлагаемое изменение шрифтов в приложении возможно - оно не ухудшит показатели конверсии, но и не улучшит их. Возможно стоит продолжить разработку шрифтов и поискать вариант, который будет способствовать увеличению конверсии пользователей в покупателей."
   ]
  }
 ],
 "metadata": {
  "ExecuteTimeLog": [
   {
    "duration": 1634,
    "start_time": "2023-04-13T11:24:25.440Z"
   },
   {
    "duration": 327,
    "start_time": "2023-04-13T11:24:27.076Z"
   },
   {
    "duration": 38,
    "start_time": "2023-04-13T11:24:27.405Z"
   },
   {
    "duration": 17,
    "start_time": "2023-04-13T11:24:27.450Z"
   },
   {
    "duration": 4,
    "start_time": "2023-04-13T11:24:27.469Z"
   },
   {
    "duration": 68,
    "start_time": "2023-04-13T11:24:27.475Z"
   },
   {
    "duration": 64,
    "start_time": "2023-04-13T11:24:27.545Z"
   },
   {
    "duration": 11,
    "start_time": "2023-04-13T11:24:27.612Z"
   },
   {
    "duration": 32,
    "start_time": "2023-04-13T11:24:27.625Z"
   },
   {
    "duration": 31,
    "start_time": "2023-04-13T11:24:27.661Z"
   },
   {
    "duration": 67,
    "start_time": "2023-04-13T11:24:27.693Z"
   },
   {
    "duration": 101,
    "start_time": "2023-04-13T11:24:27.763Z"
   },
   {
    "duration": 229,
    "start_time": "2023-04-13T11:24:27.865Z"
   },
   {
    "duration": 57,
    "start_time": "2023-04-13T11:24:28.095Z"
   },
   {
    "duration": 35,
    "start_time": "2023-04-13T11:24:28.154Z"
   },
   {
    "duration": 39,
    "start_time": "2023-04-13T11:24:28.191Z"
   },
   {
    "duration": 88,
    "start_time": "2023-04-13T11:24:28.232Z"
   },
   {
    "duration": 43,
    "start_time": "2023-04-13T11:24:28.322Z"
   },
   {
    "duration": 7,
    "start_time": "2023-04-13T11:24:28.368Z"
   },
   {
    "duration": 496,
    "start_time": "2023-04-13T11:24:28.377Z"
   },
   {
    "duration": 19,
    "start_time": "2023-04-13T11:24:28.875Z"
   },
   {
    "duration": 59,
    "start_time": "2023-04-13T11:24:28.896Z"
   },
   {
    "duration": 428,
    "start_time": "2023-04-13T11:24:28.957Z"
   },
   {
    "duration": 44,
    "start_time": "2023-04-13T11:24:29.388Z"
   },
   {
    "duration": 49,
    "start_time": "2023-04-13T11:24:29.434Z"
   },
   {
    "duration": 9,
    "start_time": "2023-04-13T11:24:29.485Z"
   },
   {
    "duration": 104,
    "start_time": "2023-04-13T11:24:29.496Z"
   },
   {
    "duration": 95,
    "start_time": "2023-04-13T11:24:29.604Z"
   },
   {
    "duration": 322,
    "start_time": "2023-04-13T11:24:29.701Z"
   },
   {
    "duration": 130,
    "start_time": "2023-04-13T11:24:30.025Z"
   },
   {
    "duration": 412,
    "start_time": "2023-04-13T11:24:30.157Z"
   },
   {
    "duration": 16,
    "start_time": "2023-04-13T11:24:30.571Z"
   },
   {
    "duration": 119,
    "start_time": "2023-04-13T11:24:30.614Z"
   },
   {
    "duration": 27,
    "start_time": "2023-04-13T11:24:30.734Z"
   },
   {
    "duration": 63,
    "start_time": "2023-04-13T11:24:30.763Z"
   },
   {
    "duration": 100,
    "start_time": "2023-04-13T11:24:30.828Z"
   },
   {
    "duration": 241,
    "start_time": "2023-04-13T11:24:30.929Z"
   },
   {
    "duration": 0,
    "start_time": "2023-04-13T11:24:31.172Z"
   },
   {
    "duration": 0,
    "start_time": "2023-04-13T11:24:31.174Z"
   },
   {
    "duration": 0,
    "start_time": "2023-04-13T11:24:31.176Z"
   },
   {
    "duration": 0,
    "start_time": "2023-04-13T11:24:31.178Z"
   },
   {
    "duration": 0,
    "start_time": "2023-04-13T11:24:31.180Z"
   },
   {
    "duration": 0,
    "start_time": "2023-04-13T11:24:31.181Z"
   },
   {
    "duration": 0,
    "start_time": "2023-04-13T11:24:31.183Z"
   },
   {
    "duration": 0,
    "start_time": "2023-04-13T11:24:31.185Z"
   },
   {
    "duration": 0,
    "start_time": "2023-04-13T11:24:31.215Z"
   },
   {
    "duration": 53,
    "start_time": "2023-04-13T11:53:38.542Z"
   },
   {
    "duration": 1571,
    "start_time": "2023-04-13T11:53:43.606Z"
   },
   {
    "duration": 962,
    "start_time": "2023-04-13T11:53:45.180Z"
   },
   {
    "duration": 21,
    "start_time": "2023-04-13T11:53:46.143Z"
   },
   {
    "duration": 14,
    "start_time": "2023-04-13T11:53:46.166Z"
   },
   {
    "duration": 4,
    "start_time": "2023-04-13T11:53:46.183Z"
   },
   {
    "duration": 70,
    "start_time": "2023-04-13T11:53:46.189Z"
   },
   {
    "duration": 49,
    "start_time": "2023-04-13T11:53:46.261Z"
   },
   {
    "duration": 11,
    "start_time": "2023-04-13T11:53:46.312Z"
   },
   {
    "duration": 24,
    "start_time": "2023-04-13T11:53:46.328Z"
   },
   {
    "duration": 20,
    "start_time": "2023-04-13T11:53:46.354Z"
   },
   {
    "duration": 41,
    "start_time": "2023-04-13T11:53:46.376Z"
   },
   {
    "duration": 115,
    "start_time": "2023-04-13T11:53:46.419Z"
   },
   {
    "duration": 217,
    "start_time": "2023-04-13T11:53:46.536Z"
   },
   {
    "duration": 26,
    "start_time": "2023-04-13T11:53:46.756Z"
   },
   {
    "duration": 40,
    "start_time": "2023-04-13T11:53:46.797Z"
   },
   {
    "duration": 11,
    "start_time": "2023-04-13T11:53:46.839Z"
   },
   {
    "duration": 76,
    "start_time": "2023-04-13T11:53:46.852Z"
   },
   {
    "duration": 23,
    "start_time": "2023-04-13T11:53:46.930Z"
   },
   {
    "duration": 8,
    "start_time": "2023-04-13T11:53:46.954Z"
   },
   {
    "duration": 326,
    "start_time": "2023-04-13T11:53:46.964Z"
   },
   {
    "duration": 17,
    "start_time": "2023-04-13T11:53:47.293Z"
   },
   {
    "duration": 37,
    "start_time": "2023-04-13T11:53:47.312Z"
   },
   {
    "duration": 178,
    "start_time": "2023-04-13T11:53:47.351Z"
   },
   {
    "duration": 0,
    "start_time": "2023-04-13T11:53:47.531Z"
   },
   {
    "duration": 0,
    "start_time": "2023-04-13T11:53:47.533Z"
   },
   {
    "duration": 0,
    "start_time": "2023-04-13T11:53:47.534Z"
   },
   {
    "duration": 0,
    "start_time": "2023-04-13T11:53:47.535Z"
   },
   {
    "duration": 0,
    "start_time": "2023-04-13T11:53:47.537Z"
   },
   {
    "duration": 0,
    "start_time": "2023-04-13T11:53:47.538Z"
   },
   {
    "duration": 0,
    "start_time": "2023-04-13T11:53:47.539Z"
   },
   {
    "duration": 0,
    "start_time": "2023-04-13T11:53:47.540Z"
   },
   {
    "duration": 0,
    "start_time": "2023-04-13T11:53:47.542Z"
   },
   {
    "duration": 0,
    "start_time": "2023-04-13T11:53:47.543Z"
   },
   {
    "duration": 0,
    "start_time": "2023-04-13T11:53:47.544Z"
   },
   {
    "duration": 0,
    "start_time": "2023-04-13T11:53:47.545Z"
   },
   {
    "duration": 0,
    "start_time": "2023-04-13T11:53:47.546Z"
   },
   {
    "duration": 0,
    "start_time": "2023-04-13T11:53:47.547Z"
   },
   {
    "duration": 0,
    "start_time": "2023-04-13T11:53:47.548Z"
   },
   {
    "duration": 0,
    "start_time": "2023-04-13T11:53:47.549Z"
   },
   {
    "duration": 0,
    "start_time": "2023-04-13T11:53:47.550Z"
   },
   {
    "duration": 0,
    "start_time": "2023-04-13T11:53:47.552Z"
   },
   {
    "duration": 0,
    "start_time": "2023-04-13T11:53:47.553Z"
   },
   {
    "duration": 0,
    "start_time": "2023-04-13T11:53:47.554Z"
   },
   {
    "duration": 0,
    "start_time": "2023-04-13T11:53:47.556Z"
   },
   {
    "duration": 0,
    "start_time": "2023-04-13T11:53:47.594Z"
   },
   {
    "duration": 0,
    "start_time": "2023-04-13T11:53:47.595Z"
   },
   {
    "duration": 0,
    "start_time": "2023-04-13T11:53:47.596Z"
   },
   {
    "duration": 0,
    "start_time": "2023-04-13T11:53:47.597Z"
   },
   {
    "duration": 73,
    "start_time": "2023-04-13T11:53:54.487Z"
   },
   {
    "duration": 21,
    "start_time": "2023-04-13T11:54:11.271Z"
   },
   {
    "duration": 34,
    "start_time": "2023-04-13T11:54:52.904Z"
   },
   {
    "duration": 39,
    "start_time": "2023-04-13T11:54:58.167Z"
   },
   {
    "duration": 53,
    "start_time": "2023-04-13T11:55:59.930Z"
   },
   {
    "duration": 59,
    "start_time": "2023-04-13T11:56:05.061Z"
   },
   {
    "duration": 61,
    "start_time": "2023-04-13T11:56:13.668Z"
   },
   {
    "duration": 52,
    "start_time": "2023-04-13T11:56:37.711Z"
   },
   {
    "duration": 48,
    "start_time": "2023-04-13T11:56:50.817Z"
   },
   {
    "duration": 28,
    "start_time": "2023-04-13T11:57:00.244Z"
   },
   {
    "duration": 80,
    "start_time": "2023-04-13T11:59:32.132Z"
   },
   {
    "duration": 99,
    "start_time": "2023-04-13T12:00:01.723Z"
   },
   {
    "duration": 62,
    "start_time": "2023-04-13T12:00:20.460Z"
   },
   {
    "duration": 17,
    "start_time": "2023-04-13T12:00:42.752Z"
   },
   {
    "duration": 4,
    "start_time": "2023-04-13T12:00:47.812Z"
   },
   {
    "duration": 192,
    "start_time": "2023-04-13T12:00:47.818Z"
   },
   {
    "duration": 21,
    "start_time": "2023-04-13T12:00:48.011Z"
   },
   {
    "duration": 9,
    "start_time": "2023-04-13T12:00:48.033Z"
   },
   {
    "duration": 6,
    "start_time": "2023-04-13T12:00:48.044Z"
   },
   {
    "duration": 69,
    "start_time": "2023-04-13T12:00:48.052Z"
   },
   {
    "duration": 46,
    "start_time": "2023-04-13T12:00:48.123Z"
   },
   {
    "duration": 26,
    "start_time": "2023-04-13T12:00:48.171Z"
   },
   {
    "duration": 42,
    "start_time": "2023-04-13T12:00:48.199Z"
   },
   {
    "duration": 21,
    "start_time": "2023-04-13T12:00:48.243Z"
   },
   {
    "duration": 29,
    "start_time": "2023-04-13T12:00:48.266Z"
   },
   {
    "duration": 106,
    "start_time": "2023-04-13T12:00:48.297Z"
   },
   {
    "duration": 188,
    "start_time": "2023-04-13T12:00:48.405Z"
   },
   {
    "duration": 32,
    "start_time": "2023-04-13T12:00:48.597Z"
   },
   {
    "duration": 20,
    "start_time": "2023-04-13T12:00:48.630Z"
   },
   {
    "duration": 12,
    "start_time": "2023-04-13T12:00:48.652Z"
   },
   {
    "duration": 85,
    "start_time": "2023-04-13T12:00:48.665Z"
   },
   {
    "duration": 42,
    "start_time": "2023-04-13T12:00:48.752Z"
   },
   {
    "duration": 5,
    "start_time": "2023-04-13T12:00:48.797Z"
   },
   {
    "duration": 222,
    "start_time": "2023-04-13T12:00:48.804Z"
   },
   {
    "duration": 14,
    "start_time": "2023-04-13T12:00:49.028Z"
   },
   {
    "duration": 28,
    "start_time": "2023-04-13T12:00:49.044Z"
   },
   {
    "duration": 56,
    "start_time": "2023-04-13T12:00:49.073Z"
   },
   {
    "duration": 224,
    "start_time": "2023-04-13T12:00:49.131Z"
   },
   {
    "duration": 23,
    "start_time": "2023-04-13T12:00:49.357Z"
   },
   {
    "duration": 30,
    "start_time": "2023-04-13T12:00:49.393Z"
   },
   {
    "duration": 10,
    "start_time": "2023-04-13T12:00:49.425Z"
   },
   {
    "duration": 82,
    "start_time": "2023-04-13T12:00:49.437Z"
   },
   {
    "duration": 75,
    "start_time": "2023-04-13T12:00:49.521Z"
   },
   {
    "duration": 225,
    "start_time": "2023-04-13T12:00:49.598Z"
   },
   {
    "duration": 90,
    "start_time": "2023-04-13T12:00:49.825Z"
   },
   {
    "duration": 189,
    "start_time": "2023-04-13T12:00:49.918Z"
   },
   {
    "duration": 14,
    "start_time": "2023-04-13T12:00:50.110Z"
   },
   {
    "duration": 103,
    "start_time": "2023-04-13T12:00:50.126Z"
   },
   {
    "duration": 5,
    "start_time": "2023-04-13T12:00:50.231Z"
   },
   {
    "duration": 66,
    "start_time": "2023-04-13T12:00:50.237Z"
   },
   {
    "duration": 57,
    "start_time": "2023-04-13T12:00:50.305Z"
   },
   {
    "duration": 68,
    "start_time": "2023-04-13T12:00:50.364Z"
   },
   {
    "duration": 102,
    "start_time": "2023-04-13T12:00:50.434Z"
   },
   {
    "duration": 18,
    "start_time": "2023-04-13T12:00:54.652Z"
   },
   {
    "duration": 6,
    "start_time": "2023-04-13T12:01:12.512Z"
   },
   {
    "duration": 24,
    "start_time": "2023-04-13T12:01:13.055Z"
   },
   {
    "duration": 3,
    "start_time": "2023-04-13T12:01:17.455Z"
   },
   {
    "duration": 187,
    "start_time": "2023-04-13T12:01:17.460Z"
   },
   {
    "duration": 19,
    "start_time": "2023-04-13T12:01:17.648Z"
   },
   {
    "duration": 8,
    "start_time": "2023-04-13T12:01:17.669Z"
   },
   {
    "duration": 29,
    "start_time": "2023-04-13T12:01:17.679Z"
   },
   {
    "duration": 33,
    "start_time": "2023-04-13T12:01:17.710Z"
   },
   {
    "duration": 37,
    "start_time": "2023-04-13T12:01:17.745Z"
   },
   {
    "duration": 14,
    "start_time": "2023-04-13T12:01:17.784Z"
   },
   {
    "duration": 18,
    "start_time": "2023-04-13T12:01:17.808Z"
   },
   {
    "duration": 11,
    "start_time": "2023-04-13T12:01:17.828Z"
   },
   {
    "duration": 55,
    "start_time": "2023-04-13T12:01:17.842Z"
   },
   {
    "duration": 108,
    "start_time": "2023-04-13T12:01:17.899Z"
   },
   {
    "duration": 206,
    "start_time": "2023-04-13T12:01:18.009Z"
   },
   {
    "duration": 30,
    "start_time": "2023-04-13T12:01:18.217Z"
   },
   {
    "duration": 36,
    "start_time": "2023-04-13T12:01:18.249Z"
   },
   {
    "duration": 23,
    "start_time": "2023-04-13T12:01:18.287Z"
   },
   {
    "duration": 75,
    "start_time": "2023-04-13T12:01:18.312Z"
   },
   {
    "duration": 28,
    "start_time": "2023-04-13T12:01:18.389Z"
   },
   {
    "duration": 19,
    "start_time": "2023-04-13T12:01:18.419Z"
   },
   {
    "duration": 219,
    "start_time": "2023-04-13T12:01:18.440Z"
   },
   {
    "duration": 14,
    "start_time": "2023-04-13T12:01:18.661Z"
   },
   {
    "duration": 47,
    "start_time": "2023-04-13T12:01:18.677Z"
   },
   {
    "duration": 29,
    "start_time": "2023-04-13T12:01:18.726Z"
   },
   {
    "duration": 243,
    "start_time": "2023-04-13T12:01:18.758Z"
   },
   {
    "duration": 25,
    "start_time": "2023-04-13T12:01:19.003Z"
   },
   {
    "duration": 24,
    "start_time": "2023-04-13T12:01:19.030Z"
   },
   {
    "duration": 10,
    "start_time": "2023-04-13T12:01:19.056Z"
   },
   {
    "duration": 86,
    "start_time": "2023-04-13T12:01:19.068Z"
   },
   {
    "duration": 90,
    "start_time": "2023-04-13T12:01:19.156Z"
   },
   {
    "duration": 160,
    "start_time": "2023-04-13T12:01:19.248Z"
   },
   {
    "duration": 83,
    "start_time": "2023-04-13T12:01:19.411Z"
   },
   {
    "duration": 18,
    "start_time": "2023-04-13T12:01:19.495Z"
   },
   {
    "duration": 18,
    "start_time": "2023-04-13T12:01:19.515Z"
   },
   {
    "duration": 90,
    "start_time": "2023-04-13T12:01:19.535Z"
   },
   {
    "duration": 6,
    "start_time": "2023-04-13T12:01:19.628Z"
   },
   {
    "duration": 7,
    "start_time": "2023-04-13T12:01:19.635Z"
   },
   {
    "duration": 89,
    "start_time": "2023-04-13T12:01:19.644Z"
   },
   {
    "duration": 74,
    "start_time": "2023-04-13T12:01:19.734Z"
   },
   {
    "duration": 89,
    "start_time": "2023-04-13T12:01:19.810Z"
   },
   {
    "duration": 19,
    "start_time": "2023-04-13T12:01:19.902Z"
   },
   {
    "duration": 29,
    "start_time": "2023-04-13T12:01:19.923Z"
   },
   {
    "duration": 61,
    "start_time": "2023-04-13T12:01:19.954Z"
   },
   {
    "duration": 8,
    "start_time": "2023-04-13T12:01:20.017Z"
   },
   {
    "duration": 14,
    "start_time": "2023-04-13T12:01:20.027Z"
   },
   {
    "duration": 43,
    "start_time": "2023-04-13T12:01:20.114Z"
   },
   {
    "duration": 17,
    "start_time": "2023-04-13T12:03:24.022Z"
   },
   {
    "duration": 7,
    "start_time": "2023-04-13T12:04:02.667Z"
   },
   {
    "duration": 35,
    "start_time": "2023-04-13T12:04:06.843Z"
   },
   {
    "duration": 48,
    "start_time": "2023-04-13T12:04:11.190Z"
   },
   {
    "duration": 41,
    "start_time": "2023-04-13T12:04:14.983Z"
   },
   {
    "duration": 46,
    "start_time": "2023-04-13T12:04:18.236Z"
   },
   {
    "duration": 1715,
    "start_time": "2023-04-13T12:19:49.793Z"
   },
   {
    "duration": 298,
    "start_time": "2023-04-13T12:19:51.510Z"
   },
   {
    "duration": 44,
    "start_time": "2023-04-13T12:19:51.811Z"
   },
   {
    "duration": 21,
    "start_time": "2023-04-13T12:19:51.857Z"
   },
   {
    "duration": 46,
    "start_time": "2023-04-13T12:19:51.879Z"
   },
   {
    "duration": 82,
    "start_time": "2023-04-13T12:19:51.927Z"
   },
   {
    "duration": 76,
    "start_time": "2023-04-13T12:19:52.011Z"
   },
   {
    "duration": 12,
    "start_time": "2023-04-13T12:19:52.089Z"
   },
   {
    "duration": 62,
    "start_time": "2023-04-13T12:19:52.104Z"
   },
   {
    "duration": 26,
    "start_time": "2023-04-13T12:19:52.169Z"
   },
   {
    "duration": 93,
    "start_time": "2023-04-13T12:19:52.196Z"
   },
   {
    "duration": 143,
    "start_time": "2023-04-13T12:19:52.291Z"
   },
   {
    "duration": 286,
    "start_time": "2023-04-13T12:19:52.441Z"
   },
   {
    "duration": 52,
    "start_time": "2023-04-13T12:19:52.729Z"
   },
   {
    "duration": 50,
    "start_time": "2023-04-13T12:19:52.783Z"
   },
   {
    "duration": 29,
    "start_time": "2023-04-13T12:19:52.836Z"
   },
   {
    "duration": 129,
    "start_time": "2023-04-13T12:19:52.874Z"
   },
   {
    "duration": 50,
    "start_time": "2023-04-13T12:19:53.006Z"
   },
   {
    "duration": 8,
    "start_time": "2023-04-13T12:19:53.058Z"
   },
   {
    "duration": 524,
    "start_time": "2023-04-13T12:19:53.068Z"
   },
   {
    "duration": 34,
    "start_time": "2023-04-13T12:19:53.595Z"
   },
   {
    "duration": 60,
    "start_time": "2023-04-13T12:19:53.631Z"
   },
   {
    "duration": 55,
    "start_time": "2023-04-13T12:19:53.693Z"
   },
   {
    "duration": 404,
    "start_time": "2023-04-13T12:19:53.750Z"
   },
   {
    "duration": 33,
    "start_time": "2023-04-13T12:19:54.156Z"
   },
   {
    "duration": 82,
    "start_time": "2023-04-13T12:19:54.192Z"
   },
   {
    "duration": 13,
    "start_time": "2023-04-13T12:19:54.276Z"
   },
   {
    "duration": 126,
    "start_time": "2023-04-13T12:19:54.295Z"
   },
   {
    "duration": 111,
    "start_time": "2023-04-13T12:19:54.424Z"
   },
   {
    "duration": 352,
    "start_time": "2023-04-13T12:19:54.537Z"
   },
   {
    "duration": 114,
    "start_time": "2023-04-13T12:19:54.891Z"
   },
   {
    "duration": 491,
    "start_time": "2023-04-13T12:19:55.007Z"
   },
   {
    "duration": 24,
    "start_time": "2023-04-13T12:19:55.511Z"
   },
   {
    "duration": 120,
    "start_time": "2023-04-13T12:19:55.537Z"
   },
   {
    "duration": 58,
    "start_time": "2023-04-13T12:19:55.659Z"
   },
   {
    "duration": 35,
    "start_time": "2023-04-13T12:19:55.720Z"
   },
   {
    "duration": 107,
    "start_time": "2023-04-13T12:19:55.757Z"
   },
   {
    "duration": 81,
    "start_time": "2023-04-13T12:19:55.867Z"
   },
   {
    "duration": 131,
    "start_time": "2023-04-13T12:19:55.950Z"
   },
   {
    "duration": 36,
    "start_time": "2023-04-13T12:19:56.083Z"
   },
   {
    "duration": 38,
    "start_time": "2023-04-13T12:19:56.121Z"
   },
   {
    "duration": 63,
    "start_time": "2023-04-13T12:19:56.161Z"
   },
   {
    "duration": 22,
    "start_time": "2023-04-13T12:19:56.226Z"
   },
   {
    "duration": 14,
    "start_time": "2023-04-13T12:19:56.252Z"
   },
   {
    "duration": 114,
    "start_time": "2023-04-13T12:19:56.271Z"
   },
   {
    "duration": 51,
    "start_time": "2023-04-13T12:19:56.388Z"
   },
   {
    "duration": 59,
    "start_time": "2023-04-13T12:19:56.442Z"
   },
   {
    "duration": 48,
    "start_time": "2023-04-13T12:19:56.503Z"
   },
   {
    "duration": 33,
    "start_time": "2023-04-13T12:31:32.516Z"
   },
   {
    "duration": 28,
    "start_time": "2023-04-13T12:31:44.856Z"
   },
   {
    "duration": 28,
    "start_time": "2023-04-13T12:32:10.180Z"
   },
   {
    "duration": 28,
    "start_time": "2023-04-13T12:32:27.862Z"
   },
   {
    "duration": 36,
    "start_time": "2023-04-13T12:32:41.922Z"
   },
   {
    "duration": 27,
    "start_time": "2023-04-13T12:32:47.520Z"
   },
   {
    "duration": 29,
    "start_time": "2023-04-13T12:32:55.172Z"
   },
   {
    "duration": 24,
    "start_time": "2023-04-13T12:33:14.872Z"
   },
   {
    "duration": 25,
    "start_time": "2023-04-13T12:33:29.894Z"
   },
   {
    "duration": 30,
    "start_time": "2023-04-13T12:33:45.815Z"
   },
   {
    "duration": 35,
    "start_time": "2023-04-13T12:36:01.265Z"
   },
   {
    "duration": 35,
    "start_time": "2023-04-13T12:36:10.238Z"
   },
   {
    "duration": 60,
    "start_time": "2023-04-13T12:36:29.437Z"
   },
   {
    "duration": 28,
    "start_time": "2023-04-13T12:37:57.368Z"
   },
   {
    "duration": 185,
    "start_time": "2023-04-13T12:39:32.040Z"
   },
   {
    "duration": 120,
    "start_time": "2023-04-13T12:39:47.720Z"
   },
   {
    "duration": 32,
    "start_time": "2023-04-13T12:43:25.468Z"
   },
   {
    "duration": 1616,
    "start_time": "2023-04-13T13:20:45.454Z"
   },
   {
    "duration": 254,
    "start_time": "2023-04-13T13:20:47.073Z"
   },
   {
    "duration": 40,
    "start_time": "2023-04-13T13:20:47.328Z"
   },
   {
    "duration": 24,
    "start_time": "2023-04-13T13:20:47.371Z"
   },
   {
    "duration": 20,
    "start_time": "2023-04-13T13:20:47.396Z"
   },
   {
    "duration": 54,
    "start_time": "2023-04-13T13:20:47.418Z"
   },
   {
    "duration": 77,
    "start_time": "2023-04-13T13:20:47.474Z"
   },
   {
    "duration": 10,
    "start_time": "2023-04-13T13:20:47.554Z"
   },
   {
    "duration": 30,
    "start_time": "2023-04-13T13:20:47.567Z"
   },
   {
    "duration": 38,
    "start_time": "2023-04-13T13:20:47.600Z"
   },
   {
    "duration": 32,
    "start_time": "2023-04-13T13:20:47.643Z"
   },
   {
    "duration": 119,
    "start_time": "2023-04-13T13:20:47.677Z"
   },
   {
    "duration": 258,
    "start_time": "2023-04-13T13:20:47.798Z"
   },
   {
    "duration": 31,
    "start_time": "2023-04-13T13:20:48.059Z"
   },
   {
    "duration": 63,
    "start_time": "2023-04-13T13:20:48.092Z"
   },
   {
    "duration": 10,
    "start_time": "2023-04-13T13:20:48.159Z"
   },
   {
    "duration": 101,
    "start_time": "2023-04-13T13:20:48.171Z"
   },
   {
    "duration": 41,
    "start_time": "2023-04-13T13:20:48.274Z"
   },
   {
    "duration": 9,
    "start_time": "2023-04-13T13:20:48.317Z"
   },
   {
    "duration": 470,
    "start_time": "2023-04-13T13:20:48.329Z"
   },
   {
    "duration": 26,
    "start_time": "2023-04-13T13:20:48.801Z"
   },
   {
    "duration": 54,
    "start_time": "2023-04-13T13:20:48.829Z"
   },
   {
    "duration": 70,
    "start_time": "2023-04-13T13:20:48.885Z"
   },
   {
    "duration": 199,
    "start_time": "2023-04-13T13:20:48.960Z"
   },
   {
    "duration": 35,
    "start_time": "2023-04-13T13:20:49.162Z"
   },
   {
    "duration": 453,
    "start_time": "2023-04-13T13:20:49.199Z"
   },
   {
    "duration": 26,
    "start_time": "2023-04-13T13:20:49.657Z"
   },
   {
    "duration": 31,
    "start_time": "2023-04-13T13:20:49.689Z"
   },
   {
    "duration": 20,
    "start_time": "2023-04-13T13:20:49.721Z"
   },
   {
    "duration": 85,
    "start_time": "2023-04-13T13:20:49.743Z"
   },
   {
    "duration": 94,
    "start_time": "2023-04-13T13:20:49.830Z"
   },
   {
    "duration": 304,
    "start_time": "2023-04-13T13:20:49.925Z"
   },
   {
    "duration": 101,
    "start_time": "2023-04-13T13:20:50.231Z"
   },
   {
    "duration": 382,
    "start_time": "2023-04-13T13:20:50.333Z"
   },
   {
    "duration": 20,
    "start_time": "2023-04-13T13:20:50.717Z"
   },
   {
    "duration": 119,
    "start_time": "2023-04-13T13:20:50.742Z"
   },
   {
    "duration": 60,
    "start_time": "2023-04-13T13:20:50.864Z"
   },
   {
    "duration": 14,
    "start_time": "2023-04-13T13:20:50.926Z"
   },
   {
    "duration": 64,
    "start_time": "2023-04-13T13:20:50.942Z"
   },
   {
    "duration": 76,
    "start_time": "2023-04-13T13:20:51.008Z"
   },
   {
    "duration": 148,
    "start_time": "2023-04-13T13:20:51.085Z"
   },
   {
    "duration": 139,
    "start_time": "2023-04-13T13:20:51.237Z"
   },
   {
    "duration": 0,
    "start_time": "2023-04-13T13:20:51.378Z"
   },
   {
    "duration": 0,
    "start_time": "2023-04-13T13:20:51.379Z"
   },
   {
    "duration": 0,
    "start_time": "2023-04-13T13:20:51.381Z"
   },
   {
    "duration": 0,
    "start_time": "2023-04-13T13:20:51.382Z"
   },
   {
    "duration": 0,
    "start_time": "2023-04-13T13:20:51.383Z"
   },
   {
    "duration": 0,
    "start_time": "2023-04-13T13:20:51.384Z"
   },
   {
    "duration": 0,
    "start_time": "2023-04-13T13:20:51.385Z"
   },
   {
    "duration": 0,
    "start_time": "2023-04-13T13:20:51.388Z"
   },
   {
    "duration": 172,
    "start_time": "2023-04-13T13:22:04.238Z"
   },
   {
    "duration": 192,
    "start_time": "2023-04-13T13:22:21.699Z"
   },
   {
    "duration": 134,
    "start_time": "2023-04-13T13:22:32.156Z"
   },
   {
    "duration": 1646,
    "start_time": "2023-04-13T13:22:43.262Z"
   },
   {
    "duration": 273,
    "start_time": "2023-04-13T13:22:44.911Z"
   },
   {
    "duration": 37,
    "start_time": "2023-04-13T13:22:45.186Z"
   },
   {
    "duration": 19,
    "start_time": "2023-04-13T13:22:45.230Z"
   },
   {
    "duration": 4,
    "start_time": "2023-04-13T13:22:45.252Z"
   },
   {
    "duration": 50,
    "start_time": "2023-04-13T13:22:45.258Z"
   },
   {
    "duration": 71,
    "start_time": "2023-04-13T13:22:45.310Z"
   },
   {
    "duration": 9,
    "start_time": "2023-04-13T13:22:45.383Z"
   },
   {
    "duration": 31,
    "start_time": "2023-04-13T13:22:45.394Z"
   },
   {
    "duration": 13,
    "start_time": "2023-04-13T13:22:45.427Z"
   },
   {
    "duration": 36,
    "start_time": "2023-04-13T13:22:45.442Z"
   },
   {
    "duration": 129,
    "start_time": "2023-04-13T13:22:45.479Z"
   },
   {
    "duration": 249,
    "start_time": "2023-04-13T13:22:45.609Z"
   },
   {
    "duration": 33,
    "start_time": "2023-04-13T13:22:45.861Z"
   },
   {
    "duration": 51,
    "start_time": "2023-04-13T13:22:45.896Z"
   },
   {
    "duration": 10,
    "start_time": "2023-04-13T13:22:45.952Z"
   },
   {
    "duration": 72,
    "start_time": "2023-04-13T13:22:45.964Z"
   },
   {
    "duration": 35,
    "start_time": "2023-04-13T13:22:46.039Z"
   },
   {
    "duration": 13,
    "start_time": "2023-04-13T13:22:46.076Z"
   },
   {
    "duration": 482,
    "start_time": "2023-04-13T13:22:46.091Z"
   },
   {
    "duration": 15,
    "start_time": "2023-04-13T13:22:46.575Z"
   },
   {
    "duration": 64,
    "start_time": "2023-04-13T13:22:46.591Z"
   },
   {
    "duration": 39,
    "start_time": "2023-04-13T13:22:46.661Z"
   },
   {
    "duration": 165,
    "start_time": "2023-04-13T13:22:46.702Z"
   },
   {
    "duration": 22,
    "start_time": "2023-04-13T13:22:46.868Z"
   },
   {
    "duration": 382,
    "start_time": "2023-04-13T13:22:46.892Z"
   },
   {
    "duration": 47,
    "start_time": "2023-04-13T13:22:47.276Z"
   },
   {
    "duration": 35,
    "start_time": "2023-04-13T13:22:47.339Z"
   },
   {
    "duration": 8,
    "start_time": "2023-04-13T13:22:47.375Z"
   },
   {
    "duration": 77,
    "start_time": "2023-04-13T13:22:47.385Z"
   },
   {
    "duration": 85,
    "start_time": "2023-04-13T13:22:47.464Z"
   },
   {
    "duration": 307,
    "start_time": "2023-04-13T13:22:47.552Z"
   },
   {
    "duration": 97,
    "start_time": "2023-04-13T13:22:47.861Z"
   },
   {
    "duration": 442,
    "start_time": "2023-04-13T13:22:47.961Z"
   },
   {
    "duration": 33,
    "start_time": "2023-04-13T13:22:48.405Z"
   },
   {
    "duration": 112,
    "start_time": "2023-04-13T13:22:48.443Z"
   },
   {
    "duration": 63,
    "start_time": "2023-04-13T13:22:48.560Z"
   },
   {
    "duration": 6,
    "start_time": "2023-04-13T13:22:48.624Z"
   },
   {
    "duration": 85,
    "start_time": "2023-04-13T13:22:48.632Z"
   },
   {
    "duration": 77,
    "start_time": "2023-04-13T13:22:48.725Z"
   },
   {
    "duration": 167,
    "start_time": "2023-04-13T13:22:48.804Z"
   },
   {
    "duration": 170,
    "start_time": "2023-04-13T13:22:48.974Z"
   },
   {
    "duration": 0,
    "start_time": "2023-04-13T13:22:49.146Z"
   },
   {
    "duration": 0,
    "start_time": "2023-04-13T13:22:49.148Z"
   },
   {
    "duration": 0,
    "start_time": "2023-04-13T13:22:49.149Z"
   },
   {
    "duration": 0,
    "start_time": "2023-04-13T13:22:49.150Z"
   },
   {
    "duration": 0,
    "start_time": "2023-04-13T13:22:49.151Z"
   },
   {
    "duration": 0,
    "start_time": "2023-04-13T13:22:49.153Z"
   },
   {
    "duration": 0,
    "start_time": "2023-04-13T13:22:49.154Z"
   },
   {
    "duration": 0,
    "start_time": "2023-04-13T13:22:49.155Z"
   },
   {
    "duration": 160,
    "start_time": "2023-04-13T13:23:44.334Z"
   },
   {
    "duration": 1509,
    "start_time": "2023-04-13T13:25:05.082Z"
   },
   {
    "duration": 278,
    "start_time": "2023-04-13T13:25:06.593Z"
   },
   {
    "duration": 24,
    "start_time": "2023-04-13T13:25:06.872Z"
   },
   {
    "duration": 28,
    "start_time": "2023-04-13T13:25:06.913Z"
   },
   {
    "duration": 13,
    "start_time": "2023-04-13T13:25:06.943Z"
   },
   {
    "duration": 74,
    "start_time": "2023-04-13T13:25:06.957Z"
   },
   {
    "duration": 54,
    "start_time": "2023-04-13T13:25:07.032Z"
   },
   {
    "duration": 8,
    "start_time": "2023-04-13T13:25:07.088Z"
   },
   {
    "duration": 45,
    "start_time": "2023-04-13T13:25:07.098Z"
   },
   {
    "duration": 13,
    "start_time": "2023-04-13T13:25:07.146Z"
   },
   {
    "duration": 42,
    "start_time": "2023-04-13T13:25:07.161Z"
   },
   {
    "duration": 145,
    "start_time": "2023-04-13T13:25:07.205Z"
   },
   {
    "duration": 217,
    "start_time": "2023-04-13T13:25:07.354Z"
   },
   {
    "duration": 61,
    "start_time": "2023-04-13T13:25:07.573Z"
   },
   {
    "duration": 26,
    "start_time": "2023-04-13T13:25:07.644Z"
   },
   {
    "duration": 11,
    "start_time": "2023-04-13T13:25:07.672Z"
   },
   {
    "duration": 79,
    "start_time": "2023-04-13T13:25:07.685Z"
   },
   {
    "duration": 24,
    "start_time": "2023-04-13T13:25:07.766Z"
   },
   {
    "duration": 9,
    "start_time": "2023-04-13T13:25:07.792Z"
   },
   {
    "duration": 435,
    "start_time": "2023-04-13T13:25:07.826Z"
   },
   {
    "duration": 16,
    "start_time": "2023-04-13T13:25:08.262Z"
   },
   {
    "duration": 60,
    "start_time": "2023-04-13T13:25:08.280Z"
   },
   {
    "duration": 35,
    "start_time": "2023-04-13T13:25:08.344Z"
   },
   {
    "duration": 153,
    "start_time": "2023-04-13T13:25:08.380Z"
   },
   {
    "duration": 30,
    "start_time": "2023-04-13T13:25:08.538Z"
   },
   {
    "duration": 407,
    "start_time": "2023-04-13T13:25:08.570Z"
   },
   {
    "duration": 46,
    "start_time": "2023-04-13T13:25:08.979Z"
   },
   {
    "duration": 36,
    "start_time": "2023-04-13T13:25:09.033Z"
   },
   {
    "duration": 11,
    "start_time": "2023-04-13T13:25:09.071Z"
   },
   {
    "duration": 102,
    "start_time": "2023-04-13T13:25:09.085Z"
   },
   {
    "duration": 87,
    "start_time": "2023-04-13T13:25:09.189Z"
   },
   {
    "duration": 323,
    "start_time": "2023-04-13T13:25:09.278Z"
   },
   {
    "duration": 95,
    "start_time": "2023-04-13T13:25:09.603Z"
   },
   {
    "duration": 342,
    "start_time": "2023-04-13T13:25:09.699Z"
   },
   {
    "duration": 13,
    "start_time": "2023-04-13T13:25:10.047Z"
   },
   {
    "duration": 128,
    "start_time": "2023-04-13T13:25:10.062Z"
   },
   {
    "duration": 30,
    "start_time": "2023-04-13T13:25:10.192Z"
   },
   {
    "duration": 9,
    "start_time": "2023-04-13T13:25:10.224Z"
   },
   {
    "duration": 62,
    "start_time": "2023-04-13T13:25:10.237Z"
   },
   {
    "duration": 71,
    "start_time": "2023-04-13T13:25:10.301Z"
   },
   {
    "duration": 122,
    "start_time": "2023-04-13T13:25:10.374Z"
   },
   {
    "duration": 137,
    "start_time": "2023-04-13T13:25:10.498Z"
   },
   {
    "duration": 0,
    "start_time": "2023-04-13T13:25:10.639Z"
   },
   {
    "duration": 0,
    "start_time": "2023-04-13T13:25:10.641Z"
   },
   {
    "duration": 0,
    "start_time": "2023-04-13T13:25:10.642Z"
   },
   {
    "duration": 0,
    "start_time": "2023-04-13T13:25:10.644Z"
   },
   {
    "duration": 0,
    "start_time": "2023-04-13T13:25:10.645Z"
   },
   {
    "duration": 0,
    "start_time": "2023-04-13T13:25:10.646Z"
   },
   {
    "duration": 0,
    "start_time": "2023-04-13T13:25:10.647Z"
   },
   {
    "duration": 0,
    "start_time": "2023-04-13T13:25:10.648Z"
   },
   {
    "duration": 1246,
    "start_time": "2023-04-13T14:09:56.234Z"
   },
   {
    "duration": 174,
    "start_time": "2023-04-13T14:09:57.482Z"
   },
   {
    "duration": 24,
    "start_time": "2023-04-13T14:09:57.658Z"
   },
   {
    "duration": 11,
    "start_time": "2023-04-13T14:09:57.692Z"
   },
   {
    "duration": 3,
    "start_time": "2023-04-13T14:09:57.705Z"
   },
   {
    "duration": 42,
    "start_time": "2023-04-13T14:09:57.709Z"
   },
   {
    "duration": 65,
    "start_time": "2023-04-13T14:09:57.753Z"
   },
   {
    "duration": 8,
    "start_time": "2023-04-13T14:09:57.820Z"
   },
   {
    "duration": 16,
    "start_time": "2023-04-13T14:09:57.830Z"
   },
   {
    "duration": 10,
    "start_time": "2023-04-13T14:09:57.848Z"
   },
   {
    "duration": 46,
    "start_time": "2023-04-13T14:09:57.860Z"
   },
   {
    "duration": 98,
    "start_time": "2023-04-13T14:09:57.907Z"
   },
   {
    "duration": 203,
    "start_time": "2023-04-13T14:09:58.007Z"
   },
   {
    "duration": 36,
    "start_time": "2023-04-13T14:09:58.212Z"
   },
   {
    "duration": 26,
    "start_time": "2023-04-13T14:09:58.250Z"
   },
   {
    "duration": 7,
    "start_time": "2023-04-13T14:09:58.293Z"
   },
   {
    "duration": 66,
    "start_time": "2023-04-13T14:09:58.302Z"
   },
   {
    "duration": 38,
    "start_time": "2023-04-13T14:09:58.370Z"
   },
   {
    "duration": 6,
    "start_time": "2023-04-13T14:09:58.410Z"
   },
   {
    "duration": 283,
    "start_time": "2023-04-13T14:09:58.417Z"
   },
   {
    "duration": 13,
    "start_time": "2023-04-13T14:09:58.702Z"
   },
   {
    "duration": 27,
    "start_time": "2023-04-13T14:09:58.717Z"
   },
   {
    "duration": 51,
    "start_time": "2023-04-13T14:09:58.745Z"
   },
   {
    "duration": 140,
    "start_time": "2023-04-13T14:09:58.797Z"
   },
   {
    "duration": 20,
    "start_time": "2023-04-13T14:09:58.938Z"
   },
   {
    "duration": 192,
    "start_time": "2023-04-13T14:09:58.959Z"
   },
   {
    "duration": 20,
    "start_time": "2023-04-13T14:09:59.153Z"
   },
   {
    "duration": 24,
    "start_time": "2023-04-13T14:09:59.194Z"
   },
   {
    "duration": 12,
    "start_time": "2023-04-13T14:09:59.220Z"
   },
   {
    "duration": 81,
    "start_time": "2023-04-13T14:09:59.234Z"
   },
   {
    "duration": 63,
    "start_time": "2023-04-13T14:09:59.317Z"
   },
   {
    "duration": 151,
    "start_time": "2023-04-13T14:09:59.382Z"
   },
   {
    "duration": 80,
    "start_time": "2023-04-13T14:09:59.535Z"
   },
   {
    "duration": 153,
    "start_time": "2023-04-13T14:09:59.617Z"
   },
   {
    "duration": 15,
    "start_time": "2023-04-13T14:09:59.772Z"
   },
   {
    "duration": 112,
    "start_time": "2023-04-13T14:09:59.788Z"
   },
   {
    "duration": 6,
    "start_time": "2023-04-13T14:09:59.901Z"
   },
   {
    "duration": 4,
    "start_time": "2023-04-13T14:09:59.908Z"
   },
   {
    "duration": 94,
    "start_time": "2023-04-13T14:09:59.914Z"
   },
   {
    "duration": 61,
    "start_time": "2023-04-13T14:10:00.010Z"
   },
   {
    "duration": 112,
    "start_time": "2023-04-13T14:10:00.073Z"
   },
   {
    "duration": 47,
    "start_time": "2023-04-13T14:10:00.187Z"
   },
   {
    "duration": 0,
    "start_time": "2023-04-13T14:10:00.235Z"
   },
   {
    "duration": 0,
    "start_time": "2023-04-13T14:10:00.237Z"
   },
   {
    "duration": 0,
    "start_time": "2023-04-13T14:10:00.238Z"
   },
   {
    "duration": 0,
    "start_time": "2023-04-13T14:10:00.239Z"
   },
   {
    "duration": 0,
    "start_time": "2023-04-13T14:10:00.240Z"
   },
   {
    "duration": 0,
    "start_time": "2023-04-13T14:10:00.241Z"
   },
   {
    "duration": 0,
    "start_time": "2023-04-13T14:10:00.242Z"
   },
   {
    "duration": 1,
    "start_time": "2023-04-13T14:10:00.243Z"
   },
   {
    "duration": 1964,
    "start_time": "2023-04-13T14:24:27.691Z"
   },
   {
    "duration": 993,
    "start_time": "2023-04-13T14:24:29.657Z"
   },
   {
    "duration": 28,
    "start_time": "2023-04-13T14:24:30.652Z"
   },
   {
    "duration": 29,
    "start_time": "2023-04-13T14:24:30.682Z"
   },
   {
    "duration": 24,
    "start_time": "2023-04-13T14:24:30.717Z"
   },
   {
    "duration": 50,
    "start_time": "2023-04-13T14:24:30.745Z"
   },
   {
    "duration": 67,
    "start_time": "2023-04-13T14:24:30.797Z"
   },
   {
    "duration": 10,
    "start_time": "2023-04-13T14:24:30.866Z"
   },
   {
    "duration": 64,
    "start_time": "2023-04-13T14:24:30.878Z"
   },
   {
    "duration": 36,
    "start_time": "2023-04-13T14:24:30.950Z"
   },
   {
    "duration": 67,
    "start_time": "2023-04-13T14:24:30.988Z"
   },
   {
    "duration": 146,
    "start_time": "2023-04-13T14:24:31.058Z"
   },
   {
    "duration": 230,
    "start_time": "2023-04-13T14:24:31.206Z"
   },
   {
    "duration": 30,
    "start_time": "2023-04-13T14:24:31.440Z"
   },
   {
    "duration": 55,
    "start_time": "2023-04-13T14:24:31.472Z"
   },
   {
    "duration": 38,
    "start_time": "2023-04-13T14:24:31.529Z"
   },
   {
    "duration": 105,
    "start_time": "2023-04-13T14:24:31.569Z"
   },
   {
    "duration": 41,
    "start_time": "2023-04-13T14:24:31.677Z"
   },
   {
    "duration": 18,
    "start_time": "2023-04-13T14:24:31.728Z"
   },
   {
    "duration": 519,
    "start_time": "2023-04-13T14:24:31.747Z"
   },
   {
    "duration": 16,
    "start_time": "2023-04-13T14:24:32.268Z"
   },
   {
    "duration": 68,
    "start_time": "2023-04-13T14:24:32.285Z"
   },
   {
    "duration": 33,
    "start_time": "2023-04-13T14:24:32.354Z"
   },
   {
    "duration": 180,
    "start_time": "2023-04-13T14:24:32.389Z"
   },
   {
    "duration": 21,
    "start_time": "2023-04-13T14:24:32.571Z"
   },
   {
    "duration": 398,
    "start_time": "2023-04-13T14:24:32.594Z"
   },
   {
    "duration": 44,
    "start_time": "2023-04-13T14:24:32.993Z"
   },
   {
    "duration": 92,
    "start_time": "2023-04-13T14:24:33.042Z"
   },
   {
    "duration": 11,
    "start_time": "2023-04-13T14:24:33.142Z"
   },
   {
    "duration": 88,
    "start_time": "2023-04-13T14:24:33.155Z"
   },
   {
    "duration": 76,
    "start_time": "2023-04-13T14:24:33.244Z"
   },
   {
    "duration": 299,
    "start_time": "2023-04-13T14:24:33.326Z"
   },
   {
    "duration": 80,
    "start_time": "2023-04-13T14:24:33.627Z"
   },
   {
    "duration": 363,
    "start_time": "2023-04-13T14:24:33.714Z"
   },
   {
    "duration": 35,
    "start_time": "2023-04-13T14:24:34.079Z"
   },
   {
    "duration": 122,
    "start_time": "2023-04-13T14:24:34.118Z"
   },
   {
    "duration": 9,
    "start_time": "2023-04-13T14:24:34.242Z"
   },
   {
    "duration": 6,
    "start_time": "2023-04-13T14:24:34.252Z"
   },
   {
    "duration": 126,
    "start_time": "2023-04-13T14:24:34.260Z"
   },
   {
    "duration": 78,
    "start_time": "2023-04-13T14:24:34.387Z"
   },
   {
    "duration": 129,
    "start_time": "2023-04-13T14:24:34.467Z"
   },
   {
    "duration": 142,
    "start_time": "2023-04-13T14:24:34.598Z"
   },
   {
    "duration": 0,
    "start_time": "2023-04-13T14:24:34.742Z"
   },
   {
    "duration": 0,
    "start_time": "2023-04-13T14:24:34.743Z"
   },
   {
    "duration": 0,
    "start_time": "2023-04-13T14:24:34.744Z"
   },
   {
    "duration": 0,
    "start_time": "2023-04-13T14:24:34.746Z"
   },
   {
    "duration": 0,
    "start_time": "2023-04-13T14:24:34.748Z"
   },
   {
    "duration": 0,
    "start_time": "2023-04-13T14:24:34.749Z"
   },
   {
    "duration": 0,
    "start_time": "2023-04-13T14:24:34.751Z"
   },
   {
    "duration": 0,
    "start_time": "2023-04-13T14:24:34.752Z"
   },
   {
    "duration": 48,
    "start_time": "2023-04-13T14:27:40.893Z"
   },
   {
    "duration": 14,
    "start_time": "2023-04-13T14:27:47.725Z"
   },
   {
    "duration": 1302,
    "start_time": "2023-04-13T14:28:35.192Z"
   },
   {
    "duration": 180,
    "start_time": "2023-04-13T14:28:36.496Z"
   },
   {
    "duration": 21,
    "start_time": "2023-04-13T14:28:36.677Z"
   },
   {
    "duration": 13,
    "start_time": "2023-04-13T14:28:36.700Z"
   },
   {
    "duration": 3,
    "start_time": "2023-04-13T14:28:36.716Z"
   },
   {
    "duration": 70,
    "start_time": "2023-04-13T14:28:36.721Z"
   },
   {
    "duration": 48,
    "start_time": "2023-04-13T14:28:36.793Z"
   },
   {
    "duration": 9,
    "start_time": "2023-04-13T14:28:36.843Z"
   },
   {
    "duration": 39,
    "start_time": "2023-04-13T14:28:36.854Z"
   },
   {
    "duration": 11,
    "start_time": "2023-04-13T14:28:36.895Z"
   },
   {
    "duration": 25,
    "start_time": "2023-04-13T14:28:36.908Z"
   },
   {
    "duration": 118,
    "start_time": "2023-04-13T14:28:36.935Z"
   },
   {
    "duration": 207,
    "start_time": "2023-04-13T14:28:37.055Z"
   },
   {
    "duration": 37,
    "start_time": "2023-04-13T14:28:37.266Z"
   },
   {
    "duration": 22,
    "start_time": "2023-04-13T14:28:37.305Z"
   },
   {
    "duration": 10,
    "start_time": "2023-04-13T14:28:37.329Z"
   },
   {
    "duration": 82,
    "start_time": "2023-04-13T14:28:37.341Z"
   },
   {
    "duration": 20,
    "start_time": "2023-04-13T14:28:37.425Z"
   },
   {
    "duration": 26,
    "start_time": "2023-04-13T14:28:37.447Z"
   },
   {
    "duration": 262,
    "start_time": "2023-04-13T14:28:37.475Z"
   },
   {
    "duration": 13,
    "start_time": "2023-04-13T14:28:37.739Z"
   },
   {
    "duration": 42,
    "start_time": "2023-04-13T14:28:37.754Z"
   },
   {
    "duration": 29,
    "start_time": "2023-04-13T14:28:37.798Z"
   },
   {
    "duration": 137,
    "start_time": "2023-04-13T14:28:37.829Z"
   },
   {
    "duration": 29,
    "start_time": "2023-04-13T14:28:37.968Z"
   },
   {
    "duration": 198,
    "start_time": "2023-04-13T14:28:37.998Z"
   },
   {
    "duration": 24,
    "start_time": "2023-04-13T14:28:38.198Z"
   },
   {
    "duration": 27,
    "start_time": "2023-04-13T14:28:38.224Z"
   },
   {
    "duration": 17,
    "start_time": "2023-04-13T14:28:38.253Z"
   },
   {
    "duration": 77,
    "start_time": "2023-04-13T14:28:38.272Z"
   },
   {
    "duration": 77,
    "start_time": "2023-04-13T14:28:38.351Z"
   },
   {
    "duration": 150,
    "start_time": "2023-04-13T14:28:38.429Z"
   },
   {
    "duration": 82,
    "start_time": "2023-04-13T14:28:38.581Z"
   },
   {
    "duration": 184,
    "start_time": "2023-04-13T14:28:38.665Z"
   },
   {
    "duration": 11,
    "start_time": "2023-04-13T14:28:38.851Z"
   },
   {
    "duration": 55,
    "start_time": "2023-04-13T14:28:38.864Z"
   },
   {
    "duration": 4,
    "start_time": "2023-04-13T14:28:38.921Z"
   },
   {
    "duration": 5,
    "start_time": "2023-04-13T14:28:38.927Z"
   },
   {
    "duration": 100,
    "start_time": "2023-04-13T14:28:38.934Z"
   },
   {
    "duration": 64,
    "start_time": "2023-04-13T14:28:39.036Z"
   },
   {
    "duration": 104,
    "start_time": "2023-04-13T14:28:39.104Z"
   },
   {
    "duration": 19,
    "start_time": "2023-04-13T14:28:39.210Z"
   },
   {
    "duration": 27,
    "start_time": "2023-04-13T14:28:39.231Z"
   },
   {
    "duration": 46,
    "start_time": "2023-04-13T14:28:39.260Z"
   },
   {
    "duration": 5,
    "start_time": "2023-04-13T14:28:39.308Z"
   },
   {
    "duration": 6,
    "start_time": "2023-04-13T14:28:39.315Z"
   },
   {
    "duration": 37,
    "start_time": "2023-04-13T14:28:39.323Z"
   },
   {
    "duration": 62,
    "start_time": "2023-04-13T14:28:39.362Z"
   },
   {
    "duration": 35,
    "start_time": "2023-04-13T14:28:39.426Z"
   },
   {
    "duration": 57,
    "start_time": "2023-04-13T14:28:39.462Z"
   },
   {
    "duration": 4,
    "start_time": "2023-04-13T14:28:49.223Z"
   },
   {
    "duration": 172,
    "start_time": "2023-04-13T14:28:49.652Z"
   },
   {
    "duration": 1672,
    "start_time": "2023-04-13T14:36:05.607Z"
   },
   {
    "duration": 259,
    "start_time": "2023-04-13T14:36:07.281Z"
   },
   {
    "duration": 24,
    "start_time": "2023-04-13T14:36:07.549Z"
   },
   {
    "duration": 28,
    "start_time": "2023-04-13T14:36:07.574Z"
   },
   {
    "duration": 17,
    "start_time": "2023-04-13T14:36:07.604Z"
   },
   {
    "duration": 58,
    "start_time": "2023-04-13T14:36:07.622Z"
   },
   {
    "duration": 56,
    "start_time": "2023-04-13T14:36:07.682Z"
   },
   {
    "duration": 10,
    "start_time": "2023-04-13T14:36:07.739Z"
   },
   {
    "duration": 36,
    "start_time": "2023-04-13T14:36:07.751Z"
   },
   {
    "duration": 21,
    "start_time": "2023-04-13T14:36:07.789Z"
   },
   {
    "duration": 48,
    "start_time": "2023-04-13T14:36:07.815Z"
   },
   {
    "duration": 107,
    "start_time": "2023-04-13T14:36:07.864Z"
   },
   {
    "duration": 227,
    "start_time": "2023-04-13T14:36:07.973Z"
   },
   {
    "duration": 54,
    "start_time": "2023-04-13T14:36:08.202Z"
   },
   {
    "duration": 22,
    "start_time": "2023-04-13T14:36:08.258Z"
   },
   {
    "duration": 8,
    "start_time": "2023-04-13T14:36:08.281Z"
   },
   {
    "duration": 88,
    "start_time": "2023-04-13T14:36:08.291Z"
   },
   {
    "duration": 42,
    "start_time": "2023-04-13T14:36:08.381Z"
   },
   {
    "duration": 11,
    "start_time": "2023-04-13T14:36:08.424Z"
   },
   {
    "duration": 456,
    "start_time": "2023-04-13T14:36:08.437Z"
   },
   {
    "duration": 30,
    "start_time": "2023-04-13T14:36:08.894Z"
   },
   {
    "duration": 39,
    "start_time": "2023-04-13T14:36:08.925Z"
   },
   {
    "duration": 52,
    "start_time": "2023-04-13T14:36:08.965Z"
   },
   {
    "duration": 162,
    "start_time": "2023-04-13T14:36:09.020Z"
   },
   {
    "duration": 48,
    "start_time": "2023-04-13T14:36:09.184Z"
   },
   {
    "duration": 372,
    "start_time": "2023-04-13T14:36:09.234Z"
   },
   {
    "duration": 41,
    "start_time": "2023-04-13T14:36:09.611Z"
   },
   {
    "duration": 24,
    "start_time": "2023-04-13T14:36:09.653Z"
   },
   {
    "duration": 12,
    "start_time": "2023-04-13T14:36:09.680Z"
   },
   {
    "duration": 88,
    "start_time": "2023-04-13T14:36:09.711Z"
   },
   {
    "duration": 82,
    "start_time": "2023-04-13T14:36:09.816Z"
   },
   {
    "duration": 291,
    "start_time": "2023-04-13T14:36:09.900Z"
   },
   {
    "duration": 95,
    "start_time": "2023-04-13T14:36:10.193Z"
   },
   {
    "duration": 381,
    "start_time": "2023-04-13T14:36:10.290Z"
   },
   {
    "duration": 57,
    "start_time": "2023-04-13T14:36:10.673Z"
   },
   {
    "duration": 111,
    "start_time": "2023-04-13T14:36:10.733Z"
   },
   {
    "duration": 5,
    "start_time": "2023-04-13T14:36:10.847Z"
   },
   {
    "duration": 11,
    "start_time": "2023-04-13T14:36:10.854Z"
   },
   {
    "duration": 75,
    "start_time": "2023-04-13T14:36:10.916Z"
   },
   {
    "duration": 86,
    "start_time": "2023-04-13T14:36:10.993Z"
   },
   {
    "duration": 127,
    "start_time": "2023-04-13T14:36:11.081Z"
   },
   {
    "duration": 28,
    "start_time": "2023-04-13T14:36:11.213Z"
   },
   {
    "duration": 23,
    "start_time": "2023-04-13T14:36:11.243Z"
   },
   {
    "duration": 44,
    "start_time": "2023-04-13T14:36:11.267Z"
   },
   {
    "duration": 9,
    "start_time": "2023-04-13T14:36:11.313Z"
   },
   {
    "duration": 22,
    "start_time": "2023-04-13T14:36:11.323Z"
   },
   {
    "duration": 55,
    "start_time": "2023-04-13T14:36:11.348Z"
   },
   {
    "duration": 46,
    "start_time": "2023-04-13T14:36:11.405Z"
   },
   {
    "duration": 39,
    "start_time": "2023-04-13T14:36:11.453Z"
   },
   {
    "duration": 47,
    "start_time": "2023-04-13T14:36:11.520Z"
   },
   {
    "duration": 66,
    "start_time": "2023-06-06T08:49:29.701Z"
   }
  ],
  "kernelspec": {
   "display_name": "Python 3 (ipykernel)",
   "language": "python",
   "name": "python3"
  },
  "language_info": {
   "codemirror_mode": {
    "name": "ipython",
    "version": 3
   },
   "file_extension": ".py",
   "mimetype": "text/x-python",
   "name": "python",
   "nbconvert_exporter": "python",
   "pygments_lexer": "ipython3",
   "version": "3.9.13"
  },
  "toc": {
   "base_numbering": 1,
   "nav_menu": {},
   "number_sections": true,
   "sideBar": true,
   "skip_h1_title": true,
   "title_cell": "Table of Contents",
   "title_sidebar": "Contents",
   "toc_cell": false,
   "toc_position": {},
   "toc_section_display": true,
   "toc_window_display": false
  }
 },
 "nbformat": 4,
 "nbformat_minor": 5
}
