{
 "cells": [
  {
   "cell_type": "markdown",
   "id": "eeb8cf1b",
   "metadata": {},
   "source": [
    "**Название проекта:** анализ способов увеличения выручки интернет-магазина\n",
    "\n",
    "**Цель исследования:** определить самый эффективный способ увеличить выручку, провести и проаназировать результаты A/B-теста\n",
    "\n",
    "**Период исследования:** 01.08.2019- 31.08.2019\n",
    "\n",
    "**Данные для анализа:** информация о предлагаемых гипотезах и проведенном A/B тесте. Включает в себя: базу данных предлагаемых гипотез с кратким описанием и харакетиристиками по 10-балльным шкалам; данные по проведенному A/B тесту: информация о сделанных заказах, информация о посетителях сайта.\n",
    "\n",
    "Данное исследование разделено на несколько частей:\n",
    "\n",
    "1. Подготовка данных к анализу\n",
    "2. Приоритизация предлагаемых гипотез и выбор представляющихся наиболее эффективными\n",
    "3. Анализ результатов A/B теста\n",
    "4. Принятие решение по результатам теста"
   ]
  },
  {
   "cell_type": "markdown",
   "id": "2ac3ad60",
   "metadata": {},
   "source": [
    "# Часть 1: Приоритизация гипотез"
   ]
  },
  {
   "cell_type": "code",
   "execution_count": 1,
   "id": "7337b6b5",
   "metadata": {},
   "outputs": [],
   "source": [
    "import pandas as pd\n",
    "import numpy as np\n",
    "import matplotlib.pyplot as plt\n",
    "import scipy.stats as stats"
   ]
  },
  {
   "cell_type": "code",
   "execution_count": 2,
   "id": "23f21ed3",
   "metadata": {},
   "outputs": [],
   "source": [
    "try:\n",
    "    hypothesis = pd.read_csv('hypothesis.csv')  # загружаем локальный файл с гипотезами\n",
    "except:\n",
    "    hypothesis = pd.read_csv('/datasets/hypothesis.csv')    # альтернативный путь к данным для работы с других устройств"
   ]
  },
  {
   "cell_type": "markdown",
   "id": "3a5f0057",
   "metadata": {},
   "source": [
    "В начале исследования посмотрим на загруженный файл с гипотезами"
   ]
  },
  {
   "cell_type": "code",
   "execution_count": 3,
   "id": "858ae1a1",
   "metadata": {},
   "outputs": [
    {
     "name": "stdout",
     "output_type": "stream",
     "text": [
      "<class 'pandas.core.frame.DataFrame'>\n",
      "RangeIndex: 9 entries, 0 to 8\n",
      "Data columns (total 5 columns):\n",
      " #   Column      Non-Null Count  Dtype \n",
      "---  ------      --------------  ----- \n",
      " 0   Hypothesis  9 non-null      object\n",
      " 1   Reach       9 non-null      int64 \n",
      " 2   Impact      9 non-null      int64 \n",
      " 3   Confidence  9 non-null      int64 \n",
      " 4   Efforts     9 non-null      int64 \n",
      "dtypes: int64(4), object(1)\n",
      "memory usage: 488.0+ bytes\n"
     ]
    }
   ],
   "source": [
    "hypothesis.info()"
   ]
  },
  {
   "cell_type": "code",
   "execution_count": 4,
   "id": "67607fbb",
   "metadata": {
    "scrolled": false
   },
   "outputs": [],
   "source": [
    "pd.options.display.max_colwidth = 130"
   ]
  },
  {
   "cell_type": "code",
   "execution_count": 5,
   "id": "3c76b68f",
   "metadata": {},
   "outputs": [
    {
     "data": {
      "text/html": [
       "<div>\n",
       "<style scoped>\n",
       "    .dataframe tbody tr th:only-of-type {\n",
       "        vertical-align: middle;\n",
       "    }\n",
       "\n",
       "    .dataframe tbody tr th {\n",
       "        vertical-align: top;\n",
       "    }\n",
       "\n",
       "    .dataframe thead th {\n",
       "        text-align: right;\n",
       "    }\n",
       "</style>\n",
       "<table border=\"1\" class=\"dataframe\">\n",
       "  <thead>\n",
       "    <tr style=\"text-align: right;\">\n",
       "      <th></th>\n",
       "      <th>Hypothesis</th>\n",
       "      <th>Reach</th>\n",
       "      <th>Impact</th>\n",
       "      <th>Confidence</th>\n",
       "      <th>Efforts</th>\n",
       "    </tr>\n",
       "  </thead>\n",
       "  <tbody>\n",
       "    <tr>\n",
       "      <th>0</th>\n",
       "      <td>Добавить два новых канала привлечения трафика, что позволит привлекать на 30% больше пользователей</td>\n",
       "      <td>3</td>\n",
       "      <td>10</td>\n",
       "      <td>8</td>\n",
       "      <td>6</td>\n",
       "    </tr>\n",
       "    <tr>\n",
       "      <th>1</th>\n",
       "      <td>Запустить собственную службу доставки, что сократит срок доставки заказов</td>\n",
       "      <td>2</td>\n",
       "      <td>5</td>\n",
       "      <td>4</td>\n",
       "      <td>10</td>\n",
       "    </tr>\n",
       "    <tr>\n",
       "      <th>2</th>\n",
       "      <td>Добавить блоки рекомендаций товаров на сайт интернет магазина, чтобы повысить конверсию и средний чек заказа</td>\n",
       "      <td>8</td>\n",
       "      <td>3</td>\n",
       "      <td>7</td>\n",
       "      <td>3</td>\n",
       "    </tr>\n",
       "    <tr>\n",
       "      <th>3</th>\n",
       "      <td>Изменить структура категорий, что увеличит конверсию, т.к. пользователи быстрее найдут нужный товар</td>\n",
       "      <td>8</td>\n",
       "      <td>3</td>\n",
       "      <td>3</td>\n",
       "      <td>8</td>\n",
       "    </tr>\n",
       "    <tr>\n",
       "      <th>4</th>\n",
       "      <td>Изменить цвет фона главной страницы, чтобы увеличить вовлеченность пользователей</td>\n",
       "      <td>3</td>\n",
       "      <td>1</td>\n",
       "      <td>1</td>\n",
       "      <td>1</td>\n",
       "    </tr>\n",
       "    <tr>\n",
       "      <th>5</th>\n",
       "      <td>Добавить страницу отзывов клиентов о магазине, что позволит увеличить количество заказов</td>\n",
       "      <td>3</td>\n",
       "      <td>2</td>\n",
       "      <td>2</td>\n",
       "      <td>3</td>\n",
       "    </tr>\n",
       "    <tr>\n",
       "      <th>6</th>\n",
       "      <td>Показать на главной странице баннеры с актуальными акциями и распродажами, чтобы увеличить конверсию</td>\n",
       "      <td>5</td>\n",
       "      <td>3</td>\n",
       "      <td>8</td>\n",
       "      <td>3</td>\n",
       "    </tr>\n",
       "    <tr>\n",
       "      <th>7</th>\n",
       "      <td>Добавить форму подписки на все основные страницы, чтобы собрать базу клиентов для email-рассылок</td>\n",
       "      <td>10</td>\n",
       "      <td>7</td>\n",
       "      <td>8</td>\n",
       "      <td>5</td>\n",
       "    </tr>\n",
       "    <tr>\n",
       "      <th>8</th>\n",
       "      <td>Запустить акцию, дающую скидку на товар в день рождения</td>\n",
       "      <td>1</td>\n",
       "      <td>9</td>\n",
       "      <td>9</td>\n",
       "      <td>5</td>\n",
       "    </tr>\n",
       "  </tbody>\n",
       "</table>\n",
       "</div>"
      ],
      "text/plain": [
       "                                                                                                     Hypothesis  \\\n",
       "0            Добавить два новых канала привлечения трафика, что позволит привлекать на 30% больше пользователей   \n",
       "1                                     Запустить собственную службу доставки, что сократит срок доставки заказов   \n",
       "2  Добавить блоки рекомендаций товаров на сайт интернет магазина, чтобы повысить конверсию и средний чек заказа   \n",
       "3           Изменить структура категорий, что увеличит конверсию, т.к. пользователи быстрее найдут нужный товар   \n",
       "4                              Изменить цвет фона главной страницы, чтобы увеличить вовлеченность пользователей   \n",
       "5                      Добавить страницу отзывов клиентов о магазине, что позволит увеличить количество заказов   \n",
       "6          Показать на главной странице баннеры с актуальными акциями и распродажами, чтобы увеличить конверсию   \n",
       "7              Добавить форму подписки на все основные страницы, чтобы собрать базу клиентов для email-рассылок   \n",
       "8                                                       Запустить акцию, дающую скидку на товар в день рождения   \n",
       "\n",
       "   Reach  Impact  Confidence  Efforts  \n",
       "0      3      10           8        6  \n",
       "1      2       5           4       10  \n",
       "2      8       3           7        3  \n",
       "3      8       3           3        8  \n",
       "4      3       1           1        1  \n",
       "5      3       2           2        3  \n",
       "6      5       3           8        3  \n",
       "7     10       7           8        5  \n",
       "8      1       9           9        5  "
      ]
     },
     "metadata": {},
     "output_type": "display_data"
    }
   ],
   "source": [
    "display(hypothesis)"
   ]
  },
  {
   "cell_type": "markdown",
   "id": "2f59e091",
   "metadata": {},
   "source": [
    "Для приоритизации гипотез сначала применяем фреймворк ICE, сортируя их по убыванию приоритета:"
   ]
  },
  {
   "cell_type": "code",
   "execution_count": 6,
   "id": "38dff8f8",
   "metadata": {
    "scrolled": true
   },
   "outputs": [
    {
     "data": {
      "text/html": [
       "<div>\n",
       "<style scoped>\n",
       "    .dataframe tbody tr th:only-of-type {\n",
       "        vertical-align: middle;\n",
       "    }\n",
       "\n",
       "    .dataframe tbody tr th {\n",
       "        vertical-align: top;\n",
       "    }\n",
       "\n",
       "    .dataframe thead th {\n",
       "        text-align: right;\n",
       "    }\n",
       "</style>\n",
       "<table border=\"1\" class=\"dataframe\">\n",
       "  <thead>\n",
       "    <tr style=\"text-align: right;\">\n",
       "      <th></th>\n",
       "      <th>Hypothesis</th>\n",
       "      <th>ICE</th>\n",
       "    </tr>\n",
       "  </thead>\n",
       "  <tbody>\n",
       "    <tr>\n",
       "      <th>8</th>\n",
       "      <td>Запустить акцию, дающую скидку на товар в день рождения</td>\n",
       "      <td>16.20</td>\n",
       "    </tr>\n",
       "    <tr>\n",
       "      <th>0</th>\n",
       "      <td>Добавить два новых канала привлечения трафика, что позволит привлекать на 30% больше пользователей</td>\n",
       "      <td>13.33</td>\n",
       "    </tr>\n",
       "    <tr>\n",
       "      <th>7</th>\n",
       "      <td>Добавить форму подписки на все основные страницы, чтобы собрать базу клиентов для email-рассылок</td>\n",
       "      <td>11.20</td>\n",
       "    </tr>\n",
       "    <tr>\n",
       "      <th>6</th>\n",
       "      <td>Показать на главной странице баннеры с актуальными акциями и распродажами, чтобы увеличить конверсию</td>\n",
       "      <td>8.00</td>\n",
       "    </tr>\n",
       "    <tr>\n",
       "      <th>2</th>\n",
       "      <td>Добавить блоки рекомендаций товаров на сайт интернет магазина, чтобы повысить конверсию и средний чек заказа</td>\n",
       "      <td>7.00</td>\n",
       "    </tr>\n",
       "    <tr>\n",
       "      <th>1</th>\n",
       "      <td>Запустить собственную службу доставки, что сократит срок доставки заказов</td>\n",
       "      <td>2.00</td>\n",
       "    </tr>\n",
       "    <tr>\n",
       "      <th>5</th>\n",
       "      <td>Добавить страницу отзывов клиентов о магазине, что позволит увеличить количество заказов</td>\n",
       "      <td>1.33</td>\n",
       "    </tr>\n",
       "    <tr>\n",
       "      <th>3</th>\n",
       "      <td>Изменить структура категорий, что увеличит конверсию, т.к. пользователи быстрее найдут нужный товар</td>\n",
       "      <td>1.12</td>\n",
       "    </tr>\n",
       "    <tr>\n",
       "      <th>4</th>\n",
       "      <td>Изменить цвет фона главной страницы, чтобы увеличить вовлеченность пользователей</td>\n",
       "      <td>1.00</td>\n",
       "    </tr>\n",
       "  </tbody>\n",
       "</table>\n",
       "</div>"
      ],
      "text/plain": [
       "                                                                                                     Hypothesis  \\\n",
       "8                                                       Запустить акцию, дающую скидку на товар в день рождения   \n",
       "0            Добавить два новых канала привлечения трафика, что позволит привлекать на 30% больше пользователей   \n",
       "7              Добавить форму подписки на все основные страницы, чтобы собрать базу клиентов для email-рассылок   \n",
       "6          Показать на главной странице баннеры с актуальными акциями и распродажами, чтобы увеличить конверсию   \n",
       "2  Добавить блоки рекомендаций товаров на сайт интернет магазина, чтобы повысить конверсию и средний чек заказа   \n",
       "1                                     Запустить собственную службу доставки, что сократит срок доставки заказов   \n",
       "5                      Добавить страницу отзывов клиентов о магазине, что позволит увеличить количество заказов   \n",
       "3           Изменить структура категорий, что увеличит конверсию, т.к. пользователи быстрее найдут нужный товар   \n",
       "4                              Изменить цвет фона главной страницы, чтобы увеличить вовлеченность пользователей   \n",
       "\n",
       "     ICE  \n",
       "8  16.20  \n",
       "0  13.33  \n",
       "7  11.20  \n",
       "6   8.00  \n",
       "2   7.00  \n",
       "1   2.00  \n",
       "5   1.33  \n",
       "3   1.12  \n",
       "4   1.00  "
      ]
     },
     "metadata": {},
     "output_type": "display_data"
    }
   ],
   "source": [
    "hypothesis['ICE'] = round((hypothesis ['Impact'] * hypothesis['Confidence'])/hypothesis['Efforts'], 2)\n",
    "display(hypothesis[['Hypothesis','ICE']].sort_values(by = 'ICE', ascending = False))"
   ]
  },
  {
   "cell_type": "markdown",
   "id": "5069b259",
   "metadata": {},
   "source": [
    "Наиболее приоритетными гипотезами выступают предложение запустить акцию, дающую скидку на товар в день рождения. Кроме того высокий приоритет у добавления новых каналов привлечения траффика (2 место) и добавления формы подписки на все основные страницы (1 место)."
   ]
  },
  {
   "cell_type": "markdown",
   "id": "dea8e824",
   "metadata": {},
   "source": [
    "Теперь применим фреймворк RICE для приоритизации гипотез, тоже сортируем их по убыванию приоритета.\n"
   ]
  },
  {
   "cell_type": "code",
   "execution_count": 7,
   "id": "24a853fc",
   "metadata": {},
   "outputs": [
    {
     "data": {
      "text/html": [
       "<div>\n",
       "<style scoped>\n",
       "    .dataframe tbody tr th:only-of-type {\n",
       "        vertical-align: middle;\n",
       "    }\n",
       "\n",
       "    .dataframe tbody tr th {\n",
       "        vertical-align: top;\n",
       "    }\n",
       "\n",
       "    .dataframe thead th {\n",
       "        text-align: right;\n",
       "    }\n",
       "</style>\n",
       "<table border=\"1\" class=\"dataframe\">\n",
       "  <thead>\n",
       "    <tr style=\"text-align: right;\">\n",
       "      <th></th>\n",
       "      <th>Hypothesis</th>\n",
       "      <th>RICE</th>\n",
       "    </tr>\n",
       "  </thead>\n",
       "  <tbody>\n",
       "    <tr>\n",
       "      <th>7</th>\n",
       "      <td>Добавить форму подписки на все основные страницы, чтобы собрать базу клиентов для email-рассылок</td>\n",
       "      <td>112.0</td>\n",
       "    </tr>\n",
       "    <tr>\n",
       "      <th>2</th>\n",
       "      <td>Добавить блоки рекомендаций товаров на сайт интернет магазина, чтобы повысить конверсию и средний чек заказа</td>\n",
       "      <td>56.0</td>\n",
       "    </tr>\n",
       "    <tr>\n",
       "      <th>0</th>\n",
       "      <td>Добавить два новых канала привлечения трафика, что позволит привлекать на 30% больше пользователей</td>\n",
       "      <td>40.0</td>\n",
       "    </tr>\n",
       "    <tr>\n",
       "      <th>6</th>\n",
       "      <td>Показать на главной странице баннеры с актуальными акциями и распродажами, чтобы увеличить конверсию</td>\n",
       "      <td>40.0</td>\n",
       "    </tr>\n",
       "    <tr>\n",
       "      <th>8</th>\n",
       "      <td>Запустить акцию, дающую скидку на товар в день рождения</td>\n",
       "      <td>16.2</td>\n",
       "    </tr>\n",
       "    <tr>\n",
       "      <th>3</th>\n",
       "      <td>Изменить структура категорий, что увеличит конверсию, т.к. пользователи быстрее найдут нужный товар</td>\n",
       "      <td>9.0</td>\n",
       "    </tr>\n",
       "    <tr>\n",
       "      <th>1</th>\n",
       "      <td>Запустить собственную службу доставки, что сократит срок доставки заказов</td>\n",
       "      <td>4.0</td>\n",
       "    </tr>\n",
       "    <tr>\n",
       "      <th>5</th>\n",
       "      <td>Добавить страницу отзывов клиентов о магазине, что позволит увеличить количество заказов</td>\n",
       "      <td>4.0</td>\n",
       "    </tr>\n",
       "    <tr>\n",
       "      <th>4</th>\n",
       "      <td>Изменить цвет фона главной страницы, чтобы увеличить вовлеченность пользователей</td>\n",
       "      <td>3.0</td>\n",
       "    </tr>\n",
       "  </tbody>\n",
       "</table>\n",
       "</div>"
      ],
      "text/plain": [
       "                                                                                                     Hypothesis  \\\n",
       "7              Добавить форму подписки на все основные страницы, чтобы собрать базу клиентов для email-рассылок   \n",
       "2  Добавить блоки рекомендаций товаров на сайт интернет магазина, чтобы повысить конверсию и средний чек заказа   \n",
       "0            Добавить два новых канала привлечения трафика, что позволит привлекать на 30% больше пользователей   \n",
       "6          Показать на главной странице баннеры с актуальными акциями и распродажами, чтобы увеличить конверсию   \n",
       "8                                                       Запустить акцию, дающую скидку на товар в день рождения   \n",
       "3           Изменить структура категорий, что увеличит конверсию, т.к. пользователи быстрее найдут нужный товар   \n",
       "1                                     Запустить собственную службу доставки, что сократит срок доставки заказов   \n",
       "5                      Добавить страницу отзывов клиентов о магазине, что позволит увеличить количество заказов   \n",
       "4                              Изменить цвет фона главной страницы, чтобы увеличить вовлеченность пользователей   \n",
       "\n",
       "    RICE  \n",
       "7  112.0  \n",
       "2   56.0  \n",
       "0   40.0  \n",
       "6   40.0  \n",
       "8   16.2  \n",
       "3    9.0  \n",
       "1    4.0  \n",
       "5    4.0  \n",
       "4    3.0  "
      ]
     },
     "metadata": {},
     "output_type": "display_data"
    }
   ],
   "source": [
    "hypothesis['RICE'] = round((hypothesis ['Reach']*hypothesis ['Impact'] * hypothesis['Confidence'])/hypothesis['Efforts'], 2)\n",
    "display(hypothesis[['Hypothesis','RICE']].sort_values(by = 'RICE', ascending = False))"
   ]
  },
  {
   "cell_type": "markdown",
   "id": "a98fd69a",
   "metadata": {},
   "source": [
    "При применении RICE ситуация изменилась: предложение добавить форму подписки вырвалось с третьего на первое место, уверенно занимая лидирующую позицию. Причина - добавление параментра reach в анализ, который показывает как много пользователей затронет гипотеза. Лидеры при применении ICE также были сильными гипотезами, но затрагивали меньшее количество пользователей. "
   ]
  },
  {
   "cell_type": "markdown",
   "id": "fe51b836",
   "metadata": {},
   "source": [
    "<b>**Вывод:**</b> наиболее приоритетной представляется гипотеза 'добавить форму подписки на все основные страницы, чтобы собрать базу клиентов для email-рассылок' -  лидер при применении фреймворка RICE. \n",
    "<br>\n",
    "    <br>\n",
    "    Гипотеза-лидер при применении фреймворка ICE \"запустить акцию, дающую скидку на товар в день рождения\" затрагивает лишь небольшое количество клиентов (именников не так много и не факт что именно в день рождения они решат заняться шоппингом). Нас интересует вопрос увелечения выручки интернет-магазина, охват пользователей для этих целей очень важен. </div>"
   ]
  },
  {
   "cell_type": "markdown",
   "id": "9c1af54d",
   "metadata": {},
   "source": [
    "# Часть 2:  Анализ A/B-теста"
   ]
  },
  {
   "cell_type": "markdown",
   "id": "4ea7bdbb",
   "metadata": {},
   "source": [
    "Мы провели A/B-тест и получили результаты о заказах и посетителях, которые в этой части исследования будут проанализированы"
   ]
  },
  {
   "cell_type": "code",
   "execution_count": 8,
   "id": "c7458180",
   "metadata": {},
   "outputs": [],
   "source": [
    "try:\n",
    "    orders = pd.read_csv('orders.csv')  # загружаем локальный файл с данными о заказах\n",
    "except:\n",
    "    orders = pd.read_csv('/datasets/orders.csv')    # альтернативный путь к данным для работы с других устройств"
   ]
  },
  {
   "cell_type": "code",
   "execution_count": 9,
   "id": "fb9a25f7",
   "metadata": {},
   "outputs": [],
   "source": [
    "try:\n",
    "    visitors = pd.read_csv('visitors.csv')  # загружаем локальный файл с данными о посетителях\n",
    "except:\n",
    "    visitors = pd.read_csv('/datasets/visitors.csv')    # альтернативный путь к данным для работы с других устройств"
   ]
  },
  {
   "cell_type": "markdown",
   "id": "654b1d29",
   "metadata": {},
   "source": [
    "## 2.1 Обработка данных"
   ]
  },
  {
   "cell_type": "markdown",
   "id": "89fbb346",
   "metadata": {},
   "source": [
    "Загружаем данные для анализа и переходим к первичной необходимой обработке. Смотрим общую информацию о загруженных файлах:"
   ]
  },
  {
   "cell_type": "code",
   "execution_count": 10,
   "id": "daa221fb",
   "metadata": {},
   "outputs": [
    {
     "name": "stdout",
     "output_type": "stream",
     "text": [
      "<class 'pandas.core.frame.DataFrame'>\n",
      "RangeIndex: 62 entries, 0 to 61\n",
      "Data columns (total 3 columns):\n",
      " #   Column    Non-Null Count  Dtype \n",
      "---  ------    --------------  ----- \n",
      " 0   date      62 non-null     object\n",
      " 1   group     62 non-null     object\n",
      " 2   visitors  62 non-null     int64 \n",
      "dtypes: int64(1), object(2)\n",
      "memory usage: 1.6+ KB\n"
     ]
    }
   ],
   "source": [
    "visitors.info()"
   ]
  },
  {
   "cell_type": "code",
   "execution_count": 11,
   "id": "edcb4558",
   "metadata": {},
   "outputs": [
    {
     "name": "stdout",
     "output_type": "stream",
     "text": [
      "<class 'pandas.core.frame.DataFrame'>\n",
      "RangeIndex: 1197 entries, 0 to 1196\n",
      "Data columns (total 5 columns):\n",
      " #   Column         Non-Null Count  Dtype \n",
      "---  ------         --------------  ----- \n",
      " 0   transactionId  1197 non-null   int64 \n",
      " 1   visitorId      1197 non-null   int64 \n",
      " 2   date           1197 non-null   object\n",
      " 3   revenue        1197 non-null   int64 \n",
      " 4   group          1197 non-null   object\n",
      "dtypes: int64(3), object(2)\n",
      "memory usage: 46.9+ KB\n"
     ]
    }
   ],
   "source": [
    "orders.info()"
   ]
  },
  {
   "cell_type": "code",
   "execution_count": 12,
   "id": "1ef1480c",
   "metadata": {},
   "outputs": [
    {
     "data": {
      "text/html": [
       "<div>\n",
       "<style scoped>\n",
       "    .dataframe tbody tr th:only-of-type {\n",
       "        vertical-align: middle;\n",
       "    }\n",
       "\n",
       "    .dataframe tbody tr th {\n",
       "        vertical-align: top;\n",
       "    }\n",
       "\n",
       "    .dataframe thead th {\n",
       "        text-align: right;\n",
       "    }\n",
       "</style>\n",
       "<table border=\"1\" class=\"dataframe\">\n",
       "  <thead>\n",
       "    <tr style=\"text-align: right;\">\n",
       "      <th></th>\n",
       "      <th>date</th>\n",
       "      <th>group</th>\n",
       "      <th>visitors</th>\n",
       "    </tr>\n",
       "  </thead>\n",
       "  <tbody>\n",
       "    <tr>\n",
       "      <th>0</th>\n",
       "      <td>2019-08-01</td>\n",
       "      <td>A</td>\n",
       "      <td>719</td>\n",
       "    </tr>\n",
       "    <tr>\n",
       "      <th>1</th>\n",
       "      <td>2019-08-02</td>\n",
       "      <td>A</td>\n",
       "      <td>619</td>\n",
       "    </tr>\n",
       "    <tr>\n",
       "      <th>2</th>\n",
       "      <td>2019-08-03</td>\n",
       "      <td>A</td>\n",
       "      <td>507</td>\n",
       "    </tr>\n",
       "    <tr>\n",
       "      <th>3</th>\n",
       "      <td>2019-08-04</td>\n",
       "      <td>A</td>\n",
       "      <td>717</td>\n",
       "    </tr>\n",
       "    <tr>\n",
       "      <th>4</th>\n",
       "      <td>2019-08-05</td>\n",
       "      <td>A</td>\n",
       "      <td>756</td>\n",
       "    </tr>\n",
       "  </tbody>\n",
       "</table>\n",
       "</div>"
      ],
      "text/plain": [
       "         date group  visitors\n",
       "0  2019-08-01     A       719\n",
       "1  2019-08-02     A       619\n",
       "2  2019-08-03     A       507\n",
       "3  2019-08-04     A       717\n",
       "4  2019-08-05     A       756"
      ]
     },
     "execution_count": 12,
     "metadata": {},
     "output_type": "execute_result"
    }
   ],
   "source": [
    "visitors.head()"
   ]
  },
  {
   "cell_type": "code",
   "execution_count": 13,
   "id": "6c4c6160",
   "metadata": {
    "scrolled": true
   },
   "outputs": [
    {
     "data": {
      "text/html": [
       "<div>\n",
       "<style scoped>\n",
       "    .dataframe tbody tr th:only-of-type {\n",
       "        vertical-align: middle;\n",
       "    }\n",
       "\n",
       "    .dataframe tbody tr th {\n",
       "        vertical-align: top;\n",
       "    }\n",
       "\n",
       "    .dataframe thead th {\n",
       "        text-align: right;\n",
       "    }\n",
       "</style>\n",
       "<table border=\"1\" class=\"dataframe\">\n",
       "  <thead>\n",
       "    <tr style=\"text-align: right;\">\n",
       "      <th></th>\n",
       "      <th>transactionId</th>\n",
       "      <th>visitorId</th>\n",
       "      <th>date</th>\n",
       "      <th>revenue</th>\n",
       "      <th>group</th>\n",
       "    </tr>\n",
       "  </thead>\n",
       "  <tbody>\n",
       "    <tr>\n",
       "      <th>0</th>\n",
       "      <td>3667963787</td>\n",
       "      <td>3312258926</td>\n",
       "      <td>2019-08-15</td>\n",
       "      <td>1650</td>\n",
       "      <td>B</td>\n",
       "    </tr>\n",
       "    <tr>\n",
       "      <th>1</th>\n",
       "      <td>2804400009</td>\n",
       "      <td>3642806036</td>\n",
       "      <td>2019-08-15</td>\n",
       "      <td>730</td>\n",
       "      <td>B</td>\n",
       "    </tr>\n",
       "    <tr>\n",
       "      <th>2</th>\n",
       "      <td>2961555356</td>\n",
       "      <td>4069496402</td>\n",
       "      <td>2019-08-15</td>\n",
       "      <td>400</td>\n",
       "      <td>A</td>\n",
       "    </tr>\n",
       "    <tr>\n",
       "      <th>3</th>\n",
       "      <td>3797467345</td>\n",
       "      <td>1196621759</td>\n",
       "      <td>2019-08-15</td>\n",
       "      <td>9759</td>\n",
       "      <td>B</td>\n",
       "    </tr>\n",
       "    <tr>\n",
       "      <th>4</th>\n",
       "      <td>2282983706</td>\n",
       "      <td>2322279887</td>\n",
       "      <td>2019-08-15</td>\n",
       "      <td>2308</td>\n",
       "      <td>B</td>\n",
       "    </tr>\n",
       "  </tbody>\n",
       "</table>\n",
       "</div>"
      ],
      "text/plain": [
       "   transactionId   visitorId        date  revenue group\n",
       "0     3667963787  3312258926  2019-08-15     1650     B\n",
       "1     2804400009  3642806036  2019-08-15      730     B\n",
       "2     2961555356  4069496402  2019-08-15      400     A\n",
       "3     3797467345  1196621759  2019-08-15     9759     B\n",
       "4     2282983706  2322279887  2019-08-15     2308     B"
      ]
     },
     "execution_count": 13,
     "metadata": {},
     "output_type": "execute_result"
    }
   ],
   "source": [
    "orders.head()"
   ]
  },
  {
   "cell_type": "markdown",
   "id": "f4738f3b",
   "metadata": {},
   "source": [
    "Файлы отличаются по структуре: в файле с посетителями агрегированные по признакам \"дата\" и \"группа\" данные за август 2019 года, когда был проведен A/B-тест. В файле с заказами более детальная информация по каждому заказу, включающая в себя идентификатор заказа и клиента. \n",
    "Тип данных полей с датами - object, необходимо исправить его на правильный."
   ]
  },
  {
   "cell_type": "code",
   "execution_count": 14,
   "id": "73f3f684",
   "metadata": {},
   "outputs": [],
   "source": [
    "orders['date'] = pd.to_datetime(orders['date'])"
   ]
  },
  {
   "cell_type": "code",
   "execution_count": 15,
   "id": "c9211b18",
   "metadata": {},
   "outputs": [],
   "source": [
    "visitors['date'] = pd.to_datetime(visitors['date'])"
   ]
  },
  {
   "cell_type": "code",
   "execution_count": 16,
   "id": "cb2f8d06",
   "metadata": {},
   "outputs": [
    {
     "name": "stdout",
     "output_type": "stream",
     "text": [
      "<class 'pandas.core.frame.DataFrame'>\n",
      "RangeIndex: 1197 entries, 0 to 1196\n",
      "Data columns (total 5 columns):\n",
      " #   Column         Non-Null Count  Dtype         \n",
      "---  ------         --------------  -----         \n",
      " 0   transactionId  1197 non-null   int64         \n",
      " 1   visitorId      1197 non-null   int64         \n",
      " 2   date           1197 non-null   datetime64[ns]\n",
      " 3   revenue        1197 non-null   int64         \n",
      " 4   group          1197 non-null   object        \n",
      "dtypes: datetime64[ns](1), int64(3), object(1)\n",
      "memory usage: 46.9+ KB\n"
     ]
    }
   ],
   "source": [
    "orders.info()"
   ]
  },
  {
   "cell_type": "code",
   "execution_count": 17,
   "id": "ccce2165",
   "metadata": {},
   "outputs": [
    {
     "name": "stdout",
     "output_type": "stream",
     "text": [
      "<class 'pandas.core.frame.DataFrame'>\n",
      "RangeIndex: 62 entries, 0 to 61\n",
      "Data columns (total 3 columns):\n",
      " #   Column    Non-Null Count  Dtype         \n",
      "---  ------    --------------  -----         \n",
      " 0   date      62 non-null     datetime64[ns]\n",
      " 1   group     62 non-null     object        \n",
      " 2   visitors  62 non-null     int64         \n",
      "dtypes: datetime64[ns](1), int64(1), object(1)\n",
      "memory usage: 1.6+ KB\n"
     ]
    }
   ],
   "source": [
    "visitors.info()"
   ]
  },
  {
   "cell_type": "markdown",
   "id": "3bf50f89",
   "metadata": {},
   "source": [
    "С типом данных теперь все в порядке. Переименуем столбцы в файле с заказами в более удобные для прочтения:"
   ]
  },
  {
   "cell_type": "code",
   "execution_count": 18,
   "id": "d3be7629",
   "metadata": {},
   "outputs": [],
   "source": [
    "orders.columns = ['order_id', 'visitor_id', 'date', 'revenue', 'group' ]"
   ]
  },
  {
   "cell_type": "markdown",
   "id": "41d3fb9c",
   "metadata": {},
   "source": [
    "Смотрим есть ли в базах пропуски и явные дубликаты:"
   ]
  },
  {
   "cell_type": "code",
   "execution_count": 19,
   "id": "612b86b9",
   "metadata": {},
   "outputs": [
    {
     "data": {
      "text/plain": [
       "date        0\n",
       "group       0\n",
       "visitors    0\n",
       "dtype: int64"
      ]
     },
     "execution_count": 19,
     "metadata": {},
     "output_type": "execute_result"
    }
   ],
   "source": [
    "visitors.isna().sum()"
   ]
  },
  {
   "cell_type": "code",
   "execution_count": 20,
   "id": "75586a06",
   "metadata": {},
   "outputs": [
    {
     "data": {
      "text/plain": [
       "order_id      0\n",
       "visitor_id    0\n",
       "date          0\n",
       "revenue       0\n",
       "group         0\n",
       "dtype: int64"
      ]
     },
     "execution_count": 20,
     "metadata": {},
     "output_type": "execute_result"
    }
   ],
   "source": [
    "orders.isna().sum()"
   ]
  },
  {
   "cell_type": "code",
   "execution_count": 21,
   "id": "3b4c1290",
   "metadata": {},
   "outputs": [
    {
     "data": {
      "text/plain": [
       "0"
      ]
     },
     "execution_count": 21,
     "metadata": {},
     "output_type": "execute_result"
    }
   ],
   "source": [
    "visitors.duplicated().sum() "
   ]
  },
  {
   "cell_type": "code",
   "execution_count": 22,
   "id": "86b4c559",
   "metadata": {},
   "outputs": [
    {
     "data": {
      "text/plain": [
       "0"
      ]
     },
     "execution_count": 22,
     "metadata": {},
     "output_type": "execute_result"
    }
   ],
   "source": [
    "orders.duplicated().sum() "
   ]
  },
  {
   "cell_type": "markdown",
   "id": "657ce991",
   "metadata": {},
   "source": [
    "Пропусков и дубликатов нет. Теперь посмотрим все ли участники A/B-теста попали только в одну группу."
   ]
  },
  {
   "cell_type": "code",
   "execution_count": 23,
   "id": "692b892f",
   "metadata": {
    "scrolled": true
   },
   "outputs": [
    {
     "data": {
      "text/plain": [
       "group\n",
       "A    557\n",
       "B    640\n",
       "Name: visitor_id, dtype: int64"
      ]
     },
     "execution_count": 23,
     "metadata": {},
     "output_type": "execute_result"
    }
   ],
   "source": [
    "orders.groupby('group')['visitor_id'].count()  # посмотрим сколько участников по группам распределилось всего"
   ]
  },
  {
   "cell_type": "code",
   "execution_count": 24,
   "id": "da8347db",
   "metadata": {
    "scrolled": true
   },
   "outputs": [
    {
     "data": {
      "text/plain": [
       "group\n",
       "A    503\n",
       "B    586\n",
       "Name: visitor_id, dtype: int64"
      ]
     },
     "execution_count": 24,
     "metadata": {},
     "output_type": "execute_result"
    }
   ],
   "source": [
    "orders.groupby('group')['visitor_id'].nunique()  # и сколько при этом было уникальными пользователями"
   ]
  },
  {
   "cell_type": "markdown",
   "id": "aff26546",
   "metadata": {},
   "source": [
    "Некоторые пользователи попали и в одну, и другую группу. Их данные представляется необходимым удалить из файла с заказами, т.к. непонятно что именно повлияло на их решение о заказе. Найдем id посетителей, которые попали сразу в обе группы при тесте  "
   ]
  },
  {
   "cell_type": "code",
   "execution_count": 25,
   "id": "7a43fc7f",
   "metadata": {
    "scrolled": true
   },
   "outputs": [],
   "source": [
    "# формируем сводную таблицу по id посетителей и считаем количество групп, в которых они участвовали\n",
    "\n",
    "visitors_group_duplicate = orders.pivot_table(index = 'visitor_id', values = 'group', aggfunc = 'nunique')\\\n",
    ".reset_index().query('group > 1')"
   ]
  },
  {
   "cell_type": "code",
   "execution_count": 26,
   "id": "9199f480",
   "metadata": {},
   "outputs": [
    {
     "data": {
      "text/plain": [
       "visitor_id    58\n",
       "group         58\n",
       "dtype: int64"
      ]
     },
     "execution_count": 26,
     "metadata": {},
     "output_type": "execute_result"
    }
   ],
   "source": [
    "visitors_group_duplicate.count()"
   ]
  },
  {
   "cell_type": "code",
   "execution_count": 27,
   "id": "8e7d1833",
   "metadata": {},
   "outputs": [],
   "source": [
    "# создаем лист с id,  которые попали и в одну и в другую группу\n",
    "\n",
    "duplicate_list = list(visitors_group_duplicate[visitors_group_duplicate['group']!=1]['visitor_id'])"
   ]
  },
  {
   "cell_type": "code",
   "execution_count": 28,
   "id": "f1fd3b94",
   "metadata": {
    "scrolled": true
   },
   "outputs": [
    {
     "data": {
      "text/plain": [
       "[8300375,\n",
       " 199603092,\n",
       " 232979603,\n",
       " 237748145,\n",
       " 276558944,\n",
       " 351125977,\n",
       " 393266494,\n",
       " 457167155,\n",
       " 471551937,\n",
       " 477780734,\n",
       " 818047933,\n",
       " 963407295,\n",
       " 1230306981,\n",
       " 1294878855,\n",
       " 1316129916,\n",
       " 1333886533,\n",
       " 1404934699,\n",
       " 1602967004,\n",
       " 1614305549,\n",
       " 1648269707,\n",
       " 1668030113,\n",
       " 1738359350,\n",
       " 1801183820,\n",
       " 1959144690,\n",
       " 2038680547,\n",
       " 2044997962,\n",
       " 2378935119,\n",
       " 2458001652,\n",
       " 2579882178,\n",
       " 2587333274,\n",
       " 2600415354,\n",
       " 2654030115,\n",
       " 2686716486,\n",
       " 2712142231,\n",
       " 2716752286,\n",
       " 2780786433,\n",
       " 2927087541,\n",
       " 2949041841,\n",
       " 2954449915,\n",
       " 3062433592,\n",
       " 3202540741,\n",
       " 3234906277,\n",
       " 3656415546,\n",
       " 3717692402,\n",
       " 3766097110,\n",
       " 3803269165,\n",
       " 3891541246,\n",
       " 3941795274,\n",
       " 3951559397,\n",
       " 3957174400,\n",
       " 3963646447,\n",
       " 3972127743,\n",
       " 3984495233,\n",
       " 4069496402,\n",
       " 4120364173,\n",
       " 4186807279,\n",
       " 4256040402,\n",
       " 4266935830]"
      ]
     },
     "execution_count": 28,
     "metadata": {},
     "output_type": "execute_result"
    }
   ],
   "source": [
    "duplicate_list"
   ]
  },
  {
   "cell_type": "code",
   "execution_count": 29,
   "id": "250f6466",
   "metadata": {},
   "outputs": [],
   "source": [
    "orders_clear = orders.query('visitor_id not in @duplicate_list')"
   ]
  },
  {
   "cell_type": "code",
   "execution_count": 30,
   "id": "f3102397",
   "metadata": {},
   "outputs": [
    {
     "name": "stdout",
     "output_type": "stream",
     "text": [
      "<class 'pandas.core.frame.DataFrame'>\n",
      "Int64Index: 1016 entries, 0 to 1196\n",
      "Data columns (total 5 columns):\n",
      " #   Column      Non-Null Count  Dtype         \n",
      "---  ------      --------------  -----         \n",
      " 0   order_id    1016 non-null   int64         \n",
      " 1   visitor_id  1016 non-null   int64         \n",
      " 2   date        1016 non-null   datetime64[ns]\n",
      " 3   revenue     1016 non-null   int64         \n",
      " 4   group       1016 non-null   object        \n",
      "dtypes: datetime64[ns](1), int64(3), object(1)\n",
      "memory usage: 47.6+ KB\n"
     ]
    }
   ],
   "source": [
    "orders_clear.info()"
   ]
  },
  {
   "cell_type": "markdown",
   "id": "5dc151c7",
   "metadata": {},
   "source": [
    "Количество заказов сократилось с 1197 до 1016 - это около 15%. Потеря значительная, но эти данные не подходили для анализа. К сожалению в файле visitors отсутствует информация по id пользователей и нет возможности удалить этих посетителей и оттуда. Файл visitors оставляем без изменений."
   ]
  },
  {
   "cell_type": "markdown",
   "id": "52810a4a",
   "metadata": {},
   "source": [
    "Предварительный анализ данных завершен, переходим к анализу проведенного теста."
   ]
  },
  {
   "cell_type": "markdown",
   "id": "33bbe819",
   "metadata": {},
   "source": [
    "# 2.2 Анализ A/B-теста"
   ]
  },
  {
   "cell_type": "markdown",
   "id": "dc13530e",
   "metadata": {},
   "source": [
    "### 2.2.1 График кумулятивной выручки по группам"
   ]
  },
  {
   "cell_type": "markdown",
   "id": "08f1f218",
   "metadata": {},
   "source": [
    "Рассчитаем максимальную дату тестирования и будем ежедневно считать результаты тестирования до последнего дня включительно, сохраняя их в ordersAggregated"
   ]
  },
  {
   "cell_type": "code",
   "execution_count": 31,
   "id": "4750a23b",
   "metadata": {},
   "outputs": [],
   "source": [
    "ordersAggregated = orders_clear.apply(lambda x: orders_clear[np.logical_and(orders_clear['date'] <= x['date'], \\\n",
    "                                                                      orders_clear['group'] == x['group'])]\\\n",
    ".agg({'date' : 'max', 'group' : 'max', 'order_id' : 'nunique', 'visitor_id' : 'nunique', 'revenue' : 'sum'}),\\\n",
    "                                      axis=1).sort_values(by=['date','group'])"
   ]
  },
  {
   "cell_type": "markdown",
   "id": "38be8c37",
   "metadata": {},
   "source": [
    "Аналогично получим агрегированные кумулятивные по дням данные о посетителях интернет-магазина: "
   ]
  },
  {
   "cell_type": "code",
   "execution_count": 32,
   "id": "fa7c376f",
   "metadata": {},
   "outputs": [],
   "source": [
    "visitorsAggregated = visitors.apply(lambda x: visitors[np.logical_and(visitors['date'] <= x['date'], \\\n",
    "             visitors['group'] == x['group'])].agg({'date' : 'max', 'group' : 'max', 'visitors' : 'sum'}), \\\n",
    "                                    axis=1).sort_values(by=['date','group'])"
   ]
  },
  {
   "cell_type": "markdown",
   "id": "712ab802",
   "metadata": {},
   "source": [
    "Объединяем обе таблицы в одну:"
   ]
  },
  {
   "cell_type": "code",
   "execution_count": 33,
   "id": "2e496b16",
   "metadata": {},
   "outputs": [
    {
     "name": "stdout",
     "output_type": "stream",
     "text": [
      "        date group  orders  buyers  revenue  visitors\n",
      "0 2019-08-01     A      23      19   142779       719\n",
      "1 2019-08-01     B      17      17    59758       713\n",
      "2 2019-08-02     A      42      36   234381      1338\n",
      "3 2019-08-02     B      40      39   221801      1294\n",
      "4 2019-08-03     A      66      60   346854      1845\n"
     ]
    }
   ],
   "source": [
    "# создаем массив уникальных пар значений дат и групп теста\n",
    "datesGroups = orders_clear[['date','group']].drop_duplicates()\n",
    "\n",
    "# получаем агрегированные кумулятивные по дням данные о заказах \n",
    "orders_Aggregated = datesGroups.apply(lambda x: orders_clear[np.logical_and(orders_clear['date'] <= x['date'], \\\n",
    "        orders_clear['group'] == x['group'])].agg({'date' : 'max', 'group' : 'max', 'order_id' : 'nunique', \\\n",
    "                    'visitor_id' : 'nunique', 'revenue' : 'sum'}), axis=1).sort_values(by=['date','group'])\n",
    "\n",
    "# получаем агрегированные кумулятивные по дням данные о посетителях интернет-магазина \n",
    "visitorsAggregated = datesGroups.apply(lambda x: visitors[np.logical_and(visitors['date'] <= x['date'],\\\n",
    "       visitors['group'] == x['group'])].agg({'date' : 'max', 'group' : 'max', 'visitors' : 'sum'}), axis=1)\\\n",
    "       .sort_values(by=['date','group'])\n",
    "   \n",
    "# объединяем кумулятивные данные в одной таблице и присваиваем ее столбцам понятные названия\n",
    "cumulativeData = orders_Aggregated.merge(visitorsAggregated, left_on=['date', 'group'], right_on=['date', 'group'])\n",
    "cumulativeData.columns = ['date', 'group', 'orders', 'buyers', 'revenue', 'visitors']\n",
    "\n",
    "print(cumulativeData.head(5))"
   ]
  },
  {
   "cell_type": "code",
   "execution_count": 34,
   "id": "8d7ad7f2",
   "metadata": {
    "scrolled": true
   },
   "outputs": [
    {
     "data": {
      "text/plain": [
       "Timestamp('2019-08-01 00:00:00')"
      ]
     },
     "metadata": {},
     "output_type": "display_data"
    },
    {
     "data": {
      "text/plain": [
       "Timestamp('2019-08-31 00:00:00')"
      ]
     },
     "metadata": {},
     "output_type": "display_data"
    }
   ],
   "source": [
    "display(cumulativeData['date'].min())\n",
    "display(cumulativeData['date'].max())"
   ]
  },
  {
   "cell_type": "markdown",
   "id": "600ee7a8",
   "metadata": {},
   "source": [
    "Датафрейм cumulativeData был создан корректно, минимальная и максимальная дата соответствуют срокам проведения тестрирования </div>"
   ]
  },
  {
   "cell_type": "code",
   "execution_count": 35,
   "id": "5bdd3e79",
   "metadata": {},
   "outputs": [
    {
     "data": {
      "image/png": "[encoded data removed]",
      "text/plain": [
       "<Figure size 432x288 with 1 Axes>"
      ]
     },
     "metadata": {
      "needs_background": "light"
     },
     "output_type": "display_data"
    }
   ],
   "source": [
    "# датафрейм с кумулятивным количеством заказов и кумулятивной выручкой по дням в группе А\n",
    "cumulativeRevenueA = cumulativeData[cumulativeData['group']=='A'][['date','revenue', 'orders']]\n",
    "\n",
    "# датафрейм с кумулятивным количеством заказов и кумулятивной выручкой по дням в группе B\n",
    "cumulativeRevenueB = cumulativeData[cumulativeData['group']=='B'][['date','revenue', 'orders']]\n",
    "\n",
    "# строим график выручки группы А\n",
    "plt.plot(cumulativeRevenueA['date'], cumulativeRevenueA['revenue'], label='A')\n",
    "\n",
    "# строим график выручки группы B\n",
    "plt.plot(cumulativeRevenueB['date'], cumulativeRevenueB['revenue'], label='B')\n",
    "\n",
    "# настраиваем параметры отображения графика\n",
    "plt.title('Кумулятивная выручка по группам')\n",
    "plt.xticks(rotation = 45)\n",
    "plt.ticklabel_format(style = 'plain', axis = 'y')\n",
    "plt.legend()\n",
    "plt.xlabel('даты тестирования')\n",
    "plt.ylabel('кумулятивная выручка')\n",
    "plt.show()"
   ]
  },
  {
   "cell_type": "markdown",
   "id": "9b25ac4e",
   "metadata": {},
   "source": [
    "Выручка группы B заметно привышает показатели группы A  примерно с середины тестирования. График выручки группы B  в нескольких точках резко растет. Это может сигнализировать о всплесках числа заказов, либо о появлении очень дорогих заказов в выборке. Выручка группы A растет равномерно, без особых всплесков. "
   ]
  },
  {
   "cell_type": "markdown",
   "id": "1d84f197",
   "metadata": {},
   "source": [
    "### 2.2.2 График кумулятивного среднего чека по группам"
   ]
  },
  {
   "cell_type": "code",
   "execution_count": 36,
   "id": "67a2a38e",
   "metadata": {
    "scrolled": true
   },
   "outputs": [
    {
     "data": {
      "image/png": "[encoded data removed]",
      "text/plain": [
       "<Figure size 432x288 with 1 Axes>"
      ]
     },
     "metadata": {
      "needs_background": "light"
     },
     "output_type": "display_data"
    }
   ],
   "source": [
    "plt.plot(cumulativeRevenueA['date'], cumulativeRevenueA['revenue']/cumulativeRevenueA['orders'], label='A')\n",
    "plt.plot(cumulativeRevenueB['date'], cumulativeRevenueB['revenue']/cumulativeRevenueB['orders'], label='B')\n",
    "plt.legend() \n",
    "\n",
    "# настраиваем параметры отображения графика\n",
    "plt.title('Кумулятивный средний чек по группам')\n",
    "plt.xticks(rotation = 45)\n",
    "plt.ticklabel_format(style = 'plain', axis = 'y')\n",
    "plt.legend()\n",
    "plt.show()"
   ]
  },
  {
   "cell_type": "markdown",
   "id": "e044d6a0",
   "metadata": {},
   "source": [
    "Возможно в группу B в середине теста попали крупные заказы (резкий всплеск на графике). Рост среднего чека группы А более равномерен. "
   ]
  },
  {
   "cell_type": "markdown",
   "id": "103d6f0e",
   "metadata": {},
   "source": [
    "### 2.2.3 Относительное изменение кумулятивного среднего чека по группам"
   ]
  },
  {
   "cell_type": "code",
   "execution_count": 37,
   "id": "25746ae4",
   "metadata": {},
   "outputs": [
    {
     "data": {
      "image/png": "[encoded data removed]",
      "text/plain": [
       "<Figure size 432x288 with 1 Axes>"
      ]
     },
     "metadata": {
      "needs_background": "light"
     },
     "output_type": "display_data"
    }
   ],
   "source": [
    "# собираем данные в одном датафрейме\n",
    "mergedCumulativeRevenue = cumulativeRevenueA.merge(cumulativeRevenueB, left_on='date', right_on='date', \\\n",
    "                                                   how='left', suffixes=['A', 'B'])\n",
    "\n",
    "# cтроим отношение средних чеков\n",
    "plt.plot(mergedCumulativeRevenue['date'], (mergedCumulativeRevenue['revenueB']\\\n",
    "    /mergedCumulativeRevenue['ordersB'])/(mergedCumulativeRevenue['revenueA']/mergedCumulativeRevenue['ordersA'])-1)\n",
    "\n",
    "# добавляем ось X\n",
    "plt.axhline(y=0, color='black', linestyle='--') \n",
    "\n",
    "\n",
    "# настраиваем параметры отображения графика\n",
    "plt.title('Относительное изменение кумулятивного среднего чека по группам')\n",
    "plt.xticks(rotation = 45)\n",
    "plt.ticklabel_format(style = 'plain', axis = 'y')\n",
    "plt.show()"
   ]
  },
  {
   "cell_type": "markdown",
   "id": "4d3feb14",
   "metadata": {},
   "source": [
    "В нескольких точках график различия между сегментами резко «скачет» - наблюдаются крупные заказы и \"выбросы\". Примерно с середины тестирования средний чек группы B начинает уверенно лидировать."
   ]
  },
  {
   "cell_type": "markdown",
   "id": "e35b4cf9",
   "metadata": {},
   "source": [
    "### 2.2.4 Среднее количество заказов на посетителя по группам"
   ]
  },
  {
   "cell_type": "code",
   "execution_count": 38,
   "id": "d2489998",
   "metadata": {},
   "outputs": [
    {
     "data": {
      "image/png": "[encoded data removed]",
      "text/plain": [
       "<Figure size 432x288 with 1 Axes>"
      ]
     },
     "metadata": {
      "needs_background": "light"
     },
     "output_type": "display_data"
    }
   ],
   "source": [
    "# считаем кумулятивное количество заказов на посетителя\n",
    "cumulativeData['avg_orders'] = cumulativeData['orders']/cumulativeData['visitors']\n",
    "\n",
    "# отделяем данные по группе A\n",
    "cumulativeDataA = cumulativeData[cumulativeData['group']=='A']\n",
    "\n",
    "# отделяем данные по группе B\n",
    "cumulativeDataB = cumulativeData[cumulativeData['group']=='B']\n",
    "\n",
    "# строим графики\n",
    "plt.plot(cumulativeDataA['date'], cumulativeDataA['avg_orders'], label='A')\n",
    "plt.plot(cumulativeDataB['date'], cumulativeDataB['avg_orders'], label='B')\n",
    "plt.legend()\n",
    "\n",
    "# настраиваем параметры отображения графика\n",
    "plt.title('Среднее количество заказов на посетителя по группам')\n",
    "plt.xticks(rotation = 45)\n",
    "plt.show()\n"
   ]
  },
  {
   "cell_type": "markdown",
   "id": "ca482901",
   "metadata": {},
   "source": [
    "Среднее количество заказов сначала резко \"скакало\",  но затем среднее кол-во заказов группы B вырвалось вперёд и зафиксировалась, а группы A  - просело и также зафиксировалось."
   ]
  },
  {
   "cell_type": "markdown",
   "id": "1138fec0",
   "metadata": {},
   "source": [
    "### 2.2.5 Относительное изменение кумулятивного среднего количества заказов на посетителя группы B к группе A"
   ]
  },
  {
   "cell_type": "code",
   "execution_count": 39,
   "id": "c936f784",
   "metadata": {},
   "outputs": [
    {
     "data": {
      "image/png": "[encoded data removed]",
      "text/plain": [
       "<Figure size 432x288 with 1 Axes>"
      ]
     },
     "metadata": {
      "needs_background": "light"
     },
     "output_type": "display_data"
    }
   ],
   "source": [
    "mergedCumulativeAvg_orders = cumulativeDataA[['date','avg_orders']].merge(cumulativeDataB[['date','avg_orders']],\\\n",
    "                                        left_on='date', right_on='date', how='left', suffixes=['A', 'B'])\n",
    "\n",
    "plt.plot(mergedCumulativeAvg_orders['date'], mergedCumulativeAvg_orders['avg_ordersB']\\\n",
    "         /mergedCumulativeAvg_orders['avg_ordersA']-1)\n",
    "\n",
    "plt.axhline(y=0, color='black', linestyle='--')\n",
    "plt.axhline(y=-0.1, color='grey', linestyle='--')\n",
    "#plt.axis([\"2019-04-01\", '2019-04-23', -0.6, 0.6])\n",
    "\n",
    "# настраиваем параметры отображения графика\n",
    "plt.title('Относительный прирост кумулятивного среднего количества заказов на посетителя группы B относительно группы A')\n",
    "plt.xticks(rotation = 45)\n",
    "plt.show()"
   ]
  },
  {
   "cell_type": "markdown",
   "id": "0bdd8ed3",
   "metadata": {},
   "source": [
    "В начале теста группа B значительно проигрывала группе A, затем вырвалась вперёд и стабилизировалась."
   ]
  },
  {
   "cell_type": "markdown",
   "id": "7c920920",
   "metadata": {},
   "source": [
    "### 2.2.6 Количество заказов по пользователям"
   ]
  },
  {
   "cell_type": "code",
   "execution_count": 40,
   "id": "c789561f",
   "metadata": {},
   "outputs": [
    {
     "name": "stdout",
     "output_type": "stream",
     "text": [
      "     visitor_id  orders\n",
      "972  4283872382       1\n",
      "971  4281247801       1\n",
      "970  4279090005       1\n",
      "969  4278982564       1\n",
      "968  4259830713       1\n",
      "967  4258103007       1\n",
      "966  4251115836       1\n",
      "965  4251087345       1\n",
      "964  4243832526       1\n",
      "963  4237561104       1\n"
     ]
    }
   ],
   "source": [
    "#  посчитаем количество заказов на 1 пользователя\n",
    "\n",
    "ordersByUsers = (\n",
    "    orders_clear.groupby('visitor_id', as_index=False)\n",
    "    .agg({'order_id': 'nunique'})\n",
    ")\n",
    "\n",
    "ordersByUsers.columns = ['visitor_id', 'orders']\n",
    "\n",
    "print(ordersByUsers.sort_values(by='visitor_id', ascending=False).head(10))"
   ]
  },
  {
   "cell_type": "markdown",
   "id": "5cbd7276",
   "metadata": {},
   "source": [
    "Построим точечную диаграмму числа заказов на одного пользователя:"
   ]
  },
  {
   "cell_type": "code",
   "execution_count": 41,
   "id": "81ed3167",
   "metadata": {},
   "outputs": [
    {
     "data": {
      "image/png": "[encoded data removed]",
      "text/plain": [
       "<Figure size 432x288 with 1 Axes>"
      ]
     },
     "metadata": {
      "needs_background": "light"
     },
     "output_type": "display_data"
    }
   ],
   "source": [
    "x_values = pd.Series(range(0,len(ordersByUsers)))\n",
    "\n",
    "plt.scatter(x_values, ordersByUsers['orders']) \n",
    "\n",
    "# настраиваем параметры отображения графика\n",
    "plt.title('Точечная диаграмма числа заказов на одного пользователя')\n",
    "plt.show()"
   ]
  },
  {
   "cell_type": "markdown",
   "id": "7f8604c1",
   "metadata": {},
   "source": [
    "Сильных выбросов и аномалий нет, в среднем в очищенном датасете на пользователя приходится один заказ, у некоторых пользователей наблюдаются 2-3. Ради интереса подобный анализ был проведен на \"сыром\" датасете, без удаленных заказов, попавших в обе группы при тестировании - разброс и аномалии наблюдались (до 11 заказов на пользователя)"
   ]
  },
  {
   "cell_type": "markdown",
   "id": "9d115295",
   "metadata": {},
   "source": [
    "### 2.2.7 95-й и 99-й перцентили количества заказов на пользователя. Граница для определения аномальных пользователей."
   ]
  },
  {
   "cell_type": "code",
   "execution_count": 42,
   "id": "13ca6b72",
   "metadata": {},
   "outputs": [
    {
     "name": "stdout",
     "output_type": "stream",
     "text": [
      "[1. 2.]\n"
     ]
    }
   ],
   "source": [
    "print(np.percentile(ordersByUsers['orders'], [95, 99])) "
   ]
  },
  {
   "cell_type": "markdown",
   "id": "d5c07660",
   "metadata": {},
   "source": [
    "Не более 1% пользователей оформляли больше чем 2 заказа. Можно выбрать 2 заказа на одного пользователя за верхнюю границу числа заказов, и отсеять аномальных пользователей по ней (более 2 заказов - аномальные пользователи)"
   ]
  },
  {
   "cell_type": "markdown",
   "id": "929d4e9b",
   "metadata": {},
   "source": [
    "### 2.2.8 Точечный график стоимостей заказов"
   ]
  },
  {
   "cell_type": "code",
   "execution_count": 43,
   "id": "e953e039",
   "metadata": {},
   "outputs": [
    {
     "data": {
      "image/png": "[encoded data removed]",
      "text/plain": [
       "<Figure size 432x288 with 1 Axes>"
      ]
     },
     "metadata": {
      "needs_background": "light"
     },
     "output_type": "display_data"
    }
   ],
   "source": [
    "x_values = pd.Series(range(0,len(orders_clear['revenue'])))\n",
    "plt.scatter(x_values, orders_clear['revenue']) \n",
    "\n",
    "# настраиваем параметры отображения графика\n",
    "plt.title('Точечный график стоимостей заказа')\n",
    "plt.ticklabel_format(style = 'plain', axis = 'y')\n",
    "plt.show()"
   ]
  },
  {
   "cell_type": "markdown",
   "id": "bbb2114b",
   "metadata": {},
   "source": [
    "Наблюдаются единичные выбросы - очень дорогие заказы, сильно выделяющиеся на фоне остальных."
   ]
  },
  {
   "cell_type": "markdown",
   "id": "29b20b4e",
   "metadata": {},
   "source": [
    "График с ограничением значения по оси y:</div>"
   ]
  },
  {
   "cell_type": "code",
   "execution_count": 44,
   "id": "6b1d6d72",
   "metadata": {},
   "outputs": [
    {
     "data": {
      "image/png": "[encoded data removed]",
      "text/plain": [
       "<Figure size 432x288 with 1 Axes>"
      ]
     },
     "metadata": {
      "needs_background": "light"
     },
     "output_type": "display_data"
    }
   ],
   "source": [
    "x_values = pd.Series(range(0,len(orders_clear['revenue'])))\n",
    "plt.scatter(x_values, orders_clear['revenue']) \n",
    "\n",
    "# настраиваем параметры отображения графика\n",
    "plt.title('Точечный график стоимостей заказа')\n",
    "plt.ticklabel_format(style = 'plain', axis = 'y')\n",
    "plt.ylim(0, 100000)  # вводим ограничение по оси y, чтобы поближе посмотреть на заказы\n",
    "plt.show()"
   ]
  },
  {
   "cell_type": "markdown",
   "id": "e7837131",
   "metadata": {},
   "source": [
    "### 2.2.9 95-й и 99-й перцентили стоимости заказов. Граница для определения аномальных заказов"
   ]
  },
  {
   "cell_type": "code",
   "execution_count": 45,
   "id": "c655146a",
   "metadata": {},
   "outputs": [
    {
     "data": {
      "text/plain": [
       "array([26785., 53904.])"
      ]
     },
     "execution_count": 45,
     "metadata": {},
     "output_type": "execute_result"
    }
   ],
   "source": [
    "np.percentile(orders_clear['revenue'], [95, 99])\n"
   ]
  },
  {
   "cell_type": "code",
   "execution_count": 46,
   "id": "ede02b2c",
   "metadata": {},
   "outputs": [
    {
     "data": {
      "text/plain": [
       "8300.814960629921"
      ]
     },
     "execution_count": 46,
     "metadata": {},
     "output_type": "execute_result"
    }
   ],
   "source": [
    "orders_clear['revenue'].mean()"
   ]
  },
  {
   "cell_type": "markdown",
   "id": "e2b31b88",
   "metadata": {},
   "source": [
    "Не более 1% пользователей заплатили за товар свыше 53904 рублей, не более 5% - свыше 26785. Стоимость среднего заказа - 8300 рублей. Границей для определения аномальных заказов определим 99 перцентиль и отберем заказы не превышающие 53904 рублей."
   ]
  },
  {
   "cell_type": "markdown",
   "id": "ea4c6c63",
   "metadata": {},
   "source": [
    "### 2.2.10 Статистическая значимость различий в среднем количестве заказов на посетителя между группами по «сырым» данным "
   ]
  },
  {
   "cell_type": "markdown",
   "id": "d7589a84",
   "metadata": {},
   "source": [
    "Посчитаем статистическую значимость различий в среднем числе заказов на пользователя по «сырым» данным — без удаления аномальных пользователей.\n",
    "\n",
    "Сформулируем гипотезы. Нулевая: различий в среднем количестве заказов между группами нет. Альтернативная: различия в среднем между группами есть."
   ]
  },
  {
   "cell_type": "code",
   "execution_count": 47,
   "id": "1ea0a033",
   "metadata": {},
   "outputs": [],
   "source": [
    "#  подготавливаем данные, рассчитываем количество посетителей до выбранной даты\n",
    "\n",
    "visitorsADaily = visitors[visitors['group'] == 'A'][['date', 'visitors']]\n",
    "visitorsADaily.columns = ['date', 'visitorsPerDateA']\n",
    "\n",
    "visitorsACummulative = visitorsADaily.apply(\n",
    "    lambda x: visitorsADaily[visitorsADaily['date'] <= x['date']].agg(\n",
    "        {'date': 'max', 'visitorsPerDateA': 'sum'}\n",
    "    ),\n",
    "    axis=1,\n",
    ")\n",
    "visitorsACummulative.columns = ['date', 'visitorsCummulativeA']\n",
    "\n",
    "visitorsBDaily = visitors[visitors['group'] == 'B'][['date', 'visitors']]\n",
    "visitorsBDaily.columns = ['date', 'visitorsPerDateB']\n",
    "\n",
    "visitorsBCummulative = visitorsBDaily.apply(\n",
    "    lambda x: visitorsBDaily[visitorsBDaily['date'] <= x['date']].agg(\n",
    "        {'date': 'max', 'visitorsPerDateB': 'sum'}\n",
    "    ),\n",
    "    axis=1,\n",
    ")\n",
    "visitorsBCummulative.columns = ['date', 'visitorsCummulativeB']\n",
    "\n",
    "#  подготавливаем данные, рассчитываем количество заказов до выбранной даты\n",
    "ordersADaily = (\n",
    "    orders_clear[orders_clear['group'] == 'A'][['date', 'order_id', 'visitor_id', 'revenue']]\n",
    "    .groupby('date', as_index=False)\n",
    "    .agg({'order_id': pd.Series.nunique, 'revenue': 'sum'})\n",
    ")\n",
    "ordersADaily.columns = ['date', 'ordersPerDateA', 'revenuePerDateA']\n",
    "\n",
    "ordersACummulative = ordersADaily.apply(\n",
    "    lambda x: ordersADaily[ordersADaily['date'] <= x['date']].agg(\n",
    "        {'date': 'max', 'ordersPerDateA': 'sum', 'revenuePerDateA': 'sum'}\n",
    "    ),\n",
    "    axis=1,\n",
    ").sort_values(by=['date'])\n",
    "ordersACummulative.columns = [\n",
    "    'date',\n",
    "    'ordersCummulativeA',\n",
    "    'revenueCummulativeA',\n",
    "]\n",
    "\n",
    "ordersBDaily = (\n",
    "    orders_clear[orders_clear['group'] == 'B'][['date', 'order_id', 'visitor_id', 'revenue']]\n",
    "    .groupby('date', as_index=False)\n",
    "    .agg({'order_id': pd.Series.nunique, 'revenue': 'sum'})\n",
    ")\n",
    "ordersBDaily.columns = ['date', 'ordersPerDateB', 'revenuePerDateB']\n",
    "\n",
    "ordersBCummulative = ordersBDaily.apply(\n",
    "    lambda x: ordersBDaily[ordersBDaily['date'] <= x['date']].agg(\n",
    "        {'date': 'max', 'ordersPerDateB': 'sum', 'revenuePerDateB': 'sum'}\n",
    "    ),\n",
    "    axis=1,\n",
    ").sort_values(by=['date'])\n",
    "ordersBCummulative.columns = [\n",
    "    'date',\n",
    "    'ordersCummulativeB',\n",
    "    'revenueCummulativeB',\n",
    "]\n",
    "\n",
    "data = (\n",
    "    ordersADaily.merge(\n",
    "        ordersBDaily, left_on='date', right_on='date', how='left'\n",
    "    )\n",
    "    .merge(ordersACummulative, left_on='date', right_on='date', how='left')\n",
    "    .merge(ordersBCummulative, left_on='date', right_on='date', how='left')\n",
    "    .merge(visitorsADaily, left_on='date', right_on='date', how='left')\n",
    "    .merge(visitorsBDaily, left_on='date', right_on='date', how='left')\n",
    "    .merge(visitorsACummulative, left_on='date', right_on='date', how='left')\n",
    "    .merge(visitorsBCummulative, left_on='date', right_on='date', how='left')\n",
    ")\n"
   ]
  },
  {
   "cell_type": "code",
   "execution_count": 48,
   "id": "7671afdb",
   "metadata": {},
   "outputs": [],
   "source": [
    "# создаем переменные ordersByUsersA и ordersByUsersB.\n",
    "# в них для пользователей, которые заказывали хотя бы 1 раз, указываем число совершённых заказов.\n",
    "\n",
    "ordersByUsersA = (\n",
    "    orders_clear[orders_clear['group'] == 'A']\n",
    "    .groupby('visitor_id', as_index=False)\n",
    "    .agg({'order_id': pd.Series.nunique})\n",
    ")\n",
    "ordersByUsersA.columns = ['visitor_id', 'orders']\n",
    "\n",
    "ordersByUsersB = (\n",
    "    orders_clear[orders_clear['group'] == 'B']\n",
    "    .groupby('visitor_id', as_index=False)\n",
    "    .agg({'order_id': pd.Series.nunique})\n",
    ")\n",
    "ordersByUsersB.columns = ['visitor_id', 'orders'] \n"
   ]
  },
  {
   "cell_type": "code",
   "execution_count": 49,
   "id": "1c1d01b7",
   "metadata": {},
   "outputs": [],
   "source": [
    "# объявляем переменные sampleA и sampleB, в которых пользователям из разных групп будет соответствовать количество заказов. \n",
    "# тем, кто ничего не заказал, будут соответствовать нули\n",
    "\n",
    "sampleA = pd.concat([ordersByUsersA['orders'],pd.Series(0, index=np.arange(data['visitorsPerDateA'].sum() \\\n",
    "                                                  - len(ordersByUsersA['orders'])), name='orders')],axis=0)\n",
    "sampleB = pd.concat([ordersByUsersB['orders'],pd.Series(0, index=np.arange(data['visitorsPerDateB'].sum() \\\n",
    "                                                  - len(ordersByUsersB['orders'])), name='orders')],axis=0)"
   ]
  },
  {
   "cell_type": "code",
   "execution_count": 50,
   "id": "c3cc09f5",
   "metadata": {},
   "outputs": [
    {
     "name": "stdout",
     "output_type": "stream",
     "text": [
      "p-value: 0.011\n",
      "различие в среднем количестве заказов: 0.160\n"
     ]
    }
   ],
   "source": [
    "# применяем критерий Манна-Уитни, округляем p-value\n",
    "\n",
    "print('p-value:', \"{0:.3f}\".format(stats.mannwhitneyu(sampleA, sampleB)[1]))\n",
    "print('различие в среднем количестве заказов:', \"{0:.3f}\".format(sampleB.mean() / sampleA.mean() - 1))"
   ]
  },
  {
   "cell_type": "markdown",
   "id": "88b9a933",
   "metadata": {},
   "source": [
    "\n",
    "Вывод: По «сырым» данным различия в среднем числе заказов групп A и B есть. \n",
    "P-value 0.011 меньше 0.05. Значит, нулевую гипотезу о том, что статистически значимых различий в среднем числе заказов между группами нет, мы отвергаем. Относительный выигрыш группы B равен 16%."
   ]
  },
  {
   "cell_type": "markdown",
   "id": "09724d46",
   "metadata": {},
   "source": [
    "### 2.2.11 Статистическая значимость различий в среднем чеке на посетителя между группами по «сырым» данным "
   ]
  },
  {
   "cell_type": "markdown",
   "id": "6b49a349",
   "metadata": {},
   "source": [
    "Сформулируем гипотезы. Нулевая: различий в среднем чеке на посетителя между группами нет. Альтернативная: различия в среднем чеке между группами есть.\n",
    "\n",
    "Чтобы рассчитать статистическую значимость различий в среднем чеке, передадим критерию mannwhitneyu() данные о выручке с заказов.  </div>"
   ]
  },
  {
   "cell_type": "code",
   "execution_count": 51,
   "id": "848ceb3e",
   "metadata": {},
   "outputs": [
    {
     "name": "stdout",
     "output_type": "stream",
     "text": [
      "p-value: 0.829\n",
      "различия в среднем чеке: 0.287\n"
     ]
    }
   ],
   "source": [
    "# применяем критерий Манна-Уитни, округляем p-value\n",
    "\n",
    "print('p-value:', '{0:.3f}'.format(stats.mannwhitneyu(orders_clear[orders_clear['group']=='A']['revenue'],\\\n",
    "                                          orders_clear[orders_clear['group']=='B']['revenue'])[1]))\n",
    "print('различия в среднем чеке:', '{0:.3f}'.format(orders_clear[orders_clear['group']=='B']['revenue']\\\n",
    "                       .mean()/orders_clear[orders_clear['group']=='A']['revenue'].mean()-1)) "
   ]
  },
  {
   "cell_type": "markdown",
   "id": "addb373f",
   "metadata": {},
   "source": [
    "Вывод: P-value значительно больше 0.05. Значит, причин отвергать нулевую гипотезу и считать, что в среднем чеке есть различия, нет. Впрочем, средний чек группы B значительно выше среднего чека группы A."
   ]
  },
  {
   "cell_type": "markdown",
   "id": "6cdd1605",
   "metadata": {},
   "source": [
    "### 2.2.12 Статистическая значимость различий в среднем количестве заказов на посетителя между группами по «очищенным» данным "
   ]
  },
  {
   "cell_type": "markdown",
   "id": "6506305a",
   "metadata": {},
   "source": [
    "Примем за аномальных пользователей тех, кто совершил от 2 заказов или совершил заказ дороже 53904 рублей. Так мы уберём 1% пользователей с наибольшим числом заказов и 1% пользователей с дорогими заказами. Сделаем срезы пользователей с числом заказов больше 2 — usersWithManyOrders и пользователей, совершивших заказы дороже 53904 рублей — usersWithExpensiveOrders. Объединим их в таблице abnormalUsers. "
   ]
  },
  {
   "cell_type": "code",
   "execution_count": 52,
   "id": "2b17741f",
   "metadata": {},
   "outputs": [
    {
     "name": "stdout",
     "output_type": "stream",
     "text": [
      "1099     148427295\n",
      "33       249864742\n",
      "58       611059232\n",
      "949      887908475\n",
      "744      888512513\n",
      "1103    1164614297\n",
      "1136    1307669133\n",
      "425     1920142716\n",
      "1196    2108080724\n",
      "211     2108163459\n",
      "347     2742574263\n",
      "310     2988190573\n",
      "409     3908431265\n",
      "416     3967698036\n",
      "940     4003628586\n",
      "743     4133034833\n",
      "Name: visitor_id, dtype: int64\n",
      "16\n"
     ]
    }
   ],
   "source": [
    "usersWithManyOrders = pd.concat(\n",
    "    [\n",
    "        ordersByUsersA[ordersByUsersA['orders'] > int(np.percentile(ordersByUsers['orders'], 99))]['visitor_id'],\n",
    "        ordersByUsersB[ordersByUsersB['orders'] > int(np.percentile(ordersByUsers['orders'], 99))]['visitor_id'],\n",
    "    ],\n",
    "    axis=0,\n",
    ")\n",
    "usersWithExpensiveOrders = orders_clear[orders_clear['revenue'] > int(np.percentile(orders_clear['revenue'], 99)) ]['visitor_id']\n",
    "abnormalUsers = (\n",
    "    pd.concat([usersWithManyOrders, usersWithExpensiveOrders], axis=0)\n",
    "    .drop_duplicates()\n",
    "    .sort_values()\n",
    ")\n",
    "print(abnormalUsers)\n",
    "print(abnormalUsers.shape[0])"
   ]
  },
  {
   "cell_type": "markdown",
   "id": "73a29976",
   "metadata": {},
   "source": [
    "Всего 16 аномальных пользователей. \n",
    "Узнаем, как их действия повлияли на результаты теста. Посчитаем статистическую значимость различий в среднем количестве заказов между группами теста по очищенным данным. Сначала подготовим выборки количества заказов по пользователям по группам теста:"
   ]
  },
  {
   "cell_type": "code",
   "execution_count": 53,
   "id": "156bd396",
   "metadata": {},
   "outputs": [],
   "source": [
    "sampleAFiltered = pd.concat(\n",
    "    [\n",
    "        ordersByUsersA[\n",
    "            np.logical_not(ordersByUsersA['visitor_id'].isin(abnormalUsers))\n",
    "        ]['orders'],\n",
    "        pd.Series(\n",
    "            0,\n",
    "            index=np.arange(\n",
    "                data['visitorsPerDateA'].sum() - len(ordersByUsersA['orders'])\n",
    "            ),\n",
    "            name='orders',\n",
    "        ),\n",
    "    ],\n",
    "    axis=0,\n",
    ")\n",
    "\n",
    "sampleBFiltered = pd.concat(\n",
    "    [\n",
    "        ordersByUsersB[\n",
    "            np.logical_not(ordersByUsersB['visitor_id'].isin(abnormalUsers))\n",
    "        ]['orders'],\n",
    "        pd.Series(\n",
    "            0,\n",
    "            index=np.arange(\n",
    "                data['visitorsPerDateB'].sum() - len(ordersByUsersB['orders'])\n",
    "            ),\n",
    "            name='orders',\n",
    "        ),\n",
    "    ],\n",
    "    axis=0,\n",
    ")"
   ]
  },
  {
   "cell_type": "markdown",
   "id": "617fdb16",
   "metadata": {},
   "source": [
    "Применим статистический критерий Манна-Уитни к полученным выборкам:"
   ]
  },
  {
   "cell_type": "code",
   "execution_count": 54,
   "id": "639ac938",
   "metadata": {},
   "outputs": [
    {
     "name": "stdout",
     "output_type": "stream",
     "text": [
      "p-value: 0.007\n",
      "различия в среднем числе заказов: 0.189\n"
     ]
    }
   ],
   "source": [
    "print('p-value:', '{0:.3f}'.format(stats.mannwhitneyu(sampleAFiltered, sampleBFiltered)[1]))\n",
    "print('различия в среднем числе заказов:', '{0:.3f}'.format(sampleBFiltered.mean()/sampleAFiltered.mean()-1))"
   ]
  },
  {
   "cell_type": "markdown",
   "id": "d7832c2a",
   "metadata": {},
   "source": [
    "Вывод: По «сырым» данным различия в среднем числе заказов групп A и B по-прежнему есть. P-value 0.007 (было 0.011) меньше 0.05. Значит, нулевую гипотезу о том, что статистически значимых различий в среднем числе заказов между группами нет, мы по-прежнему отвергаем.  Относительный выигрыш группы B вырос с 16% и теперь равен 18.9%. Группа B на 18.9% чаще делала заказ, чем группа A.\n",
    "\n",
    "Посмотрим что произошло с результатами по среднему чеку."
   ]
  },
  {
   "cell_type": "markdown",
   "id": "34b6fb13",
   "metadata": {},
   "source": [
    "### 2.2.13 Статистическая значимость различий в среднем чеке на посетителя между группами по «очищенным» данным"
   ]
  },
  {
   "cell_type": "code",
   "execution_count": 55,
   "id": "d52ab79a",
   "metadata": {},
   "outputs": [
    {
     "name": "stdout",
     "output_type": "stream",
     "text": [
      "p-value: 0.788\n",
      "различия в среднем чеке: -0.032\n"
     ]
    }
   ],
   "source": [
    "print('p-value:',  '{0:.3f}'.format(\n",
    "        stats.mannwhitneyu(\n",
    "            orders_clear[\n",
    "                np.logical_and(\n",
    "                    orders_clear['group'] == 'A',\n",
    "                    np.logical_not(orders_clear['visitor_id'].isin(abnormalUsers)),\n",
    "                )\n",
    "            ]['revenue'],\n",
    "            orders_clear[\n",
    "                np.logical_and(\n",
    "                    orders_clear['group'] == 'B',\n",
    "                    np.logical_not(orders_clear['visitor_id'].isin(abnormalUsers)),\n",
    "                )\n",
    "            ]['revenue'],\n",
    "        )[1]\n",
    "    )\n",
    ")\n",
    "\n",
    "print('различия в среднем чеке:', \n",
    "    \"{0:.3f}\".format(\n",
    "        orders_clear[\n",
    "            np.logical_and(\n",
    "                orders_clear['group'] == 'B',\n",
    "                np.logical_not(orders_clear['visitor_id'].isin(abnormalUsers)),\n",
    "            )\n",
    "        ]['revenue'].mean()\n",
    "        / orders_clear[\n",
    "            np.logical_and(\n",
    "                orders_clear['group'] == 'A',\n",
    "                np.logical_not(orders_clear['visitor_id'].isin(abnormalUsers)),\n",
    "            )\n",
    "        ]['revenue'].mean()\n",
    "        - 1\n",
    "    )\n",
    ")"
   ]
  },
  {
   "cell_type": "markdown",
   "id": "e63dc949",
   "metadata": {},
   "source": [
    "P-value уменьшился с 0.829 до 0.788, но все равно значительно больше 0.05. Значит, причин отвергать нулевую гипотезу и считать, что в среднем чеке есть различия, нет.\n",
    "Средний чек группы B теперь ниже чем у группы A: относительный выигрыш 28.7% превратился в проигрыш в 3.2% "
   ]
  },
  {
   "cell_type": "markdown",
   "id": "b6768e2d",
   "metadata": {},
   "source": [
    "Хотя общие выводы по результатам теста не изменились, изменения все же есть:\n",
    "\n",
    "Различия в среднем числе заказов групп A и B по-прежнему есть - группа B чаще делала заказы (16% по \"сырым данным\",18.9% по \"очищенным\").\n",
    "Не получилось отвергнуть гипотезу о том, что различий в среднем чеке между группами нет. Однако при этом в \"сырых\" данных у группы B был относительный выигрыш в 28.7%, а в \"очищенных\" он превратился в проигрыш в 3.2%. Отфильтрованные \"дорогие\" заказы, судя по всему, принадлежали именно группе B."
   ]
  },
  {
   "cell_type": "markdown",
   "id": "e4fa7c7c",
   "metadata": {},
   "source": [
    "## 2.3 Принятие решения по результатам теста"
   ]
  },
  {
   "cell_type": "markdown",
   "id": "d0bf6f46",
   "metadata": {},
   "source": [
    "**Результаты исследования:**\n",
    "    \n",
    "Для достижения поставленной цели \"рост выручки интернет-магазина\" было предложено 9 гипотез. В результате проведенного анализа приоритетной была выбрана гипотеза 'добавить форму подписки на все основные страницы, чтобы собрать базу клиентов для email-рассылок' -  лидер при применении фреймворка RICE. \n",
    "<br>\n",
    "<br>\n",
    "С 1 по 31 августа 2019 года был проведено A/B-тестирование.</div>"
   ]
  },
  {
   "cell_type": "markdown",
   "id": "653b86db",
   "metadata": {},
   "source": [
    "**Решение по результатам тестирования: останавливаем тест, зафиксировав победу группы В по количеству сделанных заказов.**\n",
    "\n",
    "Группа B победила группу А по сделанному количеству заказов. Статистически значимые различия между группами есть, группа B чаще делала заказы (16% по \"сырым данным\",18.9% по \"очищенным\").\n",
    "Различий между средним чеком при этом установить не удалось - по части среднего чека группы равны.\n",
    "\n",
    "Продолжать тест не представляется целесообразным: он длился на протяжении месяца и показал статистически значимые результаты. "
   ]
  }
 ],
 "metadata": {
  "ExecuteTimeLog": [
   {
    "duration": 1219,
    "start_time": "2023-04-09T07:20:28.525Z"
   },
   {
    "duration": 109,
    "start_time": "2023-04-09T07:20:29.746Z"
   },
   {
    "duration": 14,
    "start_time": "2023-04-09T07:20:29.857Z"
   },
   {
    "duration": 33,
    "start_time": "2023-04-09T07:20:29.873Z"
   },
   {
    "duration": 9,
    "start_time": "2023-04-09T07:20:29.908Z"
   },
   {
    "duration": 59,
    "start_time": "2023-04-09T07:20:29.918Z"
   },
   {
    "duration": 189,
    "start_time": "2023-04-09T07:20:29.979Z"
   },
   {
    "duration": 126,
    "start_time": "2023-04-09T07:20:30.170Z"
   },
   {
    "duration": 12,
    "start_time": "2023-04-09T07:20:30.298Z"
   },
   {
    "duration": 47,
    "start_time": "2023-04-09T07:20:30.313Z"
   },
   {
    "duration": 42,
    "start_time": "2023-04-09T07:20:30.361Z"
   },
   {
    "duration": 30,
    "start_time": "2023-04-09T07:20:30.405Z"
   },
   {
    "duration": 46,
    "start_time": "2023-04-09T07:20:30.437Z"
   },
   {
    "duration": 45,
    "start_time": "2023-04-09T07:20:30.484Z"
   },
   {
    "duration": 39,
    "start_time": "2023-04-09T07:20:30.531Z"
   },
   {
    "duration": 39,
    "start_time": "2023-04-09T07:20:30.571Z"
   },
   {
    "duration": 38,
    "start_time": "2023-04-09T07:20:30.611Z"
   },
   {
    "duration": 38,
    "start_time": "2023-04-09T07:20:30.651Z"
   },
   {
    "duration": 54,
    "start_time": "2023-04-09T07:20:30.691Z"
   },
   {
    "duration": 48,
    "start_time": "2023-04-09T07:20:30.748Z"
   },
   {
    "duration": 33,
    "start_time": "2023-04-09T07:20:30.798Z"
   },
   {
    "duration": 37,
    "start_time": "2023-04-09T07:20:30.833Z"
   },
   {
    "duration": 26,
    "start_time": "2023-04-09T07:20:30.872Z"
   },
   {
    "duration": 37,
    "start_time": "2023-04-09T07:20:30.900Z"
   },
   {
    "duration": 11,
    "start_time": "2023-04-09T07:20:30.939Z"
   },
   {
    "duration": 29,
    "start_time": "2023-04-09T07:20:30.951Z"
   },
   {
    "duration": 35,
    "start_time": "2023-04-09T07:20:30.982Z"
   },
   {
    "duration": 31,
    "start_time": "2023-04-09T07:20:31.020Z"
   },
   {
    "duration": 69,
    "start_time": "2023-04-09T07:20:31.053Z"
   },
   {
    "duration": 2413,
    "start_time": "2023-04-09T07:20:31.124Z"
   },
   {
    "duration": 137,
    "start_time": "2023-04-09T07:20:33.539Z"
   },
   {
    "duration": 297,
    "start_time": "2023-04-09T07:20:33.678Z"
   },
   {
    "duration": 291,
    "start_time": "2023-04-09T07:20:33.977Z"
   },
   {
    "duration": 219,
    "start_time": "2023-04-09T07:20:34.270Z"
   },
   {
    "duration": 282,
    "start_time": "2023-04-09T07:20:34.491Z"
   },
   {
    "duration": 221,
    "start_time": "2023-04-09T07:20:34.774Z"
   },
   {
    "duration": 319,
    "start_time": "2023-04-09T07:20:34.997Z"
   },
   {
    "duration": 11,
    "start_time": "2023-04-09T07:20:35.318Z"
   },
   {
    "duration": 232,
    "start_time": "2023-04-09T07:20:35.341Z"
   },
   {
    "duration": 5,
    "start_time": "2023-04-09T07:20:35.575Z"
   },
   {
    "duration": 154,
    "start_time": "2023-04-09T07:20:35.582Z"
   },
   {
    "duration": 7,
    "start_time": "2023-04-09T07:20:35.746Z"
   },
   {
    "duration": 26,
    "start_time": "2023-04-09T07:20:35.755Z"
   },
   {
    "duration": 278,
    "start_time": "2023-04-09T07:20:35.784Z"
   },
   {
    "duration": 137,
    "start_time": "2023-04-09T07:20:36.064Z"
   },
   {
    "duration": 8,
    "start_time": "2023-04-09T07:20:36.203Z"
   },
   {
    "duration": 36,
    "start_time": "2023-04-09T07:20:36.213Z"
   },
   {
    "duration": 13,
    "start_time": "2023-04-09T07:20:36.251Z"
   },
   {
    "duration": 25,
    "start_time": "2023-04-09T07:20:36.266Z"
   },
   {
    "duration": 12,
    "start_time": "2023-04-09T07:20:36.293Z"
   },
   {
    "duration": 36,
    "start_time": "2023-04-09T07:20:36.307Z"
   },
   {
    "duration": 15,
    "start_time": "2023-04-09T07:20:36.345Z"
   },
   {
    "duration": 74,
    "start_time": "2023-04-09T09:34:20.576Z"
   },
   {
    "duration": 7,
    "start_time": "2023-04-09T09:34:29.320Z"
   },
   {
    "duration": 1334,
    "start_time": "2023-04-09T09:34:32.177Z"
   },
   {
    "duration": 76,
    "start_time": "2023-04-09T09:34:34.515Z"
   },
   {
    "duration": 15,
    "start_time": "2023-04-09T09:34:36.585Z"
   },
   {
    "duration": 3,
    "start_time": "2023-04-09T09:34:38.679Z"
   },
   {
    "duration": 13,
    "start_time": "2023-04-09T09:34:39.633Z"
   },
   {
    "duration": 64,
    "start_time": "2023-04-09T09:35:10.861Z"
   },
   {
    "duration": 10,
    "start_time": "2023-04-09T09:35:14.158Z"
   },
   {
    "duration": 9,
    "start_time": "2023-04-09T09:36:55.057Z"
   },
   {
    "duration": 9,
    "start_time": "2023-04-09T09:37:04.528Z"
   },
   {
    "duration": 4,
    "start_time": "2023-04-09T09:37:28.769Z"
   },
   {
    "duration": 9,
    "start_time": "2023-04-09T09:37:29.753Z"
   },
   {
    "duration": 3,
    "start_time": "2023-04-09T09:37:34.249Z"
   },
   {
    "duration": 9,
    "start_time": "2023-04-09T09:37:34.718Z"
   },
   {
    "duration": 13,
    "start_time": "2023-04-09T09:37:51.085Z"
   },
   {
    "duration": 12,
    "start_time": "2023-04-09T09:38:09.204Z"
   },
   {
    "duration": 17,
    "start_time": "2023-04-09T09:38:58.933Z"
   },
   {
    "duration": 12,
    "start_time": "2023-04-09T09:44:40.564Z"
   },
   {
    "duration": 4,
    "start_time": "2023-04-09T09:44:47.709Z"
   },
   {
    "duration": 59,
    "start_time": "2023-04-09T09:44:47.716Z"
   },
   {
    "duration": 16,
    "start_time": "2023-04-09T09:44:47.777Z"
   },
   {
    "duration": 3,
    "start_time": "2023-04-09T09:44:47.796Z"
   },
   {
    "duration": 10,
    "start_time": "2023-04-09T09:44:47.802Z"
   },
   {
    "duration": 16,
    "start_time": "2023-04-09T09:44:47.814Z"
   },
   {
    "duration": 13,
    "start_time": "2023-04-09T09:44:47.835Z"
   },
   {
    "duration": 97,
    "start_time": "2023-04-09T09:44:47.850Z"
   },
   {
    "duration": 69,
    "start_time": "2023-04-09T09:44:47.949Z"
   },
   {
    "duration": 13,
    "start_time": "2023-04-09T09:44:48.020Z"
   },
   {
    "duration": 12,
    "start_time": "2023-04-09T09:44:48.042Z"
   },
   {
    "duration": 9,
    "start_time": "2023-04-09T09:44:48.056Z"
   },
   {
    "duration": 12,
    "start_time": "2023-04-09T09:44:48.067Z"
   },
   {
    "duration": 13,
    "start_time": "2023-04-09T09:44:48.081Z"
   },
   {
    "duration": 29,
    "start_time": "2023-04-09T09:44:48.096Z"
   },
   {
    "duration": 16,
    "start_time": "2023-04-09T09:44:48.127Z"
   },
   {
    "duration": 14,
    "start_time": "2023-04-09T09:44:48.145Z"
   },
   {
    "duration": 5,
    "start_time": "2023-04-09T09:44:48.162Z"
   },
   {
    "duration": 7,
    "start_time": "2023-04-09T09:44:48.169Z"
   },
   {
    "duration": 7,
    "start_time": "2023-04-09T09:44:48.178Z"
   },
   {
    "duration": 43,
    "start_time": "2023-04-09T09:44:48.187Z"
   },
   {
    "duration": 11,
    "start_time": "2023-04-09T09:44:48.232Z"
   },
   {
    "duration": 7,
    "start_time": "2023-04-09T09:44:48.244Z"
   },
   {
    "duration": 7,
    "start_time": "2023-04-09T09:44:48.253Z"
   },
   {
    "duration": 12,
    "start_time": "2023-04-09T09:44:48.261Z"
   },
   {
    "duration": 6,
    "start_time": "2023-04-09T09:44:48.276Z"
   },
   {
    "duration": 45,
    "start_time": "2023-04-09T09:44:48.284Z"
   },
   {
    "duration": 7,
    "start_time": "2023-04-09T09:44:48.331Z"
   },
   {
    "duration": 8,
    "start_time": "2023-04-09T09:44:48.341Z"
   },
   {
    "duration": 12,
    "start_time": "2023-04-09T09:44:48.350Z"
   },
   {
    "duration": 3013,
    "start_time": "2023-04-09T09:44:48.364Z"
   },
   {
    "duration": 165,
    "start_time": "2023-04-09T09:44:51.379Z"
   },
   {
    "duration": 316,
    "start_time": "2023-04-09T09:44:51.546Z"
   },
   {
    "duration": 8,
    "start_time": "2023-04-09T09:44:51.865Z"
   },
   {
    "duration": 2,
    "start_time": "2023-04-09T09:44:59.063Z"
   },
   {
    "duration": 42,
    "start_time": "2023-04-09T09:44:59.068Z"
   },
   {
    "duration": 13,
    "start_time": "2023-04-09T09:44:59.112Z"
   },
   {
    "duration": 10,
    "start_time": "2023-04-09T09:44:59.132Z"
   },
   {
    "duration": 9,
    "start_time": "2023-04-09T09:44:59.149Z"
   },
   {
    "duration": 14,
    "start_time": "2023-04-09T09:44:59.161Z"
   },
   {
    "duration": 23,
    "start_time": "2023-04-09T09:44:59.178Z"
   },
   {
    "duration": 63,
    "start_time": "2023-04-09T09:44:59.202Z"
   },
   {
    "duration": 33,
    "start_time": "2023-04-09T09:44:59.267Z"
   },
   {
    "duration": 11,
    "start_time": "2023-04-09T09:44:59.301Z"
   },
   {
    "duration": 17,
    "start_time": "2023-04-09T09:44:59.314Z"
   },
   {
    "duration": 17,
    "start_time": "2023-04-09T09:44:59.333Z"
   },
   {
    "duration": 20,
    "start_time": "2023-04-09T09:44:59.352Z"
   },
   {
    "duration": 9,
    "start_time": "2023-04-09T09:44:59.376Z"
   },
   {
    "duration": 10,
    "start_time": "2023-04-09T09:44:59.387Z"
   },
   {
    "duration": 42,
    "start_time": "2023-04-09T09:44:59.399Z"
   },
   {
    "duration": 18,
    "start_time": "2023-04-09T09:44:59.444Z"
   },
   {
    "duration": 21,
    "start_time": "2023-04-09T09:44:59.464Z"
   },
   {
    "duration": 21,
    "start_time": "2023-04-09T09:44:59.488Z"
   },
   {
    "duration": 23,
    "start_time": "2023-04-09T09:44:59.511Z"
   },
   {
    "duration": 31,
    "start_time": "2023-04-09T09:44:59.536Z"
   },
   {
    "duration": 7,
    "start_time": "2023-04-09T09:44:59.569Z"
   },
   {
    "duration": 7,
    "start_time": "2023-04-09T09:44:59.578Z"
   },
   {
    "duration": 11,
    "start_time": "2023-04-09T09:44:59.588Z"
   },
   {
    "duration": 23,
    "start_time": "2023-04-09T09:44:59.601Z"
   },
   {
    "duration": 11,
    "start_time": "2023-04-09T09:44:59.626Z"
   },
   {
    "duration": 10,
    "start_time": "2023-04-09T09:44:59.642Z"
   },
   {
    "duration": 19,
    "start_time": "2023-04-09T09:44:59.654Z"
   },
   {
    "duration": 23,
    "start_time": "2023-04-09T09:44:59.675Z"
   },
   {
    "duration": 13,
    "start_time": "2023-04-09T09:44:59.701Z"
   },
   {
    "duration": 2997,
    "start_time": "2023-04-09T09:44:59.716Z"
   },
   {
    "duration": 156,
    "start_time": "2023-04-09T09:45:02.715Z"
   },
   {
    "duration": 312,
    "start_time": "2023-04-09T09:45:02.873Z"
   },
   {
    "duration": 9,
    "start_time": "2023-04-09T09:45:21.283Z"
   },
   {
    "duration": 5,
    "start_time": "2023-04-09T09:45:34.160Z"
   },
   {
    "duration": 6,
    "start_time": "2023-04-09T09:45:51.798Z"
   },
   {
    "duration": 327,
    "start_time": "2023-04-09T09:49:02.016Z"
   },
   {
    "duration": 218,
    "start_time": "2023-04-09T09:49:42.994Z"
   },
   {
    "duration": 14,
    "start_time": "2023-04-09T09:52:15.760Z"
   },
   {
    "duration": 3,
    "start_time": "2023-04-09T09:52:19.841Z"
   },
   {
    "duration": 46,
    "start_time": "2023-04-09T09:52:19.845Z"
   },
   {
    "duration": 12,
    "start_time": "2023-04-09T09:52:19.892Z"
   },
   {
    "duration": 8,
    "start_time": "2023-04-09T09:52:19.906Z"
   },
   {
    "duration": 18,
    "start_time": "2023-04-09T09:52:19.916Z"
   },
   {
    "duration": 23,
    "start_time": "2023-04-09T09:52:19.937Z"
   },
   {
    "duration": 16,
    "start_time": "2023-04-09T09:52:19.961Z"
   },
   {
    "duration": 64,
    "start_time": "2023-04-09T09:52:19.979Z"
   },
   {
    "duration": 34,
    "start_time": "2023-04-09T09:52:20.045Z"
   },
   {
    "duration": 12,
    "start_time": "2023-04-09T09:52:20.080Z"
   },
   {
    "duration": 13,
    "start_time": "2023-04-09T09:52:20.093Z"
   },
   {
    "duration": 9,
    "start_time": "2023-04-09T09:52:20.108Z"
   },
   {
    "duration": 18,
    "start_time": "2023-04-09T09:52:20.119Z"
   },
   {
    "duration": 16,
    "start_time": "2023-04-09T09:52:20.233Z"
   },
   {
    "duration": 6,
    "start_time": "2023-04-09T09:52:20.251Z"
   },
   {
    "duration": 28,
    "start_time": "2023-04-09T09:52:20.259Z"
   },
   {
    "duration": 22,
    "start_time": "2023-04-09T09:52:20.289Z"
   },
   {
    "duration": 6,
    "start_time": "2023-04-09T09:52:20.314Z"
   },
   {
    "duration": 10,
    "start_time": "2023-04-09T09:52:20.322Z"
   },
   {
    "duration": 19,
    "start_time": "2023-04-09T09:52:20.334Z"
   },
   {
    "duration": 8,
    "start_time": "2023-04-09T09:52:20.356Z"
   },
   {
    "duration": 19,
    "start_time": "2023-04-09T09:52:20.367Z"
   },
   {
    "duration": 9,
    "start_time": "2023-04-09T09:52:20.388Z"
   },
   {
    "duration": 41,
    "start_time": "2023-04-09T09:52:20.399Z"
   },
   {
    "duration": 15,
    "start_time": "2023-04-09T09:52:20.450Z"
   },
   {
    "duration": 35,
    "start_time": "2023-04-09T09:52:20.467Z"
   },
   {
    "duration": 46,
    "start_time": "2023-04-09T09:52:20.505Z"
   },
   {
    "duration": 15,
    "start_time": "2023-04-09T09:52:20.553Z"
   },
   {
    "duration": 33,
    "start_time": "2023-04-09T09:52:20.571Z"
   },
   {
    "duration": 31,
    "start_time": "2023-04-09T09:52:20.607Z"
   },
   {
    "duration": 3332,
    "start_time": "2023-04-09T09:52:20.643Z"
   },
   {
    "duration": 134,
    "start_time": "2023-04-09T09:52:23.977Z"
   },
   {
    "duration": 340,
    "start_time": "2023-04-09T09:52:24.113Z"
   },
   {
    "duration": 7,
    "start_time": "2023-04-09T09:52:24.456Z"
   },
   {
    "duration": 252,
    "start_time": "2023-04-09T09:52:24.465Z"
   },
   {
    "duration": 243,
    "start_time": "2023-04-09T09:52:24.719Z"
   },
   {
    "duration": 330,
    "start_time": "2023-04-09T09:52:24.964Z"
   },
   {
    "duration": 234,
    "start_time": "2023-04-09T09:52:25.296Z"
   },
   {
    "duration": 329,
    "start_time": "2023-04-09T09:52:25.543Z"
   },
   {
    "duration": 11,
    "start_time": "2023-04-09T09:52:25.873Z"
   },
   {
    "duration": 195,
    "start_time": "2023-04-09T09:52:25.887Z"
   },
   {
    "duration": 5,
    "start_time": "2023-04-09T09:52:26.084Z"
   },
   {
    "duration": 173,
    "start_time": "2023-04-09T09:52:26.091Z"
   },
   {
    "duration": 6,
    "start_time": "2023-04-09T09:52:26.265Z"
   },
   {
    "duration": 5,
    "start_time": "2023-04-09T09:52:26.273Z"
   },
   {
    "duration": 286,
    "start_time": "2023-04-09T09:52:26.279Z"
   },
   {
    "duration": 158,
    "start_time": "2023-04-09T09:52:26.570Z"
   },
   {
    "duration": 11,
    "start_time": "2023-04-09T09:52:26.730Z"
   },
   {
    "duration": 25,
    "start_time": "2023-04-09T09:52:36.081Z"
   },
   {
    "duration": 24,
    "start_time": "2023-04-09T09:53:15.553Z"
   },
   {
    "duration": 27,
    "start_time": "2023-04-09T09:53:21.259Z"
   },
   {
    "duration": 4,
    "start_time": "2023-04-09T09:57:35.559Z"
   },
   {
    "duration": 53,
    "start_time": "2023-04-09T09:57:35.566Z"
   },
   {
    "duration": 15,
    "start_time": "2023-04-09T09:57:35.621Z"
   },
   {
    "duration": 21,
    "start_time": "2023-04-09T09:57:35.639Z"
   },
   {
    "duration": 11,
    "start_time": "2023-04-09T09:57:35.662Z"
   },
   {
    "duration": 12,
    "start_time": "2023-04-09T09:57:35.675Z"
   },
   {
    "duration": 20,
    "start_time": "2023-04-09T09:57:35.689Z"
   },
   {
    "duration": 71,
    "start_time": "2023-04-09T09:57:35.711Z"
   },
   {
    "duration": 37,
    "start_time": "2023-04-09T09:57:35.785Z"
   },
   {
    "duration": 13,
    "start_time": "2023-04-09T09:57:35.824Z"
   },
   {
    "duration": 15,
    "start_time": "2023-04-09T09:57:35.840Z"
   },
   {
    "duration": 12,
    "start_time": "2023-04-09T09:57:35.857Z"
   },
   {
    "duration": 10,
    "start_time": "2023-04-09T09:57:35.872Z"
   },
   {
    "duration": 8,
    "start_time": "2023-04-09T09:57:35.884Z"
   },
   {
    "duration": 54,
    "start_time": "2023-04-09T09:57:35.893Z"
   },
   {
    "duration": 19,
    "start_time": "2023-04-09T09:57:35.949Z"
   },
   {
    "duration": 18,
    "start_time": "2023-04-09T09:57:35.970Z"
   },
   {
    "duration": 6,
    "start_time": "2023-04-09T09:57:35.990Z"
   },
   {
    "duration": 17,
    "start_time": "2023-04-09T09:57:35.998Z"
   },
   {
    "duration": 28,
    "start_time": "2023-04-09T09:57:36.017Z"
   },
   {
    "duration": 8,
    "start_time": "2023-04-09T09:57:36.047Z"
   },
   {
    "duration": 18,
    "start_time": "2023-04-09T09:57:36.056Z"
   },
   {
    "duration": 8,
    "start_time": "2023-04-09T09:57:36.076Z"
   },
   {
    "duration": 14,
    "start_time": "2023-04-09T09:57:36.088Z"
   },
   {
    "duration": 23,
    "start_time": "2023-04-09T09:57:36.104Z"
   },
   {
    "duration": 11,
    "start_time": "2023-04-09T09:57:36.141Z"
   },
   {
    "duration": 22,
    "start_time": "2023-04-09T09:57:36.154Z"
   },
   {
    "duration": 17,
    "start_time": "2023-04-09T09:57:36.178Z"
   },
   {
    "duration": 15,
    "start_time": "2023-04-09T09:57:36.197Z"
   },
   {
    "duration": 24,
    "start_time": "2023-04-09T09:57:36.214Z"
   },
   {
    "duration": 3042,
    "start_time": "2023-04-09T09:57:36.243Z"
   },
   {
    "duration": 141,
    "start_time": "2023-04-09T09:57:39.287Z"
   },
   {
    "duration": 328,
    "start_time": "2023-04-09T09:57:39.431Z"
   },
   {
    "duration": 7,
    "start_time": "2023-04-09T09:57:39.760Z"
   },
   {
    "duration": 267,
    "start_time": "2023-04-09T09:57:39.769Z"
   },
   {
    "duration": 230,
    "start_time": "2023-04-09T09:57:40.046Z"
   },
   {
    "duration": 306,
    "start_time": "2023-04-09T09:57:40.278Z"
   },
   {
    "duration": 281,
    "start_time": "2023-04-09T09:57:40.586Z"
   },
   {
    "duration": 325,
    "start_time": "2023-04-09T09:57:40.869Z"
   },
   {
    "duration": 10,
    "start_time": "2023-04-09T09:57:41.196Z"
   },
   {
    "duration": 173,
    "start_time": "2023-04-09T09:57:41.208Z"
   },
   {
    "duration": 5,
    "start_time": "2023-04-09T09:57:41.383Z"
   },
   {
    "duration": 172,
    "start_time": "2023-04-09T09:57:41.389Z"
   },
   {
    "duration": 5,
    "start_time": "2023-04-09T09:57:41.563Z"
   },
   {
    "duration": 8,
    "start_time": "2023-04-09T09:57:41.570Z"
   },
   {
    "duration": 268,
    "start_time": "2023-04-09T09:57:41.580Z"
   },
   {
    "duration": 169,
    "start_time": "2023-04-09T09:57:41.858Z"
   },
   {
    "duration": 12,
    "start_time": "2023-04-09T09:57:42.029Z"
   },
   {
    "duration": 29,
    "start_time": "2023-04-09T09:57:42.050Z"
   },
   {
    "duration": 11,
    "start_time": "2023-04-09T09:57:42.081Z"
   },
   {
    "duration": 45,
    "start_time": "2023-04-09T09:57:42.095Z"
   },
   {
    "duration": 16,
    "start_time": "2023-04-09T10:00:24.757Z"
   },
   {
    "duration": 182,
    "start_time": "2023-04-09T10:12:01.481Z"
   },
   {
    "duration": 228,
    "start_time": "2023-04-09T10:12:12.379Z"
   },
   {
    "duration": 151,
    "start_time": "2023-04-09T10:12:19.568Z"
   },
   {
    "duration": 148,
    "start_time": "2023-04-09T10:12:34.161Z"
   },
   {
    "duration": 11,
    "start_time": "2023-04-09T10:13:39.483Z"
   },
   {
    "duration": 11,
    "start_time": "2023-04-09T10:14:07.581Z"
   },
   {
    "duration": 14,
    "start_time": "2023-04-09T10:14:20.592Z"
   },
   {
    "duration": 25,
    "start_time": "2023-04-09T10:15:05.920Z"
   },
   {
    "duration": 5,
    "start_time": "2023-04-09T10:15:13.157Z"
   },
   {
    "duration": 5,
    "start_time": "2023-04-09T10:15:27.565Z"
   },
   {
    "duration": 27,
    "start_time": "2023-04-09T10:15:49.917Z"
   },
   {
    "duration": 7,
    "start_time": "2023-04-09T10:16:10.894Z"
   },
   {
    "duration": 12,
    "start_time": "2023-04-09T10:17:59.553Z"
   },
   {
    "duration": 11,
    "start_time": "2023-04-09T10:21:42.355Z"
   },
   {
    "duration": 5,
    "start_time": "2023-04-09T10:22:00.878Z"
   },
   {
    "duration": 5,
    "start_time": "2023-04-09T10:22:07.170Z"
   },
   {
    "duration": 5,
    "start_time": "2023-04-09T10:22:49.882Z"
   },
   {
    "duration": 6,
    "start_time": "2023-04-09T10:23:06.059Z"
   },
   {
    "duration": 17,
    "start_time": "2023-04-09T10:24:04.563Z"
   },
   {
    "duration": 21,
    "start_time": "2023-04-09T10:24:21.236Z"
   },
   {
    "duration": 11,
    "start_time": "2023-04-09T10:24:36.071Z"
   },
   {
    "duration": 10,
    "start_time": "2023-04-09T10:24:41.384Z"
   },
   {
    "duration": 8,
    "start_time": "2023-04-09T10:27:31.555Z"
   },
   {
    "duration": 22,
    "start_time": "2023-04-09T10:27:36.979Z"
   },
   {
    "duration": 15,
    "start_time": "2023-04-09T10:27:53.484Z"
   },
   {
    "duration": 12,
    "start_time": "2023-04-09T10:31:35.762Z"
   },
   {
    "duration": 23,
    "start_time": "2023-04-09T10:32:16.749Z"
   },
   {
    "duration": 15,
    "start_time": "2023-04-09T10:33:11.739Z"
   },
   {
    "duration": 53,
    "start_time": "2023-04-09T10:35:07.172Z"
   },
   {
    "duration": 26,
    "start_time": "2023-04-09T10:35:08.323Z"
   },
   {
    "duration": 3,
    "start_time": "2023-04-09T10:35:11.100Z"
   },
   {
    "duration": 9,
    "start_time": "2023-04-09T10:35:11.856Z"
   },
   {
    "duration": 3,
    "start_time": "2023-04-09T10:40:28.997Z"
   },
   {
    "duration": 81,
    "start_time": "2023-04-09T10:40:29.003Z"
   },
   {
    "duration": 12,
    "start_time": "2023-04-09T10:40:29.087Z"
   },
   {
    "duration": 10,
    "start_time": "2023-04-09T10:40:29.100Z"
   },
   {
    "duration": 35,
    "start_time": "2023-04-09T10:40:29.112Z"
   },
   {
    "duration": 44,
    "start_time": "2023-04-09T10:40:29.150Z"
   },
   {
    "duration": 25,
    "start_time": "2023-04-09T10:40:29.196Z"
   },
   {
    "duration": 91,
    "start_time": "2023-04-09T10:40:29.225Z"
   },
   {
    "duration": 46,
    "start_time": "2023-04-09T10:40:29.318Z"
   },
   {
    "duration": 16,
    "start_time": "2023-04-09T10:40:29.367Z"
   },
   {
    "duration": 12,
    "start_time": "2023-04-09T10:40:29.386Z"
   },
   {
    "duration": 10,
    "start_time": "2023-04-09T10:40:29.399Z"
   },
   {
    "duration": 9,
    "start_time": "2023-04-09T10:40:29.411Z"
   },
   {
    "duration": 15,
    "start_time": "2023-04-09T10:40:29.422Z"
   },
   {
    "duration": 5,
    "start_time": "2023-04-09T10:40:29.439Z"
   },
   {
    "duration": 14,
    "start_time": "2023-04-09T10:40:29.446Z"
   },
   {
    "duration": 11,
    "start_time": "2023-04-09T10:40:29.461Z"
   },
   {
    "duration": 10,
    "start_time": "2023-04-09T10:40:29.474Z"
   },
   {
    "duration": 11,
    "start_time": "2023-04-09T10:40:29.486Z"
   },
   {
    "duration": 8,
    "start_time": "2023-04-09T10:40:29.498Z"
   },
   {
    "duration": 6,
    "start_time": "2023-04-09T10:40:29.532Z"
   },
   {
    "duration": 8,
    "start_time": "2023-04-09T10:40:29.540Z"
   },
   {
    "duration": 7,
    "start_time": "2023-04-09T10:40:29.549Z"
   },
   {
    "duration": 6,
    "start_time": "2023-04-09T10:40:29.558Z"
   },
   {
    "duration": 13,
    "start_time": "2023-04-09T10:40:29.566Z"
   },
   {
    "duration": 6,
    "start_time": "2023-04-09T10:40:29.581Z"
   },
   {
    "duration": 45,
    "start_time": "2023-04-09T10:40:29.589Z"
   },
   {
    "duration": 7,
    "start_time": "2023-04-09T10:40:29.636Z"
   },
   {
    "duration": 9,
    "start_time": "2023-04-09T10:40:29.646Z"
   },
   {
    "duration": 12,
    "start_time": "2023-04-09T10:40:29.659Z"
   },
   {
    "duration": 2923,
    "start_time": "2023-04-09T10:40:29.673Z"
   },
   {
    "duration": 144,
    "start_time": "2023-04-09T10:40:32.598Z"
   },
   {
    "duration": 341,
    "start_time": "2023-04-09T10:40:32.744Z"
   },
   {
    "duration": 6,
    "start_time": "2023-04-09T10:40:33.087Z"
   },
   {
    "duration": 245,
    "start_time": "2023-04-09T10:40:33.095Z"
   },
   {
    "duration": 235,
    "start_time": "2023-04-09T10:40:33.341Z"
   },
   {
    "duration": 314,
    "start_time": "2023-04-09T10:40:33.578Z"
   },
   {
    "duration": 224,
    "start_time": "2023-04-09T10:40:33.893Z"
   },
   {
    "duration": 321,
    "start_time": "2023-04-09T10:40:34.123Z"
   },
   {
    "duration": 11,
    "start_time": "2023-04-09T10:40:34.446Z"
   },
   {
    "duration": 236,
    "start_time": "2023-04-09T10:40:34.459Z"
   },
   {
    "duration": 4,
    "start_time": "2023-04-09T10:40:34.697Z"
   },
   {
    "duration": 174,
    "start_time": "2023-04-09T10:40:34.703Z"
   },
   {
    "duration": 153,
    "start_time": "2023-04-09T10:40:34.879Z"
   },
   {
    "duration": 6,
    "start_time": "2023-04-09T10:40:35.033Z"
   },
   {
    "duration": 7,
    "start_time": "2023-04-09T10:40:35.041Z"
   },
   {
    "duration": 252,
    "start_time": "2023-04-09T10:40:35.050Z"
   },
   {
    "duration": 142,
    "start_time": "2023-04-09T10:40:35.304Z"
   },
   {
    "duration": 6,
    "start_time": "2023-04-09T10:40:35.448Z"
   },
   {
    "duration": 25,
    "start_time": "2023-04-09T10:40:35.456Z"
   },
   {
    "duration": 11,
    "start_time": "2023-04-09T10:40:35.483Z"
   },
   {
    "duration": 39,
    "start_time": "2023-04-09T10:40:35.496Z"
   },
   {
    "duration": 16,
    "start_time": "2023-04-09T10:40:35.536Z"
   },
   {
    "duration": 23,
    "start_time": "2023-04-09T10:40:35.554Z"
   },
   {
    "duration": 16,
    "start_time": "2023-04-09T10:40:35.578Z"
   },
   {
    "duration": 1085,
    "start_time": "2023-04-09T18:48:50.456Z"
   },
   {
    "duration": 98,
    "start_time": "2023-04-09T18:48:51.543Z"
   },
   {
    "duration": 11,
    "start_time": "2023-04-09T18:48:51.643Z"
   },
   {
    "duration": 11,
    "start_time": "2023-04-09T18:48:51.656Z"
   },
   {
    "duration": 29,
    "start_time": "2023-04-09T18:48:51.669Z"
   },
   {
    "duration": 11,
    "start_time": "2023-04-09T18:48:51.699Z"
   },
   {
    "duration": 9,
    "start_time": "2023-04-09T18:48:51.712Z"
   },
   {
    "duration": 141,
    "start_time": "2023-04-09T18:48:51.723Z"
   },
   {
    "duration": 84,
    "start_time": "2023-04-09T18:48:51.866Z"
   },
   {
    "duration": 10,
    "start_time": "2023-04-09T18:48:51.952Z"
   },
   {
    "duration": 14,
    "start_time": "2023-04-09T18:48:51.963Z"
   },
   {
    "duration": 22,
    "start_time": "2023-04-09T18:48:51.983Z"
   },
   {
    "duration": 20,
    "start_time": "2023-04-09T18:48:52.007Z"
   },
   {
    "duration": 16,
    "start_time": "2023-04-09T18:48:52.029Z"
   },
   {
    "duration": 6,
    "start_time": "2023-04-09T18:48:52.047Z"
   },
   {
    "duration": 34,
    "start_time": "2023-04-09T18:48:52.054Z"
   },
   {
    "duration": 19,
    "start_time": "2023-04-09T18:48:52.090Z"
   },
   {
    "duration": 11,
    "start_time": "2023-04-09T18:48:52.111Z"
   },
   {
    "duration": 6,
    "start_time": "2023-04-09T18:48:52.124Z"
   },
   {
    "duration": 8,
    "start_time": "2023-04-09T18:48:52.131Z"
   },
   {
    "duration": 4,
    "start_time": "2023-04-09T18:48:52.140Z"
   },
   {
    "duration": 6,
    "start_time": "2023-04-09T18:48:52.146Z"
   },
   {
    "duration": 7,
    "start_time": "2023-04-09T18:48:52.153Z"
   },
   {
    "duration": 22,
    "start_time": "2023-04-09T18:48:52.162Z"
   },
   {
    "duration": 16,
    "start_time": "2023-04-09T18:48:52.186Z"
   },
   {
    "duration": 6,
    "start_time": "2023-04-09T18:48:52.203Z"
   },
   {
    "duration": 6,
    "start_time": "2023-04-09T18:48:52.211Z"
   },
   {
    "duration": 8,
    "start_time": "2023-04-09T18:48:52.219Z"
   },
   {
    "duration": 11,
    "start_time": "2023-04-09T18:48:52.228Z"
   },
   {
    "duration": 25,
    "start_time": "2023-04-09T18:48:52.241Z"
   },
   {
    "duration": 2449,
    "start_time": "2023-04-09T18:48:52.268Z"
   },
   {
    "duration": 119,
    "start_time": "2023-04-09T18:48:54.719Z"
   },
   {
    "duration": 288,
    "start_time": "2023-04-09T18:48:54.840Z"
   },
   {
    "duration": 5,
    "start_time": "2023-04-09T18:48:55.130Z"
   },
   {
    "duration": 294,
    "start_time": "2023-04-09T18:48:55.137Z"
   },
   {
    "duration": 191,
    "start_time": "2023-04-09T18:48:55.432Z"
   },
   {
    "duration": 266,
    "start_time": "2023-04-09T18:48:55.625Z"
   },
   {
    "duration": 212,
    "start_time": "2023-04-09T18:48:55.894Z"
   },
   {
    "duration": 314,
    "start_time": "2023-04-09T18:48:56.108Z"
   },
   {
    "duration": 9,
    "start_time": "2023-04-09T18:48:56.424Z"
   },
   {
    "duration": 204,
    "start_time": "2023-04-09T18:48:56.436Z"
   },
   {
    "duration": 5,
    "start_time": "2023-04-09T18:48:56.641Z"
   },
   {
    "duration": 136,
    "start_time": "2023-04-09T18:48:56.648Z"
   },
   {
    "duration": 121,
    "start_time": "2023-04-09T18:48:56.786Z"
   },
   {
    "duration": 5,
    "start_time": "2023-04-09T18:48:56.908Z"
   },
   {
    "duration": 34,
    "start_time": "2023-04-09T18:48:56.914Z"
   },
   {
    "duration": 237,
    "start_time": "2023-04-09T18:48:56.949Z"
   },
   {
    "duration": 138,
    "start_time": "2023-04-09T18:48:57.188Z"
   },
   {
    "duration": 7,
    "start_time": "2023-04-09T18:48:57.328Z"
   },
   {
    "duration": 57,
    "start_time": "2023-04-09T18:48:57.337Z"
   },
   {
    "duration": 10,
    "start_time": "2023-04-09T18:48:57.395Z"
   },
   {
    "duration": 14,
    "start_time": "2023-04-09T18:48:57.407Z"
   },
   {
    "duration": 24,
    "start_time": "2023-04-09T18:48:57.422Z"
   },
   {
    "duration": 34,
    "start_time": "2023-04-09T18:48:57.447Z"
   },
   {
    "duration": 13,
    "start_time": "2023-04-09T18:48:57.484Z"
   }
  ],
  "kernelspec": {
   "display_name": "Python 3 (ipykernel)",
   "language": "python",
   "name": "python3"
  },
  "language_info": {
   "codemirror_mode": {
    "name": "ipython",
    "version": 3
   },
   "file_extension": ".py",
   "mimetype": "text/x-python",
   "name": "python",
   "nbconvert_exporter": "python",
   "pygments_lexer": "ipython3",
   "version": "3.9.13"
  },
  "toc": {
   "base_numbering": 1,
   "nav_menu": {},
   "number_sections": true,
   "sideBar": true,
   "skip_h1_title": true,
   "title_cell": "Table of Contents",
   "title_sidebar": "Contents",
   "toc_cell": false,
   "toc_position": {},
   "toc_section_display": true,
   "toc_window_display": false
  }
 },
 "nbformat": 4,
 "nbformat_minor": 5
}
