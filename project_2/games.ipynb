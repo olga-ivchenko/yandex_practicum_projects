{
 "cells": [
  {
   "cell_type": "markdown",
   "metadata": {},
   "source": [
    "**Название проекта:** сводный проект, посвященный компьютерным играм для игровых платформ в период до 2016 г. \n",
    "\n",
    "**Заказчик:** исследование проводится для интернет-магазина «Стримчик», который продаёт компьютерные игры по всему миру\n",
    "\n",
    "**Цель исследования:** выявить определяющие успешность компьютерной игры закономерности для определения потенциально популярного продукта и планирования рекламных кампаний интернет-магазином.\n",
    "        \n",
    "**Суть исследования:** Провести анализ данных при помощи которых интернет-магазин сможет прогнозировать потенциально популярные продукты в 2017 г. и планировать рекламный кампании\n",
    "\n",
    "**Задачи исследования:** обработка данных, исследовательский анализ данных, составление портрета пользователя каждого региона, проверка гипотез, формулирование финальных выводов и рекомендаций\n",
    "\n",
    "**Исходные данные:** исторические данные о продажах игр, оценки пользователей и экспертов, жанры и платформы  из открытых источников. Данные представлены до 2016 г. (включительно - частично) \n",
    "        \n",
    "        \n",
    "\n",
    "Данное исследование разделено на несколько частей.\n",
    "\n",
    "    \n",
    "***Часть 1. Подготовка данных:***\n",
    "* Изучение файлов с данными, получение общей информации, загрузка библиотек.\n",
    "* Нахождение, обработка и ликвидация пропусков.\n",
    "* Приведение данных к нужным типам\n",
    "* Нахождение и исправление аномалий и ошибок    \n",
    "\n",
    "***Часть 2. Анализ данных:***\n",
    "* Анализ количества игр по годам\n",
    "* Определение платформ-лидеров\n",
    "* Срок жизненного цикла игровой платформы\n",
    "* Выбор актуального периода данных для анализа\n",
    "* Отбор потенциальных платформ-лидеров для 2017 г.\n",
    "* График \"ящик с усами\" по продажам\n",
    "* Влияние на продажи отзывов критиков и игроков\n",
    "* Общее распределение игр по жанрам\n",
    "    \n",
    "    \n",
    "***Часть 3. Портрет пользователей крупнейших регионов:***\n",
    "* Игроки в Японии\n",
    "* Игроки в Северной Америке\n",
    "* Игроки в Европе\n",
    "\n",
    "***Часть 4. Гипотезы:***\n",
    "* Постановка и проверка гипотез\n",
    "    \n",
    "***Часть 5. Общий вывод и рекомендации***\n",
    "       \n",
    "</div>"
   ]
  },
  {
   "cell_type": "markdown",
   "metadata": {},
   "source": [
    "# 1. Подготовка данных"
   ]
  },
  {
   "cell_type": "markdown",
   "metadata": {},
   "source": [
    "Задачи: заменить названия столбцов, преобразовать данные при необходимости. Обработать пропуски. Посчитать суммарные продажи во всех регионах и записать их в отдельный столбец."
   ]
  },
  {
   "cell_type": "code",
   "execution_count": 1,
   "metadata": {},
   "outputs": [],
   "source": [
    "import pandas as pd  \n",
    "from matplotlib import pyplot as plt\n",
    "import numpy as np\n",
    "import seaborn as sns\n",
    "from scipy import stats as st "
   ]
  },
  {
   "cell_type": "code",
   "execution_count": 2,
   "metadata": {},
   "outputs": [],
   "source": [
    "try:\n",
    "    df = pd.read_csv('games.csv')  # загружаем локальный файл с данными\n",
    "except:\n",
    "    df = pd.read_csv('/datasets/games.csv')   # альтернативный пусть к данным для работы с других устройств"
   ]
  },
  {
   "cell_type": "code",
   "execution_count": 3,
   "metadata": {
    "scrolled": true
   },
   "outputs": [
    {
     "name": "stdout",
     "output_type": "stream",
     "text": [
      "<class 'pandas.core.frame.DataFrame'>\n",
      "RangeIndex: 16715 entries, 0 to 16714\n",
      "Data columns (total 11 columns):\n",
      " #   Column           Non-Null Count  Dtype  \n",
      "---  ------           --------------  -----  \n",
      " 0   Name             16713 non-null  object \n",
      " 1   Platform         16715 non-null  object \n",
      " 2   Year_of_Release  16446 non-null  float64\n",
      " 3   Genre            16713 non-null  object \n",
      " 4   NA_sales         16715 non-null  float64\n",
      " 5   EU_sales         16715 non-null  float64\n",
      " 6   JP_sales         16715 non-null  float64\n",
      " 7   Other_sales      16715 non-null  float64\n",
      " 8   Critic_Score     8137 non-null   float64\n",
      " 9   User_Score       10014 non-null  object \n",
      " 10  Rating           9949 non-null   object \n",
      "dtypes: float64(6), object(5)\n",
      "memory usage: 1.4+ MB\n"
     ]
    }
   ],
   "source": [
    "df.info()"
   ]
  },
  {
   "cell_type": "code",
   "execution_count": 4,
   "metadata": {},
   "outputs": [
    {
     "data": {
      "text/html": [
       "<div>\n",
       "<style scoped>\n",
       "    .dataframe tbody tr th:only-of-type {\n",
       "        vertical-align: middle;\n",
       "    }\n",
       "\n",
       "    .dataframe tbody tr th {\n",
       "        vertical-align: top;\n",
       "    }\n",
       "\n",
       "    .dataframe thead th {\n",
       "        text-align: right;\n",
       "    }\n",
       "</style>\n",
       "<table border=\"1\" class=\"dataframe\">\n",
       "  <thead>\n",
       "    <tr style=\"text-align: right;\">\n",
       "      <th></th>\n",
       "      <th>Name</th>\n",
       "      <th>Platform</th>\n",
       "      <th>Year_of_Release</th>\n",
       "      <th>Genre</th>\n",
       "      <th>NA_sales</th>\n",
       "      <th>EU_sales</th>\n",
       "      <th>JP_sales</th>\n",
       "      <th>Other_sales</th>\n",
       "      <th>Critic_Score</th>\n",
       "      <th>User_Score</th>\n",
       "      <th>Rating</th>\n",
       "    </tr>\n",
       "  </thead>\n",
       "  <tbody>\n",
       "    <tr>\n",
       "      <th>0</th>\n",
       "      <td>Wii Sports</td>\n",
       "      <td>Wii</td>\n",
       "      <td>2006.0</td>\n",
       "      <td>Sports</td>\n",
       "      <td>41.36</td>\n",
       "      <td>28.96</td>\n",
       "      <td>3.77</td>\n",
       "      <td>8.45</td>\n",
       "      <td>76.0</td>\n",
       "      <td>8</td>\n",
       "      <td>E</td>\n",
       "    </tr>\n",
       "    <tr>\n",
       "      <th>1</th>\n",
       "      <td>Super Mario Bros.</td>\n",
       "      <td>NES</td>\n",
       "      <td>1985.0</td>\n",
       "      <td>Platform</td>\n",
       "      <td>29.08</td>\n",
       "      <td>3.58</td>\n",
       "      <td>6.81</td>\n",
       "      <td>0.77</td>\n",
       "      <td>NaN</td>\n",
       "      <td>NaN</td>\n",
       "      <td>NaN</td>\n",
       "    </tr>\n",
       "    <tr>\n",
       "      <th>2</th>\n",
       "      <td>Mario Kart Wii</td>\n",
       "      <td>Wii</td>\n",
       "      <td>2008.0</td>\n",
       "      <td>Racing</td>\n",
       "      <td>15.68</td>\n",
       "      <td>12.76</td>\n",
       "      <td>3.79</td>\n",
       "      <td>3.29</td>\n",
       "      <td>82.0</td>\n",
       "      <td>8.3</td>\n",
       "      <td>E</td>\n",
       "    </tr>\n",
       "    <tr>\n",
       "      <th>3</th>\n",
       "      <td>Wii Sports Resort</td>\n",
       "      <td>Wii</td>\n",
       "      <td>2009.0</td>\n",
       "      <td>Sports</td>\n",
       "      <td>15.61</td>\n",
       "      <td>10.93</td>\n",
       "      <td>3.28</td>\n",
       "      <td>2.95</td>\n",
       "      <td>80.0</td>\n",
       "      <td>8</td>\n",
       "      <td>E</td>\n",
       "    </tr>\n",
       "    <tr>\n",
       "      <th>4</th>\n",
       "      <td>Pokemon Red/Pokemon Blue</td>\n",
       "      <td>GB</td>\n",
       "      <td>1996.0</td>\n",
       "      <td>Role-Playing</td>\n",
       "      <td>11.27</td>\n",
       "      <td>8.89</td>\n",
       "      <td>10.22</td>\n",
       "      <td>1.00</td>\n",
       "      <td>NaN</td>\n",
       "      <td>NaN</td>\n",
       "      <td>NaN</td>\n",
       "    </tr>\n",
       "  </tbody>\n",
       "</table>\n",
       "</div>"
      ],
      "text/plain": [
       "                       Name Platform  Year_of_Release         Genre  NA_sales  \\\n",
       "0                Wii Sports      Wii           2006.0        Sports     41.36   \n",
       "1         Super Mario Bros.      NES           1985.0      Platform     29.08   \n",
       "2            Mario Kart Wii      Wii           2008.0        Racing     15.68   \n",
       "3         Wii Sports Resort      Wii           2009.0        Sports     15.61   \n",
       "4  Pokemon Red/Pokemon Blue       GB           1996.0  Role-Playing     11.27   \n",
       "\n",
       "   EU_sales  JP_sales  Other_sales  Critic_Score User_Score Rating  \n",
       "0     28.96      3.77         8.45          76.0          8      E  \n",
       "1      3.58      6.81         0.77           NaN        NaN    NaN  \n",
       "2     12.76      3.79         3.29          82.0        8.3      E  \n",
       "3     10.93      3.28         2.95          80.0          8      E  \n",
       "4      8.89     10.22         1.00           NaN        NaN    NaN  "
      ]
     },
     "execution_count": 4,
     "metadata": {},
     "output_type": "execute_result"
    }
   ],
   "source": [
    "df.head()"
   ]
  },
  {
   "cell_type": "markdown",
   "metadata": {},
   "source": [
    "После первичного анализа данных приступаем к обработке."
   ]
  },
  {
   "cell_type": "code",
   "execution_count": 5,
   "metadata": {},
   "outputs": [],
   "source": [
    "df.columns=df.columns.str.lower()  # приводим названия столбцов к snake_case"
   ]
  },
  {
   "cell_type": "markdown",
   "metadata": {},
   "source": [
    "Смотрим есть ли пропущенные значения в датасете."
   ]
  },
  {
   "cell_type": "code",
   "execution_count": 6,
   "metadata": {},
   "outputs": [
    {
     "data": {
      "text/plain": [
       "name                  2\n",
       "platform              0\n",
       "year_of_release     269\n",
       "genre                 2\n",
       "na_sales              0\n",
       "eu_sales              0\n",
       "jp_sales              0\n",
       "other_sales           0\n",
       "critic_score       8578\n",
       "user_score         6701\n",
       "rating             6766\n",
       "dtype: int64"
      ]
     },
     "execution_count": 6,
     "metadata": {},
     "output_type": "execute_result"
    }
   ],
   "source": [
    "df.isna().sum()"
   ]
  },
  {
   "cell_type": "markdown",
   "metadata": {},
   "source": [
    "##  Обработка пропусков"
   ]
  },
  {
   "cell_type": "markdown",
   "metadata": {},
   "source": [
    "Пропуски есть в колонках  name, year_of_release, а также всех оценках и рейтингах. Данные в столбцах имя и год релиза являются критичными для анализа, пропусков немного, поэтому их убираем. Пропуски в баллах и рейтингах пока оставляем и дополнительно проанализируем позже, т.к. их наличие может быть обусловлено новизной игры (не успела получить оценку) и т.п."
   ]
  },
  {
   "cell_type": "markdown",
   "metadata": {},
   "source": [
    "Пропуски наблюдаются в 5 столбцах. Все пропуски можно разделить на два вида - объемные и нет. \n",
    "    \n",
    "Не объемные: данные в столбцах \"имя\", \"жанр\" и \"год релиза\" представляются критичными для анализа и их объем невелик (2, 2 и 269 записей соответственно). Две строчки с пропущенными данными по имени и жанру выпущены в 1993 году, у них отсутствует информация практически во всем полям кроме продаж (невысоких). Эти данные не пригодятся нам для дальнейшего анализа и их можно исключить. \n",
    "\n",
    "Более детальный анализ пропусков по году релиза показал что медианные продажи у них минимальны по всем рынкам. Использовать их в дальнейшем анализе не представляется возможным, т.к. для достижения целей исследования нам необходимо будет определить по дате релиза игр актуальный период, за который мы будем исследовать данные. \n",
    "    \n",
    "Дополнительный анализ (код ниже) пустых строк с датой релиза показал что их медианные продажи невысоки, но есть выбросы в виде популярных игр на рынках Северной Америки и Европы. Посмотрим их детально: дата релиза Madden NFL 2004 - 2004 год, Space Invaders - 1980,  Frogger's Adventures: Temple of the Frog - 2001, FIFA Soccer 2004 - 2004, wwe Smackdown vs. Raw 2006 - 2006, LEGO Batman: The Videogame - 2008, Call of Duty 3 - 2006.\n",
    "Все эти данные не могут быть использованы для целей нашего исследования, т.к. не являются актуальными.\n"
   ]
  },
  {
   "cell_type": "code",
   "execution_count": 7,
   "metadata": {},
   "outputs": [
    {
     "data": {
      "text/html": [
       "<div>\n",
       "<style scoped>\n",
       "    .dataframe tbody tr th:only-of-type {\n",
       "        vertical-align: middle;\n",
       "    }\n",
       "\n",
       "    .dataframe tbody tr th {\n",
       "        vertical-align: top;\n",
       "    }\n",
       "\n",
       "    .dataframe thead th {\n",
       "        text-align: right;\n",
       "    }\n",
       "</style>\n",
       "<table border=\"1\" class=\"dataframe\">\n",
       "  <thead>\n",
       "    <tr style=\"text-align: right;\">\n",
       "      <th></th>\n",
       "      <th>name</th>\n",
       "      <th>platform</th>\n",
       "      <th>year_of_release</th>\n",
       "      <th>genre</th>\n",
       "      <th>na_sales</th>\n",
       "      <th>eu_sales</th>\n",
       "      <th>jp_sales</th>\n",
       "      <th>other_sales</th>\n",
       "      <th>critic_score</th>\n",
       "      <th>user_score</th>\n",
       "      <th>rating</th>\n",
       "    </tr>\n",
       "  </thead>\n",
       "  <tbody>\n",
       "    <tr>\n",
       "      <th>659</th>\n",
       "      <td>NaN</td>\n",
       "      <td>GEN</td>\n",
       "      <td>1993.0</td>\n",
       "      <td>NaN</td>\n",
       "      <td>1.78</td>\n",
       "      <td>0.53</td>\n",
       "      <td>0.00</td>\n",
       "      <td>0.08</td>\n",
       "      <td>NaN</td>\n",
       "      <td>NaN</td>\n",
       "      <td>NaN</td>\n",
       "    </tr>\n",
       "    <tr>\n",
       "      <th>14244</th>\n",
       "      <td>NaN</td>\n",
       "      <td>GEN</td>\n",
       "      <td>1993.0</td>\n",
       "      <td>NaN</td>\n",
       "      <td>0.00</td>\n",
       "      <td>0.00</td>\n",
       "      <td>0.03</td>\n",
       "      <td>0.00</td>\n",
       "      <td>NaN</td>\n",
       "      <td>NaN</td>\n",
       "      <td>NaN</td>\n",
       "    </tr>\n",
       "  </tbody>\n",
       "</table>\n",
       "</div>"
      ],
      "text/plain": [
       "      name platform  year_of_release genre  na_sales  eu_sales  jp_sales  \\\n",
       "659    NaN      GEN           1993.0   NaN      1.78      0.53      0.00   \n",
       "14244  NaN      GEN           1993.0   NaN      0.00      0.00      0.03   \n",
       "\n",
       "       other_sales  critic_score user_score rating  \n",
       "659           0.08           NaN        NaN    NaN  \n",
       "14244         0.00           NaN        NaN    NaN  "
      ]
     },
     "execution_count": 7,
     "metadata": {},
     "output_type": "execute_result"
    }
   ],
   "source": [
    "df.query('name.isna()')  # на всякий случай смотрим две записи с отсутствующим названием игры"
   ]
  },
  {
   "cell_type": "markdown",
   "metadata": {},
   "source": [
    "Полезной информации из этих записей не вытащить, удаляем. Аналогично поступаем с отсутствующим годом релиза."
   ]
  },
  {
   "cell_type": "code",
   "execution_count": 8,
   "metadata": {
    "scrolled": true
   },
   "outputs": [
    {
     "data": {
      "text/html": [
       "<div>\n",
       "<style scoped>\n",
       "    .dataframe tbody tr th:only-of-type {\n",
       "        vertical-align: middle;\n",
       "    }\n",
       "\n",
       "    .dataframe tbody tr th {\n",
       "        vertical-align: top;\n",
       "    }\n",
       "\n",
       "    .dataframe thead th {\n",
       "        text-align: right;\n",
       "    }\n",
       "</style>\n",
       "<table border=\"1\" class=\"dataframe\">\n",
       "  <thead>\n",
       "    <tr style=\"text-align: right;\">\n",
       "      <th></th>\n",
       "      <th>year_of_release</th>\n",
       "      <th>na_sales</th>\n",
       "      <th>eu_sales</th>\n",
       "      <th>jp_sales</th>\n",
       "      <th>other_sales</th>\n",
       "      <th>critic_score</th>\n",
       "    </tr>\n",
       "  </thead>\n",
       "  <tbody>\n",
       "    <tr>\n",
       "      <th>count</th>\n",
       "      <td>0.0</td>\n",
       "      <td>269.000000</td>\n",
       "      <td>269.000000</td>\n",
       "      <td>269.000000</td>\n",
       "      <td>269.000000</td>\n",
       "      <td>154.000000</td>\n",
       "    </tr>\n",
       "    <tr>\n",
       "      <th>mean</th>\n",
       "      <td>NaN</td>\n",
       "      <td>0.219888</td>\n",
       "      <td>0.090929</td>\n",
       "      <td>0.024907</td>\n",
       "      <td>0.032007</td>\n",
       "      <td>67.584416</td>\n",
       "    </tr>\n",
       "    <tr>\n",
       "      <th>std</th>\n",
       "      <td>NaN</td>\n",
       "      <td>0.424907</td>\n",
       "      <td>0.207933</td>\n",
       "      <td>0.090160</td>\n",
       "      <td>0.075546</td>\n",
       "      <td>14.828740</td>\n",
       "    </tr>\n",
       "    <tr>\n",
       "      <th>min</th>\n",
       "      <td>NaN</td>\n",
       "      <td>0.000000</td>\n",
       "      <td>0.000000</td>\n",
       "      <td>0.000000</td>\n",
       "      <td>0.000000</td>\n",
       "      <td>22.000000</td>\n",
       "    </tr>\n",
       "    <tr>\n",
       "      <th>25%</th>\n",
       "      <td>NaN</td>\n",
       "      <td>0.010000</td>\n",
       "      <td>0.000000</td>\n",
       "      <td>0.000000</td>\n",
       "      <td>0.000000</td>\n",
       "      <td>57.000000</td>\n",
       "    </tr>\n",
       "    <tr>\n",
       "      <th>50%</th>\n",
       "      <td>NaN</td>\n",
       "      <td>0.090000</td>\n",
       "      <td>0.020000</td>\n",
       "      <td>0.000000</td>\n",
       "      <td>0.010000</td>\n",
       "      <td>70.000000</td>\n",
       "    </tr>\n",
       "    <tr>\n",
       "      <th>75%</th>\n",
       "      <td>NaN</td>\n",
       "      <td>0.240000</td>\n",
       "      <td>0.100000</td>\n",
       "      <td>0.000000</td>\n",
       "      <td>0.030000</td>\n",
       "      <td>78.000000</td>\n",
       "    </tr>\n",
       "    <tr>\n",
       "      <th>max</th>\n",
       "      <td>NaN</td>\n",
       "      <td>4.260000</td>\n",
       "      <td>2.360000</td>\n",
       "      <td>0.770000</td>\n",
       "      <td>0.710000</td>\n",
       "      <td>94.000000</td>\n",
       "    </tr>\n",
       "  </tbody>\n",
       "</table>\n",
       "</div>"
      ],
      "text/plain": [
       "       year_of_release    na_sales    eu_sales    jp_sales  other_sales  \\\n",
       "count              0.0  269.000000  269.000000  269.000000   269.000000   \n",
       "mean               NaN    0.219888    0.090929    0.024907     0.032007   \n",
       "std                NaN    0.424907    0.207933    0.090160     0.075546   \n",
       "min                NaN    0.000000    0.000000    0.000000     0.000000   \n",
       "25%                NaN    0.010000    0.000000    0.000000     0.000000   \n",
       "50%                NaN    0.090000    0.020000    0.000000     0.010000   \n",
       "75%                NaN    0.240000    0.100000    0.000000     0.030000   \n",
       "max                NaN    4.260000    2.360000    0.770000     0.710000   \n",
       "\n",
       "       critic_score  \n",
       "count    154.000000  \n",
       "mean      67.584416  \n",
       "std       14.828740  \n",
       "min       22.000000  \n",
       "25%       57.000000  \n",
       "50%       70.000000  \n",
       "75%       78.000000  \n",
       "max       94.000000  "
      ]
     },
     "execution_count": 8,
     "metadata": {},
     "output_type": "execute_result"
    }
   ],
   "source": [
    "#  смотрим цифровое описание данных с отсуствующим годом релиза:\n",
    "\n",
    "df.query('year_of_release.isna()').describe()  "
   ]
  },
  {
   "cell_type": "code",
   "execution_count": 9,
   "metadata": {},
   "outputs": [
    {
     "data": {
      "text/html": [
       "<div>\n",
       "<style scoped>\n",
       "    .dataframe tbody tr th:only-of-type {\n",
       "        vertical-align: middle;\n",
       "    }\n",
       "\n",
       "    .dataframe tbody tr th {\n",
       "        vertical-align: top;\n",
       "    }\n",
       "\n",
       "    .dataframe thead th {\n",
       "        text-align: right;\n",
       "    }\n",
       "</style>\n",
       "<table border=\"1\" class=\"dataframe\">\n",
       "  <thead>\n",
       "    <tr style=\"text-align: right;\">\n",
       "      <th></th>\n",
       "      <th>name</th>\n",
       "      <th>platform</th>\n",
       "      <th>year_of_release</th>\n",
       "      <th>genre</th>\n",
       "      <th>na_sales</th>\n",
       "      <th>eu_sales</th>\n",
       "      <th>jp_sales</th>\n",
       "      <th>other_sales</th>\n",
       "      <th>critic_score</th>\n",
       "      <th>user_score</th>\n",
       "      <th>rating</th>\n",
       "    </tr>\n",
       "  </thead>\n",
       "  <tbody>\n",
       "    <tr>\n",
       "      <th>183</th>\n",
       "      <td>Madden NFL 2004</td>\n",
       "      <td>PS2</td>\n",
       "      <td>NaN</td>\n",
       "      <td>Sports</td>\n",
       "      <td>4.26</td>\n",
       "      <td>0.26</td>\n",
       "      <td>0.01</td>\n",
       "      <td>0.71</td>\n",
       "      <td>94.0</td>\n",
       "      <td>8.5</td>\n",
       "      <td>E</td>\n",
       "    </tr>\n",
       "    <tr>\n",
       "      <th>609</th>\n",
       "      <td>Space Invaders</td>\n",
       "      <td>2600</td>\n",
       "      <td>NaN</td>\n",
       "      <td>Shooter</td>\n",
       "      <td>2.36</td>\n",
       "      <td>0.14</td>\n",
       "      <td>0.00</td>\n",
       "      <td>0.03</td>\n",
       "      <td>NaN</td>\n",
       "      <td>NaN</td>\n",
       "      <td>NaN</td>\n",
       "    </tr>\n",
       "    <tr>\n",
       "      <th>657</th>\n",
       "      <td>Frogger's Adventures: Temple of the Frog</td>\n",
       "      <td>GBA</td>\n",
       "      <td>NaN</td>\n",
       "      <td>Adventure</td>\n",
       "      <td>2.15</td>\n",
       "      <td>0.18</td>\n",
       "      <td>0.00</td>\n",
       "      <td>0.07</td>\n",
       "      <td>73.0</td>\n",
       "      <td>tbd</td>\n",
       "      <td>E</td>\n",
       "    </tr>\n",
       "    <tr>\n",
       "      <th>627</th>\n",
       "      <td>Rock Band</td>\n",
       "      <td>X360</td>\n",
       "      <td>NaN</td>\n",
       "      <td>Misc</td>\n",
       "      <td>1.93</td>\n",
       "      <td>0.33</td>\n",
       "      <td>0.00</td>\n",
       "      <td>0.21</td>\n",
       "      <td>92.0</td>\n",
       "      <td>8.2</td>\n",
       "      <td>T</td>\n",
       "    </tr>\n",
       "    <tr>\n",
       "      <th>456</th>\n",
       "      <td>LEGO Batman: The Videogame</td>\n",
       "      <td>Wii</td>\n",
       "      <td>NaN</td>\n",
       "      <td>Action</td>\n",
       "      <td>1.80</td>\n",
       "      <td>0.97</td>\n",
       "      <td>0.00</td>\n",
       "      <td>0.29</td>\n",
       "      <td>74.0</td>\n",
       "      <td>7.9</td>\n",
       "      <td>E10+</td>\n",
       "    </tr>\n",
       "  </tbody>\n",
       "</table>\n",
       "</div>"
      ],
      "text/plain": [
       "                                         name platform  year_of_release  \\\n",
       "183                           Madden NFL 2004      PS2              NaN   \n",
       "609                            Space Invaders     2600              NaN   \n",
       "657  Frogger's Adventures: Temple of the Frog      GBA              NaN   \n",
       "627                                 Rock Band     X360              NaN   \n",
       "456                LEGO Batman: The Videogame      Wii              NaN   \n",
       "\n",
       "         genre  na_sales  eu_sales  jp_sales  other_sales  critic_score  \\\n",
       "183     Sports      4.26      0.26      0.01         0.71          94.0   \n",
       "609    Shooter      2.36      0.14      0.00         0.03           NaN   \n",
       "657  Adventure      2.15      0.18      0.00         0.07          73.0   \n",
       "627       Misc      1.93      0.33      0.00         0.21          92.0   \n",
       "456     Action      1.80      0.97      0.00         0.29          74.0   \n",
       "\n",
       "    user_score rating  \n",
       "183        8.5      E  \n",
       "609        NaN    NaN  \n",
       "657        tbd      E  \n",
       "627        8.2      T  \n",
       "456        7.9   E10+  "
      ]
     },
     "execution_count": 9,
     "metadata": {},
     "output_type": "execute_result"
    }
   ],
   "source": [
    "# смотрим есть игр без года релиза игры с большими продажами в Северной Америке\n",
    "\n",
    "df.query('year_of_release.isna()').sort_values(by = 'na_sales', ascending = False).head()"
   ]
  },
  {
   "cell_type": "code",
   "execution_count": 10,
   "metadata": {},
   "outputs": [
    {
     "data": {
      "text/html": [
       "<div>\n",
       "<style scoped>\n",
       "    .dataframe tbody tr th:only-of-type {\n",
       "        vertical-align: middle;\n",
       "    }\n",
       "\n",
       "    .dataframe tbody tr th {\n",
       "        vertical-align: top;\n",
       "    }\n",
       "\n",
       "    .dataframe thead th {\n",
       "        text-align: right;\n",
       "    }\n",
       "</style>\n",
       "<table border=\"1\" class=\"dataframe\">\n",
       "  <thead>\n",
       "    <tr style=\"text-align: right;\">\n",
       "      <th></th>\n",
       "      <th>name</th>\n",
       "      <th>platform</th>\n",
       "      <th>year_of_release</th>\n",
       "      <th>genre</th>\n",
       "      <th>na_sales</th>\n",
       "      <th>eu_sales</th>\n",
       "      <th>jp_sales</th>\n",
       "      <th>other_sales</th>\n",
       "      <th>critic_score</th>\n",
       "      <th>user_score</th>\n",
       "      <th>rating</th>\n",
       "    </tr>\n",
       "  </thead>\n",
       "  <tbody>\n",
       "    <tr>\n",
       "      <th>377</th>\n",
       "      <td>FIFA Soccer 2004</td>\n",
       "      <td>PS2</td>\n",
       "      <td>NaN</td>\n",
       "      <td>Sports</td>\n",
       "      <td>0.59</td>\n",
       "      <td>2.36</td>\n",
       "      <td>0.04</td>\n",
       "      <td>0.51</td>\n",
       "      <td>84.0</td>\n",
       "      <td>6.4</td>\n",
       "      <td>E</td>\n",
       "    </tr>\n",
       "    <tr>\n",
       "      <th>475</th>\n",
       "      <td>wwe Smackdown vs. Raw 2006</td>\n",
       "      <td>PS2</td>\n",
       "      <td>NaN</td>\n",
       "      <td>Fighting</td>\n",
       "      <td>1.57</td>\n",
       "      <td>1.02</td>\n",
       "      <td>0.00</td>\n",
       "      <td>0.41</td>\n",
       "      <td>NaN</td>\n",
       "      <td>NaN</td>\n",
       "      <td>NaN</td>\n",
       "    </tr>\n",
       "    <tr>\n",
       "      <th>456</th>\n",
       "      <td>LEGO Batman: The Videogame</td>\n",
       "      <td>Wii</td>\n",
       "      <td>NaN</td>\n",
       "      <td>Action</td>\n",
       "      <td>1.80</td>\n",
       "      <td>0.97</td>\n",
       "      <td>0.00</td>\n",
       "      <td>0.29</td>\n",
       "      <td>74.0</td>\n",
       "      <td>7.9</td>\n",
       "      <td>E10+</td>\n",
       "    </tr>\n",
       "    <tr>\n",
       "      <th>719</th>\n",
       "      <td>Call of Duty 3</td>\n",
       "      <td>Wii</td>\n",
       "      <td>NaN</td>\n",
       "      <td>Shooter</td>\n",
       "      <td>1.17</td>\n",
       "      <td>0.84</td>\n",
       "      <td>0.00</td>\n",
       "      <td>0.23</td>\n",
       "      <td>69.0</td>\n",
       "      <td>6.7</td>\n",
       "      <td>T</td>\n",
       "    </tr>\n",
       "    <tr>\n",
       "      <th>1131</th>\n",
       "      <td>Call of Duty: Black Ops</td>\n",
       "      <td>PC</td>\n",
       "      <td>NaN</td>\n",
       "      <td>Shooter</td>\n",
       "      <td>0.58</td>\n",
       "      <td>0.81</td>\n",
       "      <td>0.00</td>\n",
       "      <td>0.23</td>\n",
       "      <td>81.0</td>\n",
       "      <td>5.2</td>\n",
       "      <td>M</td>\n",
       "    </tr>\n",
       "  </tbody>\n",
       "</table>\n",
       "</div>"
      ],
      "text/plain": [
       "                            name platform  year_of_release     genre  \\\n",
       "377             FIFA Soccer 2004      PS2              NaN    Sports   \n",
       "475   wwe Smackdown vs. Raw 2006      PS2              NaN  Fighting   \n",
       "456   LEGO Batman: The Videogame      Wii              NaN    Action   \n",
       "719               Call of Duty 3      Wii              NaN   Shooter   \n",
       "1131     Call of Duty: Black Ops       PC              NaN   Shooter   \n",
       "\n",
       "      na_sales  eu_sales  jp_sales  other_sales  critic_score user_score  \\\n",
       "377       0.59      2.36      0.04         0.51          84.0        6.4   \n",
       "475       1.57      1.02      0.00         0.41           NaN        NaN   \n",
       "456       1.80      0.97      0.00         0.29          74.0        7.9   \n",
       "719       1.17      0.84      0.00         0.23          69.0        6.7   \n",
       "1131      0.58      0.81      0.00         0.23          81.0        5.2   \n",
       "\n",
       "     rating  \n",
       "377       E  \n",
       "475     NaN  \n",
       "456    E10+  \n",
       "719       T  \n",
       "1131      M  "
      ]
     },
     "execution_count": 10,
     "metadata": {},
     "output_type": "execute_result"
    }
   ],
   "source": [
    "# смотрим есть игр без года релиза игры с большими продажами в Европе\n",
    "\n",
    "df.query('year_of_release.isna()').sort_values(by = 'eu_sales', ascending = False).head()"
   ]
  },
  {
   "cell_type": "code",
   "execution_count": 11,
   "metadata": {},
   "outputs": [],
   "source": [
    "df = df.dropna(subset=['name'])  # удаляем данные с пропусками в названии"
   ]
  },
  {
   "cell_type": "code",
   "execution_count": 12,
   "metadata": {},
   "outputs": [],
   "source": [
    "df = df.dropna(subset=['year_of_release'])  # удаляем данные с пропусками в годе выпуска"
   ]
  },
  {
   "cell_type": "markdown",
   "metadata": {},
   "source": [
    "Объемные: больше всего пропусков в данных об оценках критиков. Это объяснимо: не все игры привлекают внимание критиков и получают рецензии, плюс возможно это связано с разбивкой по годам. \n",
    "    \n",
    "Посмотрим данные поподробнее (код ниже): пропуски в оценках распределены равномерно по всем годам и в большинстве своем оценка критиков отсутствует у игр с невысокими продажами. Аналогичное распределение наблюдается и с отсутствующими оценками игроков: оценок нет преимущественно у не очень популярных игр. Удалось выделить несколько игр с большими продажами и отсутствующими рейтингами, так, в например игра Call of Duty: Black Ops 3 выпущена в 2015 году и была бы интересна для нашего анализа. Отсутствие информации у таких игр связано предположительно с техническими проблемами выгрузки (данные не подтянулись). Заполнить их вручную не представляется возможным, т.к. в датафрейме отсутствует информация о источнике оценок критиков. Принимаем решение не трогать пропуски в оценках критиков и игроков, т.к. в подавляющем большинстве случаев их отсутствие означает, что игра не привлекла их внимание и не получила достаточного количества рецензий.\n",
    "    \n",
    "Отсутствие информации в рейтинге ESRB по регионам объясняется тем, что это американский рейтинг и лучше всего заполняется в Северной Америке, т.к. разработан именно для этого региона. Для отсутствующих данных поставим ниже \"заглушку\", чтобы использовать эти данные для дальнейшего анализа.\n",
    "    </div>"
   ]
  },
  {
   "cell_type": "code",
   "execution_count": 13,
   "metadata": {
    "scrolled": true
   },
   "outputs": [
    {
     "data": {
      "text/html": [
       "<div>\n",
       "<style scoped>\n",
       "    .dataframe tbody tr th:only-of-type {\n",
       "        vertical-align: middle;\n",
       "    }\n",
       "\n",
       "    .dataframe tbody tr th {\n",
       "        vertical-align: top;\n",
       "    }\n",
       "\n",
       "    .dataframe thead th {\n",
       "        text-align: right;\n",
       "    }\n",
       "</style>\n",
       "<table border=\"1\" class=\"dataframe\">\n",
       "  <thead>\n",
       "    <tr style=\"text-align: right;\">\n",
       "      <th></th>\n",
       "      <th>name</th>\n",
       "      <th>platform</th>\n",
       "      <th>genre</th>\n",
       "      <th>na_sales</th>\n",
       "      <th>eu_sales</th>\n",
       "      <th>jp_sales</th>\n",
       "      <th>other_sales</th>\n",
       "      <th>critic_score</th>\n",
       "      <th>user_score</th>\n",
       "      <th>rating</th>\n",
       "    </tr>\n",
       "    <tr>\n",
       "      <th>year_of_release</th>\n",
       "      <th></th>\n",
       "      <th></th>\n",
       "      <th></th>\n",
       "      <th></th>\n",
       "      <th></th>\n",
       "      <th></th>\n",
       "      <th></th>\n",
       "      <th></th>\n",
       "      <th></th>\n",
       "      <th></th>\n",
       "    </tr>\n",
       "  </thead>\n",
       "  <tbody>\n",
       "    <tr>\n",
       "      <th>2016.0</th>\n",
       "      <td>270</td>\n",
       "      <td>270</td>\n",
       "      <td>270</td>\n",
       "      <td>270</td>\n",
       "      <td>270</td>\n",
       "      <td>270</td>\n",
       "      <td>270</td>\n",
       "      <td>0</td>\n",
       "      <td>64</td>\n",
       "      <td>63</td>\n",
       "    </tr>\n",
       "    <tr>\n",
       "      <th>2015.0</th>\n",
       "      <td>381</td>\n",
       "      <td>381</td>\n",
       "      <td>381</td>\n",
       "      <td>381</td>\n",
       "      <td>381</td>\n",
       "      <td>381</td>\n",
       "      <td>381</td>\n",
       "      <td>0</td>\n",
       "      <td>112</td>\n",
       "      <td>103</td>\n",
       "    </tr>\n",
       "    <tr>\n",
       "      <th>2014.0</th>\n",
       "      <td>320</td>\n",
       "      <td>320</td>\n",
       "      <td>320</td>\n",
       "      <td>320</td>\n",
       "      <td>320</td>\n",
       "      <td>320</td>\n",
       "      <td>320</td>\n",
       "      <td>0</td>\n",
       "      <td>90</td>\n",
       "      <td>87</td>\n",
       "    </tr>\n",
       "    <tr>\n",
       "      <th>2013.0</th>\n",
       "      <td>271</td>\n",
       "      <td>271</td>\n",
       "      <td>271</td>\n",
       "      <td>271</td>\n",
       "      <td>271</td>\n",
       "      <td>271</td>\n",
       "      <td>271</td>\n",
       "      <td>0</td>\n",
       "      <td>46</td>\n",
       "      <td>49</td>\n",
       "    </tr>\n",
       "    <tr>\n",
       "      <th>2012.0</th>\n",
       "      <td>332</td>\n",
       "      <td>332</td>\n",
       "      <td>332</td>\n",
       "      <td>332</td>\n",
       "      <td>332</td>\n",
       "      <td>332</td>\n",
       "      <td>332</td>\n",
       "      <td>0</td>\n",
       "      <td>42</td>\n",
       "      <td>42</td>\n",
       "    </tr>\n",
       "    <tr>\n",
       "      <th>2011.0</th>\n",
       "      <td>636</td>\n",
       "      <td>636</td>\n",
       "      <td>636</td>\n",
       "      <td>636</td>\n",
       "      <td>636</td>\n",
       "      <td>636</td>\n",
       "      <td>636</td>\n",
       "      <td>0</td>\n",
       "      <td>220</td>\n",
       "      <td>215</td>\n",
       "    </tr>\n",
       "    <tr>\n",
       "      <th>2010.0</th>\n",
       "      <td>755</td>\n",
       "      <td>755</td>\n",
       "      <td>755</td>\n",
       "      <td>755</td>\n",
       "      <td>755</td>\n",
       "      <td>755</td>\n",
       "      <td>755</td>\n",
       "      <td>0</td>\n",
       "      <td>300</td>\n",
       "      <td>302</td>\n",
       "    </tr>\n",
       "    <tr>\n",
       "      <th>2009.0</th>\n",
       "      <td>775</td>\n",
       "      <td>775</td>\n",
       "      <td>775</td>\n",
       "      <td>775</td>\n",
       "      <td>775</td>\n",
       "      <td>775</td>\n",
       "      <td>775</td>\n",
       "      <td>0</td>\n",
       "      <td>371</td>\n",
       "      <td>366</td>\n",
       "    </tr>\n",
       "    <tr>\n",
       "      <th>2008.0</th>\n",
       "      <td>712</td>\n",
       "      <td>712</td>\n",
       "      <td>712</td>\n",
       "      <td>712</td>\n",
       "      <td>712</td>\n",
       "      <td>712</td>\n",
       "      <td>712</td>\n",
       "      <td>0</td>\n",
       "      <td>276</td>\n",
       "      <td>271</td>\n",
       "    </tr>\n",
       "    <tr>\n",
       "      <th>2007.0</th>\n",
       "      <td>505</td>\n",
       "      <td>505</td>\n",
       "      <td>505</td>\n",
       "      <td>505</td>\n",
       "      <td>505</td>\n",
       "      <td>505</td>\n",
       "      <td>505</td>\n",
       "      <td>0</td>\n",
       "      <td>129</td>\n",
       "      <td>129</td>\n",
       "    </tr>\n",
       "    <tr>\n",
       "      <th>2006.0</th>\n",
       "      <td>386</td>\n",
       "      <td>386</td>\n",
       "      <td>386</td>\n",
       "      <td>386</td>\n",
       "      <td>386</td>\n",
       "      <td>386</td>\n",
       "      <td>386</td>\n",
       "      <td>0</td>\n",
       "      <td>58</td>\n",
       "      <td>59</td>\n",
       "    </tr>\n",
       "    <tr>\n",
       "      <th>2005.0</th>\n",
       "      <td>284</td>\n",
       "      <td>284</td>\n",
       "      <td>284</td>\n",
       "      <td>284</td>\n",
       "      <td>284</td>\n",
       "      <td>284</td>\n",
       "      <td>284</td>\n",
       "      <td>0</td>\n",
       "      <td>52</td>\n",
       "      <td>52</td>\n",
       "    </tr>\n",
       "    <tr>\n",
       "      <th>2004.0</th>\n",
       "      <td>201</td>\n",
       "      <td>201</td>\n",
       "      <td>201</td>\n",
       "      <td>201</td>\n",
       "      <td>201</td>\n",
       "      <td>201</td>\n",
       "      <td>201</td>\n",
       "      <td>0</td>\n",
       "      <td>38</td>\n",
       "      <td>40</td>\n",
       "    </tr>\n",
       "    <tr>\n",
       "      <th>2003.0</th>\n",
       "      <td>190</td>\n",
       "      <td>190</td>\n",
       "      <td>190</td>\n",
       "      <td>190</td>\n",
       "      <td>190</td>\n",
       "      <td>190</td>\n",
       "      <td>190</td>\n",
       "      <td>0</td>\n",
       "      <td>28</td>\n",
       "      <td>29</td>\n",
       "    </tr>\n",
       "    <tr>\n",
       "      <th>2002.0</th>\n",
       "      <td>202</td>\n",
       "      <td>202</td>\n",
       "      <td>202</td>\n",
       "      <td>202</td>\n",
       "      <td>202</td>\n",
       "      <td>202</td>\n",
       "      <td>202</td>\n",
       "      <td>0</td>\n",
       "      <td>29</td>\n",
       "      <td>28</td>\n",
       "    </tr>\n",
       "    <tr>\n",
       "      <th>2001.0</th>\n",
       "      <td>156</td>\n",
       "      <td>156</td>\n",
       "      <td>156</td>\n",
       "      <td>156</td>\n",
       "      <td>156</td>\n",
       "      <td>156</td>\n",
       "      <td>156</td>\n",
       "      <td>0</td>\n",
       "      <td>14</td>\n",
       "      <td>13</td>\n",
       "    </tr>\n",
       "    <tr>\n",
       "      <th>2000.0</th>\n",
       "      <td>207</td>\n",
       "      <td>207</td>\n",
       "      <td>207</td>\n",
       "      <td>207</td>\n",
       "      <td>207</td>\n",
       "      <td>207</td>\n",
       "      <td>207</td>\n",
       "      <td>0</td>\n",
       "      <td>8</td>\n",
       "      <td>6</td>\n",
       "    </tr>\n",
       "    <tr>\n",
       "      <th>1999.0</th>\n",
       "      <td>299</td>\n",
       "      <td>299</td>\n",
       "      <td>299</td>\n",
       "      <td>299</td>\n",
       "      <td>299</td>\n",
       "      <td>299</td>\n",
       "      <td>299</td>\n",
       "      <td>0</td>\n",
       "      <td>3</td>\n",
       "      <td>3</td>\n",
       "    </tr>\n",
       "    <tr>\n",
       "      <th>1998.0</th>\n",
       "      <td>351</td>\n",
       "      <td>351</td>\n",
       "      <td>351</td>\n",
       "      <td>351</td>\n",
       "      <td>351</td>\n",
       "      <td>351</td>\n",
       "      <td>351</td>\n",
       "      <td>0</td>\n",
       "      <td>5</td>\n",
       "      <td>5</td>\n",
       "    </tr>\n",
       "    <tr>\n",
       "      <th>1997.0</th>\n",
       "      <td>272</td>\n",
       "      <td>272</td>\n",
       "      <td>272</td>\n",
       "      <td>272</td>\n",
       "      <td>272</td>\n",
       "      <td>272</td>\n",
       "      <td>272</td>\n",
       "      <td>0</td>\n",
       "      <td>4</td>\n",
       "      <td>3</td>\n",
       "    </tr>\n",
       "    <tr>\n",
       "      <th>1996.0</th>\n",
       "      <td>255</td>\n",
       "      <td>255</td>\n",
       "      <td>255</td>\n",
       "      <td>255</td>\n",
       "      <td>255</td>\n",
       "      <td>255</td>\n",
       "      <td>255</td>\n",
       "      <td>0</td>\n",
       "      <td>0</td>\n",
       "      <td>0</td>\n",
       "    </tr>\n",
       "    <tr>\n",
       "      <th>1995.0</th>\n",
       "      <td>219</td>\n",
       "      <td>219</td>\n",
       "      <td>219</td>\n",
       "      <td>219</td>\n",
       "      <td>219</td>\n",
       "      <td>219</td>\n",
       "      <td>219</td>\n",
       "      <td>0</td>\n",
       "      <td>0</td>\n",
       "      <td>0</td>\n",
       "    </tr>\n",
       "    <tr>\n",
       "      <th>1994.0</th>\n",
       "      <td>120</td>\n",
       "      <td>120</td>\n",
       "      <td>120</td>\n",
       "      <td>120</td>\n",
       "      <td>120</td>\n",
       "      <td>120</td>\n",
       "      <td>120</td>\n",
       "      <td>0</td>\n",
       "      <td>0</td>\n",
       "      <td>0</td>\n",
       "    </tr>\n",
       "    <tr>\n",
       "      <th>1993.0</th>\n",
       "      <td>60</td>\n",
       "      <td>60</td>\n",
       "      <td>60</td>\n",
       "      <td>60</td>\n",
       "      <td>60</td>\n",
       "      <td>60</td>\n",
       "      <td>60</td>\n",
       "      <td>0</td>\n",
       "      <td>0</td>\n",
       "      <td>0</td>\n",
       "    </tr>\n",
       "    <tr>\n",
       "      <th>1992.0</th>\n",
       "      <td>42</td>\n",
       "      <td>42</td>\n",
       "      <td>42</td>\n",
       "      <td>42</td>\n",
       "      <td>42</td>\n",
       "      <td>42</td>\n",
       "      <td>42</td>\n",
       "      <td>0</td>\n",
       "      <td>0</td>\n",
       "      <td>1</td>\n",
       "    </tr>\n",
       "    <tr>\n",
       "      <th>1991.0</th>\n",
       "      <td>41</td>\n",
       "      <td>41</td>\n",
       "      <td>41</td>\n",
       "      <td>41</td>\n",
       "      <td>41</td>\n",
       "      <td>41</td>\n",
       "      <td>41</td>\n",
       "      <td>0</td>\n",
       "      <td>0</td>\n",
       "      <td>0</td>\n",
       "    </tr>\n",
       "    <tr>\n",
       "      <th>1990.0</th>\n",
       "      <td>16</td>\n",
       "      <td>16</td>\n",
       "      <td>16</td>\n",
       "      <td>16</td>\n",
       "      <td>16</td>\n",
       "      <td>16</td>\n",
       "      <td>16</td>\n",
       "      <td>0</td>\n",
       "      <td>0</td>\n",
       "      <td>0</td>\n",
       "    </tr>\n",
       "    <tr>\n",
       "      <th>1989.0</th>\n",
       "      <td>17</td>\n",
       "      <td>17</td>\n",
       "      <td>17</td>\n",
       "      <td>17</td>\n",
       "      <td>17</td>\n",
       "      <td>17</td>\n",
       "      <td>17</td>\n",
       "      <td>0</td>\n",
       "      <td>0</td>\n",
       "      <td>0</td>\n",
       "    </tr>\n",
       "    <tr>\n",
       "      <th>1988.0</th>\n",
       "      <td>14</td>\n",
       "      <td>14</td>\n",
       "      <td>14</td>\n",
       "      <td>14</td>\n",
       "      <td>14</td>\n",
       "      <td>14</td>\n",
       "      <td>14</td>\n",
       "      <td>0</td>\n",
       "      <td>0</td>\n",
       "      <td>0</td>\n",
       "    </tr>\n",
       "    <tr>\n",
       "      <th>1987.0</th>\n",
       "      <td>16</td>\n",
       "      <td>16</td>\n",
       "      <td>16</td>\n",
       "      <td>16</td>\n",
       "      <td>16</td>\n",
       "      <td>16</td>\n",
       "      <td>16</td>\n",
       "      <td>0</td>\n",
       "      <td>0</td>\n",
       "      <td>0</td>\n",
       "    </tr>\n",
       "    <tr>\n",
       "      <th>1986.0</th>\n",
       "      <td>21</td>\n",
       "      <td>21</td>\n",
       "      <td>21</td>\n",
       "      <td>21</td>\n",
       "      <td>21</td>\n",
       "      <td>21</td>\n",
       "      <td>21</td>\n",
       "      <td>0</td>\n",
       "      <td>0</td>\n",
       "      <td>0</td>\n",
       "    </tr>\n",
       "    <tr>\n",
       "      <th>1985.0</th>\n",
       "      <td>13</td>\n",
       "      <td>13</td>\n",
       "      <td>13</td>\n",
       "      <td>13</td>\n",
       "      <td>13</td>\n",
       "      <td>13</td>\n",
       "      <td>13</td>\n",
       "      <td>0</td>\n",
       "      <td>0</td>\n",
       "      <td>0</td>\n",
       "    </tr>\n",
       "    <tr>\n",
       "      <th>1984.0</th>\n",
       "      <td>14</td>\n",
       "      <td>14</td>\n",
       "      <td>14</td>\n",
       "      <td>14</td>\n",
       "      <td>14</td>\n",
       "      <td>14</td>\n",
       "      <td>14</td>\n",
       "      <td>0</td>\n",
       "      <td>0</td>\n",
       "      <td>0</td>\n",
       "    </tr>\n",
       "    <tr>\n",
       "      <th>1983.0</th>\n",
       "      <td>17</td>\n",
       "      <td>17</td>\n",
       "      <td>17</td>\n",
       "      <td>17</td>\n",
       "      <td>17</td>\n",
       "      <td>17</td>\n",
       "      <td>17</td>\n",
       "      <td>0</td>\n",
       "      <td>0</td>\n",
       "      <td>0</td>\n",
       "    </tr>\n",
       "    <tr>\n",
       "      <th>1982.0</th>\n",
       "      <td>36</td>\n",
       "      <td>36</td>\n",
       "      <td>36</td>\n",
       "      <td>36</td>\n",
       "      <td>36</td>\n",
       "      <td>36</td>\n",
       "      <td>36</td>\n",
       "      <td>0</td>\n",
       "      <td>0</td>\n",
       "      <td>0</td>\n",
       "    </tr>\n",
       "    <tr>\n",
       "      <th>1981.0</th>\n",
       "      <td>46</td>\n",
       "      <td>46</td>\n",
       "      <td>46</td>\n",
       "      <td>46</td>\n",
       "      <td>46</td>\n",
       "      <td>46</td>\n",
       "      <td>46</td>\n",
       "      <td>0</td>\n",
       "      <td>0</td>\n",
       "      <td>0</td>\n",
       "    </tr>\n",
       "    <tr>\n",
       "      <th>1980.0</th>\n",
       "      <td>9</td>\n",
       "      <td>9</td>\n",
       "      <td>9</td>\n",
       "      <td>9</td>\n",
       "      <td>9</td>\n",
       "      <td>9</td>\n",
       "      <td>9</td>\n",
       "      <td>0</td>\n",
       "      <td>0</td>\n",
       "      <td>0</td>\n",
       "    </tr>\n",
       "  </tbody>\n",
       "</table>\n",
       "</div>"
      ],
      "text/plain": [
       "                 name  platform  genre  na_sales  eu_sales  jp_sales  \\\n",
       "year_of_release                                                        \n",
       "2016.0            270       270    270       270       270       270   \n",
       "2015.0            381       381    381       381       381       381   \n",
       "2014.0            320       320    320       320       320       320   \n",
       "2013.0            271       271    271       271       271       271   \n",
       "2012.0            332       332    332       332       332       332   \n",
       "2011.0            636       636    636       636       636       636   \n",
       "2010.0            755       755    755       755       755       755   \n",
       "2009.0            775       775    775       775       775       775   \n",
       "2008.0            712       712    712       712       712       712   \n",
       "2007.0            505       505    505       505       505       505   \n",
       "2006.0            386       386    386       386       386       386   \n",
       "2005.0            284       284    284       284       284       284   \n",
       "2004.0            201       201    201       201       201       201   \n",
       "2003.0            190       190    190       190       190       190   \n",
       "2002.0            202       202    202       202       202       202   \n",
       "2001.0            156       156    156       156       156       156   \n",
       "2000.0            207       207    207       207       207       207   \n",
       "1999.0            299       299    299       299       299       299   \n",
       "1998.0            351       351    351       351       351       351   \n",
       "1997.0            272       272    272       272       272       272   \n",
       "1996.0            255       255    255       255       255       255   \n",
       "1995.0            219       219    219       219       219       219   \n",
       "1994.0            120       120    120       120       120       120   \n",
       "1993.0             60        60     60        60        60        60   \n",
       "1992.0             42        42     42        42        42        42   \n",
       "1991.0             41        41     41        41        41        41   \n",
       "1990.0             16        16     16        16        16        16   \n",
       "1989.0             17        17     17        17        17        17   \n",
       "1988.0             14        14     14        14        14        14   \n",
       "1987.0             16        16     16        16        16        16   \n",
       "1986.0             21        21     21        21        21        21   \n",
       "1985.0             13        13     13        13        13        13   \n",
       "1984.0             14        14     14        14        14        14   \n",
       "1983.0             17        17     17        17        17        17   \n",
       "1982.0             36        36     36        36        36        36   \n",
       "1981.0             46        46     46        46        46        46   \n",
       "1980.0              9         9      9         9         9         9   \n",
       "\n",
       "                 other_sales  critic_score  user_score  rating  \n",
       "year_of_release                                                 \n",
       "2016.0                   270             0          64      63  \n",
       "2015.0                   381             0         112     103  \n",
       "2014.0                   320             0          90      87  \n",
       "2013.0                   271             0          46      49  \n",
       "2012.0                   332             0          42      42  \n",
       "2011.0                   636             0         220     215  \n",
       "2010.0                   755             0         300     302  \n",
       "2009.0                   775             0         371     366  \n",
       "2008.0                   712             0         276     271  \n",
       "2007.0                   505             0         129     129  \n",
       "2006.0                   386             0          58      59  \n",
       "2005.0                   284             0          52      52  \n",
       "2004.0                   201             0          38      40  \n",
       "2003.0                   190             0          28      29  \n",
       "2002.0                   202             0          29      28  \n",
       "2001.0                   156             0          14      13  \n",
       "2000.0                   207             0           8       6  \n",
       "1999.0                   299             0           3       3  \n",
       "1998.0                   351             0           5       5  \n",
       "1997.0                   272             0           4       3  \n",
       "1996.0                   255             0           0       0  \n",
       "1995.0                   219             0           0       0  \n",
       "1994.0                   120             0           0       0  \n",
       "1993.0                    60             0           0       0  \n",
       "1992.0                    42             0           0       1  \n",
       "1991.0                    41             0           0       0  \n",
       "1990.0                    16             0           0       0  \n",
       "1989.0                    17             0           0       0  \n",
       "1988.0                    14             0           0       0  \n",
       "1987.0                    16             0           0       0  \n",
       "1986.0                    21             0           0       0  \n",
       "1985.0                    13             0           0       0  \n",
       "1984.0                    14             0           0       0  \n",
       "1983.0                    17             0           0       0  \n",
       "1982.0                    36             0           0       0  \n",
       "1981.0                    46             0           0       0  \n",
       "1980.0                     9             0           0       0  "
      ]
     },
     "execution_count": 13,
     "metadata": {},
     "output_type": "execute_result"
    }
   ],
   "source": [
    "# группируем данные без оценки критиков по годам и смотрим распределение\n",
    "\n",
    "df.query('critic_score.isna()').groupby('year_of_release').count()\\\n",
    ".sort_values(by ='year_of_release', ascending = False)"
   ]
  },
  {
   "cell_type": "code",
   "execution_count": 14,
   "metadata": {},
   "outputs": [
    {
     "data": {
      "text/html": [
       "<div>\n",
       "<style scoped>\n",
       "    .dataframe tbody tr th:only-of-type {\n",
       "        vertical-align: middle;\n",
       "    }\n",
       "\n",
       "    .dataframe tbody tr th {\n",
       "        vertical-align: top;\n",
       "    }\n",
       "\n",
       "    .dataframe thead th {\n",
       "        text-align: right;\n",
       "    }\n",
       "</style>\n",
       "<table border=\"1\" class=\"dataframe\">\n",
       "  <thead>\n",
       "    <tr style=\"text-align: right;\">\n",
       "      <th></th>\n",
       "      <th>name</th>\n",
       "      <th>platform</th>\n",
       "      <th>year_of_release</th>\n",
       "      <th>genre</th>\n",
       "      <th>eu_sales</th>\n",
       "      <th>jp_sales</th>\n",
       "      <th>other_sales</th>\n",
       "      <th>critic_score</th>\n",
       "      <th>user_score</th>\n",
       "      <th>rating</th>\n",
       "    </tr>\n",
       "    <tr>\n",
       "      <th>na_sales</th>\n",
       "      <th></th>\n",
       "      <th></th>\n",
       "      <th></th>\n",
       "      <th></th>\n",
       "      <th></th>\n",
       "      <th></th>\n",
       "      <th></th>\n",
       "      <th></th>\n",
       "      <th></th>\n",
       "      <th></th>\n",
       "    </tr>\n",
       "  </thead>\n",
       "  <tbody>\n",
       "    <tr>\n",
       "      <th>29.08</th>\n",
       "      <td>1</td>\n",
       "      <td>1</td>\n",
       "      <td>1</td>\n",
       "      <td>1</td>\n",
       "      <td>1</td>\n",
       "      <td>1</td>\n",
       "      <td>1</td>\n",
       "      <td>0</td>\n",
       "      <td>0</td>\n",
       "      <td>0</td>\n",
       "    </tr>\n",
       "    <tr>\n",
       "      <th>26.93</th>\n",
       "      <td>1</td>\n",
       "      <td>1</td>\n",
       "      <td>1</td>\n",
       "      <td>1</td>\n",
       "      <td>1</td>\n",
       "      <td>1</td>\n",
       "      <td>1</td>\n",
       "      <td>0</td>\n",
       "      <td>0</td>\n",
       "      <td>0</td>\n",
       "    </tr>\n",
       "    <tr>\n",
       "      <th>23.20</th>\n",
       "      <td>1</td>\n",
       "      <td>1</td>\n",
       "      <td>1</td>\n",
       "      <td>1</td>\n",
       "      <td>1</td>\n",
       "      <td>1</td>\n",
       "      <td>1</td>\n",
       "      <td>0</td>\n",
       "      <td>0</td>\n",
       "      <td>0</td>\n",
       "    </tr>\n",
       "    <tr>\n",
       "      <th>12.78</th>\n",
       "      <td>1</td>\n",
       "      <td>1</td>\n",
       "      <td>1</td>\n",
       "      <td>1</td>\n",
       "      <td>1</td>\n",
       "      <td>1</td>\n",
       "      <td>1</td>\n",
       "      <td>0</td>\n",
       "      <td>0</td>\n",
       "      <td>0</td>\n",
       "    </tr>\n",
       "    <tr>\n",
       "      <th>11.27</th>\n",
       "      <td>1</td>\n",
       "      <td>1</td>\n",
       "      <td>1</td>\n",
       "      <td>1</td>\n",
       "      <td>1</td>\n",
       "      <td>1</td>\n",
       "      <td>1</td>\n",
       "      <td>0</td>\n",
       "      <td>0</td>\n",
       "      <td>0</td>\n",
       "    </tr>\n",
       "    <tr>\n",
       "      <th>...</th>\n",
       "      <td>...</td>\n",
       "      <td>...</td>\n",
       "      <td>...</td>\n",
       "      <td>...</td>\n",
       "      <td>...</td>\n",
       "      <td>...</td>\n",
       "      <td>...</td>\n",
       "      <td>...</td>\n",
       "      <td>...</td>\n",
       "      <td>...</td>\n",
       "    </tr>\n",
       "    <tr>\n",
       "      <th>0.04</th>\n",
       "      <td>240</td>\n",
       "      <td>240</td>\n",
       "      <td>240</td>\n",
       "      <td>240</td>\n",
       "      <td>240</td>\n",
       "      <td>240</td>\n",
       "      <td>240</td>\n",
       "      <td>0</td>\n",
       "      <td>94</td>\n",
       "      <td>95</td>\n",
       "    </tr>\n",
       "    <tr>\n",
       "      <th>0.03</th>\n",
       "      <td>248</td>\n",
       "      <td>248</td>\n",
       "      <td>248</td>\n",
       "      <td>248</td>\n",
       "      <td>248</td>\n",
       "      <td>248</td>\n",
       "      <td>248</td>\n",
       "      <td>0</td>\n",
       "      <td>98</td>\n",
       "      <td>99</td>\n",
       "    </tr>\n",
       "    <tr>\n",
       "      <th>0.02</th>\n",
       "      <td>272</td>\n",
       "      <td>272</td>\n",
       "      <td>272</td>\n",
       "      <td>272</td>\n",
       "      <td>272</td>\n",
       "      <td>272</td>\n",
       "      <td>272</td>\n",
       "      <td>0</td>\n",
       "      <td>108</td>\n",
       "      <td>106</td>\n",
       "    </tr>\n",
       "    <tr>\n",
       "      <th>0.01</th>\n",
       "      <td>245</td>\n",
       "      <td>245</td>\n",
       "      <td>245</td>\n",
       "      <td>245</td>\n",
       "      <td>245</td>\n",
       "      <td>245</td>\n",
       "      <td>245</td>\n",
       "      <td>0</td>\n",
       "      <td>99</td>\n",
       "      <td>101</td>\n",
       "    </tr>\n",
       "    <tr>\n",
       "      <th>0.00</th>\n",
       "      <td>3832</td>\n",
       "      <td>3832</td>\n",
       "      <td>3832</td>\n",
       "      <td>3832</td>\n",
       "      <td>3832</td>\n",
       "      <td>3832</td>\n",
       "      <td>3832</td>\n",
       "      <td>0</td>\n",
       "      <td>204</td>\n",
       "      <td>197</td>\n",
       "    </tr>\n",
       "  </tbody>\n",
       "</table>\n",
       "<p>269 rows × 10 columns</p>\n",
       "</div>"
      ],
      "text/plain": [
       "          name  platform  year_of_release  genre  eu_sales  jp_sales  \\\n",
       "na_sales                                                               \n",
       "29.08        1         1                1      1         1         1   \n",
       "26.93        1         1                1      1         1         1   \n",
       "23.20        1         1                1      1         1         1   \n",
       "12.78        1         1                1      1         1         1   \n",
       "11.27        1         1                1      1         1         1   \n",
       "...        ...       ...              ...    ...       ...       ...   \n",
       "0.04       240       240              240    240       240       240   \n",
       "0.03       248       248              248    248       248       248   \n",
       "0.02       272       272              272    272       272       272   \n",
       "0.01       245       245              245    245       245       245   \n",
       "0.00      3832      3832             3832   3832      3832      3832   \n",
       "\n",
       "          other_sales  critic_score  user_score  rating  \n",
       "na_sales                                                 \n",
       "29.08               1             0           0       0  \n",
       "26.93               1             0           0       0  \n",
       "23.20               1             0           0       0  \n",
       "12.78               1             0           0       0  \n",
       "11.27               1             0           0       0  \n",
       "...               ...           ...         ...     ...  \n",
       "0.04              240             0          94      95  \n",
       "0.03              248             0          98      99  \n",
       "0.02              272             0         108     106  \n",
       "0.01              245             0          99     101  \n",
       "0.00             3832             0         204     197  \n",
       "\n",
       "[269 rows x 10 columns]"
      ]
     },
     "execution_count": 14,
     "metadata": {},
     "output_type": "execute_result"
    }
   ],
   "source": [
    "# группируем данные без оценки критиков по продажам в Северной Америке и смотрим распределение\n",
    "df.query('critic_score.isna()').groupby('na_sales').count()\\\n",
    ".sort_values(by ='na_sales', ascending = False)"
   ]
  },
  {
   "cell_type": "code",
   "execution_count": 15,
   "metadata": {},
   "outputs": [
    {
     "data": {
      "text/html": [
       "<div>\n",
       "<style scoped>\n",
       "    .dataframe tbody tr th:only-of-type {\n",
       "        vertical-align: middle;\n",
       "    }\n",
       "\n",
       "    .dataframe tbody tr th {\n",
       "        vertical-align: top;\n",
       "    }\n",
       "\n",
       "    .dataframe thead th {\n",
       "        text-align: right;\n",
       "    }\n",
       "</style>\n",
       "<table border=\"1\" class=\"dataframe\">\n",
       "  <thead>\n",
       "    <tr style=\"text-align: right;\">\n",
       "      <th></th>\n",
       "      <th>name</th>\n",
       "      <th>platform</th>\n",
       "      <th>genre</th>\n",
       "      <th>na_sales</th>\n",
       "      <th>eu_sales</th>\n",
       "      <th>jp_sales</th>\n",
       "      <th>other_sales</th>\n",
       "      <th>critic_score</th>\n",
       "      <th>user_score</th>\n",
       "      <th>rating</th>\n",
       "    </tr>\n",
       "    <tr>\n",
       "      <th>year_of_release</th>\n",
       "      <th></th>\n",
       "      <th></th>\n",
       "      <th></th>\n",
       "      <th></th>\n",
       "      <th></th>\n",
       "      <th></th>\n",
       "      <th></th>\n",
       "      <th></th>\n",
       "      <th></th>\n",
       "      <th></th>\n",
       "    </tr>\n",
       "  </thead>\n",
       "  <tbody>\n",
       "    <tr>\n",
       "      <th>2016.0</th>\n",
       "      <td>206</td>\n",
       "      <td>206</td>\n",
       "      <td>206</td>\n",
       "      <td>206</td>\n",
       "      <td>206</td>\n",
       "      <td>206</td>\n",
       "      <td>206</td>\n",
       "      <td>0</td>\n",
       "      <td>0</td>\n",
       "      <td>4</td>\n",
       "    </tr>\n",
       "    <tr>\n",
       "      <th>2015.0</th>\n",
       "      <td>271</td>\n",
       "      <td>271</td>\n",
       "      <td>271</td>\n",
       "      <td>271</td>\n",
       "      <td>271</td>\n",
       "      <td>271</td>\n",
       "      <td>271</td>\n",
       "      <td>2</td>\n",
       "      <td>0</td>\n",
       "      <td>2</td>\n",
       "    </tr>\n",
       "    <tr>\n",
       "      <th>2014.0</th>\n",
       "      <td>231</td>\n",
       "      <td>231</td>\n",
       "      <td>231</td>\n",
       "      <td>231</td>\n",
       "      <td>231</td>\n",
       "      <td>231</td>\n",
       "      <td>231</td>\n",
       "      <td>1</td>\n",
       "      <td>0</td>\n",
       "      <td>2</td>\n",
       "    </tr>\n",
       "    <tr>\n",
       "      <th>2013.0</th>\n",
       "      <td>225</td>\n",
       "      <td>225</td>\n",
       "      <td>225</td>\n",
       "      <td>225</td>\n",
       "      <td>225</td>\n",
       "      <td>225</td>\n",
       "      <td>225</td>\n",
       "      <td>0</td>\n",
       "      <td>0</td>\n",
       "      <td>3</td>\n",
       "    </tr>\n",
       "    <tr>\n",
       "      <th>2012.0</th>\n",
       "      <td>290</td>\n",
       "      <td>290</td>\n",
       "      <td>290</td>\n",
       "      <td>290</td>\n",
       "      <td>290</td>\n",
       "      <td>290</td>\n",
       "      <td>290</td>\n",
       "      <td>0</td>\n",
       "      <td>0</td>\n",
       "      <td>3</td>\n",
       "    </tr>\n",
       "    <tr>\n",
       "      <th>2011.0</th>\n",
       "      <td>418</td>\n",
       "      <td>418</td>\n",
       "      <td>418</td>\n",
       "      <td>418</td>\n",
       "      <td>418</td>\n",
       "      <td>418</td>\n",
       "      <td>418</td>\n",
       "      <td>2</td>\n",
       "      <td>0</td>\n",
       "      <td>8</td>\n",
       "    </tr>\n",
       "    <tr>\n",
       "      <th>2010.0</th>\n",
       "      <td>457</td>\n",
       "      <td>457</td>\n",
       "      <td>457</td>\n",
       "      <td>457</td>\n",
       "      <td>457</td>\n",
       "      <td>457</td>\n",
       "      <td>457</td>\n",
       "      <td>2</td>\n",
       "      <td>0</td>\n",
       "      <td>9</td>\n",
       "    </tr>\n",
       "    <tr>\n",
       "      <th>2009.0</th>\n",
       "      <td>407</td>\n",
       "      <td>407</td>\n",
       "      <td>407</td>\n",
       "      <td>407</td>\n",
       "      <td>407</td>\n",
       "      <td>407</td>\n",
       "      <td>407</td>\n",
       "      <td>3</td>\n",
       "      <td>0</td>\n",
       "      <td>3</td>\n",
       "    </tr>\n",
       "    <tr>\n",
       "      <th>2008.0</th>\n",
       "      <td>440</td>\n",
       "      <td>440</td>\n",
       "      <td>440</td>\n",
       "      <td>440</td>\n",
       "      <td>440</td>\n",
       "      <td>440</td>\n",
       "      <td>440</td>\n",
       "      <td>4</td>\n",
       "      <td>0</td>\n",
       "      <td>3</td>\n",
       "    </tr>\n",
       "    <tr>\n",
       "      <th>2007.0</th>\n",
       "      <td>376</td>\n",
       "      <td>376</td>\n",
       "      <td>376</td>\n",
       "      <td>376</td>\n",
       "      <td>376</td>\n",
       "      <td>376</td>\n",
       "      <td>376</td>\n",
       "      <td>0</td>\n",
       "      <td>0</td>\n",
       "      <td>2</td>\n",
       "    </tr>\n",
       "    <tr>\n",
       "      <th>2006.0</th>\n",
       "      <td>330</td>\n",
       "      <td>330</td>\n",
       "      <td>330</td>\n",
       "      <td>330</td>\n",
       "      <td>330</td>\n",
       "      <td>330</td>\n",
       "      <td>330</td>\n",
       "      <td>2</td>\n",
       "      <td>0</td>\n",
       "      <td>4</td>\n",
       "    </tr>\n",
       "    <tr>\n",
       "      <th>2005.0</th>\n",
       "      <td>235</td>\n",
       "      <td>235</td>\n",
       "      <td>235</td>\n",
       "      <td>235</td>\n",
       "      <td>235</td>\n",
       "      <td>235</td>\n",
       "      <td>235</td>\n",
       "      <td>3</td>\n",
       "      <td>0</td>\n",
       "      <td>2</td>\n",
       "    </tr>\n",
       "    <tr>\n",
       "      <th>2004.0</th>\n",
       "      <td>166</td>\n",
       "      <td>166</td>\n",
       "      <td>166</td>\n",
       "      <td>166</td>\n",
       "      <td>166</td>\n",
       "      <td>166</td>\n",
       "      <td>166</td>\n",
       "      <td>3</td>\n",
       "      <td>0</td>\n",
       "      <td>4</td>\n",
       "    </tr>\n",
       "    <tr>\n",
       "      <th>2003.0</th>\n",
       "      <td>164</td>\n",
       "      <td>164</td>\n",
       "      <td>164</td>\n",
       "      <td>164</td>\n",
       "      <td>164</td>\n",
       "      <td>164</td>\n",
       "      <td>164</td>\n",
       "      <td>2</td>\n",
       "      <td>0</td>\n",
       "      <td>3</td>\n",
       "    </tr>\n",
       "    <tr>\n",
       "      <th>2002.0</th>\n",
       "      <td>173</td>\n",
       "      <td>173</td>\n",
       "      <td>173</td>\n",
       "      <td>173</td>\n",
       "      <td>173</td>\n",
       "      <td>173</td>\n",
       "      <td>173</td>\n",
       "      <td>0</td>\n",
       "      <td>0</td>\n",
       "      <td>0</td>\n",
       "    </tr>\n",
       "    <tr>\n",
       "      <th>2001.0</th>\n",
       "      <td>143</td>\n",
       "      <td>143</td>\n",
       "      <td>143</td>\n",
       "      <td>143</td>\n",
       "      <td>143</td>\n",
       "      <td>143</td>\n",
       "      <td>143</td>\n",
       "      <td>1</td>\n",
       "      <td>0</td>\n",
       "      <td>1</td>\n",
       "    </tr>\n",
       "    <tr>\n",
       "      <th>2000.0</th>\n",
       "      <td>200</td>\n",
       "      <td>200</td>\n",
       "      <td>200</td>\n",
       "      <td>200</td>\n",
       "      <td>200</td>\n",
       "      <td>200</td>\n",
       "      <td>200</td>\n",
       "      <td>1</td>\n",
       "      <td>0</td>\n",
       "      <td>1</td>\n",
       "    </tr>\n",
       "    <tr>\n",
       "      <th>1999.0</th>\n",
       "      <td>299</td>\n",
       "      <td>299</td>\n",
       "      <td>299</td>\n",
       "      <td>299</td>\n",
       "      <td>299</td>\n",
       "      <td>299</td>\n",
       "      <td>299</td>\n",
       "      <td>3</td>\n",
       "      <td>0</td>\n",
       "      <td>3</td>\n",
       "    </tr>\n",
       "    <tr>\n",
       "      <th>1998.0</th>\n",
       "      <td>348</td>\n",
       "      <td>348</td>\n",
       "      <td>348</td>\n",
       "      <td>348</td>\n",
       "      <td>348</td>\n",
       "      <td>348</td>\n",
       "      <td>348</td>\n",
       "      <td>2</td>\n",
       "      <td>0</td>\n",
       "      <td>2</td>\n",
       "    </tr>\n",
       "    <tr>\n",
       "      <th>1997.0</th>\n",
       "      <td>270</td>\n",
       "      <td>270</td>\n",
       "      <td>270</td>\n",
       "      <td>270</td>\n",
       "      <td>270</td>\n",
       "      <td>270</td>\n",
       "      <td>270</td>\n",
       "      <td>2</td>\n",
       "      <td>0</td>\n",
       "      <td>2</td>\n",
       "    </tr>\n",
       "    <tr>\n",
       "      <th>1996.0</th>\n",
       "      <td>255</td>\n",
       "      <td>255</td>\n",
       "      <td>255</td>\n",
       "      <td>255</td>\n",
       "      <td>255</td>\n",
       "      <td>255</td>\n",
       "      <td>255</td>\n",
       "      <td>0</td>\n",
       "      <td>0</td>\n",
       "      <td>0</td>\n",
       "    </tr>\n",
       "    <tr>\n",
       "      <th>1995.0</th>\n",
       "      <td>219</td>\n",
       "      <td>219</td>\n",
       "      <td>219</td>\n",
       "      <td>219</td>\n",
       "      <td>219</td>\n",
       "      <td>219</td>\n",
       "      <td>219</td>\n",
       "      <td>0</td>\n",
       "      <td>0</td>\n",
       "      <td>0</td>\n",
       "    </tr>\n",
       "    <tr>\n",
       "      <th>1994.0</th>\n",
       "      <td>120</td>\n",
       "      <td>120</td>\n",
       "      <td>120</td>\n",
       "      <td>120</td>\n",
       "      <td>120</td>\n",
       "      <td>120</td>\n",
       "      <td>120</td>\n",
       "      <td>0</td>\n",
       "      <td>0</td>\n",
       "      <td>0</td>\n",
       "    </tr>\n",
       "    <tr>\n",
       "      <th>1993.0</th>\n",
       "      <td>60</td>\n",
       "      <td>60</td>\n",
       "      <td>60</td>\n",
       "      <td>60</td>\n",
       "      <td>60</td>\n",
       "      <td>60</td>\n",
       "      <td>60</td>\n",
       "      <td>0</td>\n",
       "      <td>0</td>\n",
       "      <td>0</td>\n",
       "    </tr>\n",
       "    <tr>\n",
       "      <th>1992.0</th>\n",
       "      <td>42</td>\n",
       "      <td>42</td>\n",
       "      <td>42</td>\n",
       "      <td>42</td>\n",
       "      <td>42</td>\n",
       "      <td>42</td>\n",
       "      <td>42</td>\n",
       "      <td>0</td>\n",
       "      <td>0</td>\n",
       "      <td>1</td>\n",
       "    </tr>\n",
       "    <tr>\n",
       "      <th>1991.0</th>\n",
       "      <td>41</td>\n",
       "      <td>41</td>\n",
       "      <td>41</td>\n",
       "      <td>41</td>\n",
       "      <td>41</td>\n",
       "      <td>41</td>\n",
       "      <td>41</td>\n",
       "      <td>0</td>\n",
       "      <td>0</td>\n",
       "      <td>0</td>\n",
       "    </tr>\n",
       "    <tr>\n",
       "      <th>1990.0</th>\n",
       "      <td>16</td>\n",
       "      <td>16</td>\n",
       "      <td>16</td>\n",
       "      <td>16</td>\n",
       "      <td>16</td>\n",
       "      <td>16</td>\n",
       "      <td>16</td>\n",
       "      <td>0</td>\n",
       "      <td>0</td>\n",
       "      <td>0</td>\n",
       "    </tr>\n",
       "    <tr>\n",
       "      <th>1989.0</th>\n",
       "      <td>17</td>\n",
       "      <td>17</td>\n",
       "      <td>17</td>\n",
       "      <td>17</td>\n",
       "      <td>17</td>\n",
       "      <td>17</td>\n",
       "      <td>17</td>\n",
       "      <td>0</td>\n",
       "      <td>0</td>\n",
       "      <td>0</td>\n",
       "    </tr>\n",
       "    <tr>\n",
       "      <th>1988.0</th>\n",
       "      <td>14</td>\n",
       "      <td>14</td>\n",
       "      <td>14</td>\n",
       "      <td>14</td>\n",
       "      <td>14</td>\n",
       "      <td>14</td>\n",
       "      <td>14</td>\n",
       "      <td>0</td>\n",
       "      <td>0</td>\n",
       "      <td>0</td>\n",
       "    </tr>\n",
       "    <tr>\n",
       "      <th>1987.0</th>\n",
       "      <td>16</td>\n",
       "      <td>16</td>\n",
       "      <td>16</td>\n",
       "      <td>16</td>\n",
       "      <td>16</td>\n",
       "      <td>16</td>\n",
       "      <td>16</td>\n",
       "      <td>0</td>\n",
       "      <td>0</td>\n",
       "      <td>0</td>\n",
       "    </tr>\n",
       "    <tr>\n",
       "      <th>1986.0</th>\n",
       "      <td>21</td>\n",
       "      <td>21</td>\n",
       "      <td>21</td>\n",
       "      <td>21</td>\n",
       "      <td>21</td>\n",
       "      <td>21</td>\n",
       "      <td>21</td>\n",
       "      <td>0</td>\n",
       "      <td>0</td>\n",
       "      <td>0</td>\n",
       "    </tr>\n",
       "    <tr>\n",
       "      <th>1985.0</th>\n",
       "      <td>13</td>\n",
       "      <td>13</td>\n",
       "      <td>13</td>\n",
       "      <td>13</td>\n",
       "      <td>13</td>\n",
       "      <td>13</td>\n",
       "      <td>13</td>\n",
       "      <td>0</td>\n",
       "      <td>0</td>\n",
       "      <td>0</td>\n",
       "    </tr>\n",
       "    <tr>\n",
       "      <th>1984.0</th>\n",
       "      <td>14</td>\n",
       "      <td>14</td>\n",
       "      <td>14</td>\n",
       "      <td>14</td>\n",
       "      <td>14</td>\n",
       "      <td>14</td>\n",
       "      <td>14</td>\n",
       "      <td>0</td>\n",
       "      <td>0</td>\n",
       "      <td>0</td>\n",
       "    </tr>\n",
       "    <tr>\n",
       "      <th>1983.0</th>\n",
       "      <td>17</td>\n",
       "      <td>17</td>\n",
       "      <td>17</td>\n",
       "      <td>17</td>\n",
       "      <td>17</td>\n",
       "      <td>17</td>\n",
       "      <td>17</td>\n",
       "      <td>0</td>\n",
       "      <td>0</td>\n",
       "      <td>0</td>\n",
       "    </tr>\n",
       "    <tr>\n",
       "      <th>1982.0</th>\n",
       "      <td>36</td>\n",
       "      <td>36</td>\n",
       "      <td>36</td>\n",
       "      <td>36</td>\n",
       "      <td>36</td>\n",
       "      <td>36</td>\n",
       "      <td>36</td>\n",
       "      <td>0</td>\n",
       "      <td>0</td>\n",
       "      <td>0</td>\n",
       "    </tr>\n",
       "    <tr>\n",
       "      <th>1981.0</th>\n",
       "      <td>46</td>\n",
       "      <td>46</td>\n",
       "      <td>46</td>\n",
       "      <td>46</td>\n",
       "      <td>46</td>\n",
       "      <td>46</td>\n",
       "      <td>46</td>\n",
       "      <td>0</td>\n",
       "      <td>0</td>\n",
       "      <td>0</td>\n",
       "    </tr>\n",
       "    <tr>\n",
       "      <th>1980.0</th>\n",
       "      <td>9</td>\n",
       "      <td>9</td>\n",
       "      <td>9</td>\n",
       "      <td>9</td>\n",
       "      <td>9</td>\n",
       "      <td>9</td>\n",
       "      <td>9</td>\n",
       "      <td>0</td>\n",
       "      <td>0</td>\n",
       "      <td>0</td>\n",
       "    </tr>\n",
       "  </tbody>\n",
       "</table>\n",
       "</div>"
      ],
      "text/plain": [
       "                 name  platform  genre  na_sales  eu_sales  jp_sales  \\\n",
       "year_of_release                                                        \n",
       "2016.0            206       206    206       206       206       206   \n",
       "2015.0            271       271    271       271       271       271   \n",
       "2014.0            231       231    231       231       231       231   \n",
       "2013.0            225       225    225       225       225       225   \n",
       "2012.0            290       290    290       290       290       290   \n",
       "2011.0            418       418    418       418       418       418   \n",
       "2010.0            457       457    457       457       457       457   \n",
       "2009.0            407       407    407       407       407       407   \n",
       "2008.0            440       440    440       440       440       440   \n",
       "2007.0            376       376    376       376       376       376   \n",
       "2006.0            330       330    330       330       330       330   \n",
       "2005.0            235       235    235       235       235       235   \n",
       "2004.0            166       166    166       166       166       166   \n",
       "2003.0            164       164    164       164       164       164   \n",
       "2002.0            173       173    173       173       173       173   \n",
       "2001.0            143       143    143       143       143       143   \n",
       "2000.0            200       200    200       200       200       200   \n",
       "1999.0            299       299    299       299       299       299   \n",
       "1998.0            348       348    348       348       348       348   \n",
       "1997.0            270       270    270       270       270       270   \n",
       "1996.0            255       255    255       255       255       255   \n",
       "1995.0            219       219    219       219       219       219   \n",
       "1994.0            120       120    120       120       120       120   \n",
       "1993.0             60        60     60        60        60        60   \n",
       "1992.0             42        42     42        42        42        42   \n",
       "1991.0             41        41     41        41        41        41   \n",
       "1990.0             16        16     16        16        16        16   \n",
       "1989.0             17        17     17        17        17        17   \n",
       "1988.0             14        14     14        14        14        14   \n",
       "1987.0             16        16     16        16        16        16   \n",
       "1986.0             21        21     21        21        21        21   \n",
       "1985.0             13        13     13        13        13        13   \n",
       "1984.0             14        14     14        14        14        14   \n",
       "1983.0             17        17     17        17        17        17   \n",
       "1982.0             36        36     36        36        36        36   \n",
       "1981.0             46        46     46        46        46        46   \n",
       "1980.0              9         9      9         9         9         9   \n",
       "\n",
       "                 other_sales  critic_score  user_score  rating  \n",
       "year_of_release                                                 \n",
       "2016.0                   206             0           0       4  \n",
       "2015.0                   271             2           0       2  \n",
       "2014.0                   231             1           0       2  \n",
       "2013.0                   225             0           0       3  \n",
       "2012.0                   290             0           0       3  \n",
       "2011.0                   418             2           0       8  \n",
       "2010.0                   457             2           0       9  \n",
       "2009.0                   407             3           0       3  \n",
       "2008.0                   440             4           0       3  \n",
       "2007.0                   376             0           0       2  \n",
       "2006.0                   330             2           0       4  \n",
       "2005.0                   235             3           0       2  \n",
       "2004.0                   166             3           0       4  \n",
       "2003.0                   164             2           0       3  \n",
       "2002.0                   173             0           0       0  \n",
       "2001.0                   143             1           0       1  \n",
       "2000.0                   200             1           0       1  \n",
       "1999.0                   299             3           0       3  \n",
       "1998.0                   348             2           0       2  \n",
       "1997.0                   270             2           0       2  \n",
       "1996.0                   255             0           0       0  \n",
       "1995.0                   219             0           0       0  \n",
       "1994.0                   120             0           0       0  \n",
       "1993.0                    60             0           0       0  \n",
       "1992.0                    42             0           0       1  \n",
       "1991.0                    41             0           0       0  \n",
       "1990.0                    16             0           0       0  \n",
       "1989.0                    17             0           0       0  \n",
       "1988.0                    14             0           0       0  \n",
       "1987.0                    16             0           0       0  \n",
       "1986.0                    21             0           0       0  \n",
       "1985.0                    13             0           0       0  \n",
       "1984.0                    14             0           0       0  \n",
       "1983.0                    17             0           0       0  \n",
       "1982.0                    36             0           0       0  \n",
       "1981.0                    46             0           0       0  \n",
       "1980.0                     9             0           0       0  "
      ]
     },
     "execution_count": 15,
     "metadata": {},
     "output_type": "execute_result"
    }
   ],
   "source": [
    "# группируем данные без оценки игроков по годам и смотрим распределение\n",
    "\n",
    "df.query('user_score.isna()').groupby('year_of_release').count()\\\n",
    ".sort_values(by = 'year_of_release', ascending = False)"
   ]
  },
  {
   "cell_type": "code",
   "execution_count": 16,
   "metadata": {},
   "outputs": [
    {
     "data": {
      "text/html": [
       "<div>\n",
       "<style scoped>\n",
       "    .dataframe tbody tr th:only-of-type {\n",
       "        vertical-align: middle;\n",
       "    }\n",
       "\n",
       "    .dataframe tbody tr th {\n",
       "        vertical-align: top;\n",
       "    }\n",
       "\n",
       "    .dataframe thead th {\n",
       "        text-align: right;\n",
       "    }\n",
       "</style>\n",
       "<table border=\"1\" class=\"dataframe\">\n",
       "  <thead>\n",
       "    <tr style=\"text-align: right;\">\n",
       "      <th></th>\n",
       "      <th>name</th>\n",
       "      <th>platform</th>\n",
       "      <th>year_of_release</th>\n",
       "      <th>genre</th>\n",
       "      <th>eu_sales</th>\n",
       "      <th>jp_sales</th>\n",
       "      <th>other_sales</th>\n",
       "      <th>critic_score</th>\n",
       "      <th>user_score</th>\n",
       "      <th>rating</th>\n",
       "    </tr>\n",
       "    <tr>\n",
       "      <th>na_sales</th>\n",
       "      <th></th>\n",
       "      <th></th>\n",
       "      <th></th>\n",
       "      <th></th>\n",
       "      <th></th>\n",
       "      <th></th>\n",
       "      <th></th>\n",
       "      <th></th>\n",
       "      <th></th>\n",
       "      <th></th>\n",
       "    </tr>\n",
       "  </thead>\n",
       "  <tbody>\n",
       "    <tr>\n",
       "      <th>29.08</th>\n",
       "      <td>1</td>\n",
       "      <td>1</td>\n",
       "      <td>1</td>\n",
       "      <td>1</td>\n",
       "      <td>1</td>\n",
       "      <td>1</td>\n",
       "      <td>1</td>\n",
       "      <td>0</td>\n",
       "      <td>0</td>\n",
       "      <td>0</td>\n",
       "    </tr>\n",
       "    <tr>\n",
       "      <th>26.93</th>\n",
       "      <td>1</td>\n",
       "      <td>1</td>\n",
       "      <td>1</td>\n",
       "      <td>1</td>\n",
       "      <td>1</td>\n",
       "      <td>1</td>\n",
       "      <td>1</td>\n",
       "      <td>0</td>\n",
       "      <td>0</td>\n",
       "      <td>0</td>\n",
       "    </tr>\n",
       "    <tr>\n",
       "      <th>23.20</th>\n",
       "      <td>1</td>\n",
       "      <td>1</td>\n",
       "      <td>1</td>\n",
       "      <td>1</td>\n",
       "      <td>1</td>\n",
       "      <td>1</td>\n",
       "      <td>1</td>\n",
       "      <td>0</td>\n",
       "      <td>0</td>\n",
       "      <td>0</td>\n",
       "    </tr>\n",
       "    <tr>\n",
       "      <th>12.78</th>\n",
       "      <td>1</td>\n",
       "      <td>1</td>\n",
       "      <td>1</td>\n",
       "      <td>1</td>\n",
       "      <td>1</td>\n",
       "      <td>1</td>\n",
       "      <td>1</td>\n",
       "      <td>0</td>\n",
       "      <td>0</td>\n",
       "      <td>0</td>\n",
       "    </tr>\n",
       "    <tr>\n",
       "      <th>11.27</th>\n",
       "      <td>1</td>\n",
       "      <td>1</td>\n",
       "      <td>1</td>\n",
       "      <td>1</td>\n",
       "      <td>1</td>\n",
       "      <td>1</td>\n",
       "      <td>1</td>\n",
       "      <td>0</td>\n",
       "      <td>0</td>\n",
       "      <td>0</td>\n",
       "    </tr>\n",
       "    <tr>\n",
       "      <th>...</th>\n",
       "      <td>...</td>\n",
       "      <td>...</td>\n",
       "      <td>...</td>\n",
       "      <td>...</td>\n",
       "      <td>...</td>\n",
       "      <td>...</td>\n",
       "      <td>...</td>\n",
       "      <td>...</td>\n",
       "      <td>...</td>\n",
       "      <td>...</td>\n",
       "    </tr>\n",
       "    <tr>\n",
       "      <th>0.04</th>\n",
       "      <td>146</td>\n",
       "      <td>146</td>\n",
       "      <td>146</td>\n",
       "      <td>146</td>\n",
       "      <td>146</td>\n",
       "      <td>146</td>\n",
       "      <td>146</td>\n",
       "      <td>0</td>\n",
       "      <td>0</td>\n",
       "      <td>1</td>\n",
       "    </tr>\n",
       "    <tr>\n",
       "      <th>0.03</th>\n",
       "      <td>150</td>\n",
       "      <td>150</td>\n",
       "      <td>150</td>\n",
       "      <td>150</td>\n",
       "      <td>150</td>\n",
       "      <td>150</td>\n",
       "      <td>150</td>\n",
       "      <td>0</td>\n",
       "      <td>0</td>\n",
       "      <td>1</td>\n",
       "    </tr>\n",
       "    <tr>\n",
       "      <th>0.02</th>\n",
       "      <td>165</td>\n",
       "      <td>165</td>\n",
       "      <td>165</td>\n",
       "      <td>165</td>\n",
       "      <td>165</td>\n",
       "      <td>165</td>\n",
       "      <td>165</td>\n",
       "      <td>1</td>\n",
       "      <td>0</td>\n",
       "      <td>6</td>\n",
       "    </tr>\n",
       "    <tr>\n",
       "      <th>0.01</th>\n",
       "      <td>147</td>\n",
       "      <td>147</td>\n",
       "      <td>147</td>\n",
       "      <td>147</td>\n",
       "      <td>147</td>\n",
       "      <td>147</td>\n",
       "      <td>147</td>\n",
       "      <td>1</td>\n",
       "      <td>0</td>\n",
       "      <td>6</td>\n",
       "    </tr>\n",
       "    <tr>\n",
       "      <th>0.00</th>\n",
       "      <td>3644</td>\n",
       "      <td>3644</td>\n",
       "      <td>3644</td>\n",
       "      <td>3644</td>\n",
       "      <td>3644</td>\n",
       "      <td>3644</td>\n",
       "      <td>3644</td>\n",
       "      <td>16</td>\n",
       "      <td>0</td>\n",
       "      <td>30</td>\n",
       "    </tr>\n",
       "  </tbody>\n",
       "</table>\n",
       "<p>263 rows × 10 columns</p>\n",
       "</div>"
      ],
      "text/plain": [
       "          name  platform  year_of_release  genre  eu_sales  jp_sales  \\\n",
       "na_sales                                                               \n",
       "29.08        1         1                1      1         1         1   \n",
       "26.93        1         1                1      1         1         1   \n",
       "23.20        1         1                1      1         1         1   \n",
       "12.78        1         1                1      1         1         1   \n",
       "11.27        1         1                1      1         1         1   \n",
       "...        ...       ...              ...    ...       ...       ...   \n",
       "0.04       146       146              146    146       146       146   \n",
       "0.03       150       150              150    150       150       150   \n",
       "0.02       165       165              165    165       165       165   \n",
       "0.01       147       147              147    147       147       147   \n",
       "0.00      3644      3644             3644   3644      3644      3644   \n",
       "\n",
       "          other_sales  critic_score  user_score  rating  \n",
       "na_sales                                                 \n",
       "29.08               1             0           0       0  \n",
       "26.93               1             0           0       0  \n",
       "23.20               1             0           0       0  \n",
       "12.78               1             0           0       0  \n",
       "11.27               1             0           0       0  \n",
       "...               ...           ...         ...     ...  \n",
       "0.04              146             0           0       1  \n",
       "0.03              150             0           0       1  \n",
       "0.02              165             1           0       6  \n",
       "0.01              147             1           0       6  \n",
       "0.00             3644            16           0      30  \n",
       "\n",
       "[263 rows x 10 columns]"
      ]
     },
     "execution_count": 16,
     "metadata": {},
     "output_type": "execute_result"
    }
   ],
   "source": [
    "# группируем данные без оценки игроков по продажам в Северной Америке и смотрим распределение\n",
    "\n",
    "df.query('user_score.isna()').groupby('na_sales').count()\\\n",
    ".sort_values(by ='na_sales', ascending = False)"
   ]
  },
  {
   "cell_type": "code",
   "execution_count": 17,
   "metadata": {
    "scrolled": true
   },
   "outputs": [
    {
     "data": {
      "text/html": [
       "<div>\n",
       "<style scoped>\n",
       "    .dataframe tbody tr th:only-of-type {\n",
       "        vertical-align: middle;\n",
       "    }\n",
       "\n",
       "    .dataframe tbody tr th {\n",
       "        vertical-align: top;\n",
       "    }\n",
       "\n",
       "    .dataframe thead th {\n",
       "        text-align: right;\n",
       "    }\n",
       "</style>\n",
       "<table border=\"1\" class=\"dataframe\">\n",
       "  <thead>\n",
       "    <tr style=\"text-align: right;\">\n",
       "      <th></th>\n",
       "      <th>name</th>\n",
       "      <th>platform</th>\n",
       "      <th>year_of_release</th>\n",
       "      <th>genre</th>\n",
       "      <th>na_sales</th>\n",
       "      <th>eu_sales</th>\n",
       "      <th>jp_sales</th>\n",
       "      <th>other_sales</th>\n",
       "      <th>critic_score</th>\n",
       "      <th>user_score</th>\n",
       "      <th>rating</th>\n",
       "    </tr>\n",
       "  </thead>\n",
       "  <tbody>\n",
       "    <tr>\n",
       "      <th>1</th>\n",
       "      <td>Super Mario Bros.</td>\n",
       "      <td>NES</td>\n",
       "      <td>1985.0</td>\n",
       "      <td>Platform</td>\n",
       "      <td>29.08</td>\n",
       "      <td>3.58</td>\n",
       "      <td>6.81</td>\n",
       "      <td>0.77</td>\n",
       "      <td>NaN</td>\n",
       "      <td>NaN</td>\n",
       "      <td>NaN</td>\n",
       "    </tr>\n",
       "    <tr>\n",
       "      <th>9</th>\n",
       "      <td>Duck Hunt</td>\n",
       "      <td>NES</td>\n",
       "      <td>1984.0</td>\n",
       "      <td>Shooter</td>\n",
       "      <td>26.93</td>\n",
       "      <td>0.63</td>\n",
       "      <td>0.28</td>\n",
       "      <td>0.47</td>\n",
       "      <td>NaN</td>\n",
       "      <td>NaN</td>\n",
       "      <td>NaN</td>\n",
       "    </tr>\n",
       "    <tr>\n",
       "      <th>5</th>\n",
       "      <td>Tetris</td>\n",
       "      <td>GB</td>\n",
       "      <td>1989.0</td>\n",
       "      <td>Puzzle</td>\n",
       "      <td>23.20</td>\n",
       "      <td>2.26</td>\n",
       "      <td>4.22</td>\n",
       "      <td>0.58</td>\n",
       "      <td>NaN</td>\n",
       "      <td>NaN</td>\n",
       "      <td>NaN</td>\n",
       "    </tr>\n",
       "    <tr>\n",
       "      <th>18</th>\n",
       "      <td>Super Mario World</td>\n",
       "      <td>SNES</td>\n",
       "      <td>1990.0</td>\n",
       "      <td>Platform</td>\n",
       "      <td>12.78</td>\n",
       "      <td>3.75</td>\n",
       "      <td>3.54</td>\n",
       "      <td>0.55</td>\n",
       "      <td>NaN</td>\n",
       "      <td>NaN</td>\n",
       "      <td>NaN</td>\n",
       "    </tr>\n",
       "    <tr>\n",
       "      <th>4</th>\n",
       "      <td>Pokemon Red/Pokemon Blue</td>\n",
       "      <td>GB</td>\n",
       "      <td>1996.0</td>\n",
       "      <td>Role-Playing</td>\n",
       "      <td>11.27</td>\n",
       "      <td>8.89</td>\n",
       "      <td>10.22</td>\n",
       "      <td>1.00</td>\n",
       "      <td>NaN</td>\n",
       "      <td>NaN</td>\n",
       "      <td>NaN</td>\n",
       "    </tr>\n",
       "    <tr>\n",
       "      <th>21</th>\n",
       "      <td>Super Mario Land</td>\n",
       "      <td>GB</td>\n",
       "      <td>1989.0</td>\n",
       "      <td>Platform</td>\n",
       "      <td>10.83</td>\n",
       "      <td>2.71</td>\n",
       "      <td>4.18</td>\n",
       "      <td>0.42</td>\n",
       "      <td>NaN</td>\n",
       "      <td>NaN</td>\n",
       "      <td>NaN</td>\n",
       "    </tr>\n",
       "    <tr>\n",
       "      <th>22</th>\n",
       "      <td>Super Mario Bros. 3</td>\n",
       "      <td>NES</td>\n",
       "      <td>1988.0</td>\n",
       "      <td>Platform</td>\n",
       "      <td>9.54</td>\n",
       "      <td>3.44</td>\n",
       "      <td>3.84</td>\n",
       "      <td>0.46</td>\n",
       "      <td>NaN</td>\n",
       "      <td>NaN</td>\n",
       "      <td>NaN</td>\n",
       "    </tr>\n",
       "    <tr>\n",
       "      <th>10</th>\n",
       "      <td>Nintendogs</td>\n",
       "      <td>DS</td>\n",
       "      <td>2005.0</td>\n",
       "      <td>Simulation</td>\n",
       "      <td>9.05</td>\n",
       "      <td>10.95</td>\n",
       "      <td>1.93</td>\n",
       "      <td>2.74</td>\n",
       "      <td>NaN</td>\n",
       "      <td>NaN</td>\n",
       "      <td>NaN</td>\n",
       "    </tr>\n",
       "    <tr>\n",
       "      <th>12</th>\n",
       "      <td>Pokemon Gold/Pokemon Silver</td>\n",
       "      <td>GB</td>\n",
       "      <td>1999.0</td>\n",
       "      <td>Role-Playing</td>\n",
       "      <td>9.00</td>\n",
       "      <td>6.18</td>\n",
       "      <td>7.20</td>\n",
       "      <td>0.71</td>\n",
       "      <td>NaN</td>\n",
       "      <td>NaN</td>\n",
       "      <td>NaN</td>\n",
       "    </tr>\n",
       "    <tr>\n",
       "      <th>89</th>\n",
       "      <td>Pac-Man</td>\n",
       "      <td>2600</td>\n",
       "      <td>1982.0</td>\n",
       "      <td>Puzzle</td>\n",
       "      <td>7.28</td>\n",
       "      <td>0.45</td>\n",
       "      <td>0.00</td>\n",
       "      <td>0.08</td>\n",
       "      <td>NaN</td>\n",
       "      <td>NaN</td>\n",
       "      <td>NaN</td>\n",
       "    </tr>\n",
       "    <tr>\n",
       "      <th>45</th>\n",
       "      <td>Super Mario 64</td>\n",
       "      <td>N64</td>\n",
       "      <td>1996.0</td>\n",
       "      <td>Platform</td>\n",
       "      <td>6.91</td>\n",
       "      <td>2.85</td>\n",
       "      <td>1.91</td>\n",
       "      <td>0.23</td>\n",
       "      <td>NaN</td>\n",
       "      <td>NaN</td>\n",
       "      <td>NaN</td>\n",
       "    </tr>\n",
       "    <tr>\n",
       "      <th>20</th>\n",
       "      <td>Pokemon Diamond/Pokemon Pearl</td>\n",
       "      <td>DS</td>\n",
       "      <td>2006.0</td>\n",
       "      <td>Role-Playing</td>\n",
       "      <td>6.38</td>\n",
       "      <td>4.46</td>\n",
       "      <td>6.04</td>\n",
       "      <td>1.36</td>\n",
       "      <td>NaN</td>\n",
       "      <td>NaN</td>\n",
       "      <td>NaN</td>\n",
       "    </tr>\n",
       "    <tr>\n",
       "      <th>50</th>\n",
       "      <td>Super Mario Land 2: 6 Golden Coins</td>\n",
       "      <td>GB</td>\n",
       "      <td>1992.0</td>\n",
       "      <td>Adventure</td>\n",
       "      <td>6.16</td>\n",
       "      <td>2.04</td>\n",
       "      <td>2.69</td>\n",
       "      <td>0.29</td>\n",
       "      <td>NaN</td>\n",
       "      <td>NaN</td>\n",
       "      <td>NaN</td>\n",
       "    </tr>\n",
       "    <tr>\n",
       "      <th>25</th>\n",
       "      <td>Pokemon Ruby/Pokemon Sapphire</td>\n",
       "      <td>GBA</td>\n",
       "      <td>2002.0</td>\n",
       "      <td>Role-Playing</td>\n",
       "      <td>6.06</td>\n",
       "      <td>3.90</td>\n",
       "      <td>5.38</td>\n",
       "      <td>0.50</td>\n",
       "      <td>NaN</td>\n",
       "      <td>NaN</td>\n",
       "      <td>NaN</td>\n",
       "    </tr>\n",
       "    <tr>\n",
       "      <th>31</th>\n",
       "      <td>Call of Duty: Black Ops 3</td>\n",
       "      <td>PS4</td>\n",
       "      <td>2015.0</td>\n",
       "      <td>Shooter</td>\n",
       "      <td>6.03</td>\n",
       "      <td>5.86</td>\n",
       "      <td>0.36</td>\n",
       "      <td>2.38</td>\n",
       "      <td>NaN</td>\n",
       "      <td>NaN</td>\n",
       "      <td>NaN</td>\n",
       "    </tr>\n",
       "    <tr>\n",
       "      <th>56</th>\n",
       "      <td>Super Mario All-Stars</td>\n",
       "      <td>SNES</td>\n",
       "      <td>1993.0</td>\n",
       "      <td>Platform</td>\n",
       "      <td>5.99</td>\n",
       "      <td>2.15</td>\n",
       "      <td>2.12</td>\n",
       "      <td>0.29</td>\n",
       "      <td>NaN</td>\n",
       "      <td>NaN</td>\n",
       "      <td>NaN</td>\n",
       "    </tr>\n",
       "    <tr>\n",
       "      <th>30</th>\n",
       "      <td>Pokémon Yellow: Special Pikachu Edition</td>\n",
       "      <td>GB</td>\n",
       "      <td>1998.0</td>\n",
       "      <td>Role-Playing</td>\n",
       "      <td>5.89</td>\n",
       "      <td>5.04</td>\n",
       "      <td>3.12</td>\n",
       "      <td>0.59</td>\n",
       "      <td>NaN</td>\n",
       "      <td>NaN</td>\n",
       "      <td>NaN</td>\n",
       "    </tr>\n",
       "    <tr>\n",
       "      <th>82</th>\n",
       "      <td>GoldenEye 007</td>\n",
       "      <td>N64</td>\n",
       "      <td>1997.0</td>\n",
       "      <td>Shooter</td>\n",
       "      <td>5.80</td>\n",
       "      <td>2.01</td>\n",
       "      <td>0.13</td>\n",
       "      <td>0.15</td>\n",
       "      <td>NaN</td>\n",
       "      <td>NaN</td>\n",
       "      <td>NaN</td>\n",
       "    </tr>\n",
       "    <tr>\n",
       "      <th>72</th>\n",
       "      <td>Minecraft</td>\n",
       "      <td>X360</td>\n",
       "      <td>2013.0</td>\n",
       "      <td>Misc</td>\n",
       "      <td>5.70</td>\n",
       "      <td>2.65</td>\n",
       "      <td>0.02</td>\n",
       "      <td>0.81</td>\n",
       "      <td>NaN</td>\n",
       "      <td>NaN</td>\n",
       "      <td>NaN</td>\n",
       "    </tr>\n",
       "    <tr>\n",
       "      <th>63</th>\n",
       "      <td>Mario Kart 64</td>\n",
       "      <td>N64</td>\n",
       "      <td>1996.0</td>\n",
       "      <td>Racing</td>\n",
       "      <td>5.55</td>\n",
       "      <td>1.94</td>\n",
       "      <td>2.23</td>\n",
       "      <td>0.15</td>\n",
       "      <td>NaN</td>\n",
       "      <td>NaN</td>\n",
       "      <td>NaN</td>\n",
       "    </tr>\n",
       "  </tbody>\n",
       "</table>\n",
       "</div>"
      ],
      "text/plain": [
       "                                       name platform  year_of_release  \\\n",
       "1                         Super Mario Bros.      NES           1985.0   \n",
       "9                                 Duck Hunt      NES           1984.0   \n",
       "5                                    Tetris       GB           1989.0   \n",
       "18                        Super Mario World     SNES           1990.0   \n",
       "4                  Pokemon Red/Pokemon Blue       GB           1996.0   \n",
       "21                         Super Mario Land       GB           1989.0   \n",
       "22                      Super Mario Bros. 3      NES           1988.0   \n",
       "10                               Nintendogs       DS           2005.0   \n",
       "12              Pokemon Gold/Pokemon Silver       GB           1999.0   \n",
       "89                                  Pac-Man     2600           1982.0   \n",
       "45                           Super Mario 64      N64           1996.0   \n",
       "20            Pokemon Diamond/Pokemon Pearl       DS           2006.0   \n",
       "50       Super Mario Land 2: 6 Golden Coins       GB           1992.0   \n",
       "25            Pokemon Ruby/Pokemon Sapphire      GBA           2002.0   \n",
       "31                Call of Duty: Black Ops 3      PS4           2015.0   \n",
       "56                    Super Mario All-Stars     SNES           1993.0   \n",
       "30  Pokémon Yellow: Special Pikachu Edition       GB           1998.0   \n",
       "82                            GoldenEye 007      N64           1997.0   \n",
       "72                                Minecraft     X360           2013.0   \n",
       "63                            Mario Kart 64      N64           1996.0   \n",
       "\n",
       "           genre  na_sales  eu_sales  jp_sales  other_sales  critic_score  \\\n",
       "1       Platform     29.08      3.58      6.81         0.77           NaN   \n",
       "9        Shooter     26.93      0.63      0.28         0.47           NaN   \n",
       "5         Puzzle     23.20      2.26      4.22         0.58           NaN   \n",
       "18      Platform     12.78      3.75      3.54         0.55           NaN   \n",
       "4   Role-Playing     11.27      8.89     10.22         1.00           NaN   \n",
       "21      Platform     10.83      2.71      4.18         0.42           NaN   \n",
       "22      Platform      9.54      3.44      3.84         0.46           NaN   \n",
       "10    Simulation      9.05     10.95      1.93         2.74           NaN   \n",
       "12  Role-Playing      9.00      6.18      7.20         0.71           NaN   \n",
       "89        Puzzle      7.28      0.45      0.00         0.08           NaN   \n",
       "45      Platform      6.91      2.85      1.91         0.23           NaN   \n",
       "20  Role-Playing      6.38      4.46      6.04         1.36           NaN   \n",
       "50     Adventure      6.16      2.04      2.69         0.29           NaN   \n",
       "25  Role-Playing      6.06      3.90      5.38         0.50           NaN   \n",
       "31       Shooter      6.03      5.86      0.36         2.38           NaN   \n",
       "56      Platform      5.99      2.15      2.12         0.29           NaN   \n",
       "30  Role-Playing      5.89      5.04      3.12         0.59           NaN   \n",
       "82       Shooter      5.80      2.01      0.13         0.15           NaN   \n",
       "72          Misc      5.70      2.65      0.02         0.81           NaN   \n",
       "63        Racing      5.55      1.94      2.23         0.15           NaN   \n",
       "\n",
       "   user_score rating  \n",
       "1         NaN    NaN  \n",
       "9         NaN    NaN  \n",
       "5         NaN    NaN  \n",
       "18        NaN    NaN  \n",
       "4         NaN    NaN  \n",
       "21        NaN    NaN  \n",
       "22        NaN    NaN  \n",
       "10        NaN    NaN  \n",
       "12        NaN    NaN  \n",
       "89        NaN    NaN  \n",
       "45        NaN    NaN  \n",
       "20        NaN    NaN  \n",
       "50        NaN    NaN  \n",
       "25        NaN    NaN  \n",
       "31        NaN    NaN  \n",
       "56        NaN    NaN  \n",
       "30        NaN    NaN  \n",
       "82        NaN    NaN  \n",
       "72        NaN    NaN  \n",
       "63        NaN    NaN  "
      ]
     },
     "execution_count": 17,
     "metadata": {},
     "output_type": "execute_result"
    }
   ],
   "source": [
    "# \n",
    "df.query('user_score.isna()').sort_values(by ='na_sales', ascending = False).head(20)"
   ]
  },
  {
   "cell_type": "code",
   "execution_count": 18,
   "metadata": {},
   "outputs": [
    {
     "name": "stdout",
     "output_type": "stream",
     "text": [
      "<class 'pandas.core.frame.DataFrame'>\n",
      "Int64Index: 16444 entries, 0 to 16714\n",
      "Data columns (total 11 columns):\n",
      " #   Column           Non-Null Count  Dtype  \n",
      "---  ------           --------------  -----  \n",
      " 0   name             16444 non-null  object \n",
      " 1   platform         16444 non-null  object \n",
      " 2   year_of_release  16444 non-null  float64\n",
      " 3   genre            16444 non-null  object \n",
      " 4   na_sales         16444 non-null  float64\n",
      " 5   eu_sales         16444 non-null  float64\n",
      " 6   jp_sales         16444 non-null  float64\n",
      " 7   other_sales      16444 non-null  float64\n",
      " 8   critic_score     7983 non-null   float64\n",
      " 9   user_score       9839 non-null   object \n",
      " 10  rating           9768 non-null   object \n",
      "dtypes: float64(6), object(5)\n",
      "memory usage: 1.5+ MB\n"
     ]
    }
   ],
   "source": [
    "df.info()  # проверяем датасет на предмет изменившигося количества записей"
   ]
  },
  {
   "cell_type": "markdown",
   "metadata": {},
   "source": [
    "После удаления пропущенных данных можно изменить формат данных года выпуска на int вместо float64 для удобства дальнейшей работы.  \n",
    "Оценку пользователя меняем на float64,как и другие оценки, тк они содержат десятые."
   ]
  },
  {
   "cell_type": "code",
   "execution_count": 19,
   "metadata": {},
   "outputs": [],
   "source": [
    "df['year_of_release']=df['year_of_release'].astype('int') # меняем тип данный на int"
   ]
  },
  {
   "cell_type": "code",
   "execution_count": 20,
   "metadata": {},
   "outputs": [
    {
     "name": "stdout",
     "output_type": "stream",
     "text": [
      "<class 'pandas.core.frame.DataFrame'>\n",
      "Int64Index: 16444 entries, 0 to 16714\n",
      "Data columns (total 11 columns):\n",
      " #   Column           Non-Null Count  Dtype  \n",
      "---  ------           --------------  -----  \n",
      " 0   name             16444 non-null  object \n",
      " 1   platform         16444 non-null  object \n",
      " 2   year_of_release  16444 non-null  int64  \n",
      " 3   genre            16444 non-null  object \n",
      " 4   na_sales         16444 non-null  float64\n",
      " 5   eu_sales         16444 non-null  float64\n",
      " 6   jp_sales         16444 non-null  float64\n",
      " 7   other_sales      16444 non-null  float64\n",
      " 8   critic_score     7983 non-null   float64\n",
      " 9   user_score       9839 non-null   object \n",
      " 10  rating           9768 non-null   object \n",
      "dtypes: float64(5), int64(1), object(5)\n",
      "memory usage: 1.5+ MB\n"
     ]
    }
   ],
   "source": [
    "df.info()"
   ]
  },
  {
   "cell_type": "code",
   "execution_count": 21,
   "metadata": {},
   "outputs": [],
   "source": [
    "#df['user_score']=df['user_score'].astype('float64')   "
   ]
  },
  {
   "cell_type": "markdown",
   "metadata": {},
   "source": [
    "После попытки изменить тип данных в user_score на float64 получаем сообщение, что это невозможно, т.к. данные содержат не только пропуски, но и текстовое значение 'tbd'. Проверяем что это значит: \"TBA and TBD\" mean “to be announced” and “to be determined.”  На момент выгрузки данные отсутствовали (ожидались быть полученными). Таким образом значения tbd  можно заменить на отсутствие информации "
   ]
  },
  {
   "cell_type": "code",
   "execution_count": 22,
   "metadata": {},
   "outputs": [
    {
     "data": {
      "text/plain": [
       "2376"
      ]
     },
     "execution_count": 22,
     "metadata": {},
     "output_type": "execute_result"
    }
   ],
   "source": [
    "df.loc[df['user_score'] == 'tbd', 'user_score'].count()  # смотрим количество таких записей"
   ]
  },
  {
   "cell_type": "code",
   "execution_count": 23,
   "metadata": {},
   "outputs": [
    {
     "data": {
      "text/plain": [
       "name                  0\n",
       "platform              0\n",
       "year_of_release       0\n",
       "genre                 0\n",
       "na_sales              0\n",
       "eu_sales              0\n",
       "jp_sales              0\n",
       "other_sales           0\n",
       "critic_score       8461\n",
       "user_score         8981\n",
       "rating             6676\n",
       "dtype: int64"
      ]
     },
     "execution_count": 23,
     "metadata": {},
     "output_type": "execute_result"
    }
   ],
   "source": [
    "df['user_score'] = df['user_score'].replace('tbd', np.nan)  # меняем на пустые\n",
    "df.isna().sum()"
   ]
  },
  {
   "cell_type": "code",
   "execution_count": 24,
   "metadata": {},
   "outputs": [
    {
     "data": {
      "text/plain": [
       "0"
      ]
     },
     "execution_count": 24,
     "metadata": {},
     "output_type": "execute_result"
    }
   ],
   "source": [
    "df.loc[df['user_score'] == 'tbd', 'user_score'].count()  # проверяем что таких записей больше нет"
   ]
  },
  {
   "cell_type": "code",
   "execution_count": 25,
   "metadata": {},
   "outputs": [],
   "source": [
    "df['user_score']=df['user_score'].astype('float64')  # меняем тип данных на float64"
   ]
  },
  {
   "cell_type": "code",
   "execution_count": 26,
   "metadata": {
    "scrolled": true
   },
   "outputs": [
    {
     "name": "stdout",
     "output_type": "stream",
     "text": [
      "<class 'pandas.core.frame.DataFrame'>\n",
      "Int64Index: 16444 entries, 0 to 16714\n",
      "Data columns (total 11 columns):\n",
      " #   Column           Non-Null Count  Dtype  \n",
      "---  ------           --------------  -----  \n",
      " 0   name             16444 non-null  object \n",
      " 1   platform         16444 non-null  object \n",
      " 2   year_of_release  16444 non-null  int64  \n",
      " 3   genre            16444 non-null  object \n",
      " 4   na_sales         16444 non-null  float64\n",
      " 5   eu_sales         16444 non-null  float64\n",
      " 6   jp_sales         16444 non-null  float64\n",
      " 7   other_sales      16444 non-null  float64\n",
      " 8   critic_score     7983 non-null   float64\n",
      " 9   user_score       7463 non-null   float64\n",
      " 10  rating           9768 non-null   object \n",
      "dtypes: float64(6), int64(1), object(4)\n",
      "memory usage: 1.5+ MB\n"
     ]
    }
   ],
   "source": [
    "df.info()"
   ]
  },
  {
   "cell_type": "code",
   "execution_count": 27,
   "metadata": {},
   "outputs": [
    {
     "data": {
      "text/plain": [
       "NaN     6676\n",
       "E       3921\n",
       "T       2905\n",
       "M       1536\n",
       "E10+    1393\n",
       "EC         8\n",
       "K-A        3\n",
       "RP         1\n",
       "AO         1\n",
       "Name: rating, dtype: int64"
      ]
     },
     "execution_count": 27,
     "metadata": {},
     "output_type": "execute_result"
    }
   ],
   "source": [
    "df['rating'].value_counts(dropna = False)  # смотрим какие значения содержит колонка rating "
   ]
  },
  {
   "cell_type": "markdown",
   "metadata": {},
   "source": [
    "Значения текстовые, тип объекта менять не надо. В рассматриваемых данных содержится рейтинг от организации ESRB-  подходящая возрастная категория для игры. «E» («Everyone») и \"K-A\" (\"Kids to Adults\") - идентичные рейтинги, K-A более старый. Их можно объединить. Остальные небольшие категории имеют свои уникальные значения - EC - «Early childhood», для детей от 3 лет. AO - \"Adults only\". Рейтинг RP означает «Rating Pending» - данные ожидаются, на момент выгрузки они отсутствовали - этот рейтинг можно заменить на отсутствующий."
   ]
  },
  {
   "cell_type": "code",
   "execution_count": 28,
   "metadata": {},
   "outputs": [
    {
     "data": {
      "text/plain": [
       "E       3924\n",
       "T       2905\n",
       "M       1536\n",
       "E10+    1393\n",
       "EC         8\n",
       "AO         1\n",
       "Name: rating, dtype: int64"
      ]
     },
     "execution_count": 28,
     "metadata": {},
     "output_type": "execute_result"
    }
   ],
   "source": [
    "df['rating'] = df['rating'].str.replace(\"K-A\", \"E\")\n",
    "df ['rating']= df['rating'].replace('RP', np.nan)\n",
    "df['rating'].value_counts() "
   ]
  },
  {
   "cell_type": "markdown",
   "metadata": {},
   "source": [
    "У большого количества игр рейтинг не указан, отметим это отдельно,чтобы возможно использовать в дальнейшем для анализа."
   ]
  },
  {
   "cell_type": "code",
   "execution_count": 29,
   "metadata": {},
   "outputs": [],
   "source": [
    "df['rating']=df['rating'].fillna(value='without')  # заменяем пропуски в поле rating на инфу о том, что рейтинг отсутствует"
   ]
  },
  {
   "cell_type": "markdown",
   "metadata": {},
   "source": [
    "Проверяем датасет на явные дубликаты:"
   ]
  },
  {
   "cell_type": "code",
   "execution_count": 30,
   "metadata": {},
   "outputs": [
    {
     "data": {
      "text/plain": [
       "0"
      ]
     },
     "execution_count": 30,
     "metadata": {},
     "output_type": "execute_result"
    }
   ],
   "source": [
    "df.duplicated().sum()  #  проверяем на дубликаты"
   ]
  },
  {
   "cell_type": "code",
   "execution_count": 31,
   "metadata": {},
   "outputs": [
    {
     "data": {
      "text/plain": [
       "3"
      ]
     },
     "execution_count": 31,
     "metadata": {},
     "output_type": "execute_result"
    }
   ],
   "source": [
    "# ищем неявные дубликаты по сочетанию Название и Платформа\n",
    "\n",
    "df.duplicated(subset= ['name', 'platform']).sum()"
   ]
  },
  {
   "cell_type": "code",
   "execution_count": 32,
   "metadata": {
    "scrolled": true
   },
   "outputs": [
    {
     "data": {
      "text/html": [
       "<div>\n",
       "<style scoped>\n",
       "    .dataframe tbody tr th:only-of-type {\n",
       "        vertical-align: middle;\n",
       "    }\n",
       "\n",
       "    .dataframe tbody tr th {\n",
       "        vertical-align: top;\n",
       "    }\n",
       "\n",
       "    .dataframe thead th {\n",
       "        text-align: right;\n",
       "    }\n",
       "</style>\n",
       "<table border=\"1\" class=\"dataframe\">\n",
       "  <thead>\n",
       "    <tr style=\"text-align: right;\">\n",
       "      <th></th>\n",
       "      <th>name</th>\n",
       "      <th>platform</th>\n",
       "      <th>year_of_release</th>\n",
       "      <th>genre</th>\n",
       "      <th>na_sales</th>\n",
       "      <th>eu_sales</th>\n",
       "      <th>jp_sales</th>\n",
       "      <th>other_sales</th>\n",
       "      <th>critic_score</th>\n",
       "      <th>user_score</th>\n",
       "      <th>rating</th>\n",
       "    </tr>\n",
       "  </thead>\n",
       "  <tbody>\n",
       "    <tr>\n",
       "      <th>1591</th>\n",
       "      <td>Need for Speed: Most Wanted</td>\n",
       "      <td>X360</td>\n",
       "      <td>2005</td>\n",
       "      <td>Racing</td>\n",
       "      <td>1.0</td>\n",
       "      <td>0.13</td>\n",
       "      <td>0.02</td>\n",
       "      <td>0.10</td>\n",
       "      <td>83.0</td>\n",
       "      <td>8.5</td>\n",
       "      <td>T</td>\n",
       "    </tr>\n",
       "    <tr>\n",
       "      <th>11715</th>\n",
       "      <td>Need for Speed: Most Wanted</td>\n",
       "      <td>PC</td>\n",
       "      <td>2012</td>\n",
       "      <td>Racing</td>\n",
       "      <td>0.0</td>\n",
       "      <td>0.06</td>\n",
       "      <td>0.00</td>\n",
       "      <td>0.02</td>\n",
       "      <td>82.0</td>\n",
       "      <td>8.5</td>\n",
       "      <td>T</td>\n",
       "    </tr>\n",
       "    <tr>\n",
       "      <th>16230</th>\n",
       "      <td>Madden NFL 13</td>\n",
       "      <td>PS3</td>\n",
       "      <td>2012</td>\n",
       "      <td>Sports</td>\n",
       "      <td>0.0</td>\n",
       "      <td>0.01</td>\n",
       "      <td>0.00</td>\n",
       "      <td>0.00</td>\n",
       "      <td>83.0</td>\n",
       "      <td>5.5</td>\n",
       "      <td>E</td>\n",
       "    </tr>\n",
       "  </tbody>\n",
       "</table>\n",
       "</div>"
      ],
      "text/plain": [
       "                              name platform  year_of_release   genre  \\\n",
       "1591   Need for Speed: Most Wanted     X360             2005  Racing   \n",
       "11715  Need for Speed: Most Wanted       PC             2012  Racing   \n",
       "16230                Madden NFL 13      PS3             2012  Sports   \n",
       "\n",
       "       na_sales  eu_sales  jp_sales  other_sales  critic_score  user_score  \\\n",
       "1591        1.0      0.13      0.02         0.10          83.0         8.5   \n",
       "11715       0.0      0.06      0.00         0.02          82.0         8.5   \n",
       "16230       0.0      0.01      0.00         0.00          83.0         5.5   \n",
       "\n",
       "      rating  \n",
       "1591       T  \n",
       "11715      T  \n",
       "16230      E  "
      ]
     },
     "execution_count": 32,
     "metadata": {},
     "output_type": "execute_result"
    }
   ],
   "source": [
    "# смотрим на неявные дубликаты \n",
    "\n",
    "df[df.duplicated(subset= ['name', 'platform'])]"
   ]
  },
  {
   "cell_type": "markdown",
   "metadata": {},
   "source": [
    "Неявных дубликатов всего 3 на весь датафрейм. Принимаем решение их не удалять, т.к. речь может идти о перевыпуске игры на платформе и не являться ошибкой."
   ]
  },
  {
   "cell_type": "markdown",
   "metadata": {},
   "source": [
    "В соответствии с задачами исследования создаем новый столбец данных с суммарными данными продаж во всех регионах:"
   ]
  },
  {
   "cell_type": "code",
   "execution_count": 33,
   "metadata": {},
   "outputs": [],
   "source": [
    "df['all_sales'] = df['na_sales'] +df['eu_sales'] + df['jp_sales'] + df['other_sales']"
   ]
  },
  {
   "cell_type": "markdown",
   "metadata": {},
   "source": [
    "Завершающий взгляд на уже обработанные данные, смотрим на предмет выбросов, аномалий, средних значений."
   ]
  },
  {
   "cell_type": "code",
   "execution_count": 34,
   "metadata": {
    "scrolled": true
   },
   "outputs": [
    {
     "data": {
      "text/html": [
       "<div>\n",
       "<style scoped>\n",
       "    .dataframe tbody tr th:only-of-type {\n",
       "        vertical-align: middle;\n",
       "    }\n",
       "\n",
       "    .dataframe tbody tr th {\n",
       "        vertical-align: top;\n",
       "    }\n",
       "\n",
       "    .dataframe thead th {\n",
       "        text-align: right;\n",
       "    }\n",
       "</style>\n",
       "<table border=\"1\" class=\"dataframe\">\n",
       "  <thead>\n",
       "    <tr style=\"text-align: right;\">\n",
       "      <th></th>\n",
       "      <th>year_of_release</th>\n",
       "      <th>na_sales</th>\n",
       "      <th>eu_sales</th>\n",
       "      <th>jp_sales</th>\n",
       "      <th>other_sales</th>\n",
       "      <th>critic_score</th>\n",
       "      <th>user_score</th>\n",
       "      <th>all_sales</th>\n",
       "    </tr>\n",
       "  </thead>\n",
       "  <tbody>\n",
       "    <tr>\n",
       "      <th>count</th>\n",
       "      <td>16444.000000</td>\n",
       "      <td>16444.000000</td>\n",
       "      <td>16444.000000</td>\n",
       "      <td>16444.000000</td>\n",
       "      <td>16444.000000</td>\n",
       "      <td>7983.000000</td>\n",
       "      <td>7463.000000</td>\n",
       "      <td>16444.000000</td>\n",
       "    </tr>\n",
       "    <tr>\n",
       "      <th>mean</th>\n",
       "      <td>2006.486256</td>\n",
       "      <td>0.264012</td>\n",
       "      <td>0.145930</td>\n",
       "      <td>0.078487</td>\n",
       "      <td>0.047594</td>\n",
       "      <td>68.994363</td>\n",
       "      <td>7.126330</td>\n",
       "      <td>0.536023</td>\n",
       "    </tr>\n",
       "    <tr>\n",
       "      <th>std</th>\n",
       "      <td>5.875525</td>\n",
       "      <td>0.818378</td>\n",
       "      <td>0.506716</td>\n",
       "      <td>0.311100</td>\n",
       "      <td>0.188005</td>\n",
       "      <td>13.920060</td>\n",
       "      <td>1.499447</td>\n",
       "      <td>1.558786</td>\n",
       "    </tr>\n",
       "    <tr>\n",
       "      <th>min</th>\n",
       "      <td>1980.000000</td>\n",
       "      <td>0.000000</td>\n",
       "      <td>0.000000</td>\n",
       "      <td>0.000000</td>\n",
       "      <td>0.000000</td>\n",
       "      <td>13.000000</td>\n",
       "      <td>0.000000</td>\n",
       "      <td>0.000000</td>\n",
       "    </tr>\n",
       "    <tr>\n",
       "      <th>25%</th>\n",
       "      <td>2003.000000</td>\n",
       "      <td>0.000000</td>\n",
       "      <td>0.000000</td>\n",
       "      <td>0.000000</td>\n",
       "      <td>0.000000</td>\n",
       "      <td>60.000000</td>\n",
       "      <td>6.400000</td>\n",
       "      <td>0.060000</td>\n",
       "    </tr>\n",
       "    <tr>\n",
       "      <th>50%</th>\n",
       "      <td>2007.000000</td>\n",
       "      <td>0.080000</td>\n",
       "      <td>0.020000</td>\n",
       "      <td>0.000000</td>\n",
       "      <td>0.010000</td>\n",
       "      <td>71.000000</td>\n",
       "      <td>7.500000</td>\n",
       "      <td>0.170000</td>\n",
       "    </tr>\n",
       "    <tr>\n",
       "      <th>75%</th>\n",
       "      <td>2010.000000</td>\n",
       "      <td>0.240000</td>\n",
       "      <td>0.110000</td>\n",
       "      <td>0.040000</td>\n",
       "      <td>0.030000</td>\n",
       "      <td>79.000000</td>\n",
       "      <td>8.200000</td>\n",
       "      <td>0.470000</td>\n",
       "    </tr>\n",
       "    <tr>\n",
       "      <th>max</th>\n",
       "      <td>2016.000000</td>\n",
       "      <td>41.360000</td>\n",
       "      <td>28.960000</td>\n",
       "      <td>10.220000</td>\n",
       "      <td>10.570000</td>\n",
       "      <td>98.000000</td>\n",
       "      <td>9.700000</td>\n",
       "      <td>82.540000</td>\n",
       "    </tr>\n",
       "  </tbody>\n",
       "</table>\n",
       "</div>"
      ],
      "text/plain": [
       "       year_of_release      na_sales      eu_sales      jp_sales  \\\n",
       "count     16444.000000  16444.000000  16444.000000  16444.000000   \n",
       "mean       2006.486256      0.264012      0.145930      0.078487   \n",
       "std           5.875525      0.818378      0.506716      0.311100   \n",
       "min        1980.000000      0.000000      0.000000      0.000000   \n",
       "25%        2003.000000      0.000000      0.000000      0.000000   \n",
       "50%        2007.000000      0.080000      0.020000      0.000000   \n",
       "75%        2010.000000      0.240000      0.110000      0.040000   \n",
       "max        2016.000000     41.360000     28.960000     10.220000   \n",
       "\n",
       "        other_sales  critic_score   user_score     all_sales  \n",
       "count  16444.000000   7983.000000  7463.000000  16444.000000  \n",
       "mean       0.047594     68.994363     7.126330      0.536023  \n",
       "std        0.188005     13.920060     1.499447      1.558786  \n",
       "min        0.000000     13.000000     0.000000      0.000000  \n",
       "25%        0.000000     60.000000     6.400000      0.060000  \n",
       "50%        0.010000     71.000000     7.500000      0.170000  \n",
       "75%        0.030000     79.000000     8.200000      0.470000  \n",
       "max       10.570000     98.000000     9.700000     82.540000  "
      ]
     },
     "execution_count": 34,
     "metadata": {},
     "output_type": "execute_result"
    }
   ],
   "source": [
    "df.describe()"
   ]
  },
  {
   "cell_type": "markdown",
   "metadata": {},
   "source": [
    "Наблюдаются выбросы в максимальных значениях продаж, что логично, т.к. есть игры-лидеры с большим количеством реализованных копий. Оценка критиков дается по 100-балльной оценке, пользователей - по 10-балльной. Обращает на себя внимание медиана 0 на японском рынке - посмотрим это дальше поподробнее.\n"
   ]
  },
  {
   "cell_type": "markdown",
   "metadata": {},
   "source": [
    "Вывод: первичная подготовка данных завершена. Записи с отсутствующими критичными данными удалены, остальные приведены к удобному для анализа виду. Проверка на дубликаты проведена. Добавлен новый столбец с суммарными данными продаж во всем мире."
   ]
  },
  {
   "cell_type": "markdown",
   "metadata": {},
   "source": [
    "# 2. Исследовательский анализ данных"
   ]
  },
  {
   "cell_type": "markdown",
   "metadata": {},
   "source": [
    "Задачи: проанализировать выпуск игр в историческом разрезе, выбрать платформы-лидеры и построить распределение по годам. Определить срок жизни платформы, определить актуальный период для дальнейшего прогноза на 2017 г. Определить потенциальные платформы-лидеры, построить boxplot, посмотреть корреляцию между продажами и отзывами игроков и критиков. Проанализировать популярные жанры игр."
   ]
  },
  {
   "cell_type": "markdown",
   "metadata": {},
   "source": [
    "### Игры в разрезе по годам релиза"
   ]
  },
  {
   "cell_type": "code",
   "execution_count": 35,
   "metadata": {},
   "outputs": [
    {
     "data": {
      "text/plain": [
       "year_of_release\n",
       "1980       9\n",
       "1981      46\n",
       "1982      36\n",
       "1983      17\n",
       "1984      14\n",
       "1985      14\n",
       "1986      21\n",
       "1987      16\n",
       "1988      15\n",
       "1989      17\n",
       "1990      16\n",
       "1991      41\n",
       "1992      43\n",
       "1993      60\n",
       "1994     121\n",
       "1995     219\n",
       "1996     263\n",
       "1997     289\n",
       "1998     379\n",
       "1999     338\n",
       "2000     350\n",
       "2001     482\n",
       "2002     829\n",
       "2003     775\n",
       "2004     762\n",
       "2005     939\n",
       "2006    1006\n",
       "2007    1197\n",
       "2008    1427\n",
       "2009    1426\n",
       "2010    1255\n",
       "2011    1136\n",
       "2012     653\n",
       "2013     544\n",
       "2014     581\n",
       "2015     606\n",
       "2016     502\n",
       "Name: name, dtype: int64"
      ]
     },
     "execution_count": 35,
     "metadata": {},
     "output_type": "execute_result"
    }
   ],
   "source": [
    "df.groupby('year_of_release')['name'].count()"
   ]
  },
  {
   "cell_type": "code",
   "execution_count": 36,
   "metadata": {},
   "outputs": [
    {
     "data": {
      "text/plain": [
       "16444"
      ]
     },
     "execution_count": 36,
     "metadata": {},
     "output_type": "execute_result"
    }
   ],
   "source": [
    "# смотрим сколько всего названий игр в датафрейме\n",
    "\n",
    "df['name'].count()"
   ]
  },
  {
   "cell_type": "code",
   "execution_count": 37,
   "metadata": {},
   "outputs": [
    {
     "data": {
      "text/plain": [
       "4249"
      ]
     },
     "execution_count": 37,
     "metadata": {},
     "output_type": "execute_result"
    }
   ],
   "source": [
    "# считаем только первое сочетание игра + год релиза\n",
    "\n",
    "df[df.duplicated(subset= ['name', 'year_of_release'], keep='first')]['name'].count()"
   ]
  },
  {
   "cell_type": "code",
   "execution_count": 38,
   "metadata": {},
   "outputs": [
    {
     "data": {
      "image/png": "[encoded data removed]",
      "text/plain": [
       "<Figure size 432x288 with 1 Axes>"
      ]
     },
     "metadata": {
      "needs_background": "light"
     },
     "output_type": "display_data"
    }
   ],
   "source": [
    "# рисуем аналогичный график по данным датасета без дублей на других платформах\n",
    "\n",
    "(df[~df.duplicated(subset= ['name', 'year_of_release'], keep='first')]\\\n",
    "    .groupby('year_of_release')['name'] \n",
    "    .count()  # группируем данные по количеству релизов игр по годам \n",
    "    .plot(kind = 'line', grid = True,  color = 'purple', xlabel = 'Годы игровых релизов', \\\n",
    "    ylabel = \"Количество игр\", \\\n",
    "    title = 'Количество выпущенных игр по годам')  # визуализируем линейным графиком\n",
    ")\n",
    "plt.show()\n"
   ]
  },
  {
   "cell_type": "code",
   "execution_count": 39,
   "metadata": {
    "scrolled": true
   },
   "outputs": [
    {
     "data": {
      "image/png": "[encoded data removed]",
      "text/plain": [
       "<Figure size 432x288 with 1 Axes>"
      ]
     },
     "metadata": {
      "needs_background": "light"
     },
     "output_type": "display_data"
    }
   ],
   "source": [
    "(df\n",
    "    .groupby('year_of_release')['name']  \n",
    "    .count()  # группируем данные по количеству релизов игр по годам \n",
    "    .plot(kind = 'line', grid = True,  color = 'purple', \\\n",
    "          xlabel = 'Годы игровых релизов', ylabel = \"Количество игр\", \\\n",
    "    title = 'Количество выпущенных игр по годам')  # визуализируем линейным графиком\n",
    ")\n",
    "plt.show()"
   ]
  },
  {
   "cell_type": "markdown",
   "metadata": {},
   "source": [
    "Количество уникальных игр заметно уменьшилось, но сами графики практически идентичны, исключая подписи на оси y. Судя по этому все игры выпускают на примерно одинаковом числе платформ. Основной тренд тот же - пик количества релизов в 2006-2009 гг. и последующий спад."
   ]
  },
  {
   "cell_type": "markdown",
   "metadata": {},
   "source": [
    "Явный всплеск роста выпускаемых компьютерных игр начался в 90-ые годы, с пиком популярности в нулевых - между 2005 и 2010 гг. и последующим спадом. Нас интересует прогноз на 2017 год, поэтому в столь активно изменяющейся отрасли для нас наибольший интерес представляют данные за последние 4 года максимум. Точнее определение периода можно будет сделать после полного анализа, а пока отсекаем данные ранее 1990 года - они не представляют никакого интереса, т.к. это были другие технологии и виды игр."
   ]
  },
  {
   "cell_type": "markdown",
   "metadata": {},
   "source": [
    "По оценкам экспертов именно в период после 2009 года сильно вырос уровень графических карт для ПК. Таким образом консольные игры перестали заметно выделяться за счет своей \"картинки\", а пользователь стал все чаще выбирать игры для ПК. Решением для рынка игровых платформ стала ориентация на качество вместо количества - для консолей все чаще стали выпускать \"эксклюзивные\" и \"особые\" версии игр, что должно было привлечь ценителей. Таким образом общее количество выпускаемых игр сильно сократилось."
   ]
  },
  {
   "cell_type": "code",
   "execution_count": 40,
   "metadata": {},
   "outputs": [
    {
     "name": "stdout",
     "output_type": "stream",
     "text": [
      "<class 'pandas.core.frame.DataFrame'>\n",
      "Int64Index: 16239 entries, 0 to 16714\n",
      "Data columns (total 12 columns):\n",
      " #   Column           Non-Null Count  Dtype  \n",
      "---  ------           --------------  -----  \n",
      " 0   name             16239 non-null  object \n",
      " 1   platform         16239 non-null  object \n",
      " 2   year_of_release  16239 non-null  int64  \n",
      " 3   genre            16239 non-null  object \n",
      " 4   na_sales         16239 non-null  float64\n",
      " 5   eu_sales         16239 non-null  float64\n",
      " 6   jp_sales         16239 non-null  float64\n",
      " 7   other_sales      16239 non-null  float64\n",
      " 8   critic_score     7981 non-null   float64\n",
      " 9   user_score       7461 non-null   float64\n",
      " 10  rating           16239 non-null  object \n",
      " 11  all_sales        16239 non-null  float64\n",
      "dtypes: float64(7), int64(1), object(4)\n",
      "memory usage: 1.6+ MB\n"
     ]
    }
   ],
   "source": [
    "df = df.query('year_of_release >= 1990')  # присваиваем датафрейму срез без данных раньше 1990 гг.\n",
    "df.info()  # проверяем что данные изменились не сильно"
   ]
  },
  {
   "cell_type": "markdown",
   "metadata": {},
   "source": [
    "### Платформы-лидеры"
   ]
  },
  {
   "cell_type": "markdown",
   "metadata": {},
   "source": [
    "Рассмотрим изменение продаж по платформам. Для начала определим самые успешные платформы за весь период с 1990 г.:"
   ]
  },
  {
   "cell_type": "code",
   "execution_count": 41,
   "metadata": {},
   "outputs": [
    {
     "data": {
      "text/html": [
       "<div>\n",
       "<style scoped>\n",
       "    .dataframe tbody tr th:only-of-type {\n",
       "        vertical-align: middle;\n",
       "    }\n",
       "\n",
       "    .dataframe tbody tr th {\n",
       "        vertical-align: top;\n",
       "    }\n",
       "\n",
       "    .dataframe thead th {\n",
       "        text-align: right;\n",
       "    }\n",
       "</style>\n",
       "<table border=\"1\" class=\"dataframe\">\n",
       "  <thead>\n",
       "    <tr style=\"text-align: right;\">\n",
       "      <th></th>\n",
       "      <th>all_sales</th>\n",
       "    </tr>\n",
       "    <tr>\n",
       "      <th>platform</th>\n",
       "      <th></th>\n",
       "    </tr>\n",
       "  </thead>\n",
       "  <tbody>\n",
       "    <tr>\n",
       "      <th>PS2</th>\n",
       "      <td>1233.56</td>\n",
       "    </tr>\n",
       "    <tr>\n",
       "      <th>X360</th>\n",
       "      <td>961.24</td>\n",
       "    </tr>\n",
       "    <tr>\n",
       "      <th>PS3</th>\n",
       "      <td>931.34</td>\n",
       "    </tr>\n",
       "    <tr>\n",
       "      <th>Wii</th>\n",
       "      <td>891.18</td>\n",
       "    </tr>\n",
       "    <tr>\n",
       "      <th>DS</th>\n",
       "      <td>802.76</td>\n",
       "    </tr>\n",
       "    <tr>\n",
       "      <th>PS</th>\n",
       "      <td>727.58</td>\n",
       "    </tr>\n",
       "    <tr>\n",
       "      <th>PS4</th>\n",
       "      <td>314.14</td>\n",
       "    </tr>\n",
       "    <tr>\n",
       "      <th>GBA</th>\n",
       "      <td>312.88</td>\n",
       "    </tr>\n",
       "    <tr>\n",
       "      <th>PSP</th>\n",
       "      <td>289.53</td>\n",
       "    </tr>\n",
       "    <tr>\n",
       "      <th>3DS</th>\n",
       "      <td>257.81</td>\n",
       "    </tr>\n",
       "    <tr>\n",
       "      <th>PC</th>\n",
       "      <td>255.69</td>\n",
       "    </tr>\n",
       "    <tr>\n",
       "      <th>XB</th>\n",
       "      <td>251.57</td>\n",
       "    </tr>\n",
       "    <tr>\n",
       "      <th>N64</th>\n",
       "      <td>218.01</td>\n",
       "    </tr>\n",
       "    <tr>\n",
       "      <th>SNES</th>\n",
       "      <td>200.04</td>\n",
       "    </tr>\n",
       "    <tr>\n",
       "      <th>GC</th>\n",
       "      <td>196.73</td>\n",
       "    </tr>\n",
       "    <tr>\n",
       "      <th>GB</th>\n",
       "      <td>188.03</td>\n",
       "    </tr>\n",
       "    <tr>\n",
       "      <th>XOne</th>\n",
       "      <td>159.32</td>\n",
       "    </tr>\n",
       "    <tr>\n",
       "      <th>WiiU</th>\n",
       "      <td>82.19</td>\n",
       "    </tr>\n",
       "    <tr>\n",
       "      <th>PSV</th>\n",
       "      <td>53.81</td>\n",
       "    </tr>\n",
       "    <tr>\n",
       "      <th>SAT</th>\n",
       "      <td>33.59</td>\n",
       "    </tr>\n",
       "    <tr>\n",
       "      <th>GEN</th>\n",
       "      <td>28.35</td>\n",
       "    </tr>\n",
       "    <tr>\n",
       "      <th>NES</th>\n",
       "      <td>27.54</td>\n",
       "    </tr>\n",
       "    <tr>\n",
       "      <th>DC</th>\n",
       "      <td>15.95</td>\n",
       "    </tr>\n",
       "    <tr>\n",
       "      <th>SCD</th>\n",
       "      <td>1.86</td>\n",
       "    </tr>\n",
       "    <tr>\n",
       "      <th>NG</th>\n",
       "      <td>1.44</td>\n",
       "    </tr>\n",
       "    <tr>\n",
       "      <th>WS</th>\n",
       "      <td>1.42</td>\n",
       "    </tr>\n",
       "    <tr>\n",
       "      <th>TG16</th>\n",
       "      <td>0.16</td>\n",
       "    </tr>\n",
       "    <tr>\n",
       "      <th>3DO</th>\n",
       "      <td>0.10</td>\n",
       "    </tr>\n",
       "    <tr>\n",
       "      <th>GG</th>\n",
       "      <td>0.04</td>\n",
       "    </tr>\n",
       "    <tr>\n",
       "      <th>PCFX</th>\n",
       "      <td>0.03</td>\n",
       "    </tr>\n",
       "  </tbody>\n",
       "</table>\n",
       "</div>"
      ],
      "text/plain": [
       "          all_sales\n",
       "platform           \n",
       "PS2         1233.56\n",
       "X360         961.24\n",
       "PS3          931.34\n",
       "Wii          891.18\n",
       "DS           802.76\n",
       "PS           727.58\n",
       "PS4          314.14\n",
       "GBA          312.88\n",
       "PSP          289.53\n",
       "3DS          257.81\n",
       "PC           255.69\n",
       "XB           251.57\n",
       "N64          218.01\n",
       "SNES         200.04\n",
       "GC           196.73\n",
       "GB           188.03\n",
       "XOne         159.32\n",
       "WiiU          82.19\n",
       "PSV           53.81\n",
       "SAT           33.59\n",
       "GEN           28.35\n",
       "NES           27.54\n",
       "DC            15.95\n",
       "SCD            1.86\n",
       "NG             1.44\n",
       "WS             1.42\n",
       "TG16           0.16\n",
       "3DO            0.10\n",
       "GG             0.04\n",
       "PCFX           0.03"
      ]
     },
     "execution_count": 41,
     "metadata": {},
     "output_type": "execute_result"
    }
   ],
   "source": [
    "# формируем сводную таблицу по платформам, сортируем общие продажи по убыванию\n",
    "\n",
    "df.pivot_table(index = \"platform\", values = 'all_sales', aggfunc = 'sum')\\\n",
    ".sort_values(by = 'all_sales', ascending = False)  "
   ]
  },
  {
   "cell_type": "markdown",
   "metadata": {},
   "source": [
    "PS2 заработала больше всех денег за весь период с 1990 гг, за ней X360 и PS3.Посмотрим изменились ли лидеры после 2000 года."
   ]
  },
  {
   "cell_type": "code",
   "execution_count": 42,
   "metadata": {},
   "outputs": [
    {
     "data": {
      "text/html": [
       "<div>\n",
       "<style scoped>\n",
       "    .dataframe tbody tr th:only-of-type {\n",
       "        vertical-align: middle;\n",
       "    }\n",
       "\n",
       "    .dataframe tbody tr th {\n",
       "        vertical-align: top;\n",
       "    }\n",
       "\n",
       "    .dataframe thead th {\n",
       "        text-align: right;\n",
       "    }\n",
       "</style>\n",
       "<table border=\"1\" class=\"dataframe\">\n",
       "  <thead>\n",
       "    <tr style=\"text-align: right;\">\n",
       "      <th></th>\n",
       "      <th>all_sales</th>\n",
       "    </tr>\n",
       "    <tr>\n",
       "      <th>platform</th>\n",
       "      <th></th>\n",
       "    </tr>\n",
       "  </thead>\n",
       "  <tbody>\n",
       "    <tr>\n",
       "      <th>PS2</th>\n",
       "      <td>1233.56</td>\n",
       "    </tr>\n",
       "    <tr>\n",
       "      <th>X360</th>\n",
       "      <td>961.24</td>\n",
       "    </tr>\n",
       "    <tr>\n",
       "      <th>PS3</th>\n",
       "      <td>931.34</td>\n",
       "    </tr>\n",
       "    <tr>\n",
       "      <th>Wii</th>\n",
       "      <td>891.18</td>\n",
       "    </tr>\n",
       "    <tr>\n",
       "      <th>DS</th>\n",
       "      <td>802.76</td>\n",
       "    </tr>\n",
       "    <tr>\n",
       "      <th>PS4</th>\n",
       "      <td>314.14</td>\n",
       "    </tr>\n",
       "    <tr>\n",
       "      <th>GBA</th>\n",
       "      <td>312.88</td>\n",
       "    </tr>\n",
       "    <tr>\n",
       "      <th>PSP</th>\n",
       "      <td>289.53</td>\n",
       "    </tr>\n",
       "    <tr>\n",
       "      <th>3DS</th>\n",
       "      <td>257.81</td>\n",
       "    </tr>\n",
       "    <tr>\n",
       "      <th>XB</th>\n",
       "      <td>251.57</td>\n",
       "    </tr>\n",
       "    <tr>\n",
       "      <th>PC</th>\n",
       "      <td>205.72</td>\n",
       "    </tr>\n",
       "    <tr>\n",
       "      <th>GC</th>\n",
       "      <td>196.73</td>\n",
       "    </tr>\n",
       "    <tr>\n",
       "      <th>XOne</th>\n",
       "      <td>159.32</td>\n",
       "    </tr>\n",
       "    <tr>\n",
       "      <th>PS</th>\n",
       "      <td>140.70</td>\n",
       "    </tr>\n",
       "    <tr>\n",
       "      <th>WiiU</th>\n",
       "      <td>82.19</td>\n",
       "    </tr>\n",
       "    <tr>\n",
       "      <th>PSV</th>\n",
       "      <td>53.81</td>\n",
       "    </tr>\n",
       "    <tr>\n",
       "      <th>N64</th>\n",
       "      <td>37.30</td>\n",
       "    </tr>\n",
       "    <tr>\n",
       "      <th>GB</th>\n",
       "      <td>29.00</td>\n",
       "    </tr>\n",
       "    <tr>\n",
       "      <th>DC</th>\n",
       "      <td>7.41</td>\n",
       "    </tr>\n",
       "    <tr>\n",
       "      <th>WS</th>\n",
       "      <td>0.96</td>\n",
       "    </tr>\n",
       "  </tbody>\n",
       "</table>\n",
       "</div>"
      ],
      "text/plain": [
       "          all_sales\n",
       "platform           \n",
       "PS2         1233.56\n",
       "X360         961.24\n",
       "PS3          931.34\n",
       "Wii          891.18\n",
       "DS           802.76\n",
       "PS4          314.14\n",
       "GBA          312.88\n",
       "PSP          289.53\n",
       "3DS          257.81\n",
       "XB           251.57\n",
       "PC           205.72\n",
       "GC           196.73\n",
       "XOne         159.32\n",
       "PS           140.70\n",
       "WiiU          82.19\n",
       "PSV           53.81\n",
       "N64           37.30\n",
       "GB            29.00\n",
       "DC             7.41\n",
       "WS             0.96"
      ]
     },
     "execution_count": 42,
     "metadata": {},
     "output_type": "execute_result"
    }
   ],
   "source": [
    "# формируем сводную таблицу по платформам на срезе релизов после 2000 г., сортируем общие продажи по убыванию\n",
    "df.query('year_of_release >= 2000').pivot_table(index = \"platform\", values = 'all_sales', \\\n",
    "aggfunc = 'sum').sort_values(by = 'all_sales', ascending = False)"
   ]
  },
  {
   "cell_type": "markdown",
   "metadata": {},
   "source": [
    "Список лидеров не изменилось, что логично, ведь согласно данным по количеству выпущенных компьютерных игр именно в 2000-ые (с 2006 по 2009 гг.) их выпускалось больше всего. Основные продажи тоже совершались в этот период, а не в 90ые годы.\n",
    "Однако индустрия не стоит на месте, выпускаются новые платформы, дорабатываются игры и усложняются технические характеристики. Посмотрим на платформы-лидеры, продавшие более 100 млн копий за период с 2000 года."
   ]
  },
  {
   "cell_type": "code",
   "execution_count": 43,
   "metadata": {},
   "outputs": [
    {
     "data": {
      "image/png": "[encoded data removed]",
      "text/plain": [
       "<Figure size 432x288 with 1 Axes>"
      ]
     },
     "metadata": {
      "needs_background": "light"
     },
     "output_type": "display_data"
    }
   ],
   "source": [
    "(df\n",
    "    .query('year_of_release >= 2000')\n",
    "    .pivot_table(index = \"platform\", values = 'all_sales', aggfunc = 'sum')\n",
    "    .sort_values(by = 'all_sales', ascending = False)\n",
    "    .head(13)\n",
    "    .plot(kind = 'bar', color = 'green', \\\n",
    "          title = 'Игровые платформы с суммарными продажами свыше 100 млн копий за 2000-2016 гг.', \\\n",
    "          xlabel = \"Платформы\", ylabel = \"Продажи\", legend = False)  # строим barplot \n",
    ")\n",
    "plt.show()"
   ]
  },
  {
   "cell_type": "code",
   "execution_count": 44,
   "metadata": {},
   "outputs": [],
   "source": [
    "#  выделяем в лидеры 10 платформ с продажами свыше 250 млн.\n",
    "\n",
    "top_platform = df.query('year_of_release >= 2000')\\\n",
    ".pivot_table(index = \"platform\", values = 'all_sales', aggfunc = 'sum')\\\n",
    ".sort_values(by = 'all_sales', ascending = False).head(10)  "
   ]
  },
  {
   "cell_type": "code",
   "execution_count": 45,
   "metadata": {},
   "outputs": [
    {
     "data": {
      "text/html": [
       "<div>\n",
       "<style scoped>\n",
       "    .dataframe tbody tr th:only-of-type {\n",
       "        vertical-align: middle;\n",
       "    }\n",
       "\n",
       "    .dataframe tbody tr th {\n",
       "        vertical-align: top;\n",
       "    }\n",
       "\n",
       "    .dataframe thead th {\n",
       "        text-align: right;\n",
       "    }\n",
       "</style>\n",
       "<table border=\"1\" class=\"dataframe\">\n",
       "  <thead>\n",
       "    <tr style=\"text-align: right;\">\n",
       "      <th></th>\n",
       "      <th>all_sales</th>\n",
       "    </tr>\n",
       "    <tr>\n",
       "      <th>platform</th>\n",
       "      <th></th>\n",
       "    </tr>\n",
       "  </thead>\n",
       "  <tbody>\n",
       "    <tr>\n",
       "      <th>PS2</th>\n",
       "      <td>1233.56</td>\n",
       "    </tr>\n",
       "    <tr>\n",
       "      <th>X360</th>\n",
       "      <td>961.24</td>\n",
       "    </tr>\n",
       "    <tr>\n",
       "      <th>PS3</th>\n",
       "      <td>931.34</td>\n",
       "    </tr>\n",
       "    <tr>\n",
       "      <th>Wii</th>\n",
       "      <td>891.18</td>\n",
       "    </tr>\n",
       "    <tr>\n",
       "      <th>DS</th>\n",
       "      <td>802.76</td>\n",
       "    </tr>\n",
       "    <tr>\n",
       "      <th>PS4</th>\n",
       "      <td>314.14</td>\n",
       "    </tr>\n",
       "    <tr>\n",
       "      <th>GBA</th>\n",
       "      <td>312.88</td>\n",
       "    </tr>\n",
       "    <tr>\n",
       "      <th>PSP</th>\n",
       "      <td>289.53</td>\n",
       "    </tr>\n",
       "    <tr>\n",
       "      <th>3DS</th>\n",
       "      <td>257.81</td>\n",
       "    </tr>\n",
       "    <tr>\n",
       "      <th>XB</th>\n",
       "      <td>251.57</td>\n",
       "    </tr>\n",
       "  </tbody>\n",
       "</table>\n",
       "</div>"
      ],
      "text/plain": [
       "          all_sales\n",
       "platform           \n",
       "PS2         1233.56\n",
       "X360         961.24\n",
       "PS3          931.34\n",
       "Wii          891.18\n",
       "DS           802.76\n",
       "PS4          314.14\n",
       "GBA          312.88\n",
       "PSP          289.53\n",
       "3DS          257.81\n",
       "XB           251.57"
      ]
     },
     "execution_count": 45,
     "metadata": {},
     "output_type": "execute_result"
    }
   ],
   "source": [
    "top_platform"
   ]
  },
  {
   "cell_type": "code",
   "execution_count": 46,
   "metadata": {},
   "outputs": [],
   "source": [
    "top_platform = top_platform.reset_index()  # сбрасываем индексы \n",
    "top_platform_list = top_platform['platform']  # названия платформ сохраняем в список top_platform_list"
   ]
  },
  {
   "cell_type": "markdown",
   "metadata": {},
   "source": [
    "Построим распределение по годам продаж платформ с наибольшими суммарными продажами. Индустрия не стоит на месте, платформы и игры дорабатываются, изменяются технические требования. Платформы устаревают и продажи переходят к более новым моделям. Посмотрим на графике какая приблизительная продолжительность жизненного цикла платформы. "
   ]
  },
  {
   "cell_type": "code",
   "execution_count": 47,
   "metadata": {
    "scrolled": true
   },
   "outputs": [
    {
     "data": {
      "image/png": "[encoded data removed]",
      "text/plain": [
       "<Figure size 432x288 with 1 Axes>"
      ]
     },
     "metadata": {
      "needs_background": "light"
     },
     "output_type": "display_data"
    }
   ],
   "source": [
    "df.query('platform in @top_platform_list')\\\n",
    "    .pivot_table(index = 'year_of_release', columns = 'platform', values = 'all_sales', \\\n",
    "    aggfunc = 'sum')\\\n",
    "    .plot(kind = 'line', grid = True,  xlabel = 'Годы игровых релизов', \\\n",
    "     ylabel = \"Продажи\",  title = 'Количество продаж топ-5 игровых платформ')\\\n",
    "    .legend(bbox_to_anchor=(1, 0.9), title = '', fontsize=10)\n",
    "plt.show()\n"
   ]
  },
  {
   "cell_type": "markdown",
   "metadata": {},
   "source": [
    "### Срок жизненного цикла игровой платформы"
   ]
  },
  {
   "cell_type": "markdown",
   "metadata": {},
   "source": [
    "Средний срок жизни успешной платформы - приблизительно от 6 до 10 лет. Посмотрим эти данные более детально."
   ]
  },
  {
   "cell_type": "code",
   "execution_count": 48,
   "metadata": {},
   "outputs": [
    {
     "data": {
      "text/html": [
       "<div>\n",
       "<style scoped>\n",
       "    .dataframe tbody tr th:only-of-type {\n",
       "        vertical-align: middle;\n",
       "    }\n",
       "\n",
       "    .dataframe tbody tr th {\n",
       "        vertical-align: top;\n",
       "    }\n",
       "\n",
       "    .dataframe thead th {\n",
       "        text-align: right;\n",
       "    }\n",
       "</style>\n",
       "<table border=\"1\" class=\"dataframe\">\n",
       "  <thead>\n",
       "    <tr style=\"text-align: right;\">\n",
       "      <th></th>\n",
       "      <th>count</th>\n",
       "      <th>mean</th>\n",
       "      <th>std</th>\n",
       "      <th>min</th>\n",
       "      <th>25%</th>\n",
       "      <th>50%</th>\n",
       "      <th>75%</th>\n",
       "      <th>max</th>\n",
       "    </tr>\n",
       "    <tr>\n",
       "      <th>platform</th>\n",
       "      <th></th>\n",
       "      <th></th>\n",
       "      <th></th>\n",
       "      <th></th>\n",
       "      <th></th>\n",
       "      <th></th>\n",
       "      <th></th>\n",
       "      <th></th>\n",
       "    </tr>\n",
       "  </thead>\n",
       "  <tbody>\n",
       "    <tr>\n",
       "      <th>3DS</th>\n",
       "      <td>512.0</td>\n",
       "      <td>2013.126953</td>\n",
       "      <td>1.647359</td>\n",
       "      <td>2011.0</td>\n",
       "      <td>2012.0</td>\n",
       "      <td>2013.0</td>\n",
       "      <td>2015.0</td>\n",
       "      <td>2016.0</td>\n",
       "    </tr>\n",
       "    <tr>\n",
       "      <th>DS</th>\n",
       "      <td>2120.0</td>\n",
       "      <td>2008.196226</td>\n",
       "      <td>1.706160</td>\n",
       "      <td>2004.0</td>\n",
       "      <td>2007.0</td>\n",
       "      <td>2008.0</td>\n",
       "      <td>2009.0</td>\n",
       "      <td>2013.0</td>\n",
       "    </tr>\n",
       "    <tr>\n",
       "      <th>GBA</th>\n",
       "      <td>811.0</td>\n",
       "      <td>2003.210851</td>\n",
       "      <td>1.474451</td>\n",
       "      <td>2000.0</td>\n",
       "      <td>2002.0</td>\n",
       "      <td>2003.0</td>\n",
       "      <td>2004.0</td>\n",
       "      <td>2007.0</td>\n",
       "    </tr>\n",
       "    <tr>\n",
       "      <th>PS2</th>\n",
       "      <td>2127.0</td>\n",
       "      <td>2004.583921</td>\n",
       "      <td>2.567689</td>\n",
       "      <td>2000.0</td>\n",
       "      <td>2002.0</td>\n",
       "      <td>2005.0</td>\n",
       "      <td>2007.0</td>\n",
       "      <td>2011.0</td>\n",
       "    </tr>\n",
       "    <tr>\n",
       "      <th>PS3</th>\n",
       "      <td>1306.0</td>\n",
       "      <td>2010.840735</td>\n",
       "      <td>2.459616</td>\n",
       "      <td>2006.0</td>\n",
       "      <td>2009.0</td>\n",
       "      <td>2011.0</td>\n",
       "      <td>2013.0</td>\n",
       "      <td>2016.0</td>\n",
       "    </tr>\n",
       "    <tr>\n",
       "      <th>PS4</th>\n",
       "      <td>392.0</td>\n",
       "      <td>2015.145408</td>\n",
       "      <td>0.868181</td>\n",
       "      <td>2013.0</td>\n",
       "      <td>2015.0</td>\n",
       "      <td>2015.0</td>\n",
       "      <td>2016.0</td>\n",
       "      <td>2016.0</td>\n",
       "    </tr>\n",
       "    <tr>\n",
       "      <th>PSP</th>\n",
       "      <td>1193.0</td>\n",
       "      <td>2008.731769</td>\n",
       "      <td>2.434057</td>\n",
       "      <td>2004.0</td>\n",
       "      <td>2006.0</td>\n",
       "      <td>2009.0</td>\n",
       "      <td>2011.0</td>\n",
       "      <td>2015.0</td>\n",
       "    </tr>\n",
       "    <tr>\n",
       "      <th>Wii</th>\n",
       "      <td>1286.0</td>\n",
       "      <td>2008.966563</td>\n",
       "      <td>1.542034</td>\n",
       "      <td>2006.0</td>\n",
       "      <td>2008.0</td>\n",
       "      <td>2009.0</td>\n",
       "      <td>2010.0</td>\n",
       "      <td>2016.0</td>\n",
       "    </tr>\n",
       "    <tr>\n",
       "      <th>X360</th>\n",
       "      <td>1232.0</td>\n",
       "      <td>2009.880682</td>\n",
       "      <td>2.458339</td>\n",
       "      <td>2005.0</td>\n",
       "      <td>2008.0</td>\n",
       "      <td>2010.0</td>\n",
       "      <td>2011.0</td>\n",
       "      <td>2016.0</td>\n",
       "    </tr>\n",
       "    <tr>\n",
       "      <th>XB</th>\n",
       "      <td>803.0</td>\n",
       "      <td>2003.636364</td>\n",
       "      <td>1.366603</td>\n",
       "      <td>2000.0</td>\n",
       "      <td>2003.0</td>\n",
       "      <td>2004.0</td>\n",
       "      <td>2005.0</td>\n",
       "      <td>2008.0</td>\n",
       "    </tr>\n",
       "  </tbody>\n",
       "</table>\n",
       "</div>"
      ],
      "text/plain": [
       "           count         mean       std     min     25%     50%     75%  \\\n",
       "platform                                                                  \n",
       "3DS        512.0  2013.126953  1.647359  2011.0  2012.0  2013.0  2015.0   \n",
       "DS        2120.0  2008.196226  1.706160  2004.0  2007.0  2008.0  2009.0   \n",
       "GBA        811.0  2003.210851  1.474451  2000.0  2002.0  2003.0  2004.0   \n",
       "PS2       2127.0  2004.583921  2.567689  2000.0  2002.0  2005.0  2007.0   \n",
       "PS3       1306.0  2010.840735  2.459616  2006.0  2009.0  2011.0  2013.0   \n",
       "PS4        392.0  2015.145408  0.868181  2013.0  2015.0  2015.0  2016.0   \n",
       "PSP       1193.0  2008.731769  2.434057  2004.0  2006.0  2009.0  2011.0   \n",
       "Wii       1286.0  2008.966563  1.542034  2006.0  2008.0  2009.0  2010.0   \n",
       "X360      1232.0  2009.880682  2.458339  2005.0  2008.0  2010.0  2011.0   \n",
       "XB         803.0  2003.636364  1.366603  2000.0  2003.0  2004.0  2005.0   \n",
       "\n",
       "             max  \n",
       "platform          \n",
       "3DS       2016.0  \n",
       "DS        2013.0  \n",
       "GBA       2007.0  \n",
       "PS2       2011.0  \n",
       "PS3       2016.0  \n",
       "PS4       2016.0  \n",
       "PSP       2015.0  \n",
       "Wii       2016.0  \n",
       "X360      2016.0  \n",
       "XB        2008.0  "
      ]
     },
     "execution_count": 48,
     "metadata": {},
     "output_type": "execute_result"
    }
   ],
   "source": [
    "# посмотрим распределение максимальных и минимальных значений\n",
    "\n",
    "df.query('year_of_release >= 2000 and platform in @top_platform_list')\\\n",
    ".groupby('platform')['year_of_release'].describe()  "
   ]
  },
  {
   "cell_type": "code",
   "execution_count": 49,
   "metadata": {
    "scrolled": true
   },
   "outputs": [
    {
     "data": {
      "text/plain": [
       "platform\n",
       "PS2     11\n",
       "PSP     11\n",
       "X360    11\n",
       "PS3     10\n",
       "Wii     10\n",
       "DS       9\n",
       "XB       8\n",
       "GBA      7\n",
       "3DS      5\n",
       "PS4      3\n",
       "Name: year_of_release, dtype: int64"
      ]
     },
     "execution_count": 49,
     "metadata": {},
     "output_type": "execute_result"
    }
   ],
   "source": [
    "# посмотрим сколько существовали платформы - вычитаем из max значения  min \n",
    "\n",
    "(df.query('year_of_release >= 2000 and platform in @top_platform_list')\\\n",
    " .groupby('platform')['year_of_release'].max() - \\\n",
    " df.query('year_of_release >= 2000 and platform in @top_platform_list')\\\n",
    " .groupby('platform')['year_of_release'].min())\\\n",
    ".sort_values(ascending = False)  "
   ]
  },
  {
   "cell_type": "code",
   "execution_count": 50,
   "metadata": {},
   "outputs": [
    {
     "data": {
      "text/plain": [
       "8.5"
      ]
     },
     "execution_count": 50,
     "metadata": {},
     "output_type": "execute_result"
    }
   ],
   "source": [
    "# найдем среднюю продолжительность жизни платформ - лидеров\n",
    "\n",
    "(df.query('year_of_release >= 2000 and platform in @top_platform_list')\\\n",
    " .groupby('platform')['year_of_release'].max() - \\\n",
    " df.query('year_of_release >= 2000 and platform in @top_platform_list')\\\n",
    " .groupby('platform')['year_of_release'].min())\\\n",
    ".sort_values(ascending = False).mean()  "
   ]
  },
  {
   "cell_type": "code",
   "execution_count": 51,
   "metadata": {},
   "outputs": [
    {
     "data": {
      "text/plain": [
       "9.5"
      ]
     },
     "execution_count": 51,
     "metadata": {},
     "output_type": "execute_result"
    }
   ],
   "source": [
    "# и медианную\n",
    "(df.query('year_of_release >= 2000 and platform in @top_platform_list')\\\n",
    " .groupby('platform')['year_of_release'].max() - \\\n",
    " df.query('year_of_release >= 2000 and platform in @top_platform_list')\\\n",
    " .groupby('platform')['year_of_release'].min())\\\n",
    ".sort_values(ascending = False).median() "
   ]
  },
  {
   "cell_type": "markdown",
   "metadata": {},
   "source": [
    "Говоря о продолжительности жизненного цикла популярных платформ за период с 2000 г. можно говорить о том, что они востребованы чуть менее 10 лет. Однако как видно из графика начальный и финальный этапы жизненного цикла не сопровождаются большими финансовыми успехами, поэтому если мы говорим о максимальной финансовой эффективности платформы-лидера, то можно ориентироваться на период около 6 лет."
   ]
  },
  {
   "cell_type": "markdown",
   "metadata": {},
   "source": [
    "### Определение актуального период данных для прогноза на 2017 год"
   ]
  },
  {
   "cell_type": "markdown",
   "metadata": {},
   "source": [
    "Для дальнейшего анализа данных и прогноза на 2017 год представляется эффективным рассмотреть данные за последние 4 года - с 2013 по 2016 года. Это около половины от среднего срока жизненного цикла платформ и максимальный срок, который можно использовать для прогноза на 2017 г. "
   ]
  },
  {
   "cell_type": "code",
   "execution_count": 52,
   "metadata": {},
   "outputs": [
    {
     "name": "stdout",
     "output_type": "stream",
     "text": [
      "<class 'pandas.core.frame.DataFrame'>\n",
      "Int64Index: 2233 entries, 16 to 16714\n",
      "Data columns (total 12 columns):\n",
      " #   Column           Non-Null Count  Dtype  \n",
      "---  ------           --------------  -----  \n",
      " 0   name             2233 non-null   object \n",
      " 1   platform         2233 non-null   object \n",
      " 2   year_of_release  2233 non-null   int64  \n",
      " 3   genre            2233 non-null   object \n",
      " 4   na_sales         2233 non-null   float64\n",
      " 5   eu_sales         2233 non-null   float64\n",
      " 6   jp_sales         2233 non-null   float64\n",
      " 7   other_sales      2233 non-null   float64\n",
      " 8   critic_score     991 non-null    float64\n",
      " 9   user_score       1192 non-null   float64\n",
      " 10  rating           2233 non-null   object \n",
      " 11  all_sales        2233 non-null   float64\n",
      "dtypes: float64(7), int64(1), object(4)\n",
      "memory usage: 226.8+ KB\n"
     ]
    }
   ],
   "source": [
    "df_actual = df.query('year_of_release >=2013')\n",
    "df_actual.info()"
   ]
  },
  {
   "cell_type": "markdown",
   "metadata": {},
   "source": [
    "Для анализа осталось приблизительно 14% от всей исходной базы, что неудивительно, если вспомнить, что основной пик выпуска игр пришелся на нулевые года. Для определения тенденций индустрии и прогноза на следующий год можно было бы ограничиться и 2-3 последними годами, но именно в силу небольшого объема полученного среза остановимся на 4 годах."
   ]
  },
  {
   "cell_type": "markdown",
   "metadata": {},
   "source": [
    "### Платформы-лидеры: выбор потенциально прибыльных платформ.\n"
   ]
  },
  {
   "cell_type": "code",
   "execution_count": 53,
   "metadata": {},
   "outputs": [],
   "source": [
    "# определяем платформ-лидеров по продажам за актуальный период\n",
    "\n",
    "top_platform_actual = df_actual\\\n",
    "    .pivot_table(index = \"platform\", values = 'all_sales', aggfunc = 'sum')\\\n",
    "    .sort_values(by = 'all_sales', ascending = False).head(5)   "
   ]
  },
  {
   "cell_type": "code",
   "execution_count": 54,
   "metadata": {},
   "outputs": [
    {
     "data": {
      "text/plain": [
       "0     PS4\n",
       "1     PS3\n",
       "2    XOne\n",
       "3     3DS\n",
       "4    X360\n",
       "Name: platform, dtype: object"
      ]
     },
     "execution_count": 54,
     "metadata": {},
     "output_type": "execute_result"
    }
   ],
   "source": [
    "top_platform_actual = top_platform_actual.reset_index() # сбрасываем индексы\n",
    "top_platform_actual_list = top_platform_actual['platform']  # передаем список с названиями\n",
    "top_platform_actual_list"
   ]
  },
  {
   "cell_type": "code",
   "execution_count": 55,
   "metadata": {},
   "outputs": [
    {
     "data": {
      "image/png": "[encoded data removed]",
      "text/plain": [
       "<Figure size 432x288 with 1 Axes>"
      ]
     },
     "metadata": {
      "needs_background": "light"
     },
     "output_type": "display_data"
    }
   ],
   "source": [
    "#строим график по срезу платформы в списке top_platform\n",
    "\n",
    "df_actual.query('platform in @top_platform_actual_list')\\\n",
    "    .pivot_table(index = 'year_of_release', columns = 'platform', values = 'all_sales',\\\n",
    "     aggfunc = 'sum')\\\n",
    "    .plot(kind = 'line', grid = True, xlabel = 'Годы игровых релизов', ylabel = \"Продажи\", \\\n",
    "    title = 'Количество продаж топ-5 игровых платформ, млн копий')\\\n",
    "    .legend(bbox_to_anchor=(1, 0.9), title = '', fontsize=12)\n",
    "plt.xticks([2013, 2014,2015, 2016])\n",
    "plt.show()\n"
   ]
  },
  {
   "cell_type": "markdown",
   "metadata": {},
   "source": [
    "Исходя из полученных данных за актуальных период наибольший интерес в 2017 г. для нас представляют следующие игровые платформы: Плейстешн 4 (PS4), Нинтендо 3D (3DS) и  Xbox One (X-One). Все они относятся к лидерам восьмого поколения игровых приставок, которое стартовало в 2011 г. и будет по-прежнему актуально в 2017 г. \n",
    "Если оценивать по медианному жизненному циклу платформ-лидеров, то данные приставки будут актуальны как минимум до 2019 г.  (!upd из будущего: прогноз практически оправдался, релиз игровых приставок девятого поколения был осуществлен в ноябре 2020 г.)"
   ]
  },
  {
   "cell_type": "markdown",
   "metadata": {},
   "source": [
    "### График «ящик с усами» по глобальным продажам игр в разбивке по платформам"
   ]
  },
  {
   "cell_type": "code",
   "execution_count": 56,
   "metadata": {},
   "outputs": [
    {
     "data": {
      "image/png": "[encoded data removed]",
      "text/plain": [
       "<Figure size 360x360 with 1 Axes>"
      ]
     },
     "metadata": {
      "needs_background": "light"
     },
     "output_type": "display_data"
    }
   ],
   "source": [
    "# строим boxplot с помощью библиотеки seaborn по срезу из отобранных платформ\n",
    "\n",
    "sns.catplot(data = df_actual.query('platform in [\"PS4\", \"PS3\", \"XOne\", \"3DS\", \"X360\"]'),\\\n",
    "    x = 'platform', y = 'all_sales', kind = 'box' )\\\n",
    "    .set(title = 'Boxplot суммарных продаж ТОП-5 игровых платформ', xlabel = \"Топ-5 игровых платформ\", \\\n",
    "    ylabel = \"Продажи\") \n",
    "plt.show()"
   ]
  },
  {
   "cell_type": "markdown",
   "metadata": {},
   "source": [
    "Как уже отмечалось раньше - данные содержат выбросы в силу того, что есть очень популярные игры - лидеры по продажам, чьи показатели сильно выбиваются. Введем лимит по оси y, чтобы подробнее рассмотреть медиану и квартили."
   ]
  },
  {
   "cell_type": "code",
   "execution_count": 57,
   "metadata": {},
   "outputs": [
    {
     "data": {
      "image/png": "[encoded data removed]",
      "text/plain": [
       "<Figure size 360x360 with 1 Axes>"
      ]
     },
     "metadata": {
      "needs_background": "light"
     },
     "output_type": "display_data"
    }
   ],
   "source": [
    "sns.catplot(data = df_actual.query('platform in [\"PS4\", \"PS3\", \"XOne\", \"3DS\", \"X360\"]'), \\\n",
    "    x = 'platform', y = 'all_sales', kind = 'box' )\\\n",
    "    .set(title = 'Boxplot суммарных продаж ТОП-5 игровых платформ', xlabel = \"Топ-5 игровых платформ\",\\\n",
    "    ylabel = \"Продажи\") \n",
    "\n",
    "plt.ylim(0, 1)  # вводим ограничение по оси y, чтобы поближе посмотреть на медиану\n",
    "plt.show()"
   ]
  },
  {
   "cell_type": "markdown",
   "metadata": {},
   "source": [
    "Самые высокие медианные продажи у консоли Xbox 360 (X360) - свыше 300 тыс. копий. Плейстешн 3 и 4 и Xbox One примерно около 200 тыс. копий и Нинтендо 3D - чуть больше 100 тыс. копий. "
   ]
  },
  {
   "cell_type": "markdown",
   "metadata": {},
   "source": [
    "### Влияние на продажи отзывов пользователей и критиков. "
   ]
  },
  {
   "cell_type": "markdown",
   "metadata": {},
   "source": [
    "Посмотрим на взаимосвязь продаж и оценок критиков и пользователей на примере одной из 3 наших потенциально выгодных платформ - PS4"
   ]
  },
  {
   "cell_type": "code",
   "execution_count": 58,
   "metadata": {},
   "outputs": [
    {
     "data": {
      "text/html": [
       "<div>\n",
       "<style scoped>\n",
       "    .dataframe tbody tr th:only-of-type {\n",
       "        vertical-align: middle;\n",
       "    }\n",
       "\n",
       "    .dataframe tbody tr th {\n",
       "        vertical-align: top;\n",
       "    }\n",
       "\n",
       "    .dataframe thead th {\n",
       "        text-align: right;\n",
       "    }\n",
       "</style>\n",
       "<table border=\"1\" class=\"dataframe\">\n",
       "  <thead>\n",
       "    <tr style=\"text-align: right;\">\n",
       "      <th></th>\n",
       "      <th></th>\n",
       "      <th></th>\n",
       "      <th>all_sales</th>\n",
       "    </tr>\n",
       "    <tr>\n",
       "      <th>name</th>\n",
       "      <th>critic_score</th>\n",
       "      <th>user_score</th>\n",
       "      <th></th>\n",
       "    </tr>\n",
       "  </thead>\n",
       "  <tbody>\n",
       "    <tr>\n",
       "      <th>Grand Theft Auto V</th>\n",
       "      <th>97.0</th>\n",
       "      <th>8.3</th>\n",
       "      <td>12.62</td>\n",
       "    </tr>\n",
       "    <tr>\n",
       "      <th>FIFA 16</th>\n",
       "      <th>82.0</th>\n",
       "      <th>4.3</th>\n",
       "      <td>8.58</td>\n",
       "    </tr>\n",
       "    <tr>\n",
       "      <th>Call of Duty: Advanced Warfare</th>\n",
       "      <th>83.0</th>\n",
       "      <th>5.7</th>\n",
       "      <td>7.66</td>\n",
       "    </tr>\n",
       "    <tr>\n",
       "      <th>FIFA 17</th>\n",
       "      <th>85.0</th>\n",
       "      <th>5.0</th>\n",
       "      <td>7.60</td>\n",
       "    </tr>\n",
       "    <tr>\n",
       "      <th>Fallout 4</th>\n",
       "      <th>87.0</th>\n",
       "      <th>6.5</th>\n",
       "      <td>7.17</td>\n",
       "    </tr>\n",
       "  </tbody>\n",
       "</table>\n",
       "</div>"
      ],
      "text/plain": [
       "                                                        all_sales\n",
       "name                           critic_score user_score           \n",
       "Grand Theft Auto V             97.0         8.3             12.62\n",
       "FIFA 16                        82.0         4.3              8.58\n",
       "Call of Duty: Advanced Warfare 83.0         5.7              7.66\n",
       "FIFA 17                        85.0         5.0              7.60\n",
       "Fallout 4                      87.0         6.5              7.17"
      ]
     },
     "execution_count": 58,
     "metadata": {},
     "output_type": "execute_result"
    }
   ],
   "source": [
    "# формируем сводную таблицу по названию игры, оценки критиков, оценки игроков. \n",
    "# сортируем по продажам и смотрим первые 5 строк\n",
    "\n",
    "(df_actual\n",
    "    .query('platform == \"PS4\"')  # делаем срез по платформе PS4\n",
    "    .pivot_table(index = ['name','critic_score','user_score'], values = 'all_sales', aggfunc = 'sum')\n",
    "    .sort_values(by = 'all_sales', ascending = False)\n",
    "    .head()  \n",
    ")"
   ]
  },
  {
   "cell_type": "code",
   "execution_count": 59,
   "metadata": {},
   "outputs": [
    {
     "data": {
      "text/html": [
       "<div>\n",
       "<style scoped>\n",
       "    .dataframe tbody tr th:only-of-type {\n",
       "        vertical-align: middle;\n",
       "    }\n",
       "\n",
       "    .dataframe tbody tr th {\n",
       "        vertical-align: top;\n",
       "    }\n",
       "\n",
       "    .dataframe thead th {\n",
       "        text-align: right;\n",
       "    }\n",
       "</style>\n",
       "<table border=\"1\" class=\"dataframe\">\n",
       "  <thead>\n",
       "    <tr style=\"text-align: right;\">\n",
       "      <th></th>\n",
       "      <th></th>\n",
       "      <th></th>\n",
       "      <th>all_sales</th>\n",
       "    </tr>\n",
       "    <tr>\n",
       "      <th>name</th>\n",
       "      <th>critic_score</th>\n",
       "      <th>user_score</th>\n",
       "      <th></th>\n",
       "    </tr>\n",
       "  </thead>\n",
       "  <tbody>\n",
       "    <tr>\n",
       "      <th>Sherlock Holmes: The Devil's Daughter</th>\n",
       "      <th>70.0</th>\n",
       "      <th>6.8</th>\n",
       "      <td>0.01</td>\n",
       "    </tr>\n",
       "    <tr>\n",
       "      <th>Dungeons 2</th>\n",
       "      <th>61.0</th>\n",
       "      <th>7.9</th>\n",
       "      <td>0.01</td>\n",
       "    </tr>\n",
       "    <tr>\n",
       "      <th>Super Dungeon Bros</th>\n",
       "      <th>42.0</th>\n",
       "      <th>2.3</th>\n",
       "      <td>0.01</td>\n",
       "    </tr>\n",
       "    <tr>\n",
       "      <th>Super Stardust Ultra VR</th>\n",
       "      <th>66.0</th>\n",
       "      <th>6.2</th>\n",
       "      <td>0.01</td>\n",
       "    </tr>\n",
       "    <tr>\n",
       "      <th>Mark McMorris Infinite Air</th>\n",
       "      <th>49.0</th>\n",
       "      <th>6.0</th>\n",
       "      <td>0.01</td>\n",
       "    </tr>\n",
       "  </tbody>\n",
       "</table>\n",
       "</div>"
      ],
      "text/plain": [
       "                                                               all_sales\n",
       "name                                  critic_score user_score           \n",
       "Sherlock Holmes: The Devil's Daughter 70.0         6.8              0.01\n",
       "Dungeons 2                            61.0         7.9              0.01\n",
       "Super Dungeon Bros                    42.0         2.3              0.01\n",
       "Super Stardust Ultra VR               66.0         6.2              0.01\n",
       "Mark McMorris Infinite Air            49.0         6.0              0.01"
      ]
     },
     "execution_count": 59,
     "metadata": {},
     "output_type": "execute_result"
    }
   ],
   "source": [
    "# формируем сводную таблицу по названию игры, оценки критиков, оценки игроков. Смотрим последние 5 строк\n",
    "\n",
    "(df_actual\n",
    "    .query('platform == \"PS4\"')  # делаем срез по платформе PS4\n",
    "    .pivot_table(index = ['name','critic_score','user_score'], values = 'all_sales', aggfunc = 'sum')\n",
    "    .sort_values(by = 'all_sales', ascending = False)\n",
    "    .tail()     \n",
    ") "
   ]
  },
  {
   "cell_type": "markdown",
   "metadata": {},
   "source": [
    "Высокие оценки есть как у популярных игр, так и совсем нет, как и низкие. Рассмотрим корреляции продаж и критики более детально: с помощью диаграммы рассеяния и расчетом кореляции:"
   ]
  },
  {
   "cell_type": "code",
   "execution_count": 60,
   "metadata": {},
   "outputs": [
    {
     "data": {
      "image/png": "[encoded data removed]",
      "text/plain": [
       "<Figure size 432x288 with 1 Axes>"
      ]
     },
     "metadata": {
      "needs_background": "light"
     },
     "output_type": "display_data"
    },
    {
     "name": "stdout",
     "output_type": "stream",
     "text": [
      "Корреляция между оценками критиков и продажами платформы PS4:\n"
     ]
    },
    {
     "data": {
      "text/plain": [
       "0.406567902061781"
      ]
     },
     "execution_count": 60,
     "metadata": {},
     "output_type": "execute_result"
    }
   ],
   "source": [
    "# рисуем диаграмму рассеяния\n",
    "\n",
    "df_actual.query('platform == \"PS4\"').plot(x='critic_score', y='all_sales', kind='scatter', \\\n",
    "alpha= 0.5, title = \"Влияние оценок критиков на продажи платформы PS4\", xlabel = 'Оценка критиков', \\\n",
    "ylabel = 'Продажи' )\n",
    "plt.show()\n",
    "# и рассчитываем корреляцию между оценками критиков и продажами\n",
    "print('Корреляция между оценками критиков и продажами платформы PS4:')  \n",
    "df_actual.query('platform == \"PS4\"')['all_sales'].corr(df_actual.query('platform == \"PS4\"')\\\n",
    "['critic_score'])"
   ]
  },
  {
   "cell_type": "markdown",
   "metadata": {},
   "source": [
    "Взаимосвязь продаж и оценок критиков наблюдается незначительная: 0,4. По диаграмме видно что в целом есть тенденция бОльших продаж у тех игр, которые набрали хотя бы 50-60 баллов у критиков."
   ]
  },
  {
   "cell_type": "code",
   "execution_count": 61,
   "metadata": {},
   "outputs": [
    {
     "data": {
      "image/png": "[encoded data removed]",
      "text/plain": [
       "<Figure size 432x288 with 1 Axes>"
      ]
     },
     "metadata": {
      "needs_background": "light"
     },
     "output_type": "display_data"
    },
    {
     "name": "stdout",
     "output_type": "stream",
     "text": [
      "Корреляция между оценками игроков и продажами платформы PS4:\n"
     ]
    },
    {
     "data": {
      "text/plain": [
       "-0.031957110204556376"
      ]
     },
     "execution_count": 61,
     "metadata": {},
     "output_type": "execute_result"
    }
   ],
   "source": [
    "# рисуем диаграмму рассеяния между продажами и оценками игроков\n",
    "\n",
    "df_actual.query('platform == \"PS4\"').plot(x='user_score', y='all_sales', kind='scatter', \\\n",
    "alpha= 0.5, title = \"Влияние оценок игроков на продажи\", xlabel = 'Оценка игроков', ylabel = 'Продажи')\n",
    "plt.show()  \n",
    "\n",
    "# и считаем корреляцию\n",
    "\n",
    "print('Корреляция между оценками игроков и продажами платформы PS4:')  \n",
    "df_actual.query('platform == \"PS4\"')['all_sales']\\\n",
    ".corr(df_actual.query('platform == \"PS4\"')['user_score'])"
   ]
  },
  {
   "cell_type": "markdown",
   "metadata": {},
   "source": [
    "Корреляция отсутствует,даже наблюдается минимальное отклонение в отрицательные значения. Рейтинг игр среди пользователей корреляции с продажами не имеет."
   ]
  },
  {
   "cell_type": "markdown",
   "metadata": {},
   "source": [
    "Cоотнесем выводы с продажами игр на других платформам - возьмем оставшие 2 из наших трех, определенных ранее как перспективные. "
   ]
  },
  {
   "cell_type": "markdown",
   "metadata": {},
   "source": [
    "Взаимосвязь оценок игроков и продаж:"
   ]
  },
  {
   "cell_type": "code",
   "execution_count": 62,
   "metadata": {},
   "outputs": [
    {
     "data": {
      "image/png": "[encoded data removed]",
      "text/plain": [
       "<Figure size 360x216 with 1 Axes>"
      ]
     },
     "metadata": {
      "needs_background": "light"
     },
     "output_type": "display_data"
    },
    {
     "name": "stdout",
     "output_type": "stream",
     "text": [
      "Корреляция между оценками игроков и продажами платформы XOne -0.06892505328279412\n"
     ]
    },
    {
     "data": {
      "image/png": "[encoded data removed]",
      "text/plain": [
       "<Figure size 360x216 with 1 Axes>"
      ]
     },
     "metadata": {
      "needs_background": "light"
     },
     "output_type": "display_data"
    },
    {
     "name": "stdout",
     "output_type": "stream",
     "text": [
      "Корреляция между оценками игроков и продажами платформы 3DS 0.24150411773563016\n"
     ]
    }
   ],
   "source": [
    "for platform in [\"XOne\", \"3DS\"]:  #  запускаем цикл для перебора названия платформ\n",
    "    score = df_actual.query('platform == @platform')  # заносим срез массива по платформе в переменную\n",
    "    \n",
    "    # рисуем диаграмму и рассчитываем корреляцию:\n",
    "    \n",
    "    score.plot(x='user_score', y='all_sales', kind='scatter', alpha= 0.5, figsize=(5,3), \\\n",
    "    title = \"Влияние оценок игроков на продажи платформы \"+ platform, xlabel = 'Оценка игроков', \\\n",
    "    ylabel = 'Продажи'  )\n",
    "    plt.show()\n",
    "    print('Корреляция между оценками игроков и продажами платформы', platform, \\\n",
    "    score['all_sales'].corr(score['user_score']))\n"
   ]
  },
  {
   "cell_type": "markdown",
   "metadata": {},
   "source": [
    "Явно выраженные корреляции отсутствуют, по диаграммам размаха видно что чуть чаще покупаются игры с оценками выше хотя бы 5-6 баллов. "
   ]
  },
  {
   "cell_type": "markdown",
   "metadata": {},
   "source": [
    "Рассмотрим взаимосвязь оценок критиков и продаж:"
   ]
  },
  {
   "cell_type": "code",
   "execution_count": 63,
   "metadata": {},
   "outputs": [
    {
     "data": {
      "image/png": "[encoded data removed]",
      "text/plain": [
       "<Figure size 360x216 with 1 Axes>"
      ]
     },
     "metadata": {
      "needs_background": "light"
     },
     "output_type": "display_data"
    },
    {
     "name": "stdout",
     "output_type": "stream",
     "text": [
      "Корреляция между оценками критиков и продажами платформы XOne 0.41699832800840175\n"
     ]
    },
    {
     "data": {
      "image/png": "[encoded data removed]",
      "text/plain": [
       "<Figure size 360x216 with 1 Axes>"
      ]
     },
     "metadata": {
      "needs_background": "light"
     },
     "output_type": "display_data"
    },
    {
     "name": "stdout",
     "output_type": "stream",
     "text": [
      "Корреляция между оценками критиков и продажами платформы 3DS 0.35705661422881035\n"
     ]
    }
   ],
   "source": [
    "for platform in [\"XOne\", \"3DS\"]: # повторно запускаем цикл - теперь для оценок критиков\n",
    "    score = df_actual.query('platform == @platform')\n",
    "    score.plot(x='critic_score', y='all_sales', kind='scatter', alpha= 0.5, figsize=(5,3), \\\n",
    "    title = \"Влияние оценок критиков на продажи платформы \"+ platform, xlabel = 'Оценка критиков', \\\n",
    "    ylabel = 'Продажи'  )\n",
    "    plt.show()\n",
    "    print('Корреляция между оценками критиков и продажами платформы', platform, \\\n",
    "    score['all_sales'].corr(score['critic_score']))"
   ]
  },
  {
   "cell_type": "markdown",
   "metadata": {},
   "source": [
    "Небольшая кореляция с оценками критиков присутствует, однако она слишком незначительна для значимых выводов. Игры с оценкой выше 50-60 баллов покупаются чаще."
   ]
  },
  {
   "cell_type": "markdown",
   "metadata": {},
   "source": [
    "### Общее распределение игр по жанрам. \n"
   ]
  },
  {
   "cell_type": "code",
   "execution_count": 64,
   "metadata": {},
   "outputs": [
    {
     "data": {
      "text/html": [
       "<div>\n",
       "<style scoped>\n",
       "    .dataframe tbody tr th:only-of-type {\n",
       "        vertical-align: middle;\n",
       "    }\n",
       "\n",
       "    .dataframe tbody tr th {\n",
       "        vertical-align: top;\n",
       "    }\n",
       "\n",
       "    .dataframe thead th {\n",
       "        text-align: right;\n",
       "    }\n",
       "</style>\n",
       "<table border=\"1\" class=\"dataframe\">\n",
       "  <thead>\n",
       "    <tr style=\"text-align: right;\">\n",
       "      <th></th>\n",
       "      <th>genre</th>\n",
       "      <th>median_sales</th>\n",
       "    </tr>\n",
       "  </thead>\n",
       "  <tbody>\n",
       "    <tr>\n",
       "      <th>0</th>\n",
       "      <td>Shooter</td>\n",
       "      <td>0.450</td>\n",
       "    </tr>\n",
       "    <tr>\n",
       "      <th>1</th>\n",
       "      <td>Sports</td>\n",
       "      <td>0.240</td>\n",
       "    </tr>\n",
       "    <tr>\n",
       "      <th>2</th>\n",
       "      <td>Platform</td>\n",
       "      <td>0.225</td>\n",
       "    </tr>\n",
       "    <tr>\n",
       "      <th>3</th>\n",
       "      <td>Role-Playing</td>\n",
       "      <td>0.125</td>\n",
       "    </tr>\n",
       "    <tr>\n",
       "      <th>4</th>\n",
       "      <td>Fighting</td>\n",
       "      <td>0.125</td>\n",
       "    </tr>\n",
       "    <tr>\n",
       "      <th>5</th>\n",
       "      <td>Racing</td>\n",
       "      <td>0.120</td>\n",
       "    </tr>\n",
       "    <tr>\n",
       "      <th>6</th>\n",
       "      <td>Action</td>\n",
       "      <td>0.110</td>\n",
       "    </tr>\n",
       "    <tr>\n",
       "      <th>7</th>\n",
       "      <td>Simulation</td>\n",
       "      <td>0.100</td>\n",
       "    </tr>\n",
       "    <tr>\n",
       "      <th>8</th>\n",
       "      <td>Misc</td>\n",
       "      <td>0.100</td>\n",
       "    </tr>\n",
       "    <tr>\n",
       "      <th>9</th>\n",
       "      <td>Strategy</td>\n",
       "      <td>0.080</td>\n",
       "    </tr>\n",
       "    <tr>\n",
       "      <th>10</th>\n",
       "      <td>Puzzle</td>\n",
       "      <td>0.060</td>\n",
       "    </tr>\n",
       "    <tr>\n",
       "      <th>11</th>\n",
       "      <td>Adventure</td>\n",
       "      <td>0.030</td>\n",
       "    </tr>\n",
       "  </tbody>\n",
       "</table>\n",
       "</div>"
      ],
      "text/plain": [
       "           genre  median_sales\n",
       "0        Shooter         0.450\n",
       "1         Sports         0.240\n",
       "2       Platform         0.225\n",
       "3   Role-Playing         0.125\n",
       "4       Fighting         0.125\n",
       "5         Racing         0.120\n",
       "6         Action         0.110\n",
       "7     Simulation         0.100\n",
       "8           Misc         0.100\n",
       "9       Strategy         0.080\n",
       "10        Puzzle         0.060\n",
       "11     Adventure         0.030"
      ]
     },
     "execution_count": 64,
     "metadata": {},
     "output_type": "execute_result"
    }
   ],
   "source": [
    "# формируем сводную таблицу по жанру и считаем медианные продажи, сортируя по убыванию\n",
    "\n",
    "top_genre = df_actual.pivot_table(index = 'genre', values = 'all_sales', aggfunc = 'median')\\\n",
    ".sort_values(by= 'all_sales', ascending = False)\n",
    "top_genre = top_genre.reset_index()  # сбрасываем индексы\n",
    "top_genre.columns=['genre', 'median_sales'] # переименовываем столбцы для наглядности данных\n",
    "top_genre"
   ]
  },
  {
   "cell_type": "code",
   "execution_count": 65,
   "metadata": {},
   "outputs": [
    {
     "data": {
      "image/png": "[encoded data removed]",
      "text/plain": [
       "<Figure size 432x288 with 1 Axes>"
      ]
     },
     "metadata": {
      "needs_background": "light"
     },
     "output_type": "display_data"
    }
   ],
   "source": [
    "# строим график\n",
    "\n",
    "sns.barplot(data=top_genre, x = 'genre', y= 'median_sales')\\\n",
    ".set(title = 'Жанры по величине медианных продаж игр', xlabel = 'Жанры игр', ylabel = \"Медиана продаж\" )\n",
    "plt.xticks(rotation = 45) # поворачиваем подписи по оси X для удобного прочтения графика\n",
    "plt.show()"
   ]
  },
  {
   "cell_type": "markdown",
   "metadata": {},
   "source": [
    "Несмотря на то, что самое большое количество игр выпускается в жанре Action, самые высокие медианные продажи (с большим отрывом) наблюдаются в жанре Shooter. Среди лидеров в жанрах также Sports и Platform (подвид Action games, основной акцент игры на перемещения персонажа игрока между заданными точками).\n",
    "    \n",
    "Самые непопулярные жанры - пазллы и Adventure.\n",
    "\n"
   ]
  },
  {
   "cell_type": "markdown",
   "metadata": {},
   "source": [
    "Вывод: исследовательский анализ данных позволил определить актуальный период для прогноза на 2017 г. как 2013-2016 гг., также выбраны 3 потенциальные платформы-лидера для 2017 года: Плестейшин 4, Xbox One и Нинтендо 3D. Определена небольшая положительная корреляция между оценками критиков и продажами, незначительная отрицательная - между оценками игроков и продажами. Выделены самые покупаемые жанры компьютерных игр: Shooter, Sports и Platform, и наименее востребованные - паззлы и Adventure."
   ]
  },
  {
   "cell_type": "markdown",
   "metadata": {},
   "source": [
    "# 3. Портрет пользователя крупнейших регионов"
   ]
  },
  {
   "cell_type": "markdown",
   "metadata": {},
   "source": [
    "Задачи: определить портрет пользователя каждого представленного региона в разрезе предпочитаемых плаформ, жанров и рейтингов. Сравнить их между собой."
   ]
  },
  {
   "cell_type": "markdown",
   "metadata": {},
   "source": [
    "### Пользователи в Японии: основные характеристики"
   ]
  },
  {
   "cell_type": "code",
   "execution_count": 66,
   "metadata": {},
   "outputs": [
    {
     "data": {
      "text/plain": [
       "140.78000000000003"
      ]
     },
     "execution_count": 66,
     "metadata": {},
     "output_type": "execute_result"
    }
   ],
   "source": [
    "df_actual['jp_sales'].sum()  # считаем общий объем продаж копий игр на рынке Японии"
   ]
  },
  {
   "cell_type": "code",
   "execution_count": 67,
   "metadata": {
    "scrolled": true
   },
   "outputs": [
    {
     "data": {
      "text/plain": [
       "0.01"
      ]
     },
     "execution_count": 67,
     "metadata": {},
     "output_type": "execute_result"
    }
   ],
   "source": [
    "df_actual['jp_sales'].median() # и медианное значение"
   ]
  },
  {
   "cell_type": "markdown",
   "metadata": {},
   "source": [
    "Смотрим на общий рынок Японии - он не очень объемный, 140 млн копий. Проверяем медианное значение, которое привлекло внимание при первичной обработке данных - 10000 проданных копий. Отсортируем продажи по платформам, жанрам и рейтингам и посмотрим как они распределяются. "
   ]
  },
  {
   "cell_type": "code",
   "execution_count": 68,
   "metadata": {},
   "outputs": [
    {
     "data": {
      "image/png": "[encoded data removed]",
      "text/plain": [
       "<Figure size 432x288 with 1 Axes>"
      ]
     },
     "metadata": {},
     "output_type": "display_data"
    },
    {
     "data": {
      "image/png": "[encoded data removed]",
      "text/plain": [
       "<Figure size 432x288 with 1 Axes>"
      ]
     },
     "metadata": {},
     "output_type": "display_data"
    },
    {
     "data": {
      "image/png": "[encoded data removed]",
      "text/plain": [
       "<Figure size 432x288 with 1 Axes>"
      ]
     },
     "metadata": {},
     "output_type": "display_data"
    }
   ],
   "source": [
    "for i in ['platform', 'genre', 'rating']: # создаем цикл, который перибирает интересующие нас виды данных\n",
    "    \n",
    "    # группируем данные по региону, считаем общие продажи:\n",
    "    jp_data = df_actual[df_actual['jp_sales'] > 0].groupby(i).agg({'jp_sales':'sum'})  \n",
    "     # рассчитываем процентное соотношение продаж:\n",
    "    jp_data['sales_proportion'] = jp_data['jp_sales']/df_actual['jp_sales'].sum()*100 \n",
    "    jp_data = jp_data.sort_values(by = 'sales_proportion', ascending = False)  # сортируем\n",
    "    jp_data.query('sales_proportion>0.5').plot(kind = 'pie', y = 'sales_proportion', \\\n",
    "    title = \"Япония, продажи в разрезе: \"+ i, \\\n",
    "    ylabel = '', legend = False, autopct='%1.1f%%', pctdistance=0.9, fontsize = 8)  # рисуем график \n",
    "plt.show()"
   ]
  },
  {
   "cell_type": "markdown",
   "metadata": {},
   "source": [
    "Портрет пользователя из Японии: почти в половине случаев использует приставку Нинтендо 3D, либо Плейстешн разных версий. Играет чаще всего в role-playing (36%) или Action (29%) игры. Самые популярные рейтинги - T (подростки старше 13 лет), E (без ограничений) и M (mature - для взрослых), однако эти данные сложно назвать полными, т.к. у 60% игр рейтинг отсутствует."
   ]
  },
  {
   "cell_type": "markdown",
   "metadata": {},
   "source": [
    "### Пользователи в Северной Америке: основные характеристики"
   ]
  },
  {
   "cell_type": "code",
   "execution_count": 69,
   "metadata": {},
   "outputs": [
    {
     "data": {
      "text/plain": [
       "437.71"
      ]
     },
     "execution_count": 69,
     "metadata": {},
     "output_type": "execute_result"
    }
   ],
   "source": [
    "df_actual['na_sales'].sum()"
   ]
  },
  {
   "cell_type": "markdown",
   "metadata": {},
   "source": [
    "Самый большой рынок продаж: почти в три раза превышает японский."
   ]
  },
  {
   "cell_type": "code",
   "execution_count": 70,
   "metadata": {},
   "outputs": [
    {
     "data": {
      "image/png": "[encoded data removed]",
      "text/plain": [
       "<Figure size 432x288 with 1 Axes>"
      ]
     },
     "metadata": {},
     "output_type": "display_data"
    },
    {
     "data": {
      "image/png": "[encoded data removed]",
      "text/plain": [
       "<Figure size 432x288 with 1 Axes>"
      ]
     },
     "metadata": {},
     "output_type": "display_data"
    },
    {
     "data": {
      "image/png": "[encoded data removed]",
      "text/plain": [
       "<Figure size 432x288 with 1 Axes>"
      ]
     },
     "metadata": {},
     "output_type": "display_data"
    }
   ],
   "source": [
    "for i in ['platform', 'genre', 'rating']: # создаем цикл, который перибирает интересующие нас виды данных\n",
    "    na_data = df_actual[df_actual['na_sales'] > 0].groupby(i).agg({'na_sales':'sum'})  \n",
    "    # группируем данные по региону, считаем общие продажи\n",
    "    na_data['sales_proportion'] = na_data['na_sales']/df_actual['na_sales'].sum()*100  \n",
    "    # рассчитываем процентное соотношение продаж\n",
    "    na_data = na_data.sort_values(by = 'sales_proportion', ascending = False)  # сортируем\n",
    "    na_data.query('sales_proportion>0.5').plot(kind = 'pie', y = 'sales_proportion', \\\n",
    "    title = \"Северная Америка, продажи в разрезе: \"+ i, \\\n",
    "    ylabel = '', legend = False, autopct='%1.1f%%', pctdistance=0.9, fontsize = 8)  # рисуем график \n",
    "plt.show()"
   ]
  },
  {
   "cell_type": "markdown",
   "metadata": {},
   "source": [
    "Портрет пользователя из Северной Америки: нет явных предпочтений по приставкам, чаще всего играет в Плейстейнш 4, Xbox One и 360. Чаще предпочитает жанры Action, Shooter и Sports. Почти половина всех проданных копий содержит рейтинг M (\"для взрослых\"). "
   ]
  },
  {
   "cell_type": "markdown",
   "metadata": {},
   "source": [
    "### Пользователи в Европе: основные характеристики"
   ]
  },
  {
   "cell_type": "code",
   "execution_count": 71,
   "metadata": {
    "scrolled": true
   },
   "outputs": [
    {
     "data": {
      "text/plain": [
       "392.23"
      ]
     },
     "execution_count": 71,
     "metadata": {},
     "output_type": "execute_result"
    }
   ],
   "source": [
    "df_actual['eu_sales'].sum()"
   ]
  },
  {
   "cell_type": "markdown",
   "metadata": {},
   "source": [
    "Почти 400 млн копий - меньше Северной Америки, но меньше чем на 100 млн. копий."
   ]
  },
  {
   "cell_type": "code",
   "execution_count": 72,
   "metadata": {},
   "outputs": [
    {
     "data": {
      "image/png": "[encoded data removed]",
      "text/plain": [
       "<Figure size 432x288 with 1 Axes>"
      ]
     },
     "metadata": {},
     "output_type": "display_data"
    },
    {
     "data": {
      "image/png": "[encoded data removed]",
      "text/plain": [
       "<Figure size 432x288 with 1 Axes>"
      ]
     },
     "metadata": {},
     "output_type": "display_data"
    },
    {
     "data": {
      "image/png": "[encoded data removed]",
      "text/plain": [
       "<Figure size 432x288 with 1 Axes>"
      ]
     },
     "metadata": {},
     "output_type": "display_data"
    }
   ],
   "source": [
    "for i in ['platform', 'genre', 'rating']: # создаем цикл, который перибирает интересующие нас виды данных\n",
    "    eu_data = df_actual[df_actual['eu_sales'] > 0].groupby(i).agg({'eu_sales':'sum'})  \n",
    "    # группируем данные по региону, считаем общие продажи:\n",
    "    eu_data['sales_proportion'] = eu_data['eu_sales']/df_actual['eu_sales'].sum()*100  \n",
    "    # рассчитываем процентное соотношение продаж:\n",
    "    eu_data = eu_data.sort_values(by = 'sales_proportion', ascending = False)  # сортируем\n",
    "    eu_data.query('sales_proportion>0.5').plot(kind = 'pie', y = 'sales_proportion', \\\n",
    "    title = \"Европа, продажи в разрезе: \"+ i, \\\n",
    "    ylabel = '', legend = False, autopct='%1.1f%%', pctdistance=0.9, fontsize = 8)  # рисуем график \n",
    "plt.show()"
   ]
  },
  {
   "cell_type": "markdown",
   "metadata": {},
   "source": [
    "Портрет пользователя из Европы: в половине случаев играет на консоли Плейстейшн (4, реже 3). Из жанров выбирает Action, Shooter и Sports. Чуть больше чем в трети случаев выбирает игры с рейтингом M - для взрослых, в 21№  - игры без возрастных ограничений,кроме того у 20% игр рейтинг не определен."
   ]
  },
  {
   "cell_type": "markdown",
   "metadata": {},
   "source": [
    "Вывод: предпочтения на японском рынке заметно отличаются от Северной Америки и Европы.  В Японии лидирует Нинтендо 3D, в Европе и Северной Америке – Плейстешн 4. В Америке и Европе предпочитают жанры action, shooting и sport, в Японии лидер role-playing.\n",
    "\n",
    "Рейтинг ESRB по регионам: лучше всего заполняется в Северной Америке, т.к. разработан именно для этого региона. У 60% проанализированных игр на японском рынке он отсутствует. Из заполненных рейтингов наиболее популярны игры с рейтингом M («для взрослых») и игры без возрастных ограничений"
   ]
  },
  {
   "cell_type": "markdown",
   "metadata": {},
   "source": [
    "# 4. Гипотезы"
   ]
  },
  {
   "cell_type": "markdown",
   "metadata": {},
   "source": [
    "Задача: проверить 2 стратегические гипотезы"
   ]
  },
  {
   "cell_type": "markdown",
   "metadata": {},
   "source": [
    "Проверяем стратегическую гипотезу \"средние пользовательские рейтинги платформ Xbox One и PC одинаковые\". Формулируем нулевую гипотезу - \"среднее рейтинга пользователя платформ Xbox One и PC равно\". Альтернативная гипотеза в таком случае будет противоположным значением -  \"среднее рейтинга пользователя платформ Xbox One и PC не равно\". Уровень значимости принимаем 5%, чтобы быть более уверенным в результате."
   ]
  },
  {
   "cell_type": "code",
   "execution_count": 73,
   "metadata": {},
   "outputs": [
    {
     "name": "stdout",
     "output_type": "stream",
     "text": [
      "p-значение: 0.14759594013430463\n",
      "Не получилось отвергнуть нулевую гипотезу\n"
     ]
    }
   ],
   "source": [
    "# заносим в переменные данные для сравнения:\n",
    "\n",
    "sample1 = df_actual.query('platform == \"XOne\" and user_score>=0 ')['user_score']  \n",
    "sample2 =  df_actual.query('platform == \"PC\" and user_score>=0 ')['user_score']\n",
    "alpha = .05   # устанавливаем уровень статистической значимости\n",
    "results = st.ttest_ind(sample1, sample2, equal_var = False) # проверяем гипотезу\n",
    "print ('p-значение:', results.pvalue)\n",
    "\n",
    "if results.pvalue < alpha:\n",
    "    print(\"Отвергаем нулевую гипотезу\")\n",
    "else:\n",
    "    print(\"Не получилось отвергнуть нулевую гипотезу\") "
   ]
  },
  {
   "cell_type": "markdown",
   "metadata": {},
   "source": [
    "Нулевую гипотезу опровергнуть не удалось, следовательно мы можем подтвердить, что средние пользовательские рейтинги платформ Xbox One и PC одинаковы с вероятностью превышающей уровень значимости."
   ]
  },
  {
   "cell_type": "markdown",
   "metadata": {},
   "source": [
    "Проверяем стратегическую гипотезу \"средние пользовательские рейтинги жанров Action и Sports разные\". Формулируем нулевую гипотезу - \"среднее рейтинга жанров Action и Sport равно\". Альтернативная гипотеза будет \"средние пользовательские рейтинги жанров Action и Sports разные\". Уровень значимости принимаем 5%.\n"
   ]
  },
  {
   "cell_type": "code",
   "execution_count": 74,
   "metadata": {},
   "outputs": [
    {
     "name": "stdout",
     "output_type": "stream",
     "text": [
      "p-значение: 1.4460039700704315e-20\n",
      "Отвергаем нулевую гипотезу\n"
     ]
    }
   ],
   "source": [
    "# заносим в переменные данные для сравнения:\n",
    "\n",
    "sample3 = df_actual.query('genre == \"Action\" and user_score>=0 ')['user_score']  \n",
    "sample4 =  df_actual.query('genre == \"Sports\" and user_score>=0 ')['user_score']\n",
    "alpha = .05  # устанавливаем уровень статистической значимости\n",
    "results = st.ttest_ind(sample3, sample4, equal_var = False)  # проверяем гипотезу\n",
    "print ('p-значение:', results.pvalue)\n",
    "\n",
    "if results.pvalue < alpha:\n",
    "    print(\"Отвергаем нулевую гипотезу\")\n",
    "else:\n",
    "    print(\"Не получилось отвергнуть нулевую гипотезу\") "
   ]
  },
  {
   "cell_type": "markdown",
   "metadata": {},
   "source": [
    "Нулевая гипотеза отвергнута, следовательно принимаем альтернативную гипотезу - средние пользовательские рейтинги жанров Action и Sports разные."
   ]
  },
  {
   "cell_type": "markdown",
   "metadata": {},
   "source": [
    "Вывод: средние пользовательские рейтинги платформ Xbox One и PC одинаковы с вероятностью превышающей уровень значимости; средние пользовательские рейтинги жанров Action и Sports разные."
   ]
  },
  {
   "cell_type": "markdown",
   "metadata": {},
   "source": [
    "# 5. Общий вывод"
   ]
  },
  {
   "cell_type": "markdown",
   "metadata": {},
   "source": [
    "В результате исследования для интернет-магазин «Стримчик» были проанализированы исторические данные о продажах игр до 2016 года включительно, оценки пользователей и экспертов, жанры и платформы (данные из открытых источников).\n",
    "\n",
    "**Целью исследования** являлось выявить определяющие успешность консольной игры закономерности для определения потенциально популярного продукта и планирования рекламных кампаний.\n",
    "\n",
    "Для реализации поставленной цели первичные данные были обработаны и проанализированы. \n",
    "\n"
   ]
  },
  {
   "cell_type": "markdown",
   "metadata": {},
   "source": [
    "\n",
    "***Основные буллиты проведенного анализа:***\n",
    "\n",
    "* Явный всплеск роста количества выпускаемых консольных игр начался в 90-ые годы, с пиком популярности в нулевых - между 2005 и 2010 гг. и последующим спадом в силу все большей конкуренции с ПК. \n",
    "\n",
    "* Продолжительность жизненного цикла популярных платформ  составляет 8- 10 лет. \n",
    "\n",
    "* Для анализа и прогноза данных отобран период за последние 4 года - с 2013 по 2016 года.\n",
    "\n",
    "* Наибольший интерес в 2017 г. представляют следующие игровые платформы: Плейстешн 4 (PS4), Нинтендо 3D (3DS) и  Xbox One (X-One), которые относятся к восьмому поколению игровых приставок, которое стартовало в 2011 г. и будет по-прежнему актуально в 2017 г. \n",
    "\n",
    "* Самые высокие медианные продажи у консоли Xbox 360 (X360) - свыше 300 тыс. копий. Плейстешн 3 и 4 и Xbox One примерно около 200 тыс. копий и Нинтендо 3D - чуть больше 100 тыс. копий. \n",
    "\n",
    "* Корреляция между продажами игр для популярных платформ и оценками критиков и игроков выражена незначительно (небольшая положительная с оценками критиков, незначительно отрицательная с оценками игроков). При прочих равных стоит ориентировать рекламные стратегии на работу прежде всего с критиками отрасли. Желательный балл – как минимум выше 50-60 баллов. Рейтингами игроков в рекламной стратегии можно пренебречь.\n",
    "\n",
    "* Самые прибыльные жанры - Shooter, Sports и Platform Меньше всего играют в паззлы и приключения.\n",
    "\n",
    "* Самый прибыльный рынок – Северная Америка, на втором месте Европа, на третьем Япония. \n",
    "\n",
    "* Платформы по регионам: в Японии лидирует Нинтендо 3D, в Европе и Северной Америке – Плейстешн 4.\n",
    "\n",
    "* Жанры по регионам: в Америке и Европе предпочитают action, shooting и sport, в Японии - в role-playing.\n",
    "\n",
    "* Рейтинг ESRB по регионам:  лучше всего заполняется в Северной Америке, т.к. разработан именно для этого региона. У 60% проанализированных игр на японском рынке он отсутствует. Из заполненных рейтингов наиболее популярны игры с рейтингом M («для взрослых») и игры без возрастных ограничений."
   ]
  },
  {
   "cell_type": "markdown",
   "metadata": {},
   "source": [
    "Проанализировав все данные, можно предложить пример портрета потенциально популярной игры, на которую можно сделать ставку интернет-магазину \"Стримчик\" в 2017 году: **эксклюзивная игра для платформы Плэстейшн 4, в жанре Shooter, с рейтингом M («для взрослых»). Ориентирована на рынок Северной Америки и Европу. Получила высокие оценки критиков (60 баллов +).** В рекламной кампании игры в интернет-магазине заказчика рекомендуется подчеркивать именно одобрение и оценки критиков, а также неординарность и эксклюзивность данной игры."
   ]
  }
 ],
 "metadata": {
  "ExecuteTimeLog": [
   {
    "duration": 1114,
    "start_time": "2023-02-04T11:34:59.524Z"
   },
   {
    "duration": 77,
    "start_time": "2023-02-04T11:35:00.640Z"
   },
   {
    "duration": 16,
    "start_time": "2023-02-04T11:35:00.719Z"
   },
   {
    "duration": 20,
    "start_time": "2023-02-04T11:35:00.737Z"
   },
   {
    "duration": 14,
    "start_time": "2023-02-04T11:35:00.759Z"
   },
   {
    "duration": 28,
    "start_time": "2023-02-04T11:35:00.774Z"
   },
   {
    "duration": 29,
    "start_time": "2023-02-04T11:35:00.804Z"
   },
   {
    "duration": 10,
    "start_time": "2023-02-04T11:35:00.835Z"
   },
   {
    "duration": 36,
    "start_time": "2023-02-04T11:35:00.847Z"
   },
   {
    "duration": 40,
    "start_time": "2023-02-04T11:35:00.886Z"
   },
   {
    "duration": 14,
    "start_time": "2023-02-04T11:35:00.928Z"
   },
   {
    "duration": 28,
    "start_time": "2023-02-04T11:35:00.944Z"
   },
   {
    "duration": 14,
    "start_time": "2023-02-04T11:35:00.974Z"
   },
   {
    "duration": 28,
    "start_time": "2023-02-04T11:35:00.989Z"
   },
   {
    "duration": 31,
    "start_time": "2023-02-04T11:35:01.018Z"
   },
   {
    "duration": 36,
    "start_time": "2023-02-04T11:35:01.051Z"
   },
   {
    "duration": 39,
    "start_time": "2023-02-04T11:35:01.089Z"
   },
   {
    "duration": 29,
    "start_time": "2023-02-04T11:35:01.130Z"
   },
   {
    "duration": 14,
    "start_time": "2023-02-04T11:35:01.161Z"
   },
   {
    "duration": 33,
    "start_time": "2023-02-04T11:35:01.177Z"
   },
   {
    "duration": 36,
    "start_time": "2023-02-04T11:35:01.213Z"
   },
   {
    "duration": 75,
    "start_time": "2023-02-04T11:35:01.250Z"
   },
   {
    "duration": 19,
    "start_time": "2023-02-04T11:35:01.327Z"
   },
   {
    "duration": 92,
    "start_time": "2023-02-04T11:35:01.348Z"
   },
   {
    "duration": 24,
    "start_time": "2023-02-04T11:35:01.442Z"
   },
   {
    "duration": 184,
    "start_time": "2023-02-04T11:35:01.468Z"
   },
   {
    "duration": 15,
    "start_time": "2023-02-04T11:35:01.654Z"
   },
   {
    "duration": 65,
    "start_time": "2023-02-04T11:35:01.673Z"
   },
   {
    "duration": 34,
    "start_time": "2023-02-04T11:35:01.740Z"
   },
   {
    "duration": 186,
    "start_time": "2023-02-04T11:35:01.776Z"
   },
   {
    "duration": 14,
    "start_time": "2023-02-04T11:35:01.963Z"
   },
   {
    "duration": 7,
    "start_time": "2023-02-04T11:35:01.979Z"
   },
   {
    "duration": 6,
    "start_time": "2023-02-04T11:35:01.988Z"
   },
   {
    "duration": 247,
    "start_time": "2023-02-04T11:35:01.995Z"
   },
   {
    "duration": 40,
    "start_time": "2023-02-04T11:35:02.243Z"
   },
   {
    "duration": 15,
    "start_time": "2023-02-04T11:35:02.285Z"
   },
   {
    "duration": 17,
    "start_time": "2023-02-04T11:35:02.301Z"
   },
   {
    "duration": 37,
    "start_time": "2023-02-04T11:35:02.319Z"
   },
   {
    "duration": 14,
    "start_time": "2023-02-04T11:35:02.358Z"
   },
   {
    "duration": 14,
    "start_time": "2023-02-04T11:35:02.374Z"
   },
   {
    "duration": 215,
    "start_time": "2023-02-04T11:35:02.390Z"
   },
   {
    "duration": 331,
    "start_time": "2023-02-04T11:35:02.607Z"
   },
   {
    "duration": 315,
    "start_time": "2023-02-04T11:35:02.948Z"
   },
   {
    "duration": 19,
    "start_time": "2023-02-04T11:35:03.265Z"
   },
   {
    "duration": 22,
    "start_time": "2023-02-04T11:35:03.286Z"
   },
   {
    "duration": 224,
    "start_time": "2023-02-04T11:35:03.310Z"
   },
   {
    "duration": 217,
    "start_time": "2023-02-04T11:35:03.536Z"
   },
   {
    "duration": 297,
    "start_time": "2023-02-04T11:35:03.754Z"
   },
   {
    "duration": 272,
    "start_time": "2023-02-04T11:35:04.053Z"
   },
   {
    "duration": 28,
    "start_time": "2023-02-04T11:35:04.327Z"
   },
   {
    "duration": 193,
    "start_time": "2023-02-04T11:35:04.357Z"
   },
   {
    "duration": 5,
    "start_time": "2023-02-04T11:35:04.551Z"
   },
   {
    "duration": 7,
    "start_time": "2023-02-04T11:35:04.557Z"
   },
   {
    "duration": 374,
    "start_time": "2023-02-04T11:35:04.566Z"
   },
   {
    "duration": 5,
    "start_time": "2023-02-04T11:35:04.949Z"
   },
   {
    "duration": 419,
    "start_time": "2023-02-04T11:35:04.956Z"
   },
   {
    "duration": 5,
    "start_time": "2023-02-04T11:35:05.377Z"
   },
   {
    "duration": 468,
    "start_time": "2023-02-04T11:35:05.383Z"
   },
   {
    "duration": 12,
    "start_time": "2023-02-04T11:35:05.852Z"
   },
   {
    "duration": 29,
    "start_time": "2023-02-04T11:35:05.866Z"
   },
   {
    "duration": 68,
    "start_time": "2023-02-04T12:56:26.416Z"
   },
   {
    "duration": 1397,
    "start_time": "2023-02-04T12:57:23.666Z"
   },
   {
    "duration": 158,
    "start_time": "2023-02-04T12:57:25.066Z"
   },
   {
    "duration": 22,
    "start_time": "2023-02-04T12:57:25.232Z"
   },
   {
    "duration": 28,
    "start_time": "2023-02-04T12:57:25.256Z"
   },
   {
    "duration": 5,
    "start_time": "2023-02-04T12:57:25.285Z"
   },
   {
    "duration": 27,
    "start_time": "2023-02-04T12:57:25.291Z"
   },
   {
    "duration": 21,
    "start_time": "2023-02-04T12:57:25.978Z"
   },
   {
    "duration": 7,
    "start_time": "2023-02-04T12:57:26.494Z"
   },
   {
    "duration": 8,
    "start_time": "2023-02-04T12:57:26.733Z"
   },
   {
    "duration": 16,
    "start_time": "2023-02-04T12:57:27.540Z"
   },
   {
    "duration": 12,
    "start_time": "2023-02-04T12:57:27.921Z"
   },
   {
    "duration": 19,
    "start_time": "2023-02-04T12:57:28.124Z"
   },
   {
    "duration": 6,
    "start_time": "2023-02-04T12:57:28.325Z"
   },
   {
    "duration": 7,
    "start_time": "2023-02-04T12:57:28.935Z"
   },
   {
    "duration": 11,
    "start_time": "2023-02-04T12:57:29.168Z"
   },
   {
    "duration": 6,
    "start_time": "2023-02-04T12:57:29.457Z"
   },
   {
    "duration": 5,
    "start_time": "2023-02-04T12:57:29.687Z"
   },
   {
    "duration": 13,
    "start_time": "2023-02-04T12:57:29.936Z"
   },
   {
    "duration": 7,
    "start_time": "2023-02-04T12:57:30.499Z"
   },
   {
    "duration": 15,
    "start_time": "2023-02-04T12:57:32.343Z"
   },
   {
    "duration": 10,
    "start_time": "2023-02-04T12:57:33.408Z"
   },
   {
    "duration": 15,
    "start_time": "2023-02-04T12:57:35.578Z"
   },
   {
    "duration": 9,
    "start_time": "2023-02-04T12:57:55.425Z"
   },
   {
    "duration": 45,
    "start_time": "2023-02-04T12:57:56.001Z"
   },
   {
    "duration": 8,
    "start_time": "2023-02-04T12:57:58.830Z"
   },
   {
    "duration": 182,
    "start_time": "2023-02-04T12:57:59.783Z"
   },
   {
    "duration": 23,
    "start_time": "2023-02-04T12:58:02.367Z"
   },
   {
    "duration": 18,
    "start_time": "2023-02-04T12:58:03.832Z"
   },
   {
    "duration": 28,
    "start_time": "2023-02-04T12:58:04.456Z"
   },
   {
    "duration": 200,
    "start_time": "2023-02-04T12:58:05.567Z"
   },
   {
    "duration": 22,
    "start_time": "2023-02-04T12:58:08.203Z"
   },
   {
    "duration": 8,
    "start_time": "2023-02-04T12:58:08.636Z"
   },
   {
    "duration": 5,
    "start_time": "2023-02-04T12:58:09.275Z"
   },
   {
    "duration": 368,
    "start_time": "2023-02-04T12:58:20.376Z"
   },
   {
    "duration": 309,
    "start_time": "2023-02-04T12:58:56.142Z"
   },
   {
    "duration": 330,
    "start_time": "2023-02-04T12:59:03.374Z"
   },
   {
    "duration": 281,
    "start_time": "2023-02-04T12:59:18.294Z"
   },
   {
    "duration": 467,
    "start_time": "2023-02-04T12:59:41.348Z"
   },
   {
    "duration": 301,
    "start_time": "2023-02-04T12:59:50.762Z"
   },
   {
    "duration": 375,
    "start_time": "2023-02-04T12:59:59.771Z"
   },
   {
    "duration": 279,
    "start_time": "2023-02-04T13:00:52.279Z"
   },
   {
    "duration": 304,
    "start_time": "2023-02-04T13:00:57.373Z"
   },
   {
    "duration": 304,
    "start_time": "2023-02-04T13:01:03.471Z"
   },
   {
    "duration": 320,
    "start_time": "2023-02-04T13:01:08.296Z"
   },
   {
    "duration": 377,
    "start_time": "2023-02-04T13:01:14.194Z"
   },
   {
    "duration": 295,
    "start_time": "2023-02-04T13:01:23.697Z"
   },
   {
    "duration": 281,
    "start_time": "2023-02-04T13:01:31.532Z"
   },
   {
    "duration": 282,
    "start_time": "2023-02-04T13:01:38.144Z"
   },
   {
    "duration": 17,
    "start_time": "2023-02-04T13:05:27.532Z"
   },
   {
    "duration": 10,
    "start_time": "2023-02-04T13:05:34.631Z"
   },
   {
    "duration": 2,
    "start_time": "2023-02-04T13:05:49.778Z"
   },
   {
    "duration": 123,
    "start_time": "2023-02-04T13:05:49.782Z"
   },
   {
    "duration": 24,
    "start_time": "2023-02-04T13:05:49.908Z"
   },
   {
    "duration": 20,
    "start_time": "2023-02-04T13:05:49.934Z"
   },
   {
    "duration": 6,
    "start_time": "2023-02-04T13:05:49.956Z"
   },
   {
    "duration": 11,
    "start_time": "2023-02-04T13:05:49.964Z"
   },
   {
    "duration": 34,
    "start_time": "2023-02-04T13:05:49.977Z"
   },
   {
    "duration": 12,
    "start_time": "2023-02-04T13:05:50.015Z"
   },
   {
    "duration": 15,
    "start_time": "2023-02-04T13:05:50.029Z"
   },
   {
    "duration": 18,
    "start_time": "2023-02-04T13:05:50.046Z"
   },
   {
    "duration": 4,
    "start_time": "2023-02-04T13:05:50.067Z"
   },
   {
    "duration": 18,
    "start_time": "2023-02-04T13:05:50.073Z"
   },
   {
    "duration": 21,
    "start_time": "2023-02-04T13:05:50.093Z"
   },
   {
    "duration": 31,
    "start_time": "2023-02-04T13:05:50.115Z"
   },
   {
    "duration": 13,
    "start_time": "2023-02-04T13:05:50.147Z"
   },
   {
    "duration": 6,
    "start_time": "2023-02-04T13:05:50.162Z"
   },
   {
    "duration": 7,
    "start_time": "2023-02-04T13:05:50.169Z"
   },
   {
    "duration": 16,
    "start_time": "2023-02-04T13:05:50.177Z"
   },
   {
    "duration": 39,
    "start_time": "2023-02-04T13:05:50.195Z"
   },
   {
    "duration": 39,
    "start_time": "2023-02-04T13:05:50.236Z"
   },
   {
    "duration": 5,
    "start_time": "2023-02-04T13:05:50.276Z"
   },
   {
    "duration": 17,
    "start_time": "2023-02-04T13:05:50.283Z"
   },
   {
    "duration": 11,
    "start_time": "2023-02-04T13:05:50.302Z"
   },
   {
    "duration": 56,
    "start_time": "2023-02-04T13:05:50.318Z"
   },
   {
    "duration": 6,
    "start_time": "2023-02-04T13:05:50.376Z"
   },
   {
    "duration": 159,
    "start_time": "2023-02-04T13:05:50.384Z"
   },
   {
    "duration": 17,
    "start_time": "2023-02-04T13:05:50.545Z"
   },
   {
    "duration": 14,
    "start_time": "2023-02-04T13:05:50.564Z"
   },
   {
    "duration": 25,
    "start_time": "2023-02-04T13:05:50.602Z"
   },
   {
    "duration": 219,
    "start_time": "2023-02-04T13:05:50.630Z"
   },
   {
    "duration": 13,
    "start_time": "2023-02-04T13:05:50.851Z"
   },
   {
    "duration": 7,
    "start_time": "2023-02-04T13:05:50.866Z"
   },
   {
    "duration": 7,
    "start_time": "2023-02-04T13:05:50.875Z"
   },
   {
    "duration": 402,
    "start_time": "2023-02-04T13:05:50.884Z"
   },
   {
    "duration": 60,
    "start_time": "2023-02-04T13:05:51.288Z"
   },
   {
    "duration": 16,
    "start_time": "2023-02-04T13:05:51.350Z"
   },
   {
    "duration": 16,
    "start_time": "2023-02-04T13:05:51.368Z"
   },
   {
    "duration": 48,
    "start_time": "2023-02-04T13:05:51.386Z"
   },
   {
    "duration": 16,
    "start_time": "2023-02-04T13:05:51.436Z"
   },
   {
    "duration": 13,
    "start_time": "2023-02-04T13:05:51.454Z"
   },
   {
    "duration": 212,
    "start_time": "2023-02-04T13:05:51.469Z"
   },
   {
    "duration": 387,
    "start_time": "2023-02-04T13:05:51.683Z"
   },
   {
    "duration": 357,
    "start_time": "2023-02-04T13:05:52.072Z"
   },
   {
    "duration": 21,
    "start_time": "2023-02-04T13:05:52.431Z"
   },
   {
    "duration": 25,
    "start_time": "2023-02-04T13:05:52.454Z"
   },
   {
    "duration": 191,
    "start_time": "2023-02-04T13:05:52.481Z"
   },
   {
    "duration": 194,
    "start_time": "2023-02-04T13:05:52.674Z"
   },
   {
    "duration": 327,
    "start_time": "2023-02-04T13:05:52.869Z"
   },
   {
    "duration": 362,
    "start_time": "2023-02-04T13:05:53.198Z"
   },
   {
    "duration": 18,
    "start_time": "2023-02-04T13:05:53.563Z"
   },
   {
    "duration": 34,
    "start_time": "2023-02-04T13:05:53.583Z"
   },
   {
    "duration": 0,
    "start_time": "2023-02-04T13:05:53.619Z"
   },
   {
    "duration": 0,
    "start_time": "2023-02-04T13:05:53.621Z"
   },
   {
    "duration": 0,
    "start_time": "2023-02-04T13:05:53.622Z"
   },
   {
    "duration": 0,
    "start_time": "2023-02-04T13:05:53.623Z"
   },
   {
    "duration": 0,
    "start_time": "2023-02-04T13:05:53.624Z"
   },
   {
    "duration": 0,
    "start_time": "2023-02-04T13:05:53.625Z"
   },
   {
    "duration": 0,
    "start_time": "2023-02-04T13:05:53.626Z"
   },
   {
    "duration": 0,
    "start_time": "2023-02-04T13:05:53.628Z"
   },
   {
    "duration": 0,
    "start_time": "2023-02-04T13:05:53.629Z"
   },
   {
    "duration": 61,
    "start_time": "2023-02-04T13:06:36.494Z"
   },
   {
    "duration": 8,
    "start_time": "2023-02-04T13:54:36.016Z"
   },
   {
    "duration": 43,
    "start_time": "2023-02-04T13:54:54.613Z"
   },
   {
    "duration": 45,
    "start_time": "2023-02-04T13:55:01.295Z"
   },
   {
    "duration": 9,
    "start_time": "2023-02-04T13:55:12.159Z"
   },
   {
    "duration": 12,
    "start_time": "2023-02-04T13:55:21.787Z"
   },
   {
    "duration": 11,
    "start_time": "2023-02-04T13:55:42.195Z"
   },
   {
    "duration": 28,
    "start_time": "2023-02-04T13:56:00.878Z"
   },
   {
    "duration": 12,
    "start_time": "2023-02-04T13:56:08.367Z"
   },
   {
    "duration": 18,
    "start_time": "2023-02-04T14:00:02.396Z"
   },
   {
    "duration": 11,
    "start_time": "2023-02-04T14:00:14.819Z"
   },
   {
    "duration": 3,
    "start_time": "2023-02-04T14:00:20.852Z"
   },
   {
    "duration": 67,
    "start_time": "2023-02-04T14:00:21.430Z"
   },
   {
    "duration": 14,
    "start_time": "2023-02-04T14:00:22.748Z"
   },
   {
    "duration": 13,
    "start_time": "2023-02-04T14:00:24.458Z"
   },
   {
    "duration": 4,
    "start_time": "2023-02-04T14:00:25.911Z"
   },
   {
    "duration": 10,
    "start_time": "2023-02-04T14:00:28.174Z"
   },
   {
    "duration": 17,
    "start_time": "2023-02-04T14:00:33.166Z"
   },
   {
    "duration": 26,
    "start_time": "2023-02-04T14:00:36.502Z"
   },
   {
    "duration": 8,
    "start_time": "2023-02-04T14:00:43.268Z"
   },
   {
    "duration": 15,
    "start_time": "2023-02-04T14:01:16.256Z"
   },
   {
    "duration": 64,
    "start_time": "2023-02-04T14:05:08.148Z"
   },
   {
    "duration": 43,
    "start_time": "2023-02-04T14:05:16.596Z"
   },
   {
    "duration": 28,
    "start_time": "2023-02-04T14:05:20.054Z"
   },
   {
    "duration": 8,
    "start_time": "2023-02-04T14:06:03.432Z"
   },
   {
    "duration": 24,
    "start_time": "2023-02-04T14:06:32.711Z"
   },
   {
    "duration": 25,
    "start_time": "2023-02-04T14:07:13.756Z"
   },
   {
    "duration": 24,
    "start_time": "2023-02-04T14:12:43.552Z"
   },
   {
    "duration": 23,
    "start_time": "2023-02-04T14:12:54.497Z"
   },
   {
    "duration": 22,
    "start_time": "2023-02-04T14:25:43.637Z"
   },
   {
    "duration": 21,
    "start_time": "2023-02-04T14:26:20.856Z"
   },
   {
    "duration": 23,
    "start_time": "2023-02-04T14:27:03.623Z"
   },
   {
    "duration": 18,
    "start_time": "2023-02-04T14:27:28.980Z"
   },
   {
    "duration": 18,
    "start_time": "2023-02-04T14:27:57.440Z"
   },
   {
    "duration": 26,
    "start_time": "2023-02-04T14:28:52.499Z"
   },
   {
    "duration": 33,
    "start_time": "2023-02-04T14:29:26.924Z"
   },
   {
    "duration": 17,
    "start_time": "2023-02-04T14:30:12.102Z"
   },
   {
    "duration": 14,
    "start_time": "2023-02-04T14:30:26.126Z"
   },
   {
    "duration": 15,
    "start_time": "2023-02-04T14:30:38.816Z"
   },
   {
    "duration": 15,
    "start_time": "2023-02-04T14:31:17.625Z"
   },
   {
    "duration": 21,
    "start_time": "2023-02-04T14:31:39.622Z"
   },
   {
    "duration": 39,
    "start_time": "2023-02-04T14:31:57.191Z"
   },
   {
    "duration": 21,
    "start_time": "2023-02-04T14:32:51.156Z"
   },
   {
    "duration": 21,
    "start_time": "2023-02-04T14:32:58.472Z"
   },
   {
    "duration": 25,
    "start_time": "2023-02-04T14:34:07.823Z"
   },
   {
    "duration": 28,
    "start_time": "2023-02-04T14:35:18.177Z"
   },
   {
    "duration": 18,
    "start_time": "2023-02-04T14:35:30.837Z"
   },
   {
    "duration": 23,
    "start_time": "2023-02-04T14:35:43.790Z"
   },
   {
    "duration": 25,
    "start_time": "2023-02-04T14:36:25.312Z"
   },
   {
    "duration": 33,
    "start_time": "2023-02-04T14:36:40.643Z"
   },
   {
    "duration": 9,
    "start_time": "2023-02-04T14:40:45.094Z"
   },
   {
    "duration": 10,
    "start_time": "2023-02-04T14:45:42.663Z"
   },
   {
    "duration": 12,
    "start_time": "2023-02-04T14:45:58.246Z"
   },
   {
    "duration": 49,
    "start_time": "2023-02-04T14:46:23.762Z"
   },
   {
    "duration": 55,
    "start_time": "2023-02-04T14:46:50.565Z"
   },
   {
    "duration": 27,
    "start_time": "2023-02-04T14:47:00.159Z"
   },
   {
    "duration": 25,
    "start_time": "2023-02-04T14:47:53.100Z"
   },
   {
    "duration": 11,
    "start_time": "2023-02-04T14:48:39.377Z"
   },
   {
    "duration": 24,
    "start_time": "2023-02-04T14:48:43.953Z"
   },
   {
    "duration": 19,
    "start_time": "2023-02-04T14:49:11.841Z"
   },
   {
    "duration": 21,
    "start_time": "2023-02-04T14:50:31.578Z"
   },
   {
    "duration": 23,
    "start_time": "2023-02-04T14:50:39.798Z"
   },
   {
    "duration": 12,
    "start_time": "2023-02-04T14:50:57.134Z"
   },
   {
    "duration": 19,
    "start_time": "2023-02-04T14:52:08.842Z"
   },
   {
    "duration": 24,
    "start_time": "2023-02-04T14:52:16.253Z"
   },
   {
    "duration": 48,
    "start_time": "2023-02-04T14:52:23.899Z"
   },
   {
    "duration": 33,
    "start_time": "2023-02-04T14:52:42.488Z"
   },
   {
    "duration": 32,
    "start_time": "2023-02-04T14:53:15.077Z"
   },
   {
    "duration": 35,
    "start_time": "2023-02-04T14:53:17.493Z"
   },
   {
    "duration": 31,
    "start_time": "2023-02-04T14:53:43.442Z"
   },
   {
    "duration": 27,
    "start_time": "2023-02-04T14:53:58.422Z"
   },
   {
    "duration": 47,
    "start_time": "2023-02-04T14:54:19.570Z"
   },
   {
    "duration": 28,
    "start_time": "2023-02-04T14:54:27.038Z"
   },
   {
    "duration": 37,
    "start_time": "2023-02-04T14:54:36.053Z"
   },
   {
    "duration": 40,
    "start_time": "2023-02-04T14:54:43.234Z"
   },
   {
    "duration": 39,
    "start_time": "2023-02-04T14:55:16.250Z"
   },
   {
    "duration": 44,
    "start_time": "2023-02-04T14:56:07.748Z"
   },
   {
    "duration": 39,
    "start_time": "2023-02-04T14:56:11.134Z"
   },
   {
    "duration": 27,
    "start_time": "2023-02-04T14:57:12.963Z"
   },
   {
    "duration": 18,
    "start_time": "2023-02-04T14:57:37.859Z"
   },
   {
    "duration": 35,
    "start_time": "2023-02-04T14:57:44.597Z"
   },
   {
    "duration": 3,
    "start_time": "2023-02-04T15:00:38.976Z"
   },
   {
    "duration": 75,
    "start_time": "2023-02-04T15:00:39.692Z"
   },
   {
    "duration": 18,
    "start_time": "2023-02-04T15:00:43.480Z"
   },
   {
    "duration": 17,
    "start_time": "2023-02-04T15:00:46.108Z"
   },
   {
    "duration": 4,
    "start_time": "2023-02-04T15:00:47.849Z"
   },
   {
    "duration": 11,
    "start_time": "2023-02-04T15:00:48.842Z"
   },
   {
    "duration": 19,
    "start_time": "2023-02-04T15:00:53.768Z"
   },
   {
    "duration": 33,
    "start_time": "2023-02-04T15:00:55.658Z"
   },
   {
    "duration": 18,
    "start_time": "2023-02-04T15:00:56.569Z"
   },
   {
    "duration": 22,
    "start_time": "2023-02-04T15:00:57.828Z"
   },
   {
    "duration": 8,
    "start_time": "2023-02-04T15:00:57.995Z"
   },
   {
    "duration": 6,
    "start_time": "2023-02-04T15:00:58.176Z"
   },
   {
    "duration": 24,
    "start_time": "2023-02-04T15:00:58.750Z"
   },
   {
    "duration": 28,
    "start_time": "2023-02-04T15:00:59.165Z"
   },
   {
    "duration": 32,
    "start_time": "2023-02-04T15:00:59.929Z"
   },
   {
    "duration": 22,
    "start_time": "2023-02-04T15:01:00.433Z"
   },
   {
    "duration": 27,
    "start_time": "2023-02-04T15:01:01.239Z"
   },
   {
    "duration": 18,
    "start_time": "2023-02-04T15:01:01.942Z"
   },
   {
    "duration": 20,
    "start_time": "2023-02-04T15:01:02.628Z"
   },
   {
    "duration": 14,
    "start_time": "2023-02-04T15:01:08.849Z"
   },
   {
    "duration": 3,
    "start_time": "2023-02-04T15:01:09.063Z"
   },
   {
    "duration": 8,
    "start_time": "2023-02-04T15:01:10.888Z"
   },
   {
    "duration": 13,
    "start_time": "2023-02-04T15:01:11.085Z"
   },
   {
    "duration": 6,
    "start_time": "2023-02-04T15:01:11.625Z"
   },
   {
    "duration": 5,
    "start_time": "2023-02-04T15:01:11.926Z"
   },
   {
    "duration": 28,
    "start_time": "2023-02-04T15:01:12.501Z"
   },
   {
    "duration": 8,
    "start_time": "2023-02-04T15:01:15.564Z"
   },
   {
    "duration": 15,
    "start_time": "2023-02-04T15:01:18.547Z"
   },
   {
    "duration": 6,
    "start_time": "2023-02-04T15:01:20.856Z"
   },
   {
    "duration": 20,
    "start_time": "2023-02-04T15:01:23.373Z"
   },
   {
    "duration": 20,
    "start_time": "2023-02-04T15:01:30.063Z"
   },
   {
    "duration": 3,
    "start_time": "2023-02-04T15:18:12.888Z"
   },
   {
    "duration": 77,
    "start_time": "2023-02-04T15:18:15.046Z"
   },
   {
    "duration": 15,
    "start_time": "2023-02-04T15:18:17.360Z"
   },
   {
    "duration": 14,
    "start_time": "2023-02-04T15:18:20.801Z"
   },
   {
    "duration": 4,
    "start_time": "2023-02-04T15:18:24.404Z"
   },
   {
    "duration": 13,
    "start_time": "2023-02-04T15:18:25.505Z"
   },
   {
    "duration": 29,
    "start_time": "2023-02-04T15:28:19.601Z"
   },
   {
    "duration": 17,
    "start_time": "2023-02-04T15:29:17.382Z"
   },
   {
    "duration": 20,
    "start_time": "2023-02-04T15:29:49.244Z"
   },
   {
    "duration": 34,
    "start_time": "2023-02-04T15:32:09.661Z"
   },
   {
    "duration": 27,
    "start_time": "2023-02-04T15:32:39.763Z"
   },
   {
    "duration": 45,
    "start_time": "2023-02-04T15:32:58.344Z"
   },
   {
    "duration": 23,
    "start_time": "2023-02-04T15:33:07.797Z"
   },
   {
    "duration": 44,
    "start_time": "2023-02-04T15:33:34.706Z"
   },
   {
    "duration": 19,
    "start_time": "2023-02-04T15:33:39.584Z"
   },
   {
    "duration": 46,
    "start_time": "2023-02-04T15:38:26.410Z"
   },
   {
    "duration": 45,
    "start_time": "2023-02-04T15:39:06.960Z"
   },
   {
    "duration": 3,
    "start_time": "2023-02-04T15:40:19.363Z"
   },
   {
    "duration": 72,
    "start_time": "2023-02-04T15:40:19.368Z"
   },
   {
    "duration": 13,
    "start_time": "2023-02-04T15:40:19.441Z"
   },
   {
    "duration": 13,
    "start_time": "2023-02-04T15:40:19.456Z"
   },
   {
    "duration": 5,
    "start_time": "2023-02-04T15:40:19.471Z"
   },
   {
    "duration": 12,
    "start_time": "2023-02-04T15:40:19.478Z"
   },
   {
    "duration": 27,
    "start_time": "2023-02-04T15:40:19.491Z"
   },
   {
    "duration": 30,
    "start_time": "2023-02-04T15:40:19.519Z"
   },
   {
    "duration": 18,
    "start_time": "2023-02-04T15:40:19.550Z"
   },
   {
    "duration": 45,
    "start_time": "2023-02-04T15:40:19.569Z"
   },
   {
    "duration": 6,
    "start_time": "2023-02-04T15:40:19.615Z"
   },
   {
    "duration": 7,
    "start_time": "2023-02-04T15:40:19.623Z"
   },
   {
    "duration": 22,
    "start_time": "2023-02-04T15:40:19.632Z"
   },
   {
    "duration": 18,
    "start_time": "2023-02-04T15:40:19.657Z"
   },
   {
    "duration": 22,
    "start_time": "2023-02-04T15:40:19.703Z"
   },
   {
    "duration": 18,
    "start_time": "2023-02-04T15:40:19.727Z"
   },
   {
    "duration": 23,
    "start_time": "2023-02-04T15:40:19.747Z"
   },
   {
    "duration": 40,
    "start_time": "2023-02-04T15:40:19.772Z"
   },
   {
    "duration": 5,
    "start_time": "2023-02-04T15:40:19.814Z"
   },
   {
    "duration": 16,
    "start_time": "2023-02-04T15:40:19.821Z"
   },
   {
    "duration": 4,
    "start_time": "2023-02-04T15:40:19.838Z"
   },
   {
    "duration": 13,
    "start_time": "2023-02-04T15:40:19.844Z"
   },
   {
    "duration": 16,
    "start_time": "2023-02-04T15:40:19.859Z"
   },
   {
    "duration": 29,
    "start_time": "2023-02-04T15:40:19.876Z"
   },
   {
    "duration": 8,
    "start_time": "2023-02-04T15:40:19.907Z"
   },
   {
    "duration": 15,
    "start_time": "2023-02-04T15:40:19.916Z"
   },
   {
    "duration": 8,
    "start_time": "2023-02-04T15:40:19.933Z"
   },
   {
    "duration": 15,
    "start_time": "2023-02-04T15:40:19.943Z"
   },
   {
    "duration": 5,
    "start_time": "2023-02-04T15:40:19.960Z"
   },
   {
    "duration": 50,
    "start_time": "2023-02-04T15:40:19.966Z"
   },
   {
    "duration": 19,
    "start_time": "2023-02-04T15:40:22.749Z"
   },
   {
    "duration": 12,
    "start_time": "2023-02-04T15:40:44.425Z"
   },
   {
    "duration": 19,
    "start_time": "2023-02-04T15:40:54.873Z"
   },
   {
    "duration": 9,
    "start_time": "2023-02-04T15:41:29.569Z"
   },
   {
    "duration": 24,
    "start_time": "2023-02-04T15:44:41.334Z"
   },
   {
    "duration": 4,
    "start_time": "2023-02-04T15:47:44.833Z"
   },
   {
    "duration": 25,
    "start_time": "2023-02-04T15:47:57.544Z"
   },
   {
    "duration": 13,
    "start_time": "2023-02-04T15:49:06.968Z"
   },
   {
    "duration": 7,
    "start_time": "2023-02-04T15:49:22.066Z"
   },
   {
    "duration": 12,
    "start_time": "2023-02-04T15:49:31.764Z"
   },
   {
    "duration": 14,
    "start_time": "2023-02-04T15:49:36.367Z"
   },
   {
    "duration": 13,
    "start_time": "2023-02-04T15:49:40.425Z"
   },
   {
    "duration": 24,
    "start_time": "2023-02-04T15:50:06.491Z"
   },
   {
    "duration": 44,
    "start_time": "2023-02-04T15:50:20.778Z"
   },
   {
    "duration": 48,
    "start_time": "2023-02-04T15:50:45.231Z"
   },
   {
    "duration": 226,
    "start_time": "2023-02-04T15:51:08.570Z"
   },
   {
    "duration": 9,
    "start_time": "2023-02-04T15:52:50.998Z"
   },
   {
    "duration": 146,
    "start_time": "2023-02-04T15:53:40.782Z"
   },
   {
    "duration": 138,
    "start_time": "2023-02-04T15:53:52.376Z"
   },
   {
    "duration": 146,
    "start_time": "2023-02-04T15:54:04.376Z"
   },
   {
    "duration": 14,
    "start_time": "2023-02-04T16:05:06.185Z"
   },
   {
    "duration": 3,
    "start_time": "2023-02-04T16:05:25.253Z"
   },
   {
    "duration": 91,
    "start_time": "2023-02-04T16:05:25.259Z"
   },
   {
    "duration": 14,
    "start_time": "2023-02-04T16:05:25.353Z"
   },
   {
    "duration": 16,
    "start_time": "2023-02-04T16:05:25.369Z"
   },
   {
    "duration": 5,
    "start_time": "2023-02-04T16:05:25.387Z"
   },
   {
    "duration": 15,
    "start_time": "2023-02-04T16:05:25.394Z"
   },
   {
    "duration": 30,
    "start_time": "2023-02-04T16:05:25.411Z"
   },
   {
    "duration": 27,
    "start_time": "2023-02-04T16:05:25.443Z"
   },
   {
    "duration": 45,
    "start_time": "2023-02-04T16:05:25.472Z"
   },
   {
    "duration": 18,
    "start_time": "2023-02-04T16:05:25.520Z"
   },
   {
    "duration": 11,
    "start_time": "2023-02-04T16:05:25.540Z"
   },
   {
    "duration": 8,
    "start_time": "2023-02-04T16:05:25.553Z"
   },
   {
    "duration": 47,
    "start_time": "2023-02-04T16:05:25.564Z"
   },
   {
    "duration": 22,
    "start_time": "2023-02-04T16:05:25.614Z"
   },
   {
    "duration": 23,
    "start_time": "2023-02-04T16:05:25.638Z"
   },
   {
    "duration": 47,
    "start_time": "2023-02-04T16:05:25.663Z"
   },
   {
    "duration": 36,
    "start_time": "2023-02-04T16:05:25.712Z"
   },
   {
    "duration": 13,
    "start_time": "2023-02-04T16:05:25.750Z"
   },
   {
    "duration": 3,
    "start_time": "2023-02-04T16:05:25.765Z"
   },
   {
    "duration": 15,
    "start_time": "2023-02-04T16:05:25.770Z"
   },
   {
    "duration": 5,
    "start_time": "2023-02-04T16:05:25.804Z"
   },
   {
    "duration": 18,
    "start_time": "2023-02-04T16:05:25.814Z"
   },
   {
    "duration": 13,
    "start_time": "2023-02-04T16:05:25.834Z"
   },
   {
    "duration": 6,
    "start_time": "2023-02-04T16:05:25.849Z"
   },
   {
    "duration": 6,
    "start_time": "2023-02-04T16:05:25.858Z"
   },
   {
    "duration": 48,
    "start_time": "2023-02-04T16:05:25.866Z"
   },
   {
    "duration": 9,
    "start_time": "2023-02-04T16:05:25.916Z"
   },
   {
    "duration": 22,
    "start_time": "2023-02-04T16:05:25.927Z"
   },
   {
    "duration": 5,
    "start_time": "2023-02-04T16:05:25.951Z"
   },
   {
    "duration": 17,
    "start_time": "2023-02-04T16:05:25.959Z"
   },
   {
    "duration": 41,
    "start_time": "2023-02-04T16:05:25.977Z"
   },
   {
    "duration": 20,
    "start_time": "2023-02-04T16:05:26.019Z"
   },
   {
    "duration": 5,
    "start_time": "2023-02-04T16:05:26.040Z"
   },
   {
    "duration": 51,
    "start_time": "2023-02-04T16:05:26.047Z"
   },
   {
    "duration": 10,
    "start_time": "2023-02-04T16:05:26.107Z"
   },
   {
    "duration": 15,
    "start_time": "2023-02-04T16:05:26.121Z"
   },
   {
    "duration": 11,
    "start_time": "2023-02-04T16:05:26.138Z"
   },
   {
    "duration": 187,
    "start_time": "2023-02-04T16:05:26.151Z"
   },
   {
    "duration": 153,
    "start_time": "2023-02-04T16:05:26.340Z"
   },
   {
    "duration": 27,
    "start_time": "2023-02-04T16:05:26.496Z"
   },
   {
    "duration": 17,
    "start_time": "2023-02-04T16:05:26.527Z"
   },
   {
    "duration": 22,
    "start_time": "2023-02-04T16:05:41.336Z"
   },
   {
    "duration": 18,
    "start_time": "2023-02-04T16:05:48.336Z"
   },
   {
    "duration": 191,
    "start_time": "2023-02-04T16:07:15.944Z"
   },
   {
    "duration": 18,
    "start_time": "2023-02-04T16:07:29.663Z"
   },
   {
    "duration": 43,
    "start_time": "2023-02-04T16:08:56.260Z"
   },
   {
    "duration": 17,
    "start_time": "2023-02-04T16:10:19.736Z"
   },
   {
    "duration": 17,
    "start_time": "2023-02-04T16:10:50.528Z"
   },
   {
    "duration": 18,
    "start_time": "2023-02-04T16:11:17.536Z"
   },
   {
    "duration": 18,
    "start_time": "2023-02-04T16:11:34.984Z"
   },
   {
    "duration": 189,
    "start_time": "2023-02-04T16:12:22.338Z"
   },
   {
    "duration": 187,
    "start_time": "2023-02-04T16:12:27.265Z"
   },
   {
    "duration": 198,
    "start_time": "2023-02-04T16:12:33.130Z"
   },
   {
    "duration": 4,
    "start_time": "2023-02-04T16:15:42.527Z"
   },
   {
    "duration": 81,
    "start_time": "2023-02-04T16:15:42.534Z"
   },
   {
    "duration": 14,
    "start_time": "2023-02-04T16:15:42.617Z"
   },
   {
    "duration": 14,
    "start_time": "2023-02-04T16:15:42.633Z"
   },
   {
    "duration": 6,
    "start_time": "2023-02-04T16:15:42.649Z"
   },
   {
    "duration": 20,
    "start_time": "2023-02-04T16:15:42.657Z"
   },
   {
    "duration": 41,
    "start_time": "2023-02-04T16:15:42.679Z"
   },
   {
    "duration": 29,
    "start_time": "2023-02-04T16:15:42.721Z"
   },
   {
    "duration": 17,
    "start_time": "2023-02-04T16:15:42.752Z"
   },
   {
    "duration": 45,
    "start_time": "2023-02-04T16:15:42.771Z"
   },
   {
    "duration": 7,
    "start_time": "2023-02-04T16:15:42.818Z"
   },
   {
    "duration": 8,
    "start_time": "2023-02-04T16:15:42.827Z"
   },
   {
    "duration": 27,
    "start_time": "2023-02-04T16:15:42.836Z"
   },
   {
    "duration": 45,
    "start_time": "2023-02-04T16:15:42.866Z"
   },
   {
    "duration": 24,
    "start_time": "2023-02-04T16:15:42.913Z"
   },
   {
    "duration": 21,
    "start_time": "2023-02-04T16:15:42.939Z"
   },
   {
    "duration": 60,
    "start_time": "2023-02-04T16:15:42.962Z"
   },
   {
    "duration": 17,
    "start_time": "2023-02-04T16:15:43.023Z"
   },
   {
    "duration": 9,
    "start_time": "2023-02-04T16:15:43.042Z"
   },
   {
    "duration": 16,
    "start_time": "2023-02-04T16:15:43.053Z"
   },
   {
    "duration": 3,
    "start_time": "2023-02-04T16:15:43.071Z"
   },
   {
    "duration": 12,
    "start_time": "2023-02-04T16:15:43.104Z"
   },
   {
    "duration": 14,
    "start_time": "2023-02-04T16:15:43.118Z"
   },
   {
    "duration": 6,
    "start_time": "2023-02-04T16:15:43.134Z"
   },
   {
    "duration": 9,
    "start_time": "2023-02-04T16:15:43.142Z"
   },
   {
    "duration": 16,
    "start_time": "2023-02-04T16:15:43.152Z"
   },
   {
    "duration": 34,
    "start_time": "2023-02-04T16:15:43.170Z"
   },
   {
    "duration": 19,
    "start_time": "2023-02-04T16:15:43.207Z"
   },
   {
    "duration": 8,
    "start_time": "2023-02-04T16:15:43.228Z"
   },
   {
    "duration": 23,
    "start_time": "2023-02-04T16:15:43.238Z"
   },
   {
    "duration": 8,
    "start_time": "2023-02-04T16:15:43.263Z"
   },
   {
    "duration": 45,
    "start_time": "2023-02-04T16:15:43.273Z"
   },
   {
    "duration": 4,
    "start_time": "2023-02-04T16:15:43.320Z"
   },
   {
    "duration": 43,
    "start_time": "2023-02-04T16:15:43.326Z"
   },
   {
    "duration": 7,
    "start_time": "2023-02-04T16:15:43.371Z"
   },
   {
    "duration": 28,
    "start_time": "2023-02-04T16:15:43.380Z"
   },
   {
    "duration": 20,
    "start_time": "2023-02-04T16:15:43.410Z"
   },
   {
    "duration": 185,
    "start_time": "2023-02-04T16:15:43.432Z"
   },
   {
    "duration": 274,
    "start_time": "2023-02-04T16:15:43.619Z"
   },
   {
    "duration": 23,
    "start_time": "2023-02-04T16:15:43.895Z"
   },
   {
    "duration": 16,
    "start_time": "2023-02-04T16:15:43.922Z"
   },
   {
    "duration": 20,
    "start_time": "2023-02-04T16:15:43.940Z"
   },
   {
    "duration": 249,
    "start_time": "2023-02-04T16:15:43.961Z"
   },
   {
    "duration": 17,
    "start_time": "2023-02-04T16:15:44.212Z"
   },
   {
    "duration": 10,
    "start_time": "2023-02-04T16:15:44.231Z"
   },
   {
    "duration": 9,
    "start_time": "2023-02-04T16:15:44.243Z"
   },
   {
    "duration": 290,
    "start_time": "2023-02-04T16:15:44.254Z"
   },
   {
    "duration": 41,
    "start_time": "2023-02-04T16:15:44.546Z"
   },
   {
    "duration": 32,
    "start_time": "2023-02-04T16:15:44.588Z"
   },
   {
    "duration": 18,
    "start_time": "2023-02-04T16:15:44.621Z"
   },
   {
    "duration": 17,
    "start_time": "2023-02-04T16:15:44.640Z"
   },
   {
    "duration": 14,
    "start_time": "2023-02-04T16:15:44.659Z"
   },
   {
    "duration": 18,
    "start_time": "2023-02-04T16:15:44.703Z"
   },
   {
    "duration": 221,
    "start_time": "2023-02-04T16:15:44.723Z"
   },
   {
    "duration": 374,
    "start_time": "2023-02-04T16:15:44.945Z"
   },
   {
    "duration": 304,
    "start_time": "2023-02-04T16:15:45.321Z"
   },
   {
    "duration": 21,
    "start_time": "2023-02-04T16:15:45.627Z"
   },
   {
    "duration": 28,
    "start_time": "2023-02-04T16:15:45.650Z"
   },
   {
    "duration": 189,
    "start_time": "2023-02-04T16:15:45.680Z"
   },
   {
    "duration": 165,
    "start_time": "2023-02-04T16:15:45.870Z"
   },
   {
    "duration": 403,
    "start_time": "2023-02-04T16:15:46.036Z"
   },
   {
    "duration": 415,
    "start_time": "2023-02-04T16:15:46.441Z"
   },
   {
    "duration": 16,
    "start_time": "2023-02-04T16:16:16.546Z"
   },
   {
    "duration": 16,
    "start_time": "2023-02-04T16:16:32.930Z"
   },
   {
    "duration": 16,
    "start_time": "2023-02-04T16:16:39.990Z"
   },
   {
    "duration": 53,
    "start_time": "2023-02-04T16:16:44.866Z"
   },
   {
    "duration": 54,
    "start_time": "2023-02-04T16:16:57.578Z"
   },
   {
    "duration": 182,
    "start_time": "2023-02-04T16:17:14.951Z"
   },
   {
    "duration": 186,
    "start_time": "2023-02-04T16:17:21.141Z"
   },
   {
    "duration": 174,
    "start_time": "2023-02-04T16:18:16.888Z"
   },
   {
    "duration": 182,
    "start_time": "2023-02-04T16:18:29.757Z"
   },
   {
    "duration": 17,
    "start_time": "2023-02-04T16:19:13.067Z"
   },
   {
    "duration": 170,
    "start_time": "2023-02-04T16:19:27.744Z"
   },
   {
    "duration": 16,
    "start_time": "2023-02-04T16:19:49.287Z"
   },
   {
    "duration": 3,
    "start_time": "2023-02-04T16:24:08.190Z"
   },
   {
    "duration": 65,
    "start_time": "2023-02-04T16:24:08.724Z"
   },
   {
    "duration": 13,
    "start_time": "2023-02-04T16:24:11.537Z"
   },
   {
    "duration": 763,
    "start_time": "2023-02-04T16:24:30.753Z"
   },
   {
    "duration": 788,
    "start_time": "2023-02-04T16:24:37.346Z"
   },
   {
    "duration": 6,
    "start_time": "2023-02-04T16:24:45.641Z"
   },
   {
    "duration": 3,
    "start_time": "2023-02-04T16:25:50.558Z"
   },
   {
    "duration": 72,
    "start_time": "2023-02-04T16:25:50.563Z"
   },
   {
    "duration": 14,
    "start_time": "2023-02-04T16:25:50.637Z"
   },
   {
    "duration": 15,
    "start_time": "2023-02-04T16:25:50.653Z"
   },
   {
    "duration": 7,
    "start_time": "2023-02-04T16:25:50.670Z"
   },
   {
    "duration": 33,
    "start_time": "2023-02-04T16:25:50.678Z"
   },
   {
    "duration": 20,
    "start_time": "2023-02-04T16:25:50.712Z"
   },
   {
    "duration": 36,
    "start_time": "2023-02-04T16:25:50.734Z"
   },
   {
    "duration": 44,
    "start_time": "2023-02-04T16:25:50.772Z"
   },
   {
    "duration": 19,
    "start_time": "2023-02-04T16:25:50.817Z"
   },
   {
    "duration": 7,
    "start_time": "2023-02-04T16:25:50.839Z"
   },
   {
    "duration": 10,
    "start_time": "2023-02-04T16:25:50.848Z"
   },
   {
    "duration": 72,
    "start_time": "2023-02-04T16:25:50.861Z"
   },
   {
    "duration": 21,
    "start_time": "2023-02-04T16:25:50.935Z"
   },
   {
    "duration": 54,
    "start_time": "2023-02-04T16:25:50.958Z"
   },
   {
    "duration": 20,
    "start_time": "2023-02-04T16:25:51.014Z"
   },
   {
    "duration": 25,
    "start_time": "2023-02-04T16:25:51.035Z"
   },
   {
    "duration": 46,
    "start_time": "2023-02-04T16:25:51.061Z"
   },
   {
    "duration": 4,
    "start_time": "2023-02-04T16:25:51.108Z"
   },
   {
    "duration": 20,
    "start_time": "2023-02-04T16:25:51.114Z"
   },
   {
    "duration": 5,
    "start_time": "2023-02-04T16:25:51.136Z"
   },
   {
    "duration": 19,
    "start_time": "2023-02-04T16:25:51.142Z"
   },
   {
    "duration": 15,
    "start_time": "2023-02-04T16:25:51.163Z"
   },
   {
    "duration": 26,
    "start_time": "2023-02-04T16:25:51.181Z"
   },
   {
    "duration": 16,
    "start_time": "2023-02-04T16:25:51.210Z"
   },
   {
    "duration": 18,
    "start_time": "2023-02-04T16:25:51.228Z"
   },
   {
    "duration": 8,
    "start_time": "2023-02-04T16:25:51.248Z"
   },
   {
    "duration": 28,
    "start_time": "2023-02-04T16:25:51.257Z"
   },
   {
    "duration": 16,
    "start_time": "2023-02-04T16:25:51.290Z"
   },
   {
    "duration": 25,
    "start_time": "2023-02-04T16:25:51.308Z"
   },
   {
    "duration": 14,
    "start_time": "2023-02-04T16:25:51.335Z"
   },
   {
    "duration": 18,
    "start_time": "2023-02-04T16:25:51.352Z"
   },
   {
    "duration": 5,
    "start_time": "2023-02-04T16:25:51.373Z"
   },
   {
    "duration": 40,
    "start_time": "2023-02-04T16:25:51.404Z"
   },
   {
    "duration": 8,
    "start_time": "2023-02-04T16:25:51.446Z"
   },
   {
    "duration": 9,
    "start_time": "2023-02-04T16:25:51.456Z"
   },
   {
    "duration": 39,
    "start_time": "2023-02-04T16:25:51.466Z"
   },
   {
    "duration": 159,
    "start_time": "2023-02-04T16:25:51.507Z"
   },
   {
    "duration": 165,
    "start_time": "2023-02-04T16:25:51.668Z"
   },
   {
    "duration": 17,
    "start_time": "2023-02-04T16:25:51.835Z"
   },
   {
    "duration": 16,
    "start_time": "2023-02-04T16:25:51.854Z"
   },
   {
    "duration": 38,
    "start_time": "2023-02-04T16:25:51.872Z"
   },
   {
    "duration": 203,
    "start_time": "2023-02-04T16:25:51.912Z"
   },
   {
    "duration": 16,
    "start_time": "2023-02-04T16:25:52.116Z"
   },
   {
    "duration": 9,
    "start_time": "2023-02-04T16:25:52.133Z"
   },
   {
    "duration": 7,
    "start_time": "2023-02-04T16:25:52.144Z"
   },
   {
    "duration": 272,
    "start_time": "2023-02-04T16:25:52.153Z"
   },
   {
    "duration": 40,
    "start_time": "2023-02-04T16:25:52.427Z"
   },
   {
    "duration": 35,
    "start_time": "2023-02-04T16:25:52.469Z"
   },
   {
    "duration": 17,
    "start_time": "2023-02-04T16:25:52.506Z"
   },
   {
    "duration": 17,
    "start_time": "2023-02-04T16:25:52.525Z"
   },
   {
    "duration": 14,
    "start_time": "2023-02-04T16:25:52.544Z"
   },
   {
    "duration": 45,
    "start_time": "2023-02-04T16:25:52.560Z"
   },
   {
    "duration": 210,
    "start_time": "2023-02-04T16:25:52.606Z"
   },
   {
    "duration": 466,
    "start_time": "2023-02-04T16:25:52.818Z"
   },
   {
    "duration": 338,
    "start_time": "2023-02-04T16:25:53.285Z"
   },
   {
    "duration": 22,
    "start_time": "2023-02-04T16:25:53.625Z"
   },
   {
    "duration": 22,
    "start_time": "2023-02-04T16:25:53.648Z"
   },
   {
    "duration": 199,
    "start_time": "2023-02-04T16:25:53.672Z"
   },
   {
    "duration": 166,
    "start_time": "2023-02-04T16:25:53.873Z"
   },
   {
    "duration": 371,
    "start_time": "2023-02-04T16:25:54.041Z"
   },
   {
    "duration": 322,
    "start_time": "2023-02-04T16:25:54.413Z"
   },
   {
    "duration": 19,
    "start_time": "2023-02-04T16:25:54.737Z"
   },
   {
    "duration": 208,
    "start_time": "2023-02-04T16:25:54.758Z"
   },
   {
    "duration": 14,
    "start_time": "2023-02-04T16:28:12.071Z"
   },
   {
    "duration": 43,
    "start_time": "2023-02-04T16:30:23.056Z"
   },
   {
    "duration": 33,
    "start_time": "2023-02-04T16:36:34.372Z"
   },
   {
    "duration": 12,
    "start_time": "2023-02-04T16:36:42.279Z"
   },
   {
    "duration": 21,
    "start_time": "2023-02-04T16:40:04.046Z"
   },
   {
    "duration": 23,
    "start_time": "2023-02-04T16:40:07.454Z"
   },
   {
    "duration": 20,
    "start_time": "2023-02-04T16:40:10.553Z"
   },
   {
    "duration": 22,
    "start_time": "2023-02-04T16:40:14.591Z"
   },
   {
    "duration": 20,
    "start_time": "2023-02-04T16:40:55.177Z"
   },
   {
    "duration": 26,
    "start_time": "2023-02-04T16:43:02.722Z"
   },
   {
    "duration": 16,
    "start_time": "2023-02-04T16:44:33.684Z"
   },
   {
    "duration": 10,
    "start_time": "2023-02-04T16:45:14.467Z"
   },
   {
    "duration": 8,
    "start_time": "2023-02-04T16:45:15.300Z"
   },
   {
    "duration": 195,
    "start_time": "2023-02-04T16:45:49.221Z"
   },
   {
    "duration": 23,
    "start_time": "2023-02-04T16:47:06.568Z"
   },
   {
    "duration": 29,
    "start_time": "2023-02-04T16:47:16.029Z"
   },
   {
    "duration": 19,
    "start_time": "2023-02-04T16:47:27.659Z"
   },
   {
    "duration": 159,
    "start_time": "2023-02-04T16:47:54.676Z"
   },
   {
    "duration": 51,
    "start_time": "2023-02-04T16:48:01.118Z"
   },
   {
    "duration": 279,
    "start_time": "2023-02-04T16:48:07.061Z"
   },
   {
    "duration": 166,
    "start_time": "2023-02-04T16:48:10.225Z"
   },
   {
    "duration": 161,
    "start_time": "2023-02-04T16:48:26.613Z"
   },
   {
    "duration": 287,
    "start_time": "2023-02-04T16:48:55.721Z"
   },
   {
    "duration": 312,
    "start_time": "2023-02-04T16:49:03.913Z"
   },
   {
    "duration": 264,
    "start_time": "2023-02-04T16:49:22.133Z"
   },
   {
    "duration": 358,
    "start_time": "2023-02-04T16:51:04.516Z"
   },
   {
    "duration": 469,
    "start_time": "2023-02-04T16:51:30.183Z"
   },
   {
    "duration": 369,
    "start_time": "2023-02-04T16:52:00.665Z"
   },
   {
    "duration": 11,
    "start_time": "2023-02-04T16:52:18.962Z"
   },
   {
    "duration": 11,
    "start_time": "2023-02-04T16:52:32.881Z"
   },
   {
    "duration": 3,
    "start_time": "2023-02-04T16:52:50.945Z"
   },
   {
    "duration": 65,
    "start_time": "2023-02-04T16:52:50.964Z"
   },
   {
    "duration": 14,
    "start_time": "2023-02-04T16:52:51.031Z"
   },
   {
    "duration": 16,
    "start_time": "2023-02-04T16:52:51.047Z"
   },
   {
    "duration": 10,
    "start_time": "2023-02-04T16:52:51.065Z"
   },
   {
    "duration": 27,
    "start_time": "2023-02-04T16:52:51.077Z"
   },
   {
    "duration": 16,
    "start_time": "2023-02-04T16:52:51.105Z"
   },
   {
    "duration": 30,
    "start_time": "2023-02-04T16:52:51.123Z"
   },
   {
    "duration": 15,
    "start_time": "2023-02-04T16:52:51.155Z"
   },
   {
    "duration": 46,
    "start_time": "2023-02-04T16:52:51.171Z"
   },
   {
    "duration": 10,
    "start_time": "2023-02-04T16:52:51.219Z"
   },
   {
    "duration": 11,
    "start_time": "2023-02-04T16:52:51.231Z"
   },
   {
    "duration": 30,
    "start_time": "2023-02-04T16:52:51.244Z"
   },
   {
    "duration": 45,
    "start_time": "2023-02-04T16:52:51.276Z"
   },
   {
    "duration": 21,
    "start_time": "2023-02-04T16:52:51.324Z"
   },
   {
    "duration": 19,
    "start_time": "2023-02-04T16:52:51.347Z"
   },
   {
    "duration": 57,
    "start_time": "2023-02-04T16:52:51.368Z"
   },
   {
    "duration": 13,
    "start_time": "2023-02-04T16:52:51.427Z"
   },
   {
    "duration": 4,
    "start_time": "2023-02-04T16:52:51.441Z"
   },
   {
    "duration": 17,
    "start_time": "2023-02-04T16:52:51.446Z"
   },
   {
    "duration": 2,
    "start_time": "2023-02-04T16:52:51.465Z"
   },
   {
    "duration": 35,
    "start_time": "2023-02-04T16:52:51.468Z"
   },
   {
    "duration": 11,
    "start_time": "2023-02-04T16:52:51.505Z"
   },
   {
    "duration": 6,
    "start_time": "2023-02-04T16:52:51.517Z"
   },
   {
    "duration": 9,
    "start_time": "2023-02-04T16:52:51.524Z"
   },
   {
    "duration": 23,
    "start_time": "2023-02-04T16:52:51.535Z"
   },
   {
    "duration": 47,
    "start_time": "2023-02-04T16:52:51.559Z"
   },
   {
    "duration": 25,
    "start_time": "2023-02-04T16:52:51.607Z"
   },
   {
    "duration": 5,
    "start_time": "2023-02-04T16:52:51.634Z"
   },
   {
    "duration": 22,
    "start_time": "2023-02-04T16:52:51.641Z"
   },
   {
    "duration": 10,
    "start_time": "2023-02-04T16:52:51.665Z"
   },
   {
    "duration": 29,
    "start_time": "2023-02-04T16:52:51.676Z"
   },
   {
    "duration": 5,
    "start_time": "2023-02-04T16:52:51.706Z"
   },
   {
    "duration": 40,
    "start_time": "2023-02-04T16:52:51.713Z"
   },
   {
    "duration": 7,
    "start_time": "2023-02-04T16:52:51.754Z"
   },
   {
    "duration": 7,
    "start_time": "2023-02-04T16:52:51.762Z"
   },
   {
    "duration": 36,
    "start_time": "2023-02-04T16:52:51.771Z"
   },
   {
    "duration": 151,
    "start_time": "2023-02-04T16:52:51.808Z"
   },
   {
    "duration": 161,
    "start_time": "2023-02-04T16:52:51.960Z"
   },
   {
    "duration": 16,
    "start_time": "2023-02-04T16:52:52.123Z"
   },
   {
    "duration": 15,
    "start_time": "2023-02-04T16:52:52.141Z"
   },
   {
    "duration": 29,
    "start_time": "2023-02-04T16:52:52.161Z"
   },
   {
    "duration": 179,
    "start_time": "2023-02-04T16:52:52.203Z"
   },
   {
    "duration": 20,
    "start_time": "2023-02-04T16:52:52.384Z"
   },
   {
    "duration": 6,
    "start_time": "2023-02-04T16:52:52.406Z"
   },
   {
    "duration": 6,
    "start_time": "2023-02-04T16:52:52.414Z"
   },
   {
    "duration": 266,
    "start_time": "2023-02-04T16:52:52.422Z"
   },
   {
    "duration": 48,
    "start_time": "2023-02-04T16:52:52.689Z"
   },
   {
    "duration": 22,
    "start_time": "2023-02-04T16:52:52.738Z"
   },
   {
    "duration": 19,
    "start_time": "2023-02-04T16:52:52.762Z"
   },
   {
    "duration": 36,
    "start_time": "2023-02-04T16:52:52.782Z"
   },
   {
    "duration": 12,
    "start_time": "2023-02-04T16:52:52.820Z"
   },
   {
    "duration": 9,
    "start_time": "2023-02-04T16:52:52.834Z"
   },
   {
    "duration": 12,
    "start_time": "2023-02-04T16:52:52.845Z"
   },
   {
    "duration": 240,
    "start_time": "2023-02-04T16:52:52.859Z"
   },
   {
    "duration": 323,
    "start_time": "2023-02-04T16:52:53.103Z"
   },
   {
    "duration": 290,
    "start_time": "2023-02-04T16:52:53.428Z"
   },
   {
    "duration": 20,
    "start_time": "2023-02-04T16:52:53.720Z"
   },
   {
    "duration": 19,
    "start_time": "2023-02-04T16:52:53.742Z"
   },
   {
    "duration": 275,
    "start_time": "2023-02-04T16:52:53.762Z"
   },
   {
    "duration": 189,
    "start_time": "2023-02-04T16:52:54.038Z"
   },
   {
    "duration": 306,
    "start_time": "2023-02-04T16:52:54.230Z"
   },
   {
    "duration": 291,
    "start_time": "2023-02-04T16:52:54.538Z"
   },
   {
    "duration": 16,
    "start_time": "2023-02-04T16:52:54.830Z"
   },
   {
    "duration": 195,
    "start_time": "2023-02-04T16:52:54.848Z"
   },
   {
    "duration": 4,
    "start_time": "2023-02-04T16:52:55.045Z"
   },
   {
    "duration": 7,
    "start_time": "2023-02-04T16:52:55.051Z"
   },
   {
    "duration": 407,
    "start_time": "2023-02-04T16:52:55.059Z"
   },
   {
    "duration": 4,
    "start_time": "2023-02-04T16:52:55.468Z"
   },
   {
    "duration": 409,
    "start_time": "2023-02-04T16:52:55.474Z"
   },
   {
    "duration": 5,
    "start_time": "2023-02-04T16:52:55.884Z"
   },
   {
    "duration": 486,
    "start_time": "2023-02-04T16:52:55.891Z"
   },
   {
    "duration": 12,
    "start_time": "2023-02-04T16:52:56.379Z"
   },
   {
    "duration": 11,
    "start_time": "2023-02-04T16:52:56.403Z"
   },
   {
    "duration": 43,
    "start_time": "2023-02-04T16:52:56.417Z"
   },
   {
    "duration": 250,
    "start_time": "2023-02-04T16:54:20.817Z"
   },
   {
    "duration": 1263,
    "start_time": "2023-02-12T21:09:38.482Z"
   },
   {
    "duration": 227,
    "start_time": "2023-02-12T21:09:39.747Z"
   },
   {
    "duration": 16,
    "start_time": "2023-02-12T21:09:39.976Z"
   },
   {
    "duration": 19,
    "start_time": "2023-02-12T21:09:39.994Z"
   },
   {
    "duration": 4,
    "start_time": "2023-02-12T21:09:40.014Z"
   },
   {
    "duration": 13,
    "start_time": "2023-02-12T21:09:40.019Z"
   },
   {
    "duration": 23,
    "start_time": "2023-02-12T21:09:40.034Z"
   },
   {
    "duration": 25,
    "start_time": "2023-02-12T21:09:40.058Z"
   },
   {
    "duration": 16,
    "start_time": "2023-02-12T21:09:40.084Z"
   },
   {
    "duration": 15,
    "start_time": "2023-02-12T21:09:40.102Z"
   },
   {
    "duration": 30,
    "start_time": "2023-02-12T21:09:40.118Z"
   },
   {
    "duration": 7,
    "start_time": "2023-02-12T21:09:40.150Z"
   },
   {
    "duration": 21,
    "start_time": "2023-02-12T21:09:40.158Z"
   },
   {
    "duration": 18,
    "start_time": "2023-02-12T21:09:40.180Z"
   },
   {
    "duration": 19,
    "start_time": "2023-02-12T21:09:40.199Z"
   },
   {
    "duration": 45,
    "start_time": "2023-02-12T21:09:40.219Z"
   },
   {
    "duration": 21,
    "start_time": "2023-02-12T21:09:40.266Z"
   },
   {
    "duration": 13,
    "start_time": "2023-02-12T21:09:40.288Z"
   },
   {
    "duration": 3,
    "start_time": "2023-02-12T21:09:40.303Z"
   },
   {
    "duration": 44,
    "start_time": "2023-02-12T21:09:40.308Z"
   },
   {
    "duration": 2,
    "start_time": "2023-02-12T21:09:40.353Z"
   },
   {
    "duration": 8,
    "start_time": "2023-02-12T21:09:40.357Z"
   },
   {
    "duration": 14,
    "start_time": "2023-02-12T21:09:40.366Z"
   },
   {
    "duration": 5,
    "start_time": "2023-02-12T21:09:40.382Z"
   },
   {
    "duration": 6,
    "start_time": "2023-02-12T21:09:40.388Z"
   },
   {
    "duration": 13,
    "start_time": "2023-02-12T21:09:40.396Z"
   },
   {
    "duration": 7,
    "start_time": "2023-02-12T21:09:40.410Z"
   },
   {
    "duration": 19,
    "start_time": "2023-02-12T21:09:40.452Z"
   },
   {
    "duration": 6,
    "start_time": "2023-02-12T21:09:40.473Z"
   },
   {
    "duration": 20,
    "start_time": "2023-02-12T21:09:40.480Z"
   },
   {
    "duration": 8,
    "start_time": "2023-02-12T21:09:40.502Z"
   },
   {
    "duration": 45,
    "start_time": "2023-02-12T21:09:40.512Z"
   },
   {
    "duration": 5,
    "start_time": "2023-02-12T21:09:40.558Z"
   },
   {
    "duration": 36,
    "start_time": "2023-02-12T21:09:40.564Z"
   },
   {
    "duration": 7,
    "start_time": "2023-02-12T21:09:40.602Z"
   },
   {
    "duration": 5,
    "start_time": "2023-02-12T21:09:40.610Z"
   },
   {
    "duration": 35,
    "start_time": "2023-02-12T21:09:40.616Z"
   },
   {
    "duration": 156,
    "start_time": "2023-02-12T21:09:40.652Z"
   },
   {
    "duration": 148,
    "start_time": "2023-02-12T21:09:40.809Z"
   },
   {
    "duration": 16,
    "start_time": "2023-02-12T21:09:40.959Z"
   },
   {
    "duration": 13,
    "start_time": "2023-02-12T21:09:40.977Z"
   },
   {
    "duration": 16,
    "start_time": "2023-02-12T21:09:40.992Z"
   },
   {
    "duration": 193,
    "start_time": "2023-02-12T21:09:41.009Z"
   },
   {
    "duration": 13,
    "start_time": "2023-02-12T21:09:41.204Z"
   },
   {
    "duration": 7,
    "start_time": "2023-02-12T21:09:41.219Z"
   },
   {
    "duration": 5,
    "start_time": "2023-02-12T21:09:41.227Z"
   },
   {
    "duration": 246,
    "start_time": "2023-02-12T21:09:41.248Z"
   },
   {
    "duration": 38,
    "start_time": "2023-02-12T21:09:41.496Z"
   },
   {
    "duration": 26,
    "start_time": "2023-02-12T21:09:41.536Z"
   },
   {
    "duration": 14,
    "start_time": "2023-02-12T21:09:41.563Z"
   },
   {
    "duration": 14,
    "start_time": "2023-02-12T21:09:41.579Z"
   },
   {
    "duration": 11,
    "start_time": "2023-02-12T21:09:41.595Z"
   },
   {
    "duration": 9,
    "start_time": "2023-02-12T21:09:41.607Z"
   },
   {
    "duration": 35,
    "start_time": "2023-02-12T21:09:41.617Z"
   },
   {
    "duration": 190,
    "start_time": "2023-02-12T21:09:41.654Z"
   },
   {
    "duration": 342,
    "start_time": "2023-02-12T21:09:41.845Z"
   },
   {
    "duration": 301,
    "start_time": "2023-02-12T21:09:42.188Z"
   },
   {
    "duration": 20,
    "start_time": "2023-02-12T21:09:42.491Z"
   },
   {
    "duration": 18,
    "start_time": "2023-02-12T21:09:42.512Z"
   },
   {
    "duration": 217,
    "start_time": "2023-02-12T21:09:42.548Z"
   },
   {
    "duration": 183,
    "start_time": "2023-02-12T21:09:42.766Z"
   },
   {
    "duration": 286,
    "start_time": "2023-02-12T21:09:42.951Z"
   },
   {
    "duration": 264,
    "start_time": "2023-02-12T21:09:43.248Z"
   },
   {
    "duration": 17,
    "start_time": "2023-02-12T21:09:43.514Z"
   },
   {
    "duration": 206,
    "start_time": "2023-02-12T21:09:43.533Z"
   },
   {
    "duration": 10,
    "start_time": "2023-02-12T21:09:43.740Z"
   },
   {
    "duration": 13,
    "start_time": "2023-02-12T21:09:43.752Z"
   },
   {
    "duration": 376,
    "start_time": "2023-02-12T21:09:43.767Z"
   },
   {
    "duration": 4,
    "start_time": "2023-02-12T21:09:44.147Z"
   },
   {
    "duration": 384,
    "start_time": "2023-02-12T21:09:44.153Z"
   },
   {
    "duration": 5,
    "start_time": "2023-02-12T21:09:44.547Z"
   },
   {
    "duration": 897,
    "start_time": "2023-02-12T21:09:44.553Z"
   },
   {
    "duration": 10,
    "start_time": "2023-02-12T21:09:45.451Z"
   },
   {
    "duration": 15,
    "start_time": "2023-02-12T21:09:45.463Z"
   }
  ],
  "kernelspec": {
   "display_name": "Python 3 (ipykernel)",
   "language": "python",
   "name": "python3"
  },
  "language_info": {
   "codemirror_mode": {
    "name": "ipython",
    "version": 3
   },
   "file_extension": ".py",
   "mimetype": "text/x-python",
   "name": "python",
   "nbconvert_exporter": "python",
   "pygments_lexer": "ipython3",
   "version": "3.9.13"
  },
  "toc": {
   "base_numbering": 1,
   "nav_menu": {},
   "number_sections": true,
   "sideBar": true,
   "skip_h1_title": false,
   "title_cell": "Table of Contents",
   "title_sidebar": "Contents",
   "toc_cell": false,
   "toc_position": {
    "height": "408px",
    "left": "783px",
    "top": "159.125px",
    "width": "270.188px"
   },
   "toc_section_display": true,
   "toc_window_display": true
  }
 },
 "nbformat": 4,
 "nbformat_minor": 2
}
