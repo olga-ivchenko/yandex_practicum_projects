{
 "cells": [
  {
   "cell_type": "markdown",
   "id": "97b2842e",
   "metadata": {
    "deletable": false,
    "editable": false,
    "id": "c81daeeb"
   },
   "source": [
    "# Исследование надежности заемщиков\n"
   ]
  },
  {
   "cell_type": "markdown",
   "id": "cf5f41c5",
   "metadata": {
    "deletable": false,
    "editable": false,
    "id": "827c20bf"
   },
   "source": [
    "Во второй части проекта вы выполните шаги 3 и 4. Их вручную проверит ревьюер.\n",
    "Чтобы вам не пришлось писать код заново для шагов 1 и 2, мы добавили авторские решения в ячейки с кодом. \n",
    "\n"
   ]
  },
  {
   "cell_type": "markdown",
   "id": "b34b0199",
   "metadata": {
    "deletable": false,
    "editable": false,
    "id": "744d7639"
   },
   "source": [
    "## Откройте таблицу и изучите общую информацию о данных"
   ]
  },
  {
   "cell_type": "markdown",
   "id": "d5a5def2",
   "metadata": {
    "deletable": false,
    "editable": false,
    "id": "e7a14c31"
   },
   "source": [
    "**Задание 1. Импортируйте библиотеку pandas. Считайте данные из csv-файла в датафрейм и сохраните в переменную `data`. Путь к файлу:**\n",
    "\n",
    "`/datasets/data.csv`"
   ]
  },
  {
   "cell_type": "code",
   "execution_count": 36,
   "id": "9fa2d442",
   "metadata": {
    "deletable": false,
    "id": "7bcf75c9"
   },
   "outputs": [],
   "source": [
    "import pandas as pd\n",
    "\n",
    "try:\n",
    "    data = pd.read_csv('/datasets/data.csv')\n",
    "except:\n",
    "    data = pd.read_csv('https://code.s3.yandex.net/datasets/data.csv')"
   ]
  },
  {
   "cell_type": "markdown",
   "id": "84923428",
   "metadata": {
    "deletable": false,
    "editable": false,
    "id": "b8038fe3"
   },
   "source": [
    "**Задание 2. Выведите первые 20 строчек датафрейма `data` на экран.**"
   ]
  },
  {
   "cell_type": "code",
   "execution_count": 37,
   "id": "01fd0e97",
   "metadata": {
    "deletable": false,
    "id": "2a7cab99",
    "outputId": "1a8f3ef2-d323-4ec2-ddf7-89670b5944c4"
   },
   "outputs": [
    {
     "data": {
      "text/html": [
       "<div>\n",
       "<style scoped>\n",
       "    .dataframe tbody tr th:only-of-type {\n",
       "        vertical-align: middle;\n",
       "    }\n",
       "\n",
       "    .dataframe tbody tr th {\n",
       "        vertical-align: top;\n",
       "    }\n",
       "\n",
       "    .dataframe thead th {\n",
       "        text-align: right;\n",
       "    }\n",
       "</style>\n",
       "<table border=\"1\" class=\"dataframe\">\n",
       "  <thead>\n",
       "    <tr style=\"text-align: right;\">\n",
       "      <th></th>\n",
       "      <th>children</th>\n",
       "      <th>days_employed</th>\n",
       "      <th>dob_years</th>\n",
       "      <th>education</th>\n",
       "      <th>education_id</th>\n",
       "      <th>family_status</th>\n",
       "      <th>family_status_id</th>\n",
       "      <th>gender</th>\n",
       "      <th>income_type</th>\n",
       "      <th>debt</th>\n",
       "      <th>total_income</th>\n",
       "      <th>purpose</th>\n",
       "    </tr>\n",
       "  </thead>\n",
       "  <tbody>\n",
       "    <tr>\n",
       "      <th>0</th>\n",
       "      <td>1</td>\n",
       "      <td>-8437.673028</td>\n",
       "      <td>42</td>\n",
       "      <td>высшее</td>\n",
       "      <td>0</td>\n",
       "      <td>женат / замужем</td>\n",
       "      <td>0</td>\n",
       "      <td>F</td>\n",
       "      <td>сотрудник</td>\n",
       "      <td>0</td>\n",
       "      <td>253875.639453</td>\n",
       "      <td>покупка жилья</td>\n",
       "    </tr>\n",
       "    <tr>\n",
       "      <th>1</th>\n",
       "      <td>1</td>\n",
       "      <td>-4024.803754</td>\n",
       "      <td>36</td>\n",
       "      <td>среднее</td>\n",
       "      <td>1</td>\n",
       "      <td>женат / замужем</td>\n",
       "      <td>0</td>\n",
       "      <td>F</td>\n",
       "      <td>сотрудник</td>\n",
       "      <td>0</td>\n",
       "      <td>112080.014102</td>\n",
       "      <td>приобретение автомобиля</td>\n",
       "    </tr>\n",
       "    <tr>\n",
       "      <th>2</th>\n",
       "      <td>0</td>\n",
       "      <td>-5623.422610</td>\n",
       "      <td>33</td>\n",
       "      <td>Среднее</td>\n",
       "      <td>1</td>\n",
       "      <td>женат / замужем</td>\n",
       "      <td>0</td>\n",
       "      <td>M</td>\n",
       "      <td>сотрудник</td>\n",
       "      <td>0</td>\n",
       "      <td>145885.952297</td>\n",
       "      <td>покупка жилья</td>\n",
       "    </tr>\n",
       "    <tr>\n",
       "      <th>3</th>\n",
       "      <td>3</td>\n",
       "      <td>-4124.747207</td>\n",
       "      <td>32</td>\n",
       "      <td>среднее</td>\n",
       "      <td>1</td>\n",
       "      <td>женат / замужем</td>\n",
       "      <td>0</td>\n",
       "      <td>M</td>\n",
       "      <td>сотрудник</td>\n",
       "      <td>0</td>\n",
       "      <td>267628.550329</td>\n",
       "      <td>дополнительное образование</td>\n",
       "    </tr>\n",
       "    <tr>\n",
       "      <th>4</th>\n",
       "      <td>0</td>\n",
       "      <td>340266.072047</td>\n",
       "      <td>53</td>\n",
       "      <td>среднее</td>\n",
       "      <td>1</td>\n",
       "      <td>гражданский брак</td>\n",
       "      <td>1</td>\n",
       "      <td>F</td>\n",
       "      <td>пенсионер</td>\n",
       "      <td>0</td>\n",
       "      <td>158616.077870</td>\n",
       "      <td>сыграть свадьбу</td>\n",
       "    </tr>\n",
       "    <tr>\n",
       "      <th>5</th>\n",
       "      <td>0</td>\n",
       "      <td>-926.185831</td>\n",
       "      <td>27</td>\n",
       "      <td>высшее</td>\n",
       "      <td>0</td>\n",
       "      <td>гражданский брак</td>\n",
       "      <td>1</td>\n",
       "      <td>M</td>\n",
       "      <td>компаньон</td>\n",
       "      <td>0</td>\n",
       "      <td>255763.565419</td>\n",
       "      <td>покупка жилья</td>\n",
       "    </tr>\n",
       "    <tr>\n",
       "      <th>6</th>\n",
       "      <td>0</td>\n",
       "      <td>-2879.202052</td>\n",
       "      <td>43</td>\n",
       "      <td>высшее</td>\n",
       "      <td>0</td>\n",
       "      <td>женат / замужем</td>\n",
       "      <td>0</td>\n",
       "      <td>F</td>\n",
       "      <td>компаньон</td>\n",
       "      <td>0</td>\n",
       "      <td>240525.971920</td>\n",
       "      <td>операции с жильем</td>\n",
       "    </tr>\n",
       "    <tr>\n",
       "      <th>7</th>\n",
       "      <td>0</td>\n",
       "      <td>-152.779569</td>\n",
       "      <td>50</td>\n",
       "      <td>СРЕДНЕЕ</td>\n",
       "      <td>1</td>\n",
       "      <td>женат / замужем</td>\n",
       "      <td>0</td>\n",
       "      <td>M</td>\n",
       "      <td>сотрудник</td>\n",
       "      <td>0</td>\n",
       "      <td>135823.934197</td>\n",
       "      <td>образование</td>\n",
       "    </tr>\n",
       "    <tr>\n",
       "      <th>8</th>\n",
       "      <td>2</td>\n",
       "      <td>-6929.865299</td>\n",
       "      <td>35</td>\n",
       "      <td>ВЫСШЕЕ</td>\n",
       "      <td>0</td>\n",
       "      <td>гражданский брак</td>\n",
       "      <td>1</td>\n",
       "      <td>F</td>\n",
       "      <td>сотрудник</td>\n",
       "      <td>0</td>\n",
       "      <td>95856.832424</td>\n",
       "      <td>на проведение свадьбы</td>\n",
       "    </tr>\n",
       "    <tr>\n",
       "      <th>9</th>\n",
       "      <td>0</td>\n",
       "      <td>-2188.756445</td>\n",
       "      <td>41</td>\n",
       "      <td>среднее</td>\n",
       "      <td>1</td>\n",
       "      <td>женат / замужем</td>\n",
       "      <td>0</td>\n",
       "      <td>M</td>\n",
       "      <td>сотрудник</td>\n",
       "      <td>0</td>\n",
       "      <td>144425.938277</td>\n",
       "      <td>покупка жилья для семьи</td>\n",
       "    </tr>\n",
       "    <tr>\n",
       "      <th>10</th>\n",
       "      <td>2</td>\n",
       "      <td>-4171.483647</td>\n",
       "      <td>36</td>\n",
       "      <td>высшее</td>\n",
       "      <td>0</td>\n",
       "      <td>женат / замужем</td>\n",
       "      <td>0</td>\n",
       "      <td>M</td>\n",
       "      <td>компаньон</td>\n",
       "      <td>0</td>\n",
       "      <td>113943.491460</td>\n",
       "      <td>покупка недвижимости</td>\n",
       "    </tr>\n",
       "    <tr>\n",
       "      <th>11</th>\n",
       "      <td>0</td>\n",
       "      <td>-792.701887</td>\n",
       "      <td>40</td>\n",
       "      <td>среднее</td>\n",
       "      <td>1</td>\n",
       "      <td>женат / замужем</td>\n",
       "      <td>0</td>\n",
       "      <td>F</td>\n",
       "      <td>сотрудник</td>\n",
       "      <td>0</td>\n",
       "      <td>77069.234271</td>\n",
       "      <td>покупка коммерческой недвижимости</td>\n",
       "    </tr>\n",
       "    <tr>\n",
       "      <th>12</th>\n",
       "      <td>0</td>\n",
       "      <td>NaN</td>\n",
       "      <td>65</td>\n",
       "      <td>среднее</td>\n",
       "      <td>1</td>\n",
       "      <td>гражданский брак</td>\n",
       "      <td>1</td>\n",
       "      <td>M</td>\n",
       "      <td>пенсионер</td>\n",
       "      <td>0</td>\n",
       "      <td>NaN</td>\n",
       "      <td>сыграть свадьбу</td>\n",
       "    </tr>\n",
       "    <tr>\n",
       "      <th>13</th>\n",
       "      <td>0</td>\n",
       "      <td>-1846.641941</td>\n",
       "      <td>54</td>\n",
       "      <td>неоконченное высшее</td>\n",
       "      <td>2</td>\n",
       "      <td>женат / замужем</td>\n",
       "      <td>0</td>\n",
       "      <td>F</td>\n",
       "      <td>сотрудник</td>\n",
       "      <td>0</td>\n",
       "      <td>130458.228857</td>\n",
       "      <td>приобретение автомобиля</td>\n",
       "    </tr>\n",
       "    <tr>\n",
       "      <th>14</th>\n",
       "      <td>0</td>\n",
       "      <td>-1844.956182</td>\n",
       "      <td>56</td>\n",
       "      <td>высшее</td>\n",
       "      <td>0</td>\n",
       "      <td>гражданский брак</td>\n",
       "      <td>1</td>\n",
       "      <td>F</td>\n",
       "      <td>компаньон</td>\n",
       "      <td>1</td>\n",
       "      <td>165127.911772</td>\n",
       "      <td>покупка жилой недвижимости</td>\n",
       "    </tr>\n",
       "    <tr>\n",
       "      <th>15</th>\n",
       "      <td>1</td>\n",
       "      <td>-972.364419</td>\n",
       "      <td>26</td>\n",
       "      <td>среднее</td>\n",
       "      <td>1</td>\n",
       "      <td>женат / замужем</td>\n",
       "      <td>0</td>\n",
       "      <td>F</td>\n",
       "      <td>сотрудник</td>\n",
       "      <td>0</td>\n",
       "      <td>116820.904450</td>\n",
       "      <td>строительство собственной недвижимости</td>\n",
       "    </tr>\n",
       "    <tr>\n",
       "      <th>16</th>\n",
       "      <td>0</td>\n",
       "      <td>-1719.934226</td>\n",
       "      <td>35</td>\n",
       "      <td>среднее</td>\n",
       "      <td>1</td>\n",
       "      <td>женат / замужем</td>\n",
       "      <td>0</td>\n",
       "      <td>F</td>\n",
       "      <td>сотрудник</td>\n",
       "      <td>0</td>\n",
       "      <td>289202.704229</td>\n",
       "      <td>недвижимость</td>\n",
       "    </tr>\n",
       "    <tr>\n",
       "      <th>17</th>\n",
       "      <td>0</td>\n",
       "      <td>-2369.999720</td>\n",
       "      <td>33</td>\n",
       "      <td>высшее</td>\n",
       "      <td>0</td>\n",
       "      <td>гражданский брак</td>\n",
       "      <td>1</td>\n",
       "      <td>M</td>\n",
       "      <td>сотрудник</td>\n",
       "      <td>0</td>\n",
       "      <td>90410.586745</td>\n",
       "      <td>строительство недвижимости</td>\n",
       "    </tr>\n",
       "    <tr>\n",
       "      <th>18</th>\n",
       "      <td>0</td>\n",
       "      <td>400281.136913</td>\n",
       "      <td>53</td>\n",
       "      <td>среднее</td>\n",
       "      <td>1</td>\n",
       "      <td>вдовец / вдова</td>\n",
       "      <td>2</td>\n",
       "      <td>F</td>\n",
       "      <td>пенсионер</td>\n",
       "      <td>0</td>\n",
       "      <td>56823.777243</td>\n",
       "      <td>на покупку подержанного автомобиля</td>\n",
       "    </tr>\n",
       "    <tr>\n",
       "      <th>19</th>\n",
       "      <td>0</td>\n",
       "      <td>-10038.818549</td>\n",
       "      <td>48</td>\n",
       "      <td>СРЕДНЕЕ</td>\n",
       "      <td>1</td>\n",
       "      <td>в разводе</td>\n",
       "      <td>3</td>\n",
       "      <td>F</td>\n",
       "      <td>сотрудник</td>\n",
       "      <td>0</td>\n",
       "      <td>242831.107982</td>\n",
       "      <td>на покупку своего автомобиля</td>\n",
       "    </tr>\n",
       "  </tbody>\n",
       "</table>\n",
       "</div>"
      ],
      "text/plain": [
       "    children  days_employed  dob_years            education  education_id  \\\n",
       "0          1   -8437.673028         42               высшее             0   \n",
       "1          1   -4024.803754         36              среднее             1   \n",
       "2          0   -5623.422610         33              Среднее             1   \n",
       "3          3   -4124.747207         32              среднее             1   \n",
       "4          0  340266.072047         53              среднее             1   \n",
       "5          0    -926.185831         27               высшее             0   \n",
       "6          0   -2879.202052         43               высшее             0   \n",
       "7          0    -152.779569         50              СРЕДНЕЕ             1   \n",
       "8          2   -6929.865299         35               ВЫСШЕЕ             0   \n",
       "9          0   -2188.756445         41              среднее             1   \n",
       "10         2   -4171.483647         36               высшее             0   \n",
       "11         0    -792.701887         40              среднее             1   \n",
       "12         0            NaN         65              среднее             1   \n",
       "13         0   -1846.641941         54  неоконченное высшее             2   \n",
       "14         0   -1844.956182         56               высшее             0   \n",
       "15         1    -972.364419         26              среднее             1   \n",
       "16         0   -1719.934226         35              среднее             1   \n",
       "17         0   -2369.999720         33               высшее             0   \n",
       "18         0  400281.136913         53              среднее             1   \n",
       "19         0  -10038.818549         48              СРЕДНЕЕ             1   \n",
       "\n",
       "       family_status  family_status_id gender income_type  debt  \\\n",
       "0    женат / замужем                 0      F   сотрудник     0   \n",
       "1    женат / замужем                 0      F   сотрудник     0   \n",
       "2    женат / замужем                 0      M   сотрудник     0   \n",
       "3    женат / замужем                 0      M   сотрудник     0   \n",
       "4   гражданский брак                 1      F   пенсионер     0   \n",
       "5   гражданский брак                 1      M   компаньон     0   \n",
       "6    женат / замужем                 0      F   компаньон     0   \n",
       "7    женат / замужем                 0      M   сотрудник     0   \n",
       "8   гражданский брак                 1      F   сотрудник     0   \n",
       "9    женат / замужем                 0      M   сотрудник     0   \n",
       "10   женат / замужем                 0      M   компаньон     0   \n",
       "11   женат / замужем                 0      F   сотрудник     0   \n",
       "12  гражданский брак                 1      M   пенсионер     0   \n",
       "13   женат / замужем                 0      F   сотрудник     0   \n",
       "14  гражданский брак                 1      F   компаньон     1   \n",
       "15   женат / замужем                 0      F   сотрудник     0   \n",
       "16   женат / замужем                 0      F   сотрудник     0   \n",
       "17  гражданский брак                 1      M   сотрудник     0   \n",
       "18    вдовец / вдова                 2      F   пенсионер     0   \n",
       "19         в разводе                 3      F   сотрудник     0   \n",
       "\n",
       "     total_income                                 purpose  \n",
       "0   253875.639453                           покупка жилья  \n",
       "1   112080.014102                 приобретение автомобиля  \n",
       "2   145885.952297                           покупка жилья  \n",
       "3   267628.550329              дополнительное образование  \n",
       "4   158616.077870                         сыграть свадьбу  \n",
       "5   255763.565419                           покупка жилья  \n",
       "6   240525.971920                       операции с жильем  \n",
       "7   135823.934197                             образование  \n",
       "8    95856.832424                   на проведение свадьбы  \n",
       "9   144425.938277                 покупка жилья для семьи  \n",
       "10  113943.491460                    покупка недвижимости  \n",
       "11   77069.234271       покупка коммерческой недвижимости  \n",
       "12            NaN                         сыграть свадьбу  \n",
       "13  130458.228857                 приобретение автомобиля  \n",
       "14  165127.911772              покупка жилой недвижимости  \n",
       "15  116820.904450  строительство собственной недвижимости  \n",
       "16  289202.704229                            недвижимость  \n",
       "17   90410.586745              строительство недвижимости  \n",
       "18   56823.777243      на покупку подержанного автомобиля  \n",
       "19  242831.107982            на покупку своего автомобиля  "
      ]
     },
     "execution_count": 37,
     "metadata": {},
     "output_type": "execute_result"
    }
   ],
   "source": [
    "data.head(20)"
   ]
  },
  {
   "cell_type": "markdown",
   "id": "83ea972e",
   "metadata": {
    "deletable": false,
    "editable": false,
    "id": "1c12e233"
   },
   "source": [
    "**Задание 3. Выведите основную информацию о датафрейме с помощью метода `info()`.**"
   ]
  },
  {
   "cell_type": "code",
   "execution_count": 38,
   "id": "a5ea5a10",
   "metadata": {
    "deletable": false,
    "id": "2b757bca",
    "outputId": "15376089-8dad-46c9-b520-c05248d43158"
   },
   "outputs": [
    {
     "name": "stdout",
     "output_type": "stream",
     "text": [
      "<class 'pandas.core.frame.DataFrame'>\n",
      "RangeIndex: 21525 entries, 0 to 21524\n",
      "Data columns (total 12 columns):\n",
      " #   Column            Non-Null Count  Dtype  \n",
      "---  ------            --------------  -----  \n",
      " 0   children          21525 non-null  int64  \n",
      " 1   days_employed     19351 non-null  float64\n",
      " 2   dob_years         21525 non-null  int64  \n",
      " 3   education         21525 non-null  object \n",
      " 4   education_id      21525 non-null  int64  \n",
      " 5   family_status     21525 non-null  object \n",
      " 6   family_status_id  21525 non-null  int64  \n",
      " 7   gender            21525 non-null  object \n",
      " 8   income_type       21525 non-null  object \n",
      " 9   debt              21525 non-null  int64  \n",
      " 10  total_income      19351 non-null  float64\n",
      " 11  purpose           21525 non-null  object \n",
      "dtypes: float64(2), int64(5), object(5)\n",
      "memory usage: 2.0+ MB\n"
     ]
    }
   ],
   "source": [
    "data.info()"
   ]
  },
  {
   "cell_type": "markdown",
   "id": "5d5bbb28",
   "metadata": {
    "deletable": false,
    "editable": false,
    "id": "333ec665"
   },
   "source": [
    "## Предобработка данных"
   ]
  },
  {
   "cell_type": "markdown",
   "id": "1cf2b6b5",
   "metadata": {
    "deletable": false,
    "editable": false,
    "id": "02d92d53"
   },
   "source": [
    "### Удаление пропусков"
   ]
  },
  {
   "cell_type": "markdown",
   "id": "925627e9",
   "metadata": {
    "deletable": false,
    "editable": false,
    "id": "cd84967c"
   },
   "source": [
    "**Задание 4. Выведите количество пропущенных значений для каждого столбца. Используйте комбинацию двух методов.**"
   ]
  },
  {
   "cell_type": "code",
   "execution_count": 39,
   "id": "b9884aca",
   "metadata": {
    "deletable": false,
    "id": "7f9b2309",
    "outputId": "81f4d817-781c-465c-ed15-91ce4446810d"
   },
   "outputs": [
    {
     "data": {
      "text/plain": [
       "children               0\n",
       "days_employed       2174\n",
       "dob_years              0\n",
       "education              0\n",
       "education_id           0\n",
       "family_status          0\n",
       "family_status_id       0\n",
       "gender                 0\n",
       "income_type            0\n",
       "debt                   0\n",
       "total_income        2174\n",
       "purpose                0\n",
       "dtype: int64"
      ]
     },
     "execution_count": 39,
     "metadata": {},
     "output_type": "execute_result"
    }
   ],
   "source": [
    "data.isna().sum()"
   ]
  },
  {
   "cell_type": "markdown",
   "id": "49425608",
   "metadata": {
    "deletable": false,
    "editable": false,
    "id": "db86e27b"
   },
   "source": [
    "**Задание 5. В двух столбцах есть пропущенные значения. Один из них — `days_employed`. Пропуски в этом столбце вы обработаете на следующем этапе. Другой столбец с пропущенными значениями — `total_income` — хранит данные о доходах. На сумму дохода сильнее всего влияет тип занятости, поэтому заполнить пропуски в этом столбце нужно медианным значением по каждому типу из столбца `income_type`. Например, у человека с типом занятости `сотрудник` пропуск в столбце `total_income` должен быть заполнен медианным доходом среди всех записей с тем же типом.**"
   ]
  },
  {
   "cell_type": "code",
   "execution_count": 10,
   "id": "b959e55c",
   "metadata": {
    "deletable": false,
    "id": "42006a93"
   },
   "outputs": [],
   "source": [
    "for t in data['income_type'].unique():\n",
    "    data.loc[(data['income_type'] == t) & (data['total_income'].isna()), 'total_income'] = \\\n",
    "    data.loc[(data['income_type'] == t), 'total_income'].median()"
   ]
  },
  {
   "cell_type": "markdown",
   "id": "95aad05b",
   "metadata": {
    "deletable": false,
    "editable": false,
    "id": "89da5ece"
   },
   "source": [
    "### Обработка аномальных значений"
   ]
  },
  {
   "cell_type": "markdown",
   "id": "bb80e21d",
   "metadata": {
    "deletable": false,
    "editable": false,
    "id": "57964554"
   },
   "source": [
    "**Задание 6. В данных могут встречаться артефакты (аномалии) — значения, которые не отражают действительность и появились по какой-то ошибке. таким артефактом будет отрицательное количество дней трудового стажа в столбце `days_employed`. Для реальных данных это нормально. Обработайте значения в этом столбце: замените все отрицательные значения положительными с помощью метода `abs()`.**"
   ]
  },
  {
   "cell_type": "code",
   "execution_count": 11,
   "id": "1897763c",
   "metadata": {
    "deletable": false,
    "id": "f6f055bf"
   },
   "outputs": [],
   "source": [
    "data['days_employed'] = data['days_employed'].abs()"
   ]
  },
  {
   "cell_type": "markdown",
   "id": "22f12cef",
   "metadata": {
    "deletable": false,
    "editable": false,
    "id": "6107dd2f"
   },
   "source": [
    "**Задание 7. Для каждого типа занятости выведите медианное значение трудового стажа `days_employed` в днях.**"
   ]
  },
  {
   "cell_type": "code",
   "execution_count": 12,
   "id": "17d1a90d",
   "metadata": {
    "deletable": false,
    "id": "85a5faf6",
    "outputId": "801ef80e-522b-4668-f34e-565af7432bcf"
   },
   "outputs": [
    {
     "data": {
      "text/plain": [
       "income_type\n",
       "безработный        366413.652744\n",
       "в декрете            3296.759962\n",
       "госслужащий          2689.368353\n",
       "компаньон            1547.382223\n",
       "пенсионер          365213.306266\n",
       "предприниматель       520.848083\n",
       "сотрудник            1574.202821\n",
       "студент               578.751554\n",
       "Name: days_employed, dtype: float64"
      ]
     },
     "execution_count": 12,
     "metadata": {},
     "output_type": "execute_result"
    }
   ],
   "source": [
    "data.groupby('income_type')['days_employed'].agg('median')"
   ]
  },
  {
   "cell_type": "markdown",
   "id": "68566977",
   "metadata": {
    "deletable": false,
    "editable": false,
    "id": "38d1a030"
   },
   "source": [
    "У двух типов (безработные и пенсионеры) получатся аномально большие значения. Исправить такие значения сложно, поэтому оставьте их как есть. Тем более этот столбец не понадобится вам для исследования."
   ]
  },
  {
   "cell_type": "markdown",
   "id": "075c44ae",
   "metadata": {
    "deletable": false,
    "editable": false,
    "id": "d8a9f147"
   },
   "source": [
    "**Задание 8. Выведите перечень уникальных значений столбца `children`.**"
   ]
  },
  {
   "cell_type": "code",
   "execution_count": 13,
   "id": "c002c1b1",
   "metadata": {
    "deletable": false,
    "id": "ef5056eb",
    "outputId": "6975b15c-7f95-4697-d16d-a0c79b657b03"
   },
   "outputs": [
    {
     "data": {
      "text/plain": [
       "array([ 1,  0,  3,  2, -1,  4, 20,  5])"
      ]
     },
     "execution_count": 13,
     "metadata": {},
     "output_type": "execute_result"
    }
   ],
   "source": [
    "data['children'].unique()"
   ]
  },
  {
   "cell_type": "markdown",
   "id": "f06afd2f",
   "metadata": {
    "deletable": false,
    "editable": false,
    "id": "40b9ebf2"
   },
   "source": [
    "**Задание 9. В столбце `children` есть два аномальных значения. Удалите строки, в которых встречаются такие аномальные значения из датафрейма `data`.**"
   ]
  },
  {
   "cell_type": "code",
   "execution_count": 14,
   "id": "d5b1fe7e",
   "metadata": {
    "deletable": false,
    "id": "3ff9801d"
   },
   "outputs": [],
   "source": [
    "data = data[(data['children'] != -1) & (data['children'] != 20)]"
   ]
  },
  {
   "cell_type": "markdown",
   "id": "c31d9cb8",
   "metadata": {
    "deletable": false,
    "editable": false,
    "id": "bbc4d0ce"
   },
   "source": [
    "**Задание 10. Ещё раз выведите перечень уникальных значений столбца `children`, чтобы убедиться, что артефакты удалены.**"
   ]
  },
  {
   "cell_type": "code",
   "execution_count": 15,
   "id": "838702e7",
   "metadata": {
    "deletable": false,
    "id": "ad4fa8b7",
    "outputId": "b2097101-d49d-44d9-901b-32a65c9463d1"
   },
   "outputs": [
    {
     "data": {
      "text/plain": [
       "array([1, 0, 3, 2, 4, 5])"
      ]
     },
     "execution_count": 15,
     "metadata": {},
     "output_type": "execute_result"
    }
   ],
   "source": [
    "data['children'].unique()"
   ]
  },
  {
   "cell_type": "markdown",
   "id": "60433696",
   "metadata": {
    "deletable": false,
    "editable": false,
    "id": "75440b63"
   },
   "source": [
    "### Удаление пропусков (продолжение)"
   ]
  },
  {
   "cell_type": "markdown",
   "id": "57e012b3",
   "metadata": {
    "deletable": false,
    "editable": false,
    "id": "f4ea573f"
   },
   "source": [
    "**Задание 11. Заполните пропуски в столбце `days_employed` медианными значениями по каждого типа занятости `income_type`.**"
   ]
  },
  {
   "cell_type": "code",
   "execution_count": 16,
   "id": "0743acec",
   "metadata": {
    "deletable": false,
    "id": "af6b1a7e"
   },
   "outputs": [],
   "source": [
    "for t in data['income_type'].unique():\n",
    "    data.loc[(data['income_type'] == t) & (data['days_employed'].isna()), 'days_employed'] = \\\n",
    "    data.loc[(data['income_type'] == t), 'days_employed'].median()"
   ]
  },
  {
   "cell_type": "markdown",
   "id": "9914e07e",
   "metadata": {
    "deletable": false,
    "editable": false,
    "id": "2753f40d"
   },
   "source": [
    "**Задание 12. Убедитесь, что все пропуски заполнены. Проверьте себя и ещё раз выведите количество пропущенных значений для каждого столбца с помощью двух методов.**"
   ]
  },
  {
   "cell_type": "code",
   "execution_count": 17,
   "id": "e59eb45e",
   "metadata": {
    "deletable": false,
    "id": "55f78bc2",
    "outputId": "8da1e4e1-358e-4e87-98c9-f261bce0a7b2"
   },
   "outputs": [
    {
     "data": {
      "text/plain": [
       "children            0\n",
       "days_employed       0\n",
       "dob_years           0\n",
       "education           0\n",
       "education_id        0\n",
       "family_status       0\n",
       "family_status_id    0\n",
       "gender              0\n",
       "income_type         0\n",
       "debt                0\n",
       "total_income        0\n",
       "purpose             0\n",
       "dtype: int64"
      ]
     },
     "execution_count": 17,
     "metadata": {},
     "output_type": "execute_result"
    }
   ],
   "source": [
    "data.isna().sum()"
   ]
  },
  {
   "cell_type": "markdown",
   "id": "000586bd",
   "metadata": {
    "deletable": false,
    "editable": false,
    "id": "ddc81e43"
   },
   "source": [
    "### Изменение типов данных"
   ]
  },
  {
   "cell_type": "markdown",
   "id": "903bd717",
   "metadata": {
    "deletable": false,
    "editable": false,
    "id": "42d19d24"
   },
   "source": [
    "**Задание 13. Замените вещественный тип данных в столбце `total_income` на целочисленный с помощью метода `astype()`.**"
   ]
  },
  {
   "cell_type": "code",
   "execution_count": 18,
   "id": "c6b77535",
   "metadata": {
    "deletable": false,
    "id": "920b65ad"
   },
   "outputs": [],
   "source": [
    "data['total_income'] = data['total_income'].astype(int)"
   ]
  },
  {
   "cell_type": "markdown",
   "id": "7a619835",
   "metadata": {
    "deletable": false,
    "editable": false,
    "id": "80c420ba"
   },
   "source": [
    "### Обработка дубликатов"
   ]
  },
  {
   "cell_type": "markdown",
   "id": "0b947dbe",
   "metadata": {
    "deletable": false,
    "editable": false
   },
   "source": [
    "**Задание 14. Обработайте неявные дубликаты в столбце `education`. В этом столбце есть одни и те же значения, но записанные по-разному: с использованием заглавных и строчных букв. Приведите их к нижнему регистру. Проверьте остальные столбцы.**"
   ]
  },
  {
   "cell_type": "code",
   "execution_count": 19,
   "id": "2e8df943",
   "metadata": {
    "deletable": false
   },
   "outputs": [],
   "source": [
    "data['education'] = data['education'].str.lower()"
   ]
  },
  {
   "cell_type": "markdown",
   "id": "1eed6db8",
   "metadata": {
    "deletable": false,
    "editable": false,
    "id": "dc587695"
   },
   "source": [
    "**Задание 15. Выведите на экран количество строк-дубликатов в данных. Если такие строки присутствуют, удалите их.**"
   ]
  },
  {
   "cell_type": "code",
   "execution_count": 20,
   "id": "a360b84d",
   "metadata": {
    "deletable": false,
    "id": "3ee445e4",
    "outputId": "9684deba-1934-42d1-99e1-cda61740f822"
   },
   "outputs": [
    {
     "data": {
      "text/plain": [
       "71"
      ]
     },
     "execution_count": 20,
     "metadata": {},
     "output_type": "execute_result"
    }
   ],
   "source": [
    "data.duplicated().sum()"
   ]
  },
  {
   "cell_type": "code",
   "execution_count": 21,
   "id": "851742a8",
   "metadata": {
    "deletable": false,
    "id": "8575fe05"
   },
   "outputs": [],
   "source": [
    "data = data.drop_duplicates()"
   ]
  },
  {
   "cell_type": "markdown",
   "id": "7ece43f2",
   "metadata": {
    "deletable": false,
    "editable": false,
    "id": "9904cf55"
   },
   "source": [
    "### Категоризация данных"
   ]
  },
  {
   "cell_type": "markdown",
   "id": "e32218db",
   "metadata": {
    "deletable": false,
    "editable": false,
    "id": "72fcc8a2"
   },
   "source": [
    "**Задание 16. На основании диапазонов, указанных ниже, создайте в датафрейме `data` столбец `total_income_category` с категориями:**\n",
    "\n",
    "- 0–30000 — `'E'`;\n",
    "- 30001–50000 — `'D'`;\n",
    "- 50001–200000 — `'C'`;\n",
    "- 200001–1000000 — `'B'`;\n",
    "- 1000001 и выше — `'A'`.\n",
    "\n",
    "\n",
    "**Например, кредитополучателю с доходом 25000 нужно назначить категорию `'E'`, а клиенту, получающему 235000, — `'B'`. Используйте собственную функцию с именем `categorize_income()` и метод `apply()`.**"
   ]
  },
  {
   "cell_type": "code",
   "execution_count": 22,
   "id": "63105669",
   "metadata": {
    "deletable": false,
    "id": "e1771346"
   },
   "outputs": [],
   "source": [
    "def categorize_income(income):\n",
    "    try:\n",
    "        if 0 <= income <= 30000:  \n",
    "            return 'E: меньше 30 000' # добавила текстовые описания категорий для упрощения визуализации при анализе категорий доходов\n",
    "        elif 30001 <= income <= 50000:\n",
    "            return 'D: от 30 000 до 50 000'\n",
    "        elif 50001 <= income <= 200000:\n",
    "            return 'C:от 50 000 до 200 000'\n",
    "        elif 200001 <= income <= 1000000:\n",
    "            return 'B от 200 000 до 1 000 000'\n",
    "        elif income >= 1000001:\n",
    "            return 'A: больше 1 000 000'\n",
    "    except:\n",
    "        pass"
   ]
  },
  {
   "cell_type": "code",
   "execution_count": 23,
   "id": "e3b83da4",
   "metadata": {
    "deletable": false,
    "id": "d5f3586d"
   },
   "outputs": [],
   "source": [
    "data['total_income_category'] = data['total_income'].apply(categorize_income)"
   ]
  },
  {
   "cell_type": "markdown",
   "id": "af5ae72c",
   "metadata": {
    "deletable": false,
    "editable": false,
    "id": "dde49b5c"
   },
   "source": [
    "**Задание 17. Выведите на экран перечень уникальных целей взятия кредита из столбца `purpose`.**"
   ]
  },
  {
   "cell_type": "code",
   "execution_count": 24,
   "id": "788b5c31",
   "metadata": {
    "deletable": false,
    "id": "f67ce9b3",
    "outputId": "673c12d9-7d7e-4ae0-9812-c622c89dd244"
   },
   "outputs": [
    {
     "data": {
      "text/plain": [
       "array(['покупка жилья', 'приобретение автомобиля',\n",
       "       'дополнительное образование', 'сыграть свадьбу',\n",
       "       'операции с жильем', 'образование', 'на проведение свадьбы',\n",
       "       'покупка жилья для семьи', 'покупка недвижимости',\n",
       "       'покупка коммерческой недвижимости', 'покупка жилой недвижимости',\n",
       "       'строительство собственной недвижимости', 'недвижимость',\n",
       "       'строительство недвижимости', 'на покупку подержанного автомобиля',\n",
       "       'на покупку своего автомобиля',\n",
       "       'операции с коммерческой недвижимостью',\n",
       "       'строительство жилой недвижимости', 'жилье',\n",
       "       'операции со своей недвижимостью', 'автомобили',\n",
       "       'заняться образованием', 'сделка с подержанным автомобилем',\n",
       "       'получение образования', 'автомобиль', 'свадьба',\n",
       "       'получение дополнительного образования', 'покупка своего жилья',\n",
       "       'операции с недвижимостью', 'получение высшего образования',\n",
       "       'свой автомобиль', 'сделка с автомобилем',\n",
       "       'профильное образование', 'высшее образование',\n",
       "       'покупка жилья для сдачи', 'на покупку автомобиля', 'ремонт жилью',\n",
       "       'заняться высшим образованием'], dtype=object)"
      ]
     },
     "execution_count": 24,
     "metadata": {},
     "output_type": "execute_result"
    }
   ],
   "source": [
    "data['purpose'].unique()"
   ]
  },
  {
   "cell_type": "markdown",
   "id": "0f64f362",
   "metadata": {
    "deletable": false,
    "editable": false,
    "id": "85d0aef0"
   },
   "source": [
    "**Задание 18. Создайте функцию, которая на основании данных из столбца `purpose` сформирует новый столбец `purpose_category`, в который войдут следующие категории:**\n",
    "\n",
    "- `'операции с автомобилем'`,\n",
    "- `'операции с недвижимостью'`,\n",
    "- `'проведение свадьбы'`,\n",
    "- `'получение образования'`.\n",
    "\n",
    "**Например, если в столбце `purpose` находится подстрока `'на покупку автомобиля'`, то в столбце `purpose_category` должна появиться строка `'операции с автомобилем'`.**\n",
    "\n",
    "**Используйте собственную функцию с именем `categorize_purpose()` и метод `apply()`. Изучите данные в столбце `purpose` и определите, какие подстроки помогут вам правильно определить категорию.**"
   ]
  },
  {
   "cell_type": "code",
   "execution_count": 25,
   "id": "d98a870a",
   "metadata": {
    "deletable": false,
    "id": "e149fab4"
   },
   "outputs": [],
   "source": [
    "def categorize_purpose(row):\n",
    "    try:\n",
    "        if 'автом' in row:\n",
    "            return 'операции с автомобилем'\n",
    "        elif 'жил' in row or 'недвиж' in row:\n",
    "            return 'операции с недвижимостью'\n",
    "        elif 'свад' in row:\n",
    "            return 'проведение свадьбы'\n",
    "        elif 'образов' in row:\n",
    "            return 'получение образования'\n",
    "    except:\n",
    "        return 'нет категории'"
   ]
  },
  {
   "cell_type": "code",
   "execution_count": 26,
   "id": "4da5b574",
   "metadata": {
    "deletable": false,
    "id": "bf36e69b"
   },
   "outputs": [],
   "source": [
    "data['purpose_category'] = data['purpose'].apply(categorize_purpose)"
   ]
  },
  {
   "cell_type": "markdown",
   "id": "c1adefa2",
   "metadata": {
    "deletable": false,
    "editable": false,
    "id": "09b242bf"
   },
   "source": [
    "### Шаг 3. Исследуйте данные и ответьте на вопросы"
   ]
  },
  {
   "cell_type": "markdown",
   "id": "fa86f4a8",
   "metadata": {
    "deletable": false,
    "editable": false,
    "id": "c5d66278"
   },
   "source": [
    "#### 3.1 Есть ли зависимость между количеством детей и возвратом кредита в срок?"
   ]
  },
  {
   "cell_type": "code",
   "execution_count": 27,
   "id": "efd5d4cb",
   "metadata": {
    "deletable": false,
    "id": "2cacfc4a"
   },
   "outputs": [
    {
     "name": "stdout",
     "output_type": "stream",
     "text": [
      "           debt       debt_proportion\n",
      "          count   sum                \n",
      "children                             \n",
      "0         14091  1063        7.543822\n",
      "1          4808   444        9.234609\n",
      "2          2052   194        9.454191\n",
      "3           330    27        8.181818\n",
      "4            41     4        9.756098\n",
      "5             9     0        0.000000\n"
     ]
    }
   ],
   "source": [
    "data_grouped = data.groupby('children').agg({'debt':['count', 'sum']})  # группируем датафрейм по столбцу \"children\" и рассчитываем количество должников по столбцу \"debt\" через 'sum' (значение 1 в 'debt') и общее кол-во записей через 'count'\n",
    "data_grouped['debt_proportion'] = data_grouped['debt']['sum']/data_grouped['debt']['count']*100  # обращаемся к новому датафрейму и добавляем новый столбец - доля должников по отношению к общему количеству заемщиков\n",
    "print(data_grouped)"
   ]
  },
  {
   "cell_type": "markdown",
   "id": "e35aef78",
   "metadata": {
    "deletable": false,
    "id": "3a6b99ec"
   },
   "source": [
    "**Вывод:** Бездетные заемщики чуть реже выступают должниками по кредитам - в среднем 7.5%. В целом уровень задолженности сохраняется примерно на одном уровне - наблюдается разброс в 2.2 процентных пункта между бездетными заемщиками и земщиками с 1-3 детьми. Среди заемщиков с 5 детьми задолженностей не наблюдается, что вероятно обусловлено прежде всего незначительностью выборки (9 случаев)."
   ]
  },
  {
   "cell_type": "markdown",
   "id": "12a3637a",
   "metadata": {
    "deletable": false,
    "editable": false,
    "id": "97be82ca"
   },
   "source": [
    "#### 3.2 Есть ли зависимость между семейным положением и возвратом кредита в срок?"
   ]
  },
  {
   "cell_type": "code",
   "execution_count": 28,
   "id": "00663944",
   "metadata": {
    "deletable": false,
    "id": "dc3f7ee8"
   },
   "outputs": [
    {
     "name": "stdout",
     "output_type": "stream",
     "text": [
      "                        debt      debt_proportions\n",
      "                       count  sum                 \n",
      "family_status                                     \n",
      "Не женат / не замужем   2796  273         9.763948\n",
      "гражданский брак        4134  385         9.313014\n",
      "женат / замужем        12261  927         7.560558\n",
      "в разводе               1189   84         7.064760\n",
      "вдовец / вдова           951   63         6.624606\n"
     ]
    }
   ],
   "source": [
    "data_grouped_2 = data.groupby('family_status').agg({'debt':['count', 'sum']})  #  группируем датафрейм по семейному статусу,рассчитываем количество должников по столбцу \"debt\" через 'sum' и общее кол-во записей через 'count' \n",
    "data_grouped_2['debt_proportions'] = data_grouped_2['debt']['sum']/data_grouped_2['debt']['count']*100  # добавляем новый столбец - доля должников по отношению к общему количеству заемщиков\n",
    "print(data_grouped_2.sort_values(by = 'debt_proportions', ascending = False))"
   ]
  },
  {
   "cell_type": "markdown",
   "id": "72d5eedc",
   "metadata": {
    "deletable": false,
    "id": "1cef7837"
   },
   "source": [
    "**Вывод:** Заемщики, не состоящие в официально зарегистрированных отношениях несколько чаще становятся должниками по кредитам: 9.7-9.3% против 7.5% у женатых и замужних заемщиков. Реже всего должниками становятся вдовые заемщики - 6.6%"
   ]
  },
  {
   "cell_type": "markdown",
   "id": "6ef652fb",
   "metadata": {
    "deletable": false,
    "editable": false,
    "id": "1e8b2fca"
   },
   "source": [
    "#### 3.3 Есть ли зависимость между уровнем дохода и возвратом кредита в срок?"
   ]
  },
  {
   "cell_type": "code",
   "execution_count": 29,
   "id": "d7638d55",
   "metadata": {
    "deletable": false,
    "id": "cd7e3720"
   },
   "outputs": [
    {
     "name": "stdout",
     "output_type": "stream",
     "text": [
      "                            debt       debt_proportions\n",
      "                           count   sum                 \n",
      "total_income_category                                  \n",
      "E: меньше 30 000              22     2         9.090909\n",
      "C:от 50 000 до 200 000     15921  1353         8.498210\n",
      "A: больше 1 000 000           25     2         8.000000\n",
      "B от 200 000 до 1 000 000   5014   354         7.060231\n",
      "D: от 30 000 до 50 000       349    21         6.017192\n"
     ]
    }
   ],
   "source": [
    "data_grouped_3 = data.groupby('total_income_category').agg({'debt':['count', 'sum']})  #  группируем датафрейм по уровню дохода, подсчитываем количество должников (столбец \"sum\") и общее количество заемщиков ('count')\n",
    "data_grouped_3['debt_proportions'] = data_grouped_3['debt']['sum']/data_grouped_3['debt']['count']*100  # добавляем расчет доли должников\n",
    "print(data_grouped_3.sort_values(by = 'debt_proportions', ascending = False))"
   ]
  },
  {
   "cell_type": "markdown",
   "id": "d3f79087",
   "metadata": {
    "deletable": false,
    "id": "e8593def"
   },
   "source": [
    "**Вывод:** Заемщики со уровнем дохода от 30 до 50 тысяч рублей реже всего выступают должниками по кредитам - всего лишь в 6% случаев. На втором месте должники с уровнем дохода от 200 тысяч рублей до 1 миллиона: 7% случаев. Чаще всего просрочки по кредитам наблюдаются у заемщиков с минимальным уровнем дохода - до 30 тысяч рублей, однако эти данные нельзя считать репрезентативными в силу малочисленности выборки (всего 22 кейса)."
   ]
  },
  {
   "cell_type": "markdown",
   "id": "2d1405c9",
   "metadata": {
    "deletable": false,
    "editable": false,
    "id": "99ecbd1f"
   },
   "source": [
    "#### 3.4 Как разные цели кредита влияют на его возврат в срок?"
   ]
  },
  {
   "cell_type": "code",
   "execution_count": 30,
   "id": "849d5c26",
   "metadata": {
    "deletable": false,
    "id": "2b687290"
   },
   "outputs": [
    {
     "name": "stdout",
     "output_type": "stream",
     "text": [
      "                           debt      debt_proportions\n",
      "                          count  sum                 \n",
      "purpose_category                                     \n",
      "операции с автомобилем     4279  400         9.347978\n",
      "получение образования      3988  369         9.252758\n",
      "проведение свадьбы         2313  183         7.911803\n",
      "операции с недвижимостью  10751  780         7.255139\n"
     ]
    }
   ],
   "source": [
    "data_grouped_4 = data.groupby('purpose_category').agg({'debt':['count', 'sum']})  #  группируем датафрейм по цели кредита, подсчитываем количество должников (столбец \"sum\") и общее количество заемщиков ('count')\n",
    "data_grouped_4['debt_proportions'] = data_grouped_4['debt']['sum']/data_grouped_4['debt']['count']*100  # добавляем расчет доли должников\n",
    "print(data_grouped_4.sort_values(by = 'debt_proportions', ascending = False))\n"
   ]
  },
  {
   "cell_type": "markdown",
   "id": "828d4ae8",
   "metadata": {
    "deletable": false,
    "id": "b4bb2ce6"
   },
   "source": [
    "**Вывод:** Кредиты выданные для операций с автомобилями и получение образования чаще выступают просроченными - в среднем в 9.2-9.3 процентов случаев. Кредиты, выданные для операций с недвижимостью не выплачивают реже всего - в 7.2% случаев. "
   ]
  },
  {
   "cell_type": "markdown",
   "id": "ffd8caef",
   "metadata": {
    "deletable": false,
    "editable": false,
    "id": "09c3ac4c"
   },
   "source": [
    "#### 3.5 Приведите возможные причины появления пропусков в исходных данных."
   ]
  },
  {
   "cell_type": "markdown",
   "id": "04398ea9",
   "metadata": {
    "deletable": false,
    "id": "9da2ceda"
   },
   "source": [
    "1. Гипотеза 1: данные не были предоставлены клиентом - не подходит, т.к. в таком случае не был бы выдан кредит. ❌\n",
    "2. Гипотеза 2: клиент не работает и, соответственно, у него нет дохода и дней трудоустройства  - доп анализ строк с пустыми значениями гипотезу не подтвердил - в графе источник дохода работа указана (сотрудник, пенсионер и другие роли) ❌\n",
    "3. Гипотеза 3: данные просто не подгрузились по технической или иной причине. \n",
    "    В пользу гипотезы 3 говорит тот факт, что количество пропусков идентичное и в столбце \"total_income\" и в столбце \"days_employed\". Более того, они принадлежат одним и тем же строкам. \n",
    "    \n",
    "    Количество пропусков - 2174 (из 21525 записей, примерно 10%) , значимых корреляций с видом деятельности, целью кредита, семейным положением мною не выявлено. Возможно имело место региональная или иная специфика - недостаточно данных для такого анализа."
   ]
  },
  {
   "cell_type": "markdown",
   "id": "0795d50a",
   "metadata": {
    "deletable": false,
    "editable": false,
    "id": "7b0487d6"
   },
   "source": [
    "#### 3.6 Объясните, почему заполнить пропуски медианным значением — лучшее решение для количественных переменных."
   ]
  },
  {
   "cell_type": "markdown",
   "id": "56827ddd",
   "metadata": {
    "deletable": false,
    "id": "7ecf2b8e"
   },
   "source": [
    "*Ответ:* При необходимости заполнить пропущенные данные представляется более эффективным использовать медианные, а не средние значения. В таком случае мы застрахованы от влияния выбросов (резко отличающихся данных) на общую выборку. Например при заполнении пропусков в данных, связанных со уровнем дохода, стоимостью продуктов и т.п. - достаточно одного кейса со значительным отклонением от других значений (например зарплата топ-менеджера среди общих зп сотрудников большого предприятия) для сильного искажения средних показателей. Использование медианы - срединного значения (ровно половина данных ниже его, а другая- выше) в этом случае более безопасно с точки зрения заполнения пропусков."
   ]
  },
  {
   "cell_type": "markdown",
   "id": "572aa246",
   "metadata": {
    "deletable": false,
    "editable": false,
    "id": "6db5255a"
   },
   "source": [
    "### Шаг 4: общий вывод."
   ]
  },
  {
   "cell_type": "markdown",
   "id": "90317ccc",
   "metadata": {
    "deletable": false,
    "id": "bad65432"
   },
   "source": [
    "Анализ данных не выявил критичных корреляций между задержкой с выплатой кредита и семейным статусом/наличием детей, целью дохода или уровнем дохода заемщика. Между тем отмечено несколько тенденций:\n",
    "1. Бездетные заемщики реже выступают должниками, чем заемщики с детьми. Одновременно с этим просрочка кредита чаще наблюдается у заемщиков, не состоящих в зарегистированных отношениях (семейный статус - холост или гражданский брак), что выглядит несколько противоречиво. \n",
    "Дополнительный кросс-анализ наличия задолженности (расчеты ниже) у заемщика в разрезе количества детей и семейного статуса выявил более явные закономерности: самый высокий уровень задолженности (свыше 10%) отмечен у заемщиков с детьми и и при этом не состоящих в зарегистированных отношениях(холост, в разводе, вдовец), т.е потенциально выступающими единственными родителями. \n",
    "Можно выдвинуть гипотезу о более высоком риске просроченных кредитов у заемщиков - соло родителей, возможно связанный с финансовым грузом содержания ребенка.\n",
    "2. Анализ соотношения уровня дохода и задолженности по кредиту показал что реже всего долги по кредитам у заемщиков с уровнем дохода от 30 до 50 тысяч рублей - всего  6%. \n",
    "На втором месте должники с уровнем дохода от 200 тысяч рублей до 1 миллиона: 7% случаев. Чаще всего просрочки по кредитам наблюдаются у заемщиков с минимальным уровнем дохода - до 30 тысяч рублей, однако эти данные нельзя считать репрезентативными в силу малочисленности выборки (всего 22 кейса). На втором месте по просрочкам заемщики с уровнем дохода от 50 до 200 тысяч рублей - 8.5%\n",
    "3. Чаще всего просроченными являются кредиты выданные для операций с автомобилями и получением образования - в среднем в 9.2-9.3 процентов случаев. Кредиты, выданные для операций с недвижимостью не выплачивают реже всего - в 7.2% случаев.\n"
   ]
  }
 ],
 "metadata": {
  "ExecuteTimeLog": [
   {
    "duration": 475,
    "start_time": "2022-12-19T10:02:07.302Z"
   },
   {
    "duration": 41,
    "start_time": "2022-12-19T10:02:08.620Z"
   },
   {
    "duration": 16,
    "start_time": "2022-12-19T10:02:12.363Z"
   },
   {
    "duration": 11,
    "start_time": "2022-12-19T10:02:14.302Z"
   },
   {
    "duration": 36,
    "start_time": "2022-12-19T10:02:15.435Z"
   },
   {
    "duration": 5,
    "start_time": "2022-12-19T10:02:16.358Z"
   },
   {
    "duration": 8,
    "start_time": "2022-12-19T10:02:16.651Z"
   },
   {
    "duration": 5,
    "start_time": "2022-12-19T10:02:17.106Z"
   },
   {
    "duration": 8,
    "start_time": "2022-12-19T10:02:17.769Z"
   },
   {
    "duration": 5,
    "start_time": "2022-12-19T10:02:20.245Z"
   },
   {
    "duration": 36,
    "start_time": "2022-12-19T10:02:27.796Z"
   },
   {
    "duration": 13,
    "start_time": "2022-12-19T10:02:28.265Z"
   },
   {
    "duration": 4,
    "start_time": "2022-12-19T10:02:37.957Z"
   },
   {
    "duration": 12,
    "start_time": "2022-12-19T10:02:39.657Z"
   },
   {
    "duration": 22,
    "start_time": "2022-12-19T10:02:41.700Z"
   },
   {
    "duration": 18,
    "start_time": "2022-12-19T10:02:42.339Z"
   },
   {
    "duration": 4,
    "start_time": "2022-12-19T10:02:44.498Z"
   },
   {
    "duration": 12,
    "start_time": "2022-12-19T10:02:46.040Z"
   },
   {
    "duration": 7,
    "start_time": "2022-12-19T10:02:47.605Z"
   },
   {
    "duration": 4,
    "start_time": "2022-12-19T10:02:57.970Z"
   },
   {
    "duration": 11,
    "start_time": "2022-12-19T10:02:59.810Z"
   },
   {
    "duration": 23,
    "start_time": "2022-12-19T10:03:41.876Z"
   },
   {
    "duration": 48,
    "start_time": "2022-12-19T10:04:19.350Z"
   },
   {
    "duration": 10,
    "start_time": "2022-12-19T10:04:31.105Z"
   },
   {
    "duration": 71,
    "start_time": "2022-12-19T10:05:46.145Z"
   },
   {
    "duration": 3,
    "start_time": "2022-12-19T10:05:52.566Z"
   },
   {
    "duration": 4,
    "start_time": "2022-12-19T10:06:13.323Z"
   },
   {
    "duration": 11,
    "start_time": "2022-12-19T10:06:29.369Z"
   },
   {
    "duration": 7,
    "start_time": "2022-12-19T10:07:24.903Z"
   },
   {
    "duration": 20,
    "start_time": "2022-12-19T10:20:18.949Z"
   },
   {
    "duration": 11,
    "start_time": "2022-12-19T10:22:14.528Z"
   },
   {
    "duration": 47,
    "start_time": "2022-12-19T10:23:04.588Z"
   },
   {
    "duration": 51,
    "start_time": "2022-12-19T10:23:10.690Z"
   },
   {
    "duration": 8,
    "start_time": "2022-12-19T10:23:16.810Z"
   },
   {
    "duration": 8,
    "start_time": "2022-12-19T10:23:28.602Z"
   },
   {
    "duration": 50,
    "start_time": "2022-12-19T10:25:19.299Z"
   },
   {
    "duration": 19,
    "start_time": "2022-12-19T10:25:27.519Z"
   },
   {
    "duration": 18,
    "start_time": "2022-12-19T10:25:37.944Z"
   },
   {
    "duration": 24,
    "start_time": "2022-12-19T10:26:13.096Z"
   },
   {
    "duration": 18,
    "start_time": "2022-12-19T10:26:17.602Z"
   },
   {
    "duration": 198,
    "start_time": "2022-12-19T10:26:49.207Z"
   },
   {
    "duration": 22,
    "start_time": "2022-12-19T10:26:56.905Z"
   },
   {
    "duration": 20,
    "start_time": "2022-12-19T10:27:09.602Z"
   },
   {
    "duration": 18,
    "start_time": "2022-12-19T10:27:17.107Z"
   },
   {
    "duration": 18,
    "start_time": "2022-12-19T10:27:52.511Z"
   },
   {
    "duration": 23,
    "start_time": "2022-12-19T10:27:59.974Z"
   },
   {
    "duration": 19,
    "start_time": "2022-12-19T10:28:09.770Z"
   },
   {
    "duration": 20,
    "start_time": "2022-12-19T10:28:30.591Z"
   },
   {
    "duration": 17,
    "start_time": "2022-12-19T10:28:47.097Z"
   },
   {
    "duration": 5,
    "start_time": "2022-12-19T10:29:16.212Z"
   },
   {
    "duration": 21,
    "start_time": "2022-12-19T10:29:22.302Z"
   },
   {
    "duration": 18,
    "start_time": "2022-12-19T10:30:17.530Z"
   },
   {
    "duration": 15,
    "start_time": "2022-12-19T10:31:01.595Z"
   },
   {
    "duration": 22,
    "start_time": "2022-12-19T10:33:37.511Z"
   },
   {
    "duration": 12,
    "start_time": "2022-12-19T10:35:30.966Z"
   },
   {
    "duration": 12,
    "start_time": "2022-12-19T10:35:37.657Z"
   },
   {
    "duration": 11,
    "start_time": "2022-12-19T10:35:47.228Z"
   },
   {
    "duration": 9,
    "start_time": "2022-12-19T10:35:58.662Z"
   },
   {
    "duration": 14,
    "start_time": "2022-12-19T10:37:25.003Z"
   },
   {
    "duration": 10,
    "start_time": "2022-12-19T10:37:42.750Z"
   },
   {
    "duration": 14,
    "start_time": "2022-12-19T10:38:41.602Z"
   },
   {
    "duration": 22,
    "start_time": "2022-12-19T10:39:01.596Z"
   },
   {
    "duration": 21,
    "start_time": "2022-12-19T10:39:15.373Z"
   },
   {
    "duration": 12,
    "start_time": "2022-12-19T10:39:24.327Z"
   },
   {
    "duration": 54,
    "start_time": "2022-12-19T10:39:32.768Z"
   },
   {
    "duration": 12,
    "start_time": "2022-12-19T10:39:35.649Z"
   },
   {
    "duration": 11,
    "start_time": "2022-12-19T10:39:59.849Z"
   },
   {
    "duration": 13,
    "start_time": "2022-12-19T10:40:23.289Z"
   },
   {
    "duration": 16,
    "start_time": "2022-12-19T10:41:36.365Z"
   },
   {
    "duration": 14,
    "start_time": "2022-12-19T10:41:56.365Z"
   },
   {
    "duration": 11,
    "start_time": "2022-12-19T10:42:15.800Z"
   },
   {
    "duration": 12,
    "start_time": "2022-12-19T10:42:20.599Z"
   },
   {
    "duration": 21,
    "start_time": "2022-12-19T10:43:07.208Z"
   },
   {
    "duration": 24,
    "start_time": "2022-12-19T10:43:30.910Z"
   },
   {
    "duration": 10,
    "start_time": "2022-12-19T10:43:54.693Z"
   },
   {
    "duration": 11,
    "start_time": "2022-12-19T10:44:13.264Z"
   },
   {
    "duration": 10,
    "start_time": "2022-12-19T10:44:35.194Z"
   },
   {
    "duration": 35,
    "start_time": "2022-12-19T10:44:44.407Z"
   },
   {
    "duration": 26,
    "start_time": "2022-12-19T10:44:52.656Z"
   },
   {
    "duration": 25,
    "start_time": "2022-12-19T10:45:07.060Z"
   },
   {
    "duration": 18,
    "start_time": "2022-12-19T10:45:23.437Z"
   },
   {
    "duration": 27,
    "start_time": "2022-12-19T10:46:12.034Z"
   },
   {
    "duration": 12,
    "start_time": "2022-12-19T10:46:27.040Z"
   },
   {
    "duration": 15,
    "start_time": "2022-12-19T10:47:00.733Z"
   },
   {
    "duration": 37,
    "start_time": "2022-12-19T10:47:37.504Z"
   },
   {
    "duration": 17,
    "start_time": "2022-12-19T10:47:43.436Z"
   },
   {
    "duration": 14,
    "start_time": "2022-12-19T10:47:57.443Z"
   },
   {
    "duration": 15,
    "start_time": "2022-12-19T10:48:16.471Z"
   },
   {
    "duration": 4,
    "start_time": "2022-12-19T11:25:03.717Z"
   },
   {
    "duration": 81,
    "start_time": "2022-12-19T11:25:09.924Z"
   },
   {
    "duration": 18,
    "start_time": "2022-12-19T11:25:10.950Z"
   },
   {
    "duration": 15,
    "start_time": "2022-12-19T11:25:12.069Z"
   },
   {
    "duration": 10,
    "start_time": "2022-12-19T11:25:13.394Z"
   },
   {
    "duration": 33,
    "start_time": "2022-12-19T11:25:13.689Z"
   },
   {
    "duration": 4,
    "start_time": "2022-12-19T11:25:14.478Z"
   },
   {
    "duration": 9,
    "start_time": "2022-12-19T11:25:14.761Z"
   },
   {
    "duration": 4,
    "start_time": "2022-12-19T11:25:15.520Z"
   },
   {
    "duration": 7,
    "start_time": "2022-12-19T11:25:15.813Z"
   },
   {
    "duration": 6,
    "start_time": "2022-12-19T11:25:16.094Z"
   },
   {
    "duration": 34,
    "start_time": "2022-12-19T11:25:16.515Z"
   },
   {
    "duration": 10,
    "start_time": "2022-12-19T11:25:16.802Z"
   },
   {
    "duration": 4,
    "start_time": "2022-12-19T11:25:17.685Z"
   },
   {
    "duration": 11,
    "start_time": "2022-12-19T11:25:18.118Z"
   },
   {
    "duration": 26,
    "start_time": "2022-12-19T11:25:18.413Z"
   },
   {
    "duration": 23,
    "start_time": "2022-12-19T11:25:18.557Z"
   },
   {
    "duration": 4,
    "start_time": "2022-12-19T11:25:19.451Z"
   },
   {
    "duration": 11,
    "start_time": "2022-12-19T11:25:19.741Z"
   },
   {
    "duration": 6,
    "start_time": "2022-12-19T11:25:20.558Z"
   },
   {
    "duration": 4,
    "start_time": "2022-12-19T11:25:21.807Z"
   },
   {
    "duration": 9,
    "start_time": "2022-12-19T11:25:22.293Z"
   },
   {
    "duration": 53,
    "start_time": "2022-12-19T11:25:25.151Z"
   },
   {
    "duration": 15,
    "start_time": "2022-12-19T11:25:32.621Z"
   },
   {
    "duration": 68,
    "start_time": "2022-12-19T11:25:49.727Z"
   },
   {
    "duration": 14,
    "start_time": "2022-12-19T11:25:58.832Z"
   },
   {
    "duration": 14,
    "start_time": "2022-12-19T11:26:27.201Z"
   },
   {
    "duration": 13,
    "start_time": "2022-12-19T11:26:38.646Z"
   },
   {
    "duration": 56,
    "start_time": "2022-12-19T11:27:46.616Z"
   },
   {
    "duration": 10,
    "start_time": "2022-12-19T11:27:56.826Z"
   },
   {
    "duration": 11,
    "start_time": "2022-12-19T11:28:26.263Z"
   },
   {
    "duration": 12,
    "start_time": "2022-12-19T11:35:48.512Z"
   },
   {
    "duration": 14,
    "start_time": "2022-12-19T11:35:50.150Z"
   },
   {
    "duration": 18,
    "start_time": "2022-12-19T11:37:03.384Z"
   },
   {
    "duration": 15,
    "start_time": "2022-12-19T11:37:12.252Z"
   },
   {
    "duration": 17,
    "start_time": "2022-12-19T11:37:22.027Z"
   },
   {
    "duration": 15,
    "start_time": "2022-12-19T11:37:40.111Z"
   },
   {
    "duration": 15,
    "start_time": "2022-12-19T11:38:13.420Z"
   },
   {
    "duration": 13,
    "start_time": "2022-12-19T11:38:24.915Z"
   },
   {
    "duration": 13,
    "start_time": "2022-12-19T11:38:30.752Z"
   },
   {
    "duration": 12,
    "start_time": "2022-12-19T11:39:14.552Z"
   },
   {
    "duration": 17,
    "start_time": "2022-12-19T11:52:19.135Z"
   },
   {
    "duration": 22,
    "start_time": "2022-12-19T11:52:36.208Z"
   },
   {
    "duration": 20,
    "start_time": "2022-12-19T11:52:41.312Z"
   },
   {
    "duration": 50,
    "start_time": "2022-12-19T11:53:25.345Z"
   },
   {
    "duration": 45,
    "start_time": "2022-12-19T11:53:35.331Z"
   },
   {
    "duration": 15,
    "start_time": "2022-12-19T11:53:46.786Z"
   },
   {
    "duration": 22,
    "start_time": "2022-12-19T11:54:47.543Z"
   },
   {
    "duration": 17,
    "start_time": "2022-12-19T11:55:20.541Z"
   },
   {
    "duration": 14,
    "start_time": "2022-12-19T11:55:42.613Z"
   },
   {
    "duration": 23,
    "start_time": "2022-12-19T11:56:11.985Z"
   },
   {
    "duration": 18,
    "start_time": "2022-12-19T11:56:41.855Z"
   },
   {
    "duration": 46,
    "start_time": "2022-12-19T13:15:50.784Z"
   },
   {
    "duration": 613,
    "start_time": "2022-12-19T13:15:54.131Z"
   },
   {
    "duration": 23,
    "start_time": "2022-12-19T13:15:55.522Z"
   },
   {
    "duration": 14,
    "start_time": "2022-12-19T13:15:56.823Z"
   },
   {
    "duration": 9,
    "start_time": "2022-12-19T13:15:58.160Z"
   },
   {
    "duration": 31,
    "start_time": "2022-12-19T13:15:58.440Z"
   },
   {
    "duration": 3,
    "start_time": "2022-12-19T13:15:59.054Z"
   },
   {
    "duration": 7,
    "start_time": "2022-12-19T13:15:59.455Z"
   },
   {
    "duration": 4,
    "start_time": "2022-12-19T13:16:00.139Z"
   },
   {
    "duration": 7,
    "start_time": "2022-12-19T13:16:00.587Z"
   },
   {
    "duration": 5,
    "start_time": "2022-12-19T13:16:01.156Z"
   },
   {
    "duration": 30,
    "start_time": "2022-12-19T13:16:01.691Z"
   },
   {
    "duration": 10,
    "start_time": "2022-12-19T13:16:02.406Z"
   },
   {
    "duration": 3,
    "start_time": "2022-12-19T13:16:02.836Z"
   },
   {
    "duration": 10,
    "start_time": "2022-12-19T13:16:03.472Z"
   },
   {
    "duration": 20,
    "start_time": "2022-12-19T13:16:04.067Z"
   },
   {
    "duration": 18,
    "start_time": "2022-12-19T13:16:04.204Z"
   },
   {
    "duration": 5,
    "start_time": "2022-12-19T13:16:05.228Z"
   },
   {
    "duration": 11,
    "start_time": "2022-12-19T13:16:05.711Z"
   },
   {
    "duration": 6,
    "start_time": "2022-12-19T13:16:06.318Z"
   },
   {
    "duration": 3,
    "start_time": "2022-12-19T13:16:06.724Z"
   },
   {
    "duration": 11,
    "start_time": "2022-12-19T13:16:06.763Z"
   },
   {
    "duration": 15,
    "start_time": "2022-12-19T13:16:07.623Z"
   },
   {
    "duration": 14,
    "start_time": "2022-12-19T13:16:09.591Z"
   },
   {
    "duration": 14,
    "start_time": "2022-12-19T13:16:12.269Z"
   },
   {
    "duration": 13,
    "start_time": "2022-12-19T13:16:18.409Z"
   },
   {
    "duration": 12,
    "start_time": "2022-12-19T14:43:22.931Z"
   },
   {
    "duration": 4,
    "start_time": "2022-12-19T14:43:23.894Z"
   },
   {
    "duration": 12,
    "start_time": "2022-12-19T14:43:24.746Z"
   },
   {
    "duration": 22,
    "start_time": "2022-12-19T14:43:25.697Z"
   },
   {
    "duration": 22,
    "start_time": "2022-12-19T14:43:26.310Z"
   },
   {
    "duration": 3,
    "start_time": "2022-12-19T14:43:30.091Z"
   },
   {
    "duration": 10,
    "start_time": "2022-12-19T14:43:30.595Z"
   },
   {
    "duration": 5,
    "start_time": "2022-12-19T14:43:31.653Z"
   },
   {
    "duration": 4,
    "start_time": "2022-12-19T14:43:33.263Z"
   },
   {
    "duration": 8,
    "start_time": "2022-12-19T14:43:33.975Z"
   },
   {
    "duration": 11,
    "start_time": "2022-12-19T14:43:39.208Z"
   },
   {
    "duration": 14,
    "start_time": "2022-12-19T14:43:41.671Z"
   },
   {
    "duration": 25,
    "start_time": "2022-12-19T14:43:44.741Z"
   },
   {
    "duration": 31,
    "start_time": "2022-12-19T14:43:50.193Z"
   },
   {
    "duration": 11,
    "start_time": "2022-12-19T14:44:00.314Z"
   },
   {
    "duration": 14,
    "start_time": "2022-12-19T14:45:29.505Z"
   },
   {
    "duration": 20,
    "start_time": "2022-12-19T14:46:18.071Z"
   },
   {
    "duration": 17,
    "start_time": "2022-12-19T14:47:02.402Z"
   },
   {
    "duration": 17,
    "start_time": "2022-12-19T14:47:46.534Z"
   },
   {
    "duration": 16,
    "start_time": "2022-12-19T14:48:47.055Z"
   },
   {
    "duration": 14,
    "start_time": "2022-12-19T14:49:24.891Z"
   },
   {
    "duration": 11,
    "start_time": "2022-12-19T14:49:37.151Z"
   },
   {
    "duration": 16,
    "start_time": "2022-12-19T14:49:41.137Z"
   },
   {
    "duration": 14,
    "start_time": "2022-12-19T14:49:47.632Z"
   },
   {
    "duration": 19,
    "start_time": "2022-12-19T14:50:21.057Z"
   },
   {
    "duration": 21,
    "start_time": "2022-12-19T14:50:44.532Z"
   },
   {
    "duration": 13,
    "start_time": "2022-12-19T14:50:56.533Z"
   },
   {
    "duration": 15,
    "start_time": "2022-12-19T14:52:33.065Z"
   },
   {
    "duration": 763,
    "start_time": "2022-12-19T17:41:07.953Z"
   },
   {
    "duration": 23,
    "start_time": "2022-12-19T17:41:11.236Z"
   },
   {
    "duration": 11,
    "start_time": "2022-12-19T17:41:15.308Z"
   },
   {
    "duration": 16,
    "start_time": "2022-12-19T17:41:34.271Z"
   },
   {
    "duration": 11,
    "start_time": "2022-12-19T17:41:58.062Z"
   },
   {
    "duration": 35,
    "start_time": "2022-12-19T17:42:08.023Z"
   },
   {
    "duration": 35,
    "start_time": "2022-12-19T17:42:10.726Z"
   },
   {
    "duration": 3,
    "start_time": "2022-12-19T17:42:13.471Z"
   },
   {
    "duration": 10,
    "start_time": "2022-12-19T17:42:14.431Z"
   },
   {
    "duration": 4,
    "start_time": "2022-12-19T17:42:18.190Z"
   },
   {
    "duration": 9,
    "start_time": "2022-12-19T17:42:19.420Z"
   },
   {
    "duration": 5,
    "start_time": "2022-12-19T17:42:19.981Z"
   },
   {
    "duration": 34,
    "start_time": "2022-12-19T17:42:20.533Z"
   },
   {
    "duration": 10,
    "start_time": "2022-12-19T17:42:21.088Z"
   },
   {
    "duration": 3,
    "start_time": "2022-12-19T17:42:22.684Z"
   },
   {
    "duration": 12,
    "start_time": "2022-12-19T17:42:24.042Z"
   },
   {
    "duration": 19,
    "start_time": "2022-12-19T17:42:24.779Z"
   },
   {
    "duration": 20,
    "start_time": "2022-12-19T17:42:24.946Z"
   },
   {
    "duration": 4,
    "start_time": "2022-12-19T17:42:33.291Z"
   },
   {
    "duration": 11,
    "start_time": "2022-12-19T17:42:33.818Z"
   },
   {
    "duration": 7,
    "start_time": "2022-12-19T17:42:34.910Z"
   },
   {
    "duration": 90,
    "start_time": "2022-12-19T17:49:17.089Z"
   },
   {
    "duration": 16,
    "start_time": "2022-12-19T17:49:55.337Z"
   },
   {
    "duration": 15,
    "start_time": "2022-12-19T17:50:02.356Z"
   },
   {
    "duration": 531,
    "start_time": "2022-12-19T18:10:34.321Z"
   },
   {
    "duration": 27,
    "start_time": "2022-12-19T18:10:35.906Z"
   },
   {
    "duration": 16,
    "start_time": "2022-12-19T18:10:39.116Z"
   },
   {
    "duration": 10,
    "start_time": "2022-12-19T18:10:41.806Z"
   },
   {
    "duration": 31,
    "start_time": "2022-12-19T18:10:43.086Z"
   },
   {
    "duration": 3,
    "start_time": "2022-12-19T18:10:44.541Z"
   },
   {
    "duration": 8,
    "start_time": "2022-12-19T18:10:46.086Z"
   },
   {
    "duration": 4,
    "start_time": "2022-12-19T18:10:48.196Z"
   },
   {
    "duration": 8,
    "start_time": "2022-12-19T18:10:49.144Z"
   },
   {
    "duration": 5,
    "start_time": "2022-12-19T18:10:50.183Z"
   },
   {
    "duration": 31,
    "start_time": "2022-12-19T18:10:53.399Z"
   },
   {
    "duration": 14,
    "start_time": "2022-12-19T18:10:54.638Z"
   },
   {
    "duration": 5,
    "start_time": "2022-12-19T18:10:56.277Z"
   },
   {
    "duration": 11,
    "start_time": "2022-12-19T18:10:57.358Z"
   },
   {
    "duration": 3,
    "start_time": "2022-12-19T18:11:09.146Z"
   },
   {
    "duration": 11,
    "start_time": "2022-12-19T18:11:14.637Z"
   },
   {
    "duration": 19,
    "start_time": "2022-12-19T18:11:15.554Z"
   },
   {
    "duration": 18,
    "start_time": "2022-12-19T18:11:16.142Z"
   },
   {
    "duration": 4,
    "start_time": "2022-12-19T18:11:20.248Z"
   },
   {
    "duration": 14,
    "start_time": "2022-12-19T18:11:20.626Z"
   },
   {
    "duration": 6,
    "start_time": "2022-12-19T18:11:21.702Z"
   },
   {
    "duration": 4,
    "start_time": "2022-12-19T18:11:22.820Z"
   },
   {
    "duration": 9,
    "start_time": "2022-12-19T18:11:23.284Z"
   },
   {
    "duration": 14,
    "start_time": "2022-12-19T18:11:25.396Z"
   },
   {
    "duration": 16,
    "start_time": "2022-12-19T18:11:28.204Z"
   },
   {
    "duration": 15,
    "start_time": "2022-12-19T18:11:30.222Z"
   },
   {
    "duration": 15,
    "start_time": "2022-12-19T18:11:33.674Z"
   },
   {
    "duration": 7,
    "start_time": "2022-12-19T18:12:15.872Z"
   },
   {
    "duration": 14,
    "start_time": "2022-12-19T18:12:33.538Z"
   },
   {
    "duration": 19,
    "start_time": "2022-12-19T18:12:41.196Z"
   },
   {
    "duration": 19,
    "start_time": "2022-12-19T18:13:22.890Z"
   },
   {
    "duration": 24,
    "start_time": "2022-12-19T18:14:08.244Z"
   },
   {
    "duration": 17,
    "start_time": "2022-12-19T18:14:52.896Z"
   },
   {
    "duration": 446,
    "start_time": "2022-12-20T05:38:59.408Z"
   },
   {
    "duration": 19,
    "start_time": "2022-12-20T05:38:59.856Z"
   },
   {
    "duration": 56,
    "start_time": "2022-12-20T05:38:59.877Z"
   },
   {
    "duration": 32,
    "start_time": "2022-12-20T05:38:59.935Z"
   },
   {
    "duration": 64,
    "start_time": "2022-12-20T05:38:59.969Z"
   },
   {
    "duration": 5,
    "start_time": "2022-12-20T05:39:00.034Z"
   },
   {
    "duration": 43,
    "start_time": "2022-12-20T05:39:00.040Z"
   },
   {
    "duration": 52,
    "start_time": "2022-12-20T05:39:00.084Z"
   },
   {
    "duration": 34,
    "start_time": "2022-12-20T05:39:00.137Z"
   },
   {
    "duration": 38,
    "start_time": "2022-12-20T05:39:00.172Z"
   },
   {
    "duration": 76,
    "start_time": "2022-12-20T05:39:00.211Z"
   },
   {
    "duration": 12,
    "start_time": "2022-12-20T05:39:00.289Z"
   },
   {
    "duration": 36,
    "start_time": "2022-12-20T05:39:00.303Z"
   },
   {
    "duration": 77,
    "start_time": "2022-12-20T05:39:00.342Z"
   },
   {
    "duration": 53,
    "start_time": "2022-12-20T05:39:00.421Z"
   },
   {
    "duration": 42,
    "start_time": "2022-12-20T05:39:00.475Z"
   },
   {
    "duration": 25,
    "start_time": "2022-12-20T05:39:00.518Z"
   },
   {
    "duration": 92,
    "start_time": "2022-12-20T05:39:00.544Z"
   },
   {
    "duration": 65,
    "start_time": "2022-12-20T05:39:00.638Z"
   },
   {
    "duration": 35,
    "start_time": "2022-12-20T05:39:00.705Z"
   },
   {
    "duration": 36,
    "start_time": "2022-12-20T05:39:00.742Z"
   },
   {
    "duration": 50,
    "start_time": "2022-12-20T05:39:00.780Z"
   },
   {
    "duration": 54,
    "start_time": "2022-12-20T05:39:00.832Z"
   },
   {
    "duration": 37,
    "start_time": "2022-12-20T05:39:00.888Z"
   },
   {
    "duration": 37,
    "start_time": "2022-12-20T05:39:00.926Z"
   },
   {
    "duration": 56,
    "start_time": "2022-12-20T05:39:00.965Z"
   },
   {
    "duration": 558,
    "start_time": "2022-12-20T07:49:16.383Z"
   },
   {
    "duration": 19,
    "start_time": "2022-12-20T07:49:17.750Z"
   },
   {
    "duration": 13,
    "start_time": "2022-12-20T07:49:18.741Z"
   },
   {
    "duration": 10,
    "start_time": "2022-12-20T07:49:20.573Z"
   },
   {
    "duration": 31,
    "start_time": "2022-12-20T07:49:21.560Z"
   },
   {
    "duration": 4,
    "start_time": "2022-12-20T07:49:25.519Z"
   },
   {
    "duration": 7,
    "start_time": "2022-12-20T07:49:26.913Z"
   },
   {
    "duration": 4,
    "start_time": "2022-12-20T07:49:28.576Z"
   },
   {
    "duration": 8,
    "start_time": "2022-12-20T07:49:28.964Z"
   },
   {
    "duration": 6,
    "start_time": "2022-12-20T07:49:29.353Z"
   },
   {
    "duration": 30,
    "start_time": "2022-12-20T07:49:30.066Z"
   },
   {
    "duration": 15,
    "start_time": "2022-12-20T07:49:30.543Z"
   },
   {
    "duration": 65,
    "start_time": "2022-12-20T07:51:04.281Z"
   },
   {
    "duration": 1153,
    "start_time": "2022-12-20T07:51:13.909Z"
   },
   {
    "duration": 1114,
    "start_time": "2022-12-20T07:51:37.814Z"
   },
   {
    "duration": 8,
    "start_time": "2022-12-20T07:51:55.909Z"
   },
   {
    "duration": 77,
    "start_time": "2022-12-20T07:52:10.220Z"
   },
   {
    "duration": 13,
    "start_time": "2022-12-20T07:52:11.936Z"
   },
   {
    "duration": 14,
    "start_time": "2022-12-20T07:52:13.458Z"
   },
   {
    "duration": 10,
    "start_time": "2022-12-20T07:52:19.139Z"
   },
   {
    "duration": 1096,
    "start_time": "2022-12-20T07:52:23.956Z"
   },
   {
    "duration": 1096,
    "start_time": "2022-12-20T07:52:49.510Z"
   },
   {
    "duration": 1154,
    "start_time": "2022-12-20T07:53:07.007Z"
   },
   {
    "duration": 13,
    "start_time": "2022-12-20T07:53:24.912Z"
   },
   {
    "duration": 13,
    "start_time": "2022-12-20T07:54:36.947Z"
   },
   {
    "duration": 117,
    "start_time": "2022-12-20T07:55:01.916Z"
   },
   {
    "duration": 14,
    "start_time": "2022-12-20T07:55:12.078Z"
   },
   {
    "duration": 10,
    "start_time": "2022-12-20T07:55:31.244Z"
   },
   {
    "duration": 9,
    "start_time": "2022-12-20T07:55:38.847Z"
   },
   {
    "duration": 14,
    "start_time": "2022-12-20T08:08:56.374Z"
   },
   {
    "duration": 16,
    "start_time": "2022-12-20T08:09:11.545Z"
   },
   {
    "duration": 17,
    "start_time": "2022-12-20T08:09:25.143Z"
   },
   {
    "duration": 21,
    "start_time": "2022-12-20T08:09:40.460Z"
   },
   {
    "duration": 17,
    "start_time": "2022-12-20T08:10:18.853Z"
   },
   {
    "duration": 9,
    "start_time": "2022-12-20T08:10:42.099Z"
   },
   {
    "duration": 16,
    "start_time": "2022-12-20T08:11:15.097Z"
   },
   {
    "duration": 12,
    "start_time": "2022-12-20T08:13:42.282Z"
   },
   {
    "duration": 4,
    "start_time": "2022-12-20T08:14:30.145Z"
   },
   {
    "duration": 4,
    "start_time": "2022-12-20T08:14:42.189Z"
   },
   {
    "duration": 4,
    "start_time": "2022-12-20T08:14:44.220Z"
   },
   {
    "duration": 69,
    "start_time": "2022-12-20T08:15:10.528Z"
   },
   {
    "duration": 69,
    "start_time": "2022-12-20T08:15:13.390Z"
   },
   {
    "duration": 71,
    "start_time": "2022-12-20T08:15:19.674Z"
   },
   {
    "duration": 9,
    "start_time": "2022-12-20T08:15:42.052Z"
   },
   {
    "duration": 9,
    "start_time": "2022-12-20T08:15:54.849Z"
   },
   {
    "duration": 10,
    "start_time": "2022-12-20T08:16:02.908Z"
   },
   {
    "duration": 13,
    "start_time": "2022-12-20T08:16:25.293Z"
   },
   {
    "duration": 16,
    "start_time": "2022-12-20T08:16:52.458Z"
   },
   {
    "duration": 23,
    "start_time": "2022-12-20T08:18:36.646Z"
   },
   {
    "duration": 13,
    "start_time": "2022-12-20T08:18:56.745Z"
   },
   {
    "duration": 11,
    "start_time": "2022-12-20T08:20:48.034Z"
   },
   {
    "duration": 13,
    "start_time": "2022-12-20T08:21:12.481Z"
   },
   {
    "duration": 14,
    "start_time": "2022-12-20T08:22:12.039Z"
   },
   {
    "duration": 13,
    "start_time": "2022-12-20T08:22:50.907Z"
   },
   {
    "duration": 13,
    "start_time": "2022-12-20T08:23:26.525Z"
   },
   {
    "duration": 78,
    "start_time": "2022-12-20T08:25:30.511Z"
   },
   {
    "duration": 3,
    "start_time": "2022-12-20T08:25:36.290Z"
   },
   {
    "duration": 26,
    "start_time": "2022-12-20T08:34:07.096Z"
   },
   {
    "duration": 16,
    "start_time": "2022-12-20T08:34:07.124Z"
   },
   {
    "duration": 74,
    "start_time": "2022-12-20T08:34:15.509Z"
   },
   {
    "duration": 14,
    "start_time": "2022-12-20T08:34:17.094Z"
   },
   {
    "duration": 14,
    "start_time": "2022-12-20T08:34:18.684Z"
   },
   {
    "duration": 9,
    "start_time": "2022-12-20T08:34:25.951Z"
   },
   {
    "duration": 9,
    "start_time": "2022-12-20T08:37:00.282Z"
   },
   {
    "duration": 8,
    "start_time": "2022-12-20T08:37:37.678Z"
   },
   {
    "duration": 15,
    "start_time": "2022-12-20T08:38:42.980Z"
   },
   {
    "duration": 9,
    "start_time": "2022-12-20T08:38:49.304Z"
   },
   {
    "duration": 12,
    "start_time": "2022-12-20T08:39:40.388Z"
   },
   {
    "duration": 51,
    "start_time": "2022-12-20T08:40:12.938Z"
   },
   {
    "duration": 6,
    "start_time": "2022-12-20T08:40:16.330Z"
   },
   {
    "duration": 6,
    "start_time": "2022-12-20T08:40:20.698Z"
   },
   {
    "duration": 6,
    "start_time": "2022-12-20T08:41:08.842Z"
   },
   {
    "duration": 5,
    "start_time": "2022-12-20T08:41:27.982Z"
   },
   {
    "duration": 509,
    "start_time": "2022-12-20T08:41:37.516Z"
   },
   {
    "duration": 20,
    "start_time": "2022-12-20T08:41:42.081Z"
   },
   {
    "duration": 14,
    "start_time": "2022-12-20T08:41:48.902Z"
   },
   {
    "duration": 9,
    "start_time": "2022-12-20T08:41:52.492Z"
   },
   {
    "duration": 3,
    "start_time": "2022-12-20T08:41:59.283Z"
   },
   {
    "duration": 13,
    "start_time": "2022-12-20T08:42:03.731Z"
   },
   {
    "duration": 10,
    "start_time": "2022-12-20T08:42:23.299Z"
   },
   {
    "duration": 10,
    "start_time": "2022-12-20T08:42:36.799Z"
   },
   {
    "duration": 9,
    "start_time": "2022-12-20T08:42:41.414Z"
   },
   {
    "duration": 17,
    "start_time": "2022-12-20T08:45:01.654Z"
   },
   {
    "duration": 17,
    "start_time": "2022-12-20T08:52:01.620Z"
   },
   {
    "duration": 30,
    "start_time": "2022-12-20T08:52:21.616Z"
   },
   {
    "duration": 12,
    "start_time": "2022-12-20T08:52:31.110Z"
   },
   {
    "duration": 12,
    "start_time": "2022-12-20T08:52:35.295Z"
   },
   {
    "duration": 527,
    "start_time": "2022-12-20T10:26:47.385Z"
   },
   {
    "duration": 27,
    "start_time": "2022-12-20T10:26:48.207Z"
   },
   {
    "duration": 15,
    "start_time": "2022-12-20T10:26:49.690Z"
   },
   {
    "duration": 20,
    "start_time": "2022-12-20T10:27:32.652Z"
   },
   {
    "duration": 24,
    "start_time": "2022-12-20T10:28:08.254Z"
   },
   {
    "duration": 24,
    "start_time": "2022-12-20T10:28:29.605Z"
   },
   {
    "duration": 16,
    "start_time": "2022-12-20T10:28:50.803Z"
   },
   {
    "duration": 15,
    "start_time": "2022-12-20T10:28:54.533Z"
   },
   {
    "duration": 12,
    "start_time": "2022-12-20T10:28:55.896Z"
   },
   {
    "duration": 37,
    "start_time": "2022-12-20T10:28:56.833Z"
   },
   {
    "duration": 4,
    "start_time": "2022-12-20T10:28:58.026Z"
   },
   {
    "duration": 12,
    "start_time": "2022-12-20T10:28:58.825Z"
   },
   {
    "duration": 5,
    "start_time": "2022-12-20T10:29:00.320Z"
   },
   {
    "duration": 7,
    "start_time": "2022-12-20T10:29:00.599Z"
   },
   {
    "duration": 5,
    "start_time": "2022-12-20T10:29:00.863Z"
   },
   {
    "duration": 36,
    "start_time": "2022-12-20T10:29:01.275Z"
   },
   {
    "duration": 11,
    "start_time": "2022-12-20T10:29:01.553Z"
   },
   {
    "duration": 4,
    "start_time": "2022-12-20T10:29:01.980Z"
   },
   {
    "duration": 15,
    "start_time": "2022-12-20T10:29:02.516Z"
   },
   {
    "duration": 23,
    "start_time": "2022-12-20T10:29:02.793Z"
   },
   {
    "duration": 18,
    "start_time": "2022-12-20T10:29:02.945Z"
   },
   {
    "duration": 4,
    "start_time": "2022-12-20T10:29:03.680Z"
   },
   {
    "duration": 11,
    "start_time": "2022-12-20T10:29:03.834Z"
   },
   {
    "duration": 6,
    "start_time": "2022-12-20T10:29:04.516Z"
   },
   {
    "duration": 3,
    "start_time": "2022-12-20T10:29:05.209Z"
   },
   {
    "duration": 9,
    "start_time": "2022-12-20T10:29:07.265Z"
   },
   {
    "duration": 16,
    "start_time": "2022-12-20T10:29:08.922Z"
   },
   {
    "duration": 23,
    "start_time": "2022-12-20T10:29:12.767Z"
   },
   {
    "duration": 17,
    "start_time": "2022-12-20T10:29:16.367Z"
   },
   {
    "duration": 16,
    "start_time": "2022-12-20T10:29:19.346Z"
   },
   {
    "duration": 95,
    "start_time": "2022-12-20T10:29:34.470Z"
   },
   {
    "duration": 83,
    "start_time": "2022-12-20T10:29:55.240Z"
   },
   {
    "duration": 95,
    "start_time": "2022-12-20T10:30:12.990Z"
   },
   {
    "duration": 71,
    "start_time": "2022-12-20T10:30:38.236Z"
   },
   {
    "duration": 13,
    "start_time": "2022-12-20T10:34:59.530Z"
   },
   {
    "duration": 73,
    "start_time": "2022-12-20T10:35:07.430Z"
   },
   {
    "duration": 17,
    "start_time": "2022-12-20T10:35:08.612Z"
   },
   {
    "duration": 15,
    "start_time": "2022-12-20T10:35:11.108Z"
   },
   {
    "duration": 11,
    "start_time": "2022-12-20T10:35:15.966Z"
   }
  ],
  "colab": {
   "name": "dpp_template_part2.ipynb",
   "provenance": []
  },
  "kernelspec": {
   "display_name": "Python 3 (ipykernel)",
   "language": "python",
   "name": "python3"
  },
  "language_info": {
   "codemirror_mode": {
    "name": "ipython",
    "version": 3
   },
   "file_extension": ".py",
   "mimetype": "text/x-python",
   "name": "python",
   "nbconvert_exporter": "python",
   "pygments_lexer": "ipython3",
   "version": "3.9.13"
  },
  "toc": {
   "base_numbering": 1,
   "nav_menu": {},
   "number_sections": true,
   "sideBar": true,
   "skip_h1_title": true,
   "title_cell": "Table of Contents",
   "title_sidebar": "Contents",
   "toc_cell": false,
   "toc_position": {},
   "toc_section_display": true,
   "toc_window_display": true
  }
 },
 "nbformat": 4,
 "nbformat_minor": 5
}
