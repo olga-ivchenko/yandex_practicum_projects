{
 "cells": [
  {
   "cell_type": "markdown",
   "id": "7b0c4692",
   "metadata": {},
   "source": [
    "<br>**Заказчик исследования:** инвесторы фонда «Shut Up and Take My Money», планирующие открыть заведение общественного питания в Москве\n",
    "<br>**Цель исследования:** подготовить исследование рынка Москвы, найти интересные особенности, которые помогут в выборе подходящей локации\n",
    "<br>**База для исследования:** датасет с заведениями общественного питания Москвы, составленный на основе данных сервисов Яндекс Карты и Яндекс Бизнес на лето 2022 года\n",
    "<br>\n",
    "<br>\n",
    "Для достижения поставленных целей необходимо выполнить следующие этапы исследования:\n",
    "<br>\n",
    "1. Провести подготовку полученных данных\n",
    "2. Проанализировать данные по рынку в целом\n",
    "3. Проанализовать данные по сегменту кофеен, предложить потенциально успешную локацию для нового заведения\n",
    "4. Подготовить презентацию с основными выводами и рекомендациями"
   ]
  },
  {
   "cell_type": "markdown",
   "id": "56ffa9a4",
   "metadata": {},
   "source": [
    "# 1. Подготовка и предобработка данных"
   ]
  },
  {
   "cell_type": "code",
   "execution_count": null,
   "id": "f81a4189",
   "metadata": {},
   "outputs": [],
   "source": [
    "import pandas as pd\n",
    "import numpy as np\n",
    "from matplotlib import pyplot as plt\n",
    "import seaborn as sns\n",
    "import plotly.express as px\n",
    "import folium\n",
    "from folium import Map, Choropleth\n",
    "import json"
   ]
  },
  {
   "cell_type": "code",
   "execution_count": null,
   "id": "c5188819",
   "metadata": {},
   "outputs": [],
   "source": [
    "try:\n",
    "    data = pd.read_csv('moscow_places.csv') # загружаем локальный файл с данными\n",
    "except:\n",
    "    data = pd.read_csv('/datasets/moscow_places.csv')   # альтернативный пусть к данным для работы с других устройств"
   ]
  },
  {
   "cell_type": "code",
   "execution_count": null,
   "id": "b0d2c0f0",
   "metadata": {},
   "outputs": [],
   "source": [
    "plt.style.use('seaborn-colorblind') # устанавливаем единиый стиль для визуализации с помощью библиотеки seaborn"
   ]
  },
  {
   "cell_type": "markdown",
   "id": "a1e5609c",
   "metadata": {},
   "source": [
    "Запустим функцию для первичного анализа данных. Проанализируем есть ли пропуски и явные дубликаты:"
   ]
  },
  {
   "cell_type": "code",
   "execution_count": null,
   "id": "e7f1cfc6",
   "metadata": {},
   "outputs": [],
   "source": [
    "def initial_analysis(file):  \n",
    "    print('Общая информация о датасете:')\n",
    "    display(file.info())\n",
    "    print ('-----------------------------')\n",
    "    print('Первые 5 строчек датасета:')\n",
    "    display(file.head(5))\n",
    "    print ('-----------------------------')\n",
    "    print('Количество пропусков в датасете:')    \n",
    "    display(data.isna().sum())\n",
    "    print ('-----------------------------')\n",
    "    print('Количество явных дубликатов в датасете:')    \n",
    "    display(data.duplicated().sum())"
   ]
  },
  {
   "cell_type": "code",
   "execution_count": null,
   "id": "afdf5bad",
   "metadata": {},
   "outputs": [],
   "source": [
    "initial_analysis(data)"
   ]
  },
  {
   "cell_type": "markdown",
   "id": "e8e0f521",
   "metadata": {},
   "source": [
    "Представленный датасет содержит информацию о 8406 точках общественного питания. Приведенные названия столбцов корректны. Явные дубликаты в базе отсутствуют. \n",
    "Пропуски отмечаются в полях средний чек, средняя стоимость чашки кофе, категория цен в заведении, количество посадочных мест и часы работы.\n",
    "В столбце chain представляется желательным изменить тип данных на булевый, т.к возможны значения только 0 и 1.\n",
    "\n",
    "Необходимо проверить датасет на наличие неявных дубликатов, а также добавить новые столбцы: street с названиями улиц из столбца с адресом.\n",
    "и is_24/7 с обозначением, что заведение работает ежедневно и круглосуточно."
   ]
  },
  {
   "cell_type": "code",
   "execution_count": null,
   "id": "57c5e798",
   "metadata": {},
   "outputs": [],
   "source": [
    "data['chain']= data['chain'].astype(bool)  # переведем тип данных в столбце chain в bool"
   ]
  },
  {
   "cell_type": "code",
   "execution_count": null,
   "id": "b93b8870",
   "metadata": {},
   "outputs": [],
   "source": [
    " data.info()"
   ]
  },
  {
   "cell_type": "markdown",
   "id": "7b6b1c32",
   "metadata": {},
   "source": [
    "Приведем все названия заведений к нижнему регистру и посмотрим появились ли дубликаты теперь:"
   ]
  },
  {
   "cell_type": "code",
   "execution_count": null,
   "id": "c5e5909b",
   "metadata": {},
   "outputs": [],
   "source": [
    "data['name'] = data['name'].str.lower()\n",
    "data.duplicated().sum()"
   ]
  },
  {
   "cell_type": "markdown",
   "id": "5be3e1b4",
   "metadata": {},
   "source": [
    "Дубликатов по имени не появилось, посмотрим есть ли неявные дубликаты в сочетании название заведения + адрес "
   ]
  },
  {
   "cell_type": "code",
   "execution_count": null,
   "id": "f57f8368",
   "metadata": {},
   "outputs": [],
   "source": [
    "data[[\"name\", \"address\"]].duplicated().sum()"
   ]
  },
  {
   "cell_type": "markdown",
   "id": "b1139fb3",
   "metadata": {},
   "source": [
    "Найдем их в датасете:"
   ]
  },
  {
   "cell_type": "code",
   "execution_count": null,
   "id": "8d25e436",
   "metadata": {},
   "outputs": [],
   "source": [
    "data.loc[data[[\"name\", \"address\"]].duplicated()]"
   ]
  },
  {
   "cell_type": "markdown",
   "id": "7042a625",
   "metadata": {},
   "source": [
    "Рассмотрим каждое из этих заведений детально:"
   ]
  },
  {
   "cell_type": "code",
   "execution_count": null,
   "id": "dba4893c",
   "metadata": {},
   "outputs": [],
   "source": [
    "data.query('name == \"more poke\"')"
   ]
  },
  {
   "cell_type": "markdown",
   "id": "23ee7fa8",
   "metadata": {},
   "source": [
    "Перед нами явный дубликат - совпадают все данные кроме часов работы и указания сетевое/нет заведение. Оставляем вариант с сетевым - т.к. есть еще один ресторан в Духовском переулке.  "
   ]
  },
  {
   "cell_type": "code",
   "execution_count": null,
   "id": "c6977fc2",
   "metadata": {
    "scrolled": true
   },
   "outputs": [],
   "source": [
    "data.query('name == \"хлеб да выпечка\"')"
   ]
  },
  {
   "cell_type": "markdown",
   "id": "8b676e12",
   "metadata": {},
   "source": [
    "Дубликат, задвоение произошло видимо из-за разного названия категорий. Оставляем вариант с \"булочной\" - оно соответствует концепции заведения"
   ]
  },
  {
   "cell_type": "code",
   "execution_count": null,
   "id": "646de2db",
   "metadata": {},
   "outputs": [],
   "source": [
    "data.query('name == \"раковарня клешни и хвосты\"')"
   ]
  },
  {
   "cell_type": "markdown",
   "id": "e00bcf30",
   "metadata": {},
   "source": [
    "По одному адресу и с одним названием работает бар и ресторан, причем бар работает дольше чем ресторан по выходным. Выглядит достаточно реалистично, не считаем дубликатом. \n",
    "\n",
    "Первые два варианта дубликата удаляем из датасета."
   ]
  },
  {
   "cell_type": "code",
   "execution_count": null,
   "id": "d7b3e20f",
   "metadata": {},
   "outputs": [],
   "source": [
    "list_index = [1430, 3109]\n",
    "data = data.query('index not in @list_index')"
   ]
  },
  {
   "cell_type": "code",
   "execution_count": null,
   "id": "240c221f",
   "metadata": {},
   "outputs": [],
   "source": [
    "data.info()"
   ]
  },
  {
   "cell_type": "markdown",
   "id": "a3ec33c1",
   "metadata": {},
   "source": [
    "Удалилось два заведения. Переходим к выделению улиц из адресов заведений, используем метод split"
   ]
  },
  {
   "cell_type": "code",
   "execution_count": null,
   "id": "a9975604",
   "metadata": {},
   "outputs": [],
   "source": [
    "data['street'] = data['address'].str.split(',', expand = True)[1]"
   ]
  },
  {
   "cell_type": "code",
   "execution_count": null,
   "id": "78281951",
   "metadata": {
    "scrolled": true
   },
   "outputs": [],
   "source": [
    "data.head()"
   ]
  },
  {
   "cell_type": "markdown",
   "id": "20b7c5e3",
   "metadata": {},
   "source": [
    "Выделив улицы в отдельный столбец для дальнейшего анализа переходим к созданию столбца с информацией круглосуточно ли и всю неделю работает заведение:"
   ]
  },
  {
   "cell_type": "code",
   "execution_count": null,
   "id": "e1719f83",
   "metadata": {},
   "outputs": [],
   "source": [
    "data['is_24/7'] = \"\" # создаем пустой столбец"
   ]
  },
  {
   "cell_type": "code",
   "execution_count": null,
   "id": "ba94f0a1",
   "metadata": {},
   "outputs": [],
   "source": [
    "# заполняем его значениями True в случае если в столбце hours указано, что заведение работает \"ежедневно, круглосуточно\"\n",
    "\n",
    "data.loc[data['hours'] == 'ежедневно, круглосуточно', 'is_24/7'] = 'True'  "
   ]
  },
  {
   "cell_type": "code",
   "execution_count": null,
   "id": "fd5d707d",
   "metadata": {},
   "outputs": [],
   "source": [
    "# u False во всех других ситуациях\n",
    "\n",
    "data.loc[data['is_24/7'] == '', 'is_24/7'] = 'False'"
   ]
  },
  {
   "cell_type": "code",
   "execution_count": null,
   "id": "9780440b",
   "metadata": {},
   "outputs": [],
   "source": [
    "data.head(20)"
   ]
  },
  {
   "cell_type": "markdown",
   "id": "29307c2c",
   "metadata": {},
   "source": [
    "В завершении подготовки данных проанализируем как обстоит дело с выбросами в столбцах, содержащих числовые даные:"
   ]
  },
  {
   "cell_type": "code",
   "execution_count": null,
   "id": "b88d20dc",
   "metadata": {},
   "outputs": [],
   "source": [
    "data.describe()"
   ]
  },
  {
   "cell_type": "markdown",
   "id": "6f131390",
   "metadata": {},
   "source": [
    "Внешний вид разброса данных с географической широтой и долготой выглядит корректно, как и рейтинг - значения от 1 до 5, среднее 4.2\n",
    "<br>\n",
    "<br>\n",
    "Обращают на себя внимания наличие выбросов в полях middle_avg_bill, middle_coffee_cup и seats. Посмотрим на них внимательнее:"
   ]
  },
  {
   "cell_type": "code",
   "execution_count": null,
   "id": "b9bef0bc",
   "metadata": {
    "scrolled": true
   },
   "outputs": [],
   "source": [
    "data.query('middle_avg_bill < 50') "
   ]
  },
  {
   "cell_type": "markdown",
   "id": "80331407",
   "metadata": {},
   "source": [
    "Средний чек в заведении с шаурмой может быть 30 рублей, а вот в кофемании - нет. Уберем это значение из датасета."
   ]
  },
  {
   "cell_type": "code",
   "execution_count": null,
   "id": "67b0f780",
   "metadata": {},
   "outputs": [],
   "source": [
    "# меняем значение на пустое\n",
    "\n",
    "data.loc[[3688], 'middle_avg_bill'] = data.loc[[3688], 'middle_avg_bill'].replace(0.0, np.nan) "
   ]
  },
  {
   "cell_type": "markdown",
   "id": "a5f3f1b5",
   "metadata": {},
   "source": [
    "Теперь посмотрим на заведения со средним чеком выше 15000 "
   ]
  },
  {
   "cell_type": "code",
   "execution_count": null,
   "id": "2139a559",
   "metadata": {
    "scrolled": true
   },
   "outputs": [],
   "source": [
    "data.query('middle_avg_bill > 15000')"
   ]
  },
  {
   "cell_type": "markdown",
   "id": "c0ccf742",
   "metadata": {},
   "source": [
    "Возможно речь идет о банкетном зале, который ориентирован на большие мероприятия (свадьбы и тп), тогда средний чек возможен. Оставляем."
   ]
  },
  {
   "cell_type": "markdown",
   "id": "6d0ad546",
   "metadata": {},
   "source": [
    "Посмотрим на выброс в стоимость 1 чашки кофе. "
   ]
  },
  {
   "cell_type": "code",
   "execution_count": null,
   "id": "70822d17",
   "metadata": {
    "scrolled": true
   },
   "outputs": [],
   "source": [
    "data.query('middle_coffee_cup > 500')"
   ]
  },
  {
   "cell_type": "markdown",
   "id": "e8d5974d",
   "metadata": {},
   "source": [
    "В данных по шоколаднице ошибка, заполним значение средним по сети:"
   ]
  },
  {
   "cell_type": "code",
   "execution_count": null,
   "id": "9b080290",
   "metadata": {
    "scrolled": true
   },
   "outputs": [],
   "source": [
    "data.loc[[2859], 'middle_coffee_cup']  = data.query('name == \"шоколадница\"')['middle_coffee_cup'].median()\n",
    "data.describe()"
   ]
  },
  {
   "cell_type": "markdown",
   "id": "728bf639",
   "metadata": {},
   "source": [
    "Осталось разобраться с посадочными местами.  Посмотрим на все заведения с количеством посадочных мест более 1000:"
   ]
  },
  {
   "cell_type": "code",
   "execution_count": null,
   "id": "8b8a4021",
   "metadata": {
    "scrolled": true
   },
   "outputs": [],
   "source": [
    "(data\n",
    "    .query('seats > 1000')\n",
    "    .pivot_table(index = 'address', values = 'name', aggfunc= 'count')\n",
    "    .reset_index()\n",
    "    .sort_values('name', ascending=False)\n",
    ")"
   ]
  },
  {
   "cell_type": "markdown",
   "id": "614cd573",
   "metadata": {},
   "source": [
    "Если посмотреть детально эти адреса, то по ним расположены крупные развлекательные заведения, содержащие в себе большое количество ресторанов. Сумма посадочных мест, вероятно,указывается общая. Оставляем эти данные без изменений, но учитываем при дальнейшем анализе - работаем с медианными, а не средними показателями."
   ]
  },
  {
   "cell_type": "markdown",
   "id": "efbcfbf9",
   "metadata": {},
   "source": [
    "**Вывод:** предобработка данных завершена. В ее результате были удалены 2 дубликата и 1 выброс, данные проанализированы на предмет их корректности, подготовлены необходимые для дальнейшей работы поля. База готова к анализу."
   ]
  },
  {
   "cell_type": "markdown",
   "id": "ca2134a3",
   "metadata": {},
   "source": [
    "# 2. Анализ данных"
   ]
  },
  {
   "cell_type": "markdown",
   "id": "0940284c",
   "metadata": {},
   "source": [
    "## 2.1. Категории заведений "
   ]
  },
  {
   "cell_type": "markdown",
   "id": "a34e5842",
   "metadata": {},
   "source": [
    " Посмотрим какие виды заведений представлены в нашей базе:"
   ]
  },
  {
   "cell_type": "code",
   "execution_count": null,
   "id": "ab820937",
   "metadata": {},
   "outputs": [],
   "source": [
    "data['category'].unique()"
   ]
  },
  {
   "cell_type": "code",
   "execution_count": null,
   "id": "d8058d8e",
   "metadata": {},
   "outputs": [],
   "source": [
    "category =(data\n",
    "             .groupby('category')  # группируем по категориям\n",
    "            .agg(count=('address','count')) # считаем количество адресов\n",
    "           .reset_index()\n",
    "           .sort_values('count', ascending=False)  # сортируем по убыванию\n",
    ")\n",
    "category['percent'] = round((category['count'] / sum(category['count']) * 100), 2)  # добавляем рассчет доли\n",
    "category"
   ]
  },
  {
   "cell_type": "code",
   "execution_count": null,
   "id": "cb2dc1cf",
   "metadata": {},
   "outputs": [],
   "source": [
    "plt.figure(figsize=(10, 3))\n",
    "ax = sns.barplot( x='category', y='count', data=category,  alpha=0.8)   # строим барплот на основе рассчитанных данных\n",
    "ax.set_title('Количество заведений по категориям')\n",
    "ax.set_xlabel('Категория заведений') \n",
    "plt.xticks(rotation = 25)\n",
    "ax.set_ylabel('Количество')\n",
    "plt.show()"
   ]
  },
  {
   "cell_type": "markdown",
   "id": "7ba654bd",
   "metadata": {},
   "source": [
    "Всего по базе данных на лето 2022 года в Москве 8004 заведений общественного питания. Среди них больше всего заведений с общей категорией кафе (28% ), за ними следуют рестораны (24%) и кофейни (17%). "
   ]
  },
  {
   "cell_type": "markdown",
   "id": "695e65f7",
   "metadata": {},
   "source": [
    "Посмотрим на количество посадочных мест по категориям:"
   ]
  },
  {
   "cell_type": "code",
   "execution_count": null,
   "id": "cc1bf9af",
   "metadata": {
    "scrolled": true
   },
   "outputs": [],
   "source": [
    "seats =(data\n",
    "        .groupby('category')\n",
    "        .agg(median=('seats','median'))\n",
    "        .reset_index()\n",
    "        .sort_values('median', ascending=False)\n",
    ")\n",
    "seats"
   ]
  },
  {
   "cell_type": "code",
   "execution_count": null,
   "id": "8875fc0b",
   "metadata": {},
   "outputs": [],
   "source": [
    "plt.figure(figsize=(10, 3))\n",
    "ax = sns.barplot(x='category', y='median',  data=seats,  alpha=0.8) \n",
    "ax.set_title('Медианное количество посадочных мест по категориям заведений')\n",
    "ax.set_xlabel('Категория заведений') \n",
    "plt.xticks(rotation = 25)\n",
    "ax.set_ylabel('Количество мест')\n",
    "plt.show()"
   ]
  },
  {
   "cell_type": "markdown",
   "id": "d39fa863",
   "metadata": {},
   "source": [
    "Больше всего посадочных мест в ресторанах, барах и кофейнях. У чаще всего встречающихся кафе только 6 место, меньше всего мест обычно в булочных."
   ]
  },
  {
   "cell_type": "markdown",
   "id": "2c7f715b",
   "metadata": {},
   "source": [
    "## 2.2. Сетевые и несетевые заведения на рынке общественного питания Москвы "
   ]
  },
  {
   "cell_type": "markdown",
   "id": "13fd1195",
   "metadata": {},
   "source": [
    "Посмотрим количество сетевых и несетевых заведений на рынке Москвы:"
   ]
  },
  {
   "cell_type": "code",
   "execution_count": null,
   "id": "cbb7221d",
   "metadata": {},
   "outputs": [],
   "source": [
    "chain_all = (data\n",
    "         .pivot_table(index = 'chain', values = 'address', aggfunc = 'count' )\n",
    "         .reset_index()\n",
    ")  # создадим сводную таблицу\n",
    "chain_all\n",
    "chain_all.columns = ['Chain/not', 'qnt' ]\n",
    "chain_all['chain_percent'] = round(chain_all['qnt']/sum(chain_all['qnt'])*100,2)  # рассчитаем процентное соотношение\n",
    "chain_all = chain_all.sort_values('chain_percent', ascending=False)\n",
    "chain_all"
   ]
  },
  {
   "cell_type": "markdown",
   "id": "457b12e4",
   "metadata": {},
   "source": [
    "Нарисуем pie chart:"
   ]
  },
  {
   "cell_type": "code",
   "execution_count": null,
   "id": "ed5929b5",
   "metadata": {
    "scrolled": true
   },
   "outputs": [],
   "source": [
    "plt.figure(figsize=(8, 4))\n",
    "labels = ['несетевое', 'сетевое'] # устанавливаем подписи \n",
    "colors = sns.color_palette('pastel')[0:5]  # цветовую палитру\n",
    "# создаем диаграмму, подписывая значения:\n",
    "plt.pie(chain_all['chain_percent'], labels = labels, colors=colors, autopct='%.0f%%')  \n",
    "plt.title('Соотношение сетевых и несетевых заведений на рынке Москвы')\n",
    "plt.show()\n"
   ]
  },
  {
   "cell_type": "markdown",
   "id": "3ee480e5",
   "metadata": {},
   "source": [
    "Посмотрим аналогичное соотношение в разрезе по категориям заведений:"
   ]
  },
  {
   "cell_type": "code",
   "execution_count": null,
   "id": "90331875",
   "metadata": {
    "scrolled": true
   },
   "outputs": [],
   "source": [
    "chain = (data\n",
    "         .pivot_table(index = 'category', columns = 'chain', values = 'address', aggfunc = 'count' )\n",
    "         .reset_index()\n",
    ")\n",
    "chain.columns = ['category', 'not_chain', 'chain' ]\n",
    "chain['chain_percent'] = round(chain['chain']/(chain['chain']+chain['not_chain'])*100,2)\n",
    "chain = chain.sort_values('chain_percent', ascending=False)\n",
    "chain"
   ]
  },
  {
   "cell_type": "code",
   "execution_count": null,
   "id": "7e9da42e",
   "metadata": {
    "scrolled": true
   },
   "outputs": [],
   "source": [
    "plt.figure(figsize=(10, 3))\n",
    "sns.barplot(data=chain, x='category',y='chain_percent',  alpha=0.8)\n",
    "plt.title('Доля сетевых заведений по категориям')\n",
    "plt.xlabel('Категория заведений')\n",
    "plt.xticks(rotation = 25)\n",
    "plt.ylabel('Процентная доля сетевых игроков')\n",
    "plt.show()"
   ]
  },
  {
   "cell_type": "markdown",
   "id": "eacfb116",
   "metadata": {},
   "source": [
    "Среди булочных, пиццерий и кофеен сетевых игроков больше половины, что заметно выше среднего значения по рынку 38%. Больше всего сетевых заведений среди булочных - 61%"
   ]
  },
  {
   "cell_type": "markdown",
   "id": "3332990e",
   "metadata": {},
   "source": [
    "## 2.3. ТОП-15 популярных сетей "
   ]
  },
  {
   "cell_type": "markdown",
   "id": "abb5bf13",
   "metadata": {},
   "source": [
    "Сгруппируем данные по названиям заведений и найдем топ-15 популярных сетей в Москве с наибольшим количеством заведений"
   ]
  },
  {
   "cell_type": "code",
   "execution_count": null,
   "id": "17525199",
   "metadata": {
    "scrolled": true
   },
   "outputs": [],
   "source": [
    "top_15 = (data\n",
    "          .query('chain == True')  # выбираем сетевые заведения\n",
    "          .groupby('name')  # группируем по имени\n",
    "          .agg(category=('category', 'unique'),count=('address','count'))  # добавляем категории\n",
    "          .reset_index()\n",
    "          .sort_values('count', ascending=False) # сортируем по уменьшению количества\n",
    "          .head(15)  # отбираем первые 15\n",
    ")\n",
    "top_15"
   ]
  },
  {
   "cell_type": "code",
   "execution_count": null,
   "id": "e4d290f6",
   "metadata": {},
   "outputs": [],
   "source": [
    "top_15.loc[[418], 'name'] = 'кулинар. лавка\\n караваевых'  # видоизменим длинное название для визуализации данных"
   ]
  },
  {
   "cell_type": "code",
   "execution_count": null,
   "id": "ab0e1768",
   "metadata": {},
   "outputs": [],
   "source": [
    "plt.figure(figsize=(10, 3))\n",
    "sns.barplot(data=top_15, x='name',y='count',  alpha=0.8)\n",
    "plt.title('ТОП-15 самых популярных сетевых заведений')\n",
    "plt.xlabel('Название сети')\n",
    "plt.ylabel('Количество заведений в сети')\n",
    "plt.xticks(rotation = 45) # поворачиваем подписи по оси X для удобного прочтения графика\n",
    "plt.show()"
   ]
  },
  {
   "cell_type": "markdown",
   "id": "baba8ed0",
   "metadata": {},
   "source": [
    "Больше всего в Москве заведений сети \"Шоколадница\", \"Доминос'c пицца\", \"Додо пицца\" и \"One price coffee\" - таким образом в лидерах две пиццерии, и две кофейни. В ТОП-15 находятся преимущественно заведения быстрого питания, пиццерии или кофейни. "
   ]
  },
  {
   "cell_type": "markdown",
   "id": "8292fdb6",
   "metadata": {},
   "source": [
    "# 2.4. Разрез рынка по административным районам Москвы\n"
   ]
  },
  {
   "cell_type": "markdown",
   "id": "f106dae8",
   "metadata": {},
   "source": [
    "Посмотрим какие административные районы Москвы присутствуют в датасете, отобразим количество заведений и количество заведений каждой категории по районам"
   ]
  },
  {
   "cell_type": "code",
   "execution_count": null,
   "id": "ac379026",
   "metadata": {
    "scrolled": false
   },
   "outputs": [],
   "source": [
    "data['district'].unique() "
   ]
  },
  {
   "cell_type": "code",
   "execution_count": null,
   "id": "0e744644",
   "metadata": {
    "scrolled": true
   },
   "outputs": [],
   "source": [
    "district_all = (data\n",
    "          .groupby('district')  # группируем по округу\n",
    "          .agg(count=('address','count'))  # считаем количество адресов\n",
    "          .reset_index()\n",
    "          .sort_values('count', ascending=False) \n",
    "        )\n",
    "\n",
    "# используем сокращения названия районов для упрощения визуализации:\n",
    "district_all['district'] = district_all['district'].replace(\n",
    "    ['Центральный административный округ', 'Северный административный округ', \\\n",
    "     'Южный административный округ', 'Северо-Восточный административный округ', 'Западный административный округ', \\\n",
    "     'Восточный административный округ', 'Юго-Восточный административный округ', 'Юго-Западный административный округ', \\\n",
    "     'Северо-Западный административный округ'], \n",
    "    ['ЦАО', 'САО', 'ЮАО', 'СВАО', 'ЗАО', 'ВАО', 'ЮВАО', 'ЮЗАО', 'СЗАО'])\n",
    "             \n",
    "district_all     "
   ]
  },
  {
   "cell_type": "code",
   "execution_count": null,
   "id": "c08197e9",
   "metadata": {
    "scrolled": true
   },
   "outputs": [],
   "source": [
    "plt.figure(figsize=(8, 3))\n",
    "sns.barplot(x='district', y = 'count', data=district_all)\n",
    "plt.title('Количество заведений по административным округам')\n",
    "plt.xlabel('Административный округ')\n",
    "plt.ylabel('Количество заведений')\n",
    "plt.grid() # добавляем сетку\n",
    "plt.show()"
   ]
  },
  {
   "cell_type": "markdown",
   "id": "51349498",
   "metadata": {},
   "source": [
    "Больше всего заведений в ЦАО (2242), распределение заведений по остальным районам выглядит достаточно равномерно (от 700 до 900) за исключением СЗАО - там их меньше 500."
   ]
  },
  {
   "cell_type": "code",
   "execution_count": null,
   "id": "d677af9a",
   "metadata": {
    "scrolled": false
   },
   "outputs": [],
   "source": [
    "# сгруппируем данные по районам и категориями\n",
    "\n",
    "district = data.groupby(['district', 'category'], as_index = False)[['name']]\\\n",
    "            .count().sort_values('name', ascending = False)\n",
    "\n",
    "# используем сокращения названия районов для упрощения визуализации:\n",
    "district['district'] = district['district'].replace(\n",
    "    ['Центральный административный округ', 'Северный административный округ', \\\n",
    "     'Южный административный округ', 'Северо-Восточный административный округ', 'Западный административный округ', \\\n",
    "     'Восточный административный округ', 'Юго-Восточный административный округ', 'Юго-Западный административный округ', \\\n",
    "     'Северо-Западный административный округ'], \n",
    "    ['ЦАО', 'САО', 'ЮАО', 'СВАО', 'ЗАО', 'ВАО', 'ЮВАО', 'ЮЗАО', 'СЗАО'])"
   ]
  },
  {
   "cell_type": "markdown",
   "id": "e5dd4df5",
   "metadata": {},
   "source": [
    "Визуализируем с помощью столбчатого графика средствами seaborn:"
   ]
  },
  {
   "cell_type": "code",
   "execution_count": null,
   "id": "62c9a6f7",
   "metadata": {},
   "outputs": [],
   "source": [
    "plt.figure(figsize=(10, 5))\n",
    "sns.barplot(x='district', y = 'name', data=district, hue='category')\n",
    "plt.title('Количество заведений каждой категории по административным округам')\n",
    "plt.xlabel('Административный округ')\n",
    "plt.ylabel('Количество заведений')\n",
    "plt.legend(loc='upper right', fontsize=8) # выбираем положение легенды и указываем размер шрифта\n",
    "plt.grid() # добавляем сетку\n",
    "plt.show()"
   ]
  },
  {
   "cell_type": "markdown",
   "id": "edecef10",
   "metadata": {},
   "source": [
    "В разных районах свои лидеры - в ЦАО больше всего ресторанов, в остальных районах - кафе. "
   ]
  },
  {
   "cell_type": "markdown",
   "id": "abf32c4d",
   "metadata": {},
   "source": [
    "## 2.5. Рейтинг заведений по категориям\n"
   ]
  },
  {
   "cell_type": "markdown",
   "id": "81dc23a0",
   "metadata": {},
   "source": [
    "Визуализируем распределение средних рейтингов по категориям заведений и посмотрим сильно ли различаются усреднённые рейтинги в разных типах общепита"
   ]
  },
  {
   "cell_type": "code",
   "execution_count": null,
   "id": "7397439c",
   "metadata": {},
   "outputs": [],
   "source": [
    "round(data['rating'].mean(),1)"
   ]
  },
  {
   "cell_type": "markdown",
   "id": "10219af4",
   "metadata": {},
   "source": [
    "Из проведенного в первой части анализа базы мы помним, что в рейтингах отсутствуют выбросы, поэтому рассчитываем общее среднее - 4.2 балла - средняя оценка по всем заведениям рынка Москвы. Посмотрим детальнее по категориям:"
   ]
  },
  {
   "cell_type": "code",
   "execution_count": null,
   "id": "87a72c83",
   "metadata": {
    "scrolled": true
   },
   "outputs": [],
   "source": [
    "rating = round(data.groupby('category')['rating'].mean(), 1).sort_values(ascending = False).reset_index()\n",
    "rating"
   ]
  },
  {
   "cell_type": "code",
   "execution_count": null,
   "id": "63b27bb0",
   "metadata": {
    "scrolled": false
   },
   "outputs": [],
   "source": [
    "plt.figure(figsize=(8, 3))\n",
    "ax = sns.barplot(data=rating, y='rating', x='category', alpha=0.8)\n",
    "ax.set_title('Средний рейтинг по категориям')\n",
    "ax.set_xlabel('Средний рейтинг')\n",
    "ax.set_ylabel('Категории заведений')\n",
    "plt.xticks(rotation = 25)\n",
    "ax.set_ylim((3, 5))   # т.к. разница в рейтингах незначительна, то установим ограничение по оси y для лучшей визуализации\n",
    "\n",
    "plt.show()"
   ]
  },
  {
   "cell_type": "markdown",
   "id": "24ea53d5",
   "metadata": {},
   "source": [
    "Самую высокую оценку получили бары - 4.4, выше среднего также были оценены булочные, кофейни, пиццерии и рестораны (4.3). А вот рестораны быстрого питания и кафе чаще получают оценку ниже среднего - 4.1. "
   ]
  },
  {
   "cell_type": "markdown",
   "id": "c1389e17",
   "metadata": {},
   "source": [
    "## 2.6. Рейтинг заведений в разрезе по административным округам Москвы"
   ]
  },
  {
   "cell_type": "markdown",
   "id": "80029e42",
   "metadata": {},
   "source": [
    "Построим фоновую картограмму  со средним рейтингом заведений каждого района"
   ]
  },
  {
   "cell_type": "code",
   "execution_count": null,
   "id": "b049a2ff",
   "metadata": {},
   "outputs": [],
   "source": [
    "district_rating = round(data.groupby('district')['rating'].mean(), 1).sort_values(ascending = False).reset_index()\n",
    "district_rating"
   ]
  },
  {
   "cell_type": "code",
   "execution_count": null,
   "id": "41a30451",
   "metadata": {},
   "outputs": [],
   "source": [
    "state_geo = 'https://code.s3.yandex.net/data-analyst/admin_level_geomap.geojson'  # границы адмнистративных округов"
   ]
  },
  {
   "cell_type": "code",
   "execution_count": null,
   "id": "b2312b9f",
   "metadata": {},
   "outputs": [],
   "source": [
    "# moscow_lat - широта, moscow_lng – долгота\n",
    "moscow_lat, moscow_lng = 55.751244, 37.618423\n",
    "# создаём объект m – карту с центром в точке с координатами [moscow_lat, moscow_lng]\n",
    "moscow_rating = folium.Map(location=[moscow_lat, moscow_lng], zoom_start=10)"
   ]
  },
  {
   "cell_type": "code",
   "execution_count": null,
   "id": "279bbc7b",
   "metadata": {
    "scrolled": false
   },
   "outputs": [],
   "source": [
    "# создаём хороплет с помощью конструктора Choropleth и добавляем его на карту\n",
    "Choropleth(\n",
    "    geo_data=state_geo,\n",
    "    data=district_rating,\n",
    "    columns=['district', 'rating'],\n",
    "    key_on='feature.name',\n",
    "    fill_color='YlGn',\n",
    "    fill_opacity=0.8,\n",
    "    legend_name='Средний рейтинг заведений по районам',\n",
    ").add_to(moscow_rating)\n",
    "\n",
    "# выводим карту\n",
    "moscow_rating"
   ]
  },
  {
   "cell_type": "markdown",
   "id": "c94e079a",
   "metadata": {},
   "source": [
    "Самый высокий рейтинг - у заведений в ЦАО, ниже всего - в ЮВАО и САО."
   ]
  },
  {
   "cell_type": "markdown",
   "id": "f27da0bd",
   "metadata": {},
   "source": [
    " Теперь отобразим все заведения датасета на карте с помощью кластеров средствами библиотеки folium."
   ]
  },
  {
   "cell_type": "code",
   "execution_count": null,
   "id": "15543f77",
   "metadata": {
    "scrolled": true
   },
   "outputs": [],
   "source": [
    "# импортируем карту и маркер\n",
    "from folium import Map, Marker\n",
    "# импортируем кластер\n",
    "from folium.plugins import MarkerCluster\n",
    "\n",
    "# создаём пустой кластер, добавляем его на карту\n",
    "marker_cluster = MarkerCluster().add_to(moscow_rating)\n",
    "\n",
    "# пишем функцию, которая принимает строку датафрейма,\n",
    "# создаёт маркер в текущей точке и добавляет его в кластер marker_cluster\n",
    "def create_clusters(row):\n",
    "    Marker(\n",
    "        [row['lat'], row['lng']],\n",
    "        popup=f\"{row['name']} {row['rating']}\",\n",
    "    ).add_to(marker_cluster)\n",
    "\n",
    "# применяем функцию create_clusters() к каждой строке датафрейма\n",
    "data.apply(create_clusters, axis=1)\n",
    "\n",
    "# выводим карту\n",
    "moscow_rating"
   ]
  },
  {
   "cell_type": "markdown",
   "id": "4da5fa6a",
   "metadata": {},
   "source": [
    "ЦАО - несомненный лидер по количеству заведений, остальные заведения достаточно равномерно запределены по районам города, кроме юго-востока - там их меньше."
   ]
  },
  {
   "cell_type": "markdown",
   "id": "9dbee0fb",
   "metadata": {},
   "source": [
    "## 2.7. ТОП-15 улиц Москвы по количеству заведений\n"
   ]
  },
  {
   "cell_type": "markdown",
   "id": "f5c85d3b",
   "metadata": {},
   "source": [
    "Найдем топ-15 улиц по количеству заведений. Построим график распределения количества заведений и их категорий по этим улицам. "
   ]
  },
  {
   "cell_type": "code",
   "execution_count": null,
   "id": "3bac5f8e",
   "metadata": {
    "scrolled": true
   },
   "outputs": [],
   "source": [
    "top_15_street = (data\n",
    "                 .groupby('street')\n",
    "                 .agg(qnt=('address','count')).reset_index()\n",
    "                 .sort_values('qnt', ascending=False)\n",
    "                 .head(15)\n",
    "                )\n",
    "top_15_street "
   ]
  },
  {
   "cell_type": "code",
   "execution_count": null,
   "id": "1c751457",
   "metadata": {},
   "outputs": [],
   "source": [
    "top_15_street_list = top_15_street['street'].to_list()  # передаем список улиц в новый лист\n",
    "top_15_street_list"
   ]
  },
  {
   "cell_type": "code",
   "execution_count": null,
   "id": "7875aab3",
   "metadata": {},
   "outputs": [],
   "source": [
    "top_street_category = (data\n",
    "                        .query('street in @top_15_street_list')  # отбираем из датасета данные по топ-15 улицам\n",
    "                       # формируем сводную таблицу с уникальными названиями и категорями\n",
    "                       .pivot_table(index = ['street','category'], values = 'name', aggfunc = 'nunique')\n",
    "                       .reset_index()\n",
    "                      )\n",
    "top_street_category.columns = ['street', 'category', 'quantity']"
   ]
  },
  {
   "cell_type": "code",
   "execution_count": null,
   "id": "43fa75d5",
   "metadata": {
    "scrolled": true
   },
   "outputs": [],
   "source": [
    "# визуализируем информацию с помощью интерактивного графика:\n",
    "\n",
    "fig = px.bar(top_street_category,  x='quantity', y='street', color='category', \\\n",
    "             title='Распределение количества заведений и их категорий на топ-15 улицах')\n",
    "fig.update_xaxes(title_text = 'Количество заведений')\n",
    "fig.update_yaxes(title_text = '', categoryorder = 'total ascending')  # сортируем данные по убыванию общего кол-ва заведений\n",
    "fig.show()"
   ]
  },
  {
   "cell_type": "markdown",
   "id": "ab060806",
   "metadata": {},
   "source": [
    "Среди ТОП-15 самых популярных по количеству заведений улиц – крупные магистрали и большие, хорошо проходимые улицы - проспекты Мира, Вернадского, Ленинский, Ленинградский, Профсоюзная улица, Дмитровское, Варшавское, Каширское, Ленинградское шоссе и т.п. - все это протяженные, крупные транспортные артерии со значительным клиентопотоком.\n",
    "Проспект Мира - явный лидер по количеству заведений. Больше всего на ТОП-15 улицах ресторанов и кафе, за ними следуют кофейни, пиццерии и рестораны быстрого питания."
   ]
  },
  {
   "cell_type": "markdown",
   "id": "b33f1158",
   "metadata": {},
   "source": [
    "## 2.8. Улицы Москвы, где находится только один объект общепита\n"
   ]
  },
  {
   "cell_type": "markdown",
   "id": "8f5cc6eb",
   "metadata": {},
   "source": [
    "Найдем улицы, на которых находится только один объект общепита:"
   ]
  },
  {
   "cell_type": "code",
   "execution_count": null,
   "id": "50ed6cf7",
   "metadata": {},
   "outputs": [],
   "source": [
    "anti_top_street = (data.groupby('street')\n",
    "                   .agg(qnt=('address','nunique'))\n",
    "                   .reset_index().sort_values('qnt', ascending=True)\n",
    "                   .query('qnt ==1')\n",
    "                  )\n",
    "\n",
    "anti_top_street_list = anti_top_street['street'].to_list()  # сформируем лист с названиями этих улиц"
   ]
  },
  {
   "cell_type": "markdown",
   "id": "d9ffe073",
   "metadata": {},
   "source": [
    "Выгрузим из датасета информацию по заведениям, которые являются единственными на своих улицах:"
   ]
  },
  {
   "cell_type": "code",
   "execution_count": null,
   "id": "f08efe33",
   "metadata": {},
   "outputs": [],
   "source": [
    "anti_top = data.query('street in @anti_top_street_list')\n",
    "anti_top.groupby('category').agg(qnt = ('name', 'nunique')).reset_index().sort_values('qnt', ascending = False) "
   ]
  },
  {
   "cell_type": "markdown",
   "id": "1752d15d",
   "metadata": {},
   "source": [
    "Среди них больше всего кафе, ресторанов и кофеен. Посмотрим как они распределяются географически:"
   ]
  },
  {
   "cell_type": "code",
   "execution_count": null,
   "id": "662f7d56",
   "metadata": {
    "scrolled": true
   },
   "outputs": [],
   "source": [
    "moscow_anti_street = folium.Map(location=[moscow_lat, moscow_lng], zoom_start=10) # создадим новую карту Москвы\n",
    "\n",
    "# создаём пустой кластер, добавляем его на карту\n",
    "marker_cluster = MarkerCluster().add_to(moscow_anti_street)\n",
    "\n",
    "\n",
    "# пишем функцию, которая принимает строку датафрейма,\n",
    "# создаёт маркер в текущей точке и добавляет его в кластер marker_cluster\n",
    "def create_clusters(row):\n",
    "    Marker(\n",
    "        [row['lat'], row['lng']],\n",
    "        popup=f\"{row['name']} {row['rating']}\",\n",
    "    ).add_to(marker_cluster)\n",
    "\n",
    "# применяем функцию create_clusters() к каждой строке датафрейма\n",
    "anti_top.apply(create_clusters, axis=1)\n",
    "\n",
    "# выводим карту\n",
    "moscow_anti_street"
   ]
  },
  {
   "cell_type": "markdown",
   "id": "49f89612",
   "metadata": {},
   "source": [
    "Проанализировав карту можно сделать вывод, что заведения, которые являются единственными на своих улицах расположены достаточно равномерно по всему городу. Улицы, на которых они расположены, преимущественно небольшие, расположены далеко от основных улиц и магистралей и предположительно обладают небольшим клиентопотоком."
   ]
  },
  {
   "cell_type": "markdown",
   "id": "fabd6253",
   "metadata": {},
   "source": [
    "## 2.9. Средний чек заведений\n"
   ]
  },
  {
   "cell_type": "markdown",
   "id": "e304ab84",
   "metadata": {},
   "source": [
    "Посчитаем медиану среднего чека для каждого района. Используем это значение в качестве ценового индикатора района и посмотрим фоновую картограмму (хороплет) с полученными значениями для каждого района. "
   ]
  },
  {
   "cell_type": "code",
   "execution_count": null,
   "id": "5dfbb554",
   "metadata": {},
   "outputs": [],
   "source": [
    "district_avg_prices = (data.groupby('district')\n",
    "                       .agg(avg_bill=('middle_avg_bill', 'median'))\n",
    "                       .reset_index()\n",
    "                       .sort_values('avg_bill', ascending = False)\n",
    "                      )\n",
    "\n",
    "district_avg_prices"
   ]
  },
  {
   "cell_type": "code",
   "execution_count": null,
   "id": "48defd18",
   "metadata": {
    "scrolled": true
   },
   "outputs": [],
   "source": [
    "plt.figure(figsize=(8, 2))\n",
    "ax = sns.barplot(data=district_avg_prices, x='avg_bill', y='district', alpha=0.8)\n",
    "\n",
    "ax.set_title('Средний чек по районам')\n",
    "ax.set_ylabel('Административный округ')\n",
    "ax.set_xlabel('Средний чек')\n",
    "\n",
    "\n",
    "plt.show()"
   ]
  },
  {
   "cell_type": "code",
   "execution_count": null,
   "id": "12d0a5f8",
   "metadata": {},
   "outputs": [],
   "source": [
    "# создаём объект moscow_prices – новую карту с центром в точке с координатами [moscow_lat, moscow_lng]\n",
    "moscow_prices= folium.Map(location=[moscow_lat, moscow_lng], zoom_start=10)\n",
    "\n",
    "#создаём хороплет с помощью конструктора Choropleth и добавляем его на карту\n",
    "Choropleth(\n",
    "    geo_data=state_geo,\n",
    "    data=district_avg_prices,\n",
    "    columns=['district', 'avg_bill'],\n",
    "    key_on='feature.name',\n",
    "    fill_color='YlGn',\n",
    "    fill_opacity=0.8,\n",
    "    legend_name='Средний чек заведений по районам',\n",
    ").add_to(moscow_prices)\n",
    "\n",
    "# выводим карту\n",
    "moscow_prices"
   ]
  },
  {
   "cell_type": "markdown",
   "id": "3466ed5c",
   "metadata": {},
   "source": [
    "Самые высокие цены в ЦАО и ЗАО - средний чек составляет 1000 рублей. Можно заключить, что приближенность к центру влияет на рост среднего чека, помимо этого на него также влияет и общая престижность района - так, ЗАО хоть и удален от центра, но при этом является достаточно дорогим районом с соответствующими заведениями и уровнем цен в них."
   ]
  },
  {
   "cell_type": "markdown",
   "id": "a0e8d1cc",
   "metadata": {},
   "source": [
    "## 2.10 Общие выводы по анализу рынка общепита Москвы"
   ]
  },
  {
   "cell_type": "markdown",
   "id": "fcd69872",
   "metadata": {},
   "source": [
    "Всего по базе данных на лето 2022 года в Москве 8004 заведений общественного питания.\n",
    "Среди них больше всего заведений с общей категорией кафе (28% ), за ними следуют рестораны (24%) и кофейни (17%).\n",
    "<br>\n",
    "<br>\n",
    "**Посадочных мест** в среднем больше в ресторанах, барах и кофейнях – порядка 80-90 мест. Меньше всего мест обычно в булочных – около 50.\n",
    "<br>\n",
    "<br>\n",
    "**Крупные сети.** В соотношении по рынку всего 38% - сетевые заведения. При этом среди булочных, пиццерий и кофеен сетевых игроков заметно выше - больше половины. Больше всего сетевых заведений среди булочных - 61%.\n",
    "Больше всего в Москве заведений сети \"Шоколадница\", \"Доминос'c пицца\", \"Додо пицца\" и \"One price coffee\" - таким образом в лидерах две пиццерии, и две кофейни. Среди 15 самых популярных сетей Москвы преимущественно заведения быстрого питания, пиццерии или кофейни.\n",
    "<br>\n",
    "<br>\n",
    "**Рейтинг.**  Средняя оценка по всем заведениям рынка Москвы 4.2 балла  из 5, что говорит о достаточно высоком среднем уровне качества заведений. Самую высокую оценку в среднем получают бары - 4.4, выше среднего также были оценены булочные, кофейни, пиццерии и рестораны (4.3). А вот рестораны быстрого питания и кафе чаще получают оценку ниже среднего - 4.1.\n",
    "В разрезе по районам самый высокий рейтинг - у заведений в ЦАО, ниже всего - в ЮВАО и САО.\n",
    "<br>\n",
    "<br>\n",
    "**Локации.** Больше всего заведений в ЦАО (2242), распределение заведений по остальным районам выглядит достаточно равномерно (от 700 до 900) за исключением СЗАО - там их меньше 500.\n",
    "В разных районах наблюдаются свои лидеры по категориям заведений - например в ЦАО больше всего ресторанов, в остальных районах - кафе.\n",
    "<br>\n",
    "<br>\n",
    "**Популярные и непопулярные улицы Москвы.**\n",
    "Явный лидер по количеству заведений в Москве - Проспект Мира. Среди ТОП-15 самых популярных по количеству заведений улиц – крупные магистрали и большие, хорошо проходимые улицы с значительным клиентопотоком. Больше всего на ТОП-15 улицах ресторанов и кафе, за ними следуют кофейни, пиццерии и рестораны быстрого питания.\n",
    "Непопулярные улицы (на которых всего одно заведение) расположены достаточно равномерно по всему городу, преимущественно являются небольшими, расположенными далеко от основных улиц и магистралей.\n",
    "<br>\n",
    "<br>\n",
    "**Цены.** Самые высокие цены в ЦАО и ЗАО - средний чек составляет 1000 рублей. Можно заключить, что приближенность к центру влияет на рост среднего чека, помимо этого на него также влияет и общая престижность района - так, ЗАО хоть и удален от центра, но при этом является достаточно дорогим районом с соответствующими заведениями и уровнем цен в них."
   ]
  },
  {
   "cell_type": "markdown",
   "id": "97748c2a",
   "metadata": {},
   "source": [
    "# 3. Детализированное исследование: открытие кофейни\n"
   ]
  },
  {
   "cell_type": "markdown",
   "id": "a49dfb12",
   "metadata": {},
   "source": [
    "Проанализируем сегмент кофеен более детально. Всего среди заведений общественного питания Москвы по состоянию на лето 2022 года 1413 кофеен, что составляет 17% от их общего числа. "
   ]
  },
  {
   "cell_type": "markdown",
   "id": "1636ca3b",
   "metadata": {},
   "source": [
    "## 3.1 Общее количество и особенности расположений кофеен"
   ]
  },
  {
   "cell_type": "code",
   "execution_count": null,
   "id": "84c58403",
   "metadata": {
    "scrolled": false
   },
   "outputs": [],
   "source": [
    "coffee_data = data.query('category == \"кофейня\"')  # выделяем для анализа датасет с одними кофейнями\n",
    "coffee_data.info()"
   ]
  },
  {
   "cell_type": "markdown",
   "id": "b2b28e90",
   "metadata": {},
   "source": [
    "Посмотрим какие особенности расположения кофеен:"
   ]
  },
  {
   "cell_type": "code",
   "execution_count": null,
   "id": "575bb5b3",
   "metadata": {},
   "outputs": [],
   "source": [
    "сoffee_district = (coffee_data.groupby('district')\n",
    "     .agg(qnt=('address', 'nunique')).reset_index()\n",
    "     .sort_values('qnt', ascending = False)\n",
    ")\n",
    "сoffee_district['percent'] = round(сoffee_district['qnt']/сoffee_district['qnt'].sum()*100, 1)\n",
    "сoffee_district"
   ]
  },
  {
   "cell_type": "markdown",
   "id": "9d6e4863",
   "metadata": {},
   "source": [
    "Больше всего кофеен в ЦАО - свыше 30%."
   ]
  },
  {
   "cell_type": "markdown",
   "id": "6c60fa63",
   "metadata": {},
   "source": [
    "Построим карту с кластерами:"
   ]
  },
  {
   "cell_type": "code",
   "execution_count": null,
   "id": "bf5929a2",
   "metadata": {
    "scrolled": true
   },
   "outputs": [],
   "source": [
    "coffee_map= folium.Map(location=[moscow_lat, moscow_lng], zoom_start=10)\n",
    "\n",
    "# создаём пустой кластер, добавляем его на карту\n",
    "marker_cluster = MarkerCluster().add_to(coffee_map)\n",
    "\n",
    "\n",
    "# пишем функцию, которая принимает строку датафрейма,\n",
    "# создаёт маркер в текущей точке и добавляет его в кластер marker_cluster\n",
    "def create_clusters(row):\n",
    "    Marker(\n",
    "        [row['lat'], row['lng']],\n",
    "        popup=f\"{row['name']} {row['rating']}\",\n",
    "    ).add_to(marker_cluster)\n",
    "\n",
    "# применяем функцию create_clusters() к каждой строке датафрейма\n",
    "coffee_data.apply(create_clusters, axis=1)\n",
    "\n",
    "# выводим карту\n",
    "coffee_map"
   ]
  },
  {
   "cell_type": "markdown",
   "id": "4d585f90",
   "metadata": {},
   "source": [
    "## 3.2 Режим работы кофеен"
   ]
  },
  {
   "cell_type": "markdown",
   "id": "0e36538e",
   "metadata": {},
   "source": [
    "Посмотрим есть ли круглосуточные кофейни и какой у них рейтинг:"
   ]
  },
  {
   "cell_type": "code",
   "execution_count": null,
   "id": "306d98fc",
   "metadata": {},
   "outputs": [],
   "source": [
    "coffee_24 = coffee_data.groupby('is_24/7').agg(qnt = ('name', 'count'), rating = ('rating', 'mean'))\n",
    "coffee_24['rating'] = round(coffee_24['rating'], 1)\n",
    "coffee_24['percent'] = round(coffee_24['qnt']/coffee_24['qnt'].sum()*100, 1)"
   ]
  },
  {
   "cell_type": "code",
   "execution_count": null,
   "id": "62692a9d",
   "metadata": {},
   "outputs": [],
   "source": [
    "coffee_24"
   ]
  },
  {
   "cell_type": "markdown",
   "id": "43852610",
   "metadata": {},
   "source": [
    "Подавляющее количество кофеен (95,8%) не являются круглосуточными, при этом рейтинг у них на 0.1 п.п. выше - 4.3 против 4.2 у круглосуточных. Посмотрим какие часы работы чаще всего бывают у кофеен:"
   ]
  },
  {
   "cell_type": "code",
   "execution_count": null,
   "id": "d1da5abd",
   "metadata": {},
   "outputs": [],
   "source": [
    "coffee_data.groupby('hours').agg(qnt = ('name', 'count')).reset_index().sort_values('qnt', ascending = False)"
   ]
  },
  {
   "cell_type": "markdown",
   "id": "1c6c13b4",
   "metadata": {},
   "source": [
    "Чаще всего кофейни работают с 10 до 22 часов."
   ]
  },
  {
   "cell_type": "markdown",
   "id": "c0df5306",
   "metadata": {},
   "source": [
    "## 3.3. Рейтинги кофеен и их распределение по районам"
   ]
  },
  {
   "cell_type": "markdown",
   "id": "4f860fe5",
   "metadata": {},
   "source": [
    "\n",
    "Рассмотрим детальнее какие в целом у кофеен рейтинги и как они распределяются по районам:"
   ]
  },
  {
   "cell_type": "code",
   "execution_count": null,
   "id": "7a54c78b",
   "metadata": {},
   "outputs": [],
   "source": [
    "round(coffee_data['rating'].mean(),1)"
   ]
  },
  {
   "cell_type": "code",
   "execution_count": null,
   "id": "bd3b0520",
   "metadata": {},
   "outputs": [],
   "source": [
    "coffee_district_rating = round(coffee_data.groupby('district')['rating'].mean().reset_index()\\\n",
    "                               .sort_values('rating', ascending = False), 1)\n",
    "coffee_district_rating"
   ]
  },
  {
   "cell_type": "markdown",
   "id": "87055470",
   "metadata": {},
   "source": [
    "Рейтинги кофеен примерно схожи, но в ЮАО, ЮВАО, СВАО и ЗАО они чуть ниже среднего - 4.2 против 4.3 в среднем по рынку. Посмотрим на графике:"
   ]
  },
  {
   "cell_type": "code",
   "execution_count": null,
   "id": "a187bcb7",
   "metadata": {},
   "outputs": [],
   "source": [
    "ax = sns.barplot(x=\"rating\", y=\"district\", data=coffee_district_rating)\n",
    "ax.set_xlim(4, 5)  # устанавливаем ограничение по оси y\n",
    "ax.set_title('Средний рейтинг кофеен')\n",
    "ax.set_xlabel('Рейтинг кофеен')\n",
    "ax.set_ylabel('Административный округ')\n",
    "plt.show()"
   ]
  },
  {
   "cell_type": "markdown",
   "id": "c15c2d98",
   "metadata": {},
   "source": [
    "## 3.4 Средняя стоимость кружки кофе "
   ]
  },
  {
   "cell_type": "markdown",
   "id": "d9ac796a",
   "metadata": {},
   "source": [
    "Посмотрим на какую стоимость чашки капучино стоит ориентироваться при открытии:"
   ]
  },
  {
   "cell_type": "code",
   "execution_count": null,
   "id": "90136b6b",
   "metadata": {},
   "outputs": [],
   "source": [
    "coffee_data['middle_coffee_cup'].mean()  # средняя стоимость"
   ]
  },
  {
   "cell_type": "code",
   "execution_count": null,
   "id": "ec37d25b",
   "metadata": {},
   "outputs": [],
   "source": [
    "coffee_data['middle_coffee_cup'].median() # медианная"
   ]
  },
  {
   "cell_type": "code",
   "execution_count": null,
   "id": "72776d27",
   "metadata": {
    "scrolled": true
   },
   "outputs": [],
   "source": [
    "plt.figure(figsize=(4, 3))\n",
    "ax = sns.boxplot(y= 'middle_coffee_cup', data=coffee_data)\n",
    "ax.set_title('Средняя стоимость кружки кофе: ящик с усами')\n",
    "ax.set_ylabel('Средняя стоимость кофе')\n",
    "ax.set_ylim(0, 500)\n",
    "plt.show()"
   ]
  },
  {
   "cell_type": "code",
   "execution_count": null,
   "id": "dd322460",
   "metadata": {},
   "outputs": [],
   "source": [
    "coffee_data['middle_coffee_cup'].max()"
   ]
  },
  {
   "cell_type": "markdown",
   "id": "99e6e097",
   "metadata": {},
   "source": [
    "Средняя и медианная стоимость чашки кофе по рынку - 170-173 р., а максимальная - 375."
   ]
  },
  {
   "cell_type": "code",
   "execution_count": null,
   "id": "7ec21d26",
   "metadata": {},
   "outputs": [],
   "source": [
    "coffee_price = (round(coffee_data.groupby('district')['middle_coffee_cup']\n",
    "                .mean(), 1)\n",
    "                .reset_index()\n",
    "                .sort_values('middle_coffee_cup', ascending = False)\n",
    "               )\n",
    "coffee_price"
   ]
  },
  {
   "cell_type": "markdown",
   "id": "0c0133d6",
   "metadata": {},
   "source": [
    "Выше всего кружка кофе в среднем стоит в ЗАО, ЦАО и ЮЗАО - от 184 до 190 рублей. На это влияет более высокая аренда помещений в этих районах - в стоимость кружки кофе также закладывается и стоимость аренды помещения, а в ЦАО, ЗАО и ЮЗАО она выше. Плюс выше покупательская способность - клиенты в этих районах чаще готовы заплатить дороже за кофе."
   ]
  },
  {
   "cell_type": "markdown",
   "id": "416aaeca",
   "metadata": {},
   "source": [
  
   ]
  },
  {
   "cell_type": "markdown",
   "id": "616b25de",
   "metadata": {},
   "source": [
    "Посмотрим какое соотношение между стоимостью кружки кофе и ее ценой:"
   ]
  },
  {
   "cell_type": "code",
   "execution_count": null,
   "id": "7871caec",
   "metadata": {
    "scrolled": true
   },
   "outputs": [],
   "source": [
    "plt.figure(figsize=(8, 3))\n",
    "coffee_rating_price = round(coffee_data.groupby('rating')['middle_coffee_cup'].mean().reset_index(), 1)\n",
    "ax = sns.barplot(y=\"middle_coffee_cup\", x=\"rating\", data=coffee_rating_price)\n",
    "plt.grid(True)\n",
    "ax.set_title('Средняя стоимость кружки кофе и рейтинг кофеен')\n",
    "ax.set_xlabel('Рейтинг')\n",
    "ax.set_ylabel('Средняя стоимость кофе')\n",
    "plt.xticks(rotation = 45)\n",
    "plt.show()"
   ]
  },
  {
   "cell_type": "markdown",
   "id": "e65cdfca",
   "metadata": {},
   "source": [
    " При открытии не стоит превышать средний показатель, чтобы не отпугнуть потенциальных клиентов, а возможно стоит даже рассмотреть возможность сделать ниже рынка - во всяком случае в выбранном районе. Слишком дешевый кофе непопулярен - среди кофеен с рейтингом выше 4 баллов нет кружки кофе ниже 150."
   ]
  },
  {
   "cell_type": "code",
   "execution_count": null,
   "id": "c1dbac1e",
   "metadata": {},
   "outputs": [],
   "source": [
    "coffee_rating = (coffee_data\n",
    "              .groupby('district')\n",
    "              .agg(qnt=('address', 'nunique'), rating=('rating', 'mean'), \\\n",
    "                   avg_coffee_price=('middle_coffee_cup', 'median'))\n",
    "              .reset_index().sort_values('qnt', ascending = False)\n",
    "            )\n",
    "coffee_rating['rating'] = round(coffee_rating['rating'],1)\n",
    "coffee_rating"
   ]
  },
  {
   "cell_type": "code",
   "execution_count": null,
   "id": "50e95bb2",
   "metadata": {},
   "outputs": [],
   "source": [
    "# финально визуализируем информацию с помощью интерактивного графика:\n",
    "# используем сокращения названия районов для упрощения визуализации:\n",
    "coffee_rating['district'] = coffee_rating['district'].replace(\n",
    "    ['Центральный административный округ', 'Северный административный округ', \\\n",
    "     'Южный административный округ', 'Северо-Восточный административный округ', 'Западный административный округ', \\\n",
    "     'Восточный административный округ', 'Юго-Восточный административный округ', 'Юго-Западный административный округ', \\\n",
    "     'Северо-Западный административный округ'], \n",
    "    ['ЦАО', 'САО', 'ЮАО', 'СВАО', 'ЗАО', 'ВАО', 'ЮВАО', 'ЮЗАО', 'СЗАО'])\n",
    "\n",
    "fig = px.bar(coffee_rating,  x='district', y='qnt', color='avg_coffee_price', \\\n",
    "             title='Распределение кофеен по районам Москвы в разрезе по количеству и средней цене кружки кофе', \n",
    "#              text_auto = True\n",
    "            )\n",
    "fig.update_xaxes(title_text = 'Район Москвы')\n",
    "fig.update_yaxes(title_text = '', categoryorder = 'total ascending')  # сортируем данные по убыванию общего кол-ва заведений\n",
    "fig.show()"
   ]
  },
  {
   "cell_type": "markdown",
   "id": "6f055cde",
   "metadata": {},
   "source": [
    "## 3.5 Открытие кофейни: выводы и рекомендации"
   ]
  },
  {
   "cell_type": "markdown",
   "id": "ffe0d11b",
   "metadata": {},
   "source": [
    "**Выводы:**\n",
    "<br>\n",
    "**1.** Всего среди заведений общественного питания Москвы по состоянию на лето 2022 года 1413 кофеен, что составляет 17% от их общего числа. Свыше 30% кофеен расположены в ЦАО, меньше всего кофеен в ЮВАО, ЮЗАО и СЗАО.\n",
    "<br>\n",
    "**2.** Большинство кофеен не является круглосуточными, самый популярный график работы - с 10 утра до 10 вечера. \n",
    "<br>\n",
    "**3.** Рейтинги кофеен примерно схожи, но в ЮАО, ЮВАО, СВАО и ЗАО они чуть ниже среднего - 4.2 против 4.3 в среднем по рынку.\n",
    "<br>\n",
    "**4.** Средняя и медианная стоимость чашки кофе по рынку - 170-173 р., а максимальная - 375. Выше всего кружка кофе в среднем стоит в ЗАО, ЦАО и ЮЗАО - от 184 до 190 рублей. \n",
    "<br>\n",
    "**5.** При открытии не стоит превышать средний показатель, чтобы не отпугнуть потенциальных клиентов, а возможно стоит даже рассмотреть возможность сделать ниже рынка - во всяком случае в выбранном районе. Слишком дешевый кофе непопулярен - среди кофеен с рейтингом выше 4 баллов нет кружки кофе ниже 150.\n",
    "<br>\n",
    "<br>\n",
    "**Рекомендации:** Предлагаем рассмотреть возможность открыть кофейню в ЮЗАО, где кофеен достаточно мало относительно общего кол-ва кофеен в Москве,при этом средняя цена кружки кофе составляет 198 рублей, что значительно выше средней по Москве. Стоимость кружки кофе при открытии можно установить на уровне 165-170 рублей, что будет ниже средней по Москве и значительно ниже средней по району и позволит привлечь больше клиентов."
   ]
  },
  {
   "cell_type": "markdown",
   "id": "f7a0c620",
   "metadata": {},
   "source": [
    "# 4. Подготовка презентации"
   ]
  },
  {
   "cell_type": "markdown",
   "id": "71376e50",
   "metadata": {},
   "source": [
    "Презентация: https://drive.google.com/file/d/1CoppP2kMJ1PrDft2ZY83JGf7UI22hkKm/view?usp=share_link"
   ]
  }
 ],
 "metadata": {
  "ExecuteTimeLog": [
   {
    "duration": 1709,
    "start_time": "2023-05-15T09:14:58.939Z"
   },
   {
    "duration": 270,
    "start_time": "2023-05-15T09:15:00.651Z"
   },
   {
    "duration": 4,
    "start_time": "2023-05-15T09:15:00.923Z"
   },
   {
    "duration": 53,
    "start_time": "2023-05-15T09:15:00.930Z"
   },
   {
    "duration": 122,
    "start_time": "2023-05-15T09:15:00.985Z"
   },
   {
    "duration": 3,
    "start_time": "2023-05-15T09:15:01.109Z"
   },
   {
    "duration": 54,
    "start_time": "2023-05-15T09:15:01.114Z"
   },
   {
    "duration": 49,
    "start_time": "2023-05-15T09:15:01.170Z"
   },
   {
    "duration": 41,
    "start_time": "2023-05-15T09:15:01.221Z"
   },
   {
    "duration": 41,
    "start_time": "2023-05-15T09:15:01.267Z"
   },
   {
    "duration": 77,
    "start_time": "2023-05-15T09:15:01.310Z"
   },
   {
    "duration": 16,
    "start_time": "2023-05-15T09:15:01.388Z"
   },
   {
    "duration": 28,
    "start_time": "2023-05-15T09:15:01.406Z"
   },
   {
    "duration": 40,
    "start_time": "2023-05-15T09:15:01.437Z"
   },
   {
    "duration": 26,
    "start_time": "2023-05-15T09:15:01.480Z"
   },
   {
    "duration": 37,
    "start_time": "2023-05-15T09:15:01.507Z"
   },
   {
    "duration": 28,
    "start_time": "2023-05-15T09:15:01.546Z"
   },
   {
    "duration": 12,
    "start_time": "2023-05-15T09:15:01.577Z"
   },
   {
    "duration": 11,
    "start_time": "2023-05-15T09:15:01.591Z"
   },
   {
    "duration": 33,
    "start_time": "2023-05-15T09:15:01.604Z"
   },
   {
    "duration": 63,
    "start_time": "2023-05-15T09:15:01.639Z"
   },
   {
    "duration": 72,
    "start_time": "2023-05-15T09:15:01.703Z"
   },
   {
    "duration": 21,
    "start_time": "2023-05-15T09:15:01.777Z"
   },
   {
    "duration": 7,
    "start_time": "2023-05-15T09:15:01.799Z"
   },
   {
    "duration": 54,
    "start_time": "2023-05-15T09:15:01.808Z"
   },
   {
    "duration": 36,
    "start_time": "2023-05-15T09:15:01.864Z"
   },
   {
    "duration": 48,
    "start_time": "2023-05-15T09:15:01.902Z"
   },
   {
    "duration": 37,
    "start_time": "2023-05-15T09:15:01.954Z"
   },
   {
    "duration": 27,
    "start_time": "2023-05-15T09:15:01.993Z"
   },
   {
    "duration": 58,
    "start_time": "2023-05-15T09:15:02.022Z"
   },
   {
    "duration": 244,
    "start_time": "2023-05-15T09:15:02.082Z"
   },
   {
    "duration": 30,
    "start_time": "2023-05-15T09:15:02.328Z"
   },
   {
    "duration": 197,
    "start_time": "2023-05-15T09:15:02.360Z"
   },
   {
    "duration": 33,
    "start_time": "2023-05-15T09:15:02.559Z"
   },
   {
    "duration": 215,
    "start_time": "2023-05-15T09:15:02.593Z"
   },
   {
    "duration": 24,
    "start_time": "2023-05-15T09:15:02.809Z"
   },
   {
    "duration": 214,
    "start_time": "2023-05-15T09:15:02.834Z"
   },
   {
    "duration": 115,
    "start_time": "2023-05-15T09:15:03.050Z"
   },
   {
    "duration": 10,
    "start_time": "2023-05-15T09:15:03.168Z"
   },
   {
    "duration": 293,
    "start_time": "2023-05-15T09:15:03.181Z"
   },
   {
    "duration": 8,
    "start_time": "2023-05-15T09:15:03.478Z"
   },
   {
    "duration": 20,
    "start_time": "2023-05-15T09:15:03.488Z"
   },
   {
    "duration": 224,
    "start_time": "2023-05-15T09:15:03.510Z"
   },
   {
    "duration": 26,
    "start_time": "2023-05-15T09:15:03.736Z"
   },
   {
    "duration": 496,
    "start_time": "2023-05-15T09:15:03.765Z"
   },
   {
    "duration": 11,
    "start_time": "2023-05-15T09:15:04.262Z"
   },
   {
    "duration": 20,
    "start_time": "2023-05-15T09:15:04.275Z"
   },
   {
    "duration": 203,
    "start_time": "2023-05-15T09:15:04.297Z"
   },
   {
    "duration": 11,
    "start_time": "2023-05-15T09:15:04.502Z"
   },
   {
    "duration": 3,
    "start_time": "2023-05-15T09:15:04.514Z"
   },
   {
    "duration": 16,
    "start_time": "2023-05-15T09:15:04.518Z"
   },
   {
    "duration": 293,
    "start_time": "2023-05-15T09:15:04.536Z"
   },
   {
    "duration": 11296,
    "start_time": "2023-05-15T09:15:04.831Z"
   },
   {
    "duration": 54,
    "start_time": "2023-05-15T09:15:16.129Z"
   },
   {
    "duration": 6,
    "start_time": "2023-05-15T09:15:16.186Z"
   },
   {
    "duration": 84,
    "start_time": "2023-05-15T09:15:16.194Z"
   },
   {
    "duration": 919,
    "start_time": "2023-05-15T09:15:16.281Z"
   },
   {
    "duration": 21,
    "start_time": "2023-05-15T09:15:17.202Z"
   },
   {
    "duration": 53,
    "start_time": "2023-05-15T09:15:17.224Z"
   },
   {
    "duration": 992,
    "start_time": "2023-05-15T09:15:17.279Z"
   },
   {
    "duration": 18,
    "start_time": "2023-05-15T09:15:18.274Z"
   },
   {
    "duration": 253,
    "start_time": "2023-05-15T09:15:18.294Z"
   },
   {
    "duration": 173,
    "start_time": "2023-05-15T09:15:18.549Z"
   },
   {
    "duration": 39,
    "start_time": "2023-05-15T09:15:18.725Z"
   },
   {
    "duration": 21,
    "start_time": "2023-05-15T09:15:18.765Z"
   },
   {
    "duration": 1746,
    "start_time": "2023-05-15T09:15:18.788Z"
   },
   {
    "duration": 37,
    "start_time": "2023-05-15T09:15:20.536Z"
   },
   {
    "duration": 10,
    "start_time": "2023-05-15T09:15:20.576Z"
   },
   {
    "duration": 18,
    "start_time": "2023-05-15T09:15:20.588Z"
   },
   {
    "duration": 5,
    "start_time": "2023-05-15T09:15:20.608Z"
   },
   {
    "duration": 55,
    "start_time": "2023-05-15T09:15:20.615Z"
   },
   {
    "duration": 210,
    "start_time": "2023-05-15T09:15:20.671Z"
   },
   {
    "duration": 4,
    "start_time": "2023-05-15T09:15:20.884Z"
   },
   {
    "duration": 23,
    "start_time": "2023-05-15T09:15:20.890Z"
   },
   {
    "duration": 113,
    "start_time": "2023-05-15T09:15:20.915Z"
   },
   {
    "duration": 4,
    "start_time": "2023-05-15T09:15:21.030Z"
   },
   {
    "duration": 57,
    "start_time": "2023-05-15T09:15:21.036Z"
   },
   {
    "duration": 601,
    "start_time": "2023-05-15T09:15:21.095Z"
   },
   {
    "duration": 22,
    "start_time": "2023-05-15T09:15:21.698Z"
   },
   {
    "duration": 205,
    "start_time": "2023-05-15T09:15:21.722Z"
   },
   {
    "duration": 64,
    "start_time": "2023-05-15T09:15:57.420Z"
   },
   {
    "duration": 1944,
    "start_time": "2023-05-15T12:30:13.827Z"
   },
   {
    "duration": 377,
    "start_time": "2023-05-15T12:30:15.773Z"
   },
   {
    "duration": 4,
    "start_time": "2023-05-15T12:30:16.156Z"
   },
   {
    "duration": 13,
    "start_time": "2023-05-15T12:30:16.161Z"
   },
   {
    "duration": 86,
    "start_time": "2023-05-15T12:30:16.176Z"
   },
   {
    "duration": 4,
    "start_time": "2023-05-15T12:30:16.263Z"
   },
   {
    "duration": 49,
    "start_time": "2023-05-15T12:30:16.268Z"
   },
   {
    "duration": 54,
    "start_time": "2023-05-15T12:30:16.324Z"
   },
   {
    "duration": 8,
    "start_time": "2023-05-15T12:30:16.379Z"
   },
   {
    "duration": 74,
    "start_time": "2023-05-15T12:30:16.389Z"
   },
   {
    "duration": 33,
    "start_time": "2023-05-15T12:30:16.469Z"
   },
   {
    "duration": 55,
    "start_time": "2023-05-15T12:30:16.504Z"
   },
   {
    "duration": 63,
    "start_time": "2023-05-15T12:30:16.561Z"
   },
   {
    "duration": 62,
    "start_time": "2023-05-15T12:30:16.630Z"
   },
   {
    "duration": 51,
    "start_time": "2023-05-15T12:30:16.698Z"
   },
   {
    "duration": 33,
    "start_time": "2023-05-15T12:30:16.752Z"
   },
   {
    "duration": 21,
    "start_time": "2023-05-15T12:30:16.787Z"
   },
   {
    "duration": 53,
    "start_time": "2023-05-15T12:30:16.810Z"
   },
   {
    "duration": 11,
    "start_time": "2023-05-15T12:30:16.865Z"
   },
   {
    "duration": 7,
    "start_time": "2023-05-15T12:30:16.878Z"
   },
   {
    "duration": 60,
    "start_time": "2023-05-15T12:30:16.887Z"
   },
   {
    "duration": 36,
    "start_time": "2023-05-15T12:30:16.949Z"
   },
   {
    "duration": 22,
    "start_time": "2023-05-15T12:30:16.987Z"
   },
   {
    "duration": 46,
    "start_time": "2023-05-15T12:30:17.011Z"
   },
   {
    "duration": 30,
    "start_time": "2023-05-15T12:30:17.059Z"
   },
   {
    "duration": 59,
    "start_time": "2023-05-15T12:30:17.091Z"
   },
   {
    "duration": 32,
    "start_time": "2023-05-15T12:30:17.151Z"
   },
   {
    "duration": 32,
    "start_time": "2023-05-15T12:30:17.184Z"
   },
   {
    "duration": 46,
    "start_time": "2023-05-15T12:30:17.217Z"
   },
   {
    "duration": 23,
    "start_time": "2023-05-15T12:30:17.265Z"
   },
   {
    "duration": 194,
    "start_time": "2023-05-15T12:30:17.290Z"
   },
   {
    "duration": 28,
    "start_time": "2023-05-15T12:30:17.486Z"
   },
   {
    "duration": 225,
    "start_time": "2023-05-15T12:30:17.516Z"
   },
   {
    "duration": 20,
    "start_time": "2023-05-15T12:30:17.743Z"
   },
   {
    "duration": 198,
    "start_time": "2023-05-15T12:30:17.768Z"
   },
   {
    "duration": 24,
    "start_time": "2023-05-15T12:30:17.968Z"
   },
   {
    "duration": 191,
    "start_time": "2023-05-15T12:30:17.993Z"
   },
   {
    "duration": 78,
    "start_time": "2023-05-15T12:30:18.186Z"
   },
   {
    "duration": 4,
    "start_time": "2023-05-15T12:30:18.266Z"
   },
   {
    "duration": 273,
    "start_time": "2023-05-15T12:30:18.271Z"
   },
   {
    "duration": 9,
    "start_time": "2023-05-15T12:30:18.549Z"
   },
   {
    "duration": 24,
    "start_time": "2023-05-15T12:30:18.560Z"
   },
   {
    "duration": 176,
    "start_time": "2023-05-15T12:30:18.586Z"
   },
   {
    "duration": 14,
    "start_time": "2023-05-15T12:30:18.764Z"
   },
   {
    "duration": 485,
    "start_time": "2023-05-15T12:30:18.780Z"
   },
   {
    "duration": 5,
    "start_time": "2023-05-15T12:30:19.267Z"
   },
   {
    "duration": 30,
    "start_time": "2023-05-15T12:30:19.274Z"
   },
   {
    "duration": 225,
    "start_time": "2023-05-15T12:30:19.306Z"
   },
   {
    "duration": 16,
    "start_time": "2023-05-15T12:30:19.538Z"
   },
   {
    "duration": 9,
    "start_time": "2023-05-15T12:30:19.556Z"
   },
   {
    "duration": 11,
    "start_time": "2023-05-15T12:30:19.567Z"
   },
   {
    "duration": 397,
    "start_time": "2023-05-15T12:30:19.579Z"
   },
   {
    "duration": 11680,
    "start_time": "2023-05-15T12:30:19.977Z"
   },
   {
    "duration": 63,
    "start_time": "2023-05-15T12:30:31.659Z"
   },
   {
    "duration": 40,
    "start_time": "2023-05-15T12:30:31.724Z"
   },
   {
    "duration": 44,
    "start_time": "2023-05-15T12:30:31.766Z"
   },
   {
    "duration": 1001,
    "start_time": "2023-05-15T12:30:31.812Z"
   },
   {
    "duration": 21,
    "start_time": "2023-05-15T12:30:32.815Z"
   },
   {
    "duration": 87,
    "start_time": "2023-05-15T12:30:32.837Z"
   },
   {
    "duration": 930,
    "start_time": "2023-05-15T12:30:32.925Z"
   },
   {
    "duration": 17,
    "start_time": "2023-05-15T12:30:33.857Z"
   },
   {
    "duration": 268,
    "start_time": "2023-05-15T12:30:33.876Z"
   },
   {
    "duration": 171,
    "start_time": "2023-05-15T12:30:34.146Z"
   },
   {
    "duration": 25,
    "start_time": "2023-05-15T12:30:34.327Z"
   },
   {
    "duration": 21,
    "start_time": "2023-05-15T12:30:34.354Z"
   },
   {
    "duration": 1914,
    "start_time": "2023-05-15T12:30:34.377Z"
   },
   {
    "duration": 28,
    "start_time": "2023-05-15T12:30:36.292Z"
   },
   {
    "duration": 46,
    "start_time": "2023-05-15T12:30:36.322Z"
   },
   {
    "duration": 37,
    "start_time": "2023-05-15T12:30:36.370Z"
   },
   {
    "duration": 42,
    "start_time": "2023-05-15T12:30:36.410Z"
   },
   {
    "duration": 118,
    "start_time": "2023-05-15T12:30:36.454Z"
   },
   {
    "duration": 293,
    "start_time": "2023-05-15T12:30:36.580Z"
   },
   {
    "duration": 4,
    "start_time": "2023-05-15T12:30:36.875Z"
   },
   {
    "duration": 35,
    "start_time": "2023-05-15T12:30:36.881Z"
   },
   {
    "duration": 157,
    "start_time": "2023-05-15T12:30:36.921Z"
   },
   {
    "duration": 4,
    "start_time": "2023-05-15T12:30:37.080Z"
   },
   {
    "duration": 23,
    "start_time": "2023-05-15T12:30:37.086Z"
   },
   {
    "duration": 569,
    "start_time": "2023-05-15T12:30:37.115Z"
   },
   {
    "duration": 33,
    "start_time": "2023-05-15T12:30:37.686Z"
   },
   {
    "duration": 114,
    "start_time": "2023-05-15T12:30:37.722Z"
   },
   {
    "duration": 198,
    "start_time": "2023-05-15T12:33:22.722Z"
   },
   {
    "duration": 210,
    "start_time": "2023-05-15T12:33:37.632Z"
   },
   {
    "duration": 157,
    "start_time": "2023-05-15T12:33:56.018Z"
   },
   {
    "duration": 606,
    "start_time": "2023-05-15T12:34:05.427Z"
   },
   {
    "duration": 262,
    "start_time": "2023-05-15T12:34:27.976Z"
   },
   {
    "duration": 188,
    "start_time": "2023-05-15T12:34:42.649Z"
   },
   {
    "duration": 538,
    "start_time": "2023-05-15T12:34:52.947Z"
   },
   {
    "duration": 204,
    "start_time": "2023-05-15T12:35:13.967Z"
   },
   {
    "duration": 226,
    "start_time": "2023-05-15T12:36:38.839Z"
   },
   {
    "duration": 205,
    "start_time": "2023-05-15T12:36:47.930Z"
   },
   {
    "duration": 270,
    "start_time": "2023-05-15T12:37:34.759Z"
   },
   {
    "duration": 218,
    "start_time": "2023-05-15T12:38:32.920Z"
   },
   {
    "duration": 194,
    "start_time": "2023-05-15T12:44:50.823Z"
   },
   {
    "duration": 160,
    "start_time": "2023-05-15T12:44:59.022Z"
   },
   {
    "duration": 190,
    "start_time": "2023-05-15T12:45:05.158Z"
   },
   {
    "duration": 10,
    "start_time": "2023-05-15T16:45:28.201Z"
   },
   {
    "duration": 168,
    "start_time": "2023-05-15T16:45:28.214Z"
   },
   {
    "duration": 4,
    "start_time": "2023-05-15T16:45:28.385Z"
   },
   {
    "duration": 7,
    "start_time": "2023-05-15T16:45:28.395Z"
   },
   {
    "duration": 117,
    "start_time": "2023-05-15T16:45:28.404Z"
   },
   {
    "duration": 6,
    "start_time": "2023-05-15T16:45:28.523Z"
   },
   {
    "duration": 49,
    "start_time": "2023-05-15T16:45:28.531Z"
   },
   {
    "duration": 34,
    "start_time": "2023-05-15T16:45:28.583Z"
   },
   {
    "duration": 38,
    "start_time": "2023-05-15T16:45:28.620Z"
   },
   {
    "duration": 39,
    "start_time": "2023-05-15T16:45:28.662Z"
   },
   {
    "duration": 53,
    "start_time": "2023-05-15T16:45:28.705Z"
   },
   {
    "duration": 39,
    "start_time": "2023-05-15T16:45:28.760Z"
   },
   {
    "duration": 48,
    "start_time": "2023-05-15T16:45:28.802Z"
   },
   {
    "duration": 11,
    "start_time": "2023-05-15T16:45:28.853Z"
   },
   {
    "duration": 24,
    "start_time": "2023-05-15T16:45:28.866Z"
   },
   {
    "duration": 43,
    "start_time": "2023-05-15T16:45:28.893Z"
   },
   {
    "duration": 30,
    "start_time": "2023-05-15T16:45:28.957Z"
   },
   {
    "duration": 25,
    "start_time": "2023-05-15T16:45:28.989Z"
   },
   {
    "duration": 11,
    "start_time": "2023-05-15T16:45:29.017Z"
   },
   {
    "duration": 13,
    "start_time": "2023-05-15T16:45:29.030Z"
   },
   {
    "duration": 50,
    "start_time": "2023-05-15T16:45:29.046Z"
   },
   {
    "duration": 63,
    "start_time": "2023-05-15T16:45:29.099Z"
   },
   {
    "duration": 30,
    "start_time": "2023-05-15T16:45:29.164Z"
   },
   {
    "duration": 9,
    "start_time": "2023-05-15T16:45:29.196Z"
   },
   {
    "duration": 54,
    "start_time": "2023-05-15T16:45:29.208Z"
   },
   {
    "duration": 29,
    "start_time": "2023-05-15T16:45:29.265Z"
   },
   {
    "duration": 74,
    "start_time": "2023-05-15T16:45:29.297Z"
   },
   {
    "duration": 28,
    "start_time": "2023-05-15T16:45:29.378Z"
   },
   {
    "duration": 10,
    "start_time": "2023-05-15T16:45:29.408Z"
   },
   {
    "duration": 57,
    "start_time": "2023-05-15T16:45:29.420Z"
   },
   {
    "duration": 271,
    "start_time": "2023-05-15T16:45:29.480Z"
   },
   {
    "duration": 26,
    "start_time": "2023-05-15T16:45:29.753Z"
   },
   {
    "duration": 320,
    "start_time": "2023-05-15T16:45:29.782Z"
   },
   {
    "duration": 30,
    "start_time": "2023-05-15T16:45:30.105Z"
   },
   {
    "duration": 146,
    "start_time": "2023-05-15T16:45:30.158Z"
   },
   {
    "duration": 54,
    "start_time": "2023-05-15T16:45:30.307Z"
   },
   {
    "duration": 309,
    "start_time": "2023-05-15T16:45:30.364Z"
   },
   {
    "duration": 123,
    "start_time": "2023-05-15T16:45:30.676Z"
   },
   {
    "duration": 6,
    "start_time": "2023-05-15T16:45:30.802Z"
   },
   {
    "duration": 421,
    "start_time": "2023-05-15T16:45:30.810Z"
   },
   {
    "duration": 8,
    "start_time": "2023-05-15T16:45:31.234Z"
   },
   {
    "duration": 53,
    "start_time": "2023-05-15T16:45:31.244Z"
   },
   {
    "duration": 326,
    "start_time": "2023-05-15T16:45:31.299Z"
   },
   {
    "duration": 20,
    "start_time": "2023-05-15T16:45:31.631Z"
   },
   {
    "duration": 748,
    "start_time": "2023-05-15T16:45:31.656Z"
   },
   {
    "duration": 6,
    "start_time": "2023-05-15T16:45:32.408Z"
   },
   {
    "duration": 40,
    "start_time": "2023-05-15T16:45:32.418Z"
   },
   {
    "duration": 326,
    "start_time": "2023-05-15T16:45:32.460Z"
   },
   {
    "duration": 21,
    "start_time": "2023-05-15T16:45:32.789Z"
   },
   {
    "duration": 6,
    "start_time": "2023-05-15T16:45:32.814Z"
   },
   {
    "duration": 35,
    "start_time": "2023-05-15T16:45:32.823Z"
   },
   {
    "duration": 216,
    "start_time": "2023-05-15T16:45:32.860Z"
   },
   {
    "duration": 17666,
    "start_time": "2023-05-15T16:45:33.079Z"
   },
   {
    "duration": 39,
    "start_time": "2023-05-15T16:45:50.747Z"
   },
   {
    "duration": 11,
    "start_time": "2023-05-15T16:45:50.788Z"
   },
   {
    "duration": 62,
    "start_time": "2023-05-15T16:45:50.801Z"
   },
   {
    "duration": 308,
    "start_time": "2023-05-15T16:45:50.865Z"
   },
   {
    "duration": 93,
    "start_time": "2023-05-15T16:45:51.176Z"
   },
   {
    "duration": 36,
    "start_time": "2023-05-15T16:45:51.272Z"
   },
   {
    "duration": 1365,
    "start_time": "2023-05-15T16:45:51.311Z"
   },
   {
    "duration": 30,
    "start_time": "2023-05-15T16:45:52.680Z"
   },
   {
    "duration": 375,
    "start_time": "2023-05-15T16:45:52.714Z"
   },
   {
    "duration": 218,
    "start_time": "2023-05-15T16:45:53.091Z"
   },
   {
    "duration": 45,
    "start_time": "2023-05-15T16:45:53.312Z"
   },
   {
    "duration": 33,
    "start_time": "2023-05-15T16:45:53.360Z"
   },
   {
    "duration": 2667,
    "start_time": "2023-05-15T16:45:53.400Z"
   },
   {
    "duration": 40,
    "start_time": "2023-05-15T16:45:56.070Z"
   },
   {
    "duration": 56,
    "start_time": "2023-05-15T16:45:56.112Z"
   },
   {
    "duration": 29,
    "start_time": "2023-05-15T16:45:56.170Z"
   },
   {
    "duration": 7,
    "start_time": "2023-05-15T16:45:56.203Z"
   },
   {
    "duration": 52,
    "start_time": "2023-05-15T16:45:56.213Z"
   },
   {
    "duration": 344,
    "start_time": "2023-05-15T16:45:56.268Z"
   },
   {
    "duration": 8,
    "start_time": "2023-05-15T16:45:56.615Z"
   },
   {
    "duration": 32,
    "start_time": "2023-05-15T16:45:56.625Z"
   },
   {
    "duration": 179,
    "start_time": "2023-05-15T16:45:56.660Z"
   },
   {
    "duration": 7,
    "start_time": "2023-05-15T16:45:56.842Z"
   },
   {
    "duration": 22,
    "start_time": "2023-05-15T16:45:56.857Z"
   },
   {
    "duration": 530,
    "start_time": "2023-05-15T16:45:56.881Z"
   },
   {
    "duration": 55,
    "start_time": "2023-05-15T16:45:57.415Z"
   },
   {
    "duration": 103,
    "start_time": "2023-05-15T16:45:57.473Z"
   }
  ],
  "kernelspec": {
   "display_name": "Python 3 (ipykernel)",
   "language": "python",
   "name": "python3"
  },
  "language_info": {
   "codemirror_mode": {
    "name": "ipython",
    "version": 3
   },
   "file_extension": ".py",
   "mimetype": "text/x-python",
   "name": "python",
   "nbconvert_exporter": "python",
   "pygments_lexer": "ipython3",
   "version": "3.9.13"
  },
  "toc": {
   "base_numbering": 1,
   "nav_menu": {},
   "number_sections": true,
   "sideBar": true,
   "skip_h1_title": true,
   "title_cell": "Table of Contents",
   "title_sidebar": "Contents",
   "toc_cell": false,
   "toc_position": {},
   "toc_section_display": true,
   "toc_window_display": false
  }
 },
 "nbformat": 4,
 "nbformat_minor": 5
}
